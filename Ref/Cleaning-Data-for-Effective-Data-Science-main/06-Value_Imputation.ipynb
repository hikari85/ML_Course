{
 "cells": [
  {
   "cell_type": "markdown",
   "metadata": {},
   "source": [
    "# Value Imputation"
   ]
  },
  {
   "cell_type": "markdown",
   "metadata": {},
   "source": [
    "## Typical-value Imputation"
   ]
  },
  {
   "cell_type": "markdown",
   "metadata": {},
   "source": [
    "### Typical Tabular Data"
   ]
  },
  {
   "cell_type": "code",
   "execution_count": 1,
   "metadata": {},
   "outputs": [
    {
     "data": {
      "text/html": [
       "<div>\n",
       "<style scoped>\n",
       "    .dataframe tbody tr th:only-of-type {\n",
       "        vertical-align: middle;\n",
       "    }\n",
       "\n",
       "    .dataframe tbody tr th {\n",
       "        vertical-align: top;\n",
       "    }\n",
       "\n",
       "    .dataframe thead th {\n",
       "        text-align: right;\n",
       "    }\n",
       "</style>\n",
       "<table border=\"1\" class=\"dataframe\">\n",
       "  <thead>\n",
       "    <tr style=\"text-align: right;\">\n",
       "      <th></th>\n",
       "      <th>erythema</th>\n",
       "      <th>scaling</th>\n",
       "      <th>definite borders</th>\n",
       "      <th>itching</th>\n",
       "      <th>Age</th>\n",
       "      <th>TARGET</th>\n",
       "    </tr>\n",
       "  </thead>\n",
       "  <tbody>\n",
       "    <tr>\n",
       "      <th>247</th>\n",
       "      <td>2</td>\n",
       "      <td>2</td>\n",
       "      <td>2</td>\n",
       "      <td>0</td>\n",
       "      <td>62</td>\n",
       "      <td>psoriasis</td>\n",
       "    </tr>\n",
       "    <tr>\n",
       "      <th>127</th>\n",
       "      <td>2</td>\n",
       "      <td>2</td>\n",
       "      <td>2</td>\n",
       "      <td>2</td>\n",
       "      <td>44</td>\n",
       "      <td>lichen planus</td>\n",
       "    </tr>\n",
       "    <tr>\n",
       "      <th>230</th>\n",
       "      <td>3</td>\n",
       "      <td>2</td>\n",
       "      <td>0</td>\n",
       "      <td>1</td>\n",
       "      <td>30</td>\n",
       "      <td>seboreic dermatitis</td>\n",
       "    </tr>\n",
       "    <tr>\n",
       "      <th>162</th>\n",
       "      <td>3</td>\n",
       "      <td>2</td>\n",
       "      <td>2</td>\n",
       "      <td>2</td>\n",
       "      <td>22</td>\n",
       "      <td>lichen planus</td>\n",
       "    </tr>\n",
       "    <tr>\n",
       "      <th>159</th>\n",
       "      <td>3</td>\n",
       "      <td>2</td>\n",
       "      <td>2</td>\n",
       "      <td>1</td>\n",
       "      <td>47</td>\n",
       "      <td>seboreic dermatitis</td>\n",
       "    </tr>\n",
       "    <tr>\n",
       "      <th>296</th>\n",
       "      <td>2</td>\n",
       "      <td>1</td>\n",
       "      <td>1</td>\n",
       "      <td>3</td>\n",
       "      <td>19</td>\n",
       "      <td>cronic dermatitis</td>\n",
       "    </tr>\n",
       "  </tbody>\n",
       "</table>\n",
       "</div>"
      ],
      "text/plain": [
       "     erythema  scaling  definite borders  itching Age               TARGET\n",
       "247         2        2                 2        0  62            psoriasis\n",
       "127         2        2                 2        2  44        lichen planus\n",
       "230         3        2                 0        1  30  seboreic dermatitis\n",
       "162         3        2                 2        2  22        lichen planus\n",
       "159         3        2                 2        1  47  seboreic dermatitis\n",
       "296         2        1                 1        3  19    cronic dermatitis"
      ]
     },
     "execution_count": 1,
     "metadata": {},
     "output_type": "execute_result"
    }
   ],
   "source": [
    "from src.setup import *\n",
    "from src.dermatology import *\n",
    "df.iloc[:, [0, 1, 2, 3, -2, -1]].sample(6)"
   ]
  },
  {
   "cell_type": "code",
   "execution_count": 2,
   "metadata": {},
   "outputs": [],
   "source": [
    "clean, suspicious = [], {}\n",
    "for col in df.columns:\n",
    "    values = df[col].unique()\n",
    "    if set(values) <= {0, 1, 2, 3}:\n",
    "        clean.append(col)\n",
    "    else:\n",
    "        suspicious[col] = values"
   ]
  },
  {
   "cell_type": "code",
   "execution_count": 3,
   "metadata": {},
   "outputs": [
    {
     "name": "stdout",
     "output_type": "stream",
     "text": [
      "No problem detected:\n",
      "['erythema',\n",
      " 'scaling',\n",
      " 'definite borders',\n",
      " 'itching',\n",
      " 'koebner phenomenon',\n",
      " 'polygonal papules',\n",
      " 'follicular papules',\n",
      " 'oral mucosal involvement']\n",
      "... 25 other fields\n"
     ]
    }
   ],
   "source": [
    "print(\"No problem detected:\")\n",
    "pprint(clean[:8])\n",
    "print(f\"... {len(clean)-8} other fields\")"
   ]
  },
  {
   "cell_type": "code",
   "execution_count": 4,
   "metadata": {},
   "outputs": [
    {
     "name": "stdout",
     "output_type": "stream",
     "text": [
      "Suspicious:\n",
      "{'Age': array(['55', '8', '26', '40', '45', '41', '18', '57', '22', '30', '20',\n",
      "       '21', '10', '65', '38', '23', '17', '51', '42', '44', '33', '43',\n",
      "       '50', '34', '?', '15', '46', '62', '35', '48', '12', '52', '60',\n",
      "       '32', '19', '29', '25', '36', '13', '27', '31', '28', '64', '39',\n",
      "       '47', '16', '0', '7', '70', '37', '61', '67', '56', '53', '24',\n",
      "       '58', '49', '63', '68', '9', '75'], dtype=object),\n",
      " 'TARGET': array(['seboreic dermatitis', 'psoriasis', 'lichen planus',\n",
      "       'cronic dermatitis', 'pityriasis rosea',\n",
      "       'pityriasis rubra pilaris'], dtype=object)}\n"
     ]
    }
   ],
   "source": [
    "# Notice age has some expected ages and also a '?'\n",
    "print(\"Suspicious:\")\n",
    "pprint(suspicious)"
   ]
  },
  {
   "cell_type": "code",
   "execution_count": 5,
   "metadata": {},
   "outputs": [
    {
     "data": {
      "text/html": [
       "<div>\n",
       "<style scoped>\n",
       "    .dataframe tbody tr th:only-of-type {\n",
       "        vertical-align: middle;\n",
       "    }\n",
       "\n",
       "    .dataframe tbody tr th {\n",
       "        vertical-align: top;\n",
       "    }\n",
       "\n",
       "    .dataframe thead th {\n",
       "        text-align: right;\n",
       "    }\n",
       "</style>\n",
       "<table border=\"1\" class=\"dataframe\">\n",
       "  <thead>\n",
       "    <tr style=\"text-align: right;\">\n",
       "      <th></th>\n",
       "      <th>inflammatory monoluclear inflitrate</th>\n",
       "      <th>band-like infiltrate</th>\n",
       "      <th>Age</th>\n",
       "      <th>TARGET</th>\n",
       "    </tr>\n",
       "  </thead>\n",
       "  <tbody>\n",
       "    <tr>\n",
       "      <th>33</th>\n",
       "      <td>0</td>\n",
       "      <td>0</td>\n",
       "      <td>NaN</td>\n",
       "      <td>psoriasis</td>\n",
       "    </tr>\n",
       "    <tr>\n",
       "      <th>34</th>\n",
       "      <td>0</td>\n",
       "      <td>0</td>\n",
       "      <td>NaN</td>\n",
       "      <td>pityriasis rosea</td>\n",
       "    </tr>\n",
       "    <tr>\n",
       "      <th>35</th>\n",
       "      <td>0</td>\n",
       "      <td>0</td>\n",
       "      <td>NaN</td>\n",
       "      <td>seboreic dermatitis</td>\n",
       "    </tr>\n",
       "    <tr>\n",
       "      <th>36</th>\n",
       "      <td>0</td>\n",
       "      <td>3</td>\n",
       "      <td>NaN</td>\n",
       "      <td>lichen planus</td>\n",
       "    </tr>\n",
       "    <tr>\n",
       "      <th>262</th>\n",
       "      <td>3</td>\n",
       "      <td>0</td>\n",
       "      <td>NaN</td>\n",
       "      <td>cronic dermatitis</td>\n",
       "    </tr>\n",
       "    <tr>\n",
       "      <th>263</th>\n",
       "      <td>2</td>\n",
       "      <td>0</td>\n",
       "      <td>NaN</td>\n",
       "      <td>cronic dermatitis</td>\n",
       "    </tr>\n",
       "    <tr>\n",
       "      <th>264</th>\n",
       "      <td>3</td>\n",
       "      <td>0</td>\n",
       "      <td>NaN</td>\n",
       "      <td>cronic dermatitis</td>\n",
       "    </tr>\n",
       "    <tr>\n",
       "      <th>265</th>\n",
       "      <td>3</td>\n",
       "      <td>0</td>\n",
       "      <td>NaN</td>\n",
       "      <td>cronic dermatitis</td>\n",
       "    </tr>\n",
       "  </tbody>\n",
       "</table>\n",
       "</div>"
      ],
      "text/plain": [
       "     inflammatory monoluclear inflitrate  band-like infiltrate  Age  \\\n",
       "33                                     0                     0  NaN   \n",
       "34                                     0                     0  NaN   \n",
       "35                                     0                     0  NaN   \n",
       "36                                     0                     3  NaN   \n",
       "262                                    3                     0  NaN   \n",
       "263                                    2                     0  NaN   \n",
       "264                                    3                     0  NaN   \n",
       "265                                    3                     0  NaN   \n",
       "\n",
       "                  TARGET  \n",
       "33             psoriasis  \n",
       "34      pityriasis rosea  \n",
       "35   seboreic dermatitis  \n",
       "36         lichen planus  \n",
       "262    cronic dermatitis  \n",
       "263    cronic dermatitis  \n",
       "264    cronic dermatitis  \n",
       "265    cronic dermatitis  "
      ]
     },
     "execution_count": 5,
     "metadata": {},
     "output_type": "execute_result"
    }
   ],
   "source": [
    "# Assign missing ages marked with '?' as None\n",
    "df.loc[df.Age == '?', 'Age'] = None  # or NaN\n",
    "# Convert string/None ages to floating-point\n",
    "df['Age'] = df.Age.astype(float)\n",
    "# Display those rows with missing ages\n",
    "df.loc[df.Age.isnull()].iloc[:, -4:]"
   ]
  },
  {
   "cell_type": "code",
   "execution_count": 6,
   "metadata": {},
   "outputs": [
    {
     "data": {
      "text/plain": [
       "0    40.0\n",
       "1    50.0\n",
       "dtype: float64"
      ]
     },
     "execution_count": 6,
     "metadata": {},
     "output_type": "execute_result"
    }
   ],
   "source": [
    "df.Age.mode()"
   ]
  },
  {
   "cell_type": "code",
   "execution_count": 7,
   "metadata": {},
   "outputs": [
    {
     "data": {
      "image/png": "[encoded data removed]",
      "text/plain": [
       "<Figure size 600x400 with 1 Axes>"
      ]
     },
     "metadata": {},
     "output_type": "display_data"
    }
   ],
   "source": [
    "(df.Age\n",
    "   .value_counts()\n",
    "   .sort_index()\n",
    "   .plot(kind=\"bar\", yticks=[], xticks=[], \n",
    "         title=\"Age distribution of patients \"\n",
    "               f\"({df.Age.min():.0f} to {df.Age.max():.0f})\")\n",
    ")\n",
    "plt.savefig(\"img/(Ch06)Age distribution of patients.png\")"
   ]
  },
  {
   "cell_type": "code",
   "execution_count": 8,
   "metadata": {},
   "outputs": [
    {
     "data": {
      "text/plain": [
       "(36.29608938547486, 35.0)"
      ]
     },
     "execution_count": 8,
     "metadata": {},
     "output_type": "execute_result"
    }
   ],
   "source": [
    "df.Age.mean(), df.Age.median()"
   ]
  },
  {
   "cell_type": "code",
   "execution_count": 9,
   "metadata": {},
   "outputs": [
    {
     "data": {
      "text/plain": [
       "35.0    22\n",
       "50.0    17\n",
       "40.0    17\n",
       "36.0    16\n",
       "27.0    16\n",
       "Name: Age, dtype: int64"
      ]
     },
     "execution_count": 9,
     "metadata": {},
     "output_type": "execute_result"
    }
   ],
   "source": [
    "df.loc[df.Age.isnull(), 'Age'] = df.Age.median()\n",
    "df.Age.value_counts().head()"
   ]
  },
  {
   "cell_type": "markdown",
   "metadata": {},
   "source": [
    "### Locality Imputation"
   ]
  },
  {
   "cell_type": "code",
   "execution_count": 10,
   "metadata": {},
   "outputs": [
    {
     "name": "stdout",
     "output_type": "stream",
     "text": [
      "Array shape: (50, 8, 8)\n"
     ]
    }
   ],
   "source": [
    "print(\"Array shape:\", digits.shape)"
   ]
  },
  {
   "cell_type": "code",
   "execution_count": 11,
   "metadata": {},
   "outputs": [
    {
     "data": {
      "image/png": "[encoded data removed]",
      "text/plain": [
       "<Figure size 750x750 with 9 Axes>"
      ]
     },
     "metadata": {},
     "output_type": "display_data"
    }
   ],
   "source": [
    "show_digits(digits, title=\"Digits with missing pixels\")"
   ]
  },
  {
   "cell_type": "code",
   "execution_count": 12,
   "metadata": {},
   "outputs": [],
   "source": [
    "# Coded for clarity, not for best vectorized speed\n",
    "# Function definition only; used in later cell\n",
    "def fill_missing(digit):\n",
    "    digit = digit.copy()\n",
    "    missing = np.where(digit == -1)\n",
    "    for y, x in zip(*missing):  # Pull off x/y position of pixel\n",
    "        # Do not want negative indices in slice\n",
    "        x_start = max(0, x-1)\n",
    "        y_start = max(0, y-1)\n",
    "        # No harm in index larger than size\n",
    "        x_end = x+2\n",
    "        y_end = y+2\n",
    "        # What if another -1 is in region? Remove all the -1s\n",
    "        region = digit[y_start:y_end, x_start:x_end].flatten()\n",
    "        region = region[region >=0]\n",
    "        total = np.sum(region) \n",
    "        avg = total // region.size\n",
    "        digit[y, x] = avg\n",
    "    return digit"
   ]
  },
  {
   "cell_type": "code",
   "execution_count": 13,
   "metadata": {},
   "outputs": [
    {
     "data": {
      "image/png": "[encoded data removed]",
      "text/plain": [
       "<Figure size 750x750 with 9 Axes>"
      ]
     },
     "metadata": {},
     "output_type": "display_data"
    }
   ],
   "source": [
    "new = np.empty_like(digits)\n",
    "for n in range(new.shape[0]):\n",
    "    new[n] = fill_missing(digits[n])\n",
    "\n",
    "show_digits(new, title=\"Digits with imputed pixels\")"
   ]
  },
  {
   "cell_type": "markdown",
   "metadata": {},
   "source": [
    "## Trend Imputation"
   ]
  },
  {
   "cell_type": "markdown",
   "metadata": {},
   "source": [
    "### Types of Trends"
   ]
  },
  {
   "cell_type": "code",
   "execution_count": 14,
   "metadata": {},
   "outputs": [
    {
     "data": {
      "text/plain": [
       "2001-01-01   -10.0\n",
       "2001-01-05     1.0\n",
       "2001-01-10     2.0\n",
       "2001-02-01     NaN\n",
       "2001-02-05     4.0\n",
       "dtype: float64"
      ]
     },
     "execution_count": 14,
     "metadata": {},
     "output_type": "execute_result"
    }
   ],
   "source": [
    "date_series"
   ]
  },
  {
   "cell_type": "code",
   "execution_count": 15,
   "metadata": {},
   "outputs": [
    {
     "data": {
      "text/plain": [
       "2001-01-01   -10.0\n",
       "2001-01-05     1.0\n",
       "2001-01-10     2.0\n",
       "2001-02-01     2.0\n",
       "2001-02-05     4.0\n",
       "dtype: float64"
      ]
     },
     "execution_count": 15,
     "metadata": {},
     "output_type": "execute_result"
    }
   ],
   "source": [
    "date_series.ffill()  # or .bfill()"
   ]
  },
  {
   "cell_type": "code",
   "execution_count": 16,
   "metadata": {},
   "outputs": [
    {
     "data": {
      "text/plain": [
       "2001-01-01   -10.0\n",
       "2001-01-05     1.0\n",
       "2001-01-10     2.0\n",
       "2001-02-01     3.0\n",
       "2001-02-05     4.0\n",
       "dtype: float64"
      ]
     },
     "execution_count": 16,
     "metadata": {},
     "output_type": "execute_result"
    }
   ],
   "source": [
    "date_series.interpolate('linear')"
   ]
  },
  {
   "cell_type": "code",
   "execution_count": 17,
   "metadata": {},
   "outputs": [
    {
     "data": {
      "text/plain": [
       "2001-01-01   -10.000000\n",
       "2001-01-05     1.000000\n",
       "2001-01-10     2.000000\n",
       "2001-02-01     3.692308\n",
       "2001-02-05     4.000000\n",
       "dtype: float64"
      ]
     },
     "execution_count": 17,
     "metadata": {},
     "output_type": "execute_result"
    }
   ],
   "source": [
    "date_series.interpolate('time')"
   ]
  },
  {
   "cell_type": "code",
   "execution_count": 18,
   "metadata": {},
   "outputs": [
    {
     "data": {
      "image/png": "[encoded data removed]",
      "text/plain": [
       "<Figure size 600x400 with 1 Axes>"
      ]
     },
     "metadata": {
      "needs_background": "light"
     },
     "output_type": "display_data"
    }
   ],
   "source": [
    "plot_filled_trend(date_series)"
   ]
  },
  {
   "cell_type": "code",
   "execution_count": 19,
   "metadata": {},
   "outputs": [
    {
     "data": {
      "text/plain": [
       "follicular horn plug\n",
       "0    37.696429\n",
       "1    20.400000\n",
       "2    10.625000\n",
       "3     9.750000\n",
       "Name: Age, dtype: float64"
      ]
     },
     "execution_count": 19,
     "metadata": {},
     "output_type": "execute_result"
    }
   ],
   "source": [
    "from src.dermatology import derm\n",
    "feat = 'follicular horn plug'\n",
    "age_groups = derm.groupby(feat).Age.mean()\n",
    "age_groups"
   ]
  },
  {
   "cell_type": "code",
   "execution_count": 20,
   "metadata": {},
   "outputs": [
    {
     "data": {
      "text/html": [
       "<div>\n",
       "<style scoped>\n",
       "    .dataframe tbody tr th:only-of-type {\n",
       "        vertical-align: middle;\n",
       "    }\n",
       "\n",
       "    .dataframe tbody tr th {\n",
       "        vertical-align: top;\n",
       "    }\n",
       "\n",
       "    .dataframe thead th {\n",
       "        text-align: right;\n",
       "    }\n",
       "</style>\n",
       "<table border=\"1\" class=\"dataframe\">\n",
       "  <thead>\n",
       "    <tr style=\"text-align: right;\">\n",
       "      <th></th>\n",
       "      <th>follicular horn plug</th>\n",
       "      <th>scaling</th>\n",
       "      <th>itching</th>\n",
       "      <th>Age</th>\n",
       "    </tr>\n",
       "  </thead>\n",
       "  <tbody>\n",
       "    <tr>\n",
       "      <th>33</th>\n",
       "      <td>0</td>\n",
       "      <td>2</td>\n",
       "      <td>0</td>\n",
       "      <td>37.696429</td>\n",
       "    </tr>\n",
       "    <tr>\n",
       "      <th>34</th>\n",
       "      <td>0</td>\n",
       "      <td>1</td>\n",
       "      <td>0</td>\n",
       "      <td>37.696429</td>\n",
       "    </tr>\n",
       "    <tr>\n",
       "      <th>35</th>\n",
       "      <td>0</td>\n",
       "      <td>2</td>\n",
       "      <td>2</td>\n",
       "      <td>37.696429</td>\n",
       "    </tr>\n",
       "  </tbody>\n",
       "</table>\n",
       "</div>"
      ],
      "text/plain": [
       "    follicular horn plug  scaling  itching        Age\n",
       "33                     0        2        0  37.696429\n",
       "34                     0        1        0  37.696429\n",
       "35                     0        2        2  37.696429"
      ]
     },
     "execution_count": 20,
     "metadata": {},
     "output_type": "execute_result"
    }
   ],
   "source": [
    "# The row labels for rows with missing Age\n",
    "missing = derm.loc[derm.Age.isnull()].index  \n",
    "\n",
    "# Assign Age based on mapping the feature\n",
    "derm.loc[missing, 'Age'] = derm[feat].map(age_groups)\n",
    "\n",
    "# Look at filled data for a few features\n",
    "derm.loc[missing, [feat, 'scaling', 'itching', 'Age']].head(3)"
   ]
  },
  {
   "cell_type": "markdown",
   "metadata": {},
   "source": [
    "### A Larger Coarse Time Series"
   ]
  },
  {
   "cell_type": "markdown",
   "metadata": {},
   "source": [
    "#### Understanding the Data"
   ]
  },
  {
   "cell_type": "code",
   "execution_count": 21,
   "metadata": {},
   "outputs": [
    {
     "data": {
      "text/html": [
       "<div>\n",
       "<style scoped>\n",
       "    .dataframe tbody tr th:only-of-type {\n",
       "        vertical-align: middle;\n",
       "    }\n",
       "\n",
       "    .dataframe tbody tr th {\n",
       "        vertical-align: top;\n",
       "    }\n",
       "\n",
       "    .dataframe thead th {\n",
       "        text-align: right;\n",
       "    }\n",
       "</style>\n",
       "<table border=\"1\" class=\"dataframe\">\n",
       "  <thead>\n",
       "    <tr style=\"text-align: right;\">\n",
       "      <th></th>\n",
       "      <th>parcel_number</th>\n",
       "      <th>year</th>\n",
       "      <th>market_value</th>\n",
       "    </tr>\n",
       "  </thead>\n",
       "  <tbody>\n",
       "    <tr>\n",
       "      <th>1862</th>\n",
       "      <td>123018500.0</td>\n",
       "      <td>2014</td>\n",
       "      <td>96100.0</td>\n",
       "    </tr>\n",
       "    <tr>\n",
       "      <th>3921</th>\n",
       "      <td>888301242.0</td>\n",
       "      <td>2015</td>\n",
       "      <td>15000.0</td>\n",
       "    </tr>\n",
       "    <tr>\n",
       "      <th>617</th>\n",
       "      <td>NaN</td>\n",
       "      <td>2018</td>\n",
       "      <td>0.0</td>\n",
       "    </tr>\n",
       "    <tr>\n",
       "      <th>1068</th>\n",
       "      <td>311033500.0</td>\n",
       "      <td>2018</td>\n",
       "      <td>16500.0</td>\n",
       "    </tr>\n",
       "    <tr>\n",
       "      <th>11505</th>\n",
       "      <td>888301508.0</td>\n",
       "      <td>2015</td>\n",
       "      <td>15000.0</td>\n",
       "    </tr>\n",
       "    <tr>\n",
       "      <th>3843</th>\n",
       "      <td>252327300.0</td>\n",
       "      <td>2014</td>\n",
       "      <td>NaN</td>\n",
       "    </tr>\n",
       "    <tr>\n",
       "      <th>10717</th>\n",
       "      <td>314204200.0</td>\n",
       "      <td>2016</td>\n",
       "      <td>41800.0</td>\n",
       "    </tr>\n",
       "  </tbody>\n",
       "</table>\n",
       "</div>"
      ],
      "text/plain": [
       "       parcel_number  year  market_value\n",
       "1862     123018500.0  2014       96100.0\n",
       "3921     888301242.0  2015       15000.0\n",
       "617              NaN  2018           0.0\n",
       "1068     311033500.0  2018       16500.0\n",
       "11505    888301508.0  2015       15000.0\n",
       "3843     252327300.0  2014           NaN\n",
       "10717    314204200.0  2016       41800.0"
      ]
     },
     "execution_count": 21,
     "metadata": {},
     "output_type": "execute_result"
    }
   ],
   "source": [
    "parcl = pd.read_json('data/philly_missing.json')\n",
    "parcl.sample(7, random_state=4) # Random state highlights details"
   ]
  },
  {
   "cell_type": "code",
   "execution_count": 22,
   "metadata": {},
   "outputs": [
    {
     "name": "stdout",
     "output_type": "stream",
     "text": [
      "All rows:    18,290\n",
      "No parcel:    1,140\n",
      "No market:      965\n"
     ]
    }
   ],
   "source": [
    "nparcel = len(parcl[parcl.parcel_number.isnull()])\n",
    "nmarket = len(parcl[parcl.market_value.isnull()])\n",
    "\n",
    "print(f\"All rows:  {len(parcl):>8,}\")\n",
    "print(f\"No parcel: {nparcel:>8,}\")\n",
    "print(f\"No market: {nmarket:>8,}\")"
   ]
  },
  {
   "cell_type": "code",
   "execution_count": 23,
   "metadata": {},
   "outputs": [
    {
     "name": "stdout",
     "output_type": "stream",
     "text": [
      "Remaining rows: 17,150\n"
     ]
    },
    {
     "data": {
      "text/plain": [
       "0.0       2360\n",
       "7000.0     114\n",
       "6000.0     109\n",
       "2000.0     103\n",
       "3000.0      83\n",
       "Name: market_value, dtype: int64"
      ]
     },
     "execution_count": 23,
     "metadata": {},
     "output_type": "execute_result"
    }
   ],
   "source": [
    "parcl = parcl[parcl.parcel_number.notnull()]\n",
    "\n",
    "print(f\"Remaining rows: {len(parcl):,}\")\n",
    "\n",
    "stds = parcl.groupby('parcel_number')['market_value'].std()\n",
    "(stds // 1000 * 1000).value_counts().head()"
   ]
  },
  {
   "cell_type": "code",
   "execution_count": 24,
   "metadata": {},
   "outputs": [
    {
     "data": {
      "text/plain": [
       "2309"
      ]
     },
     "execution_count": 24,
     "metadata": {},
     "output_type": "execute_result"
    }
   ],
   "source": [
    "stds[stds == 0].count()"
   ]
  },
  {
   "cell_type": "code",
   "execution_count": 25,
   "metadata": {},
   "outputs": [
    {
     "data": {
      "text/html": [
       "<div>\n",
       "<style scoped>\n",
       "    .dataframe tbody tr th:only-of-type {\n",
       "        vertical-align: middle;\n",
       "    }\n",
       "\n",
       "    .dataframe tbody tr th {\n",
       "        vertical-align: top;\n",
       "    }\n",
       "\n",
       "    .dataframe thead th {\n",
       "        text-align: right;\n",
       "    }\n",
       "</style>\n",
       "<table border=\"1\" class=\"dataframe\">\n",
       "  <thead>\n",
       "    <tr style=\"text-align: right;\">\n",
       "      <th></th>\n",
       "      <th>parcel_number</th>\n",
       "      <th>year</th>\n",
       "      <th>market_value</th>\n",
       "    </tr>\n",
       "  </thead>\n",
       "  <tbody>\n",
       "    <tr>\n",
       "      <th>0</th>\n",
       "      <td>213302600</td>\n",
       "      <td>2016-01-01</td>\n",
       "      <td>196800.0</td>\n",
       "    </tr>\n",
       "    <tr>\n",
       "      <th>1</th>\n",
       "      <td>213302600</td>\n",
       "      <td>2015-01-01</td>\n",
       "      <td>196800.0</td>\n",
       "    </tr>\n",
       "    <tr>\n",
       "      <th>2</th>\n",
       "      <td>213302600</td>\n",
       "      <td>2014-01-01</td>\n",
       "      <td>196800.0</td>\n",
       "    </tr>\n",
       "    <tr>\n",
       "      <th>3</th>\n",
       "      <td>213308200</td>\n",
       "      <td>2018-01-01</td>\n",
       "      <td>198000.0</td>\n",
       "    </tr>\n",
       "    <tr>\n",
       "      <th>4</th>\n",
       "      <td>213308200</td>\n",
       "      <td>2017-01-01</td>\n",
       "      <td>198000.0</td>\n",
       "    </tr>\n",
       "  </tbody>\n",
       "</table>\n",
       "</div>"
      ],
      "text/plain": [
       "   parcel_number       year  market_value\n",
       "0      213302600 2016-01-01      196800.0\n",
       "1      213302600 2015-01-01      196800.0\n",
       "2      213302600 2014-01-01      196800.0\n",
       "3      213308200 2018-01-01      198000.0\n",
       "4      213308200 2017-01-01      198000.0"
      ]
     },
     "execution_count": 25,
     "metadata": {},
     "output_type": "execute_result"
    }
   ],
   "source": [
    "parcl['parcel_number'] = parcl.parcel_number.astype(np.uint32)\n",
    "parcl['year'] = pd.to_datetime(parcl.year, format=\"%Y\")\n",
    "parcl.head()"
   ]
  },
  {
   "cell_type": "code",
   "execution_count": 26,
   "metadata": {},
   "outputs": [
    {
     "data": {
      "text/plain": [
       "5    1767\n",
       "4     473\n",
       "3      66\n",
       "2       3\n",
       "Name: market_value, dtype: int64"
      ]
     },
     "execution_count": 26,
     "metadata": {},
     "output_type": "execute_result"
    }
   ],
   "source": [
    "(parcl\n",
    "     # Look at those parcels with zero STD among years\n",
    "     # We calculated those standard deviations as `stds`\n",
    "     # The `.index` for non-deviation to find parcels\n",
    "     .loc[parcl.parcel_number.isin(stds[stds == 0].index)]\n",
    "     # Group by which parcel we are looking at\n",
    "     .groupby('parcel_number')\n",
    "     # We care about market values for parcel\n",
    "     .market_value\n",
    "     # Aggregation is count of different market values\n",
    "     .agg('count')\n",
    "     # Summarize rather than show individual parcels\n",
    "     .value_counts()\n",
    ")"
   ]
  },
  {
   "cell_type": "markdown",
   "metadata": {},
   "source": [
    "#### Removing Unusable Data"
   ]
  },
  {
   "cell_type": "code",
   "execution_count": 27,
   "metadata": {},
   "outputs": [
    {
     "data": {
      "text/html": [
       "<div>\n",
       "<style scoped>\n",
       "    .dataframe tbody tr th:only-of-type {\n",
       "        vertical-align: middle;\n",
       "    }\n",
       "\n",
       "    .dataframe tbody tr th {\n",
       "        vertical-align: top;\n",
       "    }\n",
       "\n",
       "    .dataframe thead th {\n",
       "        text-align: right;\n",
       "    }\n",
       "</style>\n",
       "<table border=\"1\" class=\"dataframe\">\n",
       "  <thead>\n",
       "    <tr style=\"text-align: right;\">\n",
       "      <th></th>\n",
       "      <th>parcel_number</th>\n",
       "      <th>year</th>\n",
       "      <th>market_value</th>\n",
       "    </tr>\n",
       "  </thead>\n",
       "  <tbody>\n",
       "    <tr>\n",
       "      <th>0</th>\n",
       "      <td>213302600</td>\n",
       "      <td>2016-01-01</td>\n",
       "      <td>196800.0</td>\n",
       "    </tr>\n",
       "    <tr>\n",
       "      <th>1</th>\n",
       "      <td>213302600</td>\n",
       "      <td>2015-01-01</td>\n",
       "      <td>196800.0</td>\n",
       "    </tr>\n",
       "    <tr>\n",
       "      <th>2</th>\n",
       "      <td>213302600</td>\n",
       "      <td>2014-01-01</td>\n",
       "      <td>196800.0</td>\n",
       "    </tr>\n",
       "    <tr>\n",
       "      <th>3</th>\n",
       "      <td>213308200</td>\n",
       "      <td>2018-01-01</td>\n",
       "      <td>198000.0</td>\n",
       "    </tr>\n",
       "    <tr>\n",
       "      <th>...</th>\n",
       "      <td>...</td>\n",
       "      <td>...</td>\n",
       "      <td>...</td>\n",
       "    </tr>\n",
       "    <tr>\n",
       "      <th>18286</th>\n",
       "      <td>661010710</td>\n",
       "      <td>2016-01-01</td>\n",
       "      <td>215000.0</td>\n",
       "    </tr>\n",
       "    <tr>\n",
       "      <th>18287</th>\n",
       "      <td>661010710</td>\n",
       "      <td>2015-01-01</td>\n",
       "      <td>215000.0</td>\n",
       "    </tr>\n",
       "    <tr>\n",
       "      <th>18288</th>\n",
       "      <td>661010710</td>\n",
       "      <td>2014-01-01</td>\n",
       "      <td>215000.0</td>\n",
       "    </tr>\n",
       "    <tr>\n",
       "      <th>18289</th>\n",
       "      <td>661010720</td>\n",
       "      <td>2018-01-01</td>\n",
       "      <td>215000.0</td>\n",
       "    </tr>\n",
       "  </tbody>\n",
       "</table>\n",
       "<p>16817 rows × 3 columns</p>\n",
       "</div>"
      ],
      "text/plain": [
       "       parcel_number       year  market_value\n",
       "0          213302600 2016-01-01      196800.0\n",
       "1          213302600 2015-01-01      196800.0\n",
       "2          213302600 2014-01-01      196800.0\n",
       "3          213308200 2018-01-01      198000.0\n",
       "...              ...        ...           ...\n",
       "18286      661010710 2016-01-01      215000.0\n",
       "18287      661010710 2015-01-01      215000.0\n",
       "18288      661010710 2014-01-01      215000.0\n",
       "18289      661010720 2018-01-01      215000.0\n",
       "\n",
       "[16817 rows x 3 columns]"
      ]
     },
     "execution_count": 27,
     "metadata": {},
     "output_type": "execute_result"
    }
   ],
   "source": [
    "# Parcels that have no change between years (bool array)?\n",
    "nochange = parcl.parcel_number.isin(stds[stds == 0].index)\n",
    "\n",
    "# Parcel data grouped by parcel\n",
    "by_parcel = parcl[nochange].groupby('parcel_number')\n",
    "\n",
    "# Aggregate on number of market values and compare with 4\n",
    "few_vals = by_parcel.market_value.count() < 4\n",
    "\n",
    "# The parcel numbers that have fewer than 4 market values\n",
    "few_index = few_vals[few_vals == True].index\n",
    "\n",
    "# What are the actual row numbers we wish to drop\n",
    "drop_rows = parcl[parcl.parcel_number.isin(few_index)].index\n",
    "\n",
    "# New name and DataFrame holds the non-dropped rows\n",
    "parcl2 = parcl.drop(drop_rows)\n",
    "\n",
    "# We trim from 17,150 rows to 16,817\n",
    "parcl2"
   ]
  },
  {
   "cell_type": "markdown",
   "metadata": {},
   "source": [
    "#### Imputing Consistency"
   ]
  },
  {
   "cell_type": "code",
   "execution_count": 28,
   "metadata": {},
   "outputs": [
    {
     "data": {
      "text/plain": [
       "parcel_number\n",
       "42204300     30800.0\n",
       "42205300     33900.0\n",
       "42206800     30800.0\n",
       "42207200     30800.0\n",
       "              ...   \n",
       "888301511    15000.0\n",
       "888301512    15000.0\n",
       "888301814    15000.0\n",
       "888301815    15000.0\n",
       "Name: market_value, Length: 473, dtype: float64"
      ]
     },
     "execution_count": 28,
     "metadata": {},
     "output_type": "execute_result"
    }
   ],
   "source": [
    "# Aggregate group to find parcels w/ exactly four years\n",
    "# The `by_parcel` group already assumes no change\n",
    "four_vals = by_parcel.market_value.count() == 4\n",
    "\n",
    "# The parcels numbers that have 4 market values\n",
    "four_index = four_vals[four_vals == True].index\n",
    "\n",
    "# Row numbers of parcels to impute on\n",
    "impute_rows = parcl2[parcl2.parcel_number.isin(four_index)].index\n",
    "\n",
    "# Group parcels only for parcels with 4 market values\n",
    "by_four = parcl2.loc[impute_rows].groupby('parcel_number')\n",
    "\n",
    "# Impute the mean (or identically median, etc) to rows\n",
    "new_vals = by_four.market_value.mean()\n",
    "\n",
    "# A mapping of SOME parcel numbers to value\n",
    "new_vals"
   ]
  },
  {
   "cell_type": "code",
   "execution_count": 29,
   "metadata": {},
   "outputs": [
    {
     "name": "stdout",
     "output_type": "stream",
     "text": [
      "Parcel #352055600 has only 4 rows total (all $85,100)\n",
      "Parcel #541286700 has only 4 rows total (all $116,600)\n",
      "Parcel #621431100 has only 4 rows total (all $93,800)\n"
     ]
    }
   ],
   "source": [
    "# We keep a history of changes in different DFs\n",
    "parcl3 = parcl2.copy()\n",
    "\n",
    "# Loop through the new filled values by parcel\n",
    "for n, (index, val) in enumerate(new_vals.items()):\n",
    "    # Assignment will fill multiple rows, most redundantly\n",
    "    parcl3.loc[parcl3.parcel_number == index, 'market_value'] = val\n",
    "    # Did we start with only four rows in total?\n",
    "    if len(parcl3.loc[parcl3.parcel_number == index]) == 4:\n",
    "        print(f\"Parcel #{index} has only 4 rows total (all ${val:,.0f})\")"
   ]
  },
  {
   "cell_type": "code",
   "execution_count": 30,
   "metadata": {},
   "outputs": [
    {
     "data": {
      "text/html": [
       "<div>\n",
       "<style scoped>\n",
       "    .dataframe tbody tr th:only-of-type {\n",
       "        vertical-align: middle;\n",
       "    }\n",
       "\n",
       "    .dataframe tbody tr th {\n",
       "        vertical-align: top;\n",
       "    }\n",
       "\n",
       "    .dataframe thead th {\n",
       "        text-align: right;\n",
       "    }\n",
       "</style>\n",
       "<table border=\"1\" class=\"dataframe\">\n",
       "  <thead>\n",
       "    <tr style=\"text-align: right;\">\n",
       "      <th></th>\n",
       "      <th>parcel_number</th>\n",
       "      <th>year</th>\n",
       "      <th>market_value</th>\n",
       "    </tr>\n",
       "  </thead>\n",
       "  <tbody>\n",
       "    <tr>\n",
       "      <th>1733</th>\n",
       "      <td>42204300</td>\n",
       "      <td>2018-01-01</td>\n",
       "      <td>30800.0</td>\n",
       "    </tr>\n",
       "    <tr>\n",
       "      <th>3718</th>\n",
       "      <td>42205300</td>\n",
       "      <td>2017-01-01</td>\n",
       "      <td>33900.0</td>\n",
       "    </tr>\n",
       "    <tr>\n",
       "      <th>1306</th>\n",
       "      <td>42206800</td>\n",
       "      <td>2014-01-01</td>\n",
       "      <td>30800.0</td>\n",
       "    </tr>\n",
       "    <tr>\n",
       "      <th>1346</th>\n",
       "      <td>42207200</td>\n",
       "      <td>2014-01-01</td>\n",
       "      <td>30800.0</td>\n",
       "    </tr>\n",
       "    <tr>\n",
       "      <th>...</th>\n",
       "      <td>...</td>\n",
       "      <td>...</td>\n",
       "      <td>...</td>\n",
       "    </tr>\n",
       "    <tr>\n",
       "      <th>11517</th>\n",
       "      <td>888301511</td>\n",
       "      <td>2018-01-01</td>\n",
       "      <td>15000.0</td>\n",
       "    </tr>\n",
       "    <tr>\n",
       "      <th>11525</th>\n",
       "      <td>888301512</td>\n",
       "      <td>2015-01-01</td>\n",
       "      <td>15000.0</td>\n",
       "    </tr>\n",
       "    <tr>\n",
       "      <th>7802</th>\n",
       "      <td>888301814</td>\n",
       "      <td>2016-01-01</td>\n",
       "      <td>15000.0</td>\n",
       "    </tr>\n",
       "    <tr>\n",
       "      <th>14156</th>\n",
       "      <td>888301815</td>\n",
       "      <td>2015-01-01</td>\n",
       "      <td>15000.0</td>\n",
       "    </tr>\n",
       "  </tbody>\n",
       "</table>\n",
       "<p>470 rows × 3 columns</p>\n",
       "</div>"
      ],
      "text/plain": [
       "       parcel_number       year  market_value\n",
       "1733        42204300 2018-01-01       30800.0\n",
       "3718        42205300 2017-01-01       33900.0\n",
       "1306        42206800 2014-01-01       30800.0\n",
       "1346        42207200 2014-01-01       30800.0\n",
       "...              ...        ...           ...\n",
       "11517      888301511 2018-01-01       15000.0\n",
       "11525      888301512 2015-01-01       15000.0\n",
       "7802       888301814 2016-01-01       15000.0\n",
       "14156      888301815 2015-01-01       15000.0\n",
       "\n",
       "[470 rows x 3 columns]"
      ]
     },
     "execution_count": 30,
     "metadata": {},
     "output_type": "execute_result"
    }
   ],
   "source": [
    "assert len(parcl2) == len(parcl3) == 16_817\n",
    "\n",
    "(parcl3[parcl3.market_value.notnull() &\n",
    "       (parcl2.market_value != parcl3.market_value)]\n",
    "     .sort_values('parcel_number'))"
   ]
  },
  {
   "cell_type": "markdown",
   "metadata": {},
   "source": [
    "#### Interpolation"
   ]
  },
  {
   "cell_type": "code",
   "execution_count": 31,
   "metadata": {},
   "outputs": [
    {
     "data": {
      "text/plain": [
       "0    NaN\n",
       "1    1.0\n",
       "2    2.0\n",
       "3    2.5\n",
       "4    3.0\n",
       "5    4.0\n",
       "6    4.0\n",
       "dtype: float64"
      ]
     },
     "execution_count": 31,
     "metadata": {},
     "output_type": "execute_result"
    }
   ],
   "source": [
    "s = pd.Series([None, 1, 2, None, 3, 4, None])\n",
    "s.interpolate()"
   ]
  },
  {
   "cell_type": "code",
   "execution_count": 32,
   "metadata": {},
   "outputs": [
    {
     "data": {
      "text/plain": [
       "0    1.0\n",
       "1    1.0\n",
       "2    2.0\n",
       "3    2.5\n",
       "4    3.0\n",
       "5    4.0\n",
       "6    4.0\n",
       "dtype: float64"
      ]
     },
     "execution_count": 32,
     "metadata": {},
     "output_type": "execute_result"
    }
   ],
   "source": [
    "s.interpolate().bfill()"
   ]
  },
  {
   "cell_type": "code",
   "execution_count": 33,
   "metadata": {},
   "outputs": [],
   "source": [
    "# Sort data to keep parcels together & years in order\n",
    "parcl4 = parcl3.sort_values(['parcel_number', 'year'])\n",
    "\n",
    "# Interpolate per group\n",
    "parcl4['market_value'] = (\n",
    "    parcl4\n",
    "    .groupby('parcel_number')\n",
    "    .market_value\n",
    "    .transform(pd.DataFrame.interpolate))\n",
    "\n",
    "# Back fill per group\n",
    "parcl4['market_value'] = (\n",
    "    parcl4\n",
    "    .groupby('parcel_number')\n",
    "    .market_value\n",
    "    .transform(pd.DataFrame.bfill))"
   ]
  },
  {
   "cell_type": "code",
   "execution_count": 34,
   "metadata": {},
   "outputs": [
    {
     "name": "stdout",
     "output_type": "stream",
     "text": [
      "Total rows after operations: 16,817\n"
     ]
    },
    {
     "data": {
      "text/html": [
       "<div>\n",
       "<style scoped>\n",
       "    .dataframe tbody tr th:only-of-type {\n",
       "        vertical-align: middle;\n",
       "    }\n",
       "\n",
       "    .dataframe tbody tr th {\n",
       "        vertical-align: top;\n",
       "    }\n",
       "\n",
       "    .dataframe thead th {\n",
       "        text-align: right;\n",
       "    }\n",
       "</style>\n",
       "<table border=\"1\" class=\"dataframe\">\n",
       "  <thead>\n",
       "    <tr style=\"text-align: right;\">\n",
       "      <th></th>\n",
       "      <th>parcel_number</th>\n",
       "      <th>year</th>\n",
       "      <th>market_value</th>\n",
       "    </tr>\n",
       "  </thead>\n",
       "  <tbody>\n",
       "    <tr>\n",
       "      <th>16461</th>\n",
       "      <td>571291500</td>\n",
       "      <td>2018-01-01</td>\n",
       "      <td>NaN</td>\n",
       "    </tr>\n",
       "  </tbody>\n",
       "</table>\n",
       "</div>"
      ],
      "text/plain": [
       "       parcel_number       year  market_value\n",
       "16461      571291500 2018-01-01           NaN"
      ]
     },
     "execution_count": 34,
     "metadata": {},
     "output_type": "execute_result"
    }
   ],
   "source": [
    "print(f\"Total rows after operations: {len(parcl4):,}\")\n",
    "\n",
    "# Overlooked missing data\n",
    "parcl4.loc[parcl4.market_value.isnull()]"
   ]
  },
  {
   "cell_type": "code",
   "execution_count": 35,
   "metadata": {},
   "outputs": [
    {
     "data": {
      "text/html": [
       "<div>\n",
       "<style scoped>\n",
       "    .dataframe tbody tr th:only-of-type {\n",
       "        vertical-align: middle;\n",
       "    }\n",
       "\n",
       "    .dataframe tbody tr th {\n",
       "        vertical-align: top;\n",
       "    }\n",
       "\n",
       "    .dataframe thead th {\n",
       "        text-align: right;\n",
       "    }\n",
       "</style>\n",
       "<table border=\"1\" class=\"dataframe\">\n",
       "  <thead>\n",
       "    <tr style=\"text-align: right;\">\n",
       "      <th></th>\n",
       "      <th>parcel_number</th>\n",
       "      <th>year</th>\n",
       "      <th>market_value</th>\n",
       "    </tr>\n",
       "  </thead>\n",
       "  <tbody>\n",
       "    <tr>\n",
       "      <th>16461</th>\n",
       "      <td>571291500</td>\n",
       "      <td>2018-01-01</td>\n",
       "      <td>NaN</td>\n",
       "    </tr>\n",
       "  </tbody>\n",
       "</table>\n",
       "</div>"
      ],
      "text/plain": [
       "       parcel_number       year  market_value\n",
       "16461      571291500 2018-01-01           NaN"
      ]
     },
     "execution_count": 35,
     "metadata": {},
     "output_type": "execute_result"
    }
   ],
   "source": [
    "# As read from disk (other than missing parcels)\n",
    "parcl.loc[parcl.parcel_number == 571291500]"
   ]
  },
  {
   "cell_type": "markdown",
   "metadata": {},
   "source": [
    "### Non-Temporal Trends"
   ]
  },
  {
   "cell_type": "code",
   "execution_count": 36,
   "metadata": {},
   "outputs": [
    {
     "data": {
      "text/html": [
       "<div>\n",
       "<style scoped>\n",
       "    .dataframe tbody tr th:only-of-type {\n",
       "        vertical-align: middle;\n",
       "    }\n",
       "\n",
       "    .dataframe tbody tr th {\n",
       "        vertical-align: top;\n",
       "    }\n",
       "\n",
       "    .dataframe thead th {\n",
       "        text-align: right;\n",
       "    }\n",
       "</style>\n",
       "<table border=\"1\" class=\"dataframe\">\n",
       "  <thead>\n",
       "    <tr style=\"text-align: right;\">\n",
       "      <th></th>\n",
       "      <th>Laser_type_kw</th>\n",
       "      <th>Subtype</th>\n",
       "      <th>Wavelength_nm</th>\n",
       "      <th>Kryptonite_type</th>\n",
       "      <th>candela_per_m2</th>\n",
       "    </tr>\n",
       "  </thead>\n",
       "  <tbody>\n",
       "    <tr>\n",
       "      <th>0</th>\n",
       "      <td>Helium–neon</td>\n",
       "      <td>NaN</td>\n",
       "      <td>632.8</td>\n",
       "      <td>Green</td>\n",
       "      <td>415.837</td>\n",
       "    </tr>\n",
       "    <tr>\n",
       "      <th>1</th>\n",
       "      <td>Helium–neon</td>\n",
       "      <td>NaN</td>\n",
       "      <td>543.5</td>\n",
       "      <td>Green</td>\n",
       "      <td>NaN</td>\n",
       "    </tr>\n",
       "    <tr>\n",
       "      <th>2</th>\n",
       "      <td>Helium–neon</td>\n",
       "      <td>NaN</td>\n",
       "      <td>593.9</td>\n",
       "      <td>Green</td>\n",
       "      <td>407.308</td>\n",
       "    </tr>\n",
       "    <tr>\n",
       "      <th>3</th>\n",
       "      <td>Helium–neon</td>\n",
       "      <td>NaN</td>\n",
       "      <td>611.8</td>\n",
       "      <td>Green</td>\n",
       "      <td>401.305</td>\n",
       "    </tr>\n",
       "    <tr>\n",
       "      <th>...</th>\n",
       "      <td>...</td>\n",
       "      <td>...</td>\n",
       "      <td>...</td>\n",
       "      <td>...</td>\n",
       "      <td>...</td>\n",
       "    </tr>\n",
       "    <tr>\n",
       "      <th>95</th>\n",
       "      <td>Excimer</td>\n",
       "      <td>ArF</td>\n",
       "      <td>193.0</td>\n",
       "      <td>Gold</td>\n",
       "      <td>611.611</td>\n",
       "    </tr>\n",
       "    <tr>\n",
       "      <th>96</th>\n",
       "      <td>Excimer</td>\n",
       "      <td>KrF</td>\n",
       "      <td>248.0</td>\n",
       "      <td>Gold</td>\n",
       "      <td>NaN</td>\n",
       "    </tr>\n",
       "    <tr>\n",
       "      <th>97</th>\n",
       "      <td>Excimer</td>\n",
       "      <td>XeCL</td>\n",
       "      <td>308.0</td>\n",
       "      <td>Gold</td>\n",
       "      <td>608.125</td>\n",
       "    </tr>\n",
       "    <tr>\n",
       "      <th>98</th>\n",
       "      <td>Excimer</td>\n",
       "      <td>XeF</td>\n",
       "      <td>353.0</td>\n",
       "      <td>Gold</td>\n",
       "      <td>NaN</td>\n",
       "    </tr>\n",
       "  </tbody>\n",
       "</table>\n",
       "<p>99 rows × 5 columns</p>\n",
       "</div>"
      ],
      "text/plain": [
       "   Laser_type_kw Subtype  Wavelength_nm Kryptonite_type  candela_per_m2\n",
       "0    Helium–neon     NaN          632.8           Green         415.837\n",
       "1    Helium–neon     NaN          543.5           Green             NaN\n",
       "2    Helium–neon     NaN          593.9           Green         407.308\n",
       "3    Helium–neon     NaN          611.8           Green         401.305\n",
       "..           ...     ...            ...             ...             ...\n",
       "95       Excimer     ArF          193.0            Gold         611.611\n",
       "96       Excimer     KrF          248.0            Gold             NaN\n",
       "97       Excimer    XeCL          308.0            Gold         608.125\n",
       "98       Excimer     XeF          353.0            Gold             NaN\n",
       "\n",
       "[99 rows x 5 columns]"
      ]
     },
     "execution_count": 36,
     "metadata": {},
     "output_type": "execute_result"
    }
   ],
   "source": [
    "krypt = pd.read_fwf('data/excited-kryptonite.fwf')\n",
    "krypt"
   ]
  },
  {
   "cell_type": "code",
   "execution_count": 37,
   "metadata": {},
   "outputs": [
    {
     "data": {
      "image/png": "[encoded data removed]",
      "text/plain": [
       "<Figure size 1000x300 with 1 Axes>"
      ]
     },
     "metadata": {
      "needs_background": "light"
     },
     "output_type": "display_data"
    }
   ],
   "source": [
    "plot_kryptonite()"
   ]
  },
  {
   "cell_type": "code",
   "execution_count": 38,
   "metadata": {},
   "outputs": [
    {
     "data": {
      "text/html": [
       "<div>\n",
       "<style scoped>\n",
       "    .dataframe tbody tr th:only-of-type {\n",
       "        vertical-align: middle;\n",
       "    }\n",
       "\n",
       "    .dataframe tbody tr th {\n",
       "        vertical-align: top;\n",
       "    }\n",
       "\n",
       "    .dataframe thead th {\n",
       "        text-align: right;\n",
       "    }\n",
       "</style>\n",
       "<table border=\"1\" class=\"dataframe\">\n",
       "  <thead>\n",
       "    <tr style=\"text-align: right;\">\n",
       "      <th></th>\n",
       "      <th>Laser_type_kw</th>\n",
       "      <th>Subtype</th>\n",
       "      <th>Wavelength_nm</th>\n",
       "      <th>Kryptonite_type</th>\n",
       "      <th>candela_per_m2</th>\n",
       "    </tr>\n",
       "  </thead>\n",
       "  <tbody>\n",
       "    <tr>\n",
       "      <th>5</th>\n",
       "      <td>Helium–neon</td>\n",
       "      <td>NaN</td>\n",
       "      <td>1520.0</td>\n",
       "      <td>Green</td>\n",
       "      <td>NaN</td>\n",
       "    </tr>\n",
       "    <tr>\n",
       "      <th>38</th>\n",
       "      <td>Helium–neon</td>\n",
       "      <td>NaN</td>\n",
       "      <td>1520.0</td>\n",
       "      <td>Red</td>\n",
       "      <td>497.592</td>\n",
       "    </tr>\n",
       "    <tr>\n",
       "      <th>71</th>\n",
       "      <td>Helium–neon</td>\n",
       "      <td>NaN</td>\n",
       "      <td>1520.0</td>\n",
       "      <td>Gold</td>\n",
       "      <td>616.262</td>\n",
       "    </tr>\n",
       "    <tr>\n",
       "      <th>6</th>\n",
       "      <td>Helium–neon</td>\n",
       "      <td>NaN</td>\n",
       "      <td>3391.3</td>\n",
       "      <td>Green</td>\n",
       "      <td>444.054</td>\n",
       "    </tr>\n",
       "    <tr>\n",
       "      <th>...</th>\n",
       "      <td>...</td>\n",
       "      <td>...</td>\n",
       "      <td>...</td>\n",
       "      <td>...</td>\n",
       "      <td>...</td>\n",
       "    </tr>\n",
       "    <tr>\n",
       "      <th>72</th>\n",
       "      <td>Helium–neon</td>\n",
       "      <td>NaN</td>\n",
       "      <td>3391.3</td>\n",
       "      <td>Gold</td>\n",
       "      <td>624.755</td>\n",
       "    </tr>\n",
       "    <tr>\n",
       "      <th>28</th>\n",
       "      <td>CO2</td>\n",
       "      <td>NaN</td>\n",
       "      <td>9400.0</td>\n",
       "      <td>Green</td>\n",
       "      <td>514.181</td>\n",
       "    </tr>\n",
       "    <tr>\n",
       "      <th>61</th>\n",
       "      <td>CO2</td>\n",
       "      <td>NaN</td>\n",
       "      <td>9400.0</td>\n",
       "      <td>Red</td>\n",
       "      <td>334.444</td>\n",
       "    </tr>\n",
       "    <tr>\n",
       "      <th>94</th>\n",
       "      <td>CO2</td>\n",
       "      <td>NaN</td>\n",
       "      <td>9400.0</td>\n",
       "      <td>Gold</td>\n",
       "      <td>NaN</td>\n",
       "    </tr>\n",
       "  </tbody>\n",
       "</table>\n",
       "<p>9 rows × 5 columns</p>\n",
       "</div>"
      ],
      "text/plain": [
       "   Laser_type_kw Subtype  Wavelength_nm Kryptonite_type  candela_per_m2\n",
       "5    Helium–neon     NaN         1520.0           Green             NaN\n",
       "38   Helium–neon     NaN         1520.0             Red         497.592\n",
       "71   Helium–neon     NaN         1520.0            Gold         616.262\n",
       "6    Helium–neon     NaN         3391.3           Green         444.054\n",
       "..           ...     ...            ...             ...             ...\n",
       "72   Helium–neon     NaN         3391.3            Gold         624.755\n",
       "28           CO2     NaN         9400.0           Green         514.181\n",
       "61           CO2     NaN         9400.0             Red         334.444\n",
       "94           CO2     NaN         9400.0            Gold             NaN\n",
       "\n",
       "[9 rows x 5 columns]"
      ]
     },
     "execution_count": 38,
     "metadata": {},
     "output_type": "execute_result"
    }
   ],
   "source": [
    "(krypt[\n",
    "    (krypt.Wavelength_nm > 1500) & \n",
    "    (krypt.Wavelength_nm < 10000)]\n",
    " .sort_values('Wavelength_nm'))"
   ]
  },
  {
   "cell_type": "code",
   "execution_count": 39,
   "metadata": {},
   "outputs": [
    {
     "data": {
      "image/png": "[encoded data removed]",
      "text/plain": [
       "<Figure size 1000x300 with 1 Axes>"
      ]
     },
     "metadata": {
      "needs_background": "light"
     },
     "output_type": "display_data"
    }
   ],
   "source": [
    "λ = krypt.Wavelength_nm / 10**9   # Wavelength in meters\n",
    "c = 299_792_458                   # Speed of light in m/s\n",
    "krypt['Frequency_hz'] = c/λ\n",
    "\n",
    "# Plot frequency vs luminance\n",
    "plot_kryptonite(df=krypt, logx=False,\n",
    "                independent='Frequency_hz')"
   ]
  },
  {
   "cell_type": "code",
   "execution_count": 40,
   "metadata": {},
   "outputs": [
    {
     "name": "stdout",
     "output_type": "stream",
     "text": [
      "  Red (hz → nit): -2.6e-28*x^2 + 5.5e-13*x + 3.5e+02\n",
      "Green (hz → nit): 1.4e-28*x^2 + -2.7e-13*x + 5.0e+02\n",
      " Gold (hz → nit): -4.1e-30*x^2 + 2.8e-15*x + 6.2e+02\n"
     ]
    }
   ],
   "source": [
    "# Only perform the polyfit on the non-missing data\n",
    "kr_vals = (krypt[krypt.candela_per_m2.notnull()]\n",
    "           .sort_values('Frequency_hz'))\n",
    "\n",
    "# Do a fit for each kryptonite color\n",
    "for color in ('Red', 'Green', 'Gold'):\n",
    "    # Limit to the color being fit\n",
    "    kcolor = kr_vals.loc[kr_vals.Kryptonite_type == color]\n",
    "    x = kcolor[\"Frequency_hz\"]\n",
    "    y = kcolor[\"candela_per_m2\"]\n",
    "    coef2, coef1, offset = np.polyfit(x, y, deg=2)\n",
    "    \n",
    "    # Print out the discovered coefficients\n",
    "    print(f\"{color:>5s} (hz → nit): \"\n",
    "          f\"{coef2:.1e}*x^2 + {coef1:.1e}*x + {offset:.1e}\")\n",
    "\n",
    "    # Use coefficients to fill missing values\n",
    "    kmissing = krypt.loc[krypt.candela_per_m2.isnull() & \n",
    "                         (krypt.Kryptonite_type == color)]\n",
    "    x = kmissing.Frequency_hz\n",
    "    krypt.loc[x.index, 'candela_per_m2'] = (\n",
    "                            coef2*x**2 + coef1*x + offset)"
   ]
  },
  {
   "cell_type": "code",
   "execution_count": 41,
   "metadata": {},
   "outputs": [
    {
     "data": {
      "image/png": "[encoded data removed]",
      "text/plain": [
       "<Figure size 1000x300 with 1 Axes>"
      ]
     },
     "metadata": {
      "needs_background": "light"
     },
     "output_type": "display_data"
    }
   ],
   "source": [
    "plot_kryptonite(df=krypt, logx=False, imputed=True,\n",
    "                independent='Frequency_hz')"
   ]
  },
  {
   "cell_type": "markdown",
   "metadata": {},
   "source": [
    "## Sampling"
   ]
  },
  {
   "cell_type": "code",
   "execution_count": 42,
   "metadata": {},
   "outputs": [],
   "source": [
    "%load_ext rpy2.ipython"
   ]
  },
  {
   "cell_type": "code",
   "execution_count": 43,
   "metadata": {},
   "outputs": [
    {
     "name": "stdout",
     "output_type": "stream",
     "text": [
      "\n",
      "\u001b[36m──\u001b[39m \u001b[1m\u001b[1mColumn specification\u001b[1m\u001b[22m \u001b[36m───────────────────────────────────────────────────────────────────\u001b[39m\n",
      "cols(\n",
      "  Height = \u001b[32mcol_double()\u001b[39m,\n",
      "  Weight = \u001b[32mcol_double()\u001b[39m\n",
      ")\n",
      "\n",
      "\u001b[90m# A tibble: 25,000 x 2\u001b[39m\n",
      "   Height Weight\n",
      "    \u001b[3m\u001b[90m<dbl>\u001b[39m\u001b[23m  \u001b[3m\u001b[90m<dbl>\u001b[39m\u001b[23m\n",
      "\u001b[90m 1\u001b[39m   167.   51.3\n",
      "\u001b[90m 2\u001b[39m   182.   61.9\n",
      "\u001b[90m 3\u001b[39m   176.   69.4\n",
      "\u001b[90m 4\u001b[39m   173.   64.6\n",
      "\u001b[90m 5\u001b[39m   172.   65.5\n",
      "\u001b[90m 6\u001b[39m   174.   55.9\n",
      "\u001b[90m 7\u001b[39m   177.   64.2\n",
      "\u001b[90m 8\u001b[39m   178.   61.9\n",
      "\u001b[90m 9\u001b[39m   172.   51.0\n",
      "\u001b[90m10\u001b[39m   170.   54.7\n",
      "\u001b[90m# … with 24,990 more rows\u001b[39m\n"
     ]
    }
   ],
   "source": [
    "%%capture --no-stdout err\n",
    "%%R -o humans\n",
    "library('tidyverse')\n",
    "humans <- read_csv('data/height-weight.csv')\n",
    "humans"
   ]
  },
  {
   "cell_type": "code",
   "execution_count": 44,
   "metadata": {},
   "outputs": [
    {
     "data": {
      "image/png": "[encoded data removed]",
      "text/plain": [
       "<Figure size 1000x300 with 2 Axes>"
      ]
     },
     "metadata": {
      "needs_background": "light"
     },
     "output_type": "display_data"
    }
   ],
   "source": [
    "humans.hist(figsize=(10,3), bins=12);\n",
    "plt.savefig(\"img/(Ch06)humans-hist-Height_Weight.png\")"
   ]
  },
  {
   "cell_type": "code",
   "execution_count": 45,
   "metadata": {},
   "outputs": [
    {
     "name": "stdout",
     "output_type": "stream",
     "text": [
      "\n",
      "(153,161] (161,168] (168,176] (176,183] (183,191] \n",
      "      145      4251     14050      6229       325 \n"
     ]
    }
   ],
   "source": [
    "%%R\n",
    "table(cut(humans$Height, breaks = 5))"
   ]
  },
  {
   "cell_type": "markdown",
   "metadata": {},
   "source": [
    "### Undersampling"
   ]
  },
  {
   "cell_type": "code",
   "execution_count": 46,
   "metadata": {},
   "outputs": [
    {
     "name": "stdout",
     "output_type": "stream",
     "text": [
      "\u001b[90m# A tibble: 1,728 x 7\u001b[39m\n",
      "   price_buy price_maintain doors passengers trunk safety rating      \n",
      "       \u001b[3m\u001b[90m<int>\u001b[39m\u001b[23m          \u001b[3m\u001b[90m<int>\u001b[39m\u001b[23m \u001b[3m\u001b[90m<int>\u001b[39m\u001b[23m      \u001b[3m\u001b[90m<int>\u001b[39m\u001b[23m \u001b[3m\u001b[90m<int>\u001b[39m\u001b[23m  \u001b[3m\u001b[90m<int>\u001b[39m\u001b[23m \u001b[3m\u001b[90m<fct>\u001b[39m\u001b[23m       \n",
      "\u001b[90m 1\u001b[39m         1              0     3          6     0      0 Unacceptable\n",
      "\u001b[90m 2\u001b[39m         2              2     3          6     2      1 Acceptable  \n",
      "\u001b[90m 3\u001b[39m         2              2     5          2     1      1 Unacceptable\n",
      "\u001b[90m 4\u001b[39m         0              1     3          2     2      1 Unacceptable\n",
      "\u001b[90m 5\u001b[39m         2              1     5          2     0      1 Unacceptable\n",
      "\u001b[90m 6\u001b[39m         3              1     2          6     2      1 Acceptable  \n",
      "\u001b[90m 7\u001b[39m         0              2     4          4     0      0 Unacceptable\n",
      "\u001b[90m 8\u001b[39m         1              2     2          4     2      0 Unacceptable\n",
      "\u001b[90m 9\u001b[39m         1              0     4          4     0      1 Acceptable  \n",
      "\u001b[90m10\u001b[39m         1              3     3          2     0      0 Unacceptable\n",
      "\u001b[90m# … with 1,718 more rows\u001b[39m\n"
     ]
    }
   ],
   "source": [
    "%%capture --no-stdout err\n",
    "%%R\n",
    "cars <- read_csv('data/cars.csv', \n",
    "                 col_types = cols(\"i\", \"i\", \"i\", \"i\", \"i\", \"i\", \"f\"))\n",
    "cars"
   ]
  },
  {
   "cell_type": "code",
   "execution_count": 47,
   "metadata": {},
   "outputs": [
    {
     "name": "stdout",
     "output_type": "stream",
     "text": [
      "\n",
      "Unacceptable   Acceptable    Very Good         Good \n",
      "        1210          384           65           69 \n"
     ]
    }
   ],
   "source": [
    "%%R\n",
    "table(cars$rating)"
   ]
  },
  {
   "cell_type": "code",
   "execution_count": 48,
   "metadata": {},
   "outputs": [
    {
     "name": "stdout",
     "output_type": "stream",
     "text": [
      "\u001b[90m# A tibble: 334 x 7\u001b[39m\n",
      "   price_buy price_maintain doors passengers trunk safety rating   \n",
      "       \u001b[3m\u001b[90m<int>\u001b[39m\u001b[23m          \u001b[3m\u001b[90m<int>\u001b[39m\u001b[23m \u001b[3m\u001b[90m<int>\u001b[39m\u001b[23m      \u001b[3m\u001b[90m<int>\u001b[39m\u001b[23m \u001b[3m\u001b[90m<int>\u001b[39m\u001b[23m  \u001b[3m\u001b[90m<int>\u001b[39m\u001b[23m \u001b[3m\u001b[90m<fct>\u001b[39m\u001b[23m    \n",
      "\u001b[90m 1\u001b[39m         0              0     5          6     2      2 Very Good\n",
      "\u001b[90m 2\u001b[39m         1              1     3          6     2      2 Very Good\n",
      "\u001b[90m 3\u001b[39m         0              1     5          6     1      2 Very Good\n",
      "\u001b[90m 4\u001b[39m         0              1     5          6     2      2 Very Good\n",
      "\u001b[90m 5\u001b[39m         0              1     4          4     1      2 Very Good\n",
      "\u001b[90m 6\u001b[39m         0              1     5          4     1      2 Very Good\n",
      "\u001b[90m 7\u001b[39m         0              1     3          6     2      2 Very Good\n",
      "\u001b[90m 8\u001b[39m         1              0     5          6     2      2 Very Good\n",
      "\u001b[90m 9\u001b[39m         0              0     5          4     1      2 Very Good\n",
      "\u001b[90m10\u001b[39m         0              1     5          4     2      2 Very Good\n",
      "\u001b[90m# … with 324 more rows\u001b[39m\n"
     ]
    }
   ],
   "source": [
    "%%R\n",
    "unacc <- sample(which(cars$rating == \"Unacceptable\"), 100)\n",
    "acc <- sample(which(cars$rating == \"Acceptable\"), 100)\n",
    "good <- sample(which(cars$rating == \"Good\"), 69)\n",
    "vgood <- sample(which(cars$rating == \"Very Good\"), 65)\n",
    "samples <- slice(cars, c(vgood, good, acc, unacc))\n",
    "samples"
   ]
  },
  {
   "cell_type": "code",
   "execution_count": 49,
   "metadata": {},
   "outputs": [
    {
     "name": "stdout",
     "output_type": "stream",
     "text": [
      "\u001b[90m# A tibble: 4 x 2\u001b[39m\n",
      "\u001b[90m# Groups:   rating [4]\u001b[39m\n",
      "  rating           n\n",
      "  \u001b[3m\u001b[90m<fct>\u001b[39m\u001b[23m        \u001b[3m\u001b[90m<int>\u001b[39m\u001b[23m\n",
      "\u001b[90m1\u001b[39m Unacceptable   100\n",
      "\u001b[90m2\u001b[39m Acceptable     100\n",
      "\u001b[90m3\u001b[39m Very Good       65\n",
      "\u001b[90m4\u001b[39m Good            69\n"
     ]
    }
   ],
   "source": [
    "%%R\n",
    "samples %>%\n",
    "  group_by(rating) %>%\n",
    "  count()"
   ]
  },
  {
   "cell_type": "code",
   "execution_count": 50,
   "metadata": {},
   "outputs": [
    {
     "name": "stdout",
     "output_type": "stream",
     "text": [
      "\u001b[90m# A tibble: 4 x 2\u001b[39m\n",
      "\u001b[90m# Groups:   rating [4]\u001b[39m\n",
      "  rating           n\n",
      "  \u001b[3m\u001b[90m<fct>\u001b[39m\u001b[23m        \u001b[3m\u001b[90m<int>\u001b[39m\u001b[23m\n",
      "\u001b[90m1\u001b[39m Unacceptable   150\n",
      "\u001b[90m2\u001b[39m Acceptable     150\n",
      "\u001b[90m3\u001b[39m Very Good      150\n",
      "\u001b[90m4\u001b[39m Good           150\n"
     ]
    }
   ],
   "source": [
    "%%R\n",
    "# Find indices for each class (dups OK)\n",
    "indices <- unlist(\n",
    "  lapply(\n",
    "    # For each level of the rating factor,\n",
    "    levels(cars$rating), \n",
    "    # sample with replacement 150 indices\n",
    "    function(rating) {\n",
    "      pred <- which(cars$rating == rating)\n",
    "      sample(pred, 150, replace = TRUE) }))\n",
    "\n",
    "# Check that we have drawn evenly\n",
    "slice(cars, indices) %>%\n",
    "  group_by(rating) %>%\n",
    "  count()"
   ]
  },
  {
   "cell_type": "markdown",
   "metadata": {},
   "source": [
    "### Oversampling"
   ]
  },
  {
   "cell_type": "code",
   "execution_count": 51,
   "metadata": {},
   "outputs": [
    {
     "data": {
      "text/plain": [
       "Unacceptable    1210\n",
       "Good            1173\n",
       "Very Good       1170\n",
       "Acceptable      1152\n",
       "Name: rating, dtype: int64"
      ]
     },
     "execution_count": 51,
     "metadata": {},
     "output_type": "execute_result"
    }
   ],
   "source": [
    "# Read the raw data and count most common rating\n",
    "cars = pd.read_csv('data/cars.csv')\n",
    "cars2 = cars.copy()  # Modify a copy of DataFrame\n",
    "most_common = max(cars2.rating.value_counts())\n",
    "\n",
    "for rating in cars2.rating.unique():\n",
    "    # A DataFrame of only one rating class\n",
    "    rating_class = cars2[cars2.rating == rating]\n",
    "    # Duplicate one less than overshooting most_common\n",
    "    num_dups = (most_common // len(rating_class)) - 1\n",
    "    for _ in range(num_dups):\n",
    "        cars2 = pd.concat([cars2, rating_class])\n",
    "\n",
    "cars2.rating.value_counts()"
   ]
  },
  {
   "cell_type": "code",
   "execution_count": 52,
   "metadata": {},
   "outputs": [
    {
     "data": {
      "text/plain": [
       "Unacceptable    1210\n",
       "Acceptable       384\n",
       "Good              69\n",
       "Very Good         65\n",
       "Name: rating, dtype: int64"
      ]
     },
     "execution_count": 52,
     "metadata": {},
     "output_type": "execute_result"
    }
   ],
   "source": [
    "cars.rating.value_counts()"
   ]
  },
  {
   "cell_type": "code",
   "execution_count": 53,
   "metadata": {},
   "outputs": [],
   "source": [
    "# Only define the feature and target matrices, use in next cell\n",
    "from imblearn.over_sampling import SMOTE\n",
    "\n",
    "# Divide data frame into X features and y target\n",
    "X = cars.drop('rating', axis=1)\n",
    "y = cars['rating']\n",
    "\n",
    "# Create the resamples features/target\n",
    "X_res, y_res = SMOTE(k_neighbors=4).fit_resample(X, y)"
   ]
  },
  {
   "cell_type": "code",
   "execution_count": 54,
   "metadata": {},
   "outputs": [
    {
     "data": {
      "text/html": [
       "<div>\n",
       "<style scoped>\n",
       "    .dataframe tbody tr th:only-of-type {\n",
       "        vertical-align: middle;\n",
       "    }\n",
       "\n",
       "    .dataframe tbody tr th {\n",
       "        vertical-align: top;\n",
       "    }\n",
       "\n",
       "    .dataframe thead th {\n",
       "        text-align: right;\n",
       "    }\n",
       "</style>\n",
       "<table border=\"1\" class=\"dataframe\">\n",
       "  <thead>\n",
       "    <tr style=\"text-align: right;\">\n",
       "      <th></th>\n",
       "      <th>price_buy</th>\n",
       "      <th>price_maintain</th>\n",
       "      <th>doors</th>\n",
       "      <th>passengers</th>\n",
       "      <th>trunk</th>\n",
       "      <th>safety</th>\n",
       "      <th>rating</th>\n",
       "    </tr>\n",
       "  </thead>\n",
       "  <tbody>\n",
       "    <tr>\n",
       "      <th>748</th>\n",
       "      <td>2</td>\n",
       "      <td>2</td>\n",
       "      <td>5</td>\n",
       "      <td>6</td>\n",
       "      <td>0</td>\n",
       "      <td>0</td>\n",
       "      <td>Unacceptable</td>\n",
       "    </tr>\n",
       "    <tr>\n",
       "      <th>72</th>\n",
       "      <td>0</td>\n",
       "      <td>3</td>\n",
       "      <td>2</td>\n",
       "      <td>6</td>\n",
       "      <td>0</td>\n",
       "      <td>1</td>\n",
       "      <td>Unacceptable</td>\n",
       "    </tr>\n",
       "    <tr>\n",
       "      <th>2213</th>\n",
       "      <td>3</td>\n",
       "      <td>0</td>\n",
       "      <td>2</td>\n",
       "      <td>4</td>\n",
       "      <td>0</td>\n",
       "      <td>2</td>\n",
       "      <td>Acceptable</td>\n",
       "    </tr>\n",
       "    <tr>\n",
       "      <th>1686</th>\n",
       "      <td>2</td>\n",
       "      <td>3</td>\n",
       "      <td>5</td>\n",
       "      <td>2</td>\n",
       "      <td>0</td>\n",
       "      <td>0</td>\n",
       "      <td>Unacceptable</td>\n",
       "    </tr>\n",
       "    <tr>\n",
       "      <th>3578</th>\n",
       "      <td>0</td>\n",
       "      <td>0</td>\n",
       "      <td>4</td>\n",
       "      <td>6</td>\n",
       "      <td>1</td>\n",
       "      <td>1</td>\n",
       "      <td>Good</td>\n",
       "    </tr>\n",
       "    <tr>\n",
       "      <th>3097</th>\n",
       "      <td>0</td>\n",
       "      <td>0</td>\n",
       "      <td>2</td>\n",
       "      <td>4</td>\n",
       "      <td>0</td>\n",
       "      <td>2</td>\n",
       "      <td>Good</td>\n",
       "    </tr>\n",
       "    <tr>\n",
       "      <th>4818</th>\n",
       "      <td>0</td>\n",
       "      <td>1</td>\n",
       "      <td>4</td>\n",
       "      <td>4</td>\n",
       "      <td>1</td>\n",
       "      <td>2</td>\n",
       "      <td>Very Good</td>\n",
       "    </tr>\n",
       "    <tr>\n",
       "      <th>434</th>\n",
       "      <td>2</td>\n",
       "      <td>3</td>\n",
       "      <td>5</td>\n",
       "      <td>6</td>\n",
       "      <td>2</td>\n",
       "      <td>0</td>\n",
       "      <td>Unacceptable</td>\n",
       "    </tr>\n",
       "  </tbody>\n",
       "</table>\n",
       "</div>"
      ],
      "text/plain": [
       "      price_buy  price_maintain  doors  passengers  trunk  safety  \\\n",
       "748           2               2      5           6      0       0   \n",
       "72            0               3      2           6      0       1   \n",
       "2213          3               0      2           4      0       2   \n",
       "1686          2               3      5           2      0       0   \n",
       "3578          0               0      4           6      1       1   \n",
       "3097          0               0      2           4      0       2   \n",
       "4818          0               1      4           4      1       2   \n",
       "434           2               3      5           6      2       0   \n",
       "\n",
       "            rating  \n",
       "748   Unacceptable  \n",
       "72    Unacceptable  \n",
       "2213    Acceptable  \n",
       "1686  Unacceptable  \n",
       "3578          Good  \n",
       "3097          Good  \n",
       "4818     Very Good  \n",
       "434   Unacceptable  "
      ]
     },
     "execution_count": 54,
     "metadata": {},
     "output_type": "execute_result"
    }
   ],
   "source": [
    "synth_cars = X_res.copy()\n",
    "synth_cars['rating'] = y_res\n",
    "synth_cars.sample(8, random_state=2)"
   ]
  },
  {
   "cell_type": "code",
   "execution_count": 55,
   "metadata": {},
   "outputs": [
    {
     "data": {
      "text/plain": [
       "Very Good       1210\n",
       "Unacceptable    1210\n",
       "Good            1210\n",
       "Acceptable      1210\n",
       "Name: rating, dtype: int64"
      ]
     },
     "execution_count": 55,
     "metadata": {},
     "output_type": "execute_result"
    }
   ],
   "source": [
    "synth_cars.rating.value_counts()"
   ]
  },
  {
   "cell_type": "code",
   "execution_count": 56,
   "metadata": {},
   "outputs": [
    {
     "data": {
      "text/html": [
       "<div>\n",
       "<style scoped>\n",
       "    .dataframe tbody tr th:only-of-type {\n",
       "        vertical-align: middle;\n",
       "    }\n",
       "\n",
       "    .dataframe tbody tr th {\n",
       "        vertical-align: top;\n",
       "    }\n",
       "\n",
       "    .dataframe thead th {\n",
       "        text-align: right;\n",
       "    }\n",
       "</style>\n",
       "<table border=\"1\" class=\"dataframe\">\n",
       "  <thead>\n",
       "    <tr style=\"text-align: right;\">\n",
       "      <th></th>\n",
       "      <th>price_buy</th>\n",
       "      <th>price_maintain</th>\n",
       "      <th>doors</th>\n",
       "      <th>passengers</th>\n",
       "      <th>trunk</th>\n",
       "      <th>safety</th>\n",
       "      <th>rating</th>\n",
       "    </tr>\n",
       "  </thead>\n",
       "  <tbody>\n",
       "    <tr>\n",
       "      <th>0</th>\n",
       "      <td>1.0</td>\n",
       "      <td>0.0</td>\n",
       "      <td>3.0</td>\n",
       "      <td>6.0</td>\n",
       "      <td>0.0</td>\n",
       "      <td>0.0</td>\n",
       "      <td>Unacceptable</td>\n",
       "    </tr>\n",
       "    <tr>\n",
       "      <th>1</th>\n",
       "      <td>2.0</td>\n",
       "      <td>2.0</td>\n",
       "      <td>3.0</td>\n",
       "      <td>6.0</td>\n",
       "      <td>2.0</td>\n",
       "      <td>1.0</td>\n",
       "      <td>Acceptable</td>\n",
       "    </tr>\n",
       "    <tr>\n",
       "      <th>2</th>\n",
       "      <td>2.0</td>\n",
       "      <td>2.0</td>\n",
       "      <td>5.0</td>\n",
       "      <td>2.0</td>\n",
       "      <td>1.0</td>\n",
       "      <td>1.0</td>\n",
       "      <td>Unacceptable</td>\n",
       "    </tr>\n",
       "    <tr>\n",
       "      <th>3</th>\n",
       "      <td>0.0</td>\n",
       "      <td>1.0</td>\n",
       "      <td>3.0</td>\n",
       "      <td>2.0</td>\n",
       "      <td>2.0</td>\n",
       "      <td>1.0</td>\n",
       "      <td>Unacceptable</td>\n",
       "    </tr>\n",
       "    <tr>\n",
       "      <th>4</th>\n",
       "      <td>2.0</td>\n",
       "      <td>1.0</td>\n",
       "      <td>5.0</td>\n",
       "      <td>2.0</td>\n",
       "      <td>0.0</td>\n",
       "      <td>1.0</td>\n",
       "      <td>Unacceptable</td>\n",
       "    </tr>\n",
       "  </tbody>\n",
       "</table>\n",
       "</div>"
      ],
      "text/plain": [
       "   price_buy  price_maintain  doors  passengers  trunk  safety        rating\n",
       "0        1.0             0.0    3.0         6.0    0.0     0.0  Unacceptable\n",
       "1        2.0             2.0    3.0         6.0    2.0     1.0    Acceptable\n",
       "2        2.0             2.0    5.0         2.0    1.0     1.0  Unacceptable\n",
       "3        0.0             1.0    3.0         2.0    2.0     1.0  Unacceptable\n",
       "4        2.0             1.0    5.0         2.0    0.0     1.0  Unacceptable"
      ]
     },
     "execution_count": 56,
     "metadata": {},
     "output_type": "execute_result"
    }
   ],
   "source": [
    "cars.iloc[:, :6] = cars.iloc[:, :6].astype(float)\n",
    "cars.head()"
   ]
  },
  {
   "cell_type": "code",
   "execution_count": 57,
   "metadata": {},
   "outputs": [
    {
     "data": {
      "text/html": [
       "<div>\n",
       "<style scoped>\n",
       "    .dataframe tbody tr th:only-of-type {\n",
       "        vertical-align: middle;\n",
       "    }\n",
       "\n",
       "    .dataframe tbody tr th {\n",
       "        vertical-align: top;\n",
       "    }\n",
       "\n",
       "    .dataframe thead th {\n",
       "        text-align: right;\n",
       "    }\n",
       "</style>\n",
       "<table border=\"1\" class=\"dataframe\">\n",
       "  <thead>\n",
       "    <tr style=\"text-align: right;\">\n",
       "      <th></th>\n",
       "      <th>price_buy</th>\n",
       "      <th>price_maintain</th>\n",
       "      <th>doors</th>\n",
       "      <th>passengers</th>\n",
       "      <th>trunk</th>\n",
       "      <th>safety</th>\n",
       "      <th>rating</th>\n",
       "    </tr>\n",
       "  </thead>\n",
       "  <tbody>\n",
       "    <tr>\n",
       "      <th>4304</th>\n",
       "      <td>1.0</td>\n",
       "      <td>0.158397</td>\n",
       "      <td>2.158397</td>\n",
       "      <td>6.0</td>\n",
       "      <td>2.0000</td>\n",
       "      <td>2.0</td>\n",
       "      <td>Very Good</td>\n",
       "    </tr>\n",
       "    <tr>\n",
       "      <th>337</th>\n",
       "      <td>3.0</td>\n",
       "      <td>0.000000</td>\n",
       "      <td>3.000000</td>\n",
       "      <td>4.0</td>\n",
       "      <td>0.0000</td>\n",
       "      <td>1.0</td>\n",
       "      <td>Unacceptable</td>\n",
       "    </tr>\n",
       "    <tr>\n",
       "      <th>2360</th>\n",
       "      <td>2.0</td>\n",
       "      <td>2.000000</td>\n",
       "      <td>3.247795</td>\n",
       "      <td>4.0</td>\n",
       "      <td>2.0000</td>\n",
       "      <td>2.0</td>\n",
       "      <td>Acceptable</td>\n",
       "    </tr>\n",
       "    <tr>\n",
       "      <th>3352</th>\n",
       "      <td>0.0</td>\n",
       "      <td>1.000000</td>\n",
       "      <td>2.123895</td>\n",
       "      <td>4.0</td>\n",
       "      <td>2.0000</td>\n",
       "      <td>1.0</td>\n",
       "      <td>Good</td>\n",
       "    </tr>\n",
       "    <tr>\n",
       "      <th>2064</th>\n",
       "      <td>0.0</td>\n",
       "      <td>3.000000</td>\n",
       "      <td>4.000000</td>\n",
       "      <td>6.0</td>\n",
       "      <td>1.8577</td>\n",
       "      <td>2.0</td>\n",
       "      <td>Acceptable</td>\n",
       "    </tr>\n",
       "    <tr>\n",
       "      <th>4058</th>\n",
       "      <td>1.0</td>\n",
       "      <td>0.000000</td>\n",
       "      <td>3.075283</td>\n",
       "      <td>6.0</td>\n",
       "      <td>2.0000</td>\n",
       "      <td>2.0</td>\n",
       "      <td>Very Good</td>\n",
       "    </tr>\n",
       "  </tbody>\n",
       "</table>\n",
       "</div>"
      ],
      "text/plain": [
       "      price_buy  price_maintain     doors  passengers   trunk  safety  \\\n",
       "4304        1.0        0.158397  2.158397         6.0  2.0000     2.0   \n",
       "337         3.0        0.000000  3.000000         4.0  0.0000     1.0   \n",
       "2360        2.0        2.000000  3.247795         4.0  2.0000     2.0   \n",
       "3352        0.0        1.000000  2.123895         4.0  2.0000     1.0   \n",
       "2064        0.0        3.000000  4.000000         6.0  1.8577     2.0   \n",
       "4058        1.0        0.000000  3.075283         6.0  2.0000     2.0   \n",
       "\n",
       "            rating  \n",
       "4304     Very Good  \n",
       "337   Unacceptable  \n",
       "2360    Acceptable  \n",
       "3352          Good  \n",
       "2064    Acceptable  \n",
       "4058     Very Good  "
      ]
     },
     "execution_count": 57,
     "metadata": {},
     "output_type": "execute_result"
    }
   ],
   "source": [
    "# Divide data frame into X features and y target\n",
    "X = cars.drop('rating', axis=1)\n",
    "y = cars['rating']\n",
    "\n",
    "# Create the resamples features/target\n",
    "X_, y_ = SMOTE().fit_resample(X, y)\n",
    "pd.concat([X_, y_], axis=1).sample(6, random_state=4)"
   ]
  },
  {
   "cell_type": "markdown",
   "metadata": {},
   "source": [
    "## Exercises"
   ]
  },
  {
   "cell_type": "markdown",
   "metadata": {},
   "source": [
    "### Balancing Multiple Features"
   ]
  },
  {
   "cell_type": "code",
   "execution_count": 58,
   "metadata": {},
   "outputs": [
    {
     "data": {
      "text/html": [
       "<div>\n",
       "<style scoped>\n",
       "    .dataframe tbody tr th:only-of-type {\n",
       "        vertical-align: middle;\n",
       "    }\n",
       "\n",
       "    .dataframe tbody tr th {\n",
       "        vertical-align: top;\n",
       "    }\n",
       "\n",
       "    .dataframe thead th {\n",
       "        text-align: right;\n",
       "    }\n",
       "</style>\n",
       "<table border=\"1\" class=\"dataframe\">\n",
       "  <thead>\n",
       "    <tr style=\"text-align: right;\">\n",
       "      <th></th>\n",
       "      <th>Height</th>\n",
       "      <th>Weight</th>\n",
       "      <th>Favorite</th>\n",
       "    </tr>\n",
       "  </thead>\n",
       "  <tbody>\n",
       "    <tr>\n",
       "      <th>21492</th>\n",
       "      <td>176.958650</td>\n",
       "      <td>72.604585</td>\n",
       "      <td>red</td>\n",
       "    </tr>\n",
       "    <tr>\n",
       "      <th>9488</th>\n",
       "      <td>169.000221</td>\n",
       "      <td>79.559843</td>\n",
       "      <td>blue</td>\n",
       "    </tr>\n",
       "    <tr>\n",
       "      <th>16933</th>\n",
       "      <td>171.104306</td>\n",
       "      <td>71.125528</td>\n",
       "      <td>red</td>\n",
       "    </tr>\n",
       "    <tr>\n",
       "      <th>12604</th>\n",
       "      <td>174.481084</td>\n",
       "      <td>79.496237</td>\n",
       "      <td>blue</td>\n",
       "    </tr>\n",
       "    <tr>\n",
       "      <th>8222</th>\n",
       "      <td>171.275578</td>\n",
       "      <td>77.094118</td>\n",
       "      <td>green</td>\n",
       "    </tr>\n",
       "    <tr>\n",
       "      <th>9110</th>\n",
       "      <td>164.631065</td>\n",
       "      <td>70.557834</td>\n",
       "      <td>green</td>\n",
       "    </tr>\n",
       "  </tbody>\n",
       "</table>\n",
       "</div>"
      ],
      "text/plain": [
       "           Height     Weight Favorite\n",
       "21492  176.958650  72.604585      red\n",
       "9488   169.000221  79.559843     blue\n",
       "16933  171.104306  71.125528      red\n",
       "12604  174.481084  79.496237     blue\n",
       "8222   171.275578  77.094118    green\n",
       "9110   164.631065  70.557834    green"
      ]
     },
     "execution_count": 58,
     "metadata": {},
     "output_type": "execute_result"
    }
   ],
   "source": [
    "humcol = pd.read_csv('data/height-weight-color.csv')\n",
    "humcol.sample(6, random_state=1)"
   ]
  },
  {
   "cell_type": "code",
   "execution_count": 59,
   "metadata": {},
   "outputs": [
    {
     "data": {
      "text/plain": [
       "(44.692, 55.402]      125\n",
       "(55.402, 66.06]      3708\n",
       "(66.06, 76.717]     14074\n",
       "(76.717, 87.375]     6700\n",
       "(87.375, 98.033]      393\n",
       "Name: Weight, dtype: int64"
      ]
     },
     "execution_count": 59,
     "metadata": {},
     "output_type": "execute_result"
    }
   ],
   "source": [
    "pd.cut(humcol.Weight, 5).value_counts().sort_index()"
   ]
  }
 ],
 "metadata": {
  "kernelspec": {
   "display_name": "Python 3",
   "language": "python",
   "name": "python3"
  },
  "language_info": {
   "codemirror_mode": {
    "name": "ipython",
    "version": 3
   },
   "file_extension": ".py",
   "mimetype": "text/x-python",
   "name": "python",
   "nbconvert_exporter": "python",
   "pygments_lexer": "ipython3",
   "version": "3.8.5"
  }
 },
 "nbformat": 4,
 "nbformat_minor": 4
}
