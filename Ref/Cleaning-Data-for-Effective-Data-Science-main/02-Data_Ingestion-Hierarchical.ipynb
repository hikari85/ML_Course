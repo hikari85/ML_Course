{
 "cells": [
  {
   "cell_type": "markdown",
   "metadata": {},
   "source": [
    "# Data Ingestion – Hierarchical Formats"
   ]
  },
  {
   "cell_type": "code",
   "execution_count": 1,
   "metadata": {},
   "outputs": [],
   "source": [
    "from src.setup import *\n",
    "%load_ext rpy2.ipython"
   ]
  },
  {
   "cell_type": "code",
   "execution_count": 2,
   "metadata": {},
   "outputs": [],
   "source": [
    "%%capture --no-stdout err\n",
    "%%R\n",
    "library(tidyverse)"
   ]
  },
  {
   "cell_type": "markdown",
   "metadata": {},
   "source": [
    "## JSON"
   ]
  },
  {
   "cell_type": "markdown",
   "metadata": {},
   "source": [
    "### What JSON Looks Like"
   ]
  },
  {
   "cell_type": "code",
   "execution_count": 3,
   "metadata": {},
   "outputs": [
    {
     "name": "stdout",
     "output_type": "stream",
     "text": [
      "200 application/json; charset=utf-8\n"
     ]
    },
    {
     "data": {
      "text/plain": [
       "'{\"1\":{\"name\":\"Guido van Rossum\",\"password\":\"unladenswallow\",\"details\":{\"profession\":\"ex-BDFL\"}},\"2\":{\"name\":\"Brendan Eich\",\"password\":\"nontransitiveequality\",\"details\":{\"profession\":\"Mozillan\"}},\"3\":{\"name\":\"Ken Thompson\",\"password\":\"p/q2-q4!\",\"details\":{\"profession\":\"Unix Creator\"}}}'"
      ]
     },
     "execution_count": 3,
     "metadata": {},
     "output_type": "execute_result"
    }
   ],
   "source": [
    "# A response to an HTTP request\n",
    "response = requests.get('http://localhost:3001/users') \n",
    "\n",
    "# Show status code, content-type, and JSON body\n",
    "print(response.status_code, response.headers['Content-Type'])\n",
    "response.text"
   ]
  },
  {
   "cell_type": "code",
   "execution_count": 4,
   "metadata": {},
   "outputs": [
    {
     "name": "stdout",
     "output_type": "stream",
     "text": [
      "{\n",
      "  \"1\": {\n",
      "    \"name\": \"Guido van Rossum\",\n",
      "    \"password\": \"unladenswallow\",\n",
      "    \"details\": {\n",
      "      \"profession\": \"ex-BDFL\"\n",
      "    }\n",
      "  },\n",
      "  \"2\": {\n",
      "    \"name\": \"Brendan Eich\",\n",
      "    \"password\": \"nontransitiveequality\",\n",
      "    \"details\": {\n",
      "      \"profession\": \"Mozillan\"\n",
      "    }\n",
      "  },\n",
      "  \"3\": {\n",
      "    \"name\": \"Ken Thompson\",\n",
      "    \"password\": \"p/q2-q4!\",\n",
      "    \"details\": {\n",
      "      \"profession\": \"Unix Creator\"\n",
      "    }\n",
      "  }\n",
      "}\n"
     ]
    }
   ],
   "source": [
    "pprint_json(response.text)"
   ]
  },
  {
   "cell_type": "code",
   "execution_count": 5,
   "metadata": {},
   "outputs": [],
   "source": [
    "with open('data/3001.json', 'w') as fh:\n",
    "    fh.write(response.text)"
   ]
  },
  {
   "cell_type": "code",
   "execution_count": 6,
   "metadata": {},
   "outputs": [
    {
     "name": "stdout",
     "output_type": "stream",
     "text": [
      "{\n",
      "  \"1\": {\n",
      "    \"name\": \"Guido van Rossum\",\n",
      "    \"password\": \"unladenswallow\",\n",
      "    \"details\": {\n",
      "      \"profession\": \"ex-BDFL\"\n",
      "    }\n",
      "  },\n",
      "  \"2\": {\n",
      "    \"name\": \"Brendan Eich\",\n",
      "    \"password\": \"nontransitiveequality\",\n",
      "    \"details\": {\n",
      "      \"profession\": \"Mozillan\"\n",
      "    }\n",
      "  },\n",
      "  \"3\": {\n",
      "    \"name\": \"Ken Thompson\",\n",
      "    \"password\": \"p/q2-q4!\",\n",
      "    \"details\": {\n",
      "      \"profession\": \"Unix Creator\"\n",
      "    }\n",
      "  }\n",
      "}\n"
     ]
    }
   ],
   "source": [
    "%%bash\n",
    "jq . data/3001.json"
   ]
  },
  {
   "cell_type": "code",
   "execution_count": 7,
   "metadata": {},
   "outputs": [
    {
     "name": "stdout",
     "output_type": "stream",
     "text": [
      "{\n",
      "  '1': {\n",
      "    name: 'Guido van Rossum',\n",
      "    password: 'unladenswallow',\n",
      "    details: { profession: 'ex-BDFL' }\n",
      "  },\n",
      "  '2': {\n",
      "    name: 'Brendan Eich',\n",
      "    password: 'nontransitiveequality',\n",
      "    details: { profession: 'Mozillan' }\n",
      "  },\n",
      "  '3': {\n",
      "    name: 'Ken Thompson',\n",
      "    password: 'p/q2-q4!',\n",
      "    details: { profession: 'Unix Creator' }\n",
      "  }\n",
      "}\n"
     ]
    }
   ],
   "source": [
    "%%bash\n",
    "js=\"\n",
    "const fs = require('fs');\n",
    "let raw = fs.readFileSync('data/3001.json');\n",
    "let users = JSON.parse(raw);\n",
    "console.log(users);\n",
    "\"\n",
    "echo $js | node"
   ]
  },
  {
   "cell_type": "code",
   "execution_count": 8,
   "metadata": {},
   "outputs": [
    {
     "data": {
      "text/plain": [
       "{'1': {'name': 'Guido van Rossum',\n",
       "  'password': 'unladenswallow',\n",
       "  'details': {'profession': 'ex-BDFL'}},\n",
       " '2': {'name': 'Brendan Eich',\n",
       "  'password': 'nontransitiveequality',\n",
       "  'details': {'profession': 'Mozillan'}},\n",
       " '3': {'name': 'Ken Thompson',\n",
       "  'password': 'p/q2-q4!',\n",
       "  'details': {'profession': 'Unix Creator'}}}"
      ]
     },
     "execution_count": 8,
     "metadata": {},
     "output_type": "execute_result"
    }
   ],
   "source": [
    "with open('data/3001.json') as fh:\n",
    "    # Could also call `json.load(fh)` to read file\n",
    "    raw = fh.read()\n",
    "    users = json.loads(raw)\n",
    "users"
   ]
  },
  {
   "cell_type": "code",
   "execution_count": 9,
   "metadata": {},
   "outputs": [
    {
     "name": "stdout",
     "output_type": "stream",
     "text": [
      "$`3`\n",
      "$`3`$name\n",
      "[1] \"Ken Thompson\"\n",
      "\n",
      "$`3`$password\n",
      "[1] \"p/q2-q4!\"\n",
      "\n",
      "$`3`$details\n",
      "$`3`$details$profession\n",
      "[1] \"Unix Creator\"\n",
      "\n",
      "\n",
      "\n"
     ]
    }
   ],
   "source": [
    "%%R\n",
    "library(rjson)\n",
    "result <- fromJSON(file = \"data/3001.json\")\n",
    "result[3]"
   ]
  },
  {
   "cell_type": "markdown",
   "metadata": {},
   "source": [
    "### NaN Handling and Data Types"
   ]
  },
  {
   "cell_type": "code",
   "execution_count": 10,
   "metadata": {},
   "outputs": [
    {
     "data": {
      "text/plain": [
       "[1e+308, inf, 1.2345678901234567]"
      ]
     },
     "execution_count": 10,
     "metadata": {},
     "output_type": "execute_result"
    }
   ],
   "source": [
    "# An interpreted float, an overflow, and a truncation\n",
    "json_str = \"[1e308, 1e309, 1.2345678901234567890]\"\n",
    "json.loads(json_str)"
   ]
  },
  {
   "cell_type": "code",
   "execution_count": 11,
   "metadata": {},
   "outputs": [
    {
     "name": "stdout",
     "output_type": "stream",
     "text": [
      "[1] 1.000000000000000010979e+308                          Inf\n",
      "[3]  1.234567890123456690432e+00\n"
     ]
    }
   ],
   "source": [
    "%%R -i json_str\n",
    "options(digits = 22)\n",
    "fromJSON(json_str)"
   ]
  },
  {
   "cell_type": "code",
   "execution_count": 12,
   "metadata": {},
   "outputs": [
    {
     "data": {
      "text/plain": [
       "[Decimal('1E+308'), Decimal('1E+309'), Decimal('1.2345678901234567890')]"
      ]
     },
     "execution_count": 12,
     "metadata": {},
     "output_type": "execute_result"
    }
   ],
   "source": [
    "simplejson.loads(json_str, use_decimal=True)"
   ]
  },
  {
   "cell_type": "code",
   "execution_count": 13,
   "metadata": {},
   "outputs": [
    {
     "data": {
      "text/plain": [
       "[nan, inf, -inf]"
      ]
     },
     "execution_count": 13,
     "metadata": {},
     "output_type": "execute_result"
    }
   ],
   "source": [
    "specials = \"[NaN, Infinity, -Infinity]\"\n",
    "vals = json.loads(specials)\n",
    "vals"
   ]
  },
  {
   "cell_type": "code",
   "execution_count": 14,
   "metadata": {},
   "outputs": [
    {
     "name": "stdout",
     "output_type": "stream",
     "text": [
      "[1]  NaN  Inf -Inf\n",
      "[1] \"R version of 'enhanced JSON':\"\n",
      "[1] \"[\\\"NaN\\\",\\\"Inf\\\",\\\"-Inf\\\"]\"\n"
     ]
    }
   ],
   "source": [
    "%%R -i vals\n",
    "vals = c(NaN, Inf, -Inf)\n",
    "print(vals)\n",
    "print(\"R version of 'enhanced JSON':\")\n",
    "rjson_str = toJSON(vals)  # function from rjson library\n",
    "print(rjson_str)"
   ]
  },
  {
   "cell_type": "code",
   "execution_count": 15,
   "metadata": {},
   "outputs": [
    {
     "name": "stdout",
     "output_type": "stream",
     "text": [
      "[1] \"Read back in 'enhanced JSON':\"\n",
      "[1] \"NaN\"  \"Inf\"  \"-Inf\"\n"
     ]
    }
   ],
   "source": [
    "%%R\n",
    "print(\"Read back in 'enhanced JSON':\")\n",
    "fromJSON(rjson_str)"
   ]
  },
  {
   "cell_type": "code",
   "execution_count": 16,
   "metadata": {},
   "outputs": [
    {
     "name": "stderr",
     "output_type": "stream",
     "text": [
      "undefined:1\n",
      "[NaN, Infinity, -Infinity]\n",
      " ^\n",
      "\n",
      "SyntaxError: Unexpected token N in JSON at position 1\n",
      "    at JSON.parse (<anonymous>)\n",
      "    at [stdin]:1:6\n",
      "    at Script.runInThisContext (vm.js:132:18)\n",
      "    at Object.runInThisContext (vm.js:309:38)\n",
      "    at internal/process/execution.js:77:19\n",
      "    at [stdin]-wrapper:6:22\n",
      "    at evalScript (internal/process/execution.js:76:60)\n",
      "    at internal/main/eval_stdin.js:29:5\n",
      "    at Socket.<anonymous> (internal/process/execution.js:198:5)\n",
      "    at Socket.emit (events.js:327:22)\n"
     ]
    }
   ],
   "source": [
    "%%bash\n",
    "js=\"JSON.parse('[NaN, Infinity, -Infinity]');\"\n",
    "echo $js | node | cat"
   ]
  },
  {
   "cell_type": "code",
   "execution_count": 17,
   "metadata": {},
   "outputs": [
    {
     "data": {
      "text/plain": [
       "['INVALID', 'INVALID', 'INVALID']"
      ]
     },
     "execution_count": 17,
     "metadata": {},
     "output_type": "execute_result"
    }
   ],
   "source": [
    "json.loads(\"[NaN, Infinity, -Infinity]\", parse_constant=lambda _: \"INVALID\")"
   ]
  },
  {
   "cell_type": "code",
   "execution_count": 18,
   "metadata": {},
   "outputs": [
    {
     "name": "stdout",
     "output_type": "stream",
     "text": [
      "JSONDecodeError\n",
      "Expecting value: line 1 column 2 (char 1)\n"
     ]
    }
   ],
   "source": [
    "try:\n",
    "    json.loads(\"[nan, +Inf, Foobar]\", parse_constant=lambda _: \"INVALID\")\n",
    "except Exception as err:\n",
    "    print_err(err)"
   ]
  },
  {
   "cell_type": "code",
   "execution_count": 19,
   "metadata": {},
   "outputs": [
    {
     "name": "stdout",
     "output_type": "stream",
     "text": [
      "[\n",
      "  null,\n",
      "  1.7976931348623157e+308,\n",
      "  -1.7976931348623157e+308\n",
      "]\n"
     ]
    }
   ],
   "source": [
    "%%bash\n",
    "echo \"[NaN, inf, -Infinity]\" | jq ."
   ]
  },
  {
   "cell_type": "markdown",
   "metadata": {},
   "source": [
    "### JSON Lines"
   ]
  },
  {
   "cell_type": "code",
   "execution_count": 20,
   "metadata": {},
   "outputs": [
    {
     "name": "stdout",
     "output_type": "stream",
     "text": [
      "1\t{\"ts\":\"2020-06-18T10:44:13\",\n",
      "\"logged_in\":{\"username\":\"foo\"},\n",
      "\"connection\":{\"addr\":\"1.2.3.4\",\"port\":5678}}\n",
      "2\t{\"ts\":\"2020-06-18T10:44:15\",\n",
      "\"registered\":{\"username\":\"bar\",\"email\":\"bar@example.com\"},\n",
      "\"connection\":{\"addr\":\"2.3.4.5\",\"port\":6789}}\n",
      "3\t{\"ts\":\"2020-06-18T10:44:16\",\n",
      "\"logged_out\":{\"username\":\"foo\"},\n",
      "\"connection\":{\"addr\":\"1.2.3.4\",\"port\":5678}}\n",
      "4\t{\"ts\":\"2020-06-18T10:47:22\",\n",
      "\"registered\":{\"username\":\"baz\",\"email\":\"baz@example.net\"},\n",
      "\"connection\":{\"addr\":\"3.4.5.6\",\"port\":7890}}\n"
     ]
    }
   ],
   "source": [
    "%%bash\n",
    "cat -n data/jsonlines.log | fmt -w55 | tr -d \" \""
   ]
  },
  {
   "cell_type": "code",
   "execution_count": 21,
   "metadata": {},
   "outputs": [
    {
     "name": "stdout",
     "output_type": "stream",
     "text": [
      "{\"username\":\"bar\",\"email\":\"bar@example.com\"}\n",
      "{\"username\":\"baz\",\"email\":\"baz@example.net\"}\n"
     ]
    }
   ],
   "source": [
    "%%bash\n",
    "# Extract registrations\n",
    "grep \"registered\" data/jsonlines.log |\n",
    "    sed 's/^.*registered\"://' |\n",
    "    sed 's/}.*/}/'"
   ]
  },
  {
   "cell_type": "code",
   "execution_count": 22,
   "metadata": {},
   "outputs": [
    {
     "name": "stdout",
     "output_type": "stream",
     "text": [
      "{\n",
      "  \"username\": \"bar\",\n",
      "  \"email\": \"bar@example.com\"\n",
      "}\n",
      "{\n",
      "  \"username\": \"baz\",\n",
      "  \"email\": \"baz@example.net\"\n",
      "}\n"
     ]
    }
   ],
   "source": [
    "%%bash\n",
    "jq '.registered | select(.username != null)' data/jsonlines.log"
   ]
  },
  {
   "cell_type": "code",
   "execution_count": 23,
   "metadata": {},
   "outputs": [
    {
     "name": "stdout",
     "output_type": "stream",
     "text": [
      "{'username': 'bar', 'email': 'bar@example.com'}\n",
      "{'username': 'baz', 'email': 'baz@example.net'}\n"
     ]
    }
   ],
   "source": [
    "with open('data/jsonlines.log') as log:\n",
    "    for line in log:\n",
    "        record = json.loads(line)\n",
    "        if 'registered' in record:\n",
    "            user = record['registered']\n",
    "            if 'username' in user:\n",
    "                print(user)"
   ]
  },
  {
   "cell_type": "markdown",
   "metadata": {},
   "source": [
    "### GeoJSON"
   ]
  },
  {
   "cell_type": "code",
   "execution_count": 24,
   "metadata": {},
   "outputs": [
    {
     "data": {
      "text/plain": [
       "dict_keys(['type', 'features'])"
      ]
     },
     "execution_count": 24,
     "metadata": {},
     "output_type": "execute_result"
    }
   ],
   "source": [
    "with open('data/gz_2010_us_050_00_20m.json', encoding='ISO-8859-1') as fh:\n",
    "    counties = json.load(fh)\n",
    "\n",
    "counties.keys()"
   ]
  },
  {
   "cell_type": "code",
   "execution_count": 25,
   "metadata": {},
   "outputs": [
    {
     "data": {
      "text/plain": [
       "('FeatureCollection', list, 3221)"
      ]
     },
     "execution_count": 25,
     "metadata": {},
     "output_type": "execute_result"
    }
   ],
   "source": [
    "counties['type'], type(counties['features']), len(counties['features'])"
   ]
  },
  {
   "cell_type": "code",
   "execution_count": 26,
   "metadata": {},
   "outputs": [
    {
     "data": {
      "text/plain": [
       "{'type': 'Feature',\n",
       " 'properties': {'GEO_ID': '0500000US19153',\n",
       "  'STATE': '19',\n",
       "  'COUNTY': '153',\n",
       "  'NAME': 'Polk',\n",
       "  'LSAD': 'County',\n",
       "  'CENSUSAREA': 573.795},\n",
       " 'geometry': {'type': 'Polygon',\n",
       "  'coordinates': [[[-93.328614, 41.507824],\n",
       "    [-93.328486, 41.49134],\n",
       "    [-93.328407, 41.490921],\n",
       "    [-93.41226, 41.505549],\n",
       "    [-93.790612, 41.511916],\n",
       "    [-93.814282, 41.600448],\n",
       "    [-93.815527, 41.863419],\n",
       "    [-93.698032, 41.86337],\n",
       "    [-93.347933, 41.863104],\n",
       "    [-93.348681, 41.600999],\n",
       "    [-93.328614, 41.507824]]]}}"
      ]
     },
     "execution_count": 26,
     "metadata": {},
     "output_type": "execute_result"
    }
   ],
   "source": [
    "counties['features'][999]"
   ]
  },
  {
   "cell_type": "code",
   "execution_count": 27,
   "metadata": {},
   "outputs": [
    {
     "data": {
      "image/png": "[encoded data removed]",
      "text/plain": [
       "<Figure size 800x500 with 1 Axes>"
      ]
     },
     "metadata": {
      "needs_background": "light"
     },
     "output_type": "display_data"
    }
   ],
   "source": [
    "fig, ax = plt.subplots(figsize=(8, 5))\n",
    "patches, colors, ncolor = [], [], 8\n",
    "\n",
    "for n, county in enumerate(counties['features']):\n",
    "    # Only use first polygon if multiple discontiguous regions\n",
    "    poly = np.array(county['geometry']['coordinates'][0])\n",
    "    poly = poly.reshape(-1, 2)\n",
    "    polygon = Polygon(poly)\n",
    "    patches.append(polygon)\n",
    "    colors.append(n % ncolor)\n",
    "\n",
    "p = PatchCollection(patches, cmap=cm.get_cmap('Greys', ncolor))\n",
    "p.set_array(np.array(colors))\n",
    "ax.add_collection(p)\n",
    "\n",
    "ax.set_ylim(24, 50)\n",
    "ax.set_ylabel(\"Latitude\")\n",
    "ax.set_xlim(-126, -67)\n",
    "ax.set_xlabel(\"Longitude\")\n",
    "ax.set_title(\"Counties of the United States\");\n",
    "plt.savefig(\"img/(Ch02)Counties of the United States.png\")"
   ]
  },
  {
   "cell_type": "markdown",
   "metadata": {},
   "source": [
    "### Tidy Geography"
   ]
  },
  {
   "cell_type": "code",
   "execution_count": 28,
   "metadata": {},
   "outputs": [
    {
     "data": {
      "text/html": [
       "<div>\n",
       "<style scoped>\n",
       "    .dataframe tbody tr th:only-of-type {\n",
       "        vertical-align: middle;\n",
       "    }\n",
       "\n",
       "    .dataframe tbody tr th {\n",
       "        vertical-align: top;\n",
       "    }\n",
       "\n",
       "    .dataframe thead th {\n",
       "        text-align: right;\n",
       "    }\n",
       "</style>\n",
       "<table border=\"1\" class=\"dataframe\">\n",
       "  <thead>\n",
       "    <tr style=\"text-align: right;\">\n",
       "      <th></th>\n",
       "      <th>Name</th>\n",
       "      <th>Postal Code</th>\n",
       "      <th>FIPS</th>\n",
       "    </tr>\n",
       "  </thead>\n",
       "  <tbody>\n",
       "    <tr>\n",
       "      <th>0</th>\n",
       "      <td>Alabama</td>\n",
       "      <td>AL</td>\n",
       "      <td>1</td>\n",
       "    </tr>\n",
       "    <tr>\n",
       "      <th>1</th>\n",
       "      <td>Alaska</td>\n",
       "      <td>AK</td>\n",
       "      <td>2</td>\n",
       "    </tr>\n",
       "    <tr>\n",
       "      <th>2</th>\n",
       "      <td>Arizona</td>\n",
       "      <td>AZ</td>\n",
       "      <td>4</td>\n",
       "    </tr>\n",
       "    <tr>\n",
       "      <th>3</th>\n",
       "      <td>Arkansas</td>\n",
       "      <td>AR</td>\n",
       "      <td>5</td>\n",
       "    </tr>\n",
       "    <tr>\n",
       "      <th>...</th>\n",
       "      <td>...</td>\n",
       "      <td>...</td>\n",
       "      <td>...</td>\n",
       "    </tr>\n",
       "    <tr>\n",
       "      <th>51</th>\n",
       "      <td>Guam</td>\n",
       "      <td>GU</td>\n",
       "      <td>66</td>\n",
       "    </tr>\n",
       "    <tr>\n",
       "      <th>52</th>\n",
       "      <td>Northern Mariana Islands</td>\n",
       "      <td>MP</td>\n",
       "      <td>69</td>\n",
       "    </tr>\n",
       "    <tr>\n",
       "      <th>53</th>\n",
       "      <td>Puerto Rico</td>\n",
       "      <td>PR</td>\n",
       "      <td>72</td>\n",
       "    </tr>\n",
       "    <tr>\n",
       "      <th>54</th>\n",
       "      <td>Virgin Islands</td>\n",
       "      <td>VI</td>\n",
       "      <td>78</td>\n",
       "    </tr>\n",
       "  </tbody>\n",
       "</table>\n",
       "<p>55 rows × 3 columns</p>\n",
       "</div>"
      ],
      "text/plain": [
       "                        Name Postal Code  FIPS\n",
       "0                    Alabama          AL     1\n",
       "1                     Alaska          AK     2\n",
       "2                    Arizona          AZ     4\n",
       "3                   Arkansas          AR     5\n",
       "..                       ...         ...   ...\n",
       "51                      Guam          GU    66\n",
       "52  Northern Mariana Islands          MP    69\n",
       "53               Puerto Rico          PR    72\n",
       "54            Virgin Islands          VI    78\n",
       "\n",
       "[55 rows x 3 columns]"
      ]
     },
     "execution_count": 28,
     "metadata": {},
     "output_type": "execute_result"
    }
   ],
   "source": [
    "fips = pd.read_csv('data/FIPS.tsv', sep='\\t')\n",
    "fips"
   ]
  },
  {
   "cell_type": "code",
   "execution_count": 29,
   "metadata": {},
   "outputs": [
    {
     "data": {
      "text/plain": [
       "FIPS\n",
       "1                      Alabama\n",
       "2                       Alaska\n",
       "4                      Arizona\n",
       "5                     Arkansas\n",
       "                ...           \n",
       "66                        Guam\n",
       "69    Northern Mariana Islands\n",
       "72                 Puerto Rico\n",
       "78              Virgin Islands\n",
       "Name: Name, Length: 55, dtype: object"
      ]
     },
     "execution_count": 29,
     "metadata": {},
     "output_type": "execute_result"
    }
   ],
   "source": [
    "fips_map = fips.set_index('FIPS').Name\n",
    "fips_map"
   ]
  },
  {
   "cell_type": "code",
   "execution_count": 30,
   "metadata": {},
   "outputs": [],
   "source": [
    "def extremes(coords):\n",
    "    lat, lon = [], []\n",
    "    # Expect a list of lists of lists\n",
    "    for region in coords:\n",
    "        for point in region:\n",
    "            lat.append(point[1])\n",
    "            lon.append(point[0])\n",
    "    # We are assuming western hemisphere here\n",
    "    north = max(lat)\n",
    "    south = min(lat)\n",
    "    east = max(lon)\n",
    "    west = min(lon)\n",
    "    return north, south, east, west"
   ]
  },
  {
   "cell_type": "code",
   "execution_count": 31,
   "metadata": {},
   "outputs": [],
   "source": [
    "def county_summary(features):\n",
    "    geo_id = []\n",
    "    state, county_name, area = [], [], []\n",
    "    north, south, east, west = [], [], [], []\n",
    "\n",
    "    for county in features:\n",
    "        props = county['properties']\n",
    "        polys = county['geometry']['coordinates']\n",
    "        geo_id.append(props['GEO_ID'])\n",
    "        # District of Columbia not US state (default to None)\n",
    "        state_name = fips_map.get(int(props['STATE']), None)\n",
    "        state.append(state_name)\n",
    "        county_name.append(props['NAME'])\n",
    "        area.append(props['CENSUSAREA'] * 2.59)\n",
    "        n, s, e, w = extremes(polys)\n",
    "        north.append(n)\n",
    "        south.append(s)\n",
    "        east.append(e)\n",
    "        west.append(w)\n",
    "\n",
    "    df = pd.DataFrame({\n",
    "            'geo_id': geo_id,\n",
    "            'state': state,\n",
    "            'county': county_name,\n",
    "            'area': area,\n",
    "            'northmost': north,\n",
    "            'southmost': south,\n",
    "            'eastmost': east,\n",
    "            'westmost': west\n",
    "        })\n",
    "    return df.set_index('geo_id')"
   ]
  },
  {
   "cell_type": "code",
   "execution_count": 32,
   "metadata": {},
   "outputs": [],
   "source": [
    "def test_counties(df):\n",
    "    assert (df.northmost > df.southmost).all()\n",
    "    assert (df.westmost < df.eastmost).all()\n",
    "    assert (df.area > 0).all()"
   ]
  },
  {
   "cell_type": "code",
   "execution_count": 33,
   "metadata": {},
   "outputs": [
    {
     "data": {
      "text/html": [
       "<div>\n",
       "<style scoped>\n",
       "    .dataframe tbody tr th:only-of-type {\n",
       "        vertical-align: middle;\n",
       "    }\n",
       "\n",
       "    .dataframe tbody tr th {\n",
       "        vertical-align: top;\n",
       "    }\n",
       "\n",
       "    .dataframe thead th {\n",
       "        text-align: right;\n",
       "    }\n",
       "</style>\n",
       "<table border=\"1\" class=\"dataframe\">\n",
       "  <thead>\n",
       "    <tr style=\"text-align: right;\">\n",
       "      <th></th>\n",
       "      <th>state</th>\n",
       "      <th>county</th>\n",
       "      <th>area</th>\n",
       "      <th>northmost</th>\n",
       "      <th>southmost</th>\n",
       "      <th>eastmost</th>\n",
       "      <th>westmost</th>\n",
       "    </tr>\n",
       "    <tr>\n",
       "      <th>geo_id</th>\n",
       "      <th></th>\n",
       "      <th></th>\n",
       "      <th></th>\n",
       "      <th></th>\n",
       "      <th></th>\n",
       "      <th></th>\n",
       "      <th></th>\n",
       "    </tr>\n",
       "  </thead>\n",
       "  <tbody>\n",
       "    <tr>\n",
       "      <th>0500000US01001</th>\n",
       "      <td>Alabama</td>\n",
       "      <td>Autauga</td>\n",
       "      <td>1539.58924</td>\n",
       "      <td>32.7074</td>\n",
       "      <td>32.3408</td>\n",
       "      <td>-86.4112</td>\n",
       "      <td>-86.9176</td>\n",
       "    </tr>\n",
       "    <tr>\n",
       "      <th>0500000US01009</th>\n",
       "      <td>Alabama</td>\n",
       "      <td>Blount</td>\n",
       "      <td>1669.96984</td>\n",
       "      <td>34.2593</td>\n",
       "      <td>33.7653</td>\n",
       "      <td>-86.3035</td>\n",
       "      <td>-86.9634</td>\n",
       "    </tr>\n",
       "    <tr>\n",
       "      <th>0500000US01017</th>\n",
       "      <td>Alabama</td>\n",
       "      <td>Chambers</td>\n",
       "      <td>1545.01529</td>\n",
       "      <td>33.1081</td>\n",
       "      <td>32.7285</td>\n",
       "      <td>-85.1234</td>\n",
       "      <td>-85.5932</td>\n",
       "    </tr>\n",
       "    <tr>\n",
       "      <th>0500000US01021</th>\n",
       "      <td>Alabama</td>\n",
       "      <td>Chilton</td>\n",
       "      <td>1794.49186</td>\n",
       "      <td>33.0719</td>\n",
       "      <td>32.6617</td>\n",
       "      <td>-86.375</td>\n",
       "      <td>-87.0192</td>\n",
       "    </tr>\n",
       "    <tr>\n",
       "      <th>...</th>\n",
       "      <td>...</td>\n",
       "      <td>...</td>\n",
       "      <td>...</td>\n",
       "      <td>...</td>\n",
       "      <td>...</td>\n",
       "      <td>...</td>\n",
       "      <td>...</td>\n",
       "    </tr>\n",
       "    <tr>\n",
       "      <th>0500000US51021</th>\n",
       "      <td>Virginia</td>\n",
       "      <td>Bland</td>\n",
       "      <td>926.50775</td>\n",
       "      <td>37.2935</td>\n",
       "      <td>36.9524</td>\n",
       "      <td>-80.8546</td>\n",
       "      <td>-81.4622</td>\n",
       "    </tr>\n",
       "    <tr>\n",
       "      <th>0500000US51027</th>\n",
       "      <td>Virginia</td>\n",
       "      <td>Buchanan</td>\n",
       "      <td>1302.15617</td>\n",
       "      <td>37.5378</td>\n",
       "      <td>37.0417</td>\n",
       "      <td>-81.7384</td>\n",
       "      <td>-82.3059</td>\n",
       "    </tr>\n",
       "    <tr>\n",
       "      <th>0500000US51037</th>\n",
       "      <td>Virginia</td>\n",
       "      <td>Charlotte</td>\n",
       "      <td>1230.95189</td>\n",
       "      <td>37.2488</td>\n",
       "      <td>36.6979</td>\n",
       "      <td>-78.4433</td>\n",
       "      <td>-78.9046</td>\n",
       "    </tr>\n",
       "    <tr>\n",
       "      <th>0500000US51041</th>\n",
       "      <td>Virginia</td>\n",
       "      <td>Chesterfield</td>\n",
       "      <td>1096.33923</td>\n",
       "      <td>37.5626</td>\n",
       "      <td>37.2227</td>\n",
       "      <td>-77.2442</td>\n",
       "      <td>-77.8551</td>\n",
       "    </tr>\n",
       "  </tbody>\n",
       "</table>\n",
       "<p>3221 rows × 7 columns</p>\n",
       "</div>"
      ],
      "text/plain": [
       "                   state        county        area northmost southmost  \\\n",
       "geo_id                                                                   \n",
       "0500000US01001   Alabama       Autauga  1539.58924   32.7074   32.3408   \n",
       "0500000US01009   Alabama        Blount  1669.96984   34.2593   33.7653   \n",
       "0500000US01017   Alabama      Chambers  1545.01529   33.1081   32.7285   \n",
       "0500000US01021   Alabama       Chilton  1794.49186   33.0719   32.6617   \n",
       "...                  ...           ...         ...       ...       ...   \n",
       "0500000US51021  Virginia         Bland   926.50775   37.2935   36.9524   \n",
       "0500000US51027  Virginia      Buchanan  1302.15617   37.5378   37.0417   \n",
       "0500000US51037  Virginia     Charlotte  1230.95189   37.2488   36.6979   \n",
       "0500000US51041  Virginia  Chesterfield  1096.33923   37.5626   37.2227   \n",
       "\n",
       "               eastmost westmost  \n",
       "geo_id                            \n",
       "0500000US01001 -86.4112 -86.9176  \n",
       "0500000US01009 -86.3035 -86.9634  \n",
       "0500000US01017 -85.1234 -85.5932  \n",
       "0500000US01021  -86.375 -87.0192  \n",
       "...                 ...      ...  \n",
       "0500000US51021 -80.8546 -81.4622  \n",
       "0500000US51027 -81.7384 -82.3059  \n",
       "0500000US51037 -78.4433 -78.9046  \n",
       "0500000US51041 -77.2442 -77.8551  \n",
       "\n",
       "[3221 rows x 7 columns]"
      ]
     },
     "execution_count": 33,
     "metadata": {},
     "output_type": "execute_result"
    }
   ],
   "source": [
    "census_counties = county_summary(counties['features'])\n",
    "\n",
    "# Sanity checks (if no assertion violated, we are happy)\n",
    "test_counties(census_counties)\n",
    "census_counties"
   ]
  },
  {
   "cell_type": "markdown",
   "metadata": {},
   "source": [
    "### JSON Schema"
   ]
  },
  {
   "cell_type": "code",
   "execution_count": 34,
   "metadata": {},
   "outputs": [
    {
     "name": "stdout",
     "output_type": "stream",
     "text": [
      "Everything is Happy!\n"
     ]
    }
   ],
   "source": [
    "response = requests.get('https://geojson.org/schema/GeoJSON.json')\n",
    "geojson_schema = json.loads(response.text)\n",
    "\n",
    "if msg := not_valid(counties, geojson_schema):\n",
    "    print(msg)\n",
    "else:\n",
    "    print(\"Everything is Happy!\")"
   ]
  },
  {
   "cell_type": "code",
   "execution_count": 35,
   "metadata": {},
   "outputs": [],
   "source": [
    "user_schema = json.loads(\"\"\"\n",
    "{\n",
    "  \"$schema\": \"http://json-schema.org/draft-07/schema#\",\n",
    "  \"$id\": \"http://kdm.training/user-schema.json\",\n",
    "  \"title\": \"User\",\n",
    "  \"description\": \"A User of Our Computer System\",\n",
    "  \"type\" : \"object\",\n",
    "  \"required\": [\"name\", \"password\"],\n",
    "  \"properties\" : {\n",
    "     \"name\" : {\"type\" : \"string\"},\n",
    "     \"password\": {\n",
    "         \"description\": \"Use special characters and mixed case\",\n",
    "         \"type\": \"string\"},\n",
    "     \"lucky_numbers\": {\n",
    "         \"description\": \"Up to 6 favorite numbers 1-100\",\n",
    "         \"type\": \"array\",\n",
    "         \"items\": {\n",
    "           \"type\": \"number\",\n",
    "           \"minimum\": 1,\n",
    "           \"maximum\": 100\n",
    "         },\n",
    "         \"uniqueItems\": true,\n",
    "         \"minItems\": 0,\n",
    "         \"maxItems\": 6\n",
    "    }\n",
    "  }\n",
    "}\n",
    "\"\"\")"
   ]
  },
  {
   "cell_type": "code",
   "execution_count": 36,
   "metadata": {},
   "outputs": [],
   "source": [
    "david = json.loads(\"\"\"\n",
    "{\n",
    "  \"name\": \"David Mertz\",\n",
    "  \"password\": \"badpassword\",\n",
    "  \"details\": {\n",
    "    \"profession\": \"Data Scientist\",\n",
    "    \"employer\": \"KDM\"\n",
    "  },\n",
    "  \"lucky_numbers\": [12, 42, 55, 87]\n",
    "}\n",
    "\"\"\")\n",
    "\n",
    "if msg := not_valid(david, user_schema):\n",
    "    print(msg)"
   ]
  },
  {
   "cell_type": "code",
   "execution_count": 37,
   "metadata": {},
   "outputs": [
    {
     "name": "stdout",
     "output_type": "stream",
     "text": [
      "99 is not of type 'string'\n",
      "\n",
      "Failed validating 'type' in schema['properties']['name']:\n",
      "    {'type': 'string'}\n",
      "\n",
      "On instance['name']:\n",
      "    99\n"
     ]
    }
   ],
   "source": [
    "barbara_feldon = json.loads(\"\"\"\n",
    "{\n",
    "  \"name\": 99, \n",
    "  \"password\": \"1ibydieZ!S@8\"\n",
    "}\n",
    "\"\"\")\n",
    "\n",
    "if msg := not_valid(barbara_feldon, user_schema):\n",
    "    print(msg)"
   ]
  },
  {
   "cell_type": "code",
   "execution_count": 38,
   "metadata": {},
   "outputs": [
    {
     "name": "stdout",
     "output_type": "stream",
     "text": [
      "'name' is a required property\n",
      "\n",
      "Failed validating 'required' in schema:\n",
      "    {'$id': 'http://kdm.training/user-schema.json',\n",
      "     '$schema': 'http://json-schema.org/draft-07/schema#',\n",
      "     'description': 'A User of Our Computer System',\n",
      "     'properties': {'lucky_numbers': {'description': 'Up to 6 favorite '\n",
      "                                                     'numbers 1-100',\n",
      "                                      'items': {'maximum': 100,\n",
      "                                                'minimum': 1,\n",
      "                                                'type': 'number'},\n",
      "                                      'maxItems': 6,\n",
      "                                      'minItems': 0,\n",
      "                                      'type': 'array',\n",
      "                                      'uniqueItems': True},\n",
      "                    'name': {'type': 'string'},\n",
      "                    'password': {'description': 'Use special characters '\n",
      "                                                'and mixed case',\n",
      "                                 'type': 'string'}},\n",
      "     'required': ['name', 'password'],\n",
      "     'title': 'User',\n",
      "     'type': 'object'}\n",
      "\n",
      "On instance:\n",
      "    {'password': 'P4cC!^*8chWz8', 'profession': 'Hacker'}\n"
     ]
    }
   ],
   "source": [
    "intruder = json.loads(\"\"\"\n",
    "{\n",
    "  \"password\": \"P4cC!^*8chWz8\", \n",
    "  \"profession\": \"Hacker\"\n",
    "}\n",
    "\"\"\")\n",
    "\n",
    "if msg := not_valid(intruder, user_schema):\n",
    "    print(msg)"
   ]
  },
  {
   "cell_type": "code",
   "execution_count": 39,
   "metadata": {},
   "outputs": [
    {
     "name": "stdout",
     "output_type": "stream",
     "text": [
      "'one' is not of type 'number'\n",
      "\n",
      "Failed validating 'type' in schema['properties']['lucky_numbers']['items']:\n",
      "    {'maximum': 100, 'minimum': 1, 'type': 'number'}\n",
      "\n",
      "On instance['lucky_numbers'][0]:\n",
      "    'one' \n",
      "--------------------\n"
     ]
    }
   ],
   "source": [
    "the_count = json.loads(\"\"\"\n",
    "{\n",
    "  \"name\": \"Count von Count\",\n",
    "  \"password\": \"fourbananas\",\n",
    "  \"lucky_numbers\": [\"one\", \"two\", \"three\"]\n",
    "}\n",
    "\"\"\")\n",
    "\n",
    "if msg := not_valid(the_count, user_schema):\n",
    "    print(msg, \"\\n--------------------\")"
   ]
  },
  {
   "cell_type": "code",
   "execution_count": 40,
   "metadata": {},
   "outputs": [
    {
     "name": "stdout",
     "output_type": "stream",
     "text": [
      "[1, 2, 3, 4, 5, 6, 7, 8] is too long\n",
      "\n",
      "Failed validating 'maxItems' in schema['properties']['lucky_numbers']:\n",
      "    {'description': 'Up to 6 favorite numbers 1-100',\n",
      "     'items': {'maximum': 100, 'minimum': 1, 'type': 'number'},\n",
      "     'maxItems': 6,\n",
      "     'minItems': 0,\n",
      "     'type': 'array',\n",
      "     'uniqueItems': True}\n",
      "\n",
      "On instance['lucky_numbers']:\n",
      "    [1, 2, 3, 4, 5, 6, 7, 8]\n"
     ]
    }
   ],
   "source": [
    "george = json.loads(\"\"\"\n",
    "{\n",
    "  \"name\": \"Georg Cantor\",\n",
    "  \"password\": \"omega_aleph\",\n",
    "  \"lucky_numbers\": [1, 2, 3, 4, 5, 6, 7, 8]\n",
    "}\n",
    "\"\"\")\n",
    "\n",
    "if msg := not_valid(george, user_schema):\n",
    "    print(msg)"
   ]
  },
  {
   "cell_type": "code",
   "execution_count": 41,
   "metadata": {},
   "outputs": [
    {
     "name": "stdout",
     "output_type": "stream",
     "text": [
      "[9, 9, 9] has non-unique elements\n",
      "\n",
      "Failed validating 'uniqueItems' in schema['properties']['lucky_numbers']:\n",
      "    {'description': 'Up to 6 favorite numbers 1-100',\n",
      "     'items': {'maximum': 100, 'minimum': 1, 'type': 'number'},\n",
      "     'maxItems': 6,\n",
      "     'minItems': 0,\n",
      "     'type': 'array',\n",
      "     'uniqueItems': True}\n",
      "\n",
      "On instance['lucky_numbers']:\n",
      "    [9, 9, 9]\n"
     ]
    }
   ],
   "source": [
    "revolution_9 = json.loads(\"\"\"\n",
    "{\n",
    "  \"name\": \"Yoko Ono\",\n",
    "  \"password\": \"grapefruit\",\n",
    "  \"lucky_numbers\": [9, 9, 9]\n",
    "}\n",
    "\"\"\")\n",
    "\n",
    "if msg := not_valid(revolution_9, user_schema):\n",
    "    print(msg)"
   ]
  },
  {
   "cell_type": "markdown",
   "metadata": {},
   "source": [
    "## XML"
   ]
  },
  {
   "cell_type": "markdown",
   "metadata": {},
   "source": [
    "### User Records"
   ]
  },
  {
   "cell_type": "code",
   "execution_count": 42,
   "metadata": {},
   "outputs": [
    {
     "name": "stdout",
     "output_type": "stream",
     "text": [
      "Body (title): Data Scientist\n",
      "Attributes:   {'employer': 'KDM', 'duration': '26', 'units': 'months'}\n"
     ]
    }
   ],
   "source": [
    "import xml.etree.ElementTree as ET\n",
    "tree = ET.parse('data/users.xml')\n",
    "\n",
    "# Let us first find the attributes and text of a profession\n",
    "prof = tree.find('user').find('details').find('profession')\n",
    "print(\"Body (title):\", prof.text.strip())\n",
    "print(\"Attributes:  \", prof.attrib)"
   ]
  },
  {
   "cell_type": "code",
   "execution_count": 43,
   "metadata": {},
   "outputs": [
    {
     "data": {
      "text/plain": [
       "[12, 42, 55, 87]"
      ]
     },
     "execution_count": 43,
     "metadata": {},
     "output_type": "execute_result"
    }
   ],
   "source": [
    "items = tree.find('user').find('lucky-numbers').findall('item')\n",
    "lucky_numbers = [int(item.text) for item in items]\n",
    "lucky_numbers"
   ]
  },
  {
   "cell_type": "markdown",
   "metadata": {},
   "source": [
    "### Keyhole Markup Language"
   ]
  },
  {
   "cell_type": "code",
   "execution_count": 44,
   "metadata": {},
   "outputs": [
    {
     "name": "stdout",
     "output_type": "stream",
     "text": [
      "Count of placemarks: 3221\n"
     ]
    },
    {
     "data": {
      "text/plain": [
       "<Element '{http://www.opengis.net/kml/2.2}Placemark' at 0x7f2fdc184d10>"
      ]
     },
     "execution_count": 44,
     "metadata": {},
     "output_type": "execute_result"
    }
   ],
   "source": [
    "ns = {'kml': \"http://www.opengis.net/kml/2.2\"}\n",
    "document = ET.parse('data/gz_2010_us_050_00_20m.kml')\n",
    "\n",
    "root = document.getroot()\n",
    "kml_doc = root.find('kml:Document', ns)\n",
    "folder = kml_doc.find('kml:Folder', ns)\n",
    "\n",
    "# Make sure we have the same number of counties as with GeoJSON\n",
    "placemarks = folder.findall('kml:Placemark', ns)\n",
    "print(\"Count of placemarks:\", len(placemarks))\n",
    "# Show one Placemark element object\n",
    "placemarks[0]"
   ]
  },
  {
   "cell_type": "code",
   "execution_count": 45,
   "metadata": {},
   "outputs": [
    {
     "name": "stdout",
     "output_type": "stream",
     "text": [
      "County name: Autauga\n",
      "{'name': 'Name'} Autauga\n",
      "{'name': 'GEO_ID'} 0500000US01001\n",
      "{'name': 'STATE'} 01\n",
      "{'name': 'COUNTY'} 001\n",
      "{'name': 'LSAD'} County\n",
      "{'name': 'CENSUSAREA'} 594.436000000000035\n"
     ]
    }
   ],
   "source": [
    "# The name of the county is comparatively straightforward\n",
    "print(\"County name:\", placemarks[0].find('kml:name', ns).text)\n",
    "\n",
    "# Other county info is only distinguished by attribute\n",
    "sdata = (placemarks[0].find('kml:ExtendedData', ns)\n",
    "                      .find('kml:SchemaData', ns)\n",
    "                      .findall('kml:SimpleData', ns))\n",
    "\n",
    "# We are going to want GEO_ID, STATE and CENSUSAREA\n",
    "for record in sdata:\n",
    "    print(record.attrib, record.text)"
   ]
  },
  {
   "cell_type": "code",
   "execution_count": 46,
   "metadata": {},
   "outputs": [
    {
     "name": "stdout",
     "output_type": "stream",
     "text": [
      "('-86.497916734108713,32.346347937379285,123.940341341309249 '\n",
      " '-86.719045580223096,32.404719907202413,124.507383406162262 '\n",
      " '-86.816062031841554,32.342711234558017,124.433184524998069 '\n",
      " '-86.891734835750142,32.50487314981855,125.151479452848434 '\n",
      " '-86.918751525796665,32.666059588245083,125.785741473548114 '\n",
      " '-86.714541775531544,32.66362459160964,125.451970156282187 '\n",
      " '-86.715371359148733,32.707584324141543,125.614226697944105 '\n",
      " '-86.414261392701192,32.709278995622782,125.144079957157373 '\n",
      " '-86.41231357529395,32.411845326016262,124.046804890967906 '\n",
      " '-86.497916734108713,32.346347937379285,123.940341341309249')\n"
     ]
    }
   ],
   "source": [
    "coords = (placemarks[0].find('kml:Polygon', ns)\n",
    "                       .find('kml:outerBoundaryIs', ns)\n",
    "                       .find('kml:LinearRing', ns)\n",
    "                       .find('kml:coordinates', ns))\n",
    "pprint(coords.text)"
   ]
  },
  {
   "cell_type": "code",
   "execution_count": 47,
   "metadata": {},
   "outputs": [
    {
     "data": {
      "text/plain": [
       "(32.70927899562278, 32.34271123455802, -86.41231357529395, -86.91875152579667)"
      ]
     },
     "execution_count": 47,
     "metadata": {},
     "output_type": "execute_result"
    }
   ],
   "source": [
    "def kml_extremes(coordinates):\n",
    "    \"Pass in a KML coordinates ElementTree object\"\n",
    "    text_points = coordinates.text.split()\n",
    "    points = [p.split(',') for p in text_points]\n",
    "    points = [[float(p[0]), float(p[1])] for p in points]\n",
    "    # We pass a list-of-list-of-lists here\n",
    "    return extremes([points])\n",
    "\n",
    "kml_extremes(coords)"
   ]
  },
  {
   "cell_type": "code",
   "execution_count": 48,
   "metadata": {},
   "outputs": [],
   "source": [
    "def kml_county_summary(placemarks, ns=ns):\n",
    "    geo_id = []\n",
    "    state, county_name, area = [], [], []\n",
    "    north, south, east, west = [], [], [], []\n",
    "\n",
    "    for placemark in placemarks:\n",
    "        # Get county name here and below to assure consistency\n",
    "        name = placemark.find('kml:name', ns).text\n",
    "        \n",
    "        # Other county info is distinguished by XML attribute\n",
    "        sdata = (placemark.find('kml:ExtendedData', ns)\n",
    "                          .find('kml:SchemaData', ns)\n",
    "                          .findall('kml:SimpleData', ns))\n",
    "        # We want Name, GEO_ID, STATE and CENSUSAREA\n",
    "        for record in sdata:\n",
    "            rectype = record.attrib['name']  # XML attrib\n",
    "            if rectype == 'Name':  # String 'Name' (county)\n",
    "                # If name is recorded differently, problem!\n",
    "                assert record.text == name\n",
    "                county_name.append(name)\n",
    "            elif rectype == 'GEO_ID':\n",
    "                geo_id.append(record.text)\n",
    "            elif rectype == 'CENSUSAREA':\n",
    "                # Convert to km^2 from mi^2\n",
    "                area.append(float(record.text) * 2.59)\n",
    "            elif rectype == 'STATE':\n",
    "                # District of Columbia is not a US state\n",
    "                state_name = fips_map.get(int(record.text), None)\n",
    "                state.append(state_name)\n",
    "\n",
    "        # We are going to \"cheat\" here a little bit.  \n",
    "        # Sometimes a placemark has a top level <MultiGeometry>\n",
    "        # with several Polygons; we will skip that calculation \n",
    "        try:\n",
    "            coordinates = (placemark\n",
    "                    .find('kml:Polygon', ns)\n",
    "                    .find('kml:outerBoundaryIs', ns)\n",
    "                    .find('kml:LinearRing', ns)\n",
    "                    .find('kml:coordinates', ns))                \n",
    "            n, s, e, w = kml_extremes(coordinates)\n",
    "        except AttributeError:\n",
    "            n, s, e, w = None, None, None, None\n",
    "            \n",
    "        north.append(n); south.append(s); \n",
    "        east.append(e); west.append(w)\n",
    "\n",
    "    df = pd.DataFrame({\n",
    "            'geo_id': geo_id, 'state': state, \n",
    "            'county': county_name, 'area': area,\n",
    "            'northmost': north, 'southmost': south,\n",
    "            'eastmost': east, 'westmost': west\n",
    "        })\n",
    "    return df.set_index('geo_id')"
   ]
  },
  {
   "cell_type": "code",
   "execution_count": 49,
   "metadata": {},
   "outputs": [
    {
     "data": {
      "text/html": [
       "<div>\n",
       "<style scoped>\n",
       "    .dataframe tbody tr th:only-of-type {\n",
       "        vertical-align: middle;\n",
       "    }\n",
       "\n",
       "    .dataframe tbody tr th {\n",
       "        vertical-align: top;\n",
       "    }\n",
       "\n",
       "    .dataframe thead th {\n",
       "        text-align: right;\n",
       "    }\n",
       "</style>\n",
       "<table border=\"1\" class=\"dataframe\">\n",
       "  <thead>\n",
       "    <tr style=\"text-align: right;\">\n",
       "      <th></th>\n",
       "      <th>state</th>\n",
       "      <th>county</th>\n",
       "      <th>area</th>\n",
       "      <th>northmost</th>\n",
       "      <th>southmost</th>\n",
       "      <th>eastmost</th>\n",
       "      <th>westmost</th>\n",
       "    </tr>\n",
       "    <tr>\n",
       "      <th>geo_id</th>\n",
       "      <th></th>\n",
       "      <th></th>\n",
       "      <th></th>\n",
       "      <th></th>\n",
       "      <th></th>\n",
       "      <th></th>\n",
       "      <th></th>\n",
       "    </tr>\n",
       "  </thead>\n",
       "  <tbody>\n",
       "    <tr>\n",
       "      <th>0500000US01001</th>\n",
       "      <td>Alabama</td>\n",
       "      <td>Autauga</td>\n",
       "      <td>1539.58924</td>\n",
       "      <td>32.709279</td>\n",
       "      <td>32.342711</td>\n",
       "      <td>-86.412314</td>\n",
       "      <td>-86.918752</td>\n",
       "    </tr>\n",
       "    <tr>\n",
       "      <th>0500000US01009</th>\n",
       "      <td>Alabama</td>\n",
       "      <td>Blount</td>\n",
       "      <td>1669.96984</td>\n",
       "      <td>34.261131</td>\n",
       "      <td>33.767154</td>\n",
       "      <td>-86.304677</td>\n",
       "      <td>-86.964531</td>\n",
       "    </tr>\n",
       "    <tr>\n",
       "      <th>0500000US01017</th>\n",
       "      <td>Alabama</td>\n",
       "      <td>Chambers</td>\n",
       "      <td>1545.01529</td>\n",
       "      <td>33.109960</td>\n",
       "      <td>32.730429</td>\n",
       "      <td>-85.124537</td>\n",
       "      <td>-85.594308</td>\n",
       "    </tr>\n",
       "    <tr>\n",
       "      <th>0500000US01021</th>\n",
       "      <td>Alabama</td>\n",
       "      <td>Chilton</td>\n",
       "      <td>1794.49186</td>\n",
       "      <td>33.073731</td>\n",
       "      <td>32.663625</td>\n",
       "      <td>-86.376119</td>\n",
       "      <td>-87.020318</td>\n",
       "    </tr>\n",
       "    <tr>\n",
       "      <th>...</th>\n",
       "      <td>...</td>\n",
       "      <td>...</td>\n",
       "      <td>...</td>\n",
       "      <td>...</td>\n",
       "      <td>...</td>\n",
       "      <td>...</td>\n",
       "      <td>...</td>\n",
       "    </tr>\n",
       "    <tr>\n",
       "      <th>0500000US51021</th>\n",
       "      <td>Virginia</td>\n",
       "      <td>Bland</td>\n",
       "      <td>926.50775</td>\n",
       "      <td>37.295189</td>\n",
       "      <td>36.954152</td>\n",
       "      <td>-80.855694</td>\n",
       "      <td>-81.463294</td>\n",
       "    </tr>\n",
       "    <tr>\n",
       "      <th>0500000US51027</th>\n",
       "      <td>Virginia</td>\n",
       "      <td>Buchanan</td>\n",
       "      <td>1302.15617</td>\n",
       "      <td>37.539502</td>\n",
       "      <td>37.043415</td>\n",
       "      <td>-81.739470</td>\n",
       "      <td>-82.306981</td>\n",
       "    </tr>\n",
       "    <tr>\n",
       "      <th>0500000US51037</th>\n",
       "      <td>Virginia</td>\n",
       "      <td>Charlotte</td>\n",
       "      <td>1230.95189</td>\n",
       "      <td>37.250505</td>\n",
       "      <td>36.699679</td>\n",
       "      <td>-78.444320</td>\n",
       "      <td>-78.905600</td>\n",
       "    </tr>\n",
       "    <tr>\n",
       "      <th>0500000US51041</th>\n",
       "      <td>Virginia</td>\n",
       "      <td>Chesterfield</td>\n",
       "      <td>1096.33923</td>\n",
       "      <td>37.564372</td>\n",
       "      <td>37.224467</td>\n",
       "      <td>-77.245139</td>\n",
       "      <td>-77.856138</td>\n",
       "    </tr>\n",
       "  </tbody>\n",
       "</table>\n",
       "<p>3221 rows × 7 columns</p>\n",
       "</div>"
      ],
      "text/plain": [
       "                   state        county        area  northmost  southmost  \\\n",
       "geo_id                                                                     \n",
       "0500000US01001   Alabama       Autauga  1539.58924  32.709279  32.342711   \n",
       "0500000US01009   Alabama        Blount  1669.96984  34.261131  33.767154   \n",
       "0500000US01017   Alabama      Chambers  1545.01529  33.109960  32.730429   \n",
       "0500000US01021   Alabama       Chilton  1794.49186  33.073731  32.663625   \n",
       "...                  ...           ...         ...        ...        ...   \n",
       "0500000US51021  Virginia         Bland   926.50775  37.295189  36.954152   \n",
       "0500000US51027  Virginia      Buchanan  1302.15617  37.539502  37.043415   \n",
       "0500000US51037  Virginia     Charlotte  1230.95189  37.250505  36.699679   \n",
       "0500000US51041  Virginia  Chesterfield  1096.33923  37.564372  37.224467   \n",
       "\n",
       "                 eastmost   westmost  \n",
       "geo_id                                \n",
       "0500000US01001 -86.412314 -86.918752  \n",
       "0500000US01009 -86.304677 -86.964531  \n",
       "0500000US01017 -85.124537 -85.594308  \n",
       "0500000US01021 -86.376119 -87.020318  \n",
       "...                   ...        ...  \n",
       "0500000US51021 -80.855694 -81.463294  \n",
       "0500000US51027 -81.739470 -82.306981  \n",
       "0500000US51037 -78.444320 -78.905600  \n",
       "0500000US51041 -77.245139 -77.856138  \n",
       "\n",
       "[3221 rows x 7 columns]"
      ]
     },
     "execution_count": 49,
     "metadata": {},
     "output_type": "execute_result"
    }
   ],
   "source": [
    "kml_counties = kml_county_summary(placemarks)\n",
    "kml_counties"
   ]
  },
  {
   "cell_type": "markdown",
   "metadata": {},
   "source": [
    "## Configuration Files"
   ]
  },
  {
   "cell_type": "markdown",
   "metadata": {},
   "source": [
    "### INI and Flat Custom Formats"
   ]
  },
  {
   "cell_type": "code",
   "execution_count": 50,
   "metadata": {},
   "outputs": [
    {
     "name": "stdout",
     "output_type": "stream",
     "text": [
      "Sections:    ['owner', 'database']\n",
      "Owner keys:  ['name', 'organization']\n",
      "Owner/name:  John Doe\n",
      "Port #:      143\n"
     ]
    }
   ],
   "source": [
    "import configparser\n",
    "cfg = configparser.ConfigParser()\n",
    "cfg.read('data/example.ini')\n",
    "\n",
    "print(\"Sections:   \", cfg.sections())\n",
    "print(\"Owner keys: \", [k for k in cfg['owner']])\n",
    "print(\"Owner/name: \", cfg['owner']['name'])\n",
    "print(\"Port #:     \", cfg['database'].getint('port'))"
   ]
  },
  {
   "cell_type": "markdown",
   "metadata": {},
   "source": [
    "### TOML"
   ]
  },
  {
   "cell_type": "code",
   "execution_count": 51,
   "metadata": {},
   "outputs": [
    {
     "data": {
      "text/plain": [
       "{'title': 'TOML Example',\n",
       " 'owner': {'name': 'Tom Preston-Werner',\n",
       "  'dob': datetime.datetime(1979, 5, 27, 7, 32, tzinfo=<toml.tz.TomlTz object at 0x7f2fdc171a30>)},\n",
       " 'database': {'server': '192.168.1.1',\n",
       "  'ports': [8001, 8001, 8002],\n",
       "  'connection_max': 5000,\n",
       "  'enabled': True},\n",
       " 'servers': {'alpha': {'ip': '10.0.0.1', 'dc': 'eqdc10'},\n",
       "  'beta': {'ip': '10.0.0.2', 'dc': 'eqdc10'}},\n",
       " 'clients': {'data': [['gamma', 'delta'], [1, 2]],\n",
       "  'hosts': ['alpha', 'omega']}}"
      ]
     },
     "execution_count": 51,
     "metadata": {},
     "output_type": "execute_result"
    }
   ],
   "source": [
    "import toml\n",
    "toml.load(open('data/example.toml'))"
   ]
  },
  {
   "cell_type": "code",
   "execution_count": 52,
   "metadata": {},
   "outputs": [
    {
     "name": "stdout",
     "output_type": "stream",
     "text": [
      "TomlDecodeError\n",
      "invalid literal for int() with base 0: '2] []\n",
      "hosts = [   \"alpha\"' (line 27 column 1 char 433)\n"
     ]
    }
   ],
   "source": [
    "with open('data/example-bad.toml') as fh:\n",
    "    try:\n",
    "        cfg = toml.load(fh)\n",
    "    except Exception as err:\n",
    "        print_err(err)"
   ]
  },
  {
   "cell_type": "code",
   "execution_count": 53,
   "metadata": {},
   "outputs": [
    {
     "name": "stdout",
     "output_type": "stream",
     "text": [
      "    26\t[clients]\n",
      "    27\tdata = [ [\"gamma\", \"delta\"], [1, 2] []\n",
      "    28\t\n",
      "    29\t# Line breaks are OK when inside arrays\n",
      "    30\thosts = [\n",
      "    31\t  \"alpha\",\n",
      "    32\t  \"omega\"\n",
      "    33\t]"
     ]
    }
   ],
   "source": [
    "!cat -n data/example-bad.toml | tail -8"
   ]
  },
  {
   "cell_type": "code",
   "execution_count": 54,
   "metadata": {},
   "outputs": [
    {
     "name": "stdout",
     "output_type": "stream",
     "text": [
      "List of 5\n",
      " $ clients :List of 2\n",
      "  ..$ data :List of 2\n",
      "  .. ..$ : chr [1:2] \"gamma\" \"delta\"\n",
      "  .. ..$ : int [1:2] 1 2\n",
      "  ..$ hosts: chr [1:2] \"alpha\" \"omega\"\n",
      " $ database:List of 4\n",
      "  ..$ connection_max: int 5000\n",
      "  ..$ enabled       : logi TRUE\n",
      "  ..$ ports         : int [1:3] 8001 8001 8002\n",
      "  ..$ server        : chr \"192.168.1.1\"\n",
      " $ owner   :List of 2\n",
      "  ..$ dob : POSIXct[1:1], format: \"1979-05-27 15:32:00\"\n",
      "  ..$ name: chr \"Tom Preston-Werner\"\n",
      " $ servers :List of 2\n",
      "  ..$ alpha:List of 2\n",
      "  .. ..$ dc: chr \"eqdc10\"\n",
      "  .. ..$ ip: chr \"10.0.0.1\"\n",
      "  ..$ beta :List of 2\n",
      "  .. ..$ dc: chr \"eqdc10\"\n",
      "  .. ..$ ip: chr \"10.0.0.2\"\n",
      " $ title   : chr \"TOML Example\"\n"
     ]
    }
   ],
   "source": [
    "%%R\n",
    "library(RcppTOML)\n",
    "parseTOML(\"data/example.toml\")"
   ]
  },
  {
   "cell_type": "markdown",
   "metadata": {},
   "source": [
    "### Yet Another Markup Language"
   ]
  },
  {
   "cell_type": "code",
   "execution_count": 55,
   "metadata": {},
   "outputs": [
    {
     "data": {
      "text/plain": [
       "{'invoice': 34843,\n",
       " 'date': datetime.date(2001, 1, 23),\n",
       " 'bill-to': {'given': 'Chris',\n",
       "  'family': 'Dumars',\n",
       "  'address': {'lines': '458 Walkman Dr.\\nSuite #292\\n',\n",
       "   'city': 'Royal Oak',\n",
       "   'state': 'MI',\n",
       "   'postal': 48046}},\n",
       " 'ship-to': {'given': 'Chris',\n",
       "  'family': 'Dumars',\n",
       "  'address': {'lines': '458 Walkman Dr.\\nSuite #292\\n',\n",
       "   'city': 'Royal Oak',\n",
       "   'state': 'MI',\n",
       "   'postal': 48046}},\n",
       " 'product': [{'sku': 'BL394D',\n",
       "   'quantity': 4,\n",
       "   'description': 'Basketball',\n",
       "   'price': 450.0},\n",
       "  {'sku': 'BL4438H',\n",
       "   'quantity': 1,\n",
       "   'description': 'Super Hoop',\n",
       "   'price': 2392.0}],\n",
       " 'tax': 251.42,\n",
       " 'total': 4443.52,\n",
       " 'comments': 'Late afternoon is best. Backup contact is Nancy Billsmer @ 338-4338.'}"
      ]
     },
     "execution_count": 55,
     "metadata": {},
     "output_type": "execute_result"
    }
   ],
   "source": [
    "import yaml\n",
    "order = yaml.load(open('data/example.yaml'))\n",
    "order"
   ]
  },
  {
   "cell_type": "code",
   "execution_count": 56,
   "metadata": {},
   "outputs": [
    {
     "data": {
      "text/plain": [
       "True"
      ]
     },
     "execution_count": 56,
     "metadata": {},
     "output_type": "execute_result"
    }
   ],
   "source": [
    "# Is nested dict same object under different keys?\n",
    "order['ship-to'] is order['bill-to']"
   ]
  },
  {
   "cell_type": "code",
   "execution_count": 57,
   "metadata": {},
   "outputs": [
    {
     "name": "stdout",
     "output_type": "stream",
     "text": [
      "<generator object load_all at 0x7f2fcf760820> \n",
      "\n",
      "{'name': 'David', 'age': 55}\n",
      "{'name': 'Mei', 'age': 50}\n",
      "{'name': 'Juana', 'age': 47}\n",
      "{'name': 'Adebayo', 'age': 58}\n"
     ]
    }
   ],
   "source": [
    "with open('data/multidoc.yaml') as stream:\n",
    "    docs = yaml.load_all(stream)\n",
    "    print(docs, '\\n')\n",
    "    for doc in docs:\n",
    "        print(doc)"
   ]
  },
  {
   "cell_type": "code",
   "execution_count": 58,
   "metadata": {},
   "outputs": [
    {
     "name": "stdout",
     "output_type": "stream",
     "text": [
      "ScannerError\n",
      "mapping values are not allowed here   in \"data/example-bad.yaml\", line\n",
      "17, column 31\n"
     ]
    }
   ],
   "source": [
    "try:\n",
    "    yaml.load(open('data/example-bad.yaml'))\n",
    "except Exception as err:\n",
    "    print_err(err)"
   ]
  },
  {
   "cell_type": "code",
   "execution_count": 59,
   "metadata": {},
   "outputs": [
    {
     "name": "stdout",
     "output_type": "stream",
     "text": [
      "    15\t    - sku         : BL394D\n",
      "    16\t      quantity    : 4\n",
      "    17\t      description : Basketball: ERROR\n",
      "    18\t      price       : 450.00\n",
      "    19\t    - sku         : BL4438H\n"
     ]
    }
   ],
   "source": [
    "%%bash\n",
    "cat -n data/example-bad.yaml | sed '15,19p;d' "
   ]
  },
  {
   "cell_type": "code",
   "execution_count": 60,
   "metadata": {},
   "outputs": [
    {
     "name": "stdout",
     "output_type": "stream",
     "text": [
      "{'name': 'David', 'age': 55}\n",
      "{'name': 'Mei', 'age': 50}\n",
      "ScannerError\n",
      "mapping values are not allowed here   in \"data/multidoc-bad.yaml\",\n",
      "line 10, column 12\n"
     ]
    }
   ],
   "source": [
    "try:\n",
    "    for doc in yaml.load_all(open('data/multidoc-bad.yaml')):\n",
    "        print(doc)\n",
    "except Exception as err:\n",
    "    print_err(err)"
   ]
  },
  {
   "cell_type": "markdown",
   "metadata": {},
   "source": [
    "## NoSQL Databases"
   ]
  },
  {
   "cell_type": "code",
   "execution_count": 61,
   "metadata": {},
   "outputs": [],
   "source": [
    "# Assume that MongoDB is running on local system\n",
    "from pymongo import MongoClient\n",
    "client = MongoClient('mongodb://localhost:27017')"
   ]
  },
  {
   "cell_type": "code",
   "execution_count": 62,
   "metadata": {},
   "outputs": [
    {
     "data": {
      "text/plain": [
       "['admin', 'business', 'config', 'local']"
      ]
     },
     "execution_count": 62,
     "metadata": {},
     "output_type": "execute_result"
    }
   ],
   "source": [
    "# What databases exist on the local server?\n",
    "client.database_names()"
   ]
  },
  {
   "cell_type": "code",
   "execution_count": 63,
   "metadata": {},
   "outputs": [
    {
     "name": "stdout",
     "output_type": "stream",
     "text": [
      "Restaurants: 50\n",
      "{'_id': ObjectId('5f30928db504836031a2c2a1'),\n",
      " 'cuisine': 'Mexican',\n",
      " 'name': 'Kitchen Tasty Inc.',\n",
      " 'phone': '+1 524 555 9265'}\n",
      "{'_id': ObjectId('5f30928db504836031a2c2a2'),\n",
      " 'cuisine': 'Sandwich',\n",
      " 'name': 'Sweet Salty Take-Out',\n",
      " 'phone': '+1 408 555 6924'}\n",
      "{'_id': ObjectId('5f30928db504836031a2c2a3'),\n",
      " 'cuisine': 'Vegetarian',\n",
      " 'name': 'City Kitchen Inc.',\n",
      " 'phone': '+1 528 555 8923'}\n"
     ]
    }
   ],
   "source": [
    "db_biz = client.business\n",
    "print(\"Restaurants:\", db_biz.info.count())\n",
    "for biz in db_biz.info.find(limit=3):\n",
    "    pprint(biz)"
   ]
  },
  {
   "cell_type": "code",
   "execution_count": 64,
   "metadata": {},
   "outputs": [
    {
     "name": "stdout",
     "output_type": "stream",
     "text": [
      "Reviews: 5000\n",
      "{'_id': ObjectId('5f30928db504836031a2c2d3'),\n",
      " 'name': 'Tasty Sweet Inc.',\n",
      " 'price': 'cheap',\n",
      " 'rating': 1}\n",
      "{'_id': ObjectId('5f30928db504836031a2c2d4'),\n",
      " 'name': 'Big Big Restaurant',\n",
      " 'price': 'cheap',\n",
      " 'rating': 6}\n",
      "{'_id': ObjectId('5f30928db504836031a2c2d5'),\n",
      " 'name': 'Goat Big Take-Out',\n",
      " 'price': 'reasonable',\n",
      " 'rating': 8}\n"
     ]
    }
   ],
   "source": [
    "print(\"Reviews:\", db_biz.reviews.count())\n",
    "for review in db_biz.reviews.find(limit=3):\n",
    "    pprint(review)"
   ]
  },
  {
   "cell_type": "code",
   "execution_count": 65,
   "metadata": {},
   "outputs": [
    {
     "name": "stdout",
     "output_type": "stream",
     "text": [
      "{'_id': ObjectId('5f30928db504836031a2c2ea'),\n",
      " 'name': 'City Kitchen Inc.',\n",
      " 'price': 'cheap',\n",
      " 'rating': 3}\n",
      "{'_id': ObjectId('5f30928db504836031a2c435'),\n",
      " 'name': 'City Kitchen Inc.',\n",
      " 'price': 'cheap',\n",
      " 'rating': 7}\n",
      "{'_id': ObjectId('5f30928db504836031a2c553'),\n",
      " 'name': 'City Kitchen Inc.',\n",
      " 'price': 'cheap',\n",
      " 'rating': 3}\n",
      "{'_id': ObjectId('5f30928db504836031a2c5d6'),\n",
      " 'name': 'City Kitchen Inc.',\n",
      " 'price': 'cheap',\n",
      " 'rating': 1}\n"
     ]
    }
   ],
   "source": [
    "query = {'price': 'cheap', 'name': 'City Kitchen Inc.'}\n",
    "for review in db_biz.reviews.find(query, limit=4):\n",
    "    pprint(review)"
   ]
  },
  {
   "cell_type": "markdown",
   "metadata": {},
   "source": [
    "#### Missing Fields"
   ]
  },
  {
   "cell_type": "code",
   "execution_count": 66,
   "metadata": {},
   "outputs": [
    {
     "data": {
      "image/png": "[encoded data removed]",
      "text/plain": [
       "<Figure size 600x400 with 1 Axes>"
      ]
     },
     "metadata": {
      "needs_background": "light"
     },
     "output_type": "display_data"
    }
   ],
   "source": [
    "ratings = []\n",
    "query = {'name': 'City Kitchen Inc.'}\n",
    "for review in db_biz.reviews.find(query):\n",
    "    try:\n",
    "        ratings.append(review['rating'])\n",
    "    except KeyError:\n",
    "        pass\n",
    "\n",
    "n = len(ratings)\n",
    "pd.Series(ratings).plot(kind=\"hist\", title=f\"{n} ratings\")\n",
    "plt.savefig(f\"img/(Ch02){n} ratings.png\")"
   ]
  },
  {
   "cell_type": "code",
   "execution_count": 67,
   "metadata": {},
   "outputs": [
    {
     "data": {
      "text/plain": [
       "110"
      ]
     },
     "execution_count": 67,
     "metadata": {},
     "output_type": "execute_result"
    }
   ],
   "source": [
    "db_biz.reviews.find({'name': 'City Kitchen Inc.'}).count()"
   ]
  },
  {
   "cell_type": "code",
   "execution_count": 68,
   "metadata": {},
   "outputs": [
    {
     "data": {
      "text/plain": [
       "[{'_id': ObjectId('5f30928db504836031a2c3fa'),\n",
       "  'name': 'City Kitchen Inc.',\n",
       "  'price': 'expensive'},\n",
       " {'_id': ObjectId('5f30928db504836031a2c6b6'),\n",
       "  'name': 'City Kitchen Inc.',\n",
       "  'price': 'reasonable'}]"
      ]
     },
     "execution_count": 68,
     "metadata": {},
     "output_type": "execute_result"
    }
   ],
   "source": [
    "list(db_biz.reviews.find({'name': 'City Kitchen Inc.', 'rating': None}))"
   ]
  },
  {
   "cell_type": "markdown",
   "metadata": {},
   "source": [
    "#### Denormalization and Its Discontents"
   ]
  },
  {
   "cell_type": "code",
   "execution_count": 69,
   "metadata": {},
   "outputs": [],
   "source": [
    "def has_best_review(name, db=db_biz):\n",
    "    \"Return phone if restaurant has at least one 10 rating\"\n",
    "    query = {'name': name, 'rating': 10}\n",
    "    review = None\n",
    "    \n",
    "    # Fast path has phone in local results\n",
    "    for review in db.reviews.find(query):\n",
    "        phone = review.get('phone')\n",
    "        if phone:\n",
    "            return f\"Call {name} at {phone}! (FAST query)\"\n",
    "\n",
    "    # If there were no ratings of 10, we don't like it!\n",
    "    if not review:\n",
    "        return f\"Do not bother with {name}!\"\n",
    "\n",
    "    # MUCH SLOWER path is second query\n",
    "    info = db.info.find_one({'name': name})\n",
    "    return f\"Call {name} at {info['phone']}! (SLOW query)\""
   ]
  },
  {
   "cell_type": "code",
   "execution_count": 70,
   "metadata": {},
   "outputs": [
    {
     "data": {
      "text/plain": [
       "'Call Salty Big Take-Out at +1 354 555 8317! (FAST query)'"
      ]
     },
     "execution_count": 70,
     "metadata": {},
     "output_type": "execute_result"
    }
   ],
   "source": [
    "has_best_review('Salty Big Take-Out')"
   ]
  },
  {
   "cell_type": "code",
   "execution_count": 71,
   "metadata": {},
   "outputs": [
    {
     "data": {
      "text/plain": [
       "'Call City Kitchen Inc. at +1 528 555 8923! (SLOW query)'"
      ]
     },
     "execution_count": 71,
     "metadata": {},
     "output_type": "execute_result"
    }
   ],
   "source": [
    "has_best_review('City Kitchen Inc.')"
   ]
  },
  {
   "cell_type": "code",
   "execution_count": 72,
   "metadata": {},
   "outputs": [
    {
     "data": {
      "text/plain": [
       "'Do not bother with Out of Business!'"
      ]
     },
     "execution_count": 72,
     "metadata": {},
     "output_type": "execute_result"
    }
   ],
   "source": [
    "has_best_review('Out of Business')"
   ]
  },
  {
   "cell_type": "code",
   "execution_count": 73,
   "metadata": {},
   "outputs": [
    {
     "data": {
      "text/plain": [
       "{'_id': ObjectId('5f30928db504836031a2c7c9'),\n",
       " 'name': 'Salty Big Take-Out',\n",
       " 'price': 'reasonable',\n",
       " 'rating': 10,\n",
       " 'phone': '+1 354 555 8317'}"
      ]
     },
     "execution_count": 73,
     "metadata": {},
     "output_type": "execute_result"
    }
   ],
   "source": [
    "query = {'name': 'Salty Big Take-Out', \n",
    "         'rating': 10, 'phone':{\"$ne\":None}}\n",
    "\n",
    "db_biz.reviews.find_one(query)"
   ]
  },
  {
   "cell_type": "code",
   "execution_count": 74,
   "metadata": {},
   "outputs": [
    {
     "data": {
      "text/plain": [
       "{'_id': ObjectId('5f30928db504836031a2c2aa'),\n",
       " 'name': 'Salty Big Take-Out',\n",
       " 'cuisine': 'Mexican',\n",
       " 'phone': '+1 967 555 5487'}"
      ]
     },
     "execution_count": 74,
     "metadata": {},
     "output_type": "execute_result"
    }
   ],
   "source": [
    "db_biz.info.find_one({'name': 'Salty Big Take-Out'})"
   ]
  },
  {
   "cell_type": "markdown",
   "metadata": {},
   "source": [
    "### Key/Value Stores"
   ]
  },
  {
   "cell_type": "code",
   "execution_count": 75,
   "metadata": {},
   "outputs": [
    {
     "data": {
      "text/plain": [
       "[b'Big Sweet Take-Out::info::phone',\n",
       " b'Big Sweet Inc.::ratings',\n",
       " b'Goat Sweet Inc.::info::phone',\n",
       " b'Fish City Restaurant//ratings',\n",
       " b'Delight Goat Inc.::ratings',\n",
       " b'DESCRIPTION',\n",
       " b'Salty Delight Take-Out::ratings',\n",
       " b'Sweet Tasty Restaurant::info::phone',\n",
       " b'Delight Salty Restaurant::info::phone',\n",
       " b'Tasty Fish Inc.::info::cuisine']"
      ]
     },
     "execution_count": 75,
     "metadata": {},
     "output_type": "execute_result"
    }
   ],
   "source": [
    "biz = dbm.open('data/keyval.db')\n",
    "seed(6)\n",
    "# Keys are bytes; could convert to strings if desired\n",
    "sample(list(biz.keys()), 10)"
   ]
  },
  {
   "cell_type": "code",
   "execution_count": 76,
   "metadata": {},
   "outputs": [
    {
     "name": "stdout",
     "output_type": "stream",
     "text": [
      "Overview: b'Restaurant information'\n",
      "Cuisine:  b'Mexican'\n",
      "Ratings:  b'2;1;1;10;5;7;1;4;8;10;7;7;6;8;' ...\n"
     ]
    }
   ],
   "source": [
    "name = b\"Tasty Fish Inc.\"\n",
    "print(\"Overview:\", biz[b\"DESCRIPTION\"])\n",
    "print(\"Cuisine: \", biz[name + b\"::info::cuisine\"] )\n",
    "print(\"Ratings: \", biz[name + b\"::ratings\"][:30], \"...\")"
   ]
  },
  {
   "cell_type": "code",
   "execution_count": 77,
   "metadata": {},
   "outputs": [
    {
     "name": "stdout",
     "output_type": "stream",
     "text": [
      "Tasty Fish Inc.::ratings \t 2;1;1;10;5;7;1;4;8;10;7;7;6;8;\n",
      "Tasty Fish Inc.::info::phone \t +1 935 555 8029\n",
      "Tasty Fish Inc.::info::cuisine \t Mexican\n"
     ]
    }
   ],
   "source": [
    "for key, val in biz.items():\n",
    "    if key.startswith(b'Tasty Fish Inc.::'):\n",
    "        print(key.decode(), '\\t', val[:30].decode())"
   ]
  },
  {
   "cell_type": "code",
   "execution_count": 78,
   "metadata": {},
   "outputs": [
    {
     "name": "stdout",
     "output_type": "stream",
     "text": [
      "b'Fish City Restaurant::ratings' b'6;10;4;3;10;5;1;4;7;8;5;2;1;5;'\n",
      "b'Fish City Restaurant//ratings' b'9'\n",
      "b'Fish City Restaurant::info::phone' b'+1 851 555 1082'\n",
      "b'Fish City Restaurant::info::cuisine' b'American'\n"
     ]
    }
   ],
   "source": [
    "for key, val in biz.items():\n",
    "    if key.startswith(b'Fish City Restaurant'):\n",
    "        print(key, val[:30])"
   ]
  },
  {
   "cell_type": "markdown",
   "metadata": {},
   "source": [
    "## Exercises"
   ]
  },
  {
   "cell_type": "markdown",
   "metadata": {},
   "source": [
    "### Create a Relational Model"
   ]
  },
  {
   "cell_type": "code",
   "execution_count": 79,
   "metadata": {},
   "outputs": [
    {
     "data": {
      "text/plain": [
       "'dbm.dumb'"
      ]
     },
     "execution_count": 79,
     "metadata": {},
     "output_type": "execute_result"
    }
   ],
   "source": [
    "dbm.whichdb('data/keyval.db')"
   ]
  }
 ],
 "metadata": {
  "kernelspec": {
   "display_name": "Python 3",
   "language": "python",
   "name": "python3"
  },
  "language_info": {
   "codemirror_mode": {
    "name": "ipython",
    "version": 3
   },
   "file_extension": ".py",
   "mimetype": "text/x-python",
   "name": "python",
   "nbconvert_exporter": "python",
   "pygments_lexer": "ipython3",
   "version": "3.8.5"
  }
 },
 "nbformat": 4,
 "nbformat_minor": 4
}
