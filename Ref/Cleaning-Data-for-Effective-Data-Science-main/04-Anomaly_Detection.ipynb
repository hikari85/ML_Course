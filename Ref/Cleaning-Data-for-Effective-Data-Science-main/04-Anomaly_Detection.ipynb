{
 "cells": [
  {
   "cell_type": "markdown",
   "metadata": {},
   "source": [
    "# Anomaly Detection"
   ]
  },
  {
   "cell_type": "code",
   "execution_count": 1,
   "metadata": {},
   "outputs": [],
   "source": [
    "from src.setup import *\n",
    "%load_ext rpy2.ipython"
   ]
  },
  {
   "cell_type": "code",
   "execution_count": 2,
   "metadata": {},
   "outputs": [],
   "source": [
    "%%capture --no-stdout err\n",
    "%%R\n",
    "library(tidyverse)\n",
    "require(\"RPostgreSQL\")"
   ]
  },
  {
   "cell_type": "markdown",
   "metadata": {},
   "source": [
    "## Missing Data"
   ]
  },
  {
   "cell_type": "code",
   "execution_count": 3,
   "metadata": {},
   "outputs": [
    {
     "name": "stdout",
     "output_type": "stream",
     "text": [
      "n=7:\n",
      "  method1: 1.109\n",
      "  method2: 1.109\n",
      "n=8:\n",
      "  method1: 1.229\n",
      "  method2: 1.229\n",
      "n=9:\n",
      "  method1: nan\n",
      "  method2: 1.510\n"
     ]
    }
   ],
   "source": [
    "for n in range(7, 10):\n",
    "    exp1 = 2**n\n",
    "    a = (22/7) ** exp1 \n",
    "    b = π ** exp1\n",
    "    # Compute answer in two \"equivalent\" ways\n",
    "    res1 = (a * a) / (b * b)\n",
    "    res2 = (a / b) * (a / b)\n",
    "    print(f\"n={n}:\\n  \"\n",
    "          f\"method1: {res1:.3f}\\n  \"\n",
    "          f\"method2: {res2:.3f}\")"
   ]
  },
  {
   "cell_type": "markdown",
   "metadata": {},
   "source": [
    "### SQL"
   ]
  },
  {
   "cell_type": "code",
   "execution_count": 4,
   "metadata": {},
   "outputs": [],
   "source": [
    "# PostgreSQL configuration\n",
    "def connect_local():\n",
    "    user = 'cleaning'\n",
    "    pwd = 'data'\n",
    "    host = 'localhost'\n",
    "    port = '5432'  \n",
    "    db = 'dirty'\n",
    "    con = psycopg2.connect(database=db, host=host, user=user, password=pwd)\n",
    "    engine = create_engine(f'postgresql://{user}:{pwd}@{host}:{port}/{db}')\n",
    "    return con, engine"
   ]
  },
  {
   "cell_type": "code",
   "execution_count": 5,
   "metadata": {},
   "outputs": [
    {
     "name": "stdout",
     "output_type": "stream",
     "text": [
      "1 |  nan | Not number\n",
      "2 | 1.23 | A number  \n",
      "3 | None | A null    \n",
      "4 | 3.45 | Santiago  \n",
      "5 | 6.78 |           \n",
      "6 | 9.01 | None\n"
     ]
    }
   ],
   "source": [
    "con, engine = connect_local()\n",
    "cur = con.cursor()\n",
    "# Look at table named \"missing\"\n",
    "cur.execute(\"SELECT * FROM missing\")\n",
    "for n, (a, b) in enumerate(cur):\n",
    "    print(f\"{n+1} | {str(a):>4s} | {b}\")"
   ]
  },
  {
   "cell_type": "code",
   "execution_count": 6,
   "metadata": {},
   "outputs": [
    {
     "name": "stdout",
     "output_type": "stream",
     "text": [
      "\u001b[90m# A tibble: 3 x 2\u001b[39m\n",
      "    val str  \n",
      "  \u001b[3m\u001b[90m<dbl>\u001b[39m\u001b[23m \u001b[3m\u001b[90m<chr>\u001b[39m\u001b[23m\n",
      "\u001b[90m1\u001b[39m    \u001b[31mNA\u001b[39m this \n",
      "\u001b[90m2\u001b[39m   \u001b[31mNaN\u001b[39m that \n",
      "\u001b[90m3\u001b[39m     0 \u001b[31mNA\u001b[39m   \n"
     ]
    }
   ],
   "source": [
    "%%R\n",
    "# Notice NULL is simply ignored in the construction\n",
    "tibble(val = c(NULL, NA, NaN, 0), \n",
    "       str = c(\"this\", \"that\", NA))"
   ]
  },
  {
   "cell_type": "code",
   "execution_count": 7,
   "metadata": {},
   "outputs": [
    {
     "name": "stdout",
     "output_type": "stream",
     "text": [
      "\u001b[90m# A tibble: 6 x 2\u001b[39m\n",
      "       a b           \n",
      "   \u001b[3m\u001b[90m<dbl>\u001b[39m\u001b[23m \u001b[3m\u001b[90m<chr>\u001b[39m\u001b[23m       \n",
      "\u001b[90m1\u001b[39m \u001b[31mNaN\u001b[39m    \u001b[90m\"\u001b[39mNot number\u001b[90m\"\u001b[39m\n",
      "\u001b[90m2\u001b[39m   1.23 \u001b[90m\"\u001b[39mA number  \u001b[90m\"\u001b[39m\n",
      "\u001b[90m3\u001b[39m  \u001b[31mNA\u001b[39m    \u001b[90m\"\u001b[39mA null    \u001b[90m\"\u001b[39m\n",
      "\u001b[90m4\u001b[39m   3.45 \u001b[90m\"\u001b[39mSantiago  \u001b[90m\"\u001b[39m\n",
      "\u001b[90m5\u001b[39m   6.78 \u001b[90m\"\u001b[39m          \u001b[90m\"\u001b[39m\n",
      "\u001b[90m6\u001b[39m   9.01  \u001b[31mNA\u001b[39m         \n"
     ]
    }
   ],
   "source": [
    "%%R\n",
    "drv <- dbDriver(\"PostgreSQL\")\n",
    "con <- dbConnect(drv, dbname = \"dirty\",\n",
    "                 host = \"localhost\", port = 5432,\n",
    "                 user = \"cleaning\", password = \"data\")\n",
    "sql <- \"SELECT * FROM missing\"\n",
    "data <- tibble(dbGetQuery(con, sql))\n",
    "data"
   ]
  },
  {
   "cell_type": "code",
   "execution_count": 8,
   "metadata": {},
   "outputs": [
    {
     "data": {
      "text/html": [
       "<div>\n",
       "<style scoped>\n",
       "    .dataframe tbody tr th:only-of-type {\n",
       "        vertical-align: middle;\n",
       "    }\n",
       "\n",
       "    .dataframe tbody tr th {\n",
       "        vertical-align: top;\n",
       "    }\n",
       "\n",
       "    .dataframe thead th {\n",
       "        text-align: right;\n",
       "    }\n",
       "</style>\n",
       "<table border=\"1\" class=\"dataframe\">\n",
       "  <thead>\n",
       "    <tr style=\"text-align: right;\">\n",
       "      <th></th>\n",
       "      <th>a</th>\n",
       "      <th>b</th>\n",
       "    </tr>\n",
       "  </thead>\n",
       "  <tbody>\n",
       "    <tr>\n",
       "      <th>0</th>\n",
       "      <td>NaN</td>\n",
       "      <td>Not number</td>\n",
       "    </tr>\n",
       "    <tr>\n",
       "      <th>1</th>\n",
       "      <td>1.23</td>\n",
       "      <td>A number</td>\n",
       "    </tr>\n",
       "    <tr>\n",
       "      <th>2</th>\n",
       "      <td>NaN</td>\n",
       "      <td>A null</td>\n",
       "    </tr>\n",
       "    <tr>\n",
       "      <th>3</th>\n",
       "      <td>3.45</td>\n",
       "      <td>Santiago</td>\n",
       "    </tr>\n",
       "    <tr>\n",
       "      <th>4</th>\n",
       "      <td>6.78</td>\n",
       "      <td></td>\n",
       "    </tr>\n",
       "    <tr>\n",
       "      <th>5</th>\n",
       "      <td>9.01</td>\n",
       "      <td>None</td>\n",
       "    </tr>\n",
       "  </tbody>\n",
       "</table>\n",
       "</div>"
      ],
      "text/plain": [
       "      a           b\n",
       "0   NaN  Not number\n",
       "1  1.23  A number  \n",
       "2   NaN  A null    \n",
       "3  3.45  Santiago  \n",
       "4  6.78            \n",
       "5  9.01        None"
      ]
     },
     "execution_count": 8,
     "metadata": {},
     "output_type": "execute_result"
    }
   ],
   "source": [
    "pd.read_sql(\"SELECT * FROM missing\", engine)"
   ]
  },
  {
   "cell_type": "markdown",
   "metadata": {},
   "source": [
    "### Hierarchical Formats"
   ]
  },
  {
   "cell_type": "code",
   "execution_count": 9,
   "metadata": {},
   "outputs": [
    {
     "data": {
      "text/plain": [
       "[nan, None, inf]"
      ]
     },
     "execution_count": 9,
     "metadata": {},
     "output_type": "execute_result"
    }
   ],
   "source": [
    "json.loads('[NaN, null, Infinity]')  # null becomes Python None"
   ]
  },
  {
   "cell_type": "code",
   "execution_count": 10,
   "metadata": {},
   "outputs": [],
   "source": [
    "json_data = '''\n",
    "{\"a\": {\"1\": NaN, \"2\": 1.23, \"4\": 3.45, \"5\": 6.78, \"6\": 9.01},\n",
    " \"b\": {\"1\": \"Not number\", \"2\": \"A number\", \"3\": \"A null\",\n",
    "       \"4\": \"Santiago\", \"5\": \"\"}\n",
    "}'''"
   ]
  },
  {
   "cell_type": "code",
   "execution_count": 11,
   "metadata": {},
   "outputs": [
    {
     "data": {
      "text/html": [
       "<div>\n",
       "<style scoped>\n",
       "    .dataframe tbody tr th:only-of-type {\n",
       "        vertical-align: middle;\n",
       "    }\n",
       "\n",
       "    .dataframe tbody tr th {\n",
       "        vertical-align: top;\n",
       "    }\n",
       "\n",
       "    .dataframe thead th {\n",
       "        text-align: right;\n",
       "    }\n",
       "</style>\n",
       "<table border=\"1\" class=\"dataframe\">\n",
       "  <thead>\n",
       "    <tr style=\"text-align: right;\">\n",
       "      <th></th>\n",
       "      <th>a</th>\n",
       "      <th>b</th>\n",
       "    </tr>\n",
       "  </thead>\n",
       "  <tbody>\n",
       "    <tr>\n",
       "      <th>1</th>\n",
       "      <td>NaN</td>\n",
       "      <td>Not number</td>\n",
       "    </tr>\n",
       "    <tr>\n",
       "      <th>2</th>\n",
       "      <td>1.23</td>\n",
       "      <td>A number</td>\n",
       "    </tr>\n",
       "    <tr>\n",
       "      <th>3</th>\n",
       "      <td>NaN</td>\n",
       "      <td>A null</td>\n",
       "    </tr>\n",
       "    <tr>\n",
       "      <th>4</th>\n",
       "      <td>3.45</td>\n",
       "      <td>Santiago</td>\n",
       "    </tr>\n",
       "    <tr>\n",
       "      <th>5</th>\n",
       "      <td>6.78</td>\n",
       "      <td></td>\n",
       "    </tr>\n",
       "    <tr>\n",
       "      <th>6</th>\n",
       "      <td>9.01</td>\n",
       "      <td>NaN</td>\n",
       "    </tr>\n",
       "  </tbody>\n",
       "</table>\n",
       "</div>"
      ],
      "text/plain": [
       "      a           b\n",
       "1   NaN  Not number\n",
       "2  1.23    A number\n",
       "3   NaN      A null\n",
       "4  3.45    Santiago\n",
       "5  6.78            \n",
       "6  9.01         NaN"
      ]
     },
     "execution_count": 11,
     "metadata": {},
     "output_type": "execute_result"
    }
   ],
   "source": [
    "pd.read_json(json_data).sort_index()"
   ]
  },
  {
   "cell_type": "code",
   "execution_count": 12,
   "metadata": {},
   "outputs": [
    {
     "name": "stdout",
     "output_type": "stream",
     "text": [
      "Row 1, Col a: Not a Number\n",
      "Row 3, Col a: Missing\n",
      "Row 5, Col b: Empty value ''\n",
      "Row 6, Col b: Missing\n"
     ]
    }
   ],
   "source": [
    "data = json.loads(json_data)\n",
    "rows = {row for dct in data.values() \n",
    "            for row in dct.keys()}\n",
    "\n",
    "for row in sorted(rows):\n",
    "    for col in data.keys():\n",
    "        val = data[col].get(row)\n",
    "        if val is None:\n",
    "            print(f\"Row {row}, Col {col}: Missing\")\n",
    "        elif isinstance(val, float) and math.isnan(val):\n",
    "            print(f\"Row {row}, Col {col}: Not a Number\")\n",
    "        elif not val:\n",
    "            print(f\"Row {row}, Col {col}: Empty value {repr(val)}\")"
   ]
  },
  {
   "cell_type": "markdown",
   "metadata": {},
   "source": [
    "### Sentinels"
   ]
  },
  {
   "cell_type": "code",
   "execution_count": 13,
   "metadata": {},
   "outputs": [
    {
     "data": {
      "text/html": [
       "<div>\n",
       "<style scoped>\n",
       "    .dataframe tbody tr th:only-of-type {\n",
       "        vertical-align: middle;\n",
       "    }\n",
       "\n",
       "    .dataframe tbody tr th {\n",
       "        vertical-align: top;\n",
       "    }\n",
       "\n",
       "    .dataframe thead th {\n",
       "        text-align: right;\n",
       "    }\n",
       "</style>\n",
       "<table border=\"1\" class=\"dataframe\">\n",
       "  <thead>\n",
       "    <tr style=\"text-align: right;\">\n",
       "      <th></th>\n",
       "      <th>STATION</th>\n",
       "      <th>DATE</th>\n",
       "      <th>TEMP</th>\n",
       "      <th>VISIB</th>\n",
       "      <th>GUST</th>\n",
       "      <th>DEWP</th>\n",
       "    </tr>\n",
       "  </thead>\n",
       "  <tbody>\n",
       "    <tr>\n",
       "      <th>0</th>\n",
       "      <td>1001499999</td>\n",
       "      <td>2019-01-01</td>\n",
       "      <td>39.7</td>\n",
       "      <td>6.2</td>\n",
       "      <td>52.1</td>\n",
       "      <td>30.4</td>\n",
       "    </tr>\n",
       "    <tr>\n",
       "      <th>1</th>\n",
       "      <td>1001499999</td>\n",
       "      <td>2019-01-02</td>\n",
       "      <td>36.4</td>\n",
       "      <td>6.2</td>\n",
       "      <td>999.9</td>\n",
       "      <td>29.8</td>\n",
       "    </tr>\n",
       "    <tr>\n",
       "      <th>2</th>\n",
       "      <td>1001499999</td>\n",
       "      <td>2019-01-03</td>\n",
       "      <td>36.5</td>\n",
       "      <td>3.3</td>\n",
       "      <td>999.9</td>\n",
       "      <td>35.6</td>\n",
       "    </tr>\n",
       "    <tr>\n",
       "      <th>3</th>\n",
       "      <td>1001499999</td>\n",
       "      <td>UNKNOWN</td>\n",
       "      <td>45.6</td>\n",
       "      <td>2.2</td>\n",
       "      <td>22.0</td>\n",
       "      <td>44.8</td>\n",
       "    </tr>\n",
       "    <tr>\n",
       "      <th>...</th>\n",
       "      <td>...</td>\n",
       "      <td>...</td>\n",
       "      <td>...</td>\n",
       "      <td>...</td>\n",
       "      <td>...</td>\n",
       "      <td>...</td>\n",
       "    </tr>\n",
       "    <tr>\n",
       "      <th>295</th>\n",
       "      <td>1001499999</td>\n",
       "      <td>2019-12-17</td>\n",
       "      <td>40.5</td>\n",
       "      <td>6.2</td>\n",
       "      <td>999.9</td>\n",
       "      <td>39.2</td>\n",
       "    </tr>\n",
       "    <tr>\n",
       "      <th>296</th>\n",
       "      <td>1001499999</td>\n",
       "      <td>2019-12-18</td>\n",
       "      <td>38.8</td>\n",
       "      <td>6.2</td>\n",
       "      <td>999.9</td>\n",
       "      <td>38.2</td>\n",
       "    </tr>\n",
       "    <tr>\n",
       "      <th>297</th>\n",
       "      <td>1001499999</td>\n",
       "      <td>2019-12-19</td>\n",
       "      <td>45.5</td>\n",
       "      <td>6.1</td>\n",
       "      <td>999.9</td>\n",
       "      <td>42.7</td>\n",
       "    </tr>\n",
       "    <tr>\n",
       "      <th>298</th>\n",
       "      <td>1001499999</td>\n",
       "      <td>2019-12-20</td>\n",
       "      <td>51.8</td>\n",
       "      <td>6.2</td>\n",
       "      <td>35.0</td>\n",
       "      <td>41.2</td>\n",
       "    </tr>\n",
       "  </tbody>\n",
       "</table>\n",
       "<p>299 rows × 6 columns</p>\n",
       "</div>"
      ],
      "text/plain": [
       "        STATION        DATE  TEMP  VISIB   GUST  DEWP\n",
       "0    1001499999  2019-01-01  39.7    6.2   52.1  30.4\n",
       "1    1001499999  2019-01-02  36.4    6.2  999.9  29.8\n",
       "2    1001499999  2019-01-03  36.5    3.3  999.9  35.6\n",
       "3    1001499999     UNKNOWN  45.6    2.2   22.0  44.8\n",
       "..          ...         ...   ...    ...    ...   ...\n",
       "295  1001499999  2019-12-17  40.5    6.2  999.9  39.2\n",
       "296  1001499999  2019-12-18  38.8    6.2  999.9  38.2\n",
       "297  1001499999  2019-12-19  45.5    6.1  999.9  42.7\n",
       "298  1001499999  2019-12-20  51.8    6.2   35.0  41.2\n",
       "\n",
       "[299 rows x 6 columns]"
      ]
     },
     "execution_count": 13,
     "metadata": {},
     "output_type": "execute_result"
    }
   ],
   "source": [
    "sorstokken = pd.read_csv('data/sorstokken-no.csv.gz')\n",
    "sorstokken"
   ]
  },
  {
   "cell_type": "code",
   "execution_count": 14,
   "metadata": {},
   "outputs": [
    {
     "data": {
      "text/html": [
       "<div>\n",
       "<style scoped>\n",
       "    .dataframe tbody tr th:only-of-type {\n",
       "        vertical-align: middle;\n",
       "    }\n",
       "\n",
       "    .dataframe tbody tr th {\n",
       "        vertical-align: top;\n",
       "    }\n",
       "\n",
       "    .dataframe thead th {\n",
       "        text-align: right;\n",
       "    }\n",
       "</style>\n",
       "<table border=\"1\" class=\"dataframe\">\n",
       "  <thead>\n",
       "    <tr style=\"text-align: right;\">\n",
       "      <th></th>\n",
       "      <th>STATION</th>\n",
       "      <th>DATE</th>\n",
       "      <th>TEMP</th>\n",
       "      <th>VISIB</th>\n",
       "      <th>GUST</th>\n",
       "      <th>DEWP</th>\n",
       "    </tr>\n",
       "  </thead>\n",
       "  <tbody>\n",
       "    <tr>\n",
       "      <th>0</th>\n",
       "      <td>1001499999</td>\n",
       "      <td>2019-01-01</td>\n",
       "      <td>27.2</td>\n",
       "      <td>1.2</td>\n",
       "      <td>17.1</td>\n",
       "      <td>16.5</td>\n",
       "    </tr>\n",
       "    <tr>\n",
       "      <th>1</th>\n",
       "      <td>1001499999</td>\n",
       "      <td>UNKNOWN</td>\n",
       "      <td>88.1</td>\n",
       "      <td>999.9</td>\n",
       "      <td>999.9</td>\n",
       "      <td>63.5</td>\n",
       "    </tr>\n",
       "  </tbody>\n",
       "</table>\n",
       "</div>"
      ],
      "text/plain": [
       "      STATION        DATE  TEMP  VISIB   GUST  DEWP\n",
       "0  1001499999  2019-01-01  27.2    1.2   17.1  16.5\n",
       "1  1001499999     UNKNOWN  88.1  999.9  999.9  63.5"
      ]
     },
     "execution_count": 14,
     "metadata": {},
     "output_type": "execute_result"
    }
   ],
   "source": [
    "pd.DataFrame([sorstokken.min(), sorstokken.max()])"
   ]
  },
  {
   "cell_type": "code",
   "execution_count": 15,
   "metadata": {},
   "outputs": [
    {
     "name": "stdout",
     "output_type": "stream",
     "text": [
      "Normal max:\n",
      "VISIB 6.8 ...standard deviation w/ & w/o sentinel: 254.4 / 0.7\n",
      "GUST 62.2 ...standard deviation w/ & w/o sentinel: 452.4 / 8.1\n"
     ]
    }
   ],
   "source": [
    "print(\"Normal max:\")\n",
    "for col in ['VISIB', 'GUST']:\n",
    "        s = sorstokken[col]\n",
    "        print(col, s[s < 999.9].max(), \n",
    "              \"...standard deviation w/ & w/o sentinel:\",\n",
    "              f\"{s.std():.1f} / {s[s < 999.9].std():.1f}\")"
   ]
  },
  {
   "cell_type": "code",
   "execution_count": 16,
   "metadata": {},
   "outputs": [
    {
     "data": {
      "text/html": [
       "<div>\n",
       "<style scoped>\n",
       "    .dataframe tbody tr th:only-of-type {\n",
       "        vertical-align: middle;\n",
       "    }\n",
       "\n",
       "    .dataframe tbody tr th {\n",
       "        vertical-align: top;\n",
       "    }\n",
       "\n",
       "    .dataframe thead th {\n",
       "        text-align: right;\n",
       "    }\n",
       "</style>\n",
       "<table border=\"1\" class=\"dataframe\">\n",
       "  <thead>\n",
       "    <tr style=\"text-align: right;\">\n",
       "      <th></th>\n",
       "      <th>STATION</th>\n",
       "      <th>DATE</th>\n",
       "      <th>TEMP</th>\n",
       "      <th>VISIB</th>\n",
       "      <th>GUST</th>\n",
       "      <th>DEWP</th>\n",
       "    </tr>\n",
       "  </thead>\n",
       "  <tbody>\n",
       "    <tr>\n",
       "      <th>0</th>\n",
       "      <td>1001499999</td>\n",
       "      <td>2019-01-01</td>\n",
       "      <td>39.7</td>\n",
       "      <td>6.2</td>\n",
       "      <td>52.1</td>\n",
       "      <td>30.4</td>\n",
       "    </tr>\n",
       "    <tr>\n",
       "      <th>1</th>\n",
       "      <td>1001499999</td>\n",
       "      <td>2019-01-02</td>\n",
       "      <td>36.4</td>\n",
       "      <td>6.2</td>\n",
       "      <td>NaN</td>\n",
       "      <td>29.8</td>\n",
       "    </tr>\n",
       "    <tr>\n",
       "      <th>2</th>\n",
       "      <td>1001499999</td>\n",
       "      <td>2019-01-03</td>\n",
       "      <td>36.5</td>\n",
       "      <td>3.3</td>\n",
       "      <td>NaN</td>\n",
       "      <td>35.6</td>\n",
       "    </tr>\n",
       "    <tr>\n",
       "      <th>3</th>\n",
       "      <td>1001499999</td>\n",
       "      <td>NaT</td>\n",
       "      <td>45.6</td>\n",
       "      <td>2.2</td>\n",
       "      <td>22.0</td>\n",
       "      <td>44.8</td>\n",
       "    </tr>\n",
       "    <tr>\n",
       "      <th>4</th>\n",
       "      <td>1001499999</td>\n",
       "      <td>2019-01-06</td>\n",
       "      <td>42.5</td>\n",
       "      <td>1.9</td>\n",
       "      <td>NaN</td>\n",
       "      <td>42.5</td>\n",
       "    </tr>\n",
       "  </tbody>\n",
       "</table>\n",
       "</div>"
      ],
      "text/plain": [
       "      STATION       DATE  TEMP  VISIB  GUST  DEWP\n",
       "0  1001499999 2019-01-01  39.7    6.2  52.1  30.4\n",
       "1  1001499999 2019-01-02  36.4    6.2   NaN  29.8\n",
       "2  1001499999 2019-01-03  36.5    3.3   NaN  35.6\n",
       "3  1001499999        NaT  45.6    2.2  22.0  44.8\n",
       "4  1001499999 2019-01-06  42.5    1.9   NaN  42.5"
      ]
     },
     "execution_count": 16,
     "metadata": {},
     "output_type": "execute_result"
    }
   ],
   "source": [
    "sorstokken = pd.read_csv('data/sorstokken-no.csv.gz', \n",
    "                         na_values={'DATE': 'UNKNOWN', \n",
    "                                    'VISIB': '999.9',\n",
    "                                    'GUST': '999.9'},\n",
    "                         parse_dates=['DATE'])\n",
    "sorstokken.head()"
   ]
  },
  {
   "cell_type": "markdown",
   "metadata": {},
   "source": [
    "## Miscoded Data"
   ]
  },
  {
   "cell_type": "code",
   "execution_count": 17,
   "metadata": {},
   "outputs": [
    {
     "data": {
      "text/html": [
       "<div>\n",
       "<style scoped>\n",
       "    .dataframe tbody tr th:only-of-type {\n",
       "        vertical-align: middle;\n",
       "    }\n",
       "\n",
       "    .dataframe tbody tr th {\n",
       "        vertical-align: top;\n",
       "    }\n",
       "\n",
       "    .dataframe thead th {\n",
       "        text-align: right;\n",
       "    }\n",
       "</style>\n",
       "<table border=\"1\" class=\"dataframe\">\n",
       "  <thead>\n",
       "    <tr style=\"text-align: right;\">\n",
       "      <th></th>\n",
       "      <th>min</th>\n",
       "      <th>max</th>\n",
       "      <th>dtype</th>\n",
       "    </tr>\n",
       "  </thead>\n",
       "  <tbody>\n",
       "    <tr>\n",
       "      <th>erythema</th>\n",
       "      <td>0</td>\n",
       "      <td>3</td>\n",
       "      <td>int64</td>\n",
       "    </tr>\n",
       "    <tr>\n",
       "      <th>scaling</th>\n",
       "      <td>0</td>\n",
       "      <td>3</td>\n",
       "      <td>int64</td>\n",
       "    </tr>\n",
       "    <tr>\n",
       "      <th>definite borders</th>\n",
       "      <td>0</td>\n",
       "      <td>3</td>\n",
       "      <td>int64</td>\n",
       "    </tr>\n",
       "    <tr>\n",
       "      <th>itching</th>\n",
       "      <td>0</td>\n",
       "      <td>3</td>\n",
       "      <td>int64</td>\n",
       "    </tr>\n",
       "    <tr>\n",
       "      <th>...</th>\n",
       "      <td>...</td>\n",
       "      <td>...</td>\n",
       "      <td>...</td>\n",
       "    </tr>\n",
       "    <tr>\n",
       "      <th>inflammatory monoluclear inflitrate</th>\n",
       "      <td>0</td>\n",
       "      <td>3</td>\n",
       "      <td>int64</td>\n",
       "    </tr>\n",
       "    <tr>\n",
       "      <th>band-like infiltrate</th>\n",
       "      <td>0</td>\n",
       "      <td>3</td>\n",
       "      <td>int64</td>\n",
       "    </tr>\n",
       "    <tr>\n",
       "      <th>Age</th>\n",
       "      <td>0</td>\n",
       "      <td>75</td>\n",
       "      <td>float64</td>\n",
       "    </tr>\n",
       "    <tr>\n",
       "      <th>TARGET</th>\n",
       "      <td>cronic dermatitis</td>\n",
       "      <td>seboreic dermatitis</td>\n",
       "      <td>object</td>\n",
       "    </tr>\n",
       "  </tbody>\n",
       "</table>\n",
       "<p>35 rows × 3 columns</p>\n",
       "</div>"
      ],
      "text/plain": [
       "                                                   min                  max  \\\n",
       "erythema                                             0                    3   \n",
       "scaling                                              0                    3   \n",
       "definite borders                                     0                    3   \n",
       "itching                                              0                    3   \n",
       "...                                                ...                  ...   \n",
       "inflammatory monoluclear inflitrate                  0                    3   \n",
       "band-like infiltrate                                 0                    3   \n",
       "Age                                                  0                   75   \n",
       "TARGET                               cronic dermatitis  seboreic dermatitis   \n",
       "\n",
       "                                       dtype  \n",
       "erythema                               int64  \n",
       "scaling                                int64  \n",
       "definite borders                       int64  \n",
       "itching                                int64  \n",
       "...                                      ...  \n",
       "inflammatory monoluclear inflitrate    int64  \n",
       "band-like infiltrate                   int64  \n",
       "Age                                  float64  \n",
       "TARGET                                object  \n",
       "\n",
       "[35 rows x 3 columns]"
      ]
     },
     "execution_count": 17,
     "metadata": {},
     "output_type": "execute_result"
    }
   ],
   "source": [
    "from src.dermatology import *\n",
    "(pd.DataFrame(\n",
    "    [derm.min(), derm.max(), derm.dtypes])\n",
    "     .T\n",
    "     .rename(columns={0:'min', 1:'max', 2:'dtype'})\n",
    ")"
   ]
  },
  {
   "cell_type": "code",
   "execution_count": 18,
   "metadata": {},
   "outputs": [
    {
     "data": {
      "text/html": [
       "<div>\n",
       "<style scoped>\n",
       "    .dataframe tbody tr th:only-of-type {\n",
       "        vertical-align: middle;\n",
       "    }\n",
       "\n",
       "    .dataframe tbody tr th {\n",
       "        vertical-align: top;\n",
       "    }\n",
       "\n",
       "    .dataframe thead th {\n",
       "        text-align: right;\n",
       "    }\n",
       "</style>\n",
       "<table border=\"1\" class=\"dataframe\">\n",
       "  <thead>\n",
       "    <tr style=\"text-align: right;\">\n",
       "      <th></th>\n",
       "      <th>Height</th>\n",
       "      <th>Weight</th>\n",
       "      <th>Hair_Length</th>\n",
       "      <th>Favorite</th>\n",
       "    </tr>\n",
       "  </thead>\n",
       "  <tbody>\n",
       "    <tr>\n",
       "      <th>21492</th>\n",
       "      <td>176.958650</td>\n",
       "      <td>72.604585</td>\n",
       "      <td>14.0</td>\n",
       "      <td>red</td>\n",
       "    </tr>\n",
       "    <tr>\n",
       "      <th>9488</th>\n",
       "      <td>169.000221</td>\n",
       "      <td>79.559843</td>\n",
       "      <td>0.0</td>\n",
       "      <td>blue</td>\n",
       "    </tr>\n",
       "    <tr>\n",
       "      <th>16933</th>\n",
       "      <td>171.104306</td>\n",
       "      <td>71.125528</td>\n",
       "      <td>5.5</td>\n",
       "      <td>red</td>\n",
       "    </tr>\n",
       "    <tr>\n",
       "      <th>12604</th>\n",
       "      <td>174.481084</td>\n",
       "      <td>79.496237</td>\n",
       "      <td>8.1</td>\n",
       "      <td>blue</td>\n",
       "    </tr>\n",
       "    <tr>\n",
       "      <th>8222</th>\n",
       "      <td>171.275578</td>\n",
       "      <td>77.094118</td>\n",
       "      <td>14.6</td>\n",
       "      <td>green</td>\n",
       "    </tr>\n",
       "  </tbody>\n",
       "</table>\n",
       "</div>"
      ],
      "text/plain": [
       "           Height     Weight  Hair_Length Favorite\n",
       "21492  176.958650  72.604585         14.0      red\n",
       "9488   169.000221  79.559843          0.0     blue\n",
       "16933  171.104306  71.125528          5.5      red\n",
       "12604  174.481084  79.496237          8.1     blue\n",
       "8222   171.275578  77.094118         14.6    green"
      ]
     },
     "execution_count": 18,
     "metadata": {},
     "output_type": "execute_result"
    }
   ],
   "source": [
    "humans = pd.read_csv('data/humans-err.csv')\n",
    "# random_state for deterministic sample\n",
    "humans.sample(5, random_state=1)  "
   ]
  },
  {
   "cell_type": "code",
   "execution_count": 19,
   "metadata": {},
   "outputs": [
    {
     "data": {
      "text/plain": [
       "array(['red', 'green', 'blue', 'Red', ' red', 'grееn', 'blüe',\n",
       "       'chartreuse'], dtype=object)"
      ]
     },
     "execution_count": 19,
     "metadata": {},
     "output_type": "execute_result"
    }
   ],
   "source": [
    "humans.Favorite.unique()"
   ]
  },
  {
   "cell_type": "code",
   "execution_count": 20,
   "metadata": {},
   "outputs": [
    {
     "data": {
      "text/plain": [
       "red           9576\n",
       "blue          7961\n",
       "green         7458\n",
       "grееn            1\n",
       " red             1\n",
       "blüe             1\n",
       "chartreuse       1\n",
       "Red              1\n",
       "Name: Favorite, dtype: int64"
      ]
     },
     "execution_count": 20,
     "metadata": {},
     "output_type": "execute_result"
    }
   ],
   "source": [
    "humans.Favorite.value_counts()"
   ]
  },
  {
   "cell_type": "code",
   "execution_count": 21,
   "metadata": {},
   "outputs": [
    {
     "name": "stdout",
     "output_type": "stream",
     "text": [
      "       red [32, 114, 101, 100]\n",
      "       Red [82, 101, 100]\n",
      "      blue [98, 108, 117, 101]\n",
      "      blüe [98, 108, 252, 101]\n",
      "chartreuse [99, 104, 97, 114, 116, 114, 101, 117, 115, 101]\n",
      "     green [103, 114, 101, 101, 110]\n",
      "     grееn [103, 114, 1077, 1077, 110]\n",
      "       red [114, 101, 100]\n"
     ]
    }
   ],
   "source": [
    "for color in sorted(humans.Favorite.unique()):\n",
    "    print(f\"{color:>10s}\", [ord(c) for c in color])"
   ]
  },
  {
   "cell_type": "code",
   "execution_count": 22,
   "metadata": {},
   "outputs": [
    {
     "data": {
      "text/plain": [
       "red      9578\n",
       "blue     7962\n",
       "green    7459\n",
       "Name: Favorite, dtype: int64"
      ]
     },
     "execution_count": 22,
     "metadata": {},
     "output_type": "execute_result"
    }
   ],
   "source": [
    "humans.loc[humans.Favorite.isin(['Red', ' red']), 'Favorite'] = 'red'\n",
    "humans.loc[humans.Favorite == 'chartreuse', 'Favorite'] = None\n",
    "humans.loc[humans.Favorite == 'blüe', 'Favorite'] = 'blue'\n",
    "humans.loc[humans.Favorite == 'grееn', 'Favorite'] = 'green'\n",
    "humans.Favorite.value_counts()"
   ]
  },
  {
   "cell_type": "markdown",
   "metadata": {},
   "source": [
    "## Fixed Bounds"
   ]
  },
  {
   "cell_type": "code",
   "execution_count": 23,
   "metadata": {},
   "outputs": [
    {
     "data": {
      "text/plain": [
       "False"
      ]
     },
     "execution_count": 23,
     "metadata": {},
     "output_type": "execute_result"
    }
   ],
   "source": [
    "((humans.Height < 92) | (humans.Height > 213)).any()"
   ]
  },
  {
   "cell_type": "code",
   "execution_count": 24,
   "metadata": {},
   "outputs": [
    {
     "data": {
      "text/html": [
       "<div>\n",
       "<style scoped>\n",
       "    .dataframe tbody tr th:only-of-type {\n",
       "        vertical-align: middle;\n",
       "    }\n",
       "\n",
       "    .dataframe tbody tr th {\n",
       "        vertical-align: top;\n",
       "    }\n",
       "\n",
       "    .dataframe thead th {\n",
       "        text-align: right;\n",
       "    }\n",
       "</style>\n",
       "<table border=\"1\" class=\"dataframe\">\n",
       "  <thead>\n",
       "    <tr style=\"text-align: right;\">\n",
       "      <th></th>\n",
       "      <th>Height</th>\n",
       "      <th>Weight</th>\n",
       "      <th>Hair_Length</th>\n",
       "      <th>Favorite</th>\n",
       "    </tr>\n",
       "  </thead>\n",
       "  <tbody>\n",
       "    <tr>\n",
       "      <th>1984</th>\n",
       "      <td>165.634695</td>\n",
       "      <td>62.979993</td>\n",
       "      <td>127.0</td>\n",
       "      <td>red</td>\n",
       "    </tr>\n",
       "    <tr>\n",
       "      <th>8929</th>\n",
       "      <td>175.186061</td>\n",
       "      <td>73.899992</td>\n",
       "      <td>120.6</td>\n",
       "      <td>blue</td>\n",
       "    </tr>\n",
       "    <tr>\n",
       "      <th>14673</th>\n",
       "      <td>174.948037</td>\n",
       "      <td>77.644434</td>\n",
       "      <td>130.1</td>\n",
       "      <td>blue</td>\n",
       "    </tr>\n",
       "    <tr>\n",
       "      <th>14735</th>\n",
       "      <td>176.385525</td>\n",
       "      <td>68.735397</td>\n",
       "      <td>121.7</td>\n",
       "      <td>green</td>\n",
       "    </tr>\n",
       "    <tr>\n",
       "      <th>16672</th>\n",
       "      <td>173.172298</td>\n",
       "      <td>71.814699</td>\n",
       "      <td>121.4</td>\n",
       "      <td>red</td>\n",
       "    </tr>\n",
       "    <tr>\n",
       "      <th>17093</th>\n",
       "      <td>169.771111</td>\n",
       "      <td>77.958278</td>\n",
       "      <td>133.2</td>\n",
       "      <td>blue</td>\n",
       "    </tr>\n",
       "  </tbody>\n",
       "</table>\n",
       "</div>"
      ],
      "text/plain": [
       "           Height     Weight  Hair_Length Favorite\n",
       "1984   165.634695  62.979993        127.0      red\n",
       "8929   175.186061  73.899992        120.6     blue\n",
       "14673  174.948037  77.644434        130.1     blue\n",
       "14735  176.385525  68.735397        121.7    green\n",
       "16672  173.172298  71.814699        121.4      red\n",
       "17093  169.771111  77.958278        133.2     blue"
      ]
     },
     "execution_count": 24,
     "metadata": {},
     "output_type": "execute_result"
    }
   ],
   "source": [
    "humans.query('Hair_Length > 120')"
   ]
  },
  {
   "cell_type": "code",
   "execution_count": 25,
   "metadata": {},
   "outputs": [
    {
     "data": {
      "text/html": [
       "<div>\n",
       "<style scoped>\n",
       "    .dataframe tbody tr th:only-of-type {\n",
       "        vertical-align: middle;\n",
       "    }\n",
       "\n",
       "    .dataframe tbody tr th {\n",
       "        vertical-align: top;\n",
       "    }\n",
       "\n",
       "    .dataframe thead th {\n",
       "        text-align: right;\n",
       "    }\n",
       "</style>\n",
       "<table border=\"1\" class=\"dataframe\">\n",
       "  <thead>\n",
       "    <tr style=\"text-align: right;\">\n",
       "      <th></th>\n",
       "      <th>Height</th>\n",
       "      <th>Weight</th>\n",
       "      <th>Hair_Length</th>\n",
       "      <th>Favorite</th>\n",
       "    </tr>\n",
       "  </thead>\n",
       "  <tbody>\n",
       "    <tr>\n",
       "      <th>1984</th>\n",
       "      <td>165.634695</td>\n",
       "      <td>62.979993</td>\n",
       "      <td>120.0</td>\n",
       "      <td>red</td>\n",
       "    </tr>\n",
       "    <tr>\n",
       "      <th>4146</th>\n",
       "      <td>173.930107</td>\n",
       "      <td>72.701456</td>\n",
       "      <td>119.6</td>\n",
       "      <td>red</td>\n",
       "    </tr>\n",
       "    <tr>\n",
       "      <th>8929</th>\n",
       "      <td>175.186061</td>\n",
       "      <td>73.899992</td>\n",
       "      <td>120.0</td>\n",
       "      <td>blue</td>\n",
       "    </tr>\n",
       "    <tr>\n",
       "      <th>9259</th>\n",
       "      <td>179.215974</td>\n",
       "      <td>82.538890</td>\n",
       "      <td>119.4</td>\n",
       "      <td>green</td>\n",
       "    </tr>\n",
       "    <tr>\n",
       "      <th>14673</th>\n",
       "      <td>174.948037</td>\n",
       "      <td>77.644434</td>\n",
       "      <td>120.0</td>\n",
       "      <td>blue</td>\n",
       "    </tr>\n",
       "    <tr>\n",
       "      <th>14735</th>\n",
       "      <td>176.385525</td>\n",
       "      <td>68.735397</td>\n",
       "      <td>120.0</td>\n",
       "      <td>green</td>\n",
       "    </tr>\n",
       "    <tr>\n",
       "      <th>16672</th>\n",
       "      <td>173.172298</td>\n",
       "      <td>71.814699</td>\n",
       "      <td>120.0</td>\n",
       "      <td>red</td>\n",
       "    </tr>\n",
       "    <tr>\n",
       "      <th>17093</th>\n",
       "      <td>169.771111</td>\n",
       "      <td>77.958278</td>\n",
       "      <td>120.0</td>\n",
       "      <td>blue</td>\n",
       "    </tr>\n",
       "  </tbody>\n",
       "</table>\n",
       "</div>"
      ],
      "text/plain": [
       "           Height     Weight  Hair_Length Favorite\n",
       "1984   165.634695  62.979993        120.0      red\n",
       "4146   173.930107  72.701456        119.6      red\n",
       "8929   175.186061  73.899992        120.0     blue\n",
       "9259   179.215974  82.538890        119.4    green\n",
       "14673  174.948037  77.644434        120.0     blue\n",
       "14735  176.385525  68.735397        120.0    green\n",
       "16672  173.172298  71.814699        120.0      red\n",
       "17093  169.771111  77.958278        120.0     blue"
      ]
     },
     "execution_count": 25,
     "metadata": {},
     "output_type": "execute_result"
    }
   ],
   "source": [
    "humans2 = humans.copy()  # Retain prior versions of data set\n",
    "humans2['Hair_Length'] = humans2.Hair_Length.clip(upper=120)\n",
    "humans2[humans2.Hair_Length > 119]"
   ]
  },
  {
   "cell_type": "code",
   "execution_count": 26,
   "metadata": {},
   "outputs": [
    {
     "data": {
      "text/html": [
       "<div>\n",
       "<style scoped>\n",
       "    .dataframe tbody tr th:only-of-type {\n",
       "        vertical-align: middle;\n",
       "    }\n",
       "\n",
       "    .dataframe tbody tr th {\n",
       "        vertical-align: top;\n",
       "    }\n",
       "\n",
       "    .dataframe thead th {\n",
       "        text-align: right;\n",
       "    }\n",
       "</style>\n",
       "<table border=\"1\" class=\"dataframe\">\n",
       "  <thead>\n",
       "    <tr style=\"text-align: right;\">\n",
       "      <th></th>\n",
       "      <th>Height</th>\n",
       "      <th>Weight</th>\n",
       "      <th>Hair_Length</th>\n",
       "      <th>Favorite</th>\n",
       "    </tr>\n",
       "  </thead>\n",
       "  <tbody>\n",
       "    <tr>\n",
       "      <th>6</th>\n",
       "      <td>177.297182</td>\n",
       "      <td>81.153493</td>\n",
       "      <td>0.0</td>\n",
       "      <td>blue</td>\n",
       "    </tr>\n",
       "    <tr>\n",
       "      <th>217</th>\n",
       "      <td>171.893967</td>\n",
       "      <td>68.553526</td>\n",
       "      <td>0.0</td>\n",
       "      <td>blue</td>\n",
       "    </tr>\n",
       "    <tr>\n",
       "      <th>240</th>\n",
       "      <td>161.862237</td>\n",
       "      <td>76.914599</td>\n",
       "      <td>0.0</td>\n",
       "      <td>blue</td>\n",
       "    </tr>\n",
       "    <tr>\n",
       "      <th>354</th>\n",
       "      <td>172.972247</td>\n",
       "      <td>73.175032</td>\n",
       "      <td>0.0</td>\n",
       "      <td>red</td>\n",
       "    </tr>\n",
       "    <tr>\n",
       "      <th>...</th>\n",
       "      <td>...</td>\n",
       "      <td>...</td>\n",
       "      <td>...</td>\n",
       "      <td>...</td>\n",
       "    </tr>\n",
       "    <tr>\n",
       "      <th>24834</th>\n",
       "      <td>170.991301</td>\n",
       "      <td>67.652660</td>\n",
       "      <td>0.0</td>\n",
       "      <td>green</td>\n",
       "    </tr>\n",
       "    <tr>\n",
       "      <th>24892</th>\n",
       "      <td>177.002643</td>\n",
       "      <td>77.286141</td>\n",
       "      <td>0.0</td>\n",
       "      <td>green</td>\n",
       "    </tr>\n",
       "    <tr>\n",
       "      <th>24919</th>\n",
       "      <td>169.012286</td>\n",
       "      <td>74.593809</td>\n",
       "      <td>0.0</td>\n",
       "      <td>blue</td>\n",
       "    </tr>\n",
       "    <tr>\n",
       "      <th>24967</th>\n",
       "      <td>169.061308</td>\n",
       "      <td>65.985481</td>\n",
       "      <td>0.0</td>\n",
       "      <td>green</td>\n",
       "    </tr>\n",
       "  </tbody>\n",
       "</table>\n",
       "<p>517 rows × 4 columns</p>\n",
       "</div>"
      ],
      "text/plain": [
       "           Height     Weight  Hair_Length Favorite\n",
       "6      177.297182  81.153493          0.0     blue\n",
       "217    171.893967  68.553526          0.0     blue\n",
       "240    161.862237  76.914599          0.0     blue\n",
       "354    172.972247  73.175032          0.0      red\n",
       "...           ...        ...          ...      ...\n",
       "24834  170.991301  67.652660          0.0    green\n",
       "24892  177.002643  77.286141          0.0    green\n",
       "24919  169.012286  74.593809          0.0     blue\n",
       "24967  169.061308  65.985481          0.0    green\n",
       "\n",
       "[517 rows x 4 columns]"
      ]
     },
     "execution_count": 26,
     "metadata": {},
     "output_type": "execute_result"
    }
   ],
   "source": [
    "humans2[humans2.Hair_Length == 0]"
   ]
  },
  {
   "cell_type": "code",
   "execution_count": 27,
   "metadata": {},
   "outputs": [
    {
     "data": {
      "text/html": [
       "<div>\n",
       "<style scoped>\n",
       "    .dataframe tbody tr th:only-of-type {\n",
       "        vertical-align: middle;\n",
       "    }\n",
       "\n",
       "    .dataframe tbody tr th {\n",
       "        vertical-align: top;\n",
       "    }\n",
       "\n",
       "    .dataframe thead th {\n",
       "        text-align: right;\n",
       "    }\n",
       "</style>\n",
       "<table border=\"1\" class=\"dataframe\">\n",
       "  <thead>\n",
       "    <tr style=\"text-align: right;\">\n",
       "      <th></th>\n",
       "      <th>Height</th>\n",
       "      <th>Weight</th>\n",
       "      <th>Hair_Length</th>\n",
       "      <th>Favorite</th>\n",
       "    </tr>\n",
       "  </thead>\n",
       "  <tbody>\n",
       "    <tr>\n",
       "      <th>493</th>\n",
       "      <td>167.703398</td>\n",
       "      <td>72.567763</td>\n",
       "      <td>-1.0</td>\n",
       "      <td>blue</td>\n",
       "    </tr>\n",
       "    <tr>\n",
       "      <th>528</th>\n",
       "      <td>167.355393</td>\n",
       "      <td>60.276190</td>\n",
       "      <td>-20.7</td>\n",
       "      <td>green</td>\n",
       "    </tr>\n",
       "    <tr>\n",
       "      <th>562</th>\n",
       "      <td>172.416114</td>\n",
       "      <td>60.867457</td>\n",
       "      <td>-68.1</td>\n",
       "      <td>green</td>\n",
       "    </tr>\n",
       "    <tr>\n",
       "      <th>569</th>\n",
       "      <td>177.644146</td>\n",
       "      <td>74.027147</td>\n",
       "      <td>-5.9</td>\n",
       "      <td>green</td>\n",
       "    </tr>\n",
       "    <tr>\n",
       "      <th>...</th>\n",
       "      <td>...</td>\n",
       "      <td>...</td>\n",
       "      <td>...</td>\n",
       "      <td>...</td>\n",
       "    </tr>\n",
       "    <tr>\n",
       "      <th>24055</th>\n",
       "      <td>172.831608</td>\n",
       "      <td>74.096660</td>\n",
       "      <td>-13.3</td>\n",
       "      <td>red</td>\n",
       "    </tr>\n",
       "    <tr>\n",
       "      <th>24063</th>\n",
       "      <td>172.687488</td>\n",
       "      <td>69.466838</td>\n",
       "      <td>-14.2</td>\n",
       "      <td>green</td>\n",
       "    </tr>\n",
       "    <tr>\n",
       "      <th>24386</th>\n",
       "      <td>176.668430</td>\n",
       "      <td>62.984811</td>\n",
       "      <td>-1.0</td>\n",
       "      <td>green</td>\n",
       "    </tr>\n",
       "    <tr>\n",
       "      <th>24944</th>\n",
       "      <td>172.300925</td>\n",
       "      <td>72.067862</td>\n",
       "      <td>-24.4</td>\n",
       "      <td>red</td>\n",
       "    </tr>\n",
       "  </tbody>\n",
       "</table>\n",
       "<p>118 rows × 4 columns</p>\n",
       "</div>"
      ],
      "text/plain": [
       "           Height     Weight  Hair_Length Favorite\n",
       "493    167.703398  72.567763         -1.0     blue\n",
       "528    167.355393  60.276190        -20.7    green\n",
       "562    172.416114  60.867457        -68.1    green\n",
       "569    177.644146  74.027147         -5.9    green\n",
       "...           ...        ...          ...      ...\n",
       "24055  172.831608  74.096660        -13.3      red\n",
       "24063  172.687488  69.466838        -14.2    green\n",
       "24386  176.668430  62.984811         -1.0    green\n",
       "24944  172.300925  72.067862        -24.4      red\n",
       "\n",
       "[118 rows x 4 columns]"
      ]
     },
     "execution_count": 27,
     "metadata": {},
     "output_type": "execute_result"
    }
   ],
   "source": [
    "neg_hair = humans2[humans2.Hair_Length < 0]\n",
    "neg_hair"
   ]
  },
  {
   "cell_type": "code",
   "execution_count": 28,
   "metadata": {},
   "outputs": [
    {
     "name": "stdout",
     "output_type": "stream",
     "text": [
      "   Min. 1st Qu.  Median    Mean 3rd Qu.    Max. \n",
      " -95.70  -38.08  -20.65  -24.35   -5.60   -0.70 \n"
     ]
    }
   ],
   "source": [
    "%%R -i neg_hair\n",
    "summary(neg_hair$Hair_Length)"
   ]
  },
  {
   "cell_type": "code",
   "execution_count": 29,
   "metadata": {},
   "outputs": [
    {
     "data": {
      "text/plain": [
       "count    118.000000\n",
       "mean     -24.348305\n",
       "std       22.484691\n",
       "min      -95.700000\n",
       "25%      -38.075000\n",
       "50%      -20.650000\n",
       "75%       -5.600000\n",
       "max       -0.700000\n",
       "Name: Hair_Length, dtype: float64"
      ]
     },
     "execution_count": 29,
     "metadata": {},
     "output_type": "execute_result"
    }
   ],
   "source": [
    "neg_hair.Hair_Length.describe()"
   ]
  },
  {
   "cell_type": "code",
   "execution_count": 30,
   "metadata": {},
   "outputs": [
    {
     "data": {
      "image/png": "[encoded data removed]",
      "text/plain": [
       "<Figure size 600x400 with 1 Axes>"
      ]
     },
     "metadata": {
      "needs_background": "light"
     },
     "output_type": "display_data"
    }
   ],
   "source": [
    "plt.hist(neg_hair.Hair_Length, bins=30)\n",
    "plt.title(\"Distribution of invalid negative hair length\")\n",
    "plt.savefig(\"img/(Ch04)Distribution of invalid negative hair length.png\")"
   ]
  },
  {
   "cell_type": "code",
   "execution_count": 31,
   "metadata": {},
   "outputs": [
    {
     "data": {
      "text/plain": [
       "-1.0     19\n",
       "-41.6     2\n",
       "-6.8      2\n",
       "-30.1     2\n",
       "         ..\n",
       "-3.3      1\n",
       "-51.4     1\n",
       "-25.1     1\n",
       "-4.8      1\n",
       "Name: Hair_Length, Length: 93, dtype: int64"
      ]
     },
     "execution_count": 31,
     "metadata": {},
     "output_type": "execute_result"
    }
   ],
   "source": [
    "neg_hair.Hair_Length.value_counts()"
   ]
  },
  {
   "cell_type": "code",
   "execution_count": 32,
   "metadata": {},
   "outputs": [
    {
     "data": {
      "image/png": "[encoded data removed]",
      "text/plain": [
       "<Figure size 600x400 with 1 Axes>"
      ]
     },
     "metadata": {
      "needs_background": "light"
     },
     "output_type": "display_data"
    }
   ],
   "source": [
    "humans3 = humans2.copy()     # Versioned changes to data\n",
    "\n",
    "# The \"sentinel\" negative value means missing\n",
    "humans3.loc[humans3.Hair_Length == -1, 'Hair_Length'] = None\n",
    "\n",
    "# All other values simply become non-negative\n",
    "humans3['Hair_Length'] = humans3.Hair_Length.abs()\n",
    "\n",
    "plt.hist(humans3.Hair_Length, bins=30)\n",
    "plt.title(\"Distribution of corrected hair lengths\")\n",
    "plt.savefig(\"img/(Ch04)Distribution of corrected hair lengths.png\")"
   ]
  },
  {
   "cell_type": "markdown",
   "metadata": {},
   "source": [
    "## Outliers "
   ]
  },
  {
   "cell_type": "markdown",
   "metadata": {},
   "source": [
    "### Z-Score"
   ]
  },
  {
   "cell_type": "code",
   "execution_count": 33,
   "metadata": {},
   "outputs": [
    {
     "data": {
      "image/png": "[encoded data removed]",
      "text/plain": [
       "<Figure size 1200x400 with 2 Axes>"
      ]
     },
     "metadata": {
      "needs_background": "light"
     },
     "output_type": "display_data"
    }
   ],
   "source": [
    "fig, (ax1, ax2) = plt.subplots(1, 2, figsize=(12, 4))\n",
    "ax1.hist(humans3.Height, bins=50)\n",
    "ax2.hist(humans3.Weight, bins=50)\n",
    "ax1.set_title(\"Distribution of Height\")\n",
    "ax2.set_title(\"Distribution of Weight\")\n",
    "fig.savefig(\"img/(Ch04)Distribution of Height and Weight.png\")"
   ]
  },
  {
   "cell_type": "code",
   "execution_count": 34,
   "metadata": {},
   "outputs": [
    {
     "name": "stdout",
     "output_type": "stream",
     "text": [
      "Anderson-Darling statistic for Height      :   0.24\n",
      "Anderson-Darling statistic for Weight      :   0.54\n",
      "Anderson-Darling statistic for Hair_Length : 578.19\n"
     ]
    }
   ],
   "source": [
    "from scipy.stats import anderson\n",
    "\n",
    "for var in ('Height', 'Weight', 'Hair_Length'):\n",
    "    data = humans3[var][humans3[var].notnull()]\n",
    "    stat = anderson(data, 'norm').statistic\n",
    "    print(f\"Anderson-Darling statistic for {var:<12s}: {stat:6.2f}\")"
   ]
  },
  {
   "cell_type": "code",
   "execution_count": 35,
   "metadata": {},
   "outputs": [
    {
     "data": {
      "text/html": [
       "<div>\n",
       "<style scoped>\n",
       "    .dataframe tbody tr th:only-of-type {\n",
       "        vertical-align: middle;\n",
       "    }\n",
       "\n",
       "    .dataframe tbody tr th {\n",
       "        vertical-align: top;\n",
       "    }\n",
       "\n",
       "    .dataframe thead th {\n",
       "        text-align: right;\n",
       "    }\n",
       "</style>\n",
       "<table border=\"1\" class=\"dataframe\">\n",
       "  <thead>\n",
       "    <tr style=\"text-align: right;\">\n",
       "      <th></th>\n",
       "      <th>Height</th>\n",
       "      <th>Weight</th>\n",
       "      <th>Hair_Length</th>\n",
       "      <th>Favorite</th>\n",
       "      <th>zscore_Height</th>\n",
       "      <th>zscore_Weight</th>\n",
       "      <th>zscore_Hair_Length</th>\n",
       "    </tr>\n",
       "  </thead>\n",
       "  <tbody>\n",
       "    <tr>\n",
       "      <th>21492</th>\n",
       "      <td>176.958650</td>\n",
       "      <td>72.604585</td>\n",
       "      <td>14.0</td>\n",
       "      <td>red</td>\n",
       "      <td>0.880831</td>\n",
       "      <td>-0.042032</td>\n",
       "      <td>-0.568786</td>\n",
       "    </tr>\n",
       "    <tr>\n",
       "      <th>9488</th>\n",
       "      <td>169.000221</td>\n",
       "      <td>79.559843</td>\n",
       "      <td>0.0</td>\n",
       "      <td>blue</td>\n",
       "      <td>-0.766210</td>\n",
       "      <td>0.997585</td>\n",
       "      <td>-1.225152</td>\n",
       "    </tr>\n",
       "    <tr>\n",
       "      <th>16933</th>\n",
       "      <td>171.104306</td>\n",
       "      <td>71.125528</td>\n",
       "      <td>5.5</td>\n",
       "      <td>red</td>\n",
       "      <td>-0.330758</td>\n",
       "      <td>-0.263109</td>\n",
       "      <td>-0.967294</td>\n",
       "    </tr>\n",
       "    <tr>\n",
       "      <th>12604</th>\n",
       "      <td>174.481084</td>\n",
       "      <td>79.496237</td>\n",
       "      <td>8.1</td>\n",
       "      <td>blue</td>\n",
       "      <td>0.368085</td>\n",
       "      <td>0.988078</td>\n",
       "      <td>-0.845397</td>\n",
       "    </tr>\n",
       "    <tr>\n",
       "      <th>8222</th>\n",
       "      <td>171.275578</td>\n",
       "      <td>77.094118</td>\n",
       "      <td>14.6</td>\n",
       "      <td>green</td>\n",
       "      <td>-0.295312</td>\n",
       "      <td>0.629028</td>\n",
       "      <td>-0.540656</td>\n",
       "    </tr>\n",
       "  </tbody>\n",
       "</table>\n",
       "</div>"
      ],
      "text/plain": [
       "           Height     Weight  Hair_Length Favorite  zscore_Height  \\\n",
       "21492  176.958650  72.604585         14.0      red       0.880831   \n",
       "9488   169.000221  79.559843          0.0     blue      -0.766210   \n",
       "16933  171.104306  71.125528          5.5      red      -0.330758   \n",
       "12604  174.481084  79.496237          8.1     blue       0.368085   \n",
       "8222   171.275578  77.094118         14.6    green      -0.295312   \n",
       "\n",
       "       zscore_Weight  zscore_Hair_Length  \n",
       "21492      -0.042032           -0.568786  \n",
       "9488        0.997585           -1.225152  \n",
       "16933      -0.263109           -0.967294  \n",
       "12604       0.988078           -0.845397  \n",
       "8222        0.629028           -0.540656  "
      ]
     },
     "execution_count": 35,
     "metadata": {},
     "output_type": "execute_result"
    }
   ],
   "source": [
    "humans4 = humans3.copy()\n",
    "\n",
    "for var in ('Height', 'Weight', 'Hair_Length'):\n",
    "    zscore = (humans4[var] - humans4[var].mean()) / humans4[var].std()\n",
    "    humans4[f\"zscore_{var}\"] = zscore\n",
    "    \n",
    "humans4.sample(5, random_state=1)"
   ]
  },
  {
   "cell_type": "code",
   "execution_count": 36,
   "metadata": {},
   "outputs": [
    {
     "data": {
      "text/html": [
       "<div>\n",
       "<style scoped>\n",
       "    .dataframe tbody tr th:only-of-type {\n",
       "        vertical-align: middle;\n",
       "    }\n",
       "\n",
       "    .dataframe tbody tr th {\n",
       "        vertical-align: top;\n",
       "    }\n",
       "\n",
       "    .dataframe thead th {\n",
       "        text-align: right;\n",
       "    }\n",
       "</style>\n",
       "<table border=\"1\" class=\"dataframe\">\n",
       "  <thead>\n",
       "    <tr style=\"text-align: right;\">\n",
       "      <th></th>\n",
       "      <th>Height</th>\n",
       "      <th>Weight</th>\n",
       "      <th>Hair_Length</th>\n",
       "      <th>Favorite</th>\n",
       "      <th>zscore_Height</th>\n",
       "      <th>zscore_Weight</th>\n",
       "      <th>zscore_Hair_Length</th>\n",
       "    </tr>\n",
       "  </thead>\n",
       "  <tbody>\n",
       "    <tr>\n",
       "      <th>138</th>\n",
       "      <td>187.708718</td>\n",
       "      <td>86.829633</td>\n",
       "      <td>19.3</td>\n",
       "      <td>green</td>\n",
       "      <td>3.105616</td>\n",
       "      <td>2.084216</td>\n",
       "      <td>-0.320304</td>\n",
       "    </tr>\n",
       "    <tr>\n",
       "      <th>174</th>\n",
       "      <td>187.537446</td>\n",
       "      <td>79.893761</td>\n",
       "      <td>37.5</td>\n",
       "      <td>blue</td>\n",
       "      <td>3.070170</td>\n",
       "      <td>1.047496</td>\n",
       "      <td>0.532971</td>\n",
       "    </tr>\n",
       "    <tr>\n",
       "      <th>412</th>\n",
       "      <td>157.522316</td>\n",
       "      <td>62.564977</td>\n",
       "      <td>6.8</td>\n",
       "      <td>blue</td>\n",
       "      <td>-3.141625</td>\n",
       "      <td>-1.542673</td>\n",
       "      <td>-0.906345</td>\n",
       "    </tr>\n",
       "    <tr>\n",
       "      <th>1162</th>\n",
       "      <td>188.592435</td>\n",
       "      <td>86.155948</td>\n",
       "      <td>53.1</td>\n",
       "      <td>red</td>\n",
       "      <td>3.288506</td>\n",
       "      <td>1.983518</td>\n",
       "      <td>1.264351</td>\n",
       "    </tr>\n",
       "    <tr>\n",
       "      <th>...</th>\n",
       "      <td>...</td>\n",
       "      <td>...</td>\n",
       "      <td>...</td>\n",
       "      <td>...</td>\n",
       "      <td>...</td>\n",
       "      <td>...</td>\n",
       "      <td>...</td>\n",
       "    </tr>\n",
       "    <tr>\n",
       "      <th>22945</th>\n",
       "      <td>157.293031</td>\n",
       "      <td>44.744929</td>\n",
       "      <td>18.4</td>\n",
       "      <td>red</td>\n",
       "      <td>-3.189077</td>\n",
       "      <td>-4.206272</td>\n",
       "      <td>-0.362499</td>\n",
       "    </tr>\n",
       "    <tr>\n",
       "      <th>23039</th>\n",
       "      <td>187.845548</td>\n",
       "      <td>88.554510</td>\n",
       "      <td>6.9</td>\n",
       "      <td>blue</td>\n",
       "      <td>3.133934</td>\n",
       "      <td>2.342037</td>\n",
       "      <td>-0.901657</td>\n",
       "    </tr>\n",
       "    <tr>\n",
       "      <th>24244</th>\n",
       "      <td>158.153049</td>\n",
       "      <td>59.725932</td>\n",
       "      <td>13.8</td>\n",
       "      <td>green</td>\n",
       "      <td>-3.011091</td>\n",
       "      <td>-1.967031</td>\n",
       "      <td>-0.578162</td>\n",
       "    </tr>\n",
       "    <tr>\n",
       "      <th>24801</th>\n",
       "      <td>189.310696</td>\n",
       "      <td>85.406727</td>\n",
       "      <td>2.3</td>\n",
       "      <td>green</td>\n",
       "      <td>3.437154</td>\n",
       "      <td>1.871531</td>\n",
       "      <td>-1.117320</td>\n",
       "    </tr>\n",
       "  </tbody>\n",
       "</table>\n",
       "<p>51 rows × 7 columns</p>\n",
       "</div>"
      ],
      "text/plain": [
       "           Height     Weight  Hair_Length Favorite  zscore_Height  \\\n",
       "138    187.708718  86.829633         19.3    green       3.105616   \n",
       "174    187.537446  79.893761         37.5     blue       3.070170   \n",
       "412    157.522316  62.564977          6.8     blue      -3.141625   \n",
       "1162   188.592435  86.155948         53.1      red       3.288506   \n",
       "...           ...        ...          ...      ...            ...   \n",
       "22945  157.293031  44.744929         18.4      red      -3.189077   \n",
       "23039  187.845548  88.554510          6.9     blue       3.133934   \n",
       "24244  158.153049  59.725932         13.8    green      -3.011091   \n",
       "24801  189.310696  85.406727          2.3    green       3.437154   \n",
       "\n",
       "       zscore_Weight  zscore_Hair_Length  \n",
       "138         2.084216           -0.320304  \n",
       "174         1.047496            0.532971  \n",
       "412        -1.542673           -0.906345  \n",
       "1162        1.983518            1.264351  \n",
       "...              ...                 ...  \n",
       "22945      -4.206272           -0.362499  \n",
       "23039       2.342037           -0.901657  \n",
       "24244      -1.967031           -0.578162  \n",
       "24801       1.871531           -1.117320  \n",
       "\n",
       "[51 rows x 7 columns]"
      ]
     },
     "execution_count": 36,
     "metadata": {},
     "output_type": "execute_result"
    }
   ],
   "source": [
    "humans4[humans4.zscore_Height.abs() > 3]"
   ]
  },
  {
   "cell_type": "code",
   "execution_count": 37,
   "metadata": {},
   "outputs": [
    {
     "name": "stdout",
     "output_type": "stream",
     "text": [
      "Outlier weight: 67\n",
      "Outlier hair length: 285\n"
     ]
    }
   ],
   "source": [
    "print(\"Outlier weight:\", (humans4.zscore_Weight.abs() > 3).sum())\n",
    "print(\"Outlier hair length:\", (humans4.zscore_Hair_Length.abs() > 3).sum())"
   ]
  },
  {
   "cell_type": "code",
   "execution_count": 38,
   "metadata": {},
   "outputs": [
    {
     "data": {
      "text/html": [
       "<div>\n",
       "<style scoped>\n",
       "    .dataframe tbody tr th:only-of-type {\n",
       "        vertical-align: middle;\n",
       "    }\n",
       "\n",
       "    .dataframe tbody tr th {\n",
       "        vertical-align: top;\n",
       "    }\n",
       "\n",
       "    .dataframe thead th {\n",
       "        text-align: right;\n",
       "    }\n",
       "</style>\n",
       "<table border=\"1\" class=\"dataframe\">\n",
       "  <thead>\n",
       "    <tr style=\"text-align: right;\">\n",
       "      <th></th>\n",
       "      <th>Height</th>\n",
       "      <th>Weight</th>\n",
       "      <th>Hair_Length</th>\n",
       "      <th>Favorite</th>\n",
       "      <th>zscore_Height</th>\n",
       "      <th>zscore_Weight</th>\n",
       "      <th>zscore_Hair_Length</th>\n",
       "    </tr>\n",
       "  </thead>\n",
       "  <tbody>\n",
       "    <tr>\n",
       "      <th>13971</th>\n",
       "      <td>153.107034</td>\n",
       "      <td>63.155154</td>\n",
       "      <td>4.4</td>\n",
       "      <td>green</td>\n",
       "      <td>-4.055392</td>\n",
       "      <td>-1.454458</td>\n",
       "      <td>-1.018865</td>\n",
       "    </tr>\n",
       "    <tr>\n",
       "      <th>14106</th>\n",
       "      <td>157.244415</td>\n",
       "      <td>45.062151</td>\n",
       "      <td>70.7</td>\n",
       "      <td>red</td>\n",
       "      <td>-3.199138</td>\n",
       "      <td>-4.158856</td>\n",
       "      <td>2.089496</td>\n",
       "    </tr>\n",
       "    <tr>\n",
       "      <th>22945</th>\n",
       "      <td>157.293031</td>\n",
       "      <td>44.744929</td>\n",
       "      <td>18.4</td>\n",
       "      <td>red</td>\n",
       "      <td>-3.189077</td>\n",
       "      <td>-4.206272</td>\n",
       "      <td>-0.362499</td>\n",
       "    </tr>\n",
       "  </tbody>\n",
       "</table>\n",
       "</div>"
      ],
      "text/plain": [
       "           Height     Weight  Hair_Length Favorite  zscore_Height  \\\n",
       "13971  153.107034  63.155154          4.4    green      -4.055392   \n",
       "14106  157.244415  45.062151         70.7      red      -3.199138   \n",
       "22945  157.293031  44.744929         18.4      red      -3.189077   \n",
       "\n",
       "       zscore_Weight  zscore_Hair_Length  \n",
       "13971      -1.454458           -1.018865  \n",
       "14106      -4.158856            2.089496  \n",
       "22945      -4.206272           -0.362499  "
      ]
     },
     "execution_count": 38,
     "metadata": {},
     "output_type": "execute_result"
    }
   ],
   "source": [
    "cond = (\n",
    "    (humans4.zscore_Height.abs() > 4) |\n",
    "    (humans4.zscore_Weight.abs() > 4) |\n",
    "    (humans4.zscore_Hair_Length.abs() > 4.5))\n",
    "humans4[cond] "
   ]
  },
  {
   "cell_type": "markdown",
   "metadata": {},
   "source": [
    "### Interquartile Range"
   ]
  },
  {
   "cell_type": "code",
   "execution_count": 39,
   "metadata": {},
   "outputs": [],
   "source": [
    "# Function defined but not run in this cell\n",
    "def show_boxplots(df, cols, whis=1.5):\n",
    "    # Create as many horizontal plots as we have columns\n",
    "    fig, axes = plt.subplots(len(cols), 1, figsize=(10, 2*len(cols)))\n",
    "    # For each one, plot the non-null data inside it\n",
    "    for n, col in enumerate(cols):\n",
    "        data = df[col][df[col].notnull()]\n",
    "        axes[n].set_title(f'{col} Distribution')\n",
    "        # Extend whiskers to specified IQR multiplier\n",
    "        axes[n].boxplot(data, whis=whis, vert=False, sym='x')\n",
    "        axes[n].set_yticks([])\n",
    "    # Fix spacing of subplots at the end\n",
    "    fig.tight_layout()\n",
    "    plt.savefig(f\"img/boxplot-{'_'.join(cols)}.png\")"
   ]
  },
  {
   "cell_type": "code",
   "execution_count": 40,
   "metadata": {},
   "outputs": [
    {
     "data": {
      "image/png": "[encoded data removed]",
      "text/plain": [
       "<Figure size 1000x600 with 3 Axes>"
      ]
     },
     "metadata": {
      "needs_background": "light"
     },
     "output_type": "display_data"
    }
   ],
   "source": [
    "show_boxplots(humans4, [\"Height\", \"Weight\", \"Hair_Length\"], 2.5)"
   ]
  },
  {
   "cell_type": "code",
   "execution_count": 41,
   "metadata": {},
   "outputs": [
    {
     "data": {
      "text/html": [
       "<div>\n",
       "<style scoped>\n",
       "    .dataframe tbody tr th:only-of-type {\n",
       "        vertical-align: middle;\n",
       "    }\n",
       "\n",
       "    .dataframe tbody tr th {\n",
       "        vertical-align: top;\n",
       "    }\n",
       "\n",
       "    .dataframe thead th {\n",
       "        text-align: right;\n",
       "    }\n",
       "</style>\n",
       "<table border=\"1\" class=\"dataframe\">\n",
       "  <thead>\n",
       "    <tr style=\"text-align: right;\">\n",
       "      <th></th>\n",
       "      <th>Height</th>\n",
       "      <th>Weight</th>\n",
       "    </tr>\n",
       "  </thead>\n",
       "  <tbody>\n",
       "    <tr>\n",
       "      <th>0.25</th>\n",
       "      <td>169.428884</td>\n",
       "      <td>68.428823</td>\n",
       "    </tr>\n",
       "    <tr>\n",
       "      <th>0.50</th>\n",
       "      <td>172.709078</td>\n",
       "      <td>72.930616</td>\n",
       "    </tr>\n",
       "    <tr>\n",
       "      <th>0.75</th>\n",
       "      <td>175.953541</td>\n",
       "      <td>77.367039</td>\n",
       "    </tr>\n",
       "    <tr>\n",
       "      <th>1.00</th>\n",
       "      <td>190.888112</td>\n",
       "      <td>98.032504</td>\n",
       "    </tr>\n",
       "  </tbody>\n",
       "</table>\n",
       "</div>"
      ],
      "text/plain": [
       "          Height     Weight\n",
       "0.25  169.428884  68.428823\n",
       "0.50  172.709078  72.930616\n",
       "0.75  175.953541  77.367039\n",
       "1.00  190.888112  98.032504"
      ]
     },
     "execution_count": 41,
     "metadata": {},
     "output_type": "execute_result"
    }
   ],
   "source": [
    "quartiles = (\n",
    "    humans4[['Height', 'Weight']]\n",
    "    .quantile(q=[0.25, 0.50, 0.75, 1.0]))\n",
    "quartiles"
   ]
  },
  {
   "cell_type": "code",
   "execution_count": 42,
   "metadata": {},
   "outputs": [
    {
     "data": {
      "text/plain": [
       "Height    6.524657\n",
       "Weight    8.938216\n",
       "dtype: float64"
      ]
     },
     "execution_count": 42,
     "metadata": {},
     "output_type": "execute_result"
    }
   ],
   "source": [
    "IQR = quartiles.loc[0.75] - quartiles.loc[0.25]\n",
    "IQR"
   ]
  },
  {
   "cell_type": "code",
   "execution_count": 43,
   "metadata": {},
   "outputs": [
    {
     "name": "stdout",
     "output_type": "stream",
     "text": [
      "Inliers for Height: [153.117, 192.265]\n",
      "Inliers for Weight: [46.083, 99.713]\n"
     ]
    }
   ],
   "source": [
    "for col, length in IQR.iteritems():\n",
    "    high = quartiles.loc[0.75, col] + 2.5*IQR[col]\n",
    "    low = quartiles.loc[0.25, col] - 2.5*IQR[col]\n",
    "    print(f\"Inliers for {col}: [{low:.3f}, {high:.3f}]\")"
   ]
  },
  {
   "cell_type": "code",
   "execution_count": 44,
   "metadata": {},
   "outputs": [
    {
     "data": {
      "text/html": [
       "<div>\n",
       "<style scoped>\n",
       "    .dataframe tbody tr th:only-of-type {\n",
       "        vertical-align: middle;\n",
       "    }\n",
       "\n",
       "    .dataframe tbody tr th {\n",
       "        vertical-align: top;\n",
       "    }\n",
       "\n",
       "    .dataframe thead th {\n",
       "        text-align: right;\n",
       "    }\n",
       "</style>\n",
       "<table border=\"1\" class=\"dataframe\">\n",
       "  <thead>\n",
       "    <tr style=\"text-align: right;\">\n",
       "      <th></th>\n",
       "      <th>Height</th>\n",
       "      <th>Weight</th>\n",
       "      <th>Hair_Length</th>\n",
       "      <th>Favorite</th>\n",
       "      <th>zscore_Height</th>\n",
       "      <th>zscore_Weight</th>\n",
       "      <th>zscore_Hair_Length</th>\n",
       "    </tr>\n",
       "  </thead>\n",
       "  <tbody>\n",
       "    <tr>\n",
       "      <th>13971</th>\n",
       "      <td>153.107034</td>\n",
       "      <td>63.155154</td>\n",
       "      <td>4.4</td>\n",
       "      <td>green</td>\n",
       "      <td>-4.055392</td>\n",
       "      <td>-1.454458</td>\n",
       "      <td>-1.018865</td>\n",
       "    </tr>\n",
       "    <tr>\n",
       "      <th>14106</th>\n",
       "      <td>157.244415</td>\n",
       "      <td>45.062151</td>\n",
       "      <td>70.7</td>\n",
       "      <td>red</td>\n",
       "      <td>-3.199138</td>\n",
       "      <td>-4.158856</td>\n",
       "      <td>2.089496</td>\n",
       "    </tr>\n",
       "    <tr>\n",
       "      <th>22945</th>\n",
       "      <td>157.293031</td>\n",
       "      <td>44.744929</td>\n",
       "      <td>18.4</td>\n",
       "      <td>red</td>\n",
       "      <td>-3.189077</td>\n",
       "      <td>-4.206272</td>\n",
       "      <td>-0.362499</td>\n",
       "    </tr>\n",
       "  </tbody>\n",
       "</table>\n",
       "</div>"
      ],
      "text/plain": [
       "           Height     Weight  Hair_Length Favorite  zscore_Height  \\\n",
       "13971  153.107034  63.155154          4.4    green      -4.055392   \n",
       "14106  157.244415  45.062151         70.7      red      -3.199138   \n",
       "22945  157.293031  44.744929         18.4      red      -3.189077   \n",
       "\n",
       "       zscore_Weight  zscore_Hair_Length  \n",
       "13971      -1.454458           -1.018865  \n",
       "14106      -4.158856            2.089496  \n",
       "22945      -4.206272           -0.362499  "
      ]
     },
     "execution_count": 44,
     "metadata": {},
     "output_type": "execute_result"
    }
   ],
   "source": [
    "cond = (\n",
    "    (humans4.Height > 192.265) |\n",
    "    (humans4.Height < 153.117) |\n",
    "    (humans4.Weight > 99.713)  |\n",
    "    (humans4.Weight < 46.083))\n",
    "humans4[cond] "
   ]
  },
  {
   "cell_type": "markdown",
   "metadata": {},
   "source": [
    "## Multivariate Outliers "
   ]
  },
  {
   "cell_type": "code",
   "execution_count": 45,
   "metadata": {},
   "outputs": [
    {
     "data": {
      "text/html": [
       "<div>\n",
       "<style scoped>\n",
       "    .dataframe tbody tr th:only-of-type {\n",
       "        vertical-align: middle;\n",
       "    }\n",
       "\n",
       "    .dataframe tbody tr th {\n",
       "        vertical-align: top;\n",
       "    }\n",
       "\n",
       "    .dataframe thead th {\n",
       "        text-align: right;\n",
       "    }\n",
       "</style>\n",
       "<table border=\"1\" class=\"dataframe\">\n",
       "  <thead>\n",
       "    <tr style=\"text-align: right;\">\n",
       "      <th></th>\n",
       "      <th>Height</th>\n",
       "      <th>Weight</th>\n",
       "      <th>BMI</th>\n",
       "      <th>zscore_BMI</th>\n",
       "    </tr>\n",
       "  </thead>\n",
       "  <tbody>\n",
       "    <tr>\n",
       "      <th>0</th>\n",
       "      <td>167.089607</td>\n",
       "      <td>64.806216</td>\n",
       "      <td>23.212279</td>\n",
       "      <td>-0.620410</td>\n",
       "    </tr>\n",
       "    <tr>\n",
       "      <th>1</th>\n",
       "      <td>181.648633</td>\n",
       "      <td>78.281527</td>\n",
       "      <td>23.724388</td>\n",
       "      <td>-0.359761</td>\n",
       "    </tr>\n",
       "    <tr>\n",
       "      <th>2</th>\n",
       "      <td>176.272800</td>\n",
       "      <td>87.767722</td>\n",
       "      <td>28.246473</td>\n",
       "      <td>1.941852</td>\n",
       "    </tr>\n",
       "    <tr>\n",
       "      <th>3</th>\n",
       "      <td>173.270164</td>\n",
       "      <td>81.635672</td>\n",
       "      <td>27.191452</td>\n",
       "      <td>1.404877</td>\n",
       "    </tr>\n",
       "    <tr>\n",
       "      <th>...</th>\n",
       "      <td>...</td>\n",
       "      <td>...</td>\n",
       "      <td>...</td>\n",
       "      <td>...</td>\n",
       "    </tr>\n",
       "    <tr>\n",
       "      <th>24996</th>\n",
       "      <td>163.952580</td>\n",
       "      <td>68.936137</td>\n",
       "      <td>25.645456</td>\n",
       "      <td>0.618008</td>\n",
       "    </tr>\n",
       "    <tr>\n",
       "      <th>24997</th>\n",
       "      <td>164.334317</td>\n",
       "      <td>67.830516</td>\n",
       "      <td>25.117048</td>\n",
       "      <td>0.349063</td>\n",
       "    </tr>\n",
       "    <tr>\n",
       "      <th>24998</th>\n",
       "      <td>171.524117</td>\n",
       "      <td>75.861686</td>\n",
       "      <td>25.785295</td>\n",
       "      <td>0.689182</td>\n",
       "    </tr>\n",
       "    <tr>\n",
       "      <th>24999</th>\n",
       "      <td>174.949129</td>\n",
       "      <td>71.620899</td>\n",
       "      <td>23.400018</td>\n",
       "      <td>-0.524856</td>\n",
       "    </tr>\n",
       "  </tbody>\n",
       "</table>\n",
       "<p>25000 rows × 4 columns</p>\n",
       "</div>"
      ],
      "text/plain": [
       "           Height     Weight        BMI  zscore_BMI\n",
       "0      167.089607  64.806216  23.212279   -0.620410\n",
       "1      181.648633  78.281527  23.724388   -0.359761\n",
       "2      176.272800  87.767722  28.246473    1.941852\n",
       "3      173.270164  81.635672  27.191452    1.404877\n",
       "...           ...        ...        ...         ...\n",
       "24996  163.952580  68.936137  25.645456    0.618008\n",
       "24997  164.334317  67.830516  25.117048    0.349063\n",
       "24998  171.524117  75.861686  25.785295    0.689182\n",
       "24999  174.949129  71.620899  23.400018   -0.524856\n",
       "\n",
       "[25000 rows x 4 columns]"
      ]
     },
     "execution_count": 45,
     "metadata": {},
     "output_type": "execute_result"
    }
   ],
   "source": [
    "humans5 = humans4[['Height', 'Weight']].copy()\n",
    "# Convert weight from cm to m\n",
    "humans5['BMI'] = humans5.Weight / (humans5.Height/100)**2\n",
    "humans5[\"zscore_BMI\"] = (\n",
    "    (humans5.BMI - humans5.BMI.mean()) / \n",
    "     humans5.BMI.std()\n",
    ")\n",
    "humans5"
   ]
  },
  {
   "cell_type": "code",
   "execution_count": 46,
   "metadata": {},
   "outputs": [
    {
     "data": {
      "text/html": [
       "<div>\n",
       "<style scoped>\n",
       "    .dataframe tbody tr th:only-of-type {\n",
       "        vertical-align: middle;\n",
       "    }\n",
       "\n",
       "    .dataframe tbody tr th {\n",
       "        vertical-align: top;\n",
       "    }\n",
       "\n",
       "    .dataframe thead th {\n",
       "        text-align: right;\n",
       "    }\n",
       "</style>\n",
       "<table border=\"1\" class=\"dataframe\">\n",
       "  <thead>\n",
       "    <tr style=\"text-align: right;\">\n",
       "      <th></th>\n",
       "      <th>Height</th>\n",
       "      <th>Weight</th>\n",
       "      <th>BMI</th>\n",
       "      <th>zscore_BMI</th>\n",
       "    </tr>\n",
       "  </thead>\n",
       "  <tbody>\n",
       "    <tr>\n",
       "      <th>21388</th>\n",
       "      <td>165.912597</td>\n",
       "      <td>90.579409</td>\n",
       "      <td>32.905672</td>\n",
       "      <td>4.313253</td>\n",
       "    </tr>\n",
       "    <tr>\n",
       "      <th>23456</th>\n",
       "      <td>187.110000</td>\n",
       "      <td>52.920000</td>\n",
       "      <td>15.115616</td>\n",
       "      <td>-4.741383</td>\n",
       "    </tr>\n",
       "    <tr>\n",
       "      <th>23457</th>\n",
       "      <td>158.330000</td>\n",
       "      <td>92.780000</td>\n",
       "      <td>37.010755</td>\n",
       "      <td>6.402625</td>\n",
       "    </tr>\n",
       "    <tr>\n",
       "      <th>24610</th>\n",
       "      <td>169.082822</td>\n",
       "      <td>47.250297</td>\n",
       "      <td>16.527439</td>\n",
       "      <td>-4.022805</td>\n",
       "    </tr>\n",
       "  </tbody>\n",
       "</table>\n",
       "</div>"
      ],
      "text/plain": [
       "           Height     Weight        BMI  zscore_BMI\n",
       "21388  165.912597  90.579409  32.905672    4.313253\n",
       "23456  187.110000  52.920000  15.115616   -4.741383\n",
       "23457  158.330000  92.780000  37.010755    6.402625\n",
       "24610  169.082822  47.250297  16.527439   -4.022805"
      ]
     },
     "execution_count": 46,
     "metadata": {},
     "output_type": "execute_result"
    }
   ],
   "source": [
    "humans5[humans5.zscore_BMI.abs() > 4]"
   ]
  },
  {
   "cell_type": "markdown",
   "metadata": {},
   "source": [
    "## Exercises"
   ]
  },
  {
   "cell_type": "markdown",
   "metadata": {},
   "source": [
    "### A Famous Experiment"
   ]
  },
  {
   "cell_type": "code",
   "execution_count": 47,
   "metadata": {},
   "outputs": [
    {
     "name": "stdout",
     "output_type": "stream",
     "text": [
      "`summarise()` ungrouping output (override with `.groups` argument)\n",
      "\u001b[90m# A tibble: 5 x 3\u001b[39m\n",
      "   Expt  Mean Count\n",
      "  \u001b[3m\u001b[90m<int>\u001b[39m\u001b[23m \u001b[3m\u001b[90m<dbl>\u001b[39m\u001b[23m \u001b[3m\u001b[90m<int>\u001b[39m\u001b[23m\n",
      "\u001b[90m1\u001b[39m     1  909     20\n",
      "\u001b[90m2\u001b[39m     2  856     20\n",
      "\u001b[90m3\u001b[39m     3  845     20\n",
      "\u001b[90m4\u001b[39m     4  820.    20\n",
      "\u001b[90m5\u001b[39m     5  832.    20\n"
     ]
    }
   ],
   "source": [
    "%%R -o morley\n",
    "data(morley)\n",
    "morley %>%\n",
    "    group_by(`Expt`) %>%\n",
    "    summarize(Mean = mean(Speed), Count = max(Run))"
   ]
  },
  {
   "cell_type": "markdown",
   "metadata": {},
   "source": [
    "### Misspelled Words"
   ]
  },
  {
   "cell_type": "code",
   "execution_count": 48,
   "metadata": {},
   "outputs": [
    {
     "name": "stdout",
     "output_type": "stream",
     "text": [
      "Levenshtein distance: 1\n",
      "Similarity ratio: 0.8\n"
     ]
    }
   ],
   "source": [
    "%%bash \n",
    "similarity David Davin"
   ]
  },
  {
   "cell_type": "code",
   "execution_count": 49,
   "metadata": {},
   "outputs": [
    {
     "name": "stdout",
     "output_type": "stream",
     "text": [
      "Levenshtein distance: 3\n",
      "Similarity ratio: 0.4\n"
     ]
    }
   ],
   "source": [
    "%%bash\n",
    "similarity David Maven"
   ]
  },
  {
   "cell_type": "code",
   "execution_count": 50,
   "metadata": {},
   "outputs": [
    {
     "name": "stdout",
     "output_type": "stream",
     "text": [
      "Levenshtein distance: 5\n",
      "Similarity ratio: 0.814814814815\n"
     ]
    }
   ],
   "source": [
    "%%bash\n",
    "similarity \"the quick brown fox jumped\" \\\n",
    "           \"thee quikc brown fax jumbed\""
   ]
  },
  {
   "cell_type": "code",
   "execution_count": 51,
   "metadata": {},
   "outputs": [
    {
     "data": {
      "text/html": [
       "<div>\n",
       "<style scoped>\n",
       "    .dataframe tbody tr th:only-of-type {\n",
       "        vertical-align: middle;\n",
       "    }\n",
       "\n",
       "    .dataframe tbody tr th {\n",
       "        vertical-align: top;\n",
       "    }\n",
       "\n",
       "    .dataframe thead th {\n",
       "        text-align: right;\n",
       "    }\n",
       "</style>\n",
       "<table border=\"1\" class=\"dataframe\">\n",
       "  <thead>\n",
       "    <tr style=\"text-align: right;\">\n",
       "      <th></th>\n",
       "      <th>Name</th>\n",
       "      <th>Height</th>\n",
       "      <th>Weight</th>\n",
       "    </tr>\n",
       "  </thead>\n",
       "  <tbody>\n",
       "    <tr>\n",
       "      <th>0</th>\n",
       "      <td>James</td>\n",
       "      <td>167.089607</td>\n",
       "      <td>64.806216</td>\n",
       "    </tr>\n",
       "    <tr>\n",
       "      <th>1</th>\n",
       "      <td>David</td>\n",
       "      <td>181.648633</td>\n",
       "      <td>78.281527</td>\n",
       "    </tr>\n",
       "    <tr>\n",
       "      <th>2</th>\n",
       "      <td>Barbara</td>\n",
       "      <td>176.272800</td>\n",
       "      <td>87.767722</td>\n",
       "    </tr>\n",
       "    <tr>\n",
       "      <th>3</th>\n",
       "      <td>John</td>\n",
       "      <td>173.270164</td>\n",
       "      <td>81.635672</td>\n",
       "    </tr>\n",
       "    <tr>\n",
       "      <th>4</th>\n",
       "      <td>Michael</td>\n",
       "      <td>172.181037</td>\n",
       "      <td>82.760794</td>\n",
       "    </tr>\n",
       "  </tbody>\n",
       "</table>\n",
       "</div>"
      ],
      "text/plain": [
       "      Name      Height     Weight\n",
       "0    James  167.089607  64.806216\n",
       "1    David  181.648633  78.281527\n",
       "2  Barbara  176.272800  87.767722\n",
       "3     John  173.270164  81.635672\n",
       "4  Michael  172.181037  82.760794"
      ]
     },
     "execution_count": 51,
     "metadata": {},
     "output_type": "execute_result"
    }
   ],
   "source": [
    "names = pd.read_csv('data/humans-names.csv')\n",
    "names.head()"
   ]
  },
  {
   "cell_type": "code",
   "execution_count": 52,
   "metadata": {},
   "outputs": [
    {
     "data": {
      "text/plain": [
       "Elizabeth    1581\n",
       "Barbara      1568\n",
       "Jessica      1547\n",
       "Jennifer     1534\n",
       "             ... \n",
       "Josep           1\n",
       "iWlliam         1\n",
       "Joseeph         1\n",
       "eJennifer       1\n",
       "Name: Name, Length: 249, dtype: int64"
      ]
     },
     "execution_count": 52,
     "metadata": {},
     "output_type": "execute_result"
    }
   ],
   "source": [
    "names.Name.value_counts()"
   ]
  }
 ],
 "metadata": {
  "kernelspec": {
   "display_name": "Python 3",
   "language": "python",
   "name": "python3"
  },
  "language_info": {
   "codemirror_mode": {
    "name": "ipython",
    "version": 3
   },
   "file_extension": ".py",
   "mimetype": "text/x-python",
   "name": "python",
   "nbconvert_exporter": "python",
   "pygments_lexer": "ipython3",
   "version": "3.8.5"
  }
 },
 "nbformat": 4,
 "nbformat_minor": 4
}
