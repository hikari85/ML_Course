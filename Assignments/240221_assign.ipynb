{
 "cells": [
  {
   "cell_type": "markdown",
   "id": "2ce1f28e-11ad-4914-9e73-789a08f6c5f4",
   "metadata": {},
   "source": [
    "240221_assign  \n",
    "Due Date 23 Feb 2024   "
   ]
  },
  {
   "cell_type": "markdown",
   "id": "50d2f12e-561b-40b9-a415-d301cdc52cc7",
   "metadata": {},
   "source": [
    "1. Features: /Data/BSc22A_Student_Data.xlsx height_cm and weight_Kg   \n",
    "    Label: BMI   \n",
    "    \n",
    "    Using linear regression check accuracy"
   ]
  },
  {
   "cell_type": "markdown",
   "id": "c67ed764-8788-4bce-af8f-ad426395f1f2",
   "metadata": {},
   "source": [
    "2. Features: /Data/BSc22A_Student_Data.xlsx \n",
    "    convert height_cm to height_in (inches) and weight_Kg to weight_lb (pounds)  \n",
    "    Label: BMI   \n",
    "    \n",
    "    Using linear regression check accuracy and compare with the previous accuracy.   "
   ]
  },
  {
   "cell_type": "markdown",
   "id": "fbd58e35-a7c3-4af1-ba69-b3e3c532314d",
   "metadata": {},
   "source": [
    "3. Features: /Data/BSc22A_Student_Data.xlsx  \n",
    "    Nomralise height, weight, and BMI values using min-max normaliser   \n",
    "   \n",
    "    Using linear regression check accuracy and compare with the previous accuracies.   "
   ]
  },
  {
   "cell_type": "markdown",
   "id": "c6a54356-33de-46f8-a9b1-f1c9599f776f",
   "metadata": {},
   "source": [
    "4. Features: /Data/BSc22A_Student_Data.xlsx  \n",
    "    Scale height, weight, and BMI values using standard scaler     \n",
    "   \n",
    "    Using linear regression check accuracy and compare with the previous accuracies.   "
   ]
  }
 ],
 "metadata": {
  "kernelspec": {
   "display_name": "Python 3 (ipykernel)",
   "language": "python",
   "name": "python3"
  },
  "language_info": {
   "codemirror_mode": {
    "name": "ipython",
    "version": 3
   },
   "file_extension": ".py",
   "mimetype": "text/x-python",
   "name": "python",
   "nbconvert_exporter": "python",
   "pygments_lexer": "ipython3",
   "version": "3.11.5"
  }
 },
 "nbformat": 4,
 "nbformat_minor": 5
}
