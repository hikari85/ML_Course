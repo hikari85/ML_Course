{
 "cells": [
  {
   "cell_type": "markdown",
   "id": "02547b52-7c0b-4754-aaa8-56c20f017fa7",
   "metadata": {},
   "source": [
    "<u>240201_class</u>    \n",
    "See \"Hello ML\" example in 01. Introduction.ipynb   \n",
    "Change the dataset using features:   \n",
    "- only height   \n",
    "- only weight   \n",
    "- height and weight (excluding shoe size)    \n",
    "\n",
    "and check if there the miss-matched target values change.  "
   ]
  }
 ],
 "metadata": {
  "kernelspec": {
   "display_name": "Python 3 (ipykernel)",
   "language": "python",
   "name": "python3"
  },
  "language_info": {
   "codemirror_mode": {
    "name": "ipython",
    "version": 3
   },
   "file_extension": ".py",
   "mimetype": "text/x-python",
   "name": "python",
   "nbconvert_exporter": "python",
   "pygments_lexer": "ipython3",
   "version": "3.11.5"
  }
 },
 "nbformat": 4,
 "nbformat_minor": 5
}
