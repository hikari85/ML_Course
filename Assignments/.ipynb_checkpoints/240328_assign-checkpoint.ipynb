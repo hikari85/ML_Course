{
 "cells": [
  {
   "cell_type": "markdown",
   "id": "d75312d4-1a2a-4bb2-8df7-f3a833e3025f",
   "metadata": {},
   "source": [
    "#### Assignment 240328  "
   ]
  },
  {
   "cell_type": "markdown",
   "id": "8e31cd2f-e1af-46df-8f89-b9d2b219cb71",
   "metadata": {},
   "source": [
    "1.  Make a multiple linear regression model for life expectancy data in Data/life_expectancy.csv\n",
    "    Compare the real values with the predicted.\n",
    "    What is the accuracy?\n",
    "    use the second, third, and fourth column as input variables, and the last column as the label."
   ]
  },
  {
   "cell_type": "markdown",
   "id": "90104127-f01d-482b-84dc-f88f2ae4e0f9",
   "metadata": {},
   "source": [
    "2.  For the data in Data/advertising_Cost.csv, build a multi-linear regression model.\n",
    "    Check the effect by changing the combination of media (combination of features)."
   ]
  }
 ],
 "metadata": {
  "kernelspec": {
   "display_name": "Python 3 (ipykernel)",
   "language": "python",
   "name": "python3"
  },
  "language_info": {
   "codemirror_mode": {
    "name": "ipython",
    "version": 3
   },
   "file_extension": ".py",
   "mimetype": "text/x-python",
   "name": "python",
   "nbconvert_exporter": "python",
   "pygments_lexer": "ipython3",
   "version": "3.11.5"
  }
 },
 "nbformat": 4,
 "nbformat_minor": 5
}
