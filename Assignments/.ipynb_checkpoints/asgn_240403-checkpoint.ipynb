{
 "cells": [
  {
   "cell_type": "markdown",
   "id": "61fb9c9a5b19afa3",
   "metadata": {},
   "source": [
    "#### 1. Refer 01.05 Large Features Classifier  \n",
    "1. Change lr and check accuracy  \n",
    "2. Change number of iterations and check the effect\n",
    "3. Try to identify digits 0 to 9 and record the success% for each.\n",
    "\n",
    "#### 2. Sonar data  \n",
    "SONAR: Sound Navigation and Ranging RADAR: Radio Detection and Ranging  \n",
    "\n",
    "Sonar dataset from Kaggle is downloaded at /ML_Course/Data/Sonar.csv It has 111 patterns obtained by bouncing sonar signals off a metal cylinder at various angles and under various conditions. and 97 patterns obtained from rocks under similar conditions. Each pattern is a set of 60 numbers in the range 0.0 to 1.0. Each number represents the energy within a particular frequency band, integrated over a certain period of time. The labels are “R” for rock and “M” for mine (metal cylinder).  \n",
    "\n",
    "1. Shuffle the dataset before splitting (to train and test sets) as the original is sorted by label.  \n",
    "2. Remember to add bias column tp X_train and X_test.\n",
    "3. You may start with lr=0.01\n",
    "4. Too large a learning rate can cause errors when calculating loss because the logarithms andexponentials generate huge or tiny numbers.\n",
    "5. Excessive iterations may reduce the accuracy due to overfitting.\n",
    "6. Aim for >75% accuracy."
   ]
  }
 ],
 "metadata": {
  "kernelspec": {
   "display_name": "Python 3 (ipykernel)",
   "language": "python",
   "name": "python3"
  },
  "language_info": {
   "codemirror_mode": {
    "name": "ipython",
    "version": 3
   },
   "file_extension": ".py",
   "mimetype": "text/x-python",
   "name": "python",
   "nbconvert_exporter": "python",
   "pygments_lexer": "ipython3",
   "version": "3.11.5"
  }
 },
 "nbformat": 4,
 "nbformat_minor": 5
}
