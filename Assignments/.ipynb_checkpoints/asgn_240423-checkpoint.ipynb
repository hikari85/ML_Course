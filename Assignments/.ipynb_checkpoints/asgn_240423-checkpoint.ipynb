{
 "cells": [
  {
   "cell_type": "markdown",
   "id": "2cf644b2-40ff-4a29-8380-86373df4a13e",
   "metadata": {},
   "source": [
    "#### asgn_240423   \n",
    "Due Date: 26 Apr 2024\n",
    "\n",
    "/Data/ANSUR/ folder has body measurement data for men and women. ANSUR II Databases Overview.pdf explains the features in the dataset. \n",
    "\n",
    "Pick 1000 rows each sex as training data and 200 each as test data. \n",
    "Choose 20 numeric columns as features and sex as the label.  \n",
    "\n",
    "Build a classifier model and note the feature importance.  \n",
    "Measure the accuracy of the model. \n",
    "\n",
    "Exclude 5 least important features and measure accuracy. \n",
    "Exclude 5 most important features and measure accuracy. \n"
   ]
  }
 ],
 "metadata": {
  "kernelspec": {
   "display_name": "Python 3 (ipykernel)",
   "language": "python",
   "name": "python3"
  },
  "language_info": {
   "codemirror_mode": {
    "name": "ipython",
    "version": 3
   },
   "file_extension": ".py",
   "mimetype": "text/x-python",
   "name": "python",
   "nbconvert_exporter": "python",
   "pygments_lexer": "ipython3",
   "version": "3.11.5"
  }
 },
 "nbformat": 4,
 "nbformat_minor": 5
}
