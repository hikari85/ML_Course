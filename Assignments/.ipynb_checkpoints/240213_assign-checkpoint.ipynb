{
 "cells": [
  {
   "cell_type": "markdown",
   "source": [
    "##### Assignmnet 240213  "
   ],
   "metadata": {
    "collapsed": false
   },
   "id": "de167a5d860c214a"
  },
  {
   "cell_type": "markdown",
   "source": [
    "1. Using data from /Data/BSc22A_Student_Data.xlsx, train a linear regression model to predict BMI with the feature set of (height, weight).   \n",
    "2. Check accuracy of the above model with training data.      "
   ],
   "metadata": {
    "collapsed": false
   },
   "id": "944e403d80fc337a"
  },
  {
   "cell_type": "code",
   "execution_count": null,
   "outputs": [],
   "source": [],
   "metadata": {
    "collapsed": false,
    "ExecuteTime": {
     "end_time": "2024-02-10T05:50:07.294097200Z",
     "start_time": "2024-02-10T05:50:07.287764500Z"
    }
   },
   "id": "ac18bf119bb51fba"
  },
  {
   "cell_type": "markdown",
   "source": [
    "3. Using /Data/Height_Weight_Sample.xlsx as validation set, check accuracy of the above model.  "
   ],
   "metadata": {
    "collapsed": false
   },
   "id": "416eb4c8fb64cba2"
  },
  {
   "cell_type": "code",
   "execution_count": null,
   "outputs": [],
   "source": [],
   "metadata": {
    "collapsed": false,
    "ExecuteTime": {
     "end_time": "2024-02-10T05:50:07.297833600Z",
     "start_time": "2024-02-10T05:50:07.292498800Z"
    }
   },
   "id": "baaf041c867a5191"
  },
  {
   "cell_type": "markdown",
   "source": [
    "4. Using Puma_Indian data from /Data/seven_schools.xlsx as validation set, check accuracy of the model."
   ],
   "metadata": {
    "collapsed": false
   },
   "id": "332e4c5a01aa54db"
  },
  {
   "cell_type": "code",
   "execution_count": null,
   "outputs": [],
   "source": [],
   "metadata": {
    "collapsed": false,
    "ExecuteTime": {
     "end_time": "2024-02-10T05:50:07.303120600Z",
     "start_time": "2024-02-10T05:50:07.296831800Z"
    }
   },
   "id": "a3cf16856a934f16"
  },
  {
   "cell_type": "markdown",
   "source": [
    "5. Make a summary report of your observations. "
   ],
   "metadata": {
    "collapsed": false
   },
   "id": "49fe6f81d273d354"
  },
  {
   "cell_type": "markdown",
   "source": [
    "6. Create a decsion tree model to predict the sex of a person based on height, weight and shoe size.  \n",
    "    Find the accuracy and confusion matrix with test data.  "
   ],
   "metadata": {
    "collapsed": false
   },
   "id": "95ad36a50c67c53f"
  },
  {
   "cell_type": "markdown",
   "source": [
    "\n",
    "7. Repeat the above steps with height and shoe size as features.  "
   ],
   "metadata": {
    "collapsed": false
   },
   "id": "e0747b064c8cc116"
  },
  {
   "cell_type": "markdown",
   "source": [
    "\n",
    "8. Repeat with weight and shoe size as features.     "
   ],
   "metadata": {
    "collapsed": false
   },
   "id": "b3f965c2d6b30ebc"
  },
  {
   "cell_type": "markdown",
   "source": [
    "9. Write a report of your observations. "
   ],
   "metadata": {
    "collapsed": false
   },
   "id": "28db57ebef8fb6e8"
  },
  {
   "cell_type": "markdown",
   "source": [],
   "metadata": {
    "collapsed": false
   },
   "id": "4b82e682427af3ae"
  },
  {
   "cell_type": "markdown",
   "source": [],
   "metadata": {
    "collapsed": false
   },
   "id": "a39d697c6b02a34c"
  }
 ],
 "metadata": {
  "kernelspec": {
   "display_name": "Python 3",
   "language": "python",
   "name": "python3"
  },
  "language_info": {
   "codemirror_mode": {
    "name": "ipython",
    "version": 2
   },
   "file_extension": ".py",
   "mimetype": "text/x-python",
   "name": "python",
   "nbconvert_exporter": "python",
   "pygments_lexer": "ipython2",
   "version": "2.7.6"
  }
 },
 "nbformat": 4,
 "nbformat_minor": 5
}
