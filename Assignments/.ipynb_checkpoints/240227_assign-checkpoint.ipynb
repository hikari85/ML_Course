{
 "cells": [
  {
   "cell_type": "markdown",
   "id": "048a460f-326c-47b6-897b-60bc6bc76dd8",
   "metadata": {},
   "source": [
    "240227_assign   \n",
    "Due Date: 28 Feb 2024   \n",
    "Training Data: BSc22A_Student_Data  \n",
    "Using KNN, identify the number of clusters using elbow method and create clusters.   \n",
    "1. based on height   \n",
    "2. based on weight   \n",
    "\n",
    "What are the size, min and max value, and RMSE of each cluster?   "
   ]
  }
 ],
 "metadata": {
  "kernelspec": {
   "display_name": "Python 3 (ipykernel)",
   "language": "python",
   "name": "python3"
  },
  "language_info": {
   "codemirror_mode": {
    "name": "ipython",
    "version": 3
   },
   "file_extension": ".py",
   "mimetype": "text/x-python",
   "name": "python",
   "nbconvert_exporter": "python",
   "pygments_lexer": "ipython3",
   "version": "3.11.5"
  }
 },
 "nbformat": 4,
 "nbformat_minor": 5
}
