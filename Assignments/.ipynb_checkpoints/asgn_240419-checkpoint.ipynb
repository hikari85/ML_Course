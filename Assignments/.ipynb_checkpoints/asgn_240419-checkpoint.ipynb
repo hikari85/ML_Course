{
 "cells": [
  {
   "cell_type": "markdown",
   "id": "6ed861ad-53f7-41cf-8695-da658e9d1e02",
   "metadata": {},
   "source": [
    "##### asgn_240419    \n",
    "due date: 24 Apr 2024\n",
    "\n",
    "03.02 decision tree CART model.ipynb uses iris flower data and    \n",
    "shows how to classify usingCART model and to visualise the splits at decision nodes using dtreeviz.    \n",
    "\n",
    "From Seven Schools workbook, RVU22 worksheet, use height and weight as the features and Sex as label.  \n",
    "Make CART model, check accuracy of the model with training data and test data.   \n",
    "Visulaise the logic of splits using treeviz.  \n"
   ]
  }
 ],
 "metadata": {
  "kernelspec": {
   "display_name": "Python 3 (ipykernel)",
   "language": "python",
   "name": "python3"
  },
  "language_info": {
   "codemirror_mode": {
    "name": "ipython",
    "version": 3
   },
   "file_extension": ".py",
   "mimetype": "text/x-python",
   "name": "python",
   "nbconvert_exporter": "python",
   "pygments_lexer": "ipython3",
   "version": "3.11.5"
  }
 },
 "nbformat": 4,
 "nbformat_minor": 5
}
