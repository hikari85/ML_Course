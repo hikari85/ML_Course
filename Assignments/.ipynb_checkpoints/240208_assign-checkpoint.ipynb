{
 "cells": [
  {
   "cell_type": "markdown",
   "id": "00dc0c86-d828-4eb2-9bf9-2a64cb4ee712",
   "metadata": {},
   "source": [
    "##### 240208_assign  \n",
    "1. Update the data file on students. A new column for collar size is added. Ensure that you update your records.  \n",
    "Using Linear Regression, train a model    \n",
    "2. feature set with height and weight and BMI as label.  \n",
    "3. Collar size as feature and shoulder size as target.\n",
    "\n",
    "Write documentation, test the result and report your findings.\n",
    "\n",
    "Bonus: try other combinations of features.  \n"
   ]
  }
 ],
 "metadata": {
  "kernelspec": {
   "display_name": "Python 3 (ipykernel)",
   "language": "python",
   "name": "python3"
  },
  "language_info": {
   "codemirror_mode": {
    "name": "ipython",
    "version": 3
   },
   "file_extension": ".py",
   "mimetype": "text/x-python",
   "name": "python",
   "nbconvert_exporter": "python",
   "pygments_lexer": "ipython3",
   "version": "3.11.5"
  }
 },
 "nbformat": 4,
 "nbformat_minor": 5
}
