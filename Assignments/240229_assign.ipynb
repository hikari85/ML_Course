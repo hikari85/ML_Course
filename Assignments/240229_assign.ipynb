{
 "cells": [
  {
   "cell_type": "markdown",
   "id": "aaf52d0e466f74e9",
   "metadata": {},
   "source": [
    "240229_assign   \n",
    "due date 01 Mar 2024\n",
    "\n",
    "03.01 Ordinary Least Squared Regression.ipynb has used sample weight and BMI for OLS Regression.        \n",
    "Using those sample data, make a hand-built linear regression model (not using sklearn module).\n",
    "03.02 Linear Regression.ipyng has explained the process of creating a Linear Regression model without using sklearn molude.       \n",
    "What is the effect of changing learning rate? "
   ]
  }
 ],
 "metadata": {
  "kernelspec": {
   "display_name": "Python 3 (ipykernel)",
   "language": "python",
   "name": "python3"
  },
  "language_info": {
   "codemirror_mode": {
    "name": "ipython",
    "version": 3
   },
   "file_extension": ".py",
   "mimetype": "text/x-python",
   "name": "python",
   "nbconvert_exporter": "python",
   "pygments_lexer": "ipython3",
   "version": "3.11.5"
  }
 },
 "nbformat": 4,
 "nbformat_minor": 5
}
