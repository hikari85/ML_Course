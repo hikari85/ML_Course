{
 "cells": [
  {
   "cell_type": "markdown",
   "id": "de167a5d860c214a",
   "metadata": {},
   "source": [
    "##### Assignmnet 240213  "
   ]
  },
  {
   "cell_type": "markdown",
   "id": "944e403d80fc337a",
   "metadata": {},
   "source": [
    "1. Using data from /Data/BSc22A_Student_Data.xlsx, train a linear regression model to predict BMI with the feature set of (height, weight).   \n",
    "2. Check accuracy of the above model with training data.      "
   ]
  },
  {
   "cell_type": "code",
   "execution_count": null,
   "id": "ac18bf119bb51fba",
   "metadata": {
    "ExecuteTime": {
     "end_time": "2024-02-10T05:50:07.294097200Z",
     "start_time": "2024-02-10T05:50:07.287764500Z"
    },
    "collapsed": false,
    "jupyter": {
     "outputs_hidden": false
    }
   },
   "outputs": [],
   "source": []
  },
  {
   "cell_type": "markdown",
   "id": "416eb4c8fb64cba2",
   "metadata": {},
   "source": [
    "3. Using /Data/Height_Weight_Sample.xlsx as validation set, check accuracy of the above model.  "
   ]
  },
  {
   "cell_type": "code",
   "execution_count": null,
   "id": "baaf041c867a5191",
   "metadata": {
    "ExecuteTime": {
     "end_time": "2024-02-10T05:50:07.297833600Z",
     "start_time": "2024-02-10T05:50:07.292498800Z"
    },
    "collapsed": false,
    "jupyter": {
     "outputs_hidden": false
    }
   },
   "outputs": [],
   "source": []
  },
  {
   "cell_type": "markdown",
   "id": "332e4c5a01aa54db",
   "metadata": {},
   "source": [
    "4. Using Puma_Indian data from /Data/seven_schools.xlsx as validation set, check accuracy of the model."
   ]
  },
  {
   "cell_type": "code",
   "execution_count": null,
   "id": "a3cf16856a934f16",
   "metadata": {
    "ExecuteTime": {
     "end_time": "2024-02-10T05:50:07.303120600Z",
     "start_time": "2024-02-10T05:50:07.296831800Z"
    },
    "collapsed": false,
    "jupyter": {
     "outputs_hidden": false
    }
   },
   "outputs": [],
   "source": []
  },
  {
   "cell_type": "markdown",
   "id": "49fe6f81d273d354",
   "metadata": {},
   "source": [
    "5. Make a summary report of your observations. "
   ]
  },
  {
   "cell_type": "markdown",
   "id": "95ad36a50c67c53f",
   "metadata": {},
   "source": [
    "6. Create a decsion tree model to predict the sex of a person based on height, weight and shoe size.  \n",
    "    Find the accuracy and confusion matrix with test data.  "
   ]
  },
  {
   "cell_type": "markdown",
   "id": "e0747b064c8cc116",
   "metadata": {},
   "source": [
    "\n",
    "7. Repeat the above steps with height and shoe size as features.  "
   ]
  },
  {
   "cell_type": "markdown",
   "id": "b3f965c2d6b30ebc",
   "metadata": {},
   "source": [
    "\n",
    "8. Repeat with weight and shoe size as features.     "
   ]
  },
  {
   "cell_type": "markdown",
   "id": "28db57ebef8fb6e8",
   "metadata": {},
   "source": [
    "9. Write a report of your observations. "
   ]
  },
  {
   "cell_type": "markdown",
   "id": "4b82e682427af3ae",
   "metadata": {},
   "source": []
  },
  {
   "cell_type": "markdown",
   "id": "a39d697c6b02a34c",
   "metadata": {},
   "source": []
  }
 ],
 "metadata": {
  "kernelspec": {
   "display_name": "Python 3 (ipykernel)",
   "language": "python",
   "name": "python3"
  },
  "language_info": {
   "codemirror_mode": {
    "name": "ipython",
    "version": 3
   },
   "file_extension": ".py",
   "mimetype": "text/x-python",
   "name": "python",
   "nbconvert_exporter": "python",
   "pygments_lexer": "ipython3",
   "version": "3.11.5"
  }
 },
 "nbformat": 4,
 "nbformat_minor": 5
}
