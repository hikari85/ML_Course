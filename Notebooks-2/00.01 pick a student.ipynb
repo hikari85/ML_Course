{
 "cells": [
  {
   "cell_type": "code",
   "execution_count": 3,
   "outputs": [],
   "source": [
    "import random \n",
    "students = ['Adithi', 'Adithiyaa', 'Adityara', 'Ajay', 'Akshay', 'Alaric', 'Apoorva', 'Chayanika', \n",
    "            'Denis', 'Divya', 'Janak', 'Khushi', 'Kishor', 'Krisch', 'Meghan', 'Ikram', 'Mourya',\n",
    "            'Nandika', 'Phalguni', 'Prabhas', 'Pranav', 'Prasanna', 'Preetish', 'Priyanshu', 'Puneeth',\n",
    "            'Ramya', 'Sai Rajendra', 'Shreya', 'Sohail', 'Vidith', 'Yashwant', 'Zeba']\n",
    "random.shuffle(students)"
   ],
   "metadata": {
    "collapsed": false,
    "ExecuteTime": {
     "end_time": "2024-03-19T15:02:21.124254300Z",
     "start_time": "2024-03-19T15:02:21.096299800Z"
    }
   },
   "id": "21869a821e959ce8"
  },
  {
   "cell_type": "code",
   "execution_count": null,
   "outputs": [],
   "source": [
    "print(students.pop())"
   ],
   "metadata": {
    "collapsed": false
   },
   "id": "a9569accd016c4ee"
  },
  {
   "cell_type": "code",
   "execution_count": 4,
   "outputs": [
    {
     "data": {
      "text/plain": "32"
     },
     "execution_count": 4,
     "metadata": {},
     "output_type": "execute_result"
    }
   ],
   "source": [
    "len(students)"
   ],
   "metadata": {
    "collapsed": false,
    "ExecuteTime": {
     "end_time": "2024-03-19T15:02:24.638705400Z",
     "start_time": "2024-03-19T15:02:24.633705900Z"
    }
   },
   "id": "266a30052a4c376a"
  }
 ],
 "metadata": {
  "kernelspec": {
   "display_name": "Python 3",
   "language": "python",
   "name": "python3"
  },
  "language_info": {
   "codemirror_mode": {
    "name": "ipython",
    "version": 2
   },
   "file_extension": ".py",
   "mimetype": "text/x-python",
   "name": "python",
   "nbconvert_exporter": "python",
   "pygments_lexer": "ipython2",
   "version": "2.7.6"
  }
 },
 "nbformat": 4,
 "nbformat_minor": 5
}
