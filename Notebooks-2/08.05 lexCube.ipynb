{
 "cells": [
  {
   "cell_type": "markdown",
   "id": "a92c75fa-69c5-4769-b289-8886d7d7c641",
   "metadata": {},
   "source": [
    "#### [Lex Cube](https://github.com/msoechting/lexcube?utm_campaign=Data_Elixir&utm_source=Data_Elixir_477#readme)    \n",
    "interactively visualizing three-dimensional floating-point data as 3D cubes in Jupyter notebooks.  \n",
    "\n",
    "Supported data formats:  \n",
    "- numpy.ndarray (with exactly 3 dimensions)  \n",
    "- xarray.DataArray (with exactly 3 dimensions, rectangularly gridded)  \n",
    "\n",
    "Possible data sources:  \n",
    "- Any gridded Zarr or NetCDF data set (local or remote, e.g., accessed with S3)\n",
    "- Copernicus Data Storage, e.g., ERA5 data\n",
    "- Google Earth Engine (using xee, see example notebook)"
   ]
  },
  {
   "cell_type": "code",
   "execution_count": null,
   "id": "7f6eafce-4065-4b2d-9b45-ee23d33fe31a",
   "metadata": {},
   "outputs": [],
   "source": []
  }
 ],
 "metadata": {
  "kernelspec": {
   "display_name": "",
   "name": ""
  },
  "language_info": {
   "name": ""
  }
 },
 "nbformat": 4,
 "nbformat_minor": 5
}
