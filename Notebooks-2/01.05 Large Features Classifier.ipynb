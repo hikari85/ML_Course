{
 "cells": [
  {
   "cell_type": "markdown",
   "id": "c5712b130146d709",
   "metadata": {},
   "source": [
    "#### Classifier - Large Data Set      \n",
    "[Jake Vanderplas](https://jakevdp.github.io/PythonDataScienceHandbook/05.02-introducing-scikit-learn.html) explains classification of [MNIST](https://en.wikipedia.org/wiki/MNIST_database) digits using Gausian Naive Bayes \n"
   ]
  },
  {
   "cell_type": "raw",
   "id": "31662025f98ec2e9",
   "metadata": {},
   "source": [
    "! pip install opencv-python"
   ]
  },
  {
   "cell_type": "code",
   "execution_count": 2,
   "id": "96287cbf1075772c",
   "metadata": {
    "ExecuteTime": {
     "end_time": "2024-04-03T01:28:49.092770400Z",
     "start_time": "2024-04-03T01:28:48.959970200Z"
    },
    "collapsed": false,
    "jupyter": {
     "outputs_hidden": false
    },
    "tags": []
   },
   "outputs": [],
   "source": [
    "import pandas as pd\n",
    "import numpy as np\n",
    "from IPython.display import Image, display\n",
    "import cv2\n",
    "import math\n",
    "import matplotlib.pyplot as plt\n",
    "from random import randint  "
   ]
  },
  {
   "cell_type": "code",
   "execution_count": 3,
   "id": "d131186ce2faf53f",
   "metadata": {
    "ExecuteTime": {
     "end_time": "2024-04-03T01:28:49.125707900Z",
     "start_time": "2024-04-03T01:28:49.077810700Z"
    },
    "collapsed": false,
    "jupyter": {
     "outputs_hidden": false
    },
    "tags": []
   },
   "outputs": [
    {
     "name": "stdout",
     "output_type": "stream",
     "text": [
      "\n",
      "120,000 pixels in the picture\n",
      "        Whose picture is it?\n",
      "\n",
      "[[164 180 203]\n",
      " [164 180 203]\n",
      " [165 180 203]\n",
      " [165 180 203]\n",
      " [164 180 203]\n",
      " [163 181 203]]\n"
     ]
    }
   ],
   "source": [
    "image = cv2.imread('../Figures/apic.jpeg') #  image_C.png, image_S.png image_M.jpg  \n",
    "image1 = image[:, :, ::-1]\n",
    "print(f\"\\n{math.prod(image1.shape):,} pixels in the picture\\n        Whose picture is it?\\n\")\n",
    "print(image1[0][:6])"
   ]
  },
  {
   "cell_type": "markdown",
   "id": "3194f514c3c07434",
   "metadata": {},
   "source": [
    "#### MNIST   \n",
    "MNIST (Modified National Institute of Standards and Technology database) is a simple well documented dataset.  \n",
    "Like Iris flowers.  \n",
    "Images of handwritten digits 0 to 9.   \n",
    "Each image has 28 X 28 pixels (= 784) of one byte each, with value of 0 (white) to 255 (black).    \n",
    "7,000 examples for each digit.  \n",
    "60,000 images in training set and 10,000 in test set.  \n",
    "The original files are in .idx-ubyte format. Kaggle site has them in CSV format as well.  \n",
    "\n",
    "##### Classification Performance   \n",
    "12% error rate using a simple linear classifier.   \n",
    "0.09% error rate using Convolutional Nural Network after data augmentation (rotation and translation) \n",
    "\n",
    "##### Experiment with our hand-built Logistics Regression      \n",
    "MNIST dataset is large for a personal laptop.  \n",
    "**MemoryError**: Unable to allocate 26.8 GiB for an array with shape (60000, 60000) and data type float64  \n",
    "\n",
    "Read the top 1,000 rows to prototype.     "
   ]
  },
  {
   "cell_type": "markdown",
   "id": "8c23103d127a67b",
   "metadata": {},
   "source": [
    "\n",
    "Note: Seaborn has a sample with 8X8 pixel images  \n",
    "The images data is a three-dimensional array: 1,797 samples each consisting of an 8 × 8 grid of pixels.   \n",
    "1,797 samples and 64 features.  "
   ]
  },
  {
   "cell_type": "code",
   "execution_count": 4,
   "id": "9982e87806cbd5e5",
   "metadata": {
    "ExecuteTime": {
     "end_time": "2024-04-03T01:28:49.199714600Z",
     "start_time": "2024-04-03T01:28:49.115636100Z"
    },
    "collapsed": false,
    "jupyter": {
     "outputs_hidden": false
    },
    "tags": []
   },
   "outputs": [
    {
     "name": "stdout",
     "output_type": "stream",
     "text": [
      "MNIST Data shape: (1797, 8, 8)\n",
      "MNIST Features  : (1797, 64)\n",
      "MNIST Labels    : (1797,)\n",
      "Sample Labels   : [0 1 2 3 4 5 6 7 8 9 0 1 2 3 4]\n"
     ]
    }
   ],
   "source": [
    "from sklearn.datasets import load_digits\n",
    "digits = load_digits()\n",
    "\n",
    "print(f\"MNIST Data shape: {digits.images.shape}\")\n",
    "print(f\"MNIST Features  : {digits.data.shape}\")\n",
    "print(f\"MNIST Labels    : {digits.target.shape}\")\n",
    "print(f\"Sample Labels   : {digits.target[:15]}\")"
   ]
  },
  {
   "cell_type": "code",
   "execution_count": 5,
   "id": "c988ac7e71d3e6f5",
   "metadata": {
    "ExecuteTime": {
     "end_time": "2024-04-03T01:28:49.201745500Z",
     "start_time": "2024-04-03T01:28:49.163937700Z"
    },
    "collapsed": false,
    "jupyter": {
     "outputs_hidden": false
    },
    "tags": []
   },
   "outputs": [
    {
     "data": {
      "text/plain": [
       "array([ 0.,  0.,  5., 13.,  9.,  1.,  0.,  0.,  0.,  0., 13., 15., 10.,\n",
       "       15.,  5.,  0.,  0.,  3., 15.,  2.,  0., 11.,  8.,  0.,  0.,  4.,\n",
       "       12.,  0.,  0.,  8.,  8.,  0.,  0.,  5.,  8.,  0.,  0.,  9.,  8.,\n",
       "        0.,  0.,  4., 11.,  0.,  1., 12.,  7.,  0.,  0.,  2., 14.,  5.,\n",
       "       10., 12.,  0.,  0.,  0.,  0.,  6., 13., 10.,  0.,  0.,  0.])"
      ]
     },
     "execution_count": 5,
     "metadata": {},
     "output_type": "execute_result"
    }
   ],
   "source": [
    "digits.data[0]"
   ]
  },
  {
   "cell_type": "markdown",
   "id": "c9f2192a012403cd",
   "metadata": {},
   "source": [
    "#### First learning step      \n",
    "Download top 1000 rows of MNIST   \n",
    "Narrow down to binary classification by selecting only one digit.  "
   ]
  },
  {
   "cell_type": "code",
   "execution_count": 6,
   "id": "bb700a95b9e94e09",
   "metadata": {
    "ExecuteTime": {
     "end_time": "2024-04-03T01:28:49.427483Z",
     "start_time": "2024-04-03T01:28:49.171789600Z"
    },
    "collapsed": false,
    "jupyter": {
     "outputs_hidden": false
    },
    "tags": []
   },
   "outputs": [],
   "source": [
    "df_test = pd.read_csv('../MNIST_Data/mnist_test.csv', nrows=1000)\n",
    "df_train = pd.read_csv('../MNIST_Data/mnist_train.csv', nrows=1000)"
   ]
  },
  {
   "cell_type": "code",
   "execution_count": 7,
   "id": "1a71bcc5fe837028",
   "metadata": {
    "ExecuteTime": {
     "end_time": "2024-04-03T01:28:49.432469100Z",
     "start_time": "2024-04-03T01:28:49.422956400Z"
    },
    "collapsed": false,
    "jupyter": {
     "outputs_hidden": false
    },
    "tags": []
   },
   "outputs": [
    {
     "name": "stdout",
     "output_type": "stream",
     "text": [
      "Training set: 1,000; 785\n",
      "Test set:     1,000; 785\n"
     ]
    }
   ],
   "source": [
    "print(f\"Training set: {df_train.shape[0]:,d}; {df_train.shape[1]}\\nTest set:     {df_test.shape[0]:,d}; {df_test.shape[1]}\")\n"
   ]
  },
  {
   "cell_type": "markdown",
   "id": "a9d3cb478b39683",
   "metadata": {},
   "source": []
  },
  {
   "cell_type": "code",
   "execution_count": 8,
   "id": "8ca961c50bbc5a4f",
   "metadata": {
    "ExecuteTime": {
     "end_time": "2024-04-03T01:28:49.501039Z",
     "start_time": "2024-04-03T01:28:49.428479900Z"
    },
    "collapsed": false,
    "jupyter": {
     "outputs_hidden": false
    },
    "tags": []
   },
   "outputs": [
    {
     "name": "stdout",
     "output_type": "stream",
     "text": [
      "X_train.shape = (1000, 784)\n",
      "Y_train.shape = (1000,)\n",
      " X_test.shape = (1000, 784)\n",
      " Y_test.shape = (1000,)\n"
     ]
    }
   ],
   "source": [
    "X_train = df_train.iloc[:,1:].values\n",
    "Y_train = df_train.iloc[:,0].values\n",
    "X_test = df_test.iloc[:,1:].values\n",
    "Y_test = df_test.iloc[:,0].values\n",
    "\n",
    "print(f\"{X_train.shape = }\\n{Y_train.shape = }\\n {X_test.shape = }\\n {Y_test.shape = }\") \n"
   ]
  },
  {
   "cell_type": "markdown",
   "id": "33e7439584b9c82c",
   "metadata": {},
   "source": [
    "#### Frequency of digits 0 to 9 in training and test sets   "
   ]
  },
  {
   "cell_type": "code",
   "execution_count": null,
   "id": "8baa68aa9084b53c",
   "metadata": {
    "ExecuteTime": {
     "end_time": "2024-04-03T01:28:49.504172Z",
     "start_time": "2024-04-03T01:28:49.447205300Z"
    },
    "collapsed": false,
    "jupyter": {
     "outputs_hidden": false
    },
    "tags": []
   },
   "outputs": [],
   "source": [
    "print(df_train.label.value_counts())\n",
    "print(df_test.label.value_counts())"
   ]
  },
  {
   "cell_type": "code",
   "execution_count": 16,
   "id": "e249b7d23a029e20",
   "metadata": {
    "ExecuteTime": {
     "end_time": "2024-04-03T01:28:49.695134300Z",
     "start_time": "2024-04-03T01:28:49.466133Z"
    },
    "collapsed": false,
    "jupyter": {
     "outputs_hidden": false
    },
    "tags": []
   },
   "outputs": [
    {
     "name": "stdout",
     "output_type": "stream",
     "text": [
      "\n",
      "Label: 8\n"
     ]
    },
    {
     "data": {
      "image/png": "[encoded data removed]",
      "text/plain": [
       "<Figure size 100x100 with 1 Axes>"
      ]
     },
     "metadata": {},
     "output_type": "display_data"
    }
   ],
   "source": [
    "row = randint(0, 999)\n",
    "print(f\"\\nLabel: {Y_train[row]}\")\n",
    "plt.figure(figsize=(1,1))\n",
    "plt.imshow(X_train[row].reshape(28, 28), cmap='gray');"
   ]
  },
  {
   "cell_type": "markdown",
   "id": "973dd573e91fd3d4",
   "metadata": {},
   "source": [
    "#### Add bias to the feature sets  "
   ]
  },
  {
   "cell_type": "code",
   "execution_count": 17,
   "id": "a0e60f3437fdbe16",
   "metadata": {
    "ExecuteTime": {
     "end_time": "2024-04-03T01:28:49.711563500Z",
     "start_time": "2024-04-03T01:28:49.701119Z"
    },
    "collapsed": false,
    "jupyter": {
     "outputs_hidden": false
    },
    "tags": []
   },
   "outputs": [
    {
     "name": "stdout",
     "output_type": "stream",
     "text": [
      "Before adding bias: X_train.shape = (1000, 784), X_test.shape = (1000, 784)\n",
      "After adding bias:  X_train.shape = (1000, 785), X_test.shape = (1000, 785)\n"
     ]
    }
   ],
   "source": [
    "print(f\"Before adding bias: {X_train.shape = }, {X_test.shape = }\")\n",
    "X_train = np.insert(X_train, 0, 1, axis=1)\n",
    "X_test = np.insert(X_test, 0, 1, axis=1)\n",
    "print(f\"After adding bias:  {X_train.shape = }, {X_test.shape = }\")"
   ]
  },
  {
   "cell_type": "markdown",
   "id": "594dc21de0d421ed",
   "metadata": {},
   "source": [
    "#### Encode Five   \n",
    "Make a binary classifier as the first step in understanding the concepts   \n",
    "Encode labels 5 as 1 and others as 0   \n",
    "        "
   ]
  },
  {
   "cell_type": "code",
   "execution_count": 18,
   "id": "a780ac5003b73c92",
   "metadata": {
    "ExecuteTime": {
     "end_time": "2024-04-03T01:28:49.725096700Z",
     "start_time": "2024-04-03T01:28:49.717007700Z"
    },
    "collapsed": false,
    "jupyter": {
     "outputs_hidden": false
    },
    "tags": []
   },
   "outputs": [
    {
     "name": "stdout",
     "output_type": "stream",
     "text": [
      "Y_Train: [5 0 4 1 9 2 1 3 1 4 3 5 3 6 1 7 2 8 6 9]\n",
      "Encoded: [1 0 0 0 0 0 0 0 0 0 0 1 0 0 0 0 0 0 0 0]\n",
      "\n",
      "Y_Test:  [7 2 1 0 4 1 4 9 5 9 0 6 9 0 1 5 9 7 3 4]\n",
      "Encoded: [0 0 0 0 0 0 0 0 1 0 0 0 0 0 0 1 0 0 0 0]\n"
     ]
    }
   ],
   "source": [
    "print(f\"Y_Train: {Y_train[:20]}\")\n",
    "Y_train = (Y_train==5).astype(int)\n",
    "print(f\"Encoded: {Y_train[:20]}\");print()\n",
    "\n",
    "print(f\"Y_Test:  {Y_test[:20]}\")\n",
    "Y_test = (Y_test==5).astype(int)\n",
    "print(f\"Encoded: {Y_test[:20]}\")"
   ]
  },
  {
   "cell_type": "markdown",
   "id": "9892745cc9accc7c",
   "metadata": {},
   "source": [
    "#### Classify   \n",
    "Use the logistic regression code for classification      "
   ]
  },
  {
   "cell_type": "code",
   "execution_count": 19,
   "id": "5018f2cf711e7814",
   "metadata": {
    "ExecuteTime": {
     "end_time": "2024-04-03T01:28:51.774031500Z",
     "start_time": "2024-04-03T01:28:49.733075500Z"
    },
    "collapsed": false,
    "jupyter": {
     "outputs_hidden": false
    },
    "tags": []
   },
   "outputs": [],
   "source": [
    "def sigmoid(z):\n",
    "    return 1 / (1 + np.exp(-z))\n",
    "\n",
    "def predict(X, w):\n",
    "    weighted_sum = np.matmul(X, w)\n",
    "    return sigmoid(weighted_sum)\n",
    "\n",
    "def classify(X, w):\n",
    "    return np.round(predict(X, w))\n",
    "\n",
    "def loss(X, Y, w):\n",
    "    y_hat = predict(X, w)\n",
    "    first_term = Y * np.log(y_hat)\n",
    "    second_term = (1 - Y) * np.log(1 - y_hat)\n",
    "    return -np.average(first_term + second_term)\n",
    "\n",
    "def gradient(X, Y, w):\n",
    "    return np.matmul(X.T, (predict(X, w) - Y)) / X.shape[0]\n",
    "\n",
    "def train(X, Y, iterations, lr):\n",
    "    data = []\n",
    "    w = np.zeros((X.shape[1], 1))\n",
    "    for i in range(iterations):\n",
    "        data.append([i, loss(X,Y,w)])\n",
    "        w -= gradient(X, Y, w) * lr\n",
    "    return w, pd.DataFrame(data, columns= ['i', 'loss'])\n",
    "\n",
    "Y = Y_train.reshape(-1, 1)\n",
    "w, df = train(X_train, Y, iterations=100, lr=1e-5)"
   ]
  },
  {
   "cell_type": "code",
   "execution_count": 20,
   "id": "3ac5e828262d5995",
   "metadata": {
    "ExecuteTime": {
     "end_time": "2024-04-03T01:28:51.788282900Z",
     "start_time": "2024-04-03T01:28:51.778789Z"
    },
    "collapsed": false,
    "jupyter": {
     "outputs_hidden": false
    },
    "tags": []
   },
   "outputs": [],
   "source": [
    "def test(X, Y, w):\n",
    "    total_examples = X.shape[0]\n",
    "    correct_results = np.sum(classify(X, w) == Y)\n",
    "    success_percent = correct_results * 100 / total_examples\n",
    "    return f\"{correct_results}/{total_examples} ({success_percent:.2f}%)\""
   ]
  },
  {
   "cell_type": "code",
   "execution_count": 21,
   "id": "b68612f72febfa41",
   "metadata": {
    "ExecuteTime": {
     "end_time": "2024-04-03T01:28:51.814016700Z",
     "start_time": "2024-04-03T01:28:51.788367100Z"
    },
    "collapsed": false,
    "jupyter": {
     "outputs_hidden": false
    },
    "tags": []
   },
   "outputs": [
    {
     "name": "stdout",
     "output_type": "stream",
     "text": [
      "\n",
      "Success with Training Set: 969/1000 (96.90%)\n",
      "Success with Test Set:     949/1000 (94.90%)\n"
     ]
    }
   ],
   "source": [
    "Y = Y_train.reshape(-1, 1)\n",
    "print(f\"\\nSuccess with Training Set: {test(X_train, Y, w)}\")\n",
    "\n",
    "Y_ = Y_test.reshape(-1, 1)\n",
    "print(f\"Success with Test Set:     {test(X_test, Y_, w)}\")"
   ]
  },
  {
   "cell_type": "code",
   "execution_count": 22,
   "id": "34a4f1dc767bbb5a",
   "metadata": {
    "ExecuteTime": {
     "end_time": "2024-04-03T01:28:52.141180100Z",
     "start_time": "2024-04-03T01:28:51.811024100Z"
    },
    "collapsed": false,
    "jupyter": {
     "outputs_hidden": false
    },
    "tags": []
   },
   "outputs": [
    {
     "data": {
      "image/png": "[encoded data removed]",
      "text/plain": [
       "<Figure size 640x480 with 1 Axes>"
      ]
     },
     "metadata": {},
     "output_type": "display_data"
    }
   ],
   "source": [
    "from sklearn.metrics import confusion_matrix\n",
    "import seaborn as sns\n",
    "\n",
    "y_model = classify(X_test, w)\n",
    "mat = confusion_matrix(Y_, y_model)\n",
    "\n",
    "sns.heatmap(mat, square=True, annot=True, cbar=False)\n",
    "plt.xlabel('predicted value')\n",
    "plt.ylabel('true value');"
   ]
  },
  {
   "cell_type": "markdown",
   "id": "b736b2c1913e364f",
   "metadata": {},
   "source": []
  },
  {
   "cell_type": "markdown",
   "id": "73055f4b34ddefe9",
   "metadata": {},
   "source": [
    "![](../Figures/cnn-1.png)"
   ]
  },
  {
   "cell_type": "markdown",
   "id": "f43fb2f69e9983f8",
   "metadata": {},
   "source": [
    "#### Hyperparameters   \n",
    "lr chosen is 0.00001. exponentials and logarithms have some side effects.  \n",
    "The program may give strange results with too small or too large lr.   \n",
    "\n",
    "#### Task 1   \n",
    "1. Change lr and check accuracy   \n",
    "2. Change number of iterations and check the effect  \n",
    "3. Try to identify digits 0 to 9 and record the success% for each.   \n",
    "\n",
    "#### Task 2   \n",
    "SONAR: Sound Navigation and Ranging       \n",
    "RADAR: Radio Detection and Ranging      \n",
    "\n",
    "1. [Sonar dataset](https://www.kaggle.com/datasets/mattcarter865/mines-vs-rocks?select=sonar.all-data.csv) from Kaggle is downloaded at /ML_Course/Data/Sonar.csv\n",
    "    It has 111 patterns obtained by bouncing sonar signals off a metal cylinder at various angles and under various conditions.  and 97 patterns obtained from rocks under similar conditions.  Each pattern is a set of 60 numbers in the range 0.0 to 1.0. Each number represents the energy within a particular frequency band, integrated over a certain period of time.  The labels are \"R\" for rock and \"M\" for mine (metal cylinder).  \n",
    "2. Shuffle the dataset before splitting (to train and test sets) as the original is sorted by label.  \n",
    "3. Remember to add bias column tp X_train and X_test.  \n",
    "4. You may start with lr=0.01 \n",
    "5. Too large a learning rate can cause errors when calculating loss because the logarithms andexponentials generate huge or tiny numbers.\n",
    "6. Excessive iterations may reduce the accuracy due to overfitting. \n",
    "7. Aim for >75% accuracy.  "
   ]
  },
  {
   "cell_type": "markdown",
   "id": "991126489af57972",
   "metadata": {},
   "source": [
    "Germany built 1,162 U-boats during World War II and 785 were destroyed by the end of the war.  \n",
    "The remaining 377 U-boats were surrendered (or scuttled by the Germans).  \n",
    "In contrast, U-boats sank about 3,000 Allied ships (merchant ships and warships)\n",
    "\n",
    "Indian Navy has only 16 submarines (U-boats).  "
   ]
  }
 ],
 "metadata": {
  "kernelspec": {
   "display_name": "Python 3 (ipykernel)",
   "language": "python",
   "name": "python3"
  },
  "language_info": {
   "codemirror_mode": {
    "name": "ipython",
    "version": 3
   },
   "file_extension": ".py",
   "mimetype": "text/x-python",
   "name": "python",
   "nbconvert_exporter": "python",
   "pygments_lexer": "ipython3",
   "version": "3.11.5"
  }
 },
 "nbformat": 4,
 "nbformat_minor": 5
}
