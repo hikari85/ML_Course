{
 "cells": [
  {
   "cell_type": "markdown",
   "id": "dbb29f3c159bea14",
   "metadata": {},
   "source": [
    "#### Logistic Regression   \n",
    "While this model is not specifically part of the syllabus,  \n",
    "understanding it will help in learning  \n",
    "- Classifiers and    \n",
    "- Nural Network.   \n",
    "   \n",
    "Logistic Regression is <u>used mostly for binary classification</u>.     \n",
    "training = classification = fit()   "
   ]
  },
  {
   "cell_type": "code",
   "execution_count": 1,
   "id": "9c501e1147c2bfd8",
   "metadata": {
    "ExecuteTime": {
     "end_time": "2024-03-29T14:55:44.639631700Z",
     "start_time": "2024-03-29T14:55:44.550573600Z"
    },
    "collapsed": false,
    "jupyter": {
     "outputs_hidden": false
    },
    "tags": []
   },
   "outputs": [],
   "source": [
    "import numpy as np\n",
    "import pandas as pd\n",
    "import matplotlib.pyplot as plt\n",
    "plt.style.use(\"ggplot\")\n",
    "import seaborn as sns\n",
    "from sklearn.linear_model import LogisticRegression\n",
    "from sklearn.metrics import accuracy_score, classification_report, confusion_matrix, roc_curve, auc"
   ]
  },
  {
   "cell_type": "markdown",
   "id": "f60bb2bc0bdb5e0c",
   "metadata": {},
   "source": [
    "Label encoding converts the categorical data into numerical ones, but it assigns a unique number(starting from 0) to each class of data.   \n",
    "This may lead to the generation of priority issues during model training of data sets.  \n",
    "A label with a high value may be considered to have high priority than a label having a lower value.  \n",
    "\n",
    "In most scenarios, k-1 or one hot encoding is the preferred way to convert a categorical variable into a numeric variable  \n",
    "because label encoding makes it seem that there is a ranking between values.  \n",
    "\n",
    "the example file 'Police' column indicates if the police was called due to unruly customer behavior.  \n",
    "The column has encoded labels - 0/1.  "
   ]
  },
  {
   "cell_type": "code",
   "execution_count": 2,
   "id": "bc5fa2a3d47f70fb",
   "metadata": {
    "ExecuteTime": {
     "end_time": "2024-03-29T14:55:44.676644100Z",
     "start_time": "2024-03-29T14:55:44.643620700Z"
    },
    "collapsed": false,
    "jupyter": {
     "outputs_hidden": false
    },
    "tags": []
   },
   "outputs": [
    {
     "data": {
      "text/html": [
       "<div>\n",
       "<style scoped>\n",
       "    .dataframe tbody tr th:only-of-type {\n",
       "        vertical-align: middle;\n",
       "    }\n",
       "\n",
       "    .dataframe tbody tr th {\n",
       "        vertical-align: top;\n",
       "    }\n",
       "\n",
       "    .dataframe thead th {\n",
       "        text-align: right;\n",
       "    }\n",
       "</style>\n",
       "<table border=\"1\" class=\"dataframe\">\n",
       "  <thead>\n",
       "    <tr style=\"text-align: right;\">\n",
       "      <th></th>\n",
       "      <th>Reservations</th>\n",
       "      <th>Temperature</th>\n",
       "      <th>Tourists</th>\n",
       "      <th>Police</th>\n",
       "    </tr>\n",
       "  </thead>\n",
       "  <tbody>\n",
       "    <tr>\n",
       "      <th>0</th>\n",
       "      <td>13</td>\n",
       "      <td>26</td>\n",
       "      <td>9</td>\n",
       "      <td>1</td>\n",
       "    </tr>\n",
       "    <tr>\n",
       "      <th>1</th>\n",
       "      <td>2</td>\n",
       "      <td>14</td>\n",
       "      <td>6</td>\n",
       "      <td>0</td>\n",
       "    </tr>\n",
       "    <tr>\n",
       "      <th>2</th>\n",
       "      <td>14</td>\n",
       "      <td>20</td>\n",
       "      <td>3</td>\n",
       "      <td>1</td>\n",
       "    </tr>\n",
       "    <tr>\n",
       "      <th>3</th>\n",
       "      <td>23</td>\n",
       "      <td>25</td>\n",
       "      <td>9</td>\n",
       "      <td>1</td>\n",
       "    </tr>\n",
       "    <tr>\n",
       "      <th>4</th>\n",
       "      <td>13</td>\n",
       "      <td>24</td>\n",
       "      <td>8</td>\n",
       "      <td>1</td>\n",
       "    </tr>\n",
       "  </tbody>\n",
       "</table>\n",
       "</div>"
      ],
      "text/plain": [
       "   Reservations  Temperature  Tourists  Police\n",
       "0            13           26         9       1\n",
       "1             2           14         6       0\n",
       "2            14           20         3       1\n",
       "3            23           25         9       1\n",
       "4            13           24         8       1"
      ]
     },
     "execution_count": 2,
     "metadata": {},
     "output_type": "execute_result"
    }
   ],
   "source": [
    "df = pd.read_csv('../Data/police.csv')\n",
    "df.head()"
   ]
  },
  {
   "cell_type": "markdown",
   "id": "dfa90d42-3b3f-47b4-a74b-9f17b43f0bdc",
   "metadata": {},
   "source": [
    "#### Linear Regression   \n",
    "Seaborn regplot directly plots linear regression between two variables.  \n",
    "**Seen Below**   \n",
    "When the target is categorical, linear regression is a poor choice.   \n",
    "<u>We have also seen earlier that outliers badly impact linear regression</u>  "
   ]
  },
  {
   "cell_type": "code",
   "execution_count": 3,
   "id": "1a28fa1edd28ed53",
   "metadata": {
    "ExecuteTime": {
     "end_time": "2024-03-29T14:55:45.202003Z",
     "start_time": "2024-03-29T14:55:44.698586500Z"
    },
    "collapsed": false,
    "jupyter": {
     "outputs_hidden": false
    },
    "tags": []
   },
   "outputs": [
    {
     "data": {
      "image/png": "[encoded data removed]",
      "text/plain": [
       "<Figure size 400x300 with 1 Axes>"
      ]
     },
     "metadata": {},
     "output_type": "display_data"
    }
   ],
   "source": [
    "plt.figure(figsize=(4,3))\n",
    "sns.regplot(data=df, x=\"Reservations\", y=\"Police\");"
   ]
  },
  {
   "cell_type": "markdown",
   "id": "f7c30720c5fcf7d1",
   "metadata": {},
   "source": []
  },
  {
   "cell_type": "markdown",
   "id": "f9baefb7e0ada321",
   "metadata": {},
   "source": [
    "#### Sigmoids   \n",
    "In linear regression   \n",
    "$$\\hat{y} = x_1*w_1 + x_2*w2 + x_3*w_3$$   \n",
    "Here, $\\hat{y}$ could take any value. \n",
    "\n",
    "Binary classification result can be only true or false (0 or 1)   \n",
    "\n",
    "First step,   \n",
    "Logistic function Sigmoid transforms a value to fit in a range of 0 to 1 and also gives in a smooth curve.   "
   ]
  },
  {
   "cell_type": "markdown",
   "id": "a56feb0b72cab2d4",
   "metadata": {},
   "source": [
    "$$\\sigma(z) = \\frac{1}{1 + e^{-z}}$$"
   ]
  },
  {
   "cell_type": "code",
   "execution_count": 4,
   "id": "7c4142e226a80651",
   "metadata": {
    "ExecuteTime": {
     "end_time": "2024-03-29T14:55:45.215514400Z",
     "start_time": "2024-03-29T14:55:45.206989900Z"
    },
    "collapsed": false,
    "jupyter": {
     "outputs_hidden": false
    },
    "tags": []
   },
   "outputs": [],
   "source": [
    "def sigmoid(z):\n",
    "    return 1/(1 + np.exp(-z))"
   ]
  },
  {
   "cell_type": "code",
   "execution_count": 5,
   "id": "c42ca4a34f07c8ca",
   "metadata": {
    "ExecuteTime": {
     "end_time": "2024-03-29T14:55:45.221858100Z",
     "start_time": "2024-03-29T14:55:45.213678200Z"
    },
    "collapsed": false,
    "jupyter": {
     "outputs_hidden": false
    },
    "tags": []
   },
   "outputs": [
    {
     "name": "stdout",
     "output_type": "stream",
     "text": [
      "-5  0.0066928509242848554\n",
      "-4  0.01798620996209156\n",
      "-3  0.04742587317756678\n",
      "-2  0.11920292202211755\n",
      "-1  0.2689414213699951\n",
      " 0  0.5\n",
      " 1  0.7310585786300049\n",
      " 2  0.8807970779778823\n",
      " 3  0.9525741268224334\n",
      " 4  0.9820137900379085\n",
      " 5  0.9933071490757153\n"
     ]
    }
   ],
   "source": [
    "for i in range(-5, 6):\n",
    "    print(f\"{i:2}  {sigmoid(i)}\")"
   ]
  },
  {
   "cell_type": "markdown",
   "id": "921edde3-d983-4a23-ae26-e58736e8c3e1",
   "metadata": {},
   "source": [
    "#### Plot sigmoid - demo   "
   ]
  },
  {
   "cell_type": "code",
   "execution_count": 6,
   "id": "5dafb36b-2949-4171-be4d-5d00036eb0b3",
   "metadata": {
    "ExecuteTime": {
     "end_time": "2024-03-29T14:55:45.543356800Z",
     "start_time": "2024-03-29T14:55:45.224850300Z"
    },
    "collapsed": false,
    "jupyter": {
     "outputs_hidden": false
    },
    "tags": []
   },
   "outputs": [
    {
     "data": {
      "image/png": "[encoded data removed]",
      "text/plain": [
       "<Figure size 400x300 with 1 Axes>"
      ]
     },
     "metadata": {},
     "output_type": "display_data"
    }
   ],
   "source": [
    "MARGIN_LEFT = -5\n",
    "MARGIN_RIGHT = 6\n",
    "plt.figure(figsize=(4,3))\n",
    "# Configure axes\n",
    "plt.axis([MARGIN_LEFT, MARGIN_RIGHT, -0.5, 1.5])\n",
    "\n",
    "# Plot margins\n",
    "plt.plot([MARGIN_LEFT, MARGIN_RIGHT], [1, 1], color=\"grey\", linestyle=\"dashed\")\n",
    "plt.plot([MARGIN_LEFT, MARGIN_RIGHT], [0, 0], color=\"grey\", linestyle=\"dashed\")\n",
    "\n",
    "# Plot sigmoid\n",
    "X = np.linspace(MARGIN_LEFT, MARGIN_RIGHT, 200)\n",
    "Y = [sigmoid(x) for x in X]\n",
    "plt.xlabel(\"z\", fontsize=16)\n",
    "plt.ylabel(\"sigmoid(z)\", fontsize=16)\n",
    "plt.plot(X, Y, color=\"g\");"
   ]
  },
  {
   "cell_type": "markdown",
   "id": "9f94ed2378f34778",
   "metadata": {},
   "source": [
    "##### Forward propagation   \n",
    "process of moving the data through the system  \n",
    "\n",
    "The movement of data in the forward direction in ANN.  \n",
    "For inference from a trained model we need only forward propagation.   \n",
    "  \n",
    "Backpropagation is for fine-tuning the weights of ANN based on the error rate (loss) from previous epoch (iteration.)   \n",
    "```\n",
    "def predict(X, w):\n",
    "    return np.matmul(X, w)\n",
    "```\n",
    "to this function of linear regression,  \n",
    "add a line to convert the result into a sigmoid.  "
   ]
  },
  {
   "cell_type": "code",
   "execution_count": 7,
   "id": "c60642165bac8804",
   "metadata": {
    "ExecuteTime": {
     "end_time": "2024-03-29T14:55:45.569736400Z",
     "start_time": "2024-03-29T14:55:45.548378500Z"
    },
    "collapsed": false,
    "jupyter": {
     "outputs_hidden": false
    },
    "tags": []
   },
   "outputs": [],
   "source": [
    "def predict(X, w):\n",
    "    weighted_sum = np.matmul(X, w)\n",
    "    return sigmoid(weighted_sum)"
   ]
  },
  {
   "cell_type": "markdown",
   "id": "bf913d0a48495fc",
   "metadata": {},
   "source": [
    "The result of predict() is $\\hat{y}$ matrix where each element is constrained between 0 and 1.     \n",
    "The confidence of prediction reduces as the value moves away from 1 or zero to 0.5.     \n",
    "`classify()` function below rounds the $\\hat{y}$ to get binary classification value.  "
   ]
  },
  {
   "cell_type": "code",
   "execution_count": 8,
   "id": "5f9a13c6e2a023a1",
   "metadata": {
    "ExecuteTime": {
     "end_time": "2024-03-29T14:55:45.571771500Z",
     "start_time": "2024-03-29T14:55:45.555744500Z"
    },
    "collapsed": false,
    "jupyter": {
     "outputs_hidden": false
    }
   },
   "outputs": [],
   "source": [
    "def classify(X, w):\n",
    "    return np.round(predict(X, w))"
   ]
  },
  {
   "cell_type": "code",
   "execution_count": 9,
   "id": "074fc415-d193-40bd-8705-95a0a8c960a4",
   "metadata": {
    "ExecuteTime": {
     "end_time": "2024-03-29T14:55:45.573321200Z",
     "start_time": "2024-03-29T14:55:45.562553500Z"
    },
    "tags": []
   },
   "outputs": [
    {
     "name": "stdout",
     "output_type": "stream",
     "text": [
      "\n",
      "Num  Sigmoid               Classified\n",
      "-5   0.0066928509242848554   0.0\n",
      "-4     0.01798620996209156   0.0\n",
      "-3     0.04742587317756678   0.0\n",
      "-2     0.11920292202211755   0.0\n",
      "-1      0.2689414213699951   0.0\n",
      " 0                     0.5   0.0\n",
      " 1      0.7310585786300049   1.0\n",
      " 2      0.8807970779778823   1.0\n",
      " 3      0.9525741268224334   1.0\n",
      " 4      0.9820137900379085   1.0\n",
      " 5      0.9933071490757153   1.0\n"
     ]
    }
   ],
   "source": [
    "print(\"\\nNum  Sigmoid               Classified\")\n",
    "for i in range(-5, 6):\n",
    "    print(f\"{i:2}  {sigmoid(i):22}  {np.round(sigmoid(i)):4}\")"
   ]
  },
  {
   "cell_type": "markdown",
   "id": "f7dbd764b95cf331",
   "metadata": {},
   "source": [
    "#### Log loss   \n",
    "MSE as loss function with sigmoid can result in too many local minima.  \n",
    "To avoid the problem, use log loss which smooths out the problem.  \n",
    "Log Loss $L = -\\frac{1}{m}\\sum(y_i . log(\\hat{y}_i) + (1 - y_i) . log(1 - \\hat{y}_i))$"
   ]
  },
  {
   "cell_type": "code",
   "execution_count": 10,
   "id": "c628b6b75a800bf0",
   "metadata": {
    "ExecuteTime": {
     "end_time": "2024-03-29T14:55:45.634568700Z",
     "start_time": "2024-03-29T14:55:45.573829700Z"
    },
    "collapsed": false,
    "jupyter": {
     "outputs_hidden": false
    },
    "tags": []
   },
   "outputs": [],
   "source": [
    "def loss(X, Y, w):\n",
    "    y_hat = predict(X, w)\n",
    "    first_term = Y * np.log(y_hat)\n",
    "    second_term = (1 - Y) * np.log(1 - y_hat)\n",
    "    return -np.average(first_term + second_term)"
   ]
  },
  {
   "cell_type": "markdown",
   "id": "20dcb02f027625ba",
   "metadata": {},
   "source": [
    "#### Update Gradient   \n",
    "$$\\frac{\\delta L}{\\delta w} = \\frac{1}{m}\\sum x_i(\\hat{y}_i - y_i)$$"
   ]
  },
  {
   "cell_type": "code",
   "execution_count": 11,
   "id": "32fd60f686219366",
   "metadata": {
    "ExecuteTime": {
     "end_time": "2024-03-29T14:55:45.647914600Z",
     "start_time": "2024-03-29T14:55:45.577824700Z"
    },
    "collapsed": false,
    "jupyter": {
     "outputs_hidden": false
    },
    "tags": []
   },
   "outputs": [],
   "source": [
    "def gradient(X, Y, w):\n",
    "    return np.matmul(X.T, (predict(X,w) - Y))/X.shape[0]"
   ]
  },
  {
   "cell_type": "code",
   "execution_count": null,
   "id": "a8b68cf01c9070b3",
   "metadata": {
    "ExecuteTime": {
     "end_time": "2024-03-29T14:55:45.648532200Z",
     "start_time": "2024-03-29T14:55:45.587163800Z"
    },
    "collapsed": false,
    "jupyter": {
     "outputs_hidden": false
    }
   },
   "outputs": [],
   "source": []
  },
  {
   "cell_type": "code",
   "execution_count": 12,
   "id": "4fa0a4d36f6287fd",
   "metadata": {
    "ExecuteTime": {
     "end_time": "2024-03-29T14:55:45.649528300Z",
     "start_time": "2024-03-29T14:55:45.594470900Z"
    },
    "collapsed": false,
    "jupyter": {
     "outputs_hidden": false
    },
    "tags": []
   },
   "outputs": [
    {
     "name": "stdout",
     "output_type": "stream",
     "text": [
      "<class 'numpy.ndarray'> <class 'numpy.ndarray'>\n"
     ]
    }
   ],
   "source": [
    "Y = np.array(Y).reshape(-1,1)\n",
    "X = X.reshape(-1,1)\n",
    "print(type(X), type(Y))"
   ]
  },
  {
   "cell_type": "code",
   "execution_count": 13,
   "id": "fb465cf336245076",
   "metadata": {
    "ExecuteTime": {
     "end_time": "2024-03-29T14:55:45.691452300Z",
     "start_time": "2024-03-29T14:55:45.602540300Z"
    },
    "collapsed": false,
    "jupyter": {
     "outputs_hidden": false
    },
    "tags": []
   },
   "outputs": [],
   "source": [
    "df = pd.read_csv('../Data/police.csv')\n",
    "data = df.values\n",
    "X = data[:,:3]\n",
    "Y = data[:,3:]"
   ]
  },
  {
   "cell_type": "code",
   "execution_count": 14,
   "id": "5891e395859bf27c",
   "metadata": {
    "ExecuteTime": {
     "end_time": "2024-03-29T14:56:33.113575900Z",
     "start_time": "2024-03-29T14:55:45.616983800Z"
    },
    "collapsed": false,
    "jupyter": {
     "outputs_hidden": false
    },
    "tags": []
   },
   "outputs": [],
   "source": [
    "def train(X, Y, iterations, lr):\n",
    "    w = np.zeros((X.shape[1], 1))\n",
    "    for i in range(iterations):\n",
    "        w -= gradient(X, Y, w) * lr\n",
    "    return w\n",
    "\n",
    "w = train(X, Y, iterations=1000000, lr=0.01)"
   ]
  },
  {
   "cell_type": "code",
   "execution_count": 15,
   "id": "672d8a06-48bb-498e-8c11-d9a7775b47fb",
   "metadata": {
    "ExecuteTime": {
     "end_time": "2024-03-29T14:56:33.153811300Z",
     "start_time": "2024-03-29T14:56:33.122520500Z"
    },
    "tags": []
   },
   "outputs": [
    {
     "data": {
      "text/plain": [
       "array([[ 0.52991428],\n",
       "       [-0.37797943],\n",
       "       [ 0.25699818]])"
      ]
     },
     "execution_count": 15,
     "metadata": {},
     "output_type": "execute_result"
    }
   ],
   "source": [
    "w"
   ]
  },
  {
   "cell_type": "code",
   "execution_count": 16,
   "id": "b8f09db5340480e8",
   "metadata": {
    "ExecuteTime": {
     "end_time": "2024-03-29T14:58:26.333672600Z",
     "start_time": "2024-03-29T14:58:25.295997400Z"
    },
    "collapsed": false,
    "jupyter": {
     "outputs_hidden": false
    },
    "tags": []
   },
   "outputs": [
    {
     "name": "stdout",
     "output_type": "stream",
     "text": [
      "\n",
      "Success: 25/30 (83.33)\n"
     ]
    }
   ],
   "source": [
    "def sigmoid(z):\n",
    "    return 1 / (1 + np.exp(-z))\n",
    "\n",
    "def forward(X, w):\n",
    "    weighted_sum = np.matmul(X, w)\n",
    "    return sigmoid(weighted_sum)\n",
    "\n",
    "def classify(X, w):\n",
    "    return np.round(forward(X, w))\n",
    "\n",
    "def loss(X, Y, w):\n",
    "    y_hat = forward(X, w)\n",
    "    first_term = Y * np.log(y_hat)\n",
    "    second_term = (1 - Y) * np.log(1 - y_hat)\n",
    "    return -np.average(first_term + second_term)\n",
    "\n",
    "def gradient(X, Y, w):\n",
    "    return np.matmul(X.T, (forward(X, w) - Y)) / X.shape[0]\n",
    "\n",
    "def train(X, Y, iterations, lr):\n",
    "    data = []\n",
    "    w = np.zeros((X.shape[1], 1))\n",
    "    for i in range(iterations):\n",
    "        data.append([i, w[0][0], w[1][0], w[2][0], loss(X,Y,w)])\n",
    "        w -= gradient(X, Y, w) * lr\n",
    "    return w, pd.DataFrame(data, columns= ['i', 'w1','w2','w3', 'loss'])\n",
    "\n",
    "def test(X, Y, w):\n",
    "    total_examples = X.shape[0]\n",
    "    correct_results = np.sum(classify(X, w) == Y)\n",
    "    success_percent = correct_results * 100 / total_examples\n",
    "    print(f\"\\nSuccess: {correct_results}/{total_examples} ({success_percent:.2f})\") \n",
    "          \n",
    "\n",
    "w, df = train(X, Y, iterations=10000, lr=0.001)\n",
    "\n",
    "# Test \n",
    "test(X, Y, w)"
   ]
  },
  {
   "cell_type": "markdown",
   "id": "c74e4ebf-0993-43af-ae20-73d3c4023779",
   "metadata": {},
   "source": [
    "#### Trained Model "
   ]
  },
  {
   "cell_type": "code",
   "execution_count": 17,
   "id": "ec740b04a89dc4d6",
   "metadata": {
    "ExecuteTime": {
     "end_time": "2024-03-29T14:56:34.407877500Z",
     "start_time": "2024-03-29T14:56:34.382087Z"
    },
    "collapsed": false,
    "jupyter": {
     "outputs_hidden": false
    },
    "tags": []
   },
   "outputs": [
    {
     "data": {
      "text/plain": [
       "array([[ 0.52485388],\n",
       "       [-0.37341771],\n",
       "       [ 0.25145191]])"
      ]
     },
     "execution_count": 17,
     "metadata": {},
     "output_type": "execute_result"
    }
   ],
   "source": [
    "w"
   ]
  },
  {
   "cell_type": "code",
   "execution_count": 18,
   "id": "7419bda5-d51c-4a18-9bf6-55de7f71bad5",
   "metadata": {
    "ExecuteTime": {
     "end_time": "2024-03-29T14:56:34.453762900Z",
     "start_time": "2024-03-29T14:56:34.392428Z"
    },
    "tags": []
   },
   "outputs": [
    {
     "data": {
      "text/html": [
       "<div>\n",
       "<style scoped>\n",
       "    .dataframe tbody tr th:only-of-type {\n",
       "        vertical-align: middle;\n",
       "    }\n",
       "\n",
       "    .dataframe tbody tr th {\n",
       "        vertical-align: top;\n",
       "    }\n",
       "\n",
       "    .dataframe thead th {\n",
       "        text-align: right;\n",
       "    }\n",
       "</style>\n",
       "<table border=\"1\" class=\"dataframe\">\n",
       "  <thead>\n",
       "    <tr style=\"text-align: right;\">\n",
       "      <th></th>\n",
       "      <th>w1</th>\n",
       "      <th>w2</th>\n",
       "      <th>w3</th>\n",
       "      <th>loss</th>\n",
       "    </tr>\n",
       "  </thead>\n",
       "  <tbody>\n",
       "    <tr>\n",
       "      <th>0</th>\n",
       "      <td>0.000000</td>\n",
       "      <td>0.000000</td>\n",
       "      <td>0.000000</td>\n",
       "      <td>0.693147</td>\n",
       "    </tr>\n",
       "    <tr>\n",
       "      <th>1</th>\n",
       "      <td>0.002900</td>\n",
       "      <td>0.001700</td>\n",
       "      <td>0.000300</td>\n",
       "      <td>0.682507</td>\n",
       "    </tr>\n",
       "    <tr>\n",
       "      <th>2</th>\n",
       "      <td>0.005518</td>\n",
       "      <td>0.003016</td>\n",
       "      <td>0.000503</td>\n",
       "      <td>0.674409</td>\n",
       "    </tr>\n",
       "    <tr>\n",
       "      <th>3</th>\n",
       "      <td>0.007899</td>\n",
       "      <td>0.004011</td>\n",
       "      <td>0.000625</td>\n",
       "      <td>0.668109</td>\n",
       "    </tr>\n",
       "    <tr>\n",
       "      <th>4</th>\n",
       "      <td>0.010081</td>\n",
       "      <td>0.004737</td>\n",
       "      <td>0.000680</td>\n",
       "      <td>0.663083</td>\n",
       "    </tr>\n",
       "    <tr>\n",
       "      <th>...</th>\n",
       "      <td>...</td>\n",
       "      <td>...</td>\n",
       "      <td>...</td>\n",
       "      <td>...</td>\n",
       "    </tr>\n",
       "    <tr>\n",
       "      <th>9995</th>\n",
       "      <td>0.524845</td>\n",
       "      <td>-0.373409</td>\n",
       "      <td>0.251442</td>\n",
       "      <td>0.378440</td>\n",
       "    </tr>\n",
       "    <tr>\n",
       "      <th>9996</th>\n",
       "      <td>0.524846</td>\n",
       "      <td>-0.373411</td>\n",
       "      <td>0.251444</td>\n",
       "      <td>0.378440</td>\n",
       "    </tr>\n",
       "    <tr>\n",
       "      <th>9997</th>\n",
       "      <td>0.524848</td>\n",
       "      <td>-0.373413</td>\n",
       "      <td>0.251446</td>\n",
       "      <td>0.378440</td>\n",
       "    </tr>\n",
       "    <tr>\n",
       "      <th>9998</th>\n",
       "      <td>0.524850</td>\n",
       "      <td>-0.373414</td>\n",
       "      <td>0.251448</td>\n",
       "      <td>0.378440</td>\n",
       "    </tr>\n",
       "    <tr>\n",
       "      <th>9999</th>\n",
       "      <td>0.524852</td>\n",
       "      <td>-0.373416</td>\n",
       "      <td>0.251450</td>\n",
       "      <td>0.378440</td>\n",
       "    </tr>\n",
       "  </tbody>\n",
       "</table>\n",
       "<p>10000 rows × 4 columns</p>\n",
       "</div>"
      ],
      "text/plain": [
       "            w1        w2        w3      loss\n",
       "0     0.000000  0.000000  0.000000  0.693147\n",
       "1     0.002900  0.001700  0.000300  0.682507\n",
       "2     0.005518  0.003016  0.000503  0.674409\n",
       "3     0.007899  0.004011  0.000625  0.668109\n",
       "4     0.010081  0.004737  0.000680  0.663083\n",
       "...        ...       ...       ...       ...\n",
       "9995  0.524845 -0.373409  0.251442  0.378440\n",
       "9996  0.524846 -0.373411  0.251444  0.378440\n",
       "9997  0.524848 -0.373413  0.251446  0.378440\n",
       "9998  0.524850 -0.373414  0.251448  0.378440\n",
       "9999  0.524852 -0.373416  0.251450  0.378440\n",
       "\n",
       "[10000 rows x 4 columns]"
      ]
     },
     "execution_count": 18,
     "metadata": {},
     "output_type": "execute_result"
    }
   ],
   "source": [
    "df[['w1','w2','w3', 'loss']]"
   ]
  },
  {
   "cell_type": "markdown",
   "id": "9274d89c-6c33-47d7-9a74-2de75a34550a",
   "metadata": {},
   "source": [
    "#### Progressive changes to weights and loss   "
   ]
  },
  {
   "cell_type": "code",
   "execution_count": 19,
   "id": "1c4b0b26-d0c0-4258-bfde-4bddd30cabd6",
   "metadata": {
    "ExecuteTime": {
     "end_time": "2024-03-29T14:56:35.268419200Z",
     "start_time": "2024-03-29T14:56:34.414865500Z"
    },
    "tags": []
   },
   "outputs": [
    {
     "data": {
      "image/png": "[encoded data removed]",
      "text/plain": [
       "<Figure size 640x480 with 1 Axes>"
      ]
     },
     "metadata": {},
     "output_type": "display_data"
    }
   ],
   "source": [
    "df[['w1','w2','w3', 'loss']].plot();"
   ]
  }
 ],
 "metadata": {
  "kernelspec": {
   "display_name": "Python 3 (ipykernel)",
   "language": "python",
   "name": "python3"
  },
  "language_info": {
   "codemirror_mode": {
    "name": "ipython",
    "version": 3
   },
   "file_extension": ".py",
   "mimetype": "text/x-python",
   "name": "python",
   "nbconvert_exporter": "python",
   "pygments_lexer": "ipython3",
   "version": "3.11.5"
  }
 },
 "nbformat": 4,
 "nbformat_minor": 5
}
