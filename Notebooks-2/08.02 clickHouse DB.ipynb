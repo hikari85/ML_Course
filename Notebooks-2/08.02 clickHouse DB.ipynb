{
 "cells": [
  {
   "cell_type": "markdown",
   "id": "952ab270-8b08-4680-ab25-71dbf3815fa2",
   "metadata": {},
   "source": [
    "**ClickHouse** is a column-oriented open-source SQL database management system for OLAP.   \n",
    "**Click**stream and Data ware**House**.    \n",
    "Install it on your own laptop or server or ClickHouse Cloud.  \n",
    "**SQL on steroids.** CH is very fast due to column-oriented storage, vectorized query execution, indexes and data compression.  "
   ]
  },
  {
   "cell_type": "markdown",
   "id": "3064a6f1-be76-4dd7-b7dd-6f1751157aff",
   "metadata": {},
   "source": [
    "[Tips & Tricks](https://towardsdev.com/clickhouse-tips-tricks-i-wish-i-knew-f575f0371cd3)    \n",
    "[Python clickhouse-connect](https://clickhouse.com/docs/en/integrations/python)    \n",
    "[PyPi clickhouse-connect](https://pypi.org/project/clickhouse-connect/)   \n",
    "[Python clickhouse-driver](https://pypi.org/project/clickhouse-driver/)    "
   ]
  }
 ],
 "metadata": {
  "kernelspec": {
   "display_name": "Python 3 (ipykernel)",
   "language": "python",
   "name": "python3"
  },
  "language_info": {
   "codemirror_mode": {
    "name": "ipython",
    "version": 3
   },
   "file_extension": ".py",
   "mimetype": "text/x-python",
   "name": "python",
   "nbconvert_exporter": "python",
   "pygments_lexer": "ipython3",
   "version": "3.11.5"
  }
 },
 "nbformat": 4,
 "nbformat_minor": 5
}
