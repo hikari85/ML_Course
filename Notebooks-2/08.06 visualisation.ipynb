{
 "cells": [
  {
   "cell_type": "markdown",
   "source": [
    "#### Anchored in Data, Revealed Through Visuals   \n",
    "“Show, Don’t Tell” the stories hidden within the data. \n",
    "\n",
    "**Histograms**: Ideal for showcasing the distribution of a single numerical variable. Histograms help identify skewness, peaks, and the spread of the data, making them perfect for analyzing variables like income levels or ages within a population.  \n",
    "**Bar Charts**: Effective for comparing quantities across different categories. Use bar charts to highlight differences between groups, such as sales figures across different regions or customer counts by product category.  \n",
    "**Line Charts**: Best suited for displaying data trends over time. Line charts are the go-to choice for visualizing stock price changes, temperature fluctuations over a year, or sales growth across quarters.  \n",
    "**Scatter Plots**: Excellent for exploring relationships between two numerical variables. Scatter plots can help identify correlations, such as the relationship between advertising spend and sales revenue, or height and weight correlations.  \n",
    "**Box Plots**:  Box-and-Whisker Plots. Useful for summarizing the distribution of a dataset and comparing distributions between groups. Box plots provide insights into the median, quartiles, and potential outliers within data, making them valuable for statistical analyses like comparing test scores across different classrooms.  \n",
    "**Heat Maps**: Ideal for visualizing complex data matrices, showing patterns of similarity or variation. Heat maps are effective in areas like displaying website traffic sources across different times of the day or understanding geographical data distributions.  \n",
    "**Geospatial Maps**: Ideal for showcasing data with a geographical component, allowing for a visual representation of patterns and trends across different regions. Geospatial maps are perfect for visualizing population density, sales distribution by location, or any data that has a spatial element. They help in identifying regional trends, making them invaluable for analyses that require a geographical context, such as market penetration in different cities or climate change effects in various parts of the world.  \n",
    "**Stacked Bar Charts**: Great for displaying part-to-whole relationships and comparisons across categories, with each bar segment representing a sub-category’s value. Use stacked bar charts to illustrate sales data divided by product type over multiple periods.  \n",
    "**Area Charts**: Similar to line charts but filled beneath the line, area charts are useful for emphasizing the magnitude of change over time. They work well for visualizing cumulative totals, such as website traffic sources or population growth.  \n",
    "**Pair Plots**: Ideal for exploring correlations and distributions among multiple variables simultaneously. Pair plots, or scatterplot matrices, provide a comprehensive view of how every variable in a dataset relates to each other, highlighting potential relationships and trends that merit further investigation. They are particularly useful in the early stages of analysis to quickly assess potential variables of interest.  "
   ],
   "metadata": {
    "collapsed": false
   },
   "id": "fb6fc9c2d6a8bd17"
  }
 ],
 "metadata": {
  "kernelspec": {
   "display_name": "Python 3",
   "language": "python",
   "name": "python3"
  },
  "language_info": {
   "codemirror_mode": {
    "name": "ipython",
    "version": 2
   },
   "file_extension": ".py",
   "mimetype": "text/x-python",
   "name": "python",
   "nbconvert_exporter": "python",
   "pygments_lexer": "ipython2",
   "version": "2.7.6"
  }
 },
 "nbformat": 4,
 "nbformat_minor": 5
}
