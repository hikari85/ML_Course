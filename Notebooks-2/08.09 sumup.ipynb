{
 "cells": [
  {
   "cell_type": "markdown",
   "id": "58eb731a-b179-4c5b-a2e9-87e551aa6db6",
   "metadata": {},
   "source": [
    "#### What is data leakage?   \n",
    "Data leakage occurs when you inadvertently include knowledge from testing data when training a Machine Learning model.  \n",
    "\n",
    "##### Why is data leakage problematic?   \n",
    "Data leakage is problematic because it will cause your model evaluation scores to be less reliable. This may lead you to make bad decisions when tuning hyperparameters, and it will lead you to overestimate how well your model will perform on new data.  \n",
    "It's hard to know whether data leakage will skew your evaluation scores by a negligible amount or a huge amount, so it's best to just avoid data leakage entirely.  \n",
    "\n",
    "##### Why would data leakage result from missing value imputation in pandas?  \n",
    "Your model evaluation procedure (such as cross-validation) is supposed to simulate the future, so that you can accurately estimate right now how well your model will perform on new data.  \n",
    "But if you impute missing values on your whole dataset in pandas and then pass your dataset to scikit-learn, your model evaluation procedure will no longer be an accurate simulation of reality. That's because the imputation values will be based on your entire dataset (meaning both the training portion and the testing portion), whereas the imputation values should just be based on the training portion.  \n",
    "In other words, imputation based on the entire dataset is like peeking into the future and then using what you learned from the future during model training, which is definitely not allowed.  \n",
    "\n",
    "##### How can we avoid this in pandas?  \n",
    "You might think that one way around this problem would be to split your dataset into training and testing sets and then impute missing values using pandas. (Specifically, you would need to learn the imputation value from the training set and then use it to fill in both the training and testing sets.) \n",
    "That would work if you're only ever planning to use train/test split for model evaluation, but it would not work if you're planning to use cross-validation. That's because during 5-fold cross-validation (for example), the rows contained in the training set will change 5 times, and thus it's quite impractical to avoid data leakage if you use pandas for imputation while using cross-validation!  \n",
    "\n",
    "##### How else can data leakage arise?  \n",
    "So far, I've only mentioned data leakage in the context of missing value imputation. But there are other transformations that if done in pandas on the full dataset will also cause data leakage.  \n",
    "For example, feature scaling in pandas would lead to data leakage, and even one-hot encoding (or \"dummy encoding\") in pandas would lead to data leakage unless there's a known, fixed set of categories.  \n",
    "More generally, any transformation which incorporates information about other rows when transforming a row will lead to data leakage if done in pandas.  \n",
    "\n",
    "##### How does scikit-learn prevent data leakage?  \n",
    "Now that you've learned how data transformations in pandas can cause data leakage, I'll briefly mention three ways in which scikit-learn prevents data leakage:  \n",
    "•\tFirst, scikit-learn transformers have separate fit and transform steps, which allow you to base your data transformations on the training set only, and then apply those transformations to both the training set and the testing set.  \n",
    "•\tSecond, the fit and predict methods of a Pipeline encapsulate all calls to fit_transform and transform so that they're called at the appropriate times.  \n",
    "•\tThird, cross_val_score splits the data prior to performing data transformations, which ensures that the transformers only learn from the temporary training sets that are created during cross-validation.  \n",
    "   \n",
    "When working on a Machine Learning problem in Python, I recommend performing all of your data transformations in scikit-learn, rather than performing some of them in pandas and then passing the transformed data to scikit-learn.\n",
    "Besides helping you to prevent data leakage, this enables you to tune the transformer and model hyperparameters simultaneously, which can lead to a better performing model!\n"
   ]
  }
 ],
 "metadata": {
  "kernelspec": {
   "display_name": "Python 3 (ipykernel)",
   "language": "python",
   "name": "python3"
  },
  "language_info": {
   "codemirror_mode": {
    "name": "ipython",
    "version": 3
   },
   "file_extension": ".py",
   "mimetype": "text/x-python",
   "name": "python",
   "nbconvert_exporter": "python",
   "pygments_lexer": "ipython3",
   "version": "3.11.5"
  }
 },
 "nbformat": 4,
 "nbformat_minor": 5
}
