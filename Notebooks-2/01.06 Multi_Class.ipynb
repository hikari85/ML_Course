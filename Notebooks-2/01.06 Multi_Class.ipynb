{
 "cells": [
  {
   "cell_type": "markdown",
   "id": "8734cedeb73c07d1",
   "metadata": {},
   "source": [
    "#### Multiclass Classifier   \n",
    "\n",
    "In binary classfier, `Weighted Sum + Sigmoid + np.round()`, WSS, gave us a value of 0 or 1.  \n",
    "Run 10 WSS, one per digit. The one with the highest WSS score is the resultant class among the ten.    \n",
    "\n",
    "![](../Figures/cnn-2.png)"
   ]
  },
  {
   "cell_type": "code",
   "execution_count": null,
   "id": "268c755f25ba9d13",
   "metadata": {
    "ExecuteTime": {
     "end_time": "2024-04-03T16:06:46.280959700Z",
     "start_time": "2024-04-03T16:06:45.669406800Z"
    },
    "collapsed": false,
    "jupyter": {
     "outputs_hidden": false
    },
    "tags": []
   },
   "outputs": [],
   "source": [
    "import numpy as np\n",
    "import pandas as pd"
   ]
  },
  {
   "cell_type": "markdown",
   "id": "122e3a1f77ae29c2",
   "metadata": {},
   "source": [
    "##### one-hot encoding   \n",
    "We get only one **hot** row per digit.  \n",
    "Use one column per class.  \n",
    "One matmul can get results for all the ten digit-classes.    \n",
    "We can use dataframe get_dummies() or sklearn OneHotEncoder.   \n",
    "Here is a hand-built function    "
   ]
  },
  {
   "cell_type": "code",
   "execution_count": null,
   "id": "e8dca2014fdb4eba",
   "metadata": {
    "ExecuteTime": {
     "end_time": "2024-04-03T16:19:05.934314200Z",
     "start_time": "2024-04-03T16:19:05.900890500Z"
    },
    "collapsed": false,
    "jupyter": {
     "outputs_hidden": false
    },
    "tags": []
   },
   "outputs": [],
   "source": [
    "def one_hot_encode(Y):\n",
    "    n_labels = Y.shape[0]\n",
    "    n_classes = n_labels  # 10\n",
    "    encoded_Y = np.zeros((n_labels, n_classes)) # zeroes(10,10)\n",
    "    for i in range(n_labels):\n",
    "        label = Y[i]\n",
    "        encoded_Y[i][label] = 1\n",
    "    return encoded_Y\n",
    "\n",
    "y = np.array([0,1,2,3,4,5,6,7,8,9])\n",
    "encoded_y = one_hot_encode(y)\n",
    "print(encoded_y)"
   ]
  },
  {
   "cell_type": "markdown",
   "id": "a482a4cdb8416144",
   "metadata": {},
   "source": [
    "Check with different order of numbers   "
   ]
  },
  {
   "cell_type": "code",
   "execution_count": null,
   "id": "e2ebbc10438dea0",
   "metadata": {
    "ExecuteTime": {
     "end_time": "2024-04-03T16:19:25.656893Z",
     "start_time": "2024-04-03T16:19:25.628457300Z"
    },
    "collapsed": false,
    "jupyter": {
     "outputs_hidden": false
    },
    "tags": []
   },
   "outputs": [],
   "source": [
    "y = np.array([0,5,2,3,7,1,6,4,8,9])\n",
    "encoded_y = one_hot_encode(y)\n",
    "print(encoded_y)"
   ]
  },
  {
   "cell_type": "markdown",
   "id": "98ff8f81174dd2b1",
   "metadata": {},
   "source": [
    "#### Prepare data   \n",
    "Copied from 01.05   "
   ]
  },
  {
   "cell_type": "code",
   "execution_count": 5,
   "id": "52d1b52845b74f38",
   "metadata": {
    "ExecuteTime": {
     "end_time": "2024-04-03T16:58:29.628046600Z",
     "start_time": "2024-04-03T16:58:29.474588300Z"
    },
    "collapsed": false,
    "jupyter": {
     "outputs_hidden": false
    },
    "tags": []
   },
   "outputs": [],
   "source": [
    "df_test = pd.read_csv('../MNIST_Data/mnist_test.csv', nrows=1000)\n",
    "df_train = pd.read_csv('../MNIST_Data/mnist_train.csv', nrows=1000)\n",
    "\n",
    "X_train = df_train.iloc[:,1:].values\n",
    "Y_train_ = df_train.iloc[:,0].values\n",
    "X_test = df_test.iloc[:,1:].values\n",
    "Y_test = df_test.iloc[:,0].values\n",
    "\n",
    "Y_train = one_hot_encode(Y_train_)  # one-hot encode \n",
    "\n",
    "X_train = np.insert(X_train, 0, 1, axis=1) # add x0, the bias  \n",
    "X_test = np.insert(X_test, 0, 1, axis=1)"
   ]
  },
  {
   "cell_type": "markdown",
   "id": "4601cdf0dfee7d69",
   "metadata": {},
   "source": [
    "##### np.argmax() and np.argmin()   \n",
    "Get index of max/min values in the array.  "
   ]
  },
  {
   "cell_type": "code",
   "execution_count": 6,
   "id": "9e2f4dc1-9a69-499c-adfe-15f13396d776",
   "metadata": {
    "ExecuteTime": {
     "end_time": "2024-04-03T16:46:42.274158800Z",
     "start_time": "2024-04-03T16:46:42.236559300Z"
    },
    "collapsed": false,
    "jupyter": {
     "outputs_hidden": false
    },
    "tags": []
   },
   "outputs": [
    {
     "name": "stdout",
     "output_type": "stream",
     "text": [
      "a = array([[ 6, 19, 14, 13,  6],\n",
      "       [ 6,  7,  7, 14, 13]])\n"
     ]
    }
   ],
   "source": [
    "a = np.random.randint(1, 20, 10).reshape(2, 5)\n",
    "print(f\"{a = }\")"
   ]
  },
  {
   "cell_type": "code",
   "execution_count": 7,
   "id": "24d189ff-21a2-4692-940f-3fee82c189ed",
   "metadata": {
    "ExecuteTime": {
     "end_time": "2024-04-03T16:46:42.274158800Z",
     "start_time": "2024-04-03T16:46:42.236559300Z"
    },
    "collapsed": false,
    "jupyter": {
     "outputs_hidden": false
    },
    "tags": []
   },
   "outputs": [
    {
     "name": "stdout",
     "output_type": "stream",
     "text": [
      "np.argmax(a) = 1\n",
      "np.argmax(a, axis=0) = array([0, 0, 0, 1, 1], dtype=int64)\n",
      "np.argmax(a, axis=1) = array([1, 3], dtype=int64)\n",
      "np.argmin(a) = 0\n",
      "np.argmin(a, axis=0) = array([0, 1, 1, 0, 0], dtype=int64)\n",
      "np.argmin(a, axis=1) = array([0, 0], dtype=int64)\n"
     ]
    }
   ],
   "source": [
    "print(f\"{np.argmax(a) = }\")  ## index in a flattend array\n",
    "print(f\"{np.argmax(a, axis=0) = }\")  ## indices along columns\n",
    "print(f\"{np.argmax(a, axis=1) = }\")  ## indices along rows\n",
    "print(f\"{np.argmin(a) = }\")  ## index in a flattend array\n",
    "print(f\"{np.argmin(a, axis=0) = }\")  ## indices along columns\n",
    "print(f\"{np.argmin(a, axis=1) = }\")  ## indices along rows"
   ]
  },
  {
   "cell_type": "code",
   "execution_count": 8,
   "id": "579231a912b02e3d",
   "metadata": {
    "ExecuteTime": {
     "end_time": "2024-03-29T21:43:59.990710Z",
     "start_time": "2024-03-29T21:43:59.963480400Z"
    },
    "collapsed": false,
    "jupyter": {
     "outputs_hidden": false
    },
    "tags": []
   },
   "outputs": [
    {
     "name": "stdout",
     "output_type": "stream",
     "text": [
      "argmax: [3 0]\n",
      "argmax reshaped:\n",
      " [[3]\n",
      " [0]]\n"
     ]
    }
   ],
   "source": [
    "sample = np.array([[1,5,2,9,5,6],\n",
    "                   [90,14,1,67,3,78]])\n",
    "am = np.argmax(sample, axis=1)\n",
    "print(f\"argmax: {am}\\nargmax reshaped:\\n {am.reshape(-1,1)}\")"
   ]
  },
  {
   "cell_type": "markdown",
   "id": "7b5eb8cfc73df1ef",
   "metadata": {},
   "source": [
    "#### Modify Classify() function   \n",
    "Instead of `np.round()`, return the index of the max value (argmax)    \n",
    "`predict()` calculates matrix of predictions $\\hat{y}$  one row per label, one column per class.      \n",
    "Each row in $\\hat{y}$ contains ten numbers between 0 adn 1.  \n",
    "`np.argmax()` gets the index of maximum value in each of $\\hat{y}$.   \n",
    "axis=1 gets argmax for each row separately.       "
   ]
  },
  {
   "cell_type": "code",
   "execution_count": 9,
   "id": "54efe58475a55ba0",
   "metadata": {
    "ExecuteTime": {
     "end_time": "2024-04-03T16:56:51.610295800Z",
     "start_time": "2024-04-03T16:56:51.606300900Z"
    },
    "collapsed": false,
    "jupyter": {
     "outputs_hidden": false
    },
    "tags": []
   },
   "outputs": [],
   "source": [
    "def classify(X, w):\n",
    "    y_hat = predict(X, w)    \n",
    "    labels = np.argmax(y_hat, axis=1)\n",
    "    return labels.reshape(-1, 1)"
   ]
  },
  {
   "cell_type": "markdown",
   "id": "1cf3d9583eb9c1bd",
   "metadata": {},
   "source": [
    "#### `weights` matrix   \n",
    "Create ten columns of weights, one per class   "
   ]
  },
  {
   "cell_type": "code",
   "execution_count": 10,
   "id": "379930981734ea49",
   "metadata": {
    "ExecuteTime": {
     "end_time": "2024-04-03T16:57:07.132484600Z",
     "start_time": "2024-04-03T16:57:07.121540500Z"
    },
    "collapsed": false,
    "jupyter": {
     "outputs_hidden": false
    },
    "tags": []
   },
   "outputs": [
    {
     "data": {
      "text/plain": [
       "(785, 1000)"
      ]
     },
     "execution_count": 10,
     "metadata": {},
     "output_type": "execute_result"
    }
   ],
   "source": [
    "w = np.zeros((X_train.shape[1], Y_train.shape[1]))\n",
    "w.shape\n"
   ]
  },
  {
   "cell_type": "markdown",
   "id": "7ce2653b3c88fe85",
   "metadata": {},
   "source": [
    "#### Matrix Dimensions   \n",
    "- X is (m, n). One row per example, one column per input variable.   \n",
    "    with added bias, it is **(1000, 785)**     \n",
    "- Y is a matrix of one-hot-encoded labels. **(1000, 10)**   \n",
    "- The weights matrix w is (n, k). One row per input variable and one column per class.  **(785, 10)**   \n",
    "```\n",
    "                    [m, n] . [n, k] = [m, k] or  \n",
    "                    [1000, 785] . [785, 10] = [1000, 10]\n",
    "```   "
   ]
  },
  {
   "cell_type": "markdown",
   "id": "1553bf02180ea117",
   "metadata": {},
   "source": [
    "#### The new classifier    "
   ]
  },
  {
   "cell_type": "code",
   "execution_count": 11,
   "id": "709d577405c99c48",
   "metadata": {
    "ExecuteTime": {
     "end_time": "2024-04-03T16:58:39.382114400Z",
     "start_time": "2024-04-03T16:58:39.373943800Z"
    },
    "collapsed": false,
    "jupyter": {
     "outputs_hidden": false
    },
    "tags": []
   },
   "outputs": [],
   "source": [
    "def sigmoid(z):\n",
    "    return 1 / (1 + np.exp(-z))\n",
    "\n",
    "\n",
    "def predict(X, w):\n",
    "    weighted_sum = np.matmul(X, w)\n",
    "    return sigmoid(weighted_sum)\n",
    "\n",
    "\n",
    "def classify(X, w):\n",
    "    y_hat = predict(X, w)\n",
    "    labels = np.argmax(y_hat, axis=1)\n",
    "    return labels.reshape(-1, 1)\n",
    "\n",
    "\n",
    "def loss(X, Y, w):\n",
    "    y_hat = predict(X, w)\n",
    "    first_term = Y * np.log(y_hat)\n",
    "    second_term = (1 - Y) * np.log(1 - y_hat)\n",
    "    return -np.sum(first_term + second_term) / X.shape[0]\n",
    "\n",
    "\n",
    "def gradient(X, Y, w):\n",
    "    return np.matmul(X.T, (predict(X, w) - Y)) / X.shape[0]\n",
    "\n",
    "\n",
    "def report(iteration, X_train, Y_train, X_test, Y_test, w):\n",
    "    matches = np.count_nonzero(classify(X_test, w) == Y_test)\n",
    "    n_test_examples = Y_test.shape[0]\n",
    "    matches = matches * 100.0 / n_test_examples\n",
    "    training_loss = loss(X_train, Y_train, w)\n",
    "    return [iteration, training_loss, matches]\n",
    "\n",
    "\n",
    "def train(X_train, Y_train, X_test, Y_test, iterations, lr):\n",
    "    data = []\n",
    "    w = np.zeros((X_train.shape[1], Y_train.shape[1]))\n",
    "    for i in range(iterations):\n",
    "        data.append(report(i, X_train, Y_train, X_test, Y_test, w))\n",
    "        w -= gradient(X_train, Y_train, w) * lr\n",
    "    data.append(report(iterations, X_train, Y_train, X_test, Y_test, w))\n",
    "    return w, pd.DataFrame(data, columns=['i', 'trg_loss', 'matches%'])\n"
   ]
  },
  {
   "cell_type": "code",
   "execution_count": 12,
   "id": "e4bd585bd5241ccc",
   "metadata": {
    "ExecuteTime": {
     "end_time": "2024-04-03T17:01:24.382058Z",
     "start_time": "2024-04-03T17:00:39.498444500Z"
    },
    "collapsed": false,
    "jupyter": {
     "outputs_hidden": false
    },
    "tags": []
   },
   "outputs": [],
   "source": [
    "w, df = train(X_train, Y_train, X_test, Y_test.reshape(-1,1), iterations=200, lr=1e-5)"
   ]
  },
  {
   "cell_type": "code",
   "execution_count": 13,
   "id": "ca799d111e27d308",
   "metadata": {
    "ExecuteTime": {
     "end_time": "2024-04-03T16:59:50.038324600Z",
     "start_time": "2024-04-03T16:59:50.030013700Z"
    },
    "collapsed": false,
    "jupyter": {
     "outputs_hidden": false
    },
    "tags": []
   },
   "outputs": [
    {
     "name": "stdout",
     "output_type": "stream",
     "text": [
      "       i    trg_loss  matches%\n",
      "0      0  693.147181       8.5\n",
      "1      1    8.592093      63.6\n",
      "2      2    5.685164      63.6\n",
      "3      3    3.165089      64.2\n",
      "4      4    2.157389      70.1\n",
      "..   ...         ...       ...\n",
      "196  196    0.770285      84.3\n",
      "197  197    0.768738      84.3\n",
      "198  198    0.767197      84.3\n",
      "199  199    0.765665      84.4\n",
      "200  200    0.764140      84.4\n",
      "\n",
      "[201 rows x 3 columns]\n"
     ]
    }
   ],
   "source": [
    "print(df)"
   ]
  },
  {
   "cell_type": "code",
   "execution_count": 17,
   "id": "abc433e737650bd0",
   "metadata": {
    "ExecuteTime": {
     "end_time": "2024-04-03T17:02:20.763816900Z",
     "start_time": "2024-04-03T17:02:20.592076600Z"
    },
    "collapsed": false,
    "jupyter": {
     "outputs_hidden": false
    },
    "tags": []
   },
   "outputs": [
    {
     "data": {
      "image/png": "[encoded data removed]",
      "text/plain": [
       "<Figure size 640x480 with 1 Axes>"
      ]
     },
     "metadata": {},
     "output_type": "display_data"
    }
   ],
   "source": [
    "# df['matches%'] = df['matches%']/10\n",
    "df[['trg_loss','matches%']][1:].plot();"
   ]
  },
  {
   "cell_type": "code",
   "execution_count": 14,
   "id": "75aef22f8de79ca6",
   "metadata": {
    "ExecuteTime": {
     "end_time": "2024-04-03T17:04:57.162759900Z",
     "start_time": "2024-04-03T17:04:57.127413500Z"
    },
    "collapsed": false,
    "jupyter": {
     "outputs_hidden": false
    },
    "tags": []
   },
   "outputs": [
    {
     "data": {
      "text/plain": [
       "(numpy.ndarray, 785)"
      ]
     },
     "execution_count": 14,
     "metadata": {},
     "output_type": "execute_result"
    }
   ],
   "source": [
    "type(w), len(w)"
   ]
  }
 ],
 "metadata": {
  "kernelspec": {
   "display_name": "Python 3 (ipykernel)",
   "language": "python",
   "name": "python3"
  },
  "language_info": {
   "codemirror_mode": {
    "name": "ipython",
    "version": 3
   },
   "file_extension": ".py",
   "mimetype": "text/x-python",
   "name": "python",
   "nbconvert_exporter": "python",
   "pygments_lexer": "ipython3",
   "version": "3.11.5"
  }
 },
 "nbformat": 4,
 "nbformat_minor": 5
}
