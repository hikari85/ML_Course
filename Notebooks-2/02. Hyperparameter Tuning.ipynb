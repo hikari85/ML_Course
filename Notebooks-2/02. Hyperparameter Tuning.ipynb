{
 "cells": [
  {
   "cell_type": "markdown",
   "id": "8475f4d45a74565e",
   "metadata": {},
   "source": [
    "#### Hyperparameter Tuning "
   ]
  },
  {
   "cell_type": "markdown",
   "id": "849a0742358814c9",
   "metadata": {},
   "source": [
    "CO2: Improve model performance of multiple linear regression using grid search hyperparameter tuning technique\t\t\t\t\t\t\t\t\t\t\t\t3 Hours\t  \n",
    "1. Hyperparameters, \n",
    "2. common hyperparameters with examples, and \n",
    "3. hyperparameter tuning techniques:  \n",
    "    - grid search, \n",
    "    - random search"
   ]
  },
  {
   "cell_type": "markdown",
   "id": "f1b64fef-79b2-4e36-a12c-905a9e387708",
   "metadata": {},
   "source": [
    "#### Grid Search   \n",
    "**Use Keras Models in scikit-learn**: Keras models can be used in scikit-learn by wrapping them with the KerasClassifier or KerasRegressor class from the module SciKeras.   \n",
    "\n",
    "Grid search is a model hyperparameter optimization technique.\n",
    "In scikit-learn, this technique is provided in the GridSearchCV class.\n",
    "\n",
    "When constructing this class, provide a dictionary of hyperparameters to evaluate in the param_grid argument.  \n",
    "This is a map of the model parameter name and an array of values to try.   \n",
    "\n",
    "By default, accuracy score is optimised,  \n",
    "but we can specify other scores in the score argument of the GridSearchCV constructor.  \n",
    "\n",
    "The GridSearchCV process constructs and evaluates one model for each combination of parameters.  \n",
    "It uses cross validation to evaluate each individual model."
   ]
  },
  {
   "cell_type": "raw",
   "id": "59bf8407-3c77-4944-bcd6-0c8b59c249ca",
   "metadata": {},
   "source": [
    "scikeras is Scikit-Learn compatible wrappers for Keras Models.  \n",
    "\n",
    "! pip install scikeras[tensorflow]"
   ]
  },
  {
   "cell_type": "markdown",
   "id": "a2b03941-0640-42bf-8369-572384e96071",
   "metadata": {},
   "source": [
    "Pima Indians onset of diabetes classification dataset is used in the example below.  \n",
    "This is an easy to work with small dataset with all numerical attributes.  "
   ]
  },
  {
   "cell_type": "code",
   "execution_count": 1,
   "id": "b9e09bdb-586b-4a89-87c5-4bd7ed1da84e",
   "metadata": {
    "tags": []
   },
   "outputs": [],
   "source": [
    "# Use scikit-learn to grid search the batch size and epochs\n",
    "import numpy as np\n",
    "import tensorflow as tf\n",
    "from tensorflow.keras.models import Sequential\n",
    "from tensorflow.keras.layers import Dense\n",
    "\n",
    "from sklearn.model_selection import GridSearchCV\n",
    "from scikeras.wrappers import KerasClassifier\n",
    "\n",
    "import warnings\n",
    "warnings.filterwarnings('ignore')"
   ]
  },
  {
   "cell_type": "code",
   "execution_count": 2,
   "id": "a44ed4e5-74c3-4650-9337-e1a2673cbdca",
   "metadata": {},
   "outputs": [],
   "source": [
    "def create_model():\n",
    "    model = Sequential()\n",
    "    model.add(Dense(12, input_shape=(8,), activation='relu'))\n",
    "    model.add(Dense(1, activation='sigmoid'))\n",
    "\n",
    "    model.compile(loss='binary_crossentropy', optimizer='adam', metrics=['accuracy'])\n",
    "    return model"
   ]
  },
  {
   "cell_type": "code",
   "execution_count": 3,
   "id": "0ce7d80c-13f1-491b-bca0-8f706778c5fc",
   "metadata": {},
   "outputs": [],
   "source": [
    "seed = 7\n",
    "tf.random.set_seed(seed)\n",
    "\n",
    "dataset = np.loadtxt(\"../Data/pima-indians-diabetes.csv\", delimiter=\",\")\n",
    "\n",
    "X = dataset[:,0:8]\n",
    "Y = dataset[:,8]"
   ]
  },
  {
   "cell_type": "code",
   "execution_count": 6,
   "id": "945db748-0a7c-46a3-82e4-7bd0947c6d79",
   "metadata": {
    "tags": []
   },
   "outputs": [
    {
     "data": {
      "text/plain": [
       "768"
      ]
     },
     "execution_count": 6,
     "metadata": {},
     "output_type": "execute_result"
    }
   ],
   "source": [
    "len(Y)"
   ]
  },
  {
   "cell_type": "code",
   "execution_count": 7,
   "id": "c3f9e162-d74d-4f17-924b-8aa3a1a3ac64",
   "metadata": {},
   "outputs": [],
   "source": [
    "model = KerasClassifier(model=create_model, verbose=0)\n",
    "\n",
    "# define the grid search parameters\n",
    "batch_size = [10, 20, 40, 60, 80, 100]\n",
    "epochs = [10, 50, 100]\n",
    "param_grid = dict(batch_size=batch_size, epochs=epochs)"
   ]
  },
  {
   "cell_type": "code",
   "execution_count": 8,
   "id": "53b350c8-3d1d-45a8-b0a8-b77ee596532d",
   "metadata": {
    "tags": []
   },
   "outputs": [
    {
     "data": {
      "text/plain": [
       "{'batch_size': [10, 20, 40, 60, 80, 100], 'epochs': [10, 50, 100]}"
      ]
     },
     "execution_count": 8,
     "metadata": {},
     "output_type": "execute_result"
    }
   ],
   "source": [
    "param_grid"
   ]
  },
  {
   "cell_type": "code",
   "execution_count": 9,
   "id": "b30483a7-c8c9-4d4e-9390-99cf2a10ad7b",
   "metadata": {},
   "outputs": [],
   "source": [
    "grid = GridSearchCV(estimator=model, param_grid=param_grid, n_jobs=-1, cv=3)\n",
    "grid_result = grid.fit(X, Y)"
   ]
  },
  {
   "cell_type": "code",
   "execution_count": 10,
   "id": "5df7453b-3dad-4b4a-b8fa-b41cb7f787e0",
   "metadata": {},
   "outputs": [
    {
     "name": "stdout",
     "output_type": "stream",
     "text": [
      "Best: 0.704427 using {'batch_size': 10, 'epochs': 100}\n",
      "0.554688 (0.086821) with: {'batch_size': 10, 'epochs': 10}\n",
      "0.657552 (0.023939) with: {'batch_size': 10, 'epochs': 50}\n",
      "0.704427 (0.039879) with: {'batch_size': 10, 'epochs': 100}\n",
      "0.606771 (0.025780) with: {'batch_size': 20, 'epochs': 10}\n",
      "0.669271 (0.012890) with: {'batch_size': 20, 'epochs': 50}\n",
      "0.683594 (0.013902) with: {'batch_size': 20, 'epochs': 100}\n",
      "0.519531 (0.032369) with: {'batch_size': 40, 'epochs': 10}\n",
      "0.622396 (0.028764) with: {'batch_size': 40, 'epochs': 50}\n",
      "0.674479 (0.030978) with: {'batch_size': 40, 'epochs': 100}\n",
      "0.537760 (0.054532) with: {'batch_size': 60, 'epochs': 10}\n",
      "0.652344 (0.043146) with: {'batch_size': 60, 'epochs': 50}\n",
      "0.684896 (0.022628) with: {'batch_size': 60, 'epochs': 100}\n",
      "0.550781 (0.072098) with: {'batch_size': 80, 'epochs': 10}\n",
      "0.618490 (0.009744) with: {'batch_size': 80, 'epochs': 50}\n",
      "0.627604 (0.035132) with: {'batch_size': 80, 'epochs': 100}\n",
      "0.567708 (0.036828) with: {'batch_size': 100, 'epochs': 10}\n",
      "0.606771 (0.036690) with: {'batch_size': 100, 'epochs': 50}\n",
      "0.621094 (0.038670) with: {'batch_size': 100, 'epochs': 100}\n"
     ]
    }
   ],
   "source": [
    "# summarize results\n",
    "print(\"Best: %f using %s\" % (grid_result.best_score_, grid_result.best_params_))\n",
    "means = grid_result.cv_results_['mean_test_score']\n",
    "stds = grid_result.cv_results_['std_test_score']\n",
    "params = grid_result.cv_results_['params']\n",
    "for mean, stdev, param in zip(means, stds, params):\n",
    "    print(\"%f (%f) with: %r\" % (mean, stdev, param))"
   ]
  },
  {
   "cell_type": "markdown",
   "id": "ed5fc849-8c7f-49f0-93e4-45258b3a3450",
   "metadata": {},
   "source": [
    "We can tune   \n",
    "1. Batch Size and Number of Epochs   \n",
    "2. Training Optimization Algorithm - SGD, RMSprop, Adagrad, Adadelta, Adam, Adamax, Nadam   \n",
    "3. Learning Rate and Momentum   \n",
    "4. Network Weight Initialization   \n",
    "5. Neuron Activation Function - softmax, softplus, softsign, relu, tanh, sigmoid, hard_sigmoid, linear   \n",
    "6. Dropout Regularization   \n",
    "7. Number of Neurons in the Hidden Layer   "
   ]
  },
  {
   "cell_type": "markdown",
   "id": "ed8c1d0a-dd2b-4ed8-9f7d-9a69f8dd5e25",
   "metadata": {},
   "source": [
    "#### Random Search   \n",
    "Define a search space as a bounded domain of hyperparameter values and randomly sample points in that domain.   \n",
    "\n",
    "\n",
    "##### random search logistic regression model on the sonar dataset   "
   ]
  },
  {
   "cell_type": "code",
   "execution_count": 11,
   "id": "52b0812f-d29e-4eca-a798-0db37ee770e4",
   "metadata": {
    "tags": []
   },
   "outputs": [],
   "source": [
    "from scipy.stats import loguniform\n",
    "from pandas import read_csv\n",
    "from sklearn.linear_model import LogisticRegression\n",
    "from sklearn.model_selection import RepeatedStratifiedKFold\n",
    "from sklearn.model_selection import RandomizedSearchCV"
   ]
  },
  {
   "cell_type": "code",
   "execution_count": 12,
   "id": "1d47bdd0-d991-436d-9531-154649be21a7",
   "metadata": {
    "tags": []
   },
   "outputs": [],
   "source": [
    "# load dataset\n",
    "url = 'https://raw.githubusercontent.com/jbrownlee/Datasets/master/sonar.csv'\n",
    "data = read_csv(url, header=None).values\n",
    "X, y = data[:, :-1], data[:, -1]"
   ]
  },
  {
   "cell_type": "code",
   "execution_count": 13,
   "id": "94bd4353-6ef3-42ec-b6b9-56e8fe8d0c60",
   "metadata": {
    "tags": []
   },
   "outputs": [
    {
     "name": "stdout",
     "output_type": "stream",
     "text": [
      "Best Score: 0.7881746031746033\n",
      "Best Hyperparameters: {'C': 4.878363034905761, 'penalty': 'l2', 'solver': 'newton-cg'}\n"
     ]
    }
   ],
   "source": [
    "model = LogisticRegression()\n",
    "\n",
    "# define evaluation\n",
    "cv = RepeatedStratifiedKFold(n_splits=10, n_repeats=3, random_state=1)\n",
    "\n",
    "# define search space\n",
    "space = dict()\n",
    "space['solver'] = ['newton-cg', 'lbfgs', 'liblinear']\n",
    "space['penalty'] = ['none', 'l1', 'l2', 'elasticnet']\n",
    "space['C'] = loguniform(1e-5, 100)\n",
    "\n",
    "# define search\n",
    "search = RandomizedSearchCV(model, space, n_iter=500, scoring='accuracy', n_jobs=-1, cv=cv, random_state=1)\n",
    "\n",
    "# execute search\n",
    "result = search.fit(X, y)\n",
    "\n",
    "# summarize result\n",
    "print('Best Score: %s' % result.best_score_)\n",
    "print('Best Hyperparameters: %s' % result.best_params_)"
   ]
  }
 ],
 "metadata": {
  "kernelspec": {
   "display_name": "Python 3 (ipykernel)",
   "language": "python",
   "name": "python3"
  },
  "language_info": {
   "codemirror_mode": {
    "name": "ipython",
    "version": 3
   },
   "file_extension": ".py",
   "mimetype": "text/x-python",
   "name": "python",
   "nbconvert_exporter": "python",
   "pygments_lexer": "ipython3",
   "version": "3.11.5"
  }
 },
 "nbformat": 4,
 "nbformat_minor": 5
}
