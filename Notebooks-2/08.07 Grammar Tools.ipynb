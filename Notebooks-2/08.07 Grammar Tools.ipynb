{
 "cells": [
  {
   "cell_type": "raw",
   "id": "4699329c-7a87-43ac-8b21-34c5826eb1ad",
   "metadata": {},
   "source": [
    "! pip install language-tool-python"
   ]
  },
  {
   "cell_type": "code",
   "execution_count": null,
   "id": "7c8b838c-ec47-4234-9739-3c225aaca169",
   "metadata": {},
   "outputs": [],
   "source": [
    "import language_tool_python\n",
    "\n",
    "mytext = \"\"\"\n",
    "I is testng grammar tool using python. It does not costt anythng.\n",
    "\"\"\"\n",
    "\n",
    "def grammarCorrector(text):\n",
    "    tool = language_tool_python.LanguageTool('en-US')\n",
    "    result = tool.correct(text)\n",
    "    return result\n",
    "\n",
    "output_data = grammarCorrector(mytext)\n",
    "print(output_data)\n",
    "\n",
    "def grammarChecker(text):\n",
    "    tool = language_tool_python.LanguageTool('en-US')\n",
    "    result = tool.check(text)\n",
    "    return result\n",
    "\n",
    "output_data = grammarChecker(mytext)\n",
    "print(output_data)\n",
    "\n",
    "output_data[0].replacements\n",
    "# ['am', 'will be']\n",
    "\n",
    "def check_text(input_text):\n",
    "    \n",
    "    # Initialize LanguageTool instance  \n",
    "    tool = language_tool_python.LanguageTool('en-US')  \n",
    "\n",
    "    # Check for language errors in the input text  \n",
    "    matches = tool.check(input_text)  \n",
    "\n",
    "    # Initialize lists to store detected mistakes and their corrections  \n",
    "    mistakes = []  \n",
    "    corrections = []  \n",
    "    start_positions = []  \n",
    "    end_positions = []  \n",
    "\n",
    "    # Iterate through the detected language errors  \n",
    "    for rule in matches:  \n",
    "        if len(rule.replacements) > 0:  \n",
    "            start_positions.append(rule.offset)  \n",
    "            end_positions.append(rule.errorLength + rule.offset)  \n",
    "            mistakes.append(input_text[rule.offset : rule.errorLength + rule.offset])  \n",
    "            corrections.append(rule.replacements[0])   \n",
    "\n",
    "    return list(zip(mistakes,corrections))\n",
    "\n",
    "check_text(mytext)"
   ]
  },
  {
   "cell_type": "markdown",
   "id": "7cd5ec8d-3054-4766-ac74-679d8e849ecd",
   "metadata": {},
   "source": [
    "Gramformer is an open source python library based on some of the top notch researches in grammar correction. It has several models which can detect, highlight and correct grammar errors."
   ]
  },
  {
   "cell_type": "code",
   "execution_count": null,
   "id": "37ef25c8-76db-4786-b840-d7e18e994a40",
   "metadata": {},
   "outputs": [],
   "source": [
    "! pip install -U git+https://github.com/PrithivirajDamodaran/Gramformer.git\n",
    "! pip install torch\n",
    "! pip install spacy\n",
    "python -m spacy download en"
   ]
  },
  {
   "cell_type": "code",
   "execution_count": null,
   "id": "0f1513d9-3f1c-4c05-b163-0191d7dbbaba",
   "metadata": {},
   "outputs": [],
   "source": [
    "\n",
    "correction = gf.correct(mytext, max_candidates=1)\n",
    "for corrected_sentence in correction:\n",
    "    print(gf.highlight(mytext, corrected_sentence))"
   ]
  },
  {
   "cell_type": "markdown",
   "id": "e4dad80e-78f5-4b88-a2c4-311ec66dbb0a",
   "metadata": {},
   "source": [
    "Ginger\n",
    "Ginger Software allows you to check and correct grammar in Python via its API. It offers both free and paid versions. The free version has a limit of 2000 sentences per month and you need to subscribe before using it.\n",
    "\n",
    "To get your API key, you need to visit the Ginger Software Page on the RapidAPI website.\n",
    "\n",
    "Make sure the requests library is installed before using the program below. In the following code, don't forget to enter your API key in the API variable."
   ]
  },
  {
   "cell_type": "code",
   "execution_count": null,
   "id": "0690e37e-308e-4121-bf46-fe6285f2626f",
   "metadata": {},
   "outputs": [],
   "source": [
    "import requests\n",
    "API = \"Enter Your Ginger API Key\"\n",
    "url = \"https://ginger4.p.rapidapi.com/correction\"\n",
    "querystring = {\"lang\":\"US\",\"generateRecommendations\":\"false\",\"flagInfomralLanguage\":\"true\"}\n",
    "mytext = \"\"\"I is testng grammar tool using python. It does not costt anythng.\"\"\"\n",
    "headers = {\n",
    "\t\"content-type\": \"text/plain\",\n",
    "\t\"Content-Type\": \"text/plain\",\n",
    "\t\"Accept-Encoding\": \"identity\",\n",
    "\t\"X-RapidAPI-Key\": API,\n",
    "\t\"X-RapidAPI-Host\": \"ginger4.p.rapidapi.com\"\n",
    "}\n",
    "\n",
    "response = requests.post(url, data=mytext, headers=headers, params=querystring)\n",
    "print(response.json())"
   ]
  },
  {
   "cell_type": "markdown",
   "id": "0778f2bd-6231-4966-a901-ebe7fd2972b1",
   "metadata": {},
   "source": [
    "pyaspeller\n",
    "pyaspeller is a python library to correct spelling mistakes but is unable to correct grammar. You can install this library by using the command pip install pyaspeller."
   ]
  },
  {
   "cell_type": "code",
   "execution_count": null,
   "id": "34d26e46-c0eb-462c-ac8f-07ef9225086a",
   "metadata": {},
   "outputs": [],
   "source": [
    "from pyaspeller import YandexSpeller\n",
    "def error_correct_pyspeller(sample_text):\n",
    "    speller = YandexSpeller()\n",
    "    fixed = speller.spelled(sample_text)\n",
    "    return fixed\n",
    "\n",
    "mytext = \"\"\"I is testng grammar tool using python. It does not costt anythng.\"\"\"\n",
    "output_text = error_correct_pyspeller(mytext)\n",
    "print(output_text)"
   ]
  }
 ],
 "metadata": {
  "kernelspec": {
   "display_name": "Python 3 (ipykernel)",
   "language": "python",
   "name": "python3"
  },
  "language_info": {
   "codemirror_mode": {
    "name": "ipython",
    "version": 3
   },
   "file_extension": ".py",
   "mimetype": "text/x-python",
   "name": "python",
   "nbconvert_exporter": "python",
   "pygments_lexer": "ipython3",
   "version": "3.11.5"
  }
 },
 "nbformat": 4,
 "nbformat_minor": 5
}
