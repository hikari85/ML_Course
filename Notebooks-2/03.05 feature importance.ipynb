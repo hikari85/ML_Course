{
 "cells": [
  {
   "cell_type": "markdown",
   "id": "29fef93d-6c75-4514-91b2-a4207bbcc58d",
   "metadata": {},
   "source": [
    "#### Feature Importance   \n",
    "\n",
    "Assign scores to input features to a predictive model (regression and classification)   \n",
    "that indicates the relative importance of each feature when making a prediction.   \n",
    "\n",
    "The relative scores can highlight the most and least relevant features.  \n",
    "Domain experts can interpret the results and gather more or different data.  \n",
    "\n",
    "Feature importance scores can be fed to a wrapper model, such as the SelectFromModel class, to perform feature selection.\n",
    "\n",
    "- Feature importance from model coefficients.\n",
    "- Feature importance from decision trees.\n",
    "- Feature importance from permutation testing."
   ]
  },
  {
   "cell_type": "markdown",
   "id": "8ae2e3ac-5242-4a11-a02b-081bcb376691",
   "metadata": {},
   "source": [
    "##### Generate `make_classification` dataset    "
   ]
  },
  {
   "cell_type": "code",
   "execution_count": 1,
   "id": "33c3c2b4-4c4f-4e98-af6f-e6e366a859a9",
   "metadata": {
    "tags": []
   },
   "outputs": [
    {
     "name": "stdout",
     "output_type": "stream",
     "text": [
      "(1000, 10) (1000,)\n"
     ]
    }
   ],
   "source": [
    "from sklearn.datasets import make_classification\n",
    "X, y = make_classification(n_samples=1000, n_features=10, n_informative=5, n_redundant=5, random_state=1)\n",
    "print(X.shape, y.shape)"
   ]
  },
  {
   "cell_type": "markdown",
   "id": "2e082ac0-455c-47ba-a616-2ca81ea9923b",
   "metadata": {},
   "source": [
    "##### Generate `make_regression` dataset   "
   ]
  },
  {
   "cell_type": "code",
   "execution_count": 2,
   "id": "8464a18e-817a-473f-ac6e-6c544b9aeb4f",
   "metadata": {
    "tags": []
   },
   "outputs": [
    {
     "name": "stdout",
     "output_type": "stream",
     "text": [
      "(1000, 10) (1000,)\n"
     ]
    }
   ],
   "source": [
    "from sklearn.datasets import make_regression\n",
    "X, y = make_regression(n_samples=1000, n_features=10, n_informative=5, random_state=1)\n",
    "print(X.shape, y.shape)"
   ]
  },
  {
   "cell_type": "markdown",
   "id": "9b0a5f49-437d-41b5-bc7b-11ec0e4ae897",
   "metadata": {},
   "source": [
    "#### Linear regression feature importance   \n",
    "Prediction is a weighted sum of the input values.   \n",
    "Linear regression coefficients for feature importance:  "
   ]
  },
  {
   "cell_type": "code",
   "execution_count": 4,
   "id": "74a05925-d330-4364-ac89-2130c66ee23c",
   "metadata": {
    "tags": []
   },
   "outputs": [
    {
     "name": "stdout",
     "output_type": "stream",
     "text": [
      "Feature  Importance Score\n",
      "0       34.06980\n",
      "1       12.44483\n",
      "2       -0.00000\n",
      "3       76.55852\n",
      "4       93.32225\n",
      "5       86.50811\n",
      "6       26.74607\n",
      "7       3.28535\n",
      "8       -0.00000\n",
      "9       -0.00000\n"
     ]
    },
    {
     "data": {
      "image/png": "[encoded data removed]",
      "text/plain": [
       "<Figure size 300x200 with 1 Axes>"
      ]
     },
     "metadata": {},
     "output_type": "display_data"
    }
   ],
   "source": [
    "from sklearn.datasets import make_regression\n",
    "from sklearn.linear_model import LinearRegression\n",
    "import matplotlib.pyplot as plt\n",
    "\n",
    "X, y = make_regression(n_samples=1000, n_features=10, n_informative=7, random_state=1)\n",
    "\n",
    "model = LinearRegression()\n",
    "model.fit(X, y)\n",
    "importance = model.coef_\n",
    "\n",
    "print(\"Feature  Importance Score\")\n",
    "for i,v in enumerate(importance):\n",
    "    print(f'{i}       {v:.5f}')\n",
    "\n",
    "plt.figure(figsize=(3,2))\n",
    "plt.bar([x for x in range(len(importance))], importance);\n"
   ]
  },
  {
   "cell_type": "markdown",
   "id": "a4aafdfe-a8f5-427f-91a8-aff7485da94c",
   "metadata": {},
   "source": [
    "The model found the five important features and marked all other features with a zero coefficient,  \n",
    "essentially removing them from the model."
   ]
  },
  {
   "cell_type": "markdown",
   "id": "47c20e22-33c9-4a9f-8921-fae2381bdbfb",
   "metadata": {},
   "source": [
    "#### Decision Tree Feature Importance   \n",
    "CART offer importance scores based on the reduction in the criterion used to select split points, like Gini or entropy.\n",
    "\n",
    "This same approach can be used for ensembles of decision trees, such as the random forest and stochastic gradient boosting algorithms.\n",
    "\n",
    "After being `fit()`, the model provides a `feature_importances_` property that can be accessed to retrieve the relative importance scores for each input feature.\n"
   ]
  },
  {
   "cell_type": "markdown",
   "id": "d627bc59-f7d4-402a-aa7e-6da8e6e4403d",
   "metadata": {},
   "source": [
    "#### decision tree for feature importance on a regression problem"
   ]
  },
  {
   "cell_type": "code",
   "execution_count": 5,
   "id": "47ca717c-cf2d-4e94-8f09-c62c162a1611",
   "metadata": {
    "tags": []
   },
   "outputs": [
    {
     "name": "stdout",
     "output_type": "stream",
     "text": [
      "Feature  Importance Score\n",
      "0       0.00258\n",
      "1       0.00422\n",
      "2       0.00211\n",
      "3       0.00175\n",
      "4       0.51749\n",
      "5       0.43781\n",
      "6       0.02741\n",
      "7       0.00280\n",
      "8       0.00291\n",
      "9       0.00092\n"
     ]
    },
    {
     "data": {
      "image/png": "[encoded data removed]",
      "text/plain": [
       "<Figure size 300x200 with 1 Axes>"
      ]
     },
     "metadata": {},
     "output_type": "display_data"
    }
   ],
   "source": [
    "from sklearn.datasets import make_regression\n",
    "from sklearn.tree import DecisionTreeRegressor\n",
    "from matplotlib import pyplot\n",
    "\n",
    "X, y = make_regression(n_samples=1000, n_features=10, n_informative=5, random_state=1)\n",
    "model = DecisionTreeRegressor()\n",
    "model.fit(X, y)\n",
    "\n",
    "importance = model.feature_importances_\n",
    "\n",
    "print(\"Feature  Importance Score\")\n",
    "for i,v in enumerate(importance):\n",
    "    print(f'{i}       {v:.5f}')\n",
    "\n",
    "plt.figure(figsize=(3,2))\n",
    "pyplot.bar([x for x in range(len(importance))], importance);\n"
   ]
  },
  {
   "cell_type": "markdown",
   "id": "2369451e-126e-49b6-82eb-d19128252dc2",
   "metadata": {},
   "source": [
    "#### Check Feature Importance in CART   \n",
    "Predict sex using features: height, weight, shoe size, shoulder, and waist measurements   \n"
   ]
  },
  {
   "cell_type": "code",
   "execution_count": 6,
   "id": "a5e7a0f5-70ef-48ae-ab8c-190755aefc41",
   "metadata": {
    "tags": []
   },
   "outputs": [],
   "source": [
    "import pandas as pd"
   ]
  },
  {
   "cell_type": "code",
   "execution_count": 7,
   "id": "31de65ed-3e29-41d1-a58c-7b9e4ea5bfe2",
   "metadata": {
    "tags": []
   },
   "outputs": [
    {
     "data": {
      "text/html": [
       "<div>\n",
       "<style scoped>\n",
       "    .dataframe tbody tr th:only-of-type {\n",
       "        vertical-align: middle;\n",
       "    }\n",
       "\n",
       "    .dataframe tbody tr th {\n",
       "        vertical-align: top;\n",
       "    }\n",
       "\n",
       "    .dataframe thead th {\n",
       "        text-align: right;\n",
       "    }\n",
       "</style>\n",
       "<table border=\"1\" class=\"dataframe\">\n",
       "  <thead>\n",
       "    <tr style=\"text-align: right;\">\n",
       "      <th></th>\n",
       "      <th>Height_cm</th>\n",
       "      <th>Weight_Kg</th>\n",
       "      <th>Shoe_Size</th>\n",
       "      <th>Shoulder_cm</th>\n",
       "      <th>Waist_cm</th>\n",
       "      <th>isMale</th>\n",
       "    </tr>\n",
       "  </thead>\n",
       "  <tbody>\n",
       "    <tr>\n",
       "      <th>0</th>\n",
       "      <td>183.0</td>\n",
       "      <td>78.0</td>\n",
       "      <td>9.0</td>\n",
       "      <td>42.0</td>\n",
       "      <td>81.00</td>\n",
       "      <td>1</td>\n",
       "    </tr>\n",
       "    <tr>\n",
       "      <th>1</th>\n",
       "      <td>173.0</td>\n",
       "      <td>62.0</td>\n",
       "      <td>10.0</td>\n",
       "      <td>41.5</td>\n",
       "      <td>88.50</td>\n",
       "      <td>1</td>\n",
       "    </tr>\n",
       "    <tr>\n",
       "      <th>5</th>\n",
       "      <td>171.8</td>\n",
       "      <td>81.0</td>\n",
       "      <td>9.0</td>\n",
       "      <td>48.0</td>\n",
       "      <td>100.00</td>\n",
       "      <td>1</td>\n",
       "    </tr>\n",
       "    <tr>\n",
       "      <th>8</th>\n",
       "      <td>162.0</td>\n",
       "      <td>50.0</td>\n",
       "      <td>6.0</td>\n",
       "      <td>40.0</td>\n",
       "      <td>86.00</td>\n",
       "      <td>0</td>\n",
       "    </tr>\n",
       "    <tr>\n",
       "      <th>11</th>\n",
       "      <td>168.0</td>\n",
       "      <td>69.0</td>\n",
       "      <td>9.0</td>\n",
       "      <td>42.0</td>\n",
       "      <td>91.44</td>\n",
       "      <td>1</td>\n",
       "    </tr>\n",
       "  </tbody>\n",
       "</table>\n",
       "</div>"
      ],
      "text/plain": [
       "    Height_cm  Weight_Kg  Shoe_Size  Shoulder_cm  Waist_cm  isMale\n",
       "0       183.0       78.0        9.0         42.0     81.00       1\n",
       "1       173.0       62.0       10.0         41.5     88.50       1\n",
       "5       171.8       81.0        9.0         48.0    100.00       1\n",
       "8       162.0       50.0        6.0         40.0     86.00       0\n",
       "11      168.0       69.0        9.0         42.0     91.44       1"
      ]
     },
     "execution_count": 7,
     "metadata": {},
     "output_type": "execute_result"
    }
   ],
   "source": [
    "def is_male(sex):\n",
    "    if sex == 'MALE':\n",
    "        return 1\n",
    "    else:\n",
    "        return 0\n",
    "\n",
    "df = pd.read_excel('../Data/BSc23_Student_Data.xlsx')\n",
    "df = df.dropna()\n",
    "df['isMale'] = df.Sex.apply(is_male)\n",
    "df = df[['Height_cm', 'Weight_Kg', 'Shoe_Size', 'Shoulder_cm', 'Waist_cm', 'isMale']]\n",
    "df.head()"
   ]
  },
  {
   "cell_type": "code",
   "execution_count": 8,
   "id": "3be411e6-5833-4484-af4a-3f956993b4ca",
   "metadata": {
    "tags": []
   },
   "outputs": [
    {
     "name": "stdout",
     "output_type": "stream",
     "text": [
      "Feature  Importance Score\n",
      "0       0.62964\n",
      "1       0.13701\n",
      "2       0.05863\n",
      "3       0.05667\n",
      "4       0.11806\n"
     ]
    },
    {
     "data": {
      "image/png": "[encoded data removed]",
      "text/plain": [
       "<Figure size 300x200 with 1 Axes>"
      ]
     },
     "metadata": {},
     "output_type": "display_data"
    }
   ],
   "source": [
    "X_train = df[['Height_cm', 'Weight_Kg', 'Shoe_Size', 'Shoulder_cm', 'Waist_cm']].values\n",
    "y_train = df['isMale'].values\n",
    "\n",
    "model = DecisionTreeRegressor()\n",
    "model.fit(X_train, y_train)\n",
    "\n",
    "importance = model.feature_importances_\n",
    "\n",
    "print(\"Feature  Importance Score\")\n",
    "for i,v in enumerate(importance):\n",
    "    print(f'{i}       {v:.5f}')\n",
    "\n",
    "plt.figure(figsize=(3,2))\n",
    "pyplot.bar([x for x in range(len(importance))], importance, alpha=0.6);\n"
   ]
  },
  {
   "cell_type": "markdown",
   "id": "a9453a86-e46d-4d6a-af8e-4cbe4b2a40fa",
   "metadata": {},
   "source": [
    "- The above values and chart show that height is the most important factor in predicting the sex of a person.  \n",
    "- Feature importance can be measured for other linear models as well.  "
   ]
  },
  {
   "cell_type": "markdown",
   "id": "955ead42-e602-4d72-ab82-d5e61bbe3996",
   "metadata": {},
   "source": [
    "#### Task   \n",
    "ANSUR data has many body measurements of males and females.  \n",
    "Take the numerical value columns and check feature importance in predicting the sex of the person.  "
   ]
  }
 ],
 "metadata": {
  "kernelspec": {
   "display_name": "Python 3 (ipykernel)",
   "language": "python",
   "name": "python3"
  },
  "language_info": {
   "codemirror_mode": {
    "name": "ipython",
    "version": 3
   },
   "file_extension": ".py",
   "mimetype": "text/x-python",
   "name": "python",
   "nbconvert_exporter": "python",
   "pygments_lexer": "ipython3",
   "version": "3.11.5"
  }
 },
 "nbformat": 4,
 "nbformat_minor": 5
}
