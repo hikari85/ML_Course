{
 "cells": [
  {
   "cell_type": "markdown",
   "id": "91554f472ad584c1",
   "metadata": {},
   "source": [
    "#### Under-, Over-, and Optimal Fit   \n",
    "\n",
    "![](../Figures/under_over_fit.PNG)   "
   ]
  },
  {
   "cell_type": "markdown",
   "id": "6e9dd64e-a789-4ca2-8c17-018aceceafee",
   "metadata": {},
   "source": [
    "1. Historical bias, which arises from the world, in the data generation phase;\n",
    "2. Representation bias, which comes about when we take samples of data from the world;\n",
    "3. Measurement bias, where the metrics we use or the data we collect might not reflect what we actually want to measure;\n",
    "4. Aggregation bias, where we apply the same approach to our whole data set, even though there are subsets which need to be treated differently;\n",
    "5. Learning bias, where the ways we have defined our models cause systematic errors;\n",
    "6. Evaluation bias, where we ‘grade’ our models’ performances on data which does not actually reflect the population we want to use the models on, and finally;\n",
    "7. Deployment bias, where the model is not used in the way the developers intended for it to be used."
   ]
  }
 ],
 "metadata": {
  "kernelspec": {
   "display_name": "Python 3 (ipykernel)",
   "language": "python",
   "name": "python3"
  },
  "language_info": {
   "codemirror_mode": {
    "name": "ipython",
    "version": 3
   },
   "file_extension": ".py",
   "mimetype": "text/x-python",
   "name": "python",
   "nbconvert_exporter": "python",
   "pygments_lexer": "ipython3",
   "version": "3.11.5"
  }
 },
 "nbformat": 4,
 "nbformat_minor": 5
}
