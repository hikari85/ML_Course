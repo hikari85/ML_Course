{
 "cells": [
  {
   "cell_type": "markdown",
   "id": "6fe0f6fbb6561fbd",
   "metadata": {},
   "source": [
    "##### Sentence Classes:      \n",
    "1. Declarative   \n",
    "2. Imperative   \n",
    "3. Interrogative   \n",
    "4. Exclamatory   \n",
    "\n",
    "##### Parts of speech (POS) in English:    \n",
    "nouns, pronouns, verbs, adverbs, adjectives, prepositions, conjunctions, and articles."
   ]
  }
 ],
 "metadata": {
  "kernelspec": {
   "display_name": "Python 3 (ipykernel)",
   "language": "python",
   "name": "python3"
  },
  "language_info": {
   "codemirror_mode": {
    "name": "ipython",
    "version": 3
   },
   "file_extension": ".py",
   "mimetype": "text/x-python",
   "name": "python",
   "nbconvert_exporter": "python",
   "pygments_lexer": "ipython3",
   "version": "3.11.5"
  }
 },
 "nbformat": 4,
 "nbformat_minor": 5
}
