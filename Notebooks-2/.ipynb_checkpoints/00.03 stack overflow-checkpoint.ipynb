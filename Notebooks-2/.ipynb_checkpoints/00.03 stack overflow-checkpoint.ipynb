{
 "cells": [
  {
   "cell_type": "markdown",
   "id": "9b2b49f8-75ed-47ef-884d-dcbaaca34d80",
   "metadata": {},
   "source": [
    "[Bubble to burst?](https://www.kdnuggets.com/is-data-science-a-bubble-waiting-to-burst)   \n",
    "lower battery status of the cab requestor’s phone likely suggests an increased fare price.   "
   ]
  },
  {
   "cell_type": "markdown",
   "id": "8141854b5f7c7462",
   "metadata": {},
   "source": [
    "##### 16 Apr 2024    \n",
    "**Assignment**   \n",
    "1. Do not copy irrelevant code into your solutions. Do essential minimum.    \n",
    "2. Most of you do not write adequate documentation. Briefly state the purpose of all **important steps** and comment on the results. Summarise at the end or at important stages.    \n",
    "\n",
    "Imoprtant Steps in ML:   \n",
    "1. Data collection and integration  \n",
    "2. Data analysis, which mostly includes visualisation  \n",
    "3. Prepare data: check correlations, clean the data, scale if needed, select features  \n",
    "4. Select a model and train  \n",
    "5. Model evaluation and parameter tuning  \n",
    "6. Prediction  \n",
    "\n",
    "**Progress of your projects?**    "
   ]
  },
  {
   "cell_type": "markdown",
   "id": "31ffde6677805e69",
   "metadata": {},
   "source": [
    "#### [Observability](https://mattklein123.dev/2024/04/03/observability-cost-crisis/?utm_source=tldrnewsletter)   \n",
    "Organizations are frustrated with the percentage of infrastructure spend (sometimes > 25%!) allocated towards logging, metrics, and traces, and are struggling to understand how much of this data is actually utilized.   \n",
    "\n",
    "Some innovative work:\n",
    "1. More efficient databases using columnar techniques and cloud blob storage as the primary persistence tier.   \n",
    "2. Data filtering, transformation, and aggregation closer to the point of origin, thus producing less data to store.  \n",
    "3. Using generative AI and ML models to automate useful collection and filtering of data USEFUL to end users.\n",
    "\n",
    "#### history of modern observability   \n",
    "The origin of modern distributed systems observability can be traced to the 90s with the creation of the first major internet services such as Yahoo!, Amazon, and Google. The big difference with these systems versus what came before was both the complexity of the underlying distributed architecture as well as the expectation of 24/7 high reliability operation.\n",
    "\n",
    "1. Systems to collect application logs, ship them to a central location, and make them searchable.  \n",
    "2. Systems to collect application metrics (time series data), ship them to a central location, make them queryable, and display them in charts.  \n",
    "3. Systems to alert on anomalous predefined conditions (often expressed as time series data queries).   \n",
    "\n",
    "During the 00s as the internet and large scale distributed systems proliferated, other organizations such as Facebook, Twitter, Uber, etc. had to solve the same set of basic observability and monitoring problems, and developed similar parallel systems. The late 00s brought AWS and the beginning of the cloud era, and along with it came a new cohort of infrastructure software providers, a portion of which operated in the APM/observability/monitoring space, including pioneers like Splunk, New Relic, AppDynamics, and Datadog. Organizations implementing large internet systems found themselves no longer needing to reimplement basic observability primitives and could focus on other more urgent business concerns.\n",
    "\n",
    "The 10s brought two major changes that directly lead to the observability cost crisis covered in the following section:\n",
    "\n",
    "The rise of microservices and complex cloud architectures massively boosted the need for in-depth observability: microservices are inherently very difficult to implement and debug. Without very detailed observability tooling it is difficult to understand failures in these systems and root cause them in a reasonable timeframe.   \n",
    "\n",
    "The ZIRP era produced an army of large and fast growing internet companies that all ultimately converged on complex and hard to maintain microservice architectures. By nature of the economics of the decade, these companies largely were not concerned with making money, only growing as fast as possible. Monumental infrastructure costs were the norm with relatively little concern given to cost reduction.   \n",
    "\n",
    "Another important innovation of the 10s was the commoditization of infrastructure building blocks via open source and open protocols. Prometheus, OpenCensus, OpenTracing, OpenTelemetry, Elasticsearch/Kibana, and Grafana were all introduced during this time period. As it became easier and easier to build large scale distributed systems via IaaS, PaaS, CaaS, and FaaS, the amount of telemetry emitted both by default from underlying systems and directly by engineers, and without regard to cost, increased exponentially.\n"
   ]
  },
  {
   "cell_type": "code",
   "execution_count": 1,
   "id": "76f9e0ac3c9e4017",
   "metadata": {
    "ExecuteTime": {
     "end_time": "2024-03-23T23:36:20.956273800Z",
     "start_time": "2024-03-23T23:36:20.927315Z"
    },
    "collapsed": false,
    "jupyter": {
     "outputs_hidden": false
    }
   },
   "outputs": [
    {
     "data": {
      "text/html": [
       "<video src=\"../Videos/Real-Time AI Translation.mp4\" controls  width=\"400\" >\n",
       "      Your browser does not support the <code>video</code> element.\n",
       "    </video>"
      ],
      "text/plain": [
       "<IPython.core.display.Video object>"
      ]
     },
     "execution_count": 1,
     "metadata": {},
     "output_type": "execute_result"
    }
   ],
   "source": [
    "from IPython.display import Video\n",
    "Video(\"../Videos/Real-Time AI Translation.mp4\", width=400)"
   ]
  }
 ],
 "metadata": {
  "kernelspec": {
   "display_name": "Python 3 (ipykernel)",
   "language": "python",
   "name": "python3"
  },
  "language_info": {
   "codemirror_mode": {
    "name": "ipython",
    "version": 3
   },
   "file_extension": ".py",
   "mimetype": "text/x-python",
   "name": "python",
   "nbconvert_exporter": "python",
   "pygments_lexer": "ipython3",
   "version": "3.11.5"
  }
 },
 "nbformat": 4,
 "nbformat_minor": 5
}
