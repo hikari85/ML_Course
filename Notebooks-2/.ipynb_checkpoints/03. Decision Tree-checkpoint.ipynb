{
 "cells": [
  {
   "cell_type": "markdown",
   "id": "503ea2e22945458f",
   "metadata": {},
   "source": [
    "#### Decision Tree"
   ]
  },
  {
   "cell_type": "markdown",
   "id": "b199595160aeb66e",
   "metadata": {},
   "source": [
    "CO3: Perform model evaluation using cross-validation, confusion matrix, classification report and area under curve for Decision Tree in specific domains\t\t\t\t\t\t\t\t6 Hours   \n",
    "1. Decision tree, \n",
    "2. Random forest, \n",
    "3. Model evaluation metrics:  \n",
    "    - confusion matrix, \n",
    "    - accuracy, \n",
    "    - precision, \n",
    "    - recall, \n",
    "    - F1-Score, \n",
    "    - cross validation, \n",
    "    - Area under curve, \n",
    "    - Gradient Boosting.\n"
   ]
  },
  {
   "cell_type": "markdown",
   "id": "a6497eb11be0136",
   "metadata": {},
   "source": [
    "```\n",
    "    If Height > 180 cm Then Male\n",
    "    If Height <= 180 cm AND Weight > 80 kg Then Male\n",
    "    If Height <= 180 cm AND Weight <= 80 kg Then Female\n",
    "    Make Predictions With CART Models\n",
    "```"
   ]
  },
  {
   "cell_type": "markdown",
   "id": "e25e09089fcf1fab",
   "metadata": {},
   "source": [
    "#### Learn a Classification and Regression Tree (CART)     \n",
    "Creating a binary decision tree is a process of dividing up the input space by recursive binary splitting.  \n",
    "At a node, different split points are tried and tested using a cost function.  \n",
    "The split with the lowest cost is selected.   \n",
    "\n",
    "For **regression** predictive modeling, loss = $\\sum(y_i - \\hat{y_i})^2$\n",
    "\n",
    "For **classifiation**, Gini cost function $G = \\sum p_k . (1 - p_k)$ \n",
    " \n",
    "A node that has all classes of the same type (perfect class purity) will have G = 0,  \n",
    "whereas a G that has a 50-50 split of classes for a binary classfication problem (worst purity) will have a G = 0:5.  \n",
    "\n",
    "#### Stopping Criterion   \n",
    "The recursive binary splitting procedure needs to know when to stop splitting.  \n",
    "The most common stopping procedure is to use a minimum count on the number of training instances assigned to each leaf node. If the count is less than some minimum then the split is not accepted and the node is taken as a final leaf node.  "
   ]
  },
  {
   "cell_type": "code",
   "execution_count": 4,
   "id": "cdf43ba8cd0b75cd",
   "metadata": {
    "collapsed": false,
    "jupyter": {
     "outputs_hidden": false
    },
    "tags": []
   },
   "outputs": [],
   "source": [
    "import pandas as pd\n",
    "import seaborn as sns"
   ]
  },
  {
   "cell_type": "markdown",
   "id": "78af11575fe8893c",
   "metadata": {},
   "source": [
    "#### Gini Index    "
   ]
  },
  {
   "cell_type": "code",
   "execution_count": 3,
   "id": "dc28c3ba5c5052eb",
   "metadata": {
    "collapsed": false,
    "jupyter": {
     "outputs_hidden": false
    },
    "tags": []
   },
   "outputs": [
    {
     "data": {
      "text/html": [
       "<div>\n",
       "<style scoped>\n",
       "    .dataframe tbody tr th:only-of-type {\n",
       "        vertical-align: middle;\n",
       "    }\n",
       "\n",
       "    .dataframe tbody tr th {\n",
       "        vertical-align: top;\n",
       "    }\n",
       "\n",
       "    .dataframe thead th {\n",
       "        text-align: right;\n",
       "    }\n",
       "</style>\n",
       "<table border=\"1\" class=\"dataframe\">\n",
       "  <thead>\n",
       "    <tr style=\"text-align: right;\">\n",
       "      <th></th>\n",
       "      <th>X1</th>\n",
       "      <th>X2</th>\n",
       "      <th>Y</th>\n",
       "    </tr>\n",
       "  </thead>\n",
       "  <tbody>\n",
       "    <tr>\n",
       "      <th>0</th>\n",
       "      <td>2.771245</td>\n",
       "      <td>1.784784</td>\n",
       "      <td>0</td>\n",
       "    </tr>\n",
       "    <tr>\n",
       "      <th>1</th>\n",
       "      <td>1.728571</td>\n",
       "      <td>1.169761</td>\n",
       "      <td>0</td>\n",
       "    </tr>\n",
       "    <tr>\n",
       "      <th>2</th>\n",
       "      <td>3.678320</td>\n",
       "      <td>2.812814</td>\n",
       "      <td>0</td>\n",
       "    </tr>\n",
       "    <tr>\n",
       "      <th>3</th>\n",
       "      <td>3.961043</td>\n",
       "      <td>2.619950</td>\n",
       "      <td>0</td>\n",
       "    </tr>\n",
       "    <tr>\n",
       "      <th>4</th>\n",
       "      <td>2.999209</td>\n",
       "      <td>2.209014</td>\n",
       "      <td>0</td>\n",
       "    </tr>\n",
       "    <tr>\n",
       "      <th>5</th>\n",
       "      <td>7.497546</td>\n",
       "      <td>3.162954</td>\n",
       "      <td>1</td>\n",
       "    </tr>\n",
       "    <tr>\n",
       "      <th>6</th>\n",
       "      <td>9.002203</td>\n",
       "      <td>3.339047</td>\n",
       "      <td>1</td>\n",
       "    </tr>\n",
       "    <tr>\n",
       "      <th>7</th>\n",
       "      <td>7.444542</td>\n",
       "      <td>0.476683</td>\n",
       "      <td>1</td>\n",
       "    </tr>\n",
       "    <tr>\n",
       "      <th>8</th>\n",
       "      <td>10.124939</td>\n",
       "      <td>3.234551</td>\n",
       "      <td>1</td>\n",
       "    </tr>\n",
       "    <tr>\n",
       "      <th>9</th>\n",
       "      <td>6.642287</td>\n",
       "      <td>3.319984</td>\n",
       "      <td>1</td>\n",
       "    </tr>\n",
       "  </tbody>\n",
       "</table>\n",
       "</div>"
      ],
      "text/plain": [
       "          X1        X2  Y\n",
       "0   2.771245  1.784784  0\n",
       "1   1.728571  1.169761  0\n",
       "2   3.678320  2.812814  0\n",
       "3   3.961043  2.619950  0\n",
       "4   2.999209  2.209014  0\n",
       "5   7.497546  3.162954  1\n",
       "6   9.002203  3.339047  1\n",
       "7   7.444542  0.476683  1\n",
       "8  10.124939  3.234551  1\n",
       "9   6.642287  3.319984  1"
      ]
     },
     "execution_count": 3,
     "metadata": {},
     "output_type": "execute_result"
    }
   ],
   "source": [
    "data = [[2.771244718, 1.784783929, 0],\n",
    "         [1.728571309, 1.169761413, 0],\n",
    "         [3.678319846, 2.81281357, 0],\n",
    "         [3.961043357, 2.61995032, 0],\n",
    "         [2.999208922, 2.209014212, 0],\n",
    "         [7.497545867, 3.162953546, 1],\n",
    "         [9.00220326, 3.339047188, 1],\n",
    "         [7.444542326, 0.476683375, 1],\n",
    "         [10.12493903, 3.234550982, 1],\n",
    "         [6.642287351, 3.319983761, 1]]\n",
    "\n",
    "df = pd.DataFrame(data, columns=['X1', 'X2', 'Y'])\n",
    "df"
   ]
  },
  {
   "cell_type": "code",
   "execution_count": 9,
   "id": "1f7751c9-1205-471a-94db-bc0ef441f58a",
   "metadata": {
    "tags": []
   },
   "outputs": [
    {
     "data": {
      "image/png": "[encoded data removed]",
      "text/plain": [
       "<Figure size 640x480 with 1 Axes>"
      ]
     },
     "metadata": {},
     "output_type": "display_data"
    }
   ],
   "source": [
    "sns.scatterplot(data = df, x = 'X1', y = 'X2', hue = df.Y);"
   ]
  },
  {
   "cell_type": "markdown",
   "id": "1efce4f25fea38ba",
   "metadata": {},
   "source": [
    "#### Learning a CART Model   \n",
    "The CART model is learned by looking for split points in the data.  \n",
    "A split point is a single value of a single attribute, e.g. the first value of the X1 attribute 2.771244718.  \n",
    "Partitioning data at a split point involves separating all data at that node into two groups, left of the split point and right of the split point. If we are working on the first split point in the tree, then all of the dataset is affected. If we are working on say a split point one level deep, then only the data that has filtered down the tree from nodes above and is sitting at that node is affected by the split point.   \n",
    "We are not concerned with what the class value is of the chosen split point. We only care\n",
    "about the composition of the data assigned to the LEFT and to the RIGHT child nodes of the\n",
    "split point. A cost function is used to evaluate the mix of classes of training data assigned to each side of the split. "
   ]
  },
  {
   "cell_type": "markdown",
   "id": "c6a1f7c6-3701-4b41-8431-49a18c2ef77e",
   "metadata": {},
   "source": [
    "#### Classifiers   \n",
    "1. Decision Tree   \n",
    "2. Random Forest   \n",
    "3. K Nearest Neighbour   \n",
    "4. Logistic Regression  \n",
    "5. Support Vector Machine   \n",
    "6. Naive Bayes"
   ]
  }
 ],
 "metadata": {
  "kernelspec": {
   "display_name": "Python 3 (ipykernel)",
   "language": "python",
   "name": "python3"
  },
  "language_info": {
   "codemirror_mode": {
    "name": "ipython",
    "version": 3
   },
   "file_extension": ".py",
   "mimetype": "text/x-python",
   "name": "python",
   "nbconvert_exporter": "python",
   "pygments_lexer": "ipython3",
   "version": "3.11.5"
  }
 },
 "nbformat": 4,
 "nbformat_minor": 5
}
