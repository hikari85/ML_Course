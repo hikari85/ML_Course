{
 "cells": [
  {
   "cell_type": "markdown",
   "source": [
    "#### ResNet"
   ],
   "metadata": {
    "collapsed": false
   },
   "id": "fa05fa9cb0b5f960"
  },
  {
   "cell_type": "markdown",
   "source": [
    "CO6: Understand the building blocks of a classic CNN model (ResNet, VGG-18)\t\t3 Hours   \n",
    "1. ResNet : Residual connections,  \n",
    "2. ResNet model: variants, VGG-18.\n"
   ],
   "metadata": {
    "collapsed": false
   },
   "id": "ae96db194b95dd43"
  }
 ],
 "metadata": {
  "kernelspec": {
   "display_name": "Python 3",
   "language": "python",
   "name": "python3"
  },
  "language_info": {
   "codemirror_mode": {
    "name": "ipython",
    "version": 2
   },
   "file_extension": ".py",
   "mimetype": "text/x-python",
   "name": "python",
   "nbconvert_exporter": "python",
   "pygments_lexer": "ipython2",
   "version": "2.7.6"
  }
 },
 "nbformat": 4,
 "nbformat_minor": 5
}
