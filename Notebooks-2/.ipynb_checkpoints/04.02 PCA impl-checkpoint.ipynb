{
 "cells": [
  {
   "cell_type": "raw",
   "id": "6fb417a6-d92c-49fa-89f3-88ddb4ece8c5",
   "metadata": {
    "tags": []
   },
   "source": [
    "##### define the pipeline    \n",
    "steps = [('norm', MinMaxScaler()), ('pca', PCA()), ('m', LogisticRegression())]    \n",
    "model = Pipeline(steps=steps)    "
   ]
  },
  {
   "cell_type": "markdown",
   "id": "3aff90e1-be00-45e3-a25f-0e09da097a7c",
   "metadata": {},
   "source": [
    "##### Simulated PCA      \n",
    "PCA is an unsupervised method.   \n",
    "\n",
    "Reduce the dimensions on this dataset while fitting a logistic regression model.   \n",
    "\n",
    "We will use a Pipeline where the first step performs the PCA transform and selects the 10 most important dimensions or components, then fits a logistic regression model on these features. We don’t need to normalize the variables on this dataset, as all variables have the same scale by design.\n",
    "\n",
    "The pipeline will be evaluated using repeated stratified cross-validation with three repeats and 10 folds per repeat. Performance is presented as the mean classification accuracy."
   ]
  },
  {
   "cell_type": "code",
   "execution_count": 1,
   "id": "ab3d3e5d-4e4d-45bc-8fe9-e0aed093364b",
   "metadata": {
    "tags": []
   },
   "outputs": [],
   "source": [
    "from numpy import mean\n",
    "from numpy import std\n",
    "\n",
    "import matplotlib.pyplot as plt\n",
    "\n",
    "from sklearn.datasets import make_classification\n",
    "from sklearn.model_selection import cross_val_score\n",
    "from sklearn.model_selection import RepeatedStratifiedKFold\n",
    "from sklearn.pipeline import Pipeline\n",
    "from sklearn.decomposition import PCA\n",
    "from sklearn.linear_model import LogisticRegression\n"
   ]
  },
  {
   "cell_type": "code",
   "execution_count": 2,
   "id": "20a1019b-0951-4101-9711-d86813e6e9ce",
   "metadata": {
    "tags": []
   },
   "outputs": [
    {
     "name": "stdout",
     "output_type": "stream",
     "text": [
      "Accuracy Mean:      0.865\n",
      "Standard Deviation: 0.027\n"
     ]
    }
   ],
   "source": [
    "X, y = make_classification(n_samples=1000, n_features=20, n_informative=15, n_redundant=5, random_state=7)\n",
    "\n",
    "pca = PCA(n_components=10)\n",
    "model = LogisticRegression()\n",
    "model = model.fit(X, y)\n",
    "\n",
    "# Can use pipeline   \n",
    "# steps = [('pca', PCA(n_components=10)), ('m', LogisticRegression())]\n",
    "# model = Pipeline(steps=steps)\n",
    "\n",
    "cv = RepeatedStratifiedKFold(n_splits=10, n_repeats=3, random_state=1) # cv is crossvalidation  \n",
    "n_scores = cross_val_score(model, X, y, scoring='accuracy', cv=cv, n_jobs=-1, error_score='raise')\n",
    "\n",
    "print(f\"Accuracy Mean:      {mean(n_scores):.3f}\\nStandard Deviation: {std(n_scores):.3f}\") "
   ]
  },
  {
   "cell_type": "code",
   "execution_count": 3,
   "id": "53af891c-b7c8-4c08-a172-dcb1dc0fd731",
   "metadata": {
    "tags": []
   },
   "outputs": [
    {
     "name": "stdout",
     "output_type": "stream",
     "text": [
      "Mean Accuracy:      0.815\n",
      "Standard Deviation: 0.035\n"
     ]
    }
   ],
   "source": [
    "from numpy import mean\n",
    "from numpy import std\n",
    "from sklearn.datasets import make_classification\n",
    "from sklearn.model_selection import cross_val_score\n",
    "from sklearn.model_selection import RepeatedStratifiedKFold\n",
    "from sklearn.pipeline import Pipeline\n",
    "from sklearn.decomposition import PCA\n",
    "from sklearn.linear_model import LogisticRegression\n",
    "\n",
    "X, y = make_classification(n_samples=1000, n_features=20, n_informative=15, n_redundant=5, random_state=7)\n",
    "\n",
    "steps = [('pca', PCA(n_components=10)), ('m', LogisticRegression())]\n",
    "model = Pipeline(steps=steps)\n",
    "\n",
    "cv = RepeatedStratifiedKFold(n_splits=10, n_repeats=3, random_state=1)\n",
    "n_scores = cross_val_score(model, X, y, scoring='accuracy', cv=cv, n_jobs=-1, error_score='raise')\n",
    "\n",
    "print(f\"Mean Accuracy:      {mean(n_scores):.3f}\\nStandard Deviation: {std(n_scores):.3f}\") "
   ]
  },
  {
   "cell_type": "code",
   "execution_count": 4,
   "id": "7d738ad6-3de6-407e-82ff-1ddb6ca4926e",
   "metadata": {
    "tags": []
   },
   "outputs": [],
   "source": [
    "cols = 20\n",
    "\n",
    "def get_dataset():\n",
    "    X, y = make_classification(n_samples=1000, n_features=cols, n_informative=15, n_redundant=5, random_state=7)\n",
    "    return X, y\n",
    "\n",
    "# get a list of models to evaluate\n",
    "def get_models(cols):\n",
    "    models = dict()\n",
    "    for i in range(1,cols+1):\n",
    "        steps = [('pca', PCA(n_components=i)), ('m', LogisticRegression())]\n",
    "        models[str(i)] = Pipeline(steps=steps)\n",
    "    return models\n",
    " \n",
    "# evaluate a given model using cross-validation\n",
    "def evaluate_model(model, X, y):\n",
    "    cv = RepeatedStratifiedKFold(n_splits=10, n_repeats=3, random_state=1)\n",
    "    scores = cross_val_score(model, X, y, scoring='accuracy', cv=cv, n_jobs=-1, error_score='raise')\n",
    "    return scores\n",
    " \n",
    "X, y = get_dataset()\n",
    "models = get_models(cols)    "
   ]
  },
  {
   "cell_type": "code",
   "execution_count": 5,
   "id": "5ac0e2ed-115e-47ec-8584-56bbc3019a6d",
   "metadata": {
    "tags": []
   },
   "outputs": [
    {
     "name": "stdout",
     "output_type": "stream",
     "text": [
      "\n",
      "Accuracy Scores\n",
      "cols   mean   std\n",
      "1      0.542  0.048\n",
      "2      0.713  0.049\n",
      "3      0.720  0.053\n",
      "4      0.723  0.051\n",
      "5      0.725  0.052\n",
      "6      0.730  0.046\n",
      "7      0.805  0.036\n",
      "8      0.800  0.037\n",
      "9      0.814  0.036\n",
      "10     0.815  0.035\n",
      "11     0.819  0.035\n",
      "12     0.820  0.038\n",
      "13     0.819  0.035\n",
      "14     0.853  0.029\n",
      "15     0.865  0.027\n",
      "16     0.865  0.027\n",
      "17     0.865  0.027\n",
      "18     0.865  0.027\n",
      "19     0.865  0.027\n",
      "20     0.865  0.027\n"
     ]
    }
   ],
   "source": [
    "def eval_pca(X, y, cols):\n",
    "    results, names = list(), list()\n",
    "    print(\"\\nAccuracy Scores\\ncols   mean   std\")\n",
    "    for name, model in models.items():\n",
    "        scores = evaluate_model(model, X, y)\n",
    "        results.append(scores)\n",
    "        names.append(name)\n",
    "        print(f'{name:5}  {mean(scores):.3f}  {std(scores):.3f}') # % (name, mean(scores), std(scores)))\n",
    "    return results, names\n",
    "    \n",
    "results, names = eval_pca(X, y, cols);    "
   ]
  },
  {
   "cell_type": "code",
   "execution_count": 6,
   "id": "5cd62795-bc6a-49b5-a72d-519ad406383b",
   "metadata": {
    "tags": []
   },
   "outputs": [
    {
     "data": {
      "image/png": "[encoded data removed]",
      "text/plain": [
       "<Figure size 800x300 with 1 Axes>"
      ]
     },
     "metadata": {},
     "output_type": "display_data"
    }
   ],
   "source": [
    "def plot_box(results, names):\n",
    "    plt.figure(figsize=(8,3))\n",
    "    plt.boxplot(results, labels=names) #, showmeans=True)\n",
    "    plt.title(\"Effect of PCA\");\n",
    "    plt.ylabel(\"Model Accuracy\")\n",
    "    plt.xlabel(\"Number of Features\");\n",
    "    \n",
    "plot_box(results, names)    "
   ]
  },
  {
   "cell_type": "markdown",
   "id": "db99a6e5-d901-4abc-a033-b2a68fad2116",
   "metadata": {},
   "source": [
    "The parameter `n_informative=15` has caused flattening of accuracy score at 15   \n",
    "Try other values.  "
   ]
  },
  {
   "cell_type": "markdown",
   "id": "7781d378-2e3c-455d-9fb3-16257a953408",
   "metadata": {},
   "source": [
    "##### fitting and using a final model with PCA transforms on new data.   "
   ]
  },
  {
   "cell_type": "code",
   "execution_count": 7,
   "id": "6edd3733-e6c0-412c-b647-a1a1b1953770",
   "metadata": {
    "tags": []
   },
   "outputs": [
    {
     "name": "stdout",
     "output_type": "stream",
     "text": [
      "Predicted Class: 1\n"
     ]
    }
   ],
   "source": [
    "model.fit(X, y)\n",
    "row = [[0.2929949,-4.21223056,-1.288332,-2.17849815,-0.64527665,2.58097719,0.28422388,-7.1827928,-1.91211104,2.73729512,0.81395695,3.96973717,-2.66939799,3.34692332,4.19791821,0.99990998,-0.30201875,-4.43170633,-2.82646737,0.44916808]]\n",
    "yhat = model.predict(row)\n",
    "print('Predicted Class: %d' % yhat[0])"
   ]
  },
  {
   "cell_type": "code",
   "execution_count": 8,
   "id": "6e6ec2ee-3984-47c8-b99f-db1a4216fe89",
   "metadata": {
    "tags": []
   },
   "outputs": [],
   "source": [
    "clf = PCA(0.95)"
   ]
  },
  {
   "cell_type": "markdown",
   "id": "288b3d19-94de-47bb-b982-addc3be16a32",
   "metadata": {},
   "source": [
    "Thow away 5% of variance - may reduce the data by 50%   "
   ]
  },
  {
   "cell_type": "markdown",
   "id": "f928b947-2721-4cdd-acbe-933845f999ad",
   "metadata": {},
   "source": [
    "https://www.cliffsnotes.com/study-notes/5212247    "
   ]
  },
  {
   "cell_type": "markdown",
   "id": "eae77c91-9fbd-4a9b-96a3-8861cf32657c",
   "metadata": {},
   "source": [
    "#### PCA Students Data   "
   ]
  },
  {
   "cell_type": "code",
   "execution_count": 9,
   "id": "ea3af280-9b2b-4d66-b471-05b22cab41bc",
   "metadata": {
    "tags": []
   },
   "outputs": [
    {
     "name": "stdout",
     "output_type": "stream",
     "text": [
      "\n",
      "Accuracy Scores\n",
      "cols   mean   std\n",
      "1      0.734  0.095\n",
      "2      0.788  0.117\n",
      "3      0.855  0.111\n",
      "4      0.855  0.109\n",
      "5      0.881  0.093\n"
     ]
    }
   ],
   "source": [
    "import pandas as pd\n",
    "\n",
    "df = pd.read_excel('../Data/BSc23_Student_Data.xlsx')\n",
    "df = df.dropna()\n",
    "X = df[['Height_cm', 'Weight_Kg', 'Shoe_Size', 'Shoulder_cm',\n",
    "       'Waist_cm']].values\n",
    "y = df['Sex']\n",
    "\n",
    "cols = 5\n",
    "models = get_models(cols)\n",
    "\n",
    "results, names = eval_pca(X, y, cols);           "
   ]
  },
  {
   "cell_type": "code",
   "execution_count": 10,
   "id": "5a9c6ee2-92b2-45f3-9552-2441a56f7827",
   "metadata": {
    "tags": []
   },
   "outputs": [
    {
     "data": {
      "image/png": "[encoded data removed]",
      "text/plain": [
       "<Figure size 800x300 with 1 Axes>"
      ]
     },
     "metadata": {},
     "output_type": "display_data"
    }
   ],
   "source": [
    "plot_box(results, names)    "
   ]
  },
  {
   "cell_type": "code",
   "execution_count": null,
   "id": "9935dade-0f05-4dbb-a9fe-649f3c7028fc",
   "metadata": {},
   "outputs": [],
   "source": []
  },
  {
   "cell_type": "code",
   "execution_count": 13,
   "id": "796f77e8-36dc-4f36-af5b-d9eb264ddb33",
   "metadata": {
    "tags": []
   },
   "outputs": [
    {
     "data": {
      "text/plain": [
       "(1797, 64)"
      ]
     },
     "execution_count": 13,
     "metadata": {},
     "output_type": "execute_result"
    }
   ],
   "source": [
    "from sklearn.datasets import load_digits\n",
    "import numpy as np\n",
    "\n",
    "digits = load_digits()\n",
    "digits.data.shape"
   ]
  },
  {
   "cell_type": "code",
   "execution_count": 14,
   "id": "0ede6d1d-6cac-4837-a5d3-09ae3e6717e9",
   "metadata": {
    "tags": []
   },
   "outputs": [
    {
     "data": {
      "image/png": "[encoded data removed]",
      "text/plain": [
       "<Figure size 640x480 with 1 Axes>"
      ]
     },
     "metadata": {},
     "output_type": "display_data"
    }
   ],
   "source": [
    "pca = PCA().fit(digits.data)\n",
    "plt.plot(np.cumsum(pca.explained_variance_ratio_))\n",
    "plt.xlabel('number of components')\n",
    "plt.ylabel('cumulative explained variance');"
   ]
  },
  {
   "cell_type": "markdown",
   "id": "e0104b23-1f82-46da-9c32-e3cd01fc2d81",
   "metadata": {},
   "source": [
    "#### Task   \n",
    "Run PCA for \n",
    "1. Wisconsin Breast Cancer Dataset (WBCD).   \n",
    "2. Sonar data.  "
   ]
  }
 ],
 "metadata": {
  "kernelspec": {
   "display_name": "Python 3 (ipykernel)",
   "language": "python",
   "name": "python3"
  },
  "language_info": {
   "codemirror_mode": {
    "name": "ipython",
    "version": 3
   },
   "file_extension": ".py",
   "mimetype": "text/x-python",
   "name": "python",
   "nbconvert_exporter": "python",
   "pygments_lexer": "ipython3",
   "version": "3.11.5"
  }
 },
 "nbformat": 4,
 "nbformat_minor": 5
}
