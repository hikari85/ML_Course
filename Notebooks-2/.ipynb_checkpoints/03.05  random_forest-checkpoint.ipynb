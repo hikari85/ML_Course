{
 "cells": [
  {
   "cell_type": "markdown",
   "id": "7a33cce5-0743-4bc2-b54a-054fd7531588",
   "metadata": {},
   "source": [
    "### Ensemble Learning  \n",
    "Instead of trying to learn one super-accurate model,  \n",
    "train a large number of low-accuracy models  \n",
    "and then combine the predictions given by those weak models  \n",
    "to obtain a high-accuracy meta-model.  \n",
    "\n",
    "Low-accuracy models are usually learned by weak learners which cannot learn complex models,  \n",
    "and thus are typically fast at the training and prediction.  \n",
    "\n",
    "The most frequently used weak learner is a decision tree learning algorithm  \n",
    "in which we often stop splitting the training set after just a few iterations.  \n",
    "The obtained trees are shallow and not particularly accurate.  \n",
    "\n",
    "If the trees are not identical and each tree is at least slightly better than random guessing,  \n",
    "then we can obtain high accuracy by combining a large number of such trees.  \n",
    "\n",
    "To obtain the prediction for input x, \n",
    "the predictions of each weak model are combined using some sort of weighted voting.   \n",
    "The specific form of vote weighting depends on the algorithm, but the idea is the same.  \n",
    "\n",
    "E.g., if the council of weak models predicts that a message is spam, then we assign the label spam to x.  \n",
    "\n",
    "Two most widely used and effective ensemble learning algorithms are **random forest** and **gradient boosting**.  "
   ]
  },
  {
   "cell_type": "markdown",
   "id": "83cef876-8485-498f-b2c5-17b043f2f617",
   "metadata": {},
   "source": [
    "### Random Forest  \n",
    "There are two ensemble learning paradigms:  \n",
    "- bagging and  \n",
    "- boosting.   \n",
    "\n",
    "Bagging creates many copies of the training data, each slightly different from another,  \n",
    "and then apply the weak learner to each copy to obtain multiple weak models and then combine them.  \n",
    "Random forest uses bagging paradigm.    \n",
    "\n",
    "##### Bagging algorithm:   \n",
    "Given a training set, we create B random samples Sb (for each b = 1, . . . ,B) of the training set   \n",
    "and build a decision tree model fb using each sample Sb as the training set.  \n",
    "To sample Sb for some b, we do the <u>sampling with replacement</u>.  \n",
    "\n",
    "After training, we have B decision trees.  \n",
    "The prediction for a new example x is obtained as  \n",
    "- the average of B predictions in the case of regression,   \n",
    "- or by taking the majority vote in the case of classification.  \n",
    "\n",
    "The random forest algorithm uses a modified tree learning algorithm that  \n",
    "inspects a random subset of the features at each split in the learning process.  \n",
    "\n",
    "The most important hyperparameters to tune are the number of trees (B),   \n",
    "and the size of the **random subset of the features** to consider at each split.  \n",
    "\n",
    "Random forest is one of the most widely used ensemble learning algorithms.  \n",
    "By using multiple samples of the original dataset, we reduce the variance of the final model.  \n",
    "Low variance means low overfitting.   "
   ]
  },
  {
   "cell_type": "markdown",
   "id": "529a8adf-e8a7-4c7c-bfa1-3cf27dff7372",
   "metadata": {},
   "source": [
    "#### Number of Features in a Set   \n",
    "1. Classification model:  $m = \\sqrt{p}$\n",
    "1. Regression model:  $m = \\frac{p}{3}$\n",
    "\n",
    "#### OOB (Out of Bag) Samples   \n",
    "The samples not included in any of the training sets is in OOB set   \n",
    "which is used to estimate the model accuracy.   "
   ]
  },
  {
   "cell_type": "markdown",
   "id": "3de21090-cdfd-44cd-abeb-78c568b18b06",
   "metadata": {},
   "source": [
    "---"
   ]
  },
  {
   "cell_type": "markdown",
   "id": "903cae1b-692b-46bc-afc3-c20f30ec9442",
   "metadata": {},
   "source": [
    "##### Sampling without replacement   "
   ]
  },
  {
   "cell_type": "code",
   "execution_count": 1,
   "id": "c2b80b94-19b2-465e-b0a2-5a2f9cbe3918",
   "metadata": {
    "tags": []
   },
   "outputs": [],
   "source": [
    "from random import shuffle\n",
    "students = ['Aashita',  'Ashwitha',  'Bhavana',  'Charishma',  'Deepthi',  'Femi',  'Kauser',  \n",
    "            'Keerthana',  'Krishnaja',  'Kruthi',  'Meghana',  'Nithya',  'Ranjitha',  'Rohini',  \n",
    "            'Sayeeda',  'Shaziya',  'Sowmya',  'Spoorthy',  'Sufiya',  'Ujwala']\n",
    "shuffle(students)"
   ]
  },
  {
   "cell_type": "code",
   "execution_count": 5,
   "id": "5a374919-57c2-4688-bca1-8d585eae2bd7",
   "metadata": {
    "tags": []
   },
   "outputs": [
    {
     "name": "stdout",
     "output_type": "stream",
     "text": [
      "Sample:             Nithya\n",
      "Remaining Students: 16\n"
     ]
    }
   ],
   "source": [
    "print(f\"Sample:             {students.pop()}\\nRemaining Students: {len(students)}\")"
   ]
  },
  {
   "cell_type": "markdown",
   "id": "fc535c2b-1782-42a4-a454-8fdfa6576aaf",
   "metadata": {},
   "source": [
    "##### Sampling with replacement   "
   ]
  },
  {
   "cell_type": "code",
   "execution_count": 26,
   "id": "09f96724-a0ed-4d6f-8d1c-34bee29e3728",
   "metadata": {
    "tags": []
   },
   "outputs": [
    {
     "name": "stdout",
     "output_type": "stream",
     "text": [
      "Sample:             Krishnaja\n",
      "Remaining Students: 20\n"
     ]
    }
   ],
   "source": [
    "import random\n",
    "students = ['Aashita',  'Ashwitha',  'Bhavana',  'Charishma',  'Deepthi',  'Femi',  'Kauser',  \n",
    "            'Keerthana',  'Krishnaja',  'Kruthi',  'Meghana',  'Nithya',  'Ranjitha',  'Rohini',  \n",
    "            'Sayeeda',  'Shaziya',  'Sowmya',  'Spoorthy',  'Sufiya',  'Ujwala']\n",
    "\n",
    "print(f\"Sample:             {random.sample(students,1)[0]}\\nRemaining Students: {len(students)}\")"
   ]
  },
  {
   "cell_type": "markdown",
   "id": "5913969b-1606-4592-b011-5994cd037e0b",
   "metadata": {},
   "source": [
    "---"
   ]
  },
  {
   "cell_type": "markdown",
   "id": "f23315f9-7463-4522-a87f-0ab767112b9c",
   "metadata": {},
   "source": [
    "#### Random Forests algorithm for classification    \n",
    "1. Select random samples from a given dataset.\n",
    "2. Construct a decision tree for each sample and get a prediction result from each of them.\n",
    "3. Perform a vote for predicted results.\n",
    "4. Select the prediction result with the most votes as the final prediction."
   ]
  },
  {
   "cell_type": "code",
   "execution_count": 66,
   "id": "ed52d783-e58a-4a62-8f8f-faf06e862dbc",
   "metadata": {
    "tags": []
   },
   "outputs": [
    {
     "data": {
      "image/png": "[encoded data removed]",
      "text/plain": [
       "<IPython.core.display.Image object>"
      ]
     },
     "execution_count": 66,
     "metadata": {},
     "output_type": "execute_result"
    }
   ],
   "source": [
    "from IPython.display import Image\n",
    "Image('../Figures/random_forests.png')"
   ]
  },
  {
   "cell_type": "markdown",
   "id": "f0448639-100c-48eb-a70f-c6756df3367c",
   "metadata": {},
   "source": [
    "---\n",
    "---"
   ]
  },
  {
   "cell_type": "code",
   "execution_count": 1,
   "id": "46fd6c6b-8de8-4fc0-84e6-0c339005842d",
   "metadata": {
    "tags": []
   },
   "outputs": [],
   "source": [
    "import pandas as pd\n",
    "from sklearn.ensemble import RandomForestClassifier\n",
    "from sklearn.model_selection import train_test_split\n",
    "from sklearn import metrics\n",
    "import matplotlib.pyplot as plt\n",
    "import seaborn as sns\n"
   ]
  },
  {
   "cell_type": "code",
   "execution_count": 2,
   "id": "da2b19a9-a66b-4414-b0f9-5dd261ecc41f",
   "metadata": {
    "tags": []
   },
   "outputs": [],
   "source": [
    "import warnings\n",
    "warnings.filterwarnings('ignore')"
   ]
  },
  {
   "cell_type": "code",
   "execution_count": 3,
   "id": "f22f48f1-9311-45e4-b8a8-4ce8c99d1178",
   "metadata": {
    "tags": []
   },
   "outputs": [
    {
     "name": "stdout",
     "output_type": "stream",
     "text": [
      "Accuracy: 0.9555555555555556\n"
     ]
    }
   ],
   "source": [
    "df = pd.read_csv('../Data/iris_data.csv')\n",
    "X = df[['sepal_length', 'sepal_width', 'petal_length', 'petal_width']]  \n",
    "y = df['species']\n",
    "\n",
    "X_train, X_test, y_train, y_test = train_test_split(X, y, test_size=0.3, random_state=1000) \n",
    "\n",
    "clf = RandomForestClassifier(n_estimators=100)\n",
    "\n",
    "clf.fit(X_train,y_train)\n",
    "y_pred=clf.predict(X_test)\n",
    "\n",
    "print(\"Accuracy:\",metrics.accuracy_score(y_test, y_pred))"
   ]
  },
  {
   "cell_type": "markdown",
   "id": "6255ad89-4b1b-4e26-a38c-78ed36f9223c",
   "metadata": {},
   "source": [
    "### Finding Important Features in Scikit-learn   \n",
    "Select features in the IRIS dataset.  \n",
    "1. Create a random forests model.\n",
    "2. Use the feature importance variable to see feature importance scores.\n",
    "3. Visualize these scores using the seaborn library."
   ]
  },
  {
   "cell_type": "raw",
   "id": "83facb68-b33d-4614-bc7a-bfeaf3367ab4",
   "metadata": {
    "tags": []
   },
   "source": [
    "\n",
    "clf = RandomForestClassifier(n_estimators=100, random_state=1000)\n",
    "clf.fit(X_train,y_train)"
   ]
  },
  {
   "cell_type": "raw",
   "id": "a2ae6db4-5826-4c44-b039-631dc24a2afe",
   "metadata": {},
   "source": [
    "RandomForestClassifier(bootstrap=True, class_weight=None, criterion='gini',\n",
    "            max_depth=None, max_features='auto', max_leaf_nodes=None,\n",
    "            min_impurity_decrease=0.0, min_impurity_split=None,\n",
    "            min_samples_leaf=1, min_samples_split=2,\n",
    "            min_weight_fraction_leaf=0.0, n_estimators=100, n_jobs=1,\n",
    "            oob_score=False, random_state=None, verbose=0,\n",
    "            warm_start=False)"
   ]
  },
  {
   "cell_type": "code",
   "execution_count": 4,
   "id": "65559067-0509-4b61-ae11-12d07b071629",
   "metadata": {
    "tags": []
   },
   "outputs": [
    {
     "data": {
      "text/plain": [
       "petal_length    0.430320\n",
       "petal_width     0.422822\n",
       "sepal_length    0.126105\n",
       "sepal_width     0.020753\n",
       "dtype: float64"
      ]
     },
     "execution_count": 4,
     "metadata": {},
     "output_type": "execute_result"
    }
   ],
   "source": [
    "feature_imp = pd.Series(clf.feature_importances_, \n",
    "                        index=['sepal_length', 'sepal_width', 'petal_length', 'petal_width']).sort_values(ascending=False)\n",
    "feature_imp"
   ]
  },
  {
   "cell_type": "code",
   "execution_count": 5,
   "id": "e1af06b8-5c03-4e69-ac1d-8dc84076679c",
   "metadata": {
    "tags": []
   },
   "outputs": [
    {
     "data": {
      "text/html": [
       "<div>\n",
       "<style scoped>\n",
       "    .dataframe tbody tr th:only-of-type {\n",
       "        vertical-align: middle;\n",
       "    }\n",
       "\n",
       "    .dataframe tbody tr th {\n",
       "        vertical-align: top;\n",
       "    }\n",
       "\n",
       "    .dataframe thead tr th {\n",
       "        text-align: left;\n",
       "    }\n",
       "\n",
       "    .dataframe thead tr:last-of-type th {\n",
       "        text-align: right;\n",
       "    }\n",
       "</style>\n",
       "<table border=\"1\" class=\"dataframe\">\n",
       "  <thead>\n",
       "    <tr>\n",
       "      <th></th>\n",
       "      <th colspan=\"2\" halign=\"left\">sepal_length</th>\n",
       "      <th colspan=\"2\" halign=\"left\">sepal_width</th>\n",
       "      <th colspan=\"2\" halign=\"left\">petal_length</th>\n",
       "      <th colspan=\"2\" halign=\"left\">petal_width</th>\n",
       "    </tr>\n",
       "    <tr>\n",
       "      <th></th>\n",
       "      <th>min</th>\n",
       "      <th>max</th>\n",
       "      <th>min</th>\n",
       "      <th>max</th>\n",
       "      <th>min</th>\n",
       "      <th>max</th>\n",
       "      <th>min</th>\n",
       "      <th>max</th>\n",
       "    </tr>\n",
       "    <tr>\n",
       "      <th>species</th>\n",
       "      <th></th>\n",
       "      <th></th>\n",
       "      <th></th>\n",
       "      <th></th>\n",
       "      <th></th>\n",
       "      <th></th>\n",
       "      <th></th>\n",
       "      <th></th>\n",
       "    </tr>\n",
       "  </thead>\n",
       "  <tbody>\n",
       "    <tr>\n",
       "      <th>Iris-setosa</th>\n",
       "      <td>4.3</td>\n",
       "      <td>5.8</td>\n",
       "      <td>2.3</td>\n",
       "      <td>4.4</td>\n",
       "      <td>1.0</td>\n",
       "      <td>1.9</td>\n",
       "      <td>0.1</td>\n",
       "      <td>0.6</td>\n",
       "    </tr>\n",
       "    <tr>\n",
       "      <th>Iris-versicolor</th>\n",
       "      <td>4.9</td>\n",
       "      <td>7.0</td>\n",
       "      <td>2.0</td>\n",
       "      <td>3.4</td>\n",
       "      <td>3.0</td>\n",
       "      <td>5.1</td>\n",
       "      <td>1.0</td>\n",
       "      <td>1.8</td>\n",
       "    </tr>\n",
       "    <tr>\n",
       "      <th>Iris-virginica</th>\n",
       "      <td>4.9</td>\n",
       "      <td>7.9</td>\n",
       "      <td>2.2</td>\n",
       "      <td>3.8</td>\n",
       "      <td>4.5</td>\n",
       "      <td>6.9</td>\n",
       "      <td>1.4</td>\n",
       "      <td>2.5</td>\n",
       "    </tr>\n",
       "  </tbody>\n",
       "</table>\n",
       "</div>"
      ],
      "text/plain": [
       "                sepal_length      sepal_width      petal_length       \\\n",
       "                         min  max         min  max          min  max   \n",
       "species                                                                \n",
       "Iris-setosa              4.3  5.8         2.3  4.4          1.0  1.9   \n",
       "Iris-versicolor          4.9  7.0         2.0  3.4          3.0  5.1   \n",
       "Iris-virginica           4.9  7.9         2.2  3.8          4.5  6.9   \n",
       "\n",
       "                petal_width       \n",
       "                        min  max  \n",
       "species                           \n",
       "Iris-setosa             0.1  0.6  \n",
       "Iris-versicolor         1.0  1.8  \n",
       "Iris-virginica          1.4  2.5  "
      ]
     },
     "execution_count": 5,
     "metadata": {},
     "output_type": "execute_result"
    }
   ],
   "source": [
    "df.groupby('species').agg(['min','max'])"
   ]
  },
  {
   "cell_type": "markdown",
   "id": "d734d83b-f412-4a84-9469-4e542aa4c80a",
   "metadata": {},
   "source": [
    "#### Feature Importance   \n",
    "Sum of Squared Errors (SSE) and Gini index decide the importance of features    "
   ]
  },
  {
   "cell_type": "code",
   "execution_count": 6,
   "id": "d681a4a0-b41e-496a-b7d7-5f5cd61d4234",
   "metadata": {
    "tags": []
   },
   "outputs": [
    {
     "data": {
      "image/png": "[encoded data removed]",
      "text/plain": [
       "<Figure size 400x200 with 1 Axes>"
      ]
     },
     "metadata": {},
     "output_type": "display_data"
    }
   ],
   "source": [
    "plt.figure(figsize=(4,2))\n",
    "sns.barplot(x=feature_imp, y=feature_imp.index)\n",
    "plt.xlabel('Feature Importance Score')\n",
    "plt.ylabel('Features')\n",
    "plt.title(\"Visualizing Important Features\");"
   ]
  },
  {
   "cell_type": "markdown",
   "id": "b1aa9953-58eb-41fa-a4b9-6c627d1746e1",
   "metadata": {},
   "source": [
    "#### Generating the Model on Selected Features  \n",
    "We can remove the \"sepal width\" feature because it has very low importance."
   ]
  },
  {
   "cell_type": "code",
   "execution_count": 7,
   "id": "3dc7f2b6-fb01-4533-9fe0-76c6233e4c73",
   "metadata": {
    "tags": []
   },
   "outputs": [
    {
     "name": "stdout",
     "output_type": "stream",
     "text": [
      "Accuracy with 4 features:  0.9555555555555556\n",
      "Accuracy with 3 features:  0.9523809523809523\n"
     ]
    }
   ],
   "source": [
    "X = df[['petal_length', 'petal_width','sepal_length']]  # Removed feature \"sepal width\"\n",
    "y = df['species']                                       \n",
    "X_train, X_test, y_train, y_test = train_test_split(X, y, test_size=0.70, random_state=1000) # 70% training and 30% test\n",
    "\n",
    "clf=RandomForestClassifier(n_estimators=100)\n",
    "clf.fit(X_train,y_train)\n",
    "y_pred = clf.predict(X_test)\n",
    "\n",
    "from sklearn import metrics\n",
    "print(\"Accuracy with 4 features: \", 0.9555555555555556)\n",
    "print(\"Accuracy with 3 features: \", metrics.accuracy_score(y_test, y_pred))"
   ]
  },
  {
   "cell_type": "code",
   "execution_count": 8,
   "id": "a3b93405-b83e-4629-b4a5-13984c76b0da",
   "metadata": {
    "tags": []
   },
   "outputs": [
    {
     "name": "stdout",
     "output_type": "stream",
     "text": [
      "Accuracy with 4 features: 0.9555555555555556\n",
      "Accuracy with 2 features: 0.9428571428571428\n"
     ]
    }
   ],
   "source": [
    "X = df[['petal_length', 'petal_width']]  # Removed feature \"sepal length\"\n",
    "y = df['species']                                       \n",
    "X_train, X_test, y_train, y_test = train_test_split(X, y, test_size=0.70, random_state=1000) # 70% training and 30% test\n",
    "\n",
    "clf=RandomForestClassifier(n_estimators=100)\n",
    "clf.fit(X_train,y_train)\n",
    "y_pred = clf.predict(X_test)\n",
    "\n",
    "from sklearn import metrics\n",
    "print(\"Accuracy with 4 features:\", 0.9555555555555556)\n",
    "print(\"Accuracy with 2 features:\", metrics.accuracy_score(y_test, y_pred))"
   ]
  },
  {
   "cell_type": "code",
   "execution_count": 9,
   "id": "a0b0d610-4df9-47e3-b3a1-74dd2ec68114",
   "metadata": {
    "tags": []
   },
   "outputs": [
    {
     "name": "stdout",
     "output_type": "stream",
     "text": [
      "Accuracy with 4 features:   0.9555555555555556\n",
      "Accuracy with petal length: 0.9238095238095239\n"
     ]
    }
   ],
   "source": [
    "X = df[['petal_length']]\n",
    "y = df['species']                                       \n",
    "X_train, X_test, y_train, y_test = train_test_split(X, y, test_size=0.70, random_state=1000)\n",
    "\n",
    "clf=RandomForestClassifier(n_estimators=100)\n",
    "clf.fit(X_train,y_train)\n",
    "y_pred = clf.predict(X_test)\n",
    "\n",
    "print(\"Accuracy with 4 features:  \", 0.9555555555555556)\n",
    "print(\"Accuracy with petal length:\", metrics.accuracy_score(y_test, y_pred))"
   ]
  },
  {
   "cell_type": "code",
   "execution_count": 10,
   "id": "0241269f-5d30-4f6b-93b5-2412bb39d99f",
   "metadata": {
    "tags": []
   },
   "outputs": [
    {
     "name": "stdout",
     "output_type": "stream",
     "text": [
      "Accuracy with 4 features:  0.9555555555555556\n",
      "Accuracy with petal width: 0.9238095238095239\n"
     ]
    }
   ],
   "source": [
    "X = df[['petal_width']]\n",
    "y = df['species']                                       \n",
    "X_train, X_test, y_train, y_test = train_test_split(X, y, test_size=0.70, random_state=1000)\n",
    "\n",
    "clf=RandomForestClassifier(n_estimators=100)\n",
    "clf.fit(X_train,y_train)\n",
    "y_pred = clf.predict(X_test)\n",
    "\n",
    "print(\"Accuracy with 4 features: \", 0.9555555555555556)\n",
    "print(\"Accuracy with petal width:\", metrics.accuracy_score(y_test, y_pred))"
   ]
  },
  {
   "cell_type": "code",
   "execution_count": 11,
   "id": "3a945e23-c828-4df4-858a-d53f90b2d2bc",
   "metadata": {
    "tags": []
   },
   "outputs": [
    {
     "name": "stdout",
     "output_type": "stream",
     "text": [
      "Accuracy with sepal length and width: 0.7523809523809524\n"
     ]
    }
   ],
   "source": [
    "X = df[['sepal_length', \"sepal_width\"]] \n",
    "y = df['species']                                       \n",
    "X_train, X_test, y_train, y_test = train_test_split(X, y, test_size=0.70, random_state=1000) \n",
    "\n",
    "clf=RandomForestClassifier(n_estimators=100)\n",
    "clf.fit(X_train,y_train)\n",
    "y_pred = clf.predict(X_test)\n",
    "\n",
    "from sklearn import metrics\n",
    "print(\"Accuracy with sepal length and width:\",metrics.accuracy_score(y_test, y_pred))"
   ]
  },
  {
   "cell_type": "code",
   "execution_count": 12,
   "id": "3c2cb2a9-2c07-46a9-b365-6ae869080100",
   "metadata": {
    "tags": []
   },
   "outputs": [
    {
     "name": "stdout",
     "output_type": "stream",
     "text": [
      "Accuracy with only sepal length: 0.6476190476190476\n"
     ]
    }
   ],
   "source": [
    "X = df[['sepal_length']] \n",
    "y = df['species']                                       \n",
    "X_train, X_test, y_train, y_test = train_test_split(X, y, test_size=0.70, random_state=1000) \n",
    "\n",
    "clf=RandomForestClassifier(n_estimators=100)\n",
    "clf.fit(X_train,y_train)\n",
    "y_pred = clf.predict(X_test)\n",
    "\n",
    "from sklearn import metrics\n",
    "print(\"Accuracy with only sepal length:\",metrics.accuracy_score(y_test, y_pred))"
   ]
  },
  {
   "cell_type": "code",
   "execution_count": 13,
   "id": "16753a36-ab44-4513-808f-8b886e1e07e7",
   "metadata": {
    "tags": []
   },
   "outputs": [
    {
     "name": "stdout",
     "output_type": "stream",
     "text": [
      "Accuracy with only sepal width: 0.5047619047619047\n"
     ]
    }
   ],
   "source": [
    "X = df[['sepal_width']] \n",
    "y = df['species']                                       \n",
    "X_train, X_test, y_train, y_test = train_test_split(X, y, test_size=0.70, random_state=1000) \n",
    "\n",
    "clf=RandomForestClassifier(n_estimators=100)\n",
    "clf.fit(X_train,y_train)\n",
    "y_pred = clf.predict(X_test)\n",
    "\n",
    "from sklearn import metrics\n",
    "print(\"Accuracy with only sepal width:\",metrics.accuracy_score(y_test, y_pred))"
   ]
  },
  {
   "cell_type": "code",
   "execution_count": 14,
   "id": "afe8963e-c6f4-47e3-a817-a1d6f530bbf8",
   "metadata": {
    "tags": []
   },
   "outputs": [
    {
     "data": {
      "text/plain": [
       "sepal_length    0.685694\n",
       "sepal_width     0.188004\n",
       "petal_length    3.113179\n",
       "petal_width     0.582414\n",
       "dtype: float64"
      ]
     },
     "execution_count": 14,
     "metadata": {},
     "output_type": "execute_result"
    }
   ],
   "source": [
    "df.var()"
   ]
  },
  {
   "cell_type": "code",
   "execution_count": 79,
   "id": "436db082-8da7-4596-8ee3-15fb4b6940b9",
   "metadata": {
    "tags": []
   },
   "outputs": [
    {
     "data": {
      "image/png": "[encoded data removed]",
      "text/plain": [
       "<Figure size 400x300 with 2 Axes>"
      ]
     },
     "metadata": {},
     "output_type": "display_data"
    }
   ],
   "source": [
    "plt.figure(figsize=(4,3))\n",
    "sns.heatmap(df.corr(), annot=True);"
   ]
  },
  {
   "cell_type": "markdown",
   "id": "1cc6b9ec-803f-4350-85d4-1c1ed11d7969",
   "metadata": {},
   "source": [
    "##### Effect on accuracy by eliminating features   \n",
    "Feature importance:  \n",
    "```\n",
    "petal_width     0.475436\n",
    "petal_length    0.415575\n",
    "```\n",
    "Though petal length and petal width both score high feature importance,  \n",
    "because their correlation is high (0.96), elimination of one of them does not affect accuracy significantly.   \n",
    "\n",
    "Sepal length and width have lower correlation (0.11) and show more difference in accuracy      \n",
    "when one of them is removed from the training set.  "
   ]
  },
  {
   "cell_type": "markdown",
   "id": "77e16658-ed56-4b4a-aa56-5bfa906a3f12",
   "metadata": {
    "tags": []
   },
   "source": [
    "---"
   ]
  }
 ],
 "metadata": {
  "kernelspec": {
   "display_name": "Python 3 (ipykernel)",
   "language": "python",
   "name": "python3"
  },
  "language_info": {
   "codemirror_mode": {
    "name": "ipython",
    "version": 3
   },
   "file_extension": ".py",
   "mimetype": "text/x-python",
   "name": "python",
   "nbconvert_exporter": "python",
   "pygments_lexer": "ipython3",
   "version": "3.11.4"
  }
 },
 "nbformat": 4,
 "nbformat_minor": 5
}
