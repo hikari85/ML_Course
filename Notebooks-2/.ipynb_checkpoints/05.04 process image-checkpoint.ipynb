{
 "cells": [
  {
   "cell_type": "markdown",
   "id": "5611ab3c-c2e5-4c9a-8db1-1b24328e9c5c",
   "metadata": {},
   "source": [
    "#### Image Processing   "
   ]
  },
  {
   "cell_type": "code",
   "execution_count": null,
   "id": "51f9af36-b5e8-42c8-a37d-da3f1bff7041",
   "metadata": {
    "tags": []
   },
   "outputs": [],
   "source": [
    "import numpy as np\n",
    "import pandas as pd\n",
    "import cv2\n",
    "\n",
    "from random import randint\n",
    "import matplotlib.pyplot as plt\n",
    "\n",
    "from PIL import Image"
   ]
  },
  {
   "cell_type": "code",
   "execution_count": null,
   "id": "a1acc4f8-ffa1-49dc-9f37-3265d67ae5af",
   "metadata": {
    "tags": []
   },
   "outputs": [],
   "source": [
    "num = pd.read_csv('../MNIST_Data/mnist_test.csv', nrows=20)\n",
    "X_num = num.iloc[:,1:].values\n",
    "y_num = num.iloc[:,0].values\n",
    "y_num"
   ]
  },
  {
   "cell_type": "code",
   "execution_count": null,
   "id": "5a7a2550-823a-4d79-9378-e5ae57bd5bd4",
   "metadata": {
    "tags": []
   },
   "outputs": [],
   "source": [
    "X_num = X_num.reshape((20, 28, 28)) #, 1))"
   ]
  },
  {
   "cell_type": "code",
   "execution_count": null,
   "id": "4eca9a8d-5602-41b6-94a4-367821ef2fcc",
   "metadata": {
    "tags": []
   },
   "outputs": [],
   "source": [
    "import seaborn as sns\n",
    "cm = sns.light_palette(\"grey\", as_cmap=True)\n",
    "\n",
    "pd.set_option('display.max_rows', 30)\n",
    "pd.set_option('display.max_columns', 30)\n",
    "\n",
    "index = randint(0, 19)\n",
    "plt.figure(figsize=(4,4))\n",
    "plt.imshow(X_num[index], cmap='Greys') \n",
    "plt.title(f'Label: {y_num[index]}');      \n",
    "pd.DataFrame(X_num[index]).style.background_gradient(cmap=cm)"
   ]
  },
  {
   "cell_type": "code",
   "execution_count": null,
   "id": "b465f441-8817-47d2-b687-d1a29b9ee95c",
   "metadata": {
    "tags": []
   },
   "outputs": [],
   "source": [
    "from sklearn.datasets import load_digits\n",
    "digits = load_digits()\n",
    "\n",
    "X_num_ = digits.images[:20]\n",
    "y_num_ = digits.target[:20]\n",
    "\n",
    "index = randint(0, 19)\n",
    "plt.figure(figsize=(1,1))\n",
    "plt.imshow(X_num_[index], cmap='gray')\n",
    "plt.title(f'Label: {y_num_[index]}');\n",
    "\n",
    "pd.DataFrame(X_num_[index]).style.background_gradient(cmap=cm)"
   ]
  },
  {
   "cell_type": "markdown",
   "id": "a6b54d5a-37d9-4439-8a58-6ad6188bf06f",
   "metadata": {},
   "source": [
    "#### Rotate Image   "
   ]
  },
  {
   "cell_type": "code",
   "execution_count": null,
   "id": "943d8935-fa7a-4a5d-8bca-77f26e1cc087",
   "metadata": {
    "tags": []
   },
   "outputs": [],
   "source": [
    "import seaborn as sns\n",
    "cm = sns.light_palette(\"grey\", as_cmap=True)\n",
    "\n",
    "pd.set_option('display.max_rows', 30)\n",
    "pd.set_option('display.max_columns', 30)\n",
    "\n",
    "index = randint(0, 19)\n",
    "plt.figure(figsize=(4,1))\n",
    "\n",
    "plt.subplot(1,3,1)\n",
    "plt.imshow(X_num[index], cmap='Greys') \n",
    "plt.title(f'Label: {y_num[index]}');      \n",
    "plt.axis('off')\n",
    "\n",
    "plt.subplot(1,3,2)\n",
    "plt.imshow(np.flipud(X_num[index]), cmap='Greys') \n",
    "plt.title('up-down');      \n",
    "plt.axis('off')\n",
    "\n",
    "plt.subplot(1,3,3)\n",
    "plt.imshow(np.fliplr(X_num[index]), cmap='Greys') \n",
    "plt.axis('off')\n",
    "plt.title('mirror');      "
   ]
  },
  {
   "cell_type": "markdown",
   "id": "7899dc84-0f0f-4ed0-b21f-9190a6e3f4b5",
   "metadata": {},
   "source": [
    "##### Numbers are boring   \n",
    "##### Grey scale is dull   "
   ]
  },
  {
   "cell_type": "code",
   "execution_count": null,
   "id": "dd584c92-5d76-446e-9beb-9773ba8e8ee9",
   "metadata": {
    "tags": []
   },
   "outputs": [],
   "source": [
    "img = Image.open(\"../Figures/chitnis.jpg\")"
   ]
  },
  {
   "cell_type": "code",
   "execution_count": null,
   "id": "bdd2425e-c1a7-4bc9-a871-0a3056fe0b84",
   "metadata": {
    "tags": []
   },
   "outputs": [],
   "source": [
    "width = 1600\n",
    "size = (width, int(width*3/4))\n",
    "plt.figure(figsize = (6,3))\n",
    "\n",
    "plt.subplot(1,2,1)\n",
    "plt.axis('off')\n",
    "plt.imshow(img.resize(size))\n",
    "print(f\"\\nimage size: {img.resize(size).size}\")\n",
    "\n",
    "plt.subplot(1,2,2)\n",
    "plt.axis('off')\n",
    "plt.imshow(img.convert('LA').resize(size));\n",
    "\n",
    "plt.tight_layout()"
   ]
  },
  {
   "cell_type": "code",
   "execution_count": null,
   "id": "87f75421-d4f6-492d-b8f2-878ee1f7acdf",
   "metadata": {
    "tags": []
   },
   "outputs": [],
   "source": [
    "flip_img = img.transpose(method=Image.FLIP_TOP_BOTTOM)\n",
    "rot_img = img.transpose(Image.FLIP_LEFT_RIGHT)\n",
    "\n",
    "plt.figure(figsize = (10,3))\n",
    "\n",
    "plt.subplot(1,3,1)\n",
    "plt.axis('off')\n",
    "plt.title('rotated');\n",
    "plt.imshow(img.rotate(20));\n",
    "\n",
    "plt.subplot(1,3,2)\n",
    "plt.axis('off')\n",
    "plt.title('mirrored');\n",
    "plt.imshow(rot_img);\n",
    "\n",
    "plt.subplot(1,3,3)\n",
    "plt.axis('off')\n",
    "plt.title('up-down');\n",
    "plt.imshow(flip_img);\n",
    "\n",
    "plt.tight_layout()"
   ]
  }
 ],
 "metadata": {
  "kernelspec": {
   "display_name": "Python 3 (ipykernel)",
   "language": "python",
   "name": "python3"
  },
  "language_info": {
   "codemirror_mode": {
    "name": "ipython",
    "version": 3
   },
   "file_extension": ".py",
   "mimetype": "text/x-python",
   "name": "python",
   "nbconvert_exporter": "python",
   "pygments_lexer": "ipython3",
   "version": "3.11.5"
  }
 },
 "nbformat": 4,
 "nbformat_minor": 5
}
