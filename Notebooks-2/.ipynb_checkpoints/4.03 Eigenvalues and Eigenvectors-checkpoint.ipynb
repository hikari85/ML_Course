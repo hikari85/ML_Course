{
 "cells": [
  {
   "cell_type": "markdown",
   "id": "714be4f1-7bfa-4996-a400-c6c5909dacb8",
   "metadata": {},
   "source": [
    "#### Eigenvectors and Eigenvalues   \n",
    "Matrix: A rectangular array of numbers.   \n",
    "Vector: A matrix with a single column.   \n",
    "Eigenvector: Given a square matrix $A$, a vector $v$ is an eigenvector of $A$   \n",
    "if multiplying $A$ by $v$ results in a scaled version of $v$.  \n",
    "In other words, the direction of $v$ does not change.   \n",
    "$A.v = \\lambda . v$ where $\\;ambda$ is a scalar.  \n",
    "\n",
    "Eigenvalue: The scalar $\\lambda$ is the eigenvalue corresponding to the eigenvector $v$.   \n",
    "\n",
    "In data science, datasets are often multi-dimensional. Eigenvectors and eigenvalues help in:  \n",
    "\n",
    "1. <u>Dimensionality Reduction</u>: Through methods like PCA, where the aim is to represent data in lower dimensions without losing significant information.   \n",
    "2. <u>Understanding Variability</u>: The eigenvalues can be used to understand the amount of variability captured by their corresponding eigenvectors.\n",
    "3. <u>Spectral Clustering, Image Processing, and More</u>: They are used in various algorithms and techniques"
   ]
  },
  {
   "cell_type": "markdown",
   "id": "38505004-bf7b-4583-b45a-b0dfa87d41dc",
   "metadata": {},
   "source": [
    "##### a. [Google's PageRank](https://www.intmath.com/matrices-determinants/8-applications-eigenvalues-eigenvectors.php)   \n",
    "Google's extraordinary success as a search engine was due to their clever use of eigenvalues and eigenvectors. From the time it was introduced in 1998, Google's methods for delivering the most relevant result for our search queries has evolved in many ways, and PageRank is not really a factor any more in the way it was at the beginning.   \n",
    "##### b. Electronics: RLC circuits   \n",
    "##### c. Repeated applications of a matrix: Markov processes   \n"
   ]
  },
  {
   "cell_type": "markdown",
   "id": "5e36cd70-c729-4c6d-8f11-e74d570bedb5",
   "metadata": {},
   "source": [
    "Eigenvalues and eigenvectors are only for square matrices.   \n",
    "Eigenvectors are nonzero. They may be equal to zero.  \n",
    "\n",
    "Let A be an n×n matrix.  \n",
    "An **eigenvector** of $A$  is a nonzero vector $v$ such that  $Av = \\lambda v$,  for some scalar  λ.  \n",
    "An **eigenvalue** of  A  is a scalar  λ  such that the equation  $Av = \\lambda v$  has a nontrivial solution.  \n",
    "\n",
    "\n"
   ]
  },
  {
   "cell_type": "code",
   "execution_count": null,
   "id": "ebd1ab19-21dd-4cc3-a544-008b382c26c6",
   "metadata": {
    "tags": []
   },
   "outputs": [],
   "source": [
    "import numpy as np\n",
    "from numpy import linalg as LA"
   ]
  },
  {
   "cell_type": "code",
   "execution_count": null,
   "id": "6193a469-2524-4127-8068-7f17c7af8ce8",
   "metadata": {
    "tags": []
   },
   "outputs": [],
   "source": [
    "a1 = np.array([[-6,3], [4,5]])\n",
    "eigenvalues, eigenvectors = LA.eig(a1)\n",
    "eigenvalues, eigenvectors"
   ]
  }
 ],
 "metadata": {
  "kernelspec": {
   "display_name": "Python 3 (ipykernel)",
   "language": "python",
   "name": "python3"
  },
  "language_info": {
   "codemirror_mode": {
    "name": "ipython",
    "version": 3
   },
   "file_extension": ".py",
   "mimetype": "text/x-python",
   "name": "python",
   "nbconvert_exporter": "python",
   "pygments_lexer": "ipython3",
   "version": "3.11.5"
  }
 },
 "nbformat": 4,
 "nbformat_minor": 5
}
