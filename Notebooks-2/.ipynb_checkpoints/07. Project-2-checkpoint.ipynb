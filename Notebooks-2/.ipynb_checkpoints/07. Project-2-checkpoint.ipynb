{
 "cells": [
  {
   "cell_type": "markdown",
   "source": [
    "#### Project 2"
   ],
   "metadata": {
    "collapsed": false
   },
   "id": "2c9b6ff6b1404ac7"
  },
  {
   "cell_type": "markdown",
   "source": [
    "CO7: Solve a real-world problem belonging to health/finance by applying machine learning skills\n",
    "\t\t\t\t\t\t\t\t\t\t\t\t\t12 Hours  \n",
    "Project selection, project status review-1. Final project submission: source code and report, presentation, and Viva.\n"
   ],
   "metadata": {
    "collapsed": false
   },
   "id": "b981bae4ec16febb"
  }
 ],
 "metadata": {
  "kernelspec": {
   "display_name": "Python 3",
   "language": "python",
   "name": "python3"
  },
  "language_info": {
   "codemirror_mode": {
    "name": "ipython",
    "version": 2
   },
   "file_extension": ".py",
   "mimetype": "text/x-python",
   "name": "python",
   "nbconvert_exporter": "python",
   "pygments_lexer": "ipython2",
   "version": "2.7.6"
  }
 },
 "nbformat": 4,
 "nbformat_minor": 5
}
