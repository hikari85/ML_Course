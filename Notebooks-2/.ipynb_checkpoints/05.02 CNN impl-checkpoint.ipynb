{
 "cells": [
  {
   "cell_type": "code",
   "execution_count": 1,
   "id": "2be876f304d418e5",
   "metadata": {
    "ExecuteTime": {
     "end_time": "2024-04-10T13:19:28.895078200Z",
     "start_time": "2024-04-10T13:19:28.886095500Z"
    },
    "collapsed": false,
    "jupyter": {
     "outputs_hidden": false
    },
    "tags": []
   },
   "outputs": [],
   "source": [
    "import warnings\n",
    "warnings.filterwarnings('ignore')"
   ]
  },
  {
   "cell_type": "markdown",
   "id": "cf5c0ebf0ab2c4fb",
   "metadata": {},
   "source": [
    "1. Image is input as 2D array.   \n",
    "2. Window size is 3 X 3   \n",
    "3. The distance between two successive windows is a parameter of the convolution, called its stride, which defaults to 1. We use stride 2. Width and height of the feature map are downsampled by a factor of 2. "
   ]
  },
  {
   "cell_type": "code",
   "execution_count": 4,
   "id": "initial_id",
   "metadata": {
    "ExecuteTime": {
     "end_time": "2024-04-10T13:19:33.396076400Z",
     "start_time": "2024-04-10T13:19:33.302850500Z"
    },
    "collapsed": true,
    "jupyter": {
     "outputs_hidden": true
    }
   },
   "outputs": [],
   "source": [
    "from keras import layers\n",
    "from keras import models\n",
    "\n",
    "model = models.Sequential()\n",
    "model.add(layers.Conv2D(32, (3, 3), activation='relu', input_shape=(28, 28, 1)))\n",
    "# 32 filters for these image slices of 3 X 3  \n",
    "# 28 X 28 is the 2D image size.  being grey scale image, only 1 channel (depth)\n",
    "\n",
    "model.add(layers.MaxPooling2D((2, 2))) \n",
    "model.add(layers.Conv2D(64, (3, 3), activation='relu'))\n",
    "model.add(layers.MaxPooling2D((2, 2)))\n",
    "model.add(layers.Conv2D(64, (3, 3), activation='relu'))\n",
    "\n",
    "# classification layers\n",
    "model.add(layers.Flatten())\n",
    "model.add(layers.Dense(64, activation='relu'))\n",
    "model.add(layers.Dense(10, activation='softmax'))  # 10-way classification for digits   "
   ]
  },
  {
   "cell_type": "code",
   "execution_count": null,
   "id": "ff4163333555b0cb",
   "metadata": {
    "collapsed": false,
    "jupyter": {
     "outputs_hidden": false
    }
   },
   "outputs": [],
   "source": [
    "model.summary()"
   ]
  },
  {
   "cell_type": "markdown",
   "id": "18985bda9c9a1040",
   "metadata": {},
   "source": [
    "#### Train the convnet on MNIST images   \n",
    "Convnet takes as input tensors of shape (image_height, image_width, image_channels) (not including the batch dimension).   \n",
    "In this case, we’ll configure the convnet to process inputs of size (28, 28, 1), which is the format of MNIST images.   \n",
    "We’ll do this by passing the argument input_shape=(28, 28, 1) to the first layer."
   ]
  },
  {
   "cell_type": "code",
   "execution_count": 6,
   "id": "94b7f0b02f26915a",
   "metadata": {
    "ExecuteTime": {
     "end_time": "2024-04-10T13:25:23.790763700Z",
     "start_time": "2024-04-10T13:25:23.574276400Z"
    },
    "collapsed": false,
    "jupyter": {
     "outputs_hidden": false
    }
   },
   "outputs": [],
   "source": [
    "from keras.datasets import mnist\n",
    "from keras.utils import to_categorical\n",
    "(train_images, train_labels), (test_images, test_labels) = mnist.load_data()"
   ]
  },
  {
   "cell_type": "code",
   "execution_count": null,
   "id": "cbab0f23f33d3017",
   "metadata": {
    "collapsed": false,
    "jupyter": {
     "outputs_hidden": false
    }
   },
   "outputs": [],
   "source": [
    "train_images = train_images.reshape((60000, 28, 28, 1))\n",
    "train_images = train_images.astype('float32') / 255\n",
    "test_images = test_images.reshape((10000, 28, 28, 1))\n",
    "test_images = test_images.astype('float32') / 255\n",
    "train_labels = to_categorical(train_labels)\n",
    "test_labels = to_categorical(test_labels)\n",
    "model.compile(optimizer='rmsprop',\n",
    "              loss='categorical_crossentropy',\n",
    "              metrics=['accuracy'])\n",
    "model.fit(train_images, train_labels, epochs=5, batch_size=64)"
   ]
  },
  {
   "cell_type": "code",
   "execution_count": 8,
   "id": "3c2ce2217399ecd5",
   "metadata": {
    "ExecuteTime": {
     "end_time": "2024-04-10T13:32:01.697530100Z",
     "start_time": "2024-04-10T13:31:58.849955Z"
    },
    "collapsed": false,
    "jupyter": {
     "outputs_hidden": false
    }
   },
   "outputs": [
    {
     "name": "stdout",
     "output_type": "stream",
     "text": [
      "313/313 [==============================] - 3s 7ms/step - loss: 0.0304 - accuracy: 0.9915\n"
     ]
    }
   ],
   "source": [
    "test_loss, test_acc = model.evaluate(test_images, test_labels)"
   ]
  },
  {
   "cell_type": "code",
   "execution_count": 18,
   "id": "a19c833a4cd3f6c9",
   "metadata": {
    "ExecuteTime": {
     "end_time": "2024-04-10T13:55:08.884452800Z",
     "start_time": "2024-04-10T13:55:08.798295600Z"
    },
    "collapsed": false,
    "jupyter": {
     "outputs_hidden": false
    }
   },
   "outputs": [
    {
     "name": "stdout",
     "output_type": "stream",
     "text": [
      "1/1 [==============================] - 0s 24ms/step\n"
     ]
    },
    {
     "data": {
      "text/plain": [
       "7"
      ]
     },
     "execution_count": 18,
     "metadata": {},
     "output_type": "execute_result"
    }
   ],
   "source": [
    "import numpy as np\n",
    "\n",
    "np.argmax(model.predict(test_images[:1]))"
   ]
  },
  {
   "cell_type": "code",
   "execution_count": 41,
   "id": "6a5ce5b3e1141d17",
   "metadata": {
    "ExecuteTime": {
     "end_time": "2024-04-10T14:03:40.850555800Z",
     "start_time": "2024-04-10T14:03:40.762970600Z"
    },
    "collapsed": false,
    "jupyter": {
     "outputs_hidden": false
    }
   },
   "outputs": [
    {
     "name": "stdout",
     "output_type": "stream",
     "text": [
      "7 2 1 0 4 1 4 9 5 9 \n",
      "index of random test value: 8\n",
      "\n",
      "1/1 [==============================] - 0s 26ms/step\n",
      "\n",
      "Prediction: 5\n"
     ]
    }
   ],
   "source": [
    "from random import randint\n",
    "\n",
    "# print(test_images[:10])\n",
    "for i in range(10):\n",
    "    print(np.argmax(test_labels[i]), end= ' ')\n",
    "print()\n",
    "              \n",
    "num = randint(1,9)\n",
    "print(f\"index of random test value: {num-1}\\n\")\n",
    "\n",
    "print(f\"\\nPrediction: {np.argmax(model.predict(test_images[num-1:num]))}\")"
   ]
  }
 ],
 "metadata": {
  "kernelspec": {
   "display_name": "Python 3 (ipykernel)",
   "language": "python",
   "name": "python3"
  },
  "language_info": {
   "codemirror_mode": {
    "name": "ipython",
    "version": 3
   },
   "file_extension": ".py",
   "mimetype": "text/x-python",
   "name": "python",
   "nbconvert_exporter": "python",
   "pygments_lexer": "ipython3",
   "version": "3.11.5"
  }
 },
 "nbformat": 4,
 "nbformat_minor": 5
}
