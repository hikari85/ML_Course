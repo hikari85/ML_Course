{
 "cells": [
  {
   "cell_type": "markdown",
   "id": "fc2d36e572569eb1",
   "metadata": {},
   "source": [
    "**NumPy** is at the core of every data science and machine learning project.   \n",
    "\n",
    "The whole data-driven ecosystem is in some way or the other dependent upon NumPy and its core functions. This makes it one of the most important and game-changing libraries ever built in Python. "
   ]
  },
  {
   "cell_type": "code",
   "execution_count": null,
   "id": "54592f02ff4080fa",
   "metadata": {
    "collapsed": false,
    "jupyter": {
     "outputs_hidden": false
    }
   },
   "outputs": [],
   "source": [
    "import numpy as np"
   ]
  },
  {
   "cell_type": "markdown",
   "id": "ae0c53983d075f14",
   "metadata": {},
   "source": [
    "#### 1. NumPy Array Creation Methods"
   ]
  },
  {
   "cell_type": "code",
   "execution_count": null,
   "id": "a92342068ac352f3",
   "metadata": {
    "collapsed": false,
    "jupyter": {
     "outputs_hidden": false
    }
   },
   "outputs": [],
   "source": [
    "a = [1, 2, 3]\n",
    "np.array(a)"
   ]
  },
  {
   "cell_type": "code",
   "execution_count": null,
   "id": "741f288df1693ddc",
   "metadata": {
    "collapsed": false,
    "jupyter": {
     "outputs_hidden": false
    }
   },
   "outputs": [],
   "source": [
    "a = [[1,2,3], [4,5,6]]\n",
    "np.array(a, dtype = np.float32)"
   ]
  },
  {
   "cell_type": "code",
   "execution_count": null,
   "id": "66a9f7f4ae2cf7d0",
   "metadata": {
    "collapsed": false,
    "jupyter": {
     "outputs_hidden": false
    }
   },
   "outputs": [],
   "source": [
    "np.zeros((2, 3))"
   ]
  },
  {
   "cell_type": "code",
   "execution_count": null,
   "id": "59fc880094264b44",
   "metadata": {
    "collapsed": false,
    "jupyter": {
     "outputs_hidden": false
    }
   },
   "outputs": [],
   "source": [
    "np.ones((2, 3))"
   ]
  },
  {
   "cell_type": "code",
   "execution_count": null,
   "id": "55cbf04deda1d0b0",
   "metadata": {
    "collapsed": false,
    "jupyter": {
     "outputs_hidden": false
    }
   },
   "outputs": [],
   "source": [
    "np.eye(3)"
   ]
  },
  {
   "cell_type": "code",
   "execution_count": null,
   "id": "50c15c0e7f840c56",
   "metadata": {
    "collapsed": false,
    "jupyter": {
     "outputs_hidden": false
    }
   },
   "outputs": [],
   "source": [
    "np.arange(5, 11, 2)"
   ]
  },
  {
   "cell_type": "code",
   "execution_count": null,
   "id": "22e27905ccdb433",
   "metadata": {
    "collapsed": false,
    "jupyter": {
     "outputs_hidden": false
    }
   },
   "outputs": [],
   "source": [
    "np.linspace(start = 10, stop = 20, num = 5)"
   ]
  },
  {
   "cell_type": "code",
   "execution_count": null,
   "id": "ee131b9e95baefee",
   "metadata": {
    "collapsed": false,
    "jupyter": {
     "outputs_hidden": false
    }
   },
   "outputs": [],
   "source": [
    "np.random.randint(low = 5, high = 16, size = 5)"
   ]
  },
  {
   "cell_type": "code",
   "execution_count": null,
   "id": "e9470282155dbf5",
   "metadata": {
    "collapsed": false,
    "jupyter": {
     "outputs_hidden": false
    }
   },
   "outputs": [],
   "source": [
    "np.random.random(size = 10)"
   ]
  },
  {
   "cell_type": "markdown",
   "id": "e523a622f0246c38",
   "metadata": {},
   "source": [
    "#### 2 NumPy Array Manipulation Methods"
   ]
  },
  {
   "cell_type": "code",
   "execution_count": null,
   "id": "6f161e17554c59cb",
   "metadata": {
    "collapsed": false,
    "jupyter": {
     "outputs_hidden": false
    }
   },
   "outputs": [],
   "source": [
    "a = np.arange(10)\n",
    "a.reshape((2, 5))"
   ]
  },
  {
   "cell_type": "code",
   "execution_count": null,
   "id": "de3c4733bf3f176f",
   "metadata": {
    "collapsed": false,
    "jupyter": {
     "outputs_hidden": false
    }
   },
   "outputs": [],
   "source": [
    "## Concatenate Row-wise\n",
    "\n",
    "a = np.array([[1, 2], [3, 4]])\n",
    "b = np.array([[5, 6]])\n",
    "np.concatenate((a, b), axis=0)"
   ]
  },
  {
   "cell_type": "code",
   "execution_count": null,
   "id": "75cba95d84f08bbd",
   "metadata": {
    "collapsed": false,
    "jupyter": {
     "outputs_hidden": false
    }
   },
   "outputs": [],
   "source": [
    "## Concatenate Column-wise\n",
    "\n",
    "a = np.array([[1, 2], [3, 4]])\n",
    "b = np.array([[5, 6]])\n",
    "np.concatenate((a, b.T), axis=1)"
   ]
  },
  {
   "cell_type": "code",
   "execution_count": null,
   "id": "14f77af4618b542e",
   "metadata": {
    "collapsed": false,
    "jupyter": {
     "outputs_hidden": false
    }
   },
   "outputs": [],
   "source": [
    "## Concatenate to generate a flat NumPy Array\n",
    "\n",
    "a = np.array([[1, 2], [3, 4]])\n",
    "b = np.array([[5, 6]])\n",
    "np.concatenate((a, b), axis=None)"
   ]
  },
  {
   "cell_type": "code",
   "execution_count": null,
   "id": "9bc37755007bd6f2",
   "metadata": {
    "collapsed": false,
    "jupyter": {
     "outputs_hidden": false
    }
   },
   "outputs": [],
   "source": [
    "a = np.array([[1,2], [3,4]])\n",
    "a.flatten()"
   ]
  },
  {
   "cell_type": "code",
   "execution_count": null,
   "id": "911bc15643f4344f",
   "metadata": {
    "collapsed": false,
    "jupyter": {
     "outputs_hidden": false
    }
   },
   "outputs": [],
   "source": [
    "a = np.array([[1, 2], [2, 3]])\n",
    "np.unique(a)"
   ]
  },
  {
   "cell_type": "code",
   "execution_count": null,
   "id": "43534fad92c17ed9",
   "metadata": {
    "collapsed": false,
    "jupyter": {
     "outputs_hidden": false
    }
   },
   "outputs": [],
   "source": [
    "## Return Unique Rows\n",
    "\n",
    "a = np.array([[1, 2, 3], [1, 2, 3], [2, 3, 4]])\n",
    "np.unique(a, axis=0)"
   ]
  },
  {
   "cell_type": "code",
   "execution_count": null,
   "id": "51d29763879b1a38",
   "metadata": {
    "collapsed": false,
    "jupyter": {
     "outputs_hidden": false
    }
   },
   "outputs": [],
   "source": [
    "## Return Unique Columns\n",
    "\n",
    "a = np.array([[1, 1, 3], [1, 1, 3], [1, 1, 4]])\n",
    "np.unique(a, axis=1)"
   ]
  },
  {
   "cell_type": "markdown",
   "id": "2d652efe94e36dc5",
   "metadata": {},
   "source": [
    "#### 3 Mathematical Operations "
   ]
  },
  {
   "cell_type": "code",
   "execution_count": null,
   "id": "8cb27de8008731e4",
   "metadata": {
    "collapsed": false,
    "jupyter": {
     "outputs_hidden": false
    }
   },
   "outputs": [],
   "source": [
    "a = np.array([1,2,3])\n",
    "print(\"Trigonometric Sine   :\", np.sin(a))\n",
    "print(\"Trigonometric Cosine :\", np.cos(a))\n",
    "print(\"Trigonometric Tangent:\", np.tan(a))"
   ]
  },
  {
   "cell_type": "markdown",
   "id": "1b62de5fde78a5c7",
   "metadata": {},
   "source": [
    "#### 4 Matrix and Vector Operations"
   ]
  },
  {
   "cell_type": "code",
   "execution_count": null,
   "id": "8abe7d2d52abaf5f",
   "metadata": {
    "collapsed": false,
    "jupyter": {
     "outputs_hidden": false
    }
   },
   "outputs": [],
   "source": [
    "a = np.array([[1, 2], [3, 4]])\n",
    "b = np.array([[1, 1], [1, 1]])\n",
    "np.dot(a, b)"
   ]
  },
  {
   "cell_type": "code",
   "execution_count": null,
   "id": "b8b3e3b24d784916",
   "metadata": {
    "collapsed": false,
    "jupyter": {
     "outputs_hidden": false
    }
   },
   "outputs": [],
   "source": [
    "a = np.array([[1, 2], [3, 4]])\n",
    "b = np.array([[1, 1], [1, 1]])\n",
    "\n",
    "np.matmul(a, b)"
   ]
  },
  {
   "cell_type": "code",
   "execution_count": null,
   "id": "d661ffb5f1e0a651",
   "metadata": {
    "collapsed": false,
    "jupyter": {
     "outputs_hidden": false
    }
   },
   "outputs": [],
   "source": [
    "a@b"
   ]
  },
  {
   "cell_type": "code",
   "execution_count": null,
   "id": "d7ef1523cae7db97",
   "metadata": {
    "collapsed": false,
    "jupyter": {
     "outputs_hidden": false
    }
   },
   "outputs": [],
   "source": [
    "# L2 norm\n",
    "a = np.arange(-4, 5)\n",
    "np.linalg.norm(a)"
   ]
  },
  {
   "cell_type": "code",
   "execution_count": null,
   "id": "388cec1af0fc7ccf",
   "metadata": {
    "collapsed": false,
    "jupyter": {
     "outputs_hidden": false
    }
   },
   "outputs": [],
   "source": [
    "# L1 norm\n",
    "np.linalg.norm(a, 1)"
   ]
  },
  {
   "cell_type": "markdown",
   "id": "dc5bfd134530b047",
   "metadata": {},
   "source": [
    "#### 5 Sorting   "
   ]
  },
  {
   "cell_type": "code",
   "execution_count": null,
   "id": "8c4b8d8b615adb76",
   "metadata": {
    "collapsed": false,
    "jupyter": {
     "outputs_hidden": false
    }
   },
   "outputs": [],
   "source": [
    "a = np.array([[1,4],[3,1]])\n",
    "np.sort(a) ## sort based on rows"
   ]
  },
  {
   "cell_type": "code",
   "execution_count": null,
   "id": "4450c00b4c7409b3",
   "metadata": {
    "collapsed": false,
    "jupyter": {
     "outputs_hidden": false
    }
   },
   "outputs": [],
   "source": [
    "np.sort(a, axis=None) ## sort the flattened array"
   ]
  },
  {
   "cell_type": "code",
   "execution_count": null,
   "id": "fccf70ca002abefe",
   "metadata": {
    "collapsed": false,
    "jupyter": {
     "outputs_hidden": false
    }
   },
   "outputs": [],
   "source": [
    "np.sort(a, axis=0) ## sort based on columns"
   ]
  },
  {
   "cell_type": "code",
   "execution_count": null,
   "id": "7229494d974883c",
   "metadata": {
    "collapsed": false,
    "jupyter": {
     "outputs_hidden": false
    }
   },
   "outputs": [],
   "source": [
    "x = np.array([3, 1, 2])\n",
    "np.argsort(x)"
   ]
  },
  {
   "cell_type": "markdown",
   "id": "bd8109959ff6a078",
   "metadata": {},
   "source": [
    "#### 6 Searching Methods"
   ]
  },
  {
   "cell_type": "code",
   "execution_count": null,
   "id": "f58de78ff9acc5b8",
   "metadata": {
    "collapsed": false,
    "jupyter": {
     "outputs_hidden": false
    }
   },
   "outputs": [],
   "source": [
    "a = np.random.randint(1, 20, 10).reshape(2,5)\n",
    "np.argmax(a) ## index in a flattend array"
   ]
  },
  {
   "cell_type": "code",
   "execution_count": null,
   "id": "c1d946f70c321e87",
   "metadata": {
    "collapsed": false,
    "jupyter": {
     "outputs_hidden": false
    }
   },
   "outputs": [],
   "source": [
    "np.argmax(a, axis=0) ## indices along columns"
   ]
  },
  {
   "cell_type": "code",
   "execution_count": null,
   "id": "1e11b26b0bccda17",
   "metadata": {
    "collapsed": false,
    "jupyter": {
     "outputs_hidden": false
    }
   },
   "outputs": [],
   "source": [
    "np.argmax(a, axis=1) ## indices along rows"
   ]
  },
  {
   "cell_type": "code",
   "execution_count": null,
   "id": "a767cfed19f4a572",
   "metadata": {
    "collapsed": false,
    "jupyter": {
     "outputs_hidden": false
    }
   },
   "outputs": [],
   "source": [
    "ind = np.unravel_index(np.argmax(a), a.shape)\n",
    "ind"
   ]
  },
  {
   "cell_type": "code",
   "execution_count": null,
   "id": "6dc06cac94dbf07f",
   "metadata": {
    "collapsed": false,
    "jupyter": {
     "outputs_hidden": false
    }
   },
   "outputs": [],
   "source": [
    "a = np.random.randint(1, 20, 10).reshape(2,5)"
   ]
  },
  {
   "cell_type": "code",
   "execution_count": null,
   "id": "51f79f6269965389",
   "metadata": {
    "collapsed": false,
    "jupyter": {
     "outputs_hidden": false
    }
   },
   "outputs": [],
   "source": [
    "np.argmin(a) ## index in a flattend array"
   ]
  },
  {
   "cell_type": "code",
   "execution_count": null,
   "id": "64c30e895c7a3cd1",
   "metadata": {
    "collapsed": false,
    "jupyter": {
     "outputs_hidden": false
    }
   },
   "outputs": [],
   "source": [
    "np.argmin(a, axis=0) ## indices along columns"
   ]
  },
  {
   "cell_type": "code",
   "execution_count": null,
   "id": "7a60e4e5a5c9fd19",
   "metadata": {
    "collapsed": false,
    "jupyter": {
     "outputs_hidden": false
    }
   },
   "outputs": [],
   "source": [
    "np.argmin(a, axis=1) ## indices along rows"
   ]
  },
  {
   "cell_type": "code",
   "execution_count": null,
   "id": "82bef6ad79ba8b8b",
   "metadata": {
    "collapsed": false,
    "jupyter": {
     "outputs_hidden": false
    }
   },
   "outputs": [],
   "source": [
    "a = np.random.randint(-10, 10, 10)\n",
    "np.where(a < 0, 0, a)"
   ]
  },
  {
   "cell_type": "code",
   "execution_count": null,
   "id": "5fa290dc94883599",
   "metadata": {
    "collapsed": false,
    "jupyter": {
     "outputs_hidden": false
    }
   },
   "outputs": [],
   "source": [
    "a = np.array([[3, 0, 0], [0, 4, 0], [5, 6, 0]])\n",
    "np.nonzero(a)"
   ]
  },
  {
   "cell_type": "markdown",
   "id": "b678354715c5eb27",
   "metadata": {},
   "source": [
    "#### 7 Statistical Methods"
   ]
  },
  {
   "cell_type": "code",
   "execution_count": null,
   "id": "13026b7436fb09ec",
   "metadata": {
    "collapsed": false,
    "jupyter": {
     "outputs_hidden": false
    }
   },
   "outputs": [],
   "source": [
    "a = np.array([[1, 2], [3, 4]])\n",
    "\n",
    "np.mean(a)"
   ]
  },
  {
   "cell_type": "code",
   "execution_count": null,
   "id": "10b8c34286fc5777",
   "metadata": {
    "collapsed": false,
    "jupyter": {
     "outputs_hidden": false
    }
   },
   "outputs": [],
   "source": [
    "np.mean(a, axis = 1) ## along the row axis"
   ]
  },
  {
   "cell_type": "code",
   "execution_count": null,
   "id": "f2363838771dbc74",
   "metadata": {
    "collapsed": false,
    "jupyter": {
     "outputs_hidden": false
    }
   },
   "outputs": [],
   "source": [
    "np.mean(a, axis = 0) ## along the column axis"
   ]
  },
  {
   "cell_type": "code",
   "execution_count": null,
   "id": "789dc041feb3aba1",
   "metadata": {
    "collapsed": false,
    "jupyter": {
     "outputs_hidden": false
    }
   },
   "outputs": [],
   "source": [
    "a = np.array([[1, 2], [3, 4]])\n",
    "np.median(a)"
   ]
  },
  {
   "cell_type": "code",
   "execution_count": null,
   "id": "6ef4e63266c5e29a",
   "metadata": {
    "collapsed": false,
    "jupyter": {
     "outputs_hidden": false
    }
   },
   "outputs": [],
   "source": [
    "np.median(a, axis = 1) ## along the row axis"
   ]
  },
  {
   "cell_type": "code",
   "execution_count": null,
   "id": "1d40fc4cb3b87b95",
   "metadata": {
    "collapsed": false,
    "jupyter": {
     "outputs_hidden": false
    }
   },
   "outputs": [],
   "source": [
    "np.median(a, axis = 0) ## along the column axis"
   ]
  },
  {
   "cell_type": "code",
   "execution_count": null,
   "id": "c3a0ea312f0ced8b",
   "metadata": {
    "collapsed": false,
    "jupyter": {
     "outputs_hidden": false
    }
   },
   "outputs": [],
   "source": [
    "a = np.array([[1, 2], [3, 4]])\n",
    "np.std(a)"
   ]
  },
  {
   "cell_type": "code",
   "execution_count": null,
   "id": "36e05d06c6e427b4",
   "metadata": {
    "collapsed": false,
    "jupyter": {
     "outputs_hidden": false
    }
   },
   "outputs": [],
   "source": [
    "np.std(a, axis = 1) ## along the row axis"
   ]
  },
  {
   "cell_type": "code",
   "execution_count": null,
   "id": "2a156abbdb339990",
   "metadata": {
    "collapsed": false,
    "jupyter": {
     "outputs_hidden": false
    }
   },
   "outputs": [],
   "source": [
    "np.std(a, axis = 0) ## along the column axis"
   ]
  },
  {
   "cell_type": "code",
   "execution_count": null,
   "id": "7c940a58e306af10",
   "metadata": {
    "collapsed": false,
    "jupyter": {
     "outputs_hidden": false
    }
   },
   "outputs": [],
   "source": [
    "np.std(a, axis = 0)"
   ]
  }
 ],
 "metadata": {
  "kernelspec": {
   "display_name": "Python 3 (ipykernel)",
   "language": "python",
   "name": "python3"
  },
  "language_info": {
   "codemirror_mode": {
    "name": "ipython",
    "version": 3
   },
   "file_extension": ".py",
   "mimetype": "text/x-python",
   "name": "python",
   "nbconvert_exporter": "python",
   "pygments_lexer": "ipython3",
   "version": "3.11.5"
  }
 },
 "nbformat": 4,
 "nbformat_minor": 5
}
