{
 "cells": [
  {
   "cell_type": "code",
   "execution_count": 4,
   "outputs": [],
   "source": [
    "import numpy as np"
   ],
   "metadata": {
    "collapsed": false,
    "ExecuteTime": {
     "end_time": "2024-03-31T02:58:07.755653400Z",
     "start_time": "2024-03-31T02:58:07.704757300Z"
    }
   },
   "id": "35a4d4a8d3b29cd6"
  },
  {
   "cell_type": "code",
   "execution_count": 2,
   "outputs": [
    {
     "data": {
      "text/plain": "9"
     },
     "execution_count": 2,
     "metadata": {},
     "output_type": "execute_result"
    }
   ],
   "source": [
    "expr = '2 + 3 + 4'\n",
    "eval(expr)"
   ],
   "metadata": {
    "collapsed": true,
    "ExecuteTime": {
     "end_time": "2024-03-31T02:55:22.507782600Z",
     "start_time": "2024-03-31T02:55:22.423348900Z"
    }
   },
   "id": "initial_id"
  },
  {
   "cell_type": "markdown",
   "source": [
    "#### Numerical Stability   \n",
    "Sigmoid and softmax amplify small changes in the inputs.  \n",
    "With this, a very small number underflows and a huge number overflows Python's math library.   \n",
    "An inf is returned and a division by inf gives NaN.  \n",
    "\n",
    "A numerically stable variation  \n",
    "$$softmax(l_i) = \\frac{e^{l_i} + max(e^l)}{\\sum e^{l_i} + max(e^l)}$$    \n",
    "\n",
    "ML Libraries use numerically stable versions.  "
   ],
   "metadata": {
    "collapsed": false
   },
   "id": "975cdb534982ea8c"
  },
  {
   "cell_type": "code",
   "execution_count": 5,
   "outputs": [],
   "source": [
    "def sigmoid(z):\n",
    "    return 1/(1 + np.exp(-z))"
   ],
   "metadata": {
    "collapsed": false,
    "ExecuteTime": {
     "end_time": "2024-03-31T02:58:13.071405900Z",
     "start_time": "2024-03-31T02:58:13.063420400Z"
    }
   },
   "id": "eacff704965354fa"
  },
  {
   "cell_type": "code",
   "execution_count": 17,
   "outputs": [
    {
     "name": "stdout",
     "output_type": "stream",
     "text": [
      "1.0\n",
      "loop of ufunc does not support argument 0 of type int which has no callable exp method\n",
      "0.0\n"
     ]
    },
    {
     "name": "stderr",
     "output_type": "stream",
     "text": [
      "C:\\Users\\Admin\\AppData\\Local\\Temp\\ipykernel_9148\\3602288822.py:2: RuntimeWarning: overflow encountered in exp\n",
      "  return 1/(1 + np.exp(-z))\n"
     ]
    }
   ],
   "source": [
    "big_num1 = 1000000000000000000\n",
    "big_num2 = 10000000000000000000\n",
    "small_num1 = -big_num1\n",
    "small_num2 = -big_num2\n",
    "\n",
    "for num in [big_num1, big_num2, small_num1]: #, small_num2]:\n",
    "    try:\n",
    "        print(sigmoid(num))\n",
    "    except Exception as e:\n",
    "        print(e)"
   ],
   "metadata": {
    "collapsed": false,
    "ExecuteTime": {
     "end_time": "2024-03-31T03:05:17.805696500Z",
     "start_time": "2024-03-31T03:05:17.756015Z"
    }
   },
   "id": "af211edd29345e08"
  },
  {
   "cell_type": "code",
   "execution_count": 18,
   "outputs": [],
   "source": [
    "def softmax(logits):\n",
    "    exponentials = np.exp(logits)\n",
    "    return exponentials / np.sum(exponentials, axis=1).reshape(-1, 1)"
   ],
   "metadata": {
    "collapsed": false,
    "ExecuteTime": {
     "end_time": "2024-03-31T03:06:15.511762100Z",
     "start_time": "2024-03-31T03:06:15.408962500Z"
    }
   },
   "id": "d940a40b110f9235"
  },
  {
   "cell_type": "code",
   "execution_count": 19,
   "outputs": [
    {
     "name": "stdout",
     "output_type": "stream",
     "text": [
      "[[5.60279641e-09 9.99999994e-01]]\n",
      "[[ 0. nan]]\n"
     ]
    },
    {
     "name": "stderr",
     "output_type": "stream",
     "text": [
      "C:\\Users\\Admin\\AppData\\Local\\Temp\\ipykernel_9148\\2929138051.py:2: RuntimeWarning: overflow encountered in exp\n",
      "  exponentials = np.exp(logits)\n",
      "C:\\Users\\Admin\\AppData\\Local\\Temp\\ipykernel_9148\\2929138051.py:3: RuntimeWarning: invalid value encountered in divide\n",
      "  return exponentials / np.sum(exponentials, axis=1).reshape(-1, 1)\n"
     ]
    }
   ],
   "source": [
    "ar1 = np.array([[1, 20]])\n",
    "ar2 = np.array([[1, 1000]])\n",
    "\n",
    "for ar in [ar1, ar2]:\n",
    "    try:\n",
    "        print(softmax(ar))\n",
    "    except Exception as e:\n",
    "        print(e)"
   ],
   "metadata": {
    "collapsed": false,
    "ExecuteTime": {
     "end_time": "2024-03-31T03:09:40.282502300Z",
     "start_time": "2024-03-31T03:09:40.244186700Z"
    }
   },
   "id": "14008758d3b79d63"
  }
 ],
 "metadata": {
  "kernelspec": {
   "display_name": "Python 3",
   "language": "python",
   "name": "python3"
  },
  "language_info": {
   "codemirror_mode": {
    "name": "ipython",
    "version": 2
   },
   "file_extension": ".py",
   "mimetype": "text/x-python",
   "name": "python",
   "nbconvert_exporter": "python",
   "pygments_lexer": "ipython2",
   "version": "2.7.6"
  }
 },
 "nbformat": 4,
 "nbformat_minor": 5
}
