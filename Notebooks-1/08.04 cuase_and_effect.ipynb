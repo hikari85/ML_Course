{
 "cells": [
  {
   "cell_type": "markdown",
   "id": "93993afd-cfeb-4ced-a6a6-3f80932795dd",
   "metadata": {},
   "source": [
    "[Ronaldo pushes aside coca cola](https://www.google.com/search?q=ronaldo+pushes+coca+cola+aside&rlz=1C1CHZN_enIN1086IN1086&oq=ronaldo+pushes+coca+cola+aside&gs_lcrp=EgZjaHJvbWUyBggAEEUYOTIHCAEQIRigATIHCAIQIRigAdIBCTI1NjM4ajBqN6gCALACAA&sourceid=chrome&ie=UTF-8#fpstate=ive&vld=cid:b8c04309,vid:zbuzv1k6ki4,st:0)   \n",
    "[effect](https://www.hindustantimes.com/business/cocacola-responds-after-cristiano-ronaldo-gesture-cost-it-4-billion-101623830150314.html):  \n",
    "\n",
    "Coca-Cola is one of the official sponsors of Euro 2020.   \n",
    "\n",
    "At the pre-match press conference for UEFA Euro 2020, the Portuguese star wasn't pleased with the fact that two Coca-Cola bottles were kept in front of him. So, he moved the bottles out of the camera view during and encouraged people to drink water instead.  \n",
    "\n",
    "This gesture took $4 billion from Coca-Cola's market value and its shares dropped 1.6 per cent."
   ]
  }
 ],
 "metadata": {
  "kernelspec": {
   "display_name": "Python 3 (ipykernel)",
   "language": "python",
   "name": "python3"
  },
  "language_info": {
   "codemirror_mode": {
    "name": "ipython",
    "version": 3
   },
   "file_extension": ".py",
   "mimetype": "text/x-python",
   "name": "python",
   "nbconvert_exporter": "python",
   "pygments_lexer": "ipython3",
   "version": "3.11.5"
  }
 },
 "nbformat": 4,
 "nbformat_minor": 5
}
