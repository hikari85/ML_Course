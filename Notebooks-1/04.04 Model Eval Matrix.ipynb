{
 "cells": [
  {
   "cell_type": "markdown",
   "id": "fc1699f0-e574-4fef-9032-517b32d092c6",
   "metadata": {},
   "source": [
    "### Performance Metrics \n",
    "- Quantitative tests for effectiveness of a model.  \n",
    "- Identify the areas for improvement and optimization.   "
   ]
  },
  {
   "cell_type": "markdown",
   "id": "5901db9d-7375-42a7-9a89-19de3aacbfde",
   "metadata": {},
   "source": [
    "##### Confusion Matrix in Classification     \n",
    "|               | Positive Prediction | Negative Prediction|  \n",
    "|-|-|-|  \n",
    "|Positive Class | True Positive (TP) - Hit | False Negative (FN) Miss, type 2 error|  \n",
    "|Negative Class | False Positive (FP) False Alarm, type 1 error| True Negative (TN) correct rejection|  \n",
    "\n",
    "![](../Figures/precn_recall.PNG)"
   ]
  },
  {
   "cell_type": "markdown",
   "id": "bc328376-de3a-4324-8f55-70febdb8ffee",
   "metadata": {},
   "source": [
    "![](../Figures/Precisionrecall.png)"
   ]
  },
  {
   "cell_type": "markdown",
   "id": "9b451ef9-4882-48e0-a108-381c67a3a1e1",
   "metadata": {},
   "source": [
    "A Bloom filter can either tell you with certainty that an item is not a member of a set, or that it probably is.  \n",
    "[bloomlib 0.0.2](https://pypi.org/project/bloomlib/)  \n"
   ]
  },
  {
   "cell_type": "markdown",
   "id": "8e8182b8-a643-4d03-81cc-202be8e170d4",
   "metadata": {},
   "source": [
    "\n",
    "classification accuracy = $100* \\frac{correct\\ predictions}{total\\ predictions}$   \n",
    "\n",
    "Error rate = $100* (1 -  \\frac{correct\\ predictions}{total\\ predictions})$   \n",
    "\n"
   ]
  },
  {
   "cell_type": "markdown",
   "id": "cf1966fd-6878-497e-a90d-7d3cc2df5bb7",
   "metadata": {},
   "source": [
    "#### Classification Metrics      \n",
    "See 02.01 Statistics Notations   \n",
    "##### Precision and Recall   \n",
    "\n",
    "Maximizing precision will minimize the number false positives,  \n",
    "whereas maximizing the recall will minimize the number of false negatives.  \n",
    "\n",
    "<u>Precision</u>: Appropriate when minimizing false positives is the focus.   \n",
    "<u>Recall</u>: Appropriate when minimizing false negatives is the focus.  \n",
    "\n",
    "**bell**, cell, dell, fell, hell, sell, tell,  **well**, yell   \n",
    "my name is not in the water list   \n",
    "\n",
    "<u>Increases in recall often come at the expense of decreases in precision</u>.\n",
    "\n",
    "Precision for Binary Classification \n",
    "$Precision = \\frac{TruePositives}{TruePositives + FalsePositives}$      \n",
    "\n",
    "In a multi-class problem \n",
    "$Precision = \\frac{\\sum TruePositives}{\\sum TruePositives + \\sum FalsePositives}$   \n",
    "\n",
    "\n",
    "\n",
    "$Recall = \\frac{TruePositives}{TruePositives + FalseNegatives}$ \n",
    "\n",
    "**When the system makes a mistake, which would you rather get – a false positive, or a false negative?**      \n",
    "- To minimize false positives, prefer precision.   \n",
    "- To minimize false negatives, prefer recall.\n",
    "\n",
    "##### F-Measure - F-Score or the F1-Score   \n",
    "F-Measure combines precision and recall into a single measure that captures both properties.  \n",
    "It thus symmetrically represents both precision and recall in one metric.  \n",
    "\n",
    "$F-Measure = \\frac{2\\ *\\ Precision\\ *\\ Recall}{Precision\\ +\\ Recall}$   \n",
    "\n",
    "0.0 to 1.0.  "
   ]
  },
  {
   "cell_type": "markdown",
   "id": "12ecaf98-8f05-42bc-ba8e-3497bb34b353",
   "metadata": {},
   "source": [
    "The F-value in an ANOVA is calculated as: variation between sample means / variation within the samples.   \n",
    "The higher the F-value in an ANOVA, the higher the variation between sample means relative to the variation within the samples.   \n",
    "The higher the F-value, the lower the corresponding p-value.  \n",
    "\n",
    "It is a measure of a test's accuracy.  "
   ]
  },
  {
   "cell_type": "code",
   "execution_count": 1,
   "id": "317029271c090eb9",
   "metadata": {
    "ExecuteTime": {
     "end_time": "2024-02-26T10:04:39.460833700Z",
     "start_time": "2024-02-26T10:04:38.866128200Z"
    },
    "collapsed": false,
    "jupyter": {
     "outputs_hidden": false
    },
    "tags": []
   },
   "outputs": [],
   "source": [
    "from sklearn.metrics import confusion_matrix\n",
    "import pandas as pd\n",
    "from random import randint\n",
    "import numpy as np\n",
    "import seaborn as sns"
   ]
  },
  {
   "cell_type": "code",
   "execution_count": 2,
   "id": "d1d7fc1253ec02f6",
   "metadata": {
    "ExecuteTime": {
     "end_time": "2024-02-26T10:04:39.772391900Z",
     "start_time": "2024-02-26T10:04:39.460833700Z"
    },
    "collapsed": false,
    "jupyter": {
     "outputs_hidden": false
    },
    "tags": []
   },
   "outputs": [],
   "source": [
    "dataset = pd.read_excel('../Data/Height_Weight_Sample.xlsx')\n",
    "array = dataset.values\n",
    "X_train = array[:,0:3]\n",
    "y_train = array[:,3]"
   ]
  },
  {
   "cell_type": "code",
   "execution_count": 3,
   "id": "92b0c978d22dc5c3",
   "metadata": {
    "ExecuteTime": {
     "end_time": "2024-02-26T10:04:40.088149300Z",
     "start_time": "2024-02-26T10:04:39.776383500Z"
    },
    "collapsed": false,
    "jupyter": {
     "outputs_hidden": false
    },
    "tags": []
   },
   "outputs": [
    {
     "data": {
      "text/html": [
       "<style>#sk-container-id-1 {color: black;}#sk-container-id-1 pre{padding: 0;}#sk-container-id-1 div.sk-toggleable {background-color: white;}#sk-container-id-1 label.sk-toggleable__label {cursor: pointer;display: block;width: 100%;margin-bottom: 0;padding: 0.3em;box-sizing: border-box;text-align: center;}#sk-container-id-1 label.sk-toggleable__label-arrow:before {content: \"▸\";float: left;margin-right: 0.25em;color: #696969;}#sk-container-id-1 label.sk-toggleable__label-arrow:hover:before {color: black;}#sk-container-id-1 div.sk-estimator:hover label.sk-toggleable__label-arrow:before {color: black;}#sk-container-id-1 div.sk-toggleable__content {max-height: 0;max-width: 0;overflow: hidden;text-align: left;background-color: #f0f8ff;}#sk-container-id-1 div.sk-toggleable__content pre {margin: 0.2em;color: black;border-radius: 0.25em;background-color: #f0f8ff;}#sk-container-id-1 input.sk-toggleable__control:checked~div.sk-toggleable__content {max-height: 200px;max-width: 100%;overflow: auto;}#sk-container-id-1 input.sk-toggleable__control:checked~label.sk-toggleable__label-arrow:before {content: \"▾\";}#sk-container-id-1 div.sk-estimator input.sk-toggleable__control:checked~label.sk-toggleable__label {background-color: #d4ebff;}#sk-container-id-1 div.sk-label input.sk-toggleable__control:checked~label.sk-toggleable__label {background-color: #d4ebff;}#sk-container-id-1 input.sk-hidden--visually {border: 0;clip: rect(1px 1px 1px 1px);clip: rect(1px, 1px, 1px, 1px);height: 1px;margin: -1px;overflow: hidden;padding: 0;position: absolute;width: 1px;}#sk-container-id-1 div.sk-estimator {font-family: monospace;background-color: #f0f8ff;border: 1px dotted black;border-radius: 0.25em;box-sizing: border-box;margin-bottom: 0.5em;}#sk-container-id-1 div.sk-estimator:hover {background-color: #d4ebff;}#sk-container-id-1 div.sk-parallel-item::after {content: \"\";width: 100%;border-bottom: 1px solid gray;flex-grow: 1;}#sk-container-id-1 div.sk-label:hover label.sk-toggleable__label {background-color: #d4ebff;}#sk-container-id-1 div.sk-serial::before {content: \"\";position: absolute;border-left: 1px solid gray;box-sizing: border-box;top: 0;bottom: 0;left: 50%;z-index: 0;}#sk-container-id-1 div.sk-serial {display: flex;flex-direction: column;align-items: center;background-color: white;padding-right: 0.2em;padding-left: 0.2em;position: relative;}#sk-container-id-1 div.sk-item {position: relative;z-index: 1;}#sk-container-id-1 div.sk-parallel {display: flex;align-items: stretch;justify-content: center;background-color: white;position: relative;}#sk-container-id-1 div.sk-item::before, #sk-container-id-1 div.sk-parallel-item::before {content: \"\";position: absolute;border-left: 1px solid gray;box-sizing: border-box;top: 0;bottom: 0;left: 50%;z-index: -1;}#sk-container-id-1 div.sk-parallel-item {display: flex;flex-direction: column;z-index: 1;position: relative;background-color: white;}#sk-container-id-1 div.sk-parallel-item:first-child::after {align-self: flex-end;width: 50%;}#sk-container-id-1 div.sk-parallel-item:last-child::after {align-self: flex-start;width: 50%;}#sk-container-id-1 div.sk-parallel-item:only-child::after {width: 0;}#sk-container-id-1 div.sk-dashed-wrapped {border: 1px dashed gray;margin: 0 0.4em 0.5em 0.4em;box-sizing: border-box;padding-bottom: 0.4em;background-color: white;}#sk-container-id-1 div.sk-label label {font-family: monospace;font-weight: bold;display: inline-block;line-height: 1.2em;}#sk-container-id-1 div.sk-label-container {text-align: center;}#sk-container-id-1 div.sk-container {/* jupyter's `normalize.less` sets `[hidden] { display: none; }` but bootstrap.min.css set `[hidden] { display: none !important; }` so we also need the `!important` here to be able to override the default hidden behavior on the sphinx rendered scikit-learn.org. See: https://github.com/scikit-learn/scikit-learn/issues/21755 */display: inline-block !important;position: relative;}#sk-container-id-1 div.sk-text-repr-fallback {display: none;}</style><div id=\"sk-container-id-1\" class=\"sk-top-container\"><div class=\"sk-text-repr-fallback\"><pre>DecisionTreeClassifier()</pre><b>In a Jupyter environment, please rerun this cell to show the HTML representation or trust the notebook. <br />On GitHub, the HTML representation is unable to render, please try loading this page with nbviewer.org.</b></div><div class=\"sk-container\" hidden><div class=\"sk-item\"><div class=\"sk-estimator sk-toggleable\"><input class=\"sk-toggleable__control sk-hidden--visually\" id=\"sk-estimator-id-1\" type=\"checkbox\" checked><label for=\"sk-estimator-id-1\" class=\"sk-toggleable__label sk-toggleable__label-arrow\">DecisionTreeClassifier</label><div class=\"sk-toggleable__content\"><pre>DecisionTreeClassifier()</pre></div></div></div></div></div>"
      ],
      "text/plain": [
       "DecisionTreeClassifier()"
      ]
     },
     "execution_count": 3,
     "metadata": {},
     "output_type": "execute_result"
    }
   ],
   "source": [
    "from sklearn import tree\n",
    "tree_classifier = tree.DecisionTreeClassifier()\n",
    "tree_classifier.fit(X_train, y_train)"
   ]
  },
  {
   "cell_type": "code",
   "execution_count": 4,
   "id": "a602a38a18948a6d",
   "metadata": {
    "ExecuteTime": {
     "end_time": "2024-02-26T10:04:40.101629200Z",
     "start_time": "2024-02-26T10:04:40.090116Z"
    },
    "collapsed": false,
    "jupyter": {
     "outputs_hidden": false
    },
    "tags": []
   },
   "outputs": [],
   "source": [
    "predicted = tree_classifier.predict(X_train)"
   ]
  },
  {
   "cell_type": "code",
   "execution_count": 5,
   "id": "5ec2eac1-6417-4a46-bdeb-61f7552af8f6",
   "metadata": {
    "ExecuteTime": {
     "end_time": "2024-02-26T10:04:40.140659600Z",
     "start_time": "2024-02-26T10:04:40.097640600Z"
    },
    "collapsed": false,
    "jupyter": {
     "outputs_hidden": false
    },
    "tags": []
   },
   "outputs": [
    {
     "name": "stdout",
     "output_type": "stream",
     "text": [
      "\n",
      "accuracy_score = 0.9927536231884058\n",
      "\n",
      "confusion matrix\n",
      "[[66  0]\n",
      " [ 1 71]]\n"
     ]
    }
   ],
   "source": [
    "from sklearn.metrics import accuracy_score\n",
    "print(f\"\\naccuracy_score = {accuracy_score(predicted,y_train)}\")\n",
    "\n",
    "print(f\"\\nconfusion matrix\\n{confusion_matrix(y_train, predicted)}\\n\")"
   ]
  },
  {
   "cell_type": "code",
   "execution_count": 6,
   "id": "8a0b29c6-3325-4617-8526-e7efcb0a888d",
   "metadata": {
    "ExecuteTime": {
     "end_time": "2024-02-26T10:04:40.144649300Z",
     "start_time": "2024-02-26T10:04:40.113372800Z"
    },
    "collapsed": false,
    "jupyter": {
     "outputs_hidden": false
    },
    "tags": []
   },
   "outputs": [
    {
     "data": {
      "text/html": [
       "<div>\n",
       "<style scoped>\n",
       "    .dataframe tbody tr th:only-of-type {\n",
       "        vertical-align: middle;\n",
       "    }\n",
       "\n",
       "    .dataframe tbody tr th {\n",
       "        vertical-align: top;\n",
       "    }\n",
       "\n",
       "    .dataframe thead th {\n",
       "        text-align: right;\n",
       "    }\n",
       "</style>\n",
       "<table border=\"1\" class=\"dataframe\">\n",
       "  <thead>\n",
       "    <tr style=\"text-align: right;\">\n",
       "      <th></th>\n",
       "      <th>Female</th>\n",
       "      <th>Male</th>\n",
       "    </tr>\n",
       "  </thead>\n",
       "  <tbody>\n",
       "    <tr>\n",
       "      <th>Female</th>\n",
       "      <td>66</td>\n",
       "      <td>0</td>\n",
       "    </tr>\n",
       "    <tr>\n",
       "      <th>Male</th>\n",
       "      <td>1</td>\n",
       "      <td>71</td>\n",
       "    </tr>\n",
       "  </tbody>\n",
       "</table>\n",
       "</div>"
      ],
      "text/plain": [
       "        Female  Male\n",
       "Female      66     0\n",
       "Male         1    71"
      ]
     },
     "execution_count": 6,
     "metadata": {},
     "output_type": "execute_result"
    }
   ],
   "source": [
    "confused = confusion_matrix(y_train, predicted)\n",
    "df_confused = pd.DataFrame(confused, index=['Female', 'Male'], columns=['Female','Male'])\n",
    "df_confused"
   ]
  },
  {
   "cell_type": "code",
   "execution_count": 6,
   "id": "6eca013d-47ca-451b-90c8-0892d16cf190",
   "metadata": {
    "ExecuteTime": {
     "end_time": "2024-02-26T10:04:40.145646900Z",
     "start_time": "2024-02-26T10:04:40.130683100Z"
    }
   },
   "outputs": [],
   "source": []
  },
  {
   "cell_type": "code",
   "execution_count": 7,
   "id": "49295f13-45b9-43d7-bfeb-afe2c9197c1a",
   "metadata": {
    "ExecuteTime": {
     "end_time": "2024-02-26T10:04:40.470948800Z",
     "start_time": "2024-02-26T10:04:40.137669900Z"
    },
    "tags": []
   },
   "outputs": [
    {
     "data": {
      "image/png": "[encoded data removed]",
      "text/plain": [
       "<Figure size 640x480 with 2 Axes>"
      ]
     },
     "metadata": {},
     "output_type": "display_data"
    }
   ],
   "source": [
    "hot = pd.DataFrame(df_confused, index=['Female', 'Male'], columns=['Female','Male'])\n",
    "sns.heatmap(hot, annot=True);\n"
   ]
  },
  {
   "cell_type": "markdown",
   "id": "89f57221054318fe",
   "metadata": {},
   "source": [
    "#### Topics on model evaluation in Part 2     \n",
    "- confusion matrix,   \n",
    "- accuracy,   \n",
    "- precision,   \n",
    "- recall,   \n",
    "- F1-Score,   \n",
    "- cross validation,   \n",
    "- area under curve,   \n",
    "- gradient Boosting.     "
   ]
  },
  {
   "cell_type": "markdown",
   "id": "358b40fb-bc68-4d50-abaf-8a4b92cac3b5",
   "metadata": {},
   "source": [
    "#### Regression Metrics      \n",
    "Commonly used:  \n",
    "- Mean Squared Error (MSE)  \n",
    "- Root Mean Squared Error (RMSE)  \n",
    "- Mean Absolute Error (MAE)  \n",
    "\n",
    "The differences between observed and predicted values of data is called **residual** = $y_i – \\hat y_i$\n",
    "\n",
    "$MSE = \\frac{\\sum _i ^N (y_i – \\hat y_i)^2}{N}$    \n",
    " where $y_i$ is the i’th expected value in the dataset and $\\hat y_i$ is the i’th predicted value.  \n",
    "Squaring also has the effect of magnifying large errors.  \n",
    "This has the effect of “punishing” models more for larger errors when MSE is used as a loss function.  \n",
    "It also has the effect of “punishing” models by inflating the average error score when used as a metric.   \n",
    "\n",
    "$RMSE = \\sqrt{\\frac{\\sum _i ^N (y_i – \\hat y_i)^2}{N}}$   \n",
    "$RMSE = \\sqrt{MSE}$   \n",
    "\n",
    "\n",
    "$MAE = \\frac{\\sum _i ^N  abs(y_i – \\hat y_i)}{N}$   \n"
   ]
  },
  {
   "cell_type": "markdown",
   "id": "5bc05222-28e1-4441-8eff-64fb4631a7fa",
   "metadata": {},
   "source": [
    "#### Coefficient of determination - $R^2$ score        \n",
    "$R^2$ score is used to evaluate the performance of a linear regression model.  \n",
    "It is the amount of the variation in the output dependent attribute which is predictable from the input independent variable(s).  \n",
    "It is used to check how well-observed results are reproduced by the model,  \n",
    "depending on the ratio of total deviation of results described by the model.   \n",
    "\n",
    "$$R^2 = 1- \\frac{SSres}{TStot}$$   \n",
    "Where,   \n",
    "SSres (aka RSS) is the **S**um of **S**quares of the **res**idual-errors($y - \\hat{y}$).   \n",
    "SStot (aka TSS) is the **tot**al **S**um of **S**quares of the errors($y - \\bar{y}$).   \n",
    "$$ R^2 = 1 - \\frac{RSS}{TSS}$$\n",
    "\n",
    "$$R^2 = \\frac{\\sum(y_i - \\hat y_i)^2}{\\sum(y_i - \\bar y_i)^2}$$\n",
    "\n",
    "<u>Interpretation</u>:   \n",
    "Assume  $R^2$ = 0.68  \n",
    "68% of the changeability of the dependent output attribute can be explained by the model  \n",
    "while the remaining 32 % of the variability is still unaccounted for.  \n",
    "\n",
    "$R^2$ indicates the proportion of data points which lie within the line created by the regression equation.  "
   ]
  },
  {
   "cell_type": "code",
   "execution_count": 8,
   "id": "ddd57707-7722-4bfb-b648-e99de982a88c",
   "metadata": {
    "ExecuteTime": {
     "end_time": "2024-02-26T10:04:40.471945900Z",
     "start_time": "2024-02-26T10:04:40.467444300Z"
    },
    "tags": []
   },
   "outputs": [],
   "source": [
    "from sklearn.metrics import r2_score "
   ]
  },
  {
   "cell_type": "markdown",
   "id": "692a36309883d017",
   "metadata": {},
   "source": []
  },
  {
   "cell_type": "markdown",
   "id": "b2ed04a5-adf5-410e-b1d7-887a207bff51",
   "metadata": {},
   "source": [
    "<u>Example 1</u>\n",
    "\n",
    "|y|y_hat|y - y_hat|(y - y_hat)${^2}$|y - y_bar|(y - y_bar)$^2$|         \n",
    "|:-:|:-:|:-:|:-:|:-:|:-:|   \n",
    "|10|10|0|0|-10|100|    \n",
    "|20|20|0|0|0|0|     \n",
    "|30|30|0|0|10|100|     \n",
    "|mean=20|||sum=0||sum=200|     \n",
    "\n",
    "\n",
    "$$R^2 = 1 - \\frac{0}{200} = 1$$"
   ]
  },
  {
   "cell_type": "code",
   "execution_count": 9,
   "id": "2cdbecae-0b42-41b5-a0f2-aa838938cbd7",
   "metadata": {
    "ExecuteTime": {
     "end_time": "2024-02-26T10:04:40.491291200Z",
     "start_time": "2024-02-26T10:04:40.472942300Z"
    },
    "tags": []
   },
   "outputs": [
    {
     "name": "stdout",
     "output_type": "stream",
     "text": [
      "r2 score for perfect model: 1.0\n"
     ]
    }
   ],
   "source": [
    "y =[10, 20, 30] \n",
    "𝑦̂  =[10, 20, 30] \n",
    "r2 = r2_score(y, 𝑦̂ ) \n",
    "print('r2 score for perfect model:', r2) "
   ]
  },
  {
   "cell_type": "markdown",
   "id": "2406e6b1-6c0a-438b-b4fe-ff6578c8d626",
   "metadata": {},
   "source": [
    "<u>Example 2</u>\n",
    "\n",
    "|y|y_hat|y - y_hat|(y - y_hat)${^2}$|y - y_bar|(y - y_bar)$^2$|         \n",
    "|:-:|:-:|:-:|:-:|:-:|:-:|   \n",
    "|10|20|10|100|-10|100|    \n",
    "|20|20|0|0|0|0|     \n",
    "|30|20|-10|100|10|100|    \n",
    "|mean=20|||sum=200||sum=200|     \n",
    "\n",
    "$$R^2 = 1 - \\frac{200}{200} = 0$$"
   ]
  },
  {
   "cell_type": "code",
   "execution_count": 10,
   "id": "d3168724-be64-4f52-9625-4f78f5e1d709",
   "metadata": {
    "ExecuteTime": {
     "end_time": "2024-02-26T10:04:40.494282700Z",
     "start_time": "2024-02-26T10:04:40.481910200Z"
    },
    "tags": []
   },
   "outputs": [
    {
     "name": "stdout",
     "output_type": "stream",
     "text": [
      "r2 score for a model which always predicts mean value: 0.0\n"
     ]
    }
   ],
   "source": [
    "y =[10, 20, 30] \n",
    "𝑦̂  =[20, 20, 20] \n",
    "r2 = r2_score(y, 𝑦̂ ) \n",
    "print('r2 score for a model which always predicts mean value:', r2) "
   ]
  },
  {
   "cell_type": "code",
   "execution_count": 11,
   "id": "becbe2e6-ffcb-47c0-978a-3f941d2c5b76",
   "metadata": {
    "ExecuteTime": {
     "end_time": "2024-02-26T10:04:40.633860600Z",
     "start_time": "2024-02-26T10:04:40.494282700Z"
    },
    "tags": []
   },
   "outputs": [],
   "source": [
    "import pandas as pd\n",
    "import math\n",
    "import random\n",
    "import joblib\n",
    "from sklearn.linear_model import LinearRegression\n",
    "import matplotlib.pyplot as plt\n",
    "import seaborn as sns\n",
    "import warnings\n",
    "\n",
    "warnings.filterwarnings(\"ignore\")"
   ]
  },
  {
   "cell_type": "markdown",
   "id": "5beec69085543fb",
   "metadata": {},
   "source": [
    "#### Regression Model to predict BMI from height and weight   \n",
    "Read student file with height and weight columns   \n",
    "drop rows with NaN   \n",
    "Add column BMI    "
   ]
  },
  {
   "cell_type": "code",
   "execution_count": 12,
   "id": "f765c036d563fdb0",
   "metadata": {
    "ExecuteTime": {
     "end_time": "2024-02-26T10:04:40.680330400Z",
     "start_time": "2024-02-26T10:04:40.510544800Z"
    },
    "collapsed": false,
    "jupyter": {
     "outputs_hidden": false
    }
   },
   "outputs": [
    {
     "data": {
      "text/html": [
       "<div>\n",
       "<style scoped>\n",
       "    .dataframe tbody tr th:only-of-type {\n",
       "        vertical-align: middle;\n",
       "    }\n",
       "\n",
       "    .dataframe tbody tr th {\n",
       "        vertical-align: top;\n",
       "    }\n",
       "\n",
       "    .dataframe thead th {\n",
       "        text-align: right;\n",
       "    }\n",
       "</style>\n",
       "<table border=\"1\" class=\"dataframe\">\n",
       "  <thead>\n",
       "    <tr style=\"text-align: right;\">\n",
       "      <th></th>\n",
       "      <th>Height_cm</th>\n",
       "      <th>Weight_Kg</th>\n",
       "      <th>BMI</th>\n",
       "    </tr>\n",
       "  </thead>\n",
       "  <tbody>\n",
       "    <tr>\n",
       "      <th>0</th>\n",
       "      <td>164.0</td>\n",
       "      <td>50.0</td>\n",
       "      <td>18.590125</td>\n",
       "    </tr>\n",
       "    <tr>\n",
       "      <th>1</th>\n",
       "      <td>169.0</td>\n",
       "      <td>49.0</td>\n",
       "      <td>17.156262</td>\n",
       "    </tr>\n",
       "    <tr>\n",
       "      <th>2</th>\n",
       "      <td>174.0</td>\n",
       "      <td>59.0</td>\n",
       "      <td>19.487383</td>\n",
       "    </tr>\n",
       "    <tr>\n",
       "      <th>3</th>\n",
       "      <td>175.0</td>\n",
       "      <td>63.0</td>\n",
       "      <td>20.571429</td>\n",
       "    </tr>\n",
       "    <tr>\n",
       "      <th>4</th>\n",
       "      <td>185.0</td>\n",
       "      <td>50.0</td>\n",
       "      <td>14.609204</td>\n",
       "    </tr>\n",
       "  </tbody>\n",
       "</table>\n",
       "</div>"
      ],
      "text/plain": [
       "   Height_cm  Weight_Kg        BMI\n",
       "0      164.0       50.0  18.590125\n",
       "1      169.0       49.0  17.156262\n",
       "2      174.0       59.0  19.487383\n",
       "3      175.0       63.0  20.571429\n",
       "4      185.0       50.0  14.609204"
      ]
     },
     "execution_count": 12,
     "metadata": {},
     "output_type": "execute_result"
    }
   ],
   "source": [
    "df = pd.read_excel('../Data/BSc22A_Student_Data.xlsx', usecols=['Height_cm', 'Weight_Kg'])\n",
    "df['BMI'] = df.Weight_Kg/(df.Height_cm/100)**2\n",
    "df = df.dropna()\n",
    "df.head()"
   ]
  },
  {
   "cell_type": "markdown",
   "id": "96d2ad531269776f",
   "metadata": {},
   "source": [
    "##### Make training set   "
   ]
  },
  {
   "cell_type": "code",
   "execution_count": 13,
   "id": "74e7fc273192a542",
   "metadata": {
    "ExecuteTime": {
     "end_time": "2024-02-26T10:04:40.702272600Z",
     "start_time": "2024-02-26T10:04:40.622218500Z"
    },
    "collapsed": false,
    "jupyter": {
     "outputs_hidden": false
    }
   },
   "outputs": [],
   "source": [
    "array = df.values\n",
    "X_train = array[:,0:2]\n",
    "y_train = array[:,2]"
   ]
  },
  {
   "cell_type": "markdown",
   "id": "e534f096ba766529",
   "metadata": {},
   "source": [
    "##### Model with the sample   "
   ]
  },
  {
   "cell_type": "code",
   "execution_count": 14,
   "id": "a21bfd7e2fb46aee",
   "metadata": {
    "ExecuteTime": {
     "end_time": "2024-02-26T10:04:40.705263100Z",
     "start_time": "2024-02-26T10:04:40.631596500Z"
    },
    "collapsed": false,
    "jupyter": {
     "outputs_hidden": false
    }
   },
   "outputs": [],
   "source": [
    "regressor = LinearRegression()\n",
    "bmi_model = regressor.fit(X_train, y_train)"
   ]
  },
  {
   "cell_type": "markdown",
   "id": "22b42355f7624c71",
   "metadata": {},
   "source": [
    "##### Accuracy with the training set   "
   ]
  },
  {
   "cell_type": "code",
   "execution_count": 15,
   "id": "aa2b1f38-6a6d-4c63-a714-d4c4c8364c51",
   "metadata": {
    "ExecuteTime": {
     "end_time": "2024-02-26T10:04:40.706296900Z",
     "start_time": "2024-02-26T10:04:40.651454800Z"
    }
   },
   "outputs": [
    {
     "name": "stdout",
     "output_type": "stream",
     "text": [
      "Score = 0.9966626056995165\n"
     ]
    }
   ],
   "source": [
    "Score = bmi_model.score(X_train, y_train)\n",
    "print(f\"{Score = }\")"
   ]
  },
  {
   "cell_type": "code",
   "execution_count": 16,
   "id": "23d5f732-acda-4c80-b838-bca0ed265692",
   "metadata": {
    "ExecuteTime": {
     "end_time": "2024-02-26T10:04:40.787188500Z",
     "start_time": "2024-02-26T10:04:40.662421300Z"
    }
   },
   "outputs": [
    {
     "data": {
      "text/html": [
       "<div>\n",
       "<style scoped>\n",
       "    .dataframe tbody tr th:only-of-type {\n",
       "        vertical-align: middle;\n",
       "    }\n",
       "\n",
       "    .dataframe tbody tr th {\n",
       "        vertical-align: top;\n",
       "    }\n",
       "\n",
       "    .dataframe thead th {\n",
       "        text-align: right;\n",
       "    }\n",
       "</style>\n",
       "<table border=\"1\" class=\"dataframe\">\n",
       "  <thead>\n",
       "    <tr style=\"text-align: right;\">\n",
       "      <th></th>\n",
       "      <th>y_hat</th>\n",
       "      <th>y</th>\n",
       "      <th>residual</th>\n",
       "    </tr>\n",
       "  </thead>\n",
       "  <tbody>\n",
       "    <tr>\n",
       "      <th>0</th>\n",
       "      <td>18.709435</td>\n",
       "      <td>18.590125</td>\n",
       "      <td>-0.119310</td>\n",
       "    </tr>\n",
       "    <tr>\n",
       "      <th>1</th>\n",
       "      <td>17.339727</td>\n",
       "      <td>17.156262</td>\n",
       "      <td>-0.183465</td>\n",
       "    </tr>\n",
       "    <tr>\n",
       "      <th>2</th>\n",
       "      <td>19.441767</td>\n",
       "      <td>19.487383</td>\n",
       "      <td>0.045616</td>\n",
       "    </tr>\n",
       "    <tr>\n",
       "      <th>3</th>\n",
       "      <td>20.493402</td>\n",
       "      <td>20.571429</td>\n",
       "      <td>0.078027</td>\n",
       "    </tr>\n",
       "    <tr>\n",
       "      <th>4</th>\n",
       "      <td>14.282236</td>\n",
       "      <td>14.609204</td>\n",
       "      <td>0.326968</td>\n",
       "    </tr>\n",
       "  </tbody>\n",
       "</table>\n",
       "</div>"
      ],
      "text/plain": [
       "       y_hat          y  residual\n",
       "0  18.709435  18.590125 -0.119310\n",
       "1  17.339727  17.156262 -0.183465\n",
       "2  19.441767  19.487383  0.045616\n",
       "3  20.493402  20.571429  0.078027\n",
       "4  14.282236  14.609204  0.326968"
      ]
     },
     "execution_count": 16,
     "metadata": {},
     "output_type": "execute_result"
    }
   ],
   "source": [
    "X1 = bmi_model.predict(X_train)\n",
    "X1 = X1.reshape(1, -1)[0]\n",
    "X2 = y_train.reshape(1, -1)[0]\n",
    "data = zip(X1, X2)\n",
    "df_score = pd.DataFrame(list(data), columns=['y_hat','y'])\n",
    "df_score['residual'] = df_score.y - df_score.y_hat\n",
    "df_score.head()"
   ]
  },
  {
   "cell_type": "code",
   "execution_count": 17,
   "id": "2881a69b-199c-41fd-a015-55730c8626c4",
   "metadata": {
    "ExecuteTime": {
     "end_time": "2024-02-26T10:04:41.100337100Z",
     "start_time": "2024-02-26T10:04:40.685317700Z"
    }
   },
   "outputs": [
    {
     "data": {
      "image/png": "[encoded data removed]",
      "text/plain": [
       "<Figure size 400x400 with 1 Axes>"
      ]
     },
     "metadata": {},
     "output_type": "display_data"
    }
   ],
   "source": [
    "plt.figure(figsize=(4,4))\n",
    "plt.scatter(df_score.y_hat, df_score.y,  color='red', alpha=0.5)\n",
    "plt.plot( [14.5,33], [14.5,33],  color='grey')\n",
    "plt.xlabel(\"Predicted Value\")\n",
    "plt.ylabel(\"Actual Value\")\n",
    "plt.title(\"Prediction Error - QQ Plot\");"
   ]
  },
  {
   "cell_type": "markdown",
   "id": "cec1e2e8-cb61-4ce1-a742-438f28ab1ffe",
   "metadata": {},
   "source": [
    "##### Residual Distribution  \n",
    "Linear regression assumes that the model residuals are normally distributed.\n",
    "A good residual plot will follow a normal distribution.\n",
    "A bad residual plot will show skewness and reveal patterns in residuals."
   ]
  },
  {
   "cell_type": "code",
   "execution_count": 18,
   "id": "32c72936-ed86-4502-bb65-f8d83fdb8508",
   "metadata": {
    "ExecuteTime": {
     "end_time": "2024-02-26T10:04:41.404973500Z",
     "start_time": "2024-02-26T10:04:41.095444600Z"
    }
   },
   "outputs": [
    {
     "data": {
      "image/png": "[encoded data removed]",
      "text/plain": [
       "<Figure size 640x480 with 1 Axes>"
      ]
     },
     "metadata": {},
     "output_type": "display_data"
    }
   ],
   "source": [
    "sns.histplot(data=df_score, x='residual', kde=True);"
   ]
  },
  {
   "cell_type": "code",
   "execution_count": 19,
   "id": "6bbd464b-1840-4e0b-bc6f-039c9eb87701",
   "metadata": {
    "ExecuteTime": {
     "end_time": "2024-02-26T10:04:41.652628400Z",
     "start_time": "2024-02-26T10:04:41.417940800Z"
    }
   },
   "outputs": [
    {
     "data": {
      "image/png": "[encoded data removed]",
      "text/plain": [
       "<Figure size 600x300 with 1 Axes>"
      ]
     },
     "metadata": {},
     "output_type": "display_data"
    }
   ],
   "source": [
    "plt.figure(figsize=(6,3))\n",
    "plt.plot(df_score.y_hat, c='red', label='Predicted', alpha=0.5)\n",
    "plt.plot(df_score.y,c='blue', label='Actual', alpha=0.5)\n",
    "plt.plot(df_score.residual,c='grey', label='Error')\n",
    "plt.grid()\n",
    "plt.legend();"
   ]
  },
  {
   "cell_type": "code",
   "execution_count": 20,
   "id": "952ec25e-2009-46ab-b1bf-7cc95ae1df06",
   "metadata": {
    "ExecuteTime": {
     "end_time": "2024-02-26T10:04:41.662214Z",
     "start_time": "2024-02-26T10:04:41.649066100Z"
    }
   },
   "outputs": [
    {
     "data": {
      "text/html": [
       "<div>\n",
       "<style scoped>\n",
       "    .dataframe tbody tr th:only-of-type {\n",
       "        vertical-align: middle;\n",
       "    }\n",
       "\n",
       "    .dataframe tbody tr th {\n",
       "        vertical-align: top;\n",
       "    }\n",
       "\n",
       "    .dataframe thead th {\n",
       "        text-align: right;\n",
       "    }\n",
       "</style>\n",
       "<table border=\"1\" class=\"dataframe\">\n",
       "  <thead>\n",
       "    <tr style=\"text-align: right;\">\n",
       "      <th></th>\n",
       "      <th>y_hat</th>\n",
       "      <th>y</th>\n",
       "      <th>residual</th>\n",
       "      <th>RSS</th>\n",
       "      <th>TSS</th>\n",
       "      <th>AE</th>\n",
       "    </tr>\n",
       "  </thead>\n",
       "  <tbody>\n",
       "    <tr>\n",
       "      <th>0</th>\n",
       "      <td>18.709435</td>\n",
       "      <td>18.590125</td>\n",
       "      <td>-0.119310</td>\n",
       "      <td>0.014235</td>\n",
       "      <td>3.396469</td>\n",
       "      <td>1.842951</td>\n",
       "    </tr>\n",
       "    <tr>\n",
       "      <th>1</th>\n",
       "      <td>17.339727</td>\n",
       "      <td>17.156262</td>\n",
       "      <td>-0.183465</td>\n",
       "      <td>0.033659</td>\n",
       "      <td>10.737510</td>\n",
       "      <td>3.276814</td>\n",
       "    </tr>\n",
       "    <tr>\n",
       "      <th>2</th>\n",
       "      <td>19.441767</td>\n",
       "      <td>19.487383</td>\n",
       "      <td>0.045616</td>\n",
       "      <td>0.002081</td>\n",
       "      <td>0.894336</td>\n",
       "      <td>0.945693</td>\n",
       "    </tr>\n",
       "    <tr>\n",
       "      <th>3</th>\n",
       "      <td>20.493402</td>\n",
       "      <td>20.571429</td>\n",
       "      <td>0.078027</td>\n",
       "      <td>0.006088</td>\n",
       "      <td>0.019141</td>\n",
       "      <td>0.138353</td>\n",
       "    </tr>\n",
       "    <tr>\n",
       "      <th>4</th>\n",
       "      <td>14.282236</td>\n",
       "      <td>14.609204</td>\n",
       "      <td>0.326968</td>\n",
       "      <td>0.106908</td>\n",
       "      <td>33.917488</td>\n",
       "      <td>5.823872</td>\n",
       "    </tr>\n",
       "  </tbody>\n",
       "</table>\n",
       "</div>"
      ],
      "text/plain": [
       "       y_hat          y  residual       RSS        TSS        AE\n",
       "0  18.709435  18.590125 -0.119310  0.014235   3.396469  1.842951\n",
       "1  17.339727  17.156262 -0.183465  0.033659  10.737510  3.276814\n",
       "2  19.441767  19.487383  0.045616  0.002081   0.894336  0.945693\n",
       "3  20.493402  20.571429  0.078027  0.006088   0.019141  0.138353\n",
       "4  14.282236  14.609204  0.326968  0.106908  33.917488  5.823872"
      ]
     },
     "execution_count": 20,
     "metadata": {},
     "output_type": "execute_result"
    }
   ],
   "source": [
    "df_score['RSS'] = (df_score.y - df_score.y_hat)**2 # square of error \n",
    "df_score['TSS'] = (df_score.y - df_score.y.mean())**2   \n",
    "df_score['AE'] = abs(df_score.y - df_score.y.mean())   \n",
    "df_score.head()"
   ]
  },
  {
   "cell_type": "code",
   "execution_count": 21,
   "id": "a55882b0-ec27-44d4-a8e1-e1f69a9fe354",
   "metadata": {
    "ExecuteTime": {
     "end_time": "2024-02-26T10:04:41.684530200Z",
     "start_time": "2024-02-26T10:04:41.664208Z"
    }
   },
   "outputs": [
    {
     "name": "stdout",
     "output_type": "stream",
     "text": [
      "Mean Absolute Error (MAE)       2.256494469112056\n",
      "Mean Squared Error (MSE)        0.03320690905047516\n",
      "Root Mean Squared Error (RMSE)  0.18222762976693507\n",
      "Accuracy Score                  0.9966626056995165\n"
     ]
    }
   ],
   "source": [
    "print(f\"Mean Absolute Error (MAE)       {df_score.AE.mean()}\")\n",
    "print(f\"Mean Squared Error (MSE)        {df_score.RSS.mean()}\")\n",
    "print(f\"Root Mean Squared Error (RMSE)  {math.sqrt(df_score.RSS.mean())}\")\n",
    "R2 = 1 - df_score['RSS'].sum()/df_score['TSS'].sum()\n",
    "print(f\"Accuracy Score                  {R2}\")\n"
   ]
  },
  {
   "cell_type": "markdown",
   "id": "8739b1cd333acff",
   "metadata": {},
   "source": [
    "#### Task   \n",
    "Check accuracy of the above model\n",
    "1. Using /Data/Height_Weight_Sample.xlsx as validation set.  \n",
    "2. Using Puma_Indian data from /Data/seven_schools.xlsx as validation set.\n",
    "3. Make a summary report of your observations. "
   ]
  },
  {
   "cell_type": "markdown",
   "id": "4d7e3e0e-007a-410f-9b0d-adeba0b08f16",
   "metadata": {},
   "source": [
    "---\n",
    "#### Error Types by Category        \n",
    "1. <u>Regression</u>   \n",
    "    - Mean Absolute Error (MAE)   \n",
    "        .. Average absolute difference between the predicted and actual value.  \n",
    "        .. Simple assessment of prediction accuracy.  \n",
    "    - Mean Squared Error (MSE)  \n",
    "        .. average squared difference between the predicted and actual values.  \n",
    "        .. Larger errors inflate the overall metric  \n",
    "    - Root Mean Squared Error   \n",
    "        .. square root of MSE  \n",
    "    - R-squared  \n",
    "        .. proportion of the variance in the target variable explained by the regression model.  \n",
    "    - Adjusted R-squared  \n",
    "        .. Similar to R-squared.  \n",
    "        .. But accounts for the number of predictors (features) in the model.  \n",
    "    - Mean Absolute Percentage Error   \n",
    "        .. average percentage difference between the predicted and actual values.  \n",
    "        .. Typically used when the scale of the target variable is significant.  \n",
    "\n",
    "\n",
    "2. <u>Classification</u>   \n",
    "    - Accuracy   \n",
    "        .. proportion of correct predictions, irrespective of the class.  \n",
    "        .. overall assessment of classification performance.  \n",
    "    - Balanced Accuracy   \n",
    "        \n",
    "    - Precision   \n",
    "        ..proportion of correct positive predictions.  \n",
    "        ..It is the accuracy of the model only on the positive predictions.  \n",
    "    - Recall (Sensitivity)  \n",
    "        .. Measures the proportion of correctly classified positive samples in the dataset.  \n",
    "        .. Accuracy of the model on positive instances in the dataset.  \n",
    "\n",
    "    - Specificity   \n",
    "        ..Opposite of Recall.  \n",
    "        ..proportion of correctly classified negative samples in the dataset.  \n",
    "        ..accuracy of the model on negative instances in the dataset.  \n",
    "\n",
    "    - Negative Predictive Value   \n",
    "        ..Opposite of Precision.   \n",
    "        .. proportion of negative predictions that were correct.  \n",
    "        .. accuracy of the model only on the negative predictions.  \n",
    "\n",
    "    - F1 Score  \n",
    "        ..The harmonic mean of precision and recall.  \n",
    "        ..a balanced measure between the two.  \n",
    "    - Correlation Coefficient  \n",
    "        .. Takes into account TP, TN, FP, and FN predictions to measure the performance of binary classifier.  \n",
    "        .. a balanced performance measure unaffected by class imbalance.  "
   ]
  }
 ],
 "metadata": {
  "kernelspec": {
   "display_name": "Python 3 (ipykernel)",
   "language": "python",
   "name": "python3"
  },
  "language_info": {
   "codemirror_mode": {
    "name": "ipython",
    "version": 3
   },
   "file_extension": ".py",
   "mimetype": "text/x-python",
   "name": "python",
   "nbconvert_exporter": "python",
   "pygments_lexer": "ipython3",
   "version": "3.11.5"
  }
 },
 "nbformat": 4,
 "nbformat_minor": 5
}
