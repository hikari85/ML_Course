{
 "cells": [
  {
   "cell_type": "markdown",
   "id": "82d7904a0538da89",
   "metadata": {},
   "source": [
    "### Statistics Notations  \n",
    "#### Capitalization\n",
    "Generally lower case letters represent the sample attributes   \n",
    "and capital case letters are used to represent population attributes.\n",
    "- P - population proportion.\n",
    "- p - sample proportion.\n",
    "- X - set of population elements.\n",
    "- x - set of sample elements.\n",
    "- N - set of population size.\n",
    "- N - set of sample size."
   ]
  },
  {
   "cell_type": "markdown",
   "id": "59c9691ed20e7896",
   "metadata": {},
   "source": [
    "#### Greek Vs Roman letters   \n",
    "Roman letters represent the sample attributs   \n",
    "and greek letters are used to represent Population attributes.  \n",
    "- μ - population mean.  \n",
    "- $\\bar{x}$ - sample mean.   \n",
    "- $\\sigma$ - standard deviation of a population.  \n",
    "- s - standard deviation of a sample.  "
   ]
  },
  {
   "cell_type": "markdown",
   "id": "f34977200ce6cb24",
   "metadata": {},
   "source": [
    "#### Population specific Parameters   \n",
    "- μ - population mean.\n",
    "- $\\sigma$ - standard deviation of a population.\n",
    "- $μ^2$ - variance of a population.\n",
    "- P - proportion of population elements having a particular attribute.\n",
    "- Q - proportion of population elements having no particular attribute.\n",
    "- $\\rho$ - population correlation coefficient based on all of the elements from a population.\n",
    "- N - number of elements in a population."
   ]
  },
  {
   "cell_type": "markdown",
   "id": "7a41d4aa7fee1c27",
   "metadata": {},
   "source": [
    "#### Sample specific Parameters    \n",
    "Following symbols represent population specific attributes.\n",
    "- $\\bar{x}$ - sample mean.\n",
    "- s - standard deviation of a sample.\n",
    "- $s^2$ - variance of a sample.\n",
    "- p - proportion of sample elements having a particular attribute.\n",
    "- q - proportion of sample elements having no particular attribute.\n",
    "- r - population correlation coefficient based on all of the elements from a sample.\n",
    "- n - number of elements in a sample."
   ]
  },
  {
   "cell_type": "markdown",
   "id": "1051ff6292b1e891",
   "metadata": {},
   "source": [
    "\n",
    "#### Linear Regression  \n",
    "- $B_0$ - intercept constant in a population regression line.\n",
    "- $B_1$ - regression coefficient in a population regression line.\n",
    "- $R^2$  - coefficient of determination.\n",
    "- $b_0$ - intercept constant in a sample regression line.\n",
    "- $b_1$ - regression coefficient in a sample regression line.\n",
    "- $^sb_1$ - standard error of the slope of a regression line."
   ]
  },
  {
   "cell_type": "markdown",
   "id": "5acc1c6ad00c7c85",
   "metadata": {},
   "source": [
    "#### Probability   \n",
    "- P(A) - probability that event A will occur.\n",
    "- P(A|B) - conditional probability that event A occurs, given that event B has occurred.\n",
    "- $P(A^′)$ - probability of the complement of event A.\n",
    "- P(A∩B) - probability of the intersection of events A and B.\n",
    "- P(A∪B) - probability of the union of events A and B.\n",
    "- E(X) - expected value of random variable X.\n",
    "- b(x;n,P) - binomial probability.\n",
    "- b∗(x;n,P) - negative binomial probability.\n",
    "- g(x;P) - geometric probability.\n",
    "- h(x;N,n,k) - hypergeometric probability."
   ]
  },
  {
   "cell_type": "markdown",
   "id": "87e4b14cea92acb3",
   "metadata": {},
   "source": [
    "#### Permutation/Combination  \n",
    "- n! - factorial value of n.  \n",
    "- $^nP_r$ - number of permutations of n things taken r at a time.  \n",
    "- $^nC_r$ - number of combinations of n things taken r at a time.    \n",
    "\n",
    "##### Set    \n",
    "- A⋒B - intersection of set A and B.  \n",
    "- A⋓B - union of set A and B.  \n",
    "- {A,B,C} - set of elements consisting of A, B, and C.  \n",
    "- ∅ - null or empty set.  "
   ]
  },
  {
   "cell_type": "markdown",
   "id": "3b77b497fd8ef43c",
   "metadata": {},
   "source": [
    "#### Hypothesis Testing  \n",
    "- $H_0$ - null hypothesis.\n",
    "- $H_1$ - alternative hypothesis.\n",
    "- $\\alpha$ - significance level.\n",
    "- β - probability of committing a Type II error."
   ]
  },
  {
   "cell_type": "markdown",
   "id": "624c0395b2e43c25",
   "metadata": {},
   "source": [
    "\n",
    "#### Random Variables  \n",
    "- Z or z - standardized score, also known as a z score.  \n",
    "- $z_α$ - standardized score that has a cumulative probability equal to 1−α  \n",
    "- $t_α$ - t statistic that has a cumulative probability equal to 1−α    \n",
    "- $f_a$ - f statistic that has a cumulative probability equal to 1−α   \n",
    "- $f_α(v1,v2)$ - f statistic that has a cumulative probability equal to 1−α and v1 and v2 degrees of freedom.   \n",
    "- $X^2$ - chi-square statistic.  "
   ]
  },
  {
   "cell_type": "markdown",
   "id": "3c7cbf8f0010cd22",
   "metadata": {},
   "source": [
    "#### Summation Symbols   \n",
    "- ∑ - summation symbol, used to compute sums over a range of values.\n",
    "- ∑x or ∑xi - sum of a set of n observations. Thus, ∑x=x1+x2+...+xn"
   ]
  }
 ],
 "metadata": {
  "kernelspec": {
   "display_name": "Python 3 (ipykernel)",
   "language": "python",
   "name": "python3"
  },
  "language_info": {
   "codemirror_mode": {
    "name": "ipython",
    "version": 3
   },
   "file_extension": ".py",
   "mimetype": "text/x-python",
   "name": "python",
   "nbconvert_exporter": "python",
   "pygments_lexer": "ipython3",
   "version": "3.11.5"
  }
 },
 "nbformat": 4,
 "nbformat_minor": 5
}
