{
 "cells": [
  {
   "cell_type": "markdown",
   "id": "90ca04d60cf9a3f9",
   "metadata": {},
   "source": [
    "#### K-Nearest Neighbour "
   ]
  },
  {
   "cell_type": "markdown",
   "id": "e616617fb0fa5d80",
   "metadata": {},
   "source": [
    "CO4: Perform model evaluation using cross-validation, confusion matrix and classification report for K-Nearest Neighbour in specific domains\t\t\t\t\t\t\t\t6 Hours\n",
    "Objective:  \n",
    "1. KNN, \n",
    "2. model evaluation metrics \n",
    "    - confusion matrix, \n",
    "    - accuracy, \n",
    "    - precision, \n",
    "    - recall, \n",
    "    - F1-Score \n",
    "3. cross-validation.\n"
   ]
  }
 ],
 "metadata": {
  "kernelspec": {
   "display_name": "Python 3 (ipykernel)",
   "language": "python",
   "name": "python3"
  },
  "language_info": {
   "codemirror_mode": {
    "name": "ipython",
    "version": 3
   },
   "file_extension": ".py",
   "mimetype": "text/x-python",
   "name": "python",
   "nbconvert_exporter": "python",
   "pygments_lexer": "ipython3",
   "version": "3.11.5"
  }
 },
 "nbformat": 4,
 "nbformat_minor": 5
}
