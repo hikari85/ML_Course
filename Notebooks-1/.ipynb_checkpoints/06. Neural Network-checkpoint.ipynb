{
 "cells": [
  {
   "cell_type": "markdown",
   "id": "72bba44b734f48c1",
   "metadata": {},
   "source": [
    "#### Introduction to Neural Network   "
   ]
  },
  {
   "cell_type": "markdown",
   "id": "bd91776732f5b87c",
   "metadata": {},
   "source": [
    "CO6: Understand the concepts of perceptron, logistic regression (sigmoid activation function, binary classification), error backpropagation, feed-forward neural network\t\t\t\t9 Hours\t\n",
    "Objective:  \n",
    "1. Perceptron\n",
    "2. Logistic regression, \n",
    "3. sigmoid activation function, \n",
    "4. binary classification, \n",
    "5. error back propagation algorithm, \n",
    "6. feed-forward neural network, \n",
    "7. Universal Approximation Theorem\n"
   ]
  },
  {
   "cell_type": "markdown",
   "id": "934b7ac1efb244b9",
   "metadata": {},
   "source": [
    "##### Programming ML by Paolo Perrotta   \n",
    "![](../Figures/ml2DL.png)  "
   ]
  },
  {
   "cell_type": "markdown",
   "id": "30b6ab7b-e6b4-43f5-a719-81dd78b6fa79",
   "metadata": {},
   "source": [
    "#### Neural networks   \n",
    "\n",
    "**1943**: Walter Pitts and Warren McCulloch propose a mathematical model of artificial neurons that can perform logical operations.  \n",
    "\n",
    "AI that can learn from data and perform various tasks, such as   \n",
    "recognizing faces, translating languages, playing games, and more.  \n",
    "Made up of layers of artificial neurons that process and transmit information between each other.   \n",
    "Each neuron has a weight and a threshold that determine how much it contributes to the output of the next layer.  \n",
    "\n",
    "Trained using different algorithms, such as backpropagation, gradient descent, or genetic algorithms.  \n",
    "Different architectures, such as feedforward, recurrent, convolutional, or generative adversarial networks.   \n",
    "\n",
    "They can adapt to new data and situations,  \n",
    "generalize from previous examples,  \n",
    "and discover hidden patterns and features in the data.   \n",
    "\n",
    "Our brains have **86 billion neurons**  all linked up by synapses in a complex network. "
   ]
  },
  {
   "cell_type": "markdown",
   "id": "045fac3e-62de-4070-a331-71c6a5bfc606",
   "metadata": {},
   "source": [
    "#### Applications of Neural Networks, some examples     \n",
    "\n",
    "1. Image recognition:recognize and classify objects, faces, scenes, and activities in images. DeepFace from Facebook.  \n",
    "2. Speech recognition: Convert spoken words into text or commands. Google Assistant.  \n",
    "3. Machine translation: Google Translate.    \n",
    "4. Natural language processing: sentiment analysis, question answering, text summarization, and text generation.  \n",
    "5. Medical diagnosis: based on symptoms, tests, or images.  \n",
    "6. Financial forecasting: predict future trends or outcomes based on historical data or market signals. JPMorgan Chase.   \n",
    "7. Quality control: detect defects or anomalies in products or processes based on visual inspection or sensor data.  \n",
    "8. Gaming: Google DeepMind AlphaGo."
   ]
  },
  {
   "cell_type": "code",
   "execution_count": null,
   "id": "02733fd3-3964-4b53-bb00-bcb27968ab85",
   "metadata": {
    "tags": []
   },
   "outputs": [],
   "source": [
    "from itertools import product\n",
    "\n",
    "def flipflop(state, r, s):\n",
    "    return False if r else (True if s else state)\n",
    "\n",
    "# test\n",
    "\n",
    "print('state : r, s -> new_state')\n",
    "for state, r, s in product((False, True), repeat=3):\n",
    "    print('{!s:5} : {!s:5}, {!s:5} -> {!s:5}'.format(state, r, s, flipflop(state, r, s)))"
   ]
  },
  {
   "cell_type": "markdown",
   "id": "ea084038-cd16-4422-acb9-419b666b41a8",
   "metadata": {
    "tags": []
   },
   "source": [
    "[Flip Flop Circuit](https://upload.wikimedia.org/wikipedia/commons/a/a5/Transistor_Bistable_interactive_animated-en.svg)   \n",
    "\n",
    "[Flip Flop with AND Gates](https://upload.wikimedia.org/wikipedia/commons/c/c6/R-S_mk2.gif)   \n",
    "\n",
    "A flip-flop is a device which stores a single bit (binary digit) of data;   \n",
    "one of its two states represents a \"one\" and the other represents a \"zero\"."
   ]
  },
  {
   "cell_type": "markdown",
   "id": "37558cdc-e38b-49a0-a442-d46444487084",
   "metadata": {},
   "source": [
    "Aqua Vanjaram CDNA3 GPU has 153,000,000,000 transistors. "
   ]
  }
 ],
 "metadata": {
  "kernelspec": {
   "display_name": "Python 3 (ipykernel)",
   "language": "python",
   "name": "python3"
  },
  "language_info": {
   "codemirror_mode": {
    "name": "ipython",
    "version": 3
   },
   "file_extension": ".py",
   "mimetype": "text/x-python",
   "name": "python",
   "nbconvert_exporter": "python",
   "pygments_lexer": "ipython3",
   "version": "3.11.5"
  }
 },
 "nbformat": 4,
 "nbformat_minor": 5
}
