{
 "cells": [
  {
   "cell_type": "markdown",
   "id": "ac424c125d4b5e01",
   "metadata": {},
   "source": [
    "Hyperparameters are configuration variables that are external to the model. Unlike parameters, hyperparameters are manually set.   \n",
    "\n",
    "#### Parametric and Nonparametric Models   \n",
    "The majority of ML models are parametric.  \n",
    "A machine learning model with a set number of parameters is a parametric model. Those without a set number of parameters are referred to as non-parametric.   \n",
    "\n",
    "##### Parametricl Machine Learning Algorithms      \n",
    "\n",
    "Model uses parameters to make predictions. \n",
    "\n",
    "We can train a Linear Regression Model with the met data (model parameters) for a period and predict the weather for a future date.  \n",
    "We can train a Linear Regression Model with training data with the dimensions of petal and sepal of iris flowers (model parameters) and then use the model to classify a new flower based on its dimensions.  \n",
    "\n",
    "The algorithms involve two steps:\n",
    "1. Select a form for the function.\n",
    "2. Learn the coefficients for the function from the training data.   \n",
    "E.g., in Linear Regression, the mapping function is a line.  \n",
    "$$b0 + b1\\cdot x1 + b2  \\cdot x2 = 0$$\n",
    "\n",
    "Where   \n",
    "b0, b1 and b2 are the _coefficients_ of the line that control the intercept and slope, and   \n",
    "x1 and x2 are two _input variables_.\n",
    "\n",
    "<u>Pros</u>. Simple, fast, require small training data.  \n",
    "<u>Cons</u>. Constrained to the specified form, limited Complexity, Poor Fit."
   ]
  },
  {
   "cell_type": "markdown",
   "id": "9605e3ac7fa7d521",
   "metadata": {},
   "source": [
    "##### Nonparametric Machine Learning Algorithms   \n",
    "Algorithms do not make strong assumptions about the form of the mapping function.   \n",
    "They are free to learn any functional form from the training data.  \n",
    "\n",
    "Nonparametric methods are good when you have a lot of data and no prior knowledge,  \n",
    "    and when you don’t want to worry too much about choosing just the right features.\n",
    "\n",
    "E,g., k-nearest neighbors algorithm makes predictions based on the k most similar training patterns for a new data instance.   \n",
    "The method does not assume anything about the form of the mapping function   \n",
    "other than that \"patterns that are close are likely to have a similar output variable\".  \n",
    "\n",
    "<u>Pros</u>. Flexibility, Power and Performance,   \n",
    "<u>Cons</u>. More data, Slower, and Overfitting"
   ]
  },
  {
   "cell_type": "markdown",
   "id": "a48e0fd94be95df7",
   "metadata": {},
   "source": [
    "<u>Parametric Statistics</u>.   \n",
    "Parametric data is a sample of data drawn from a known data distribution.   \n",
    "We already know the distribution and we know the parameters of the distribution.  \n",
    "We can use parametric methods like summary statistics, correlation between variables and significance tests.   \n",
    "Traditional classroom learning     \n",
    "\n",
    "<u>Non-Parametric Statistics</u>.    \n",
    "Data does not fit a known or well-understood distribution.  \n",
    "Most parametric methods have an equivalent nonparametric version.  \n",
    "Findings are less powerful than their parametric counterparts.  \n",
    "[A hole in the wall](https://www.hole-in-the-wall.com/docs/Paper06.pdf)"
   ]
  },
  {
   "cell_type": "markdown",
   "id": "2cd76e0492d5a009",
   "metadata": {},
   "source": [
    "#### Error Types  \n",
    "- Irreducible errors  \n",
    "- Reducible errors   \n",
    "    - Bias   \n",
    "    - Variance          "
   ]
  },
  {
   "cell_type": "markdown",
   "id": "b83a5a9cdbf7f10f",
   "metadata": {},
   "source": [
    "#### Bias   \n",
    "- difference between  the model's prediction values and actual values/expected values is known as bias errors.  \n",
    "    - Low Bias: A low bias model makes fewer assumptions about the form of the target function.\n",
    "    - High Bias: A model with a high bias makes more assumptions, and the model becomes unable to capture the important features of our dataset."
   ]
  },
  {
   "cell_type": "markdown",
   "id": "47cf03096c6c5248",
   "metadata": {},
   "source": [
    "#### Variance Error  \n",
    "Variance tells how much a random variable is different from its expected value.  \n",
    "Ideally, a model should not vary too much from one dataset to another,  \n",
    "which means the algorithm should be good at understanding the hidden mapping between inputs and output variables.      \n",
    "Variance errors are either of low variance or high variance.   \n",
    "\n",
    "Low variance means there is a small variation in the prediction of the target function with changes in the training data set.        \n",
    "High variance shows a large variation in the prediction of the target function with changes in the training dataset.  \n",
    "\n",
    "A model that shows high variance learns a lot and perform well with the training dataset,   \n",
    "and may not generalize well with the unseen dataset.  \n",
    "As a result, such a model gives good results with the training dataset but shows high error rates on the test dataset.   \n",
    "\n",
    "A high variance model leads to **overfitting** and also increase model complexities.  \n",
    "\n",
    "![fitting](../Figures/under_overfitting.png)   \n",
    "```\n",
    "Over-fitting: learning training data too well at the cost of not generalising   \n",
    "    use re-sampling and hold-back verification sets  \n",
    "Under-fitting: would be discovered while testing       \n",
    "```"
   ]
  },
  {
   "cell_type": "markdown",
   "id": "4331e99d8690600c",
   "metadata": {},
   "source": [
    "#### Example under- and over- and good fit   \n",
    "\n",
    "![](../Figures/under_over_fit.PNG)"
   ]
  },
  {
   "cell_type": "markdown",
   "id": "fd6b241226f3b93c",
   "metadata": {},
   "source": [
    "\n",
    "<u>Undersampling</u> when the training set has mainly samples of majority class       \n",
    "<u>Oversampling</u> uses copies of minority class     \n",
    "\n",
    "\n",
    "![](../Figures/bias_variance.png)  \n",
    "![](../Figures/bias_variance_tradeoff.png)"
   ]
  },
  {
   "cell_type": "markdown",
   "id": "ac116c807db5732a",
   "metadata": {},
   "source": [
    "- Parametric or linear ML: high bias and low variance   \n",
    "- Non-Parametric or non-linear ML: low bias and high  variance   "
   ]
  },
  {
   "cell_type": "markdown",
   "id": "3f4346a8c97a3220",
   "metadata": {},
   "source": [
    "### Seven Schools Data   \n",
    "##### variance\n",
    "Higher variance (dispersion) in data, lower the accuracy      "
   ]
  },
  {
   "cell_type": "markdown",
   "id": "c660c2ada8f51088",
   "metadata": {},
   "source": []
  },
  {
   "cell_type": "code",
   "execution_count": 16,
   "id": "e84b35d919081f5c",
   "metadata": {
    "ExecuteTime": {
     "end_time": "2024-02-26T09:14:56.324422200Z",
     "start_time": "2024-02-26T09:14:56.008935500Z"
    },
    "collapsed": false,
    "jupyter": {
     "outputs_hidden": false
    }
   },
   "outputs": [
    {
     "name": "stdout",
     "output_type": "stream",
     "text": [
      "NID20 \"['BMI'] not in index\"\n",
      "RVU22 \"['BMI'] not in index\"\n"
     ]
    },
    {
     "data": {
      "text/html": [
       "<div>\n",
       "<style scoped>\n",
       "    .dataframe tbody tr th:only-of-type {\n",
       "        vertical-align: middle;\n",
       "    }\n",
       "\n",
       "    .dataframe tbody tr th {\n",
       "        vertical-align: top;\n",
       "    }\n",
       "\n",
       "    .dataframe thead th {\n",
       "        text-align: right;\n",
       "    }\n",
       "</style>\n",
       "<table border=\"1\" class=\"dataframe\">\n",
       "  <thead>\n",
       "    <tr style=\"text-align: right;\">\n",
       "      <th></th>\n",
       "      <th>School</th>\n",
       "      <th>Height</th>\n",
       "      <th>Weight</th>\n",
       "      <th>Age</th>\n",
       "      <th>BMI</th>\n",
       "    </tr>\n",
       "  </thead>\n",
       "  <tbody>\n",
       "    <tr>\n",
       "      <th>0</th>\n",
       "      <td>NCB22</td>\n",
       "      <td>60.397661</td>\n",
       "      <td>147.590643</td>\n",
       "      <td>1.578947</td>\n",
       "      <td>12.400147</td>\n",
       "    </tr>\n",
       "    <tr>\n",
       "      <th>1</th>\n",
       "      <td>DSC21</td>\n",
       "      <td>75.282322</td>\n",
       "      <td>164.789289</td>\n",
       "      <td>1.209833</td>\n",
       "      <td>11.557515</td>\n",
       "    </tr>\n",
       "    <tr>\n",
       "      <th>2</th>\n",
       "      <td>PES21</td>\n",
       "      <td>64.563462</td>\n",
       "      <td>132.763462</td>\n",
       "      <td>1.819872</td>\n",
       "      <td>11.566667</td>\n",
       "    </tr>\n",
       "    <tr>\n",
       "      <th>3</th>\n",
       "      <td>PES22_A</td>\n",
       "      <td>132.912916</td>\n",
       "      <td>150.382963</td>\n",
       "      <td>1.810101</td>\n",
       "      <td>15.910473</td>\n",
       "    </tr>\n",
       "    <tr>\n",
       "      <th>4</th>\n",
       "      <td>PES22_B</td>\n",
       "      <td>97.847662</td>\n",
       "      <td>170.655732</td>\n",
       "      <td>1.856712</td>\n",
       "      <td>16.312903</td>\n",
       "    </tr>\n",
       "    <tr>\n",
       "      <th>5</th>\n",
       "      <td>NID21</td>\n",
       "      <td>68.200000</td>\n",
       "      <td>151.183333</td>\n",
       "      <td>1.495833</td>\n",
       "      <td>12.921433</td>\n",
       "    </tr>\n",
       "    <tr>\n",
       "      <th>6</th>\n",
       "      <td>KSP21</td>\n",
       "      <td>82.039526</td>\n",
       "      <td>110.114466</td>\n",
       "      <td>32.130435</td>\n",
       "      <td>5.393602</td>\n",
       "    </tr>\n",
       "    <tr>\n",
       "      <th>7</th>\n",
       "      <td>KSP22</td>\n",
       "      <td>69.066176</td>\n",
       "      <td>203.125000</td>\n",
       "      <td>18.220588</td>\n",
       "      <td>14.351049</td>\n",
       "    </tr>\n",
       "    <tr>\n",
       "      <th>8</th>\n",
       "      <td>Puma_Indian</td>\n",
       "      <td>761.895116</td>\n",
       "      <td>216.654206</td>\n",
       "      <td>430.433371</td>\n",
       "      <td>6.403973</td>\n",
       "    </tr>\n",
       "    <tr>\n",
       "      <th>9</th>\n",
       "      <td>all_Schools</td>\n",
       "      <td>88.769578</td>\n",
       "      <td>159.396319</td>\n",
       "      <td>6.339590</td>\n",
       "      <td>13.512800</td>\n",
       "    </tr>\n",
       "  </tbody>\n",
       "</table>\n",
       "</div>"
      ],
      "text/plain": [
       "        School      Height      Weight         Age        BMI\n",
       "0        NCB22   60.397661  147.590643    1.578947  12.400147\n",
       "1        DSC21   75.282322  164.789289    1.209833  11.557515\n",
       "2        PES21   64.563462  132.763462    1.819872  11.566667\n",
       "3      PES22_A  132.912916  150.382963    1.810101  15.910473\n",
       "4      PES22_B   97.847662  170.655732    1.856712  16.312903\n",
       "5        NID21   68.200000  151.183333    1.495833  12.921433\n",
       "6        KSP21   82.039526  110.114466   32.130435   5.393602\n",
       "7        KSP22   69.066176  203.125000   18.220588  14.351049\n",
       "8  Puma_Indian  761.895116  216.654206  430.433371   6.403973\n",
       "9  all_Schools   88.769578  159.396319    6.339590  13.512800"
      ]
     },
     "execution_count": 16,
     "metadata": {},
     "output_type": "execute_result"
    }
   ],
   "source": [
    "import pandas as pd\n",
    "\n",
    "data = []\n",
    "xls = pd.ExcelFile('../Data/Seven Schools.xlsx')\n",
    "for sheet in xls.sheet_names:\n",
    "    try:\n",
    "        df = xls.parse(sheet)\n",
    "        data.append([sheet] + list(df[['Height_cm','Weight_Kg','Age', 'BMI']].var()))\n",
    "    except Exception as e:\n",
    "        print(f\"{sheet} {e}\")\n",
    "        \n",
    "df_var = pd.DataFrame(data, columns=['School', 'Height', 'Weight', 'Age', 'BMI'])\n",
    "df_var"
   ]
  },
  {
   "cell_type": "markdown",
   "id": "2ebf618f89118b7b",
   "metadata": {},
   "source": [
    "##### mean  \n",
    "Higher the difference in mean values of training and test data, higher the bias      "
   ]
  },
  {
   "cell_type": "code",
   "execution_count": 17,
   "id": "ca8c8bc67aa3d830",
   "metadata": {
    "ExecuteTime": {
     "end_time": "2024-02-26T09:15:24.173951400Z",
     "start_time": "2024-02-26T09:15:23.870834100Z"
    },
    "collapsed": false,
    "jupyter": {
     "outputs_hidden": false
    }
   },
   "outputs": [
    {
     "name": "stdout",
     "output_type": "stream",
     "text": [
      "NID20 \"['BMI'] not in index\"\n",
      "RVU22 \"['BMI'] not in index\"\n"
     ]
    },
    {
     "data": {
      "text/html": [
       "<div>\n",
       "<style scoped>\n",
       "    .dataframe tbody tr th:only-of-type {\n",
       "        vertical-align: middle;\n",
       "    }\n",
       "\n",
       "    .dataframe tbody tr th {\n",
       "        vertical-align: top;\n",
       "    }\n",
       "\n",
       "    .dataframe thead th {\n",
       "        text-align: right;\n",
       "    }\n",
       "</style>\n",
       "<table border=\"1\" class=\"dataframe\">\n",
       "  <thead>\n",
       "    <tr style=\"text-align: right;\">\n",
       "      <th></th>\n",
       "      <th>School</th>\n",
       "      <th>Height</th>\n",
       "      <th>Weight</th>\n",
       "      <th>Age</th>\n",
       "      <th>BMI</th>\n",
       "    </tr>\n",
       "  </thead>\n",
       "  <tbody>\n",
       "    <tr>\n",
       "      <th>0</th>\n",
       "      <td>NCB22</td>\n",
       "      <td>166.210526</td>\n",
       "      <td>60.578947</td>\n",
       "      <td>23.631579</td>\n",
       "      <td>21.813684</td>\n",
       "    </tr>\n",
       "    <tr>\n",
       "      <th>1</th>\n",
       "      <td>DSC21</td>\n",
       "      <td>169.469706</td>\n",
       "      <td>65.676471</td>\n",
       "      <td>22.882353</td>\n",
       "      <td>22.743382</td>\n",
       "    </tr>\n",
       "    <tr>\n",
       "      <th>2</th>\n",
       "      <td>PES21</td>\n",
       "      <td>169.475000</td>\n",
       "      <td>66.825000</td>\n",
       "      <td>24.025000</td>\n",
       "      <td>23.150000</td>\n",
       "    </tr>\n",
       "    <tr>\n",
       "      <th>3</th>\n",
       "      <td>PES22_A</td>\n",
       "      <td>166.813559</td>\n",
       "      <td>61.974576</td>\n",
       "      <td>22.490909</td>\n",
       "      <td>22.265932</td>\n",
       "    </tr>\n",
       "    <tr>\n",
       "      <th>4</th>\n",
       "      <td>PES22_B</td>\n",
       "      <td>166.269231</td>\n",
       "      <td>62.673077</td>\n",
       "      <td>22.576923</td>\n",
       "      <td>22.604038</td>\n",
       "    </tr>\n",
       "    <tr>\n",
       "      <th>5</th>\n",
       "      <td>NID21</td>\n",
       "      <td>167.250000</td>\n",
       "      <td>58.625000</td>\n",
       "      <td>24.187500</td>\n",
       "      <td>20.882500</td>\n",
       "    </tr>\n",
       "    <tr>\n",
       "      <th>6</th>\n",
       "      <td>KSP21</td>\n",
       "      <td>169.695652</td>\n",
       "      <td>68.808696</td>\n",
       "      <td>26.695652</td>\n",
       "      <td>23.812609</td>\n",
       "    </tr>\n",
       "    <tr>\n",
       "      <th>7</th>\n",
       "      <td>KSP22</td>\n",
       "      <td>165.235294</td>\n",
       "      <td>69.000000</td>\n",
       "      <td>25.705882</td>\n",
       "      <td>25.101692</td>\n",
       "    </tr>\n",
       "    <tr>\n",
       "      <th>8</th>\n",
       "      <td>Puma_Indian</td>\n",
       "      <td>138.263596</td>\n",
       "      <td>35.610618</td>\n",
       "      <td>29.344393</td>\n",
       "      <td>17.396489</td>\n",
       "    </tr>\n",
       "    <tr>\n",
       "      <th>9</th>\n",
       "      <td>all_Schools</td>\n",
       "      <td>167.812721</td>\n",
       "      <td>64.282653</td>\n",
       "      <td>23.500000</td>\n",
       "      <td>22.736901</td>\n",
       "    </tr>\n",
       "  </tbody>\n",
       "</table>\n",
       "</div>"
      ],
      "text/plain": [
       "        School      Height     Weight        Age        BMI\n",
       "0        NCB22  166.210526  60.578947  23.631579  21.813684\n",
       "1        DSC21  169.469706  65.676471  22.882353  22.743382\n",
       "2        PES21  169.475000  66.825000  24.025000  23.150000\n",
       "3      PES22_A  166.813559  61.974576  22.490909  22.265932\n",
       "4      PES22_B  166.269231  62.673077  22.576923  22.604038\n",
       "5        NID21  167.250000  58.625000  24.187500  20.882500\n",
       "6        KSP21  169.695652  68.808696  26.695652  23.812609\n",
       "7        KSP22  165.235294  69.000000  25.705882  25.101692\n",
       "8  Puma_Indian  138.263596  35.610618  29.344393  17.396489\n",
       "9  all_Schools  167.812721  64.282653  23.500000  22.736901"
      ]
     },
     "execution_count": 17,
     "metadata": {},
     "output_type": "execute_result"
    }
   ],
   "source": [
    "data = []\n",
    "xls = pd.ExcelFile('../Data/Seven Schools.xlsx')\n",
    "for sheet in xls.sheet_names:\n",
    "    try:\n",
    "        df = xls.parse(sheet)\n",
    "        data.append([sheet] + list(df[['Height_cm','Weight_Kg','Age', 'BMI']].mean()))\n",
    "    except Exception as e:\n",
    "        print(f\"{sheet} {e}\")\n",
    "\n",
    "df_mean = pd.DataFrame(data, columns=['School', 'Height', 'Weight', 'Age', 'BMI'])\n",
    "df_mean"
   ]
  },
  {
   "cell_type": "code",
   "execution_count": 30,
   "id": "b4f534304c9c50c4",
   "metadata": {
    "ExecuteTime": {
     "end_time": "2024-02-26T09:44:59.947909100Z",
     "start_time": "2024-02-26T09:44:59.672726100Z"
    },
    "collapsed": false,
    "jupyter": {
     "outputs_hidden": false
    }
   },
   "outputs": [
    {
     "data": {
      "image/png": "[encoded data removed]",
      "text/plain": [
       "<Figure size 800x400 with 1 Axes>"
      ]
     },
     "metadata": {},
     "output_type": "display_data"
    }
   ],
   "source": [
    "import matplotlib.pyplot as plt\n",
    "df_mean.plot(kind='bar', x='School', figsize=(8, 4))\n",
    "plt.title(\"Average Values\", fontsize=16);"
   ]
  },
  {
   "cell_type": "code",
   "execution_count": 31,
   "id": "245c3604ce5d4b94",
   "metadata": {
    "ExecuteTime": {
     "end_time": "2024-02-26T09:45:43.423435900Z",
     "start_time": "2024-02-26T09:45:43.162564Z"
    },
    "collapsed": false,
    "jupyter": {
     "outputs_hidden": false
    }
   },
   "outputs": [
    {
     "data": {
      "image/png": "[encoded data removed]",
      "text/plain": [
       "<Figure size 800x400 with 1 Axes>"
      ]
     },
     "metadata": {},
     "output_type": "display_data"
    }
   ],
   "source": [
    "df_var.plot(kind='bar', x='School', figsize=(8, 4));\n",
    "plt.title(\"Variances\", fontsize=16);"
   ]
  },
  {
   "cell_type": "markdown",
   "id": "8cdcde0d3c638299",
   "metadata": {},
   "source": [
    "#### Task   \n",
    "Using 240227_class\\*.txt   \n",
    "```\n",
    "for label in [weight, BMI]\n",
    "    for training set from [puma, NID21]\n",
    "        for test sets from the rest of the schools \n",
    "            write expected effect on bias and variance   \n",
    "```"
   ]
  }
 ],
 "metadata": {
  "kernelspec": {
   "display_name": "Python 3 (ipykernel)",
   "language": "python",
   "name": "python3"
  },
  "language_info": {
   "codemirror_mode": {
    "name": "ipython",
    "version": 3
   },
   "file_extension": ".py",
   "mimetype": "text/x-python",
   "name": "python",
   "nbconvert_exporter": "python",
   "pygments_lexer": "ipython3",
   "version": "3.11.5"
  }
 },
 "nbformat": 4,
 "nbformat_minor": 5
}
