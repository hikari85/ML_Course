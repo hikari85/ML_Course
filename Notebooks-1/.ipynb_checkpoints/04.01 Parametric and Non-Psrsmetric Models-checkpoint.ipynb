{
 "cells": [
  {
   "cell_type": "markdown",
   "source": [
    "Hyperparameters are configuration variables that are external to the model. Unlike parameters, hyperparameters are manually set.   \n",
    "\n",
    "#### Parametric and Nonparametric Models   \n",
    "The majority of ML models are parametric.  \n",
    "A machine learning model with a set number of parameters is a parametric model. Those without a set number of parameters are referred to as non-parametric.   \n",
    "\n",
    "##### Parametricl Machine Learning Algorithms      \n",
    "\n",
    "Model uses parameters to make predictions. \n",
    "\n",
    "We can train a Linear Regression Model with the met data (model parameters) for a period and predict the weather for a future date.  \n",
    "We can train a Linear Regression Model with training data with the dimensions of petal and sepal of iris flowers (model parameters) and then use the model to classify a new flower based on its dimensions.  \n",
    "\n",
    "The algorithms involve two steps:\n",
    "1. Select a form for the function.\n",
    "2. Learn the coefficients for the function from the training data.   \n",
    "E.g., in Linear Regression, the mapping function is a line.  \n",
    "$$b0 + b1\\cdot x1 + b2  \\cdot x2 = 0$$\n",
    "\n",
    "Where   \n",
    "b0, b1 and b2 are the _coefficients_ of the line that control the intercept and slope, and   \n",
    "x1 and x2 are two _input variables_.\n",
    "\n",
    "<u>Pros</u>. Simple, fast, require small training data.  \n",
    "<u>Cons</u>. Constrained to the specified form, limited Complexity, Poor Fit."
   ],
   "metadata": {
    "collapsed": false
   },
   "id": "ac424c125d4b5e01"
  },
  {
   "cell_type": "markdown",
   "source": [
    "##### Nonparametric Machine Learning Algorithms   \n",
    "Algorithms do not make strong assumptions about the form of the mapping function.   \n",
    "They are free to learn any functional form from the training data.  \n",
    "\n",
    "Nonparametric methods are good when you have a lot of data and no prior knowledge,  \n",
    "    and when you don’t want to worry too much about choosing just the right features.\n",
    "\n",
    "E,g., k-nearest neighbors algorithm makes predictions based on the k most similar training patterns for a new data instance. The method does not assume anything about the form of the mapping function other than patterns that are close are likely to have a similar output variable.  \n",
    "\n",
    "<u>Pros</u>. Flexibility, Power and Performance,   \n",
    "<u>Cons</u>. More data, Slower, and Overfitting"
   ],
   "metadata": {
    "collapsed": false
   },
   "id": "9605e3ac7fa7d521"
  },
  {
   "cell_type": "markdown",
   "source": [
    "<u>Parametric Statistics</u>.   \n",
    "Parametric data is a sample of data drawn from a known data distribution.   \n",
    "We already know the distribution and we know the parameters of the distribution.  \n",
    "We can use parametric methods like summary statistics, correlation between variables and significance tests.   \n",
    "Traditional classroom learning     \n",
    "\n",
    "<u>Non-Parametric Statistics</u>.    \n",
    "Data does not fit a known or well-understood distribution.  \n",
    "Most parametric methods have an equivalent nonparametric version.  \n",
    "Findings are less powerful than their parametric counterparts.  \n",
    "[A hole in the wall](https://www.hole-in-the-wall.com/docs/Paper06.pdf)"
   ],
   "metadata": {
    "collapsed": false
   },
   "id": "a48e0fd94be95df7"
  },
  {
   "cell_type": "markdown",
   "source": [
    "#### Error Types  \n",
    "- Irreducible errors  \n",
    "- Reducible errors   \n",
    "    - Bias   \n",
    "    - Variance          "
   ],
   "metadata": {
    "collapsed": false
   },
   "id": "2cd76e0492d5a009"
  },
  {
   "cell_type": "markdown",
   "source": [
    "#### Bias   \n",
    "- difference between  the model's prediction values and actual values/expected values is known as bias errors.  \n",
    "    - Low Bias: A low bias model makes fewer assumptions about the form of the target function.\n",
    "    - High Bias: A model with a high bias makes more assumptions, and the model becomes unable to capture the important features of our dataset."
   ],
   "metadata": {
    "collapsed": false
   },
   "id": "b83a5a9cdbf7f10f"
  },
  {
   "cell_type": "markdown",
   "source": [
    "#### Variance Error  \n",
    "Variance tells how much a random variable is different from its expected value. Ideally, a model should not vary too much from one training dataset to another, which means the algorithm should be good in understanding the hidden mapping between inputs and output variables. Variance errors are either of low variance or high variance.\n",
    "\n",
    "Low variance means there is a small variation in the prediction of the target function with changes in the training data set.   \n",
    "High variance shows a large variation in the prediction of the target function with changes in the training dataset.  \n",
    "\n",
    "A model that shows high variance learns a lot and perform well with the training dataset,  \n",
    "and does not generalize well with the unseen dataset.  \n",
    "As a result, such a model gives good results with the training dataset but shows high error rates on the test dataset.   \n",
    "\n",
    "A high variance model leads to **overfitting** and also increase model complexities.  \n",
    "\n",
    "![fitting](../Figures/under_overfitting.png)   \n",
    "```\n",
    "Over-fitting: learning training data too well at the cost of not generalising   \n",
    "    use re-sampling and hold-back verification sets  \n",
    "Under-fitting: would be discovered while testing       \n",
    "```\n",
    "\n",
    "<u>Undersampling</u> when the training set has mainly samples of majority class       \n",
    "<u>Oversampling</u> uses copies of minority class     \n",
    "\n",
    "\n",
    "![](../Figures/bias_variance.png)  \n",
    "![](../Figures/bias_variance_tradeoff.png)"
   ],
   "metadata": {
    "collapsed": false
   },
   "id": "fd6b241226f3b93c"
  },
  {
   "cell_type": "markdown",
   "source": [
    "- Parametric or linear ML: high bias and low variance   \n",
    "- Non-Parametric or non-linear ML: low bias and high  variance   "
   ],
   "metadata": {
    "collapsed": false
   },
   "id": "ac116c807db5732a"
  }
 ],
 "metadata": {
  "kernelspec": {
   "display_name": "Python 3",
   "language": "python",
   "name": "python3"
  },
  "language_info": {
   "codemirror_mode": {
    "name": "ipython",
    "version": 2
   },
   "file_extension": ".py",
   "mimetype": "text/x-python",
   "name": "python",
   "nbconvert_exporter": "python",
   "pygments_lexer": "ipython2",
   "version": "2.7.6"
  }
 },
 "nbformat": 4,
 "nbformat_minor": 5
}
