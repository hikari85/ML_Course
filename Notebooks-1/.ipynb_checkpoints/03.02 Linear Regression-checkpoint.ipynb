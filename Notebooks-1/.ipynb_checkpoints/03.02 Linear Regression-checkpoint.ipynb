{
 "cells": [
  {
   "cell_type": "markdown",
   "id": "f2e5b4c0-f7f4-4413-b98d-da500809b4a8",
   "metadata": {},
   "source": [
    "$$Gradient = \\frac{Change\\ in\\ Y}{Change\\ in\\ X}$$   \n",
    "positive, negative, and undefinable($\\delta{x}$ = zero).  \n",
    "##### Rise and Run   \n",
    "Sometimes the horizontal change is called \"run\", and the vertical change is called \"rise\" or \"fall\""
   ]
  },
  {
   "cell_type": "markdown",
   "id": "c5791d5c-459e-4e08-8966-a00d3a96f4d4",
   "metadata": {},
   "source": [
    "#### Gradient Descent     \n",
    "![](../Figures/gradient_descent.png)   "
   ]
  },
  {
   "cell_type": "markdown",
   "id": "6d1bb4658697163",
   "metadata": {},
   "source": [
    "[IIT Kanpur Notes](https://home.iitk.ac.in/~shalab/regression/Chapter2-Regression-SimpleLinearRegressionAnalysis.pdf)\n",
    "\n",
    "### Linear Regression   \n",
    "##### Gradient Descent   \n",
    "Minimises the cost function a different way: gradient descent.   \n",
    "This is an iterative algorithm. We apply a certain update rule over and over again.  \n",
    "If lucky, our iterates will gradually improve according to our objective function.  \n",
    "1. initialize the weights to some value (e.g. all zeros)    \n",
    "2. repeatedly adjust them in the direction that decreases the cost function     \n",
    "3. repeat this procedure until the iterates converge, or stop changing much \n",
    "4. If we’re lucky, the final iterate will be close to the optimum.  \n",
    "\n",
    "```\n",
    "function gradient_descent(X, y, learning_rate, num_iterations):\n",
    "    Initialize parameters  = θ\n",
    "    for iter in range(num_iterations):\n",
    "        predictions = compute_predictions(X, θ)\n",
    "        gradient = compute_gradient(X, y, predictions)\n",
    "        update_parameters(θ, gradient, learning_rate)\n",
    "    return θ\n",
    "\n",
    "function compute_predictions(X, θ):\n",
    "    return X*θ\n",
    "\n",
    "function compute_gradient(X, y, predictions):\n",
    "    error = predictions - y\n",
    "    gradient = Xᵀ * error / m\n",
    "    return gradient\n",
    "\n",
    "function update_parameters(θ, gradient, learning_rate):\n",
    "    θ = θ - learning_rate ⨉ gradient\n",
    "```\n",
    "\n",
    "##### Pros   \n",
    "Flexibility: Gradient Descent can be used with various cost functions and can handle non-linear regression problems.  \n",
    "Scalability: Gradient Descent is scalable to large datasets since it updates the parameters for each training example one at a time.  \n",
    "Convergence: Gradient Descent can converge to the global minimum of the cost function, provided that the learning rate is set appropriately.  \n",
    "##### Cons   \n",
    "Sensitivity to Learning Rate: The choice of learning rate can be critical in Gradient Descent since using a high learning rate can cause the algorithm to overshoot the minimum, while a low learning rate can make the algorithm converge slowly.   \n",
    "Slow Convergence: Gradient Descent may require more iterations to converge to the minimum since it updates the parameters for each training example one at a time.  \n",
    "Local Minima: Gradient Descent can get stuck in local minima if the cost function has multiple local minima.  \n",
    "Noisy updates: The updates in Gradient Descent are noisy and have a high variance, which can make the optimization process less stable and lead to oscillations around the minimum.  "
   ]
  },
  {
   "cell_type": "code",
   "execution_count": 84,
   "id": "1ef40ec3273d148f",
   "metadata": {
    "ExecuteTime": {
     "end_time": "2024-02-28T15:39:33.078192800Z",
     "start_time": "2024-02-28T15:39:33.035272800Z"
    },
    "collapsed": false,
    "jupyter": {
     "outputs_hidden": false
    }
   },
   "outputs": [],
   "source": [
    "import numpy as np\n",
    "import pandas as pd\n",
    "import matplotlib.pyplot as plt\n",
    "from random import randint "
   ]
  },
  {
   "cell_type": "markdown",
   "id": "9df68cbdaf771c5c",
   "metadata": {},
   "source": [
    "#### Function to predict value  \n",
    "$\\hat{y} = \\beta_0 + \\beta_1.X_1$ "
   ]
  },
  {
   "cell_type": "code",
   "execution_count": null,
   "id": "be942229ba6dd556",
   "metadata": {
    "collapsed": false,
    "jupyter": {
     "outputs_hidden": false
    }
   },
   "outputs": [],
   "source": [
    "def predict(X, w, b):\n",
    "    return (X * w) + b"
   ]
  },
  {
   "cell_type": "markdown",
   "id": "4fe6453cb95deb19",
   "metadata": {},
   "source": [
    "#### Loss Function  \n",
    "Loss is per epoc   \n",
    "Cost is the average of losses   \n",
    "\n",
    "MSE - mean squared error   \n",
    "$\\frac{(\\hat{Y} - Y)^2}{N}$"
   ]
  },
  {
   "cell_type": "code",
   "execution_count": null,
   "id": "d233e4e43197aa02",
   "metadata": {
    "collapsed": false,
    "jupyter": {
     "outputs_hidden": false
    }
   },
   "outputs": [],
   "source": [
    "def loss(X, Y, w, b):\n",
    "    return np.average((predict(X, w, b) - Y) ** 2)"
   ]
  },
  {
   "cell_type": "markdown",
   "id": "8930ca4f5b545727",
   "metadata": {},
   "source": [
    "#### Train the model   \n",
    "Repeatedly adjust the weight and bias values to minimise the loss   \n",
    "In each step (epoc), the weight and bias are increased or decreased by a factor lr (learning rate)  "
   ]
  },
  {
   "cell_type": "code",
   "execution_count": 40,
   "id": "initial_id",
   "metadata": {
    "ExecuteTime": {
     "end_time": "2024-02-28T14:14:41.308649200Z",
     "start_time": "2024-02-28T14:14:38.943349100Z"
    },
    "collapsed": false,
    "jupyter": {
     "outputs_hidden": false
    }
   },
   "outputs": [],
   "source": [
    "\n",
    "def train(X, Y, iterations, lr):\n",
    "    w = 0\n",
    "    b = 0\n",
    "    \n",
    "    data = []\n",
    "    for i in range(iterations):\n",
    "        current_loss = loss(X, Y, w, b)\n",
    "        # print(\"Iteration %4d => Loss %.6f\" % (i, current_loss))\n",
    "        data.append([i, w, b, current_loss])\n",
    "        if loss(X, Y, w + lr, b) < current_loss:\n",
    "            w += lr\n",
    "        elif loss(X, Y, w - lr, b) < current_loss:\n",
    "            w -= lr\n",
    "        elif loss(X, Y, w, b + lr) < current_loss:\n",
    "            b += lr\n",
    "        elif loss(X, Y, w, b - lr) < current_loss:\n",
    "            b -= lr\n",
    "        else:\n",
    "            return w, b, pd.DataFrame(data, columns=['Epoch', 'Weight', 'Bias', 'Loss'])\n",
    "    raise Exception(f\"Couldn't converge within {iterations = }\")\n"
   ]
  },
  {
   "cell_type": "markdown",
   "id": "36a8afcb3ba2f6f6",
   "metadata": {},
   "source": [
    "#### Train a linear regression model  \n",
    "Sample data for the model: /Data/pizzaSales.csv       "
   ]
  },
  {
   "cell_type": "code",
   "execution_count": 128,
   "id": "b4f72675b1bca60",
   "metadata": {
    "ExecuteTime": {
     "end_time": "2024-02-28T17:08:07.215678400Z",
     "start_time": "2024-02-28T17:08:07.166817800Z"
    },
    "collapsed": false,
    "jupyter": {
     "outputs_hidden": false
    }
   },
   "outputs": [],
   "source": [
    "array = pd.read_csv(\"../Data/pizzaSale.csv\").values\n",
    "X = array[:,0]\n",
    "Y = array[:,1]\n",
    "\n",
    "# w, b, df = train(X, Y, iterations=10000, lr=.01)\n",
    "w, b, df = train(X, Y, iterations=10000, lr=.1)"
   ]
  },
  {
   "cell_type": "code",
   "execution_count": 129,
   "id": "51f2a7f8ca244744",
   "metadata": {
    "ExecuteTime": {
     "end_time": "2024-02-28T17:08:14.982945Z",
     "start_time": "2024-02-28T17:08:14.977412700Z"
    },
    "collapsed": false,
    "jupyter": {
     "outputs_hidden": false
    }
   },
   "outputs": [
    {
     "name": "stdout",
     "output_type": "stream",
     "text": [
      "1.2 11.699999999999974\n"
     ]
    }
   ],
   "source": [
    "print(w, b)"
   ]
  },
  {
   "cell_type": "markdown",
   "id": "34b0100cd6bb221e",
   "metadata": {},
   "source": [
    "#### Predict using the model   "
   ]
  },
  {
   "cell_type": "code",
   "execution_count": 134,
   "id": "ddd35534d46476b7",
   "metadata": {
    "ExecuteTime": {
     "end_time": "2024-02-28T17:08:26.621912600Z",
     "start_time": "2024-02-28T17:08:26.604878800Z"
    },
    "collapsed": false,
    "jupyter": {
     "outputs_hidden": false
    }
   },
   "outputs": [
    {
     "name": "stdout",
     "output_type": "stream",
     "text": [
      "10 Bookings will result in 23 orders\n"
     ]
    }
   ],
   "source": [
    "val = randint(5, 50)\n",
    "print(f\"{val} Bookings will result in {int(predict(val, w, b))} orders\")"
   ]
  },
  {
   "cell_type": "code",
   "execution_count": 135,
   "id": "b9e723aa4529cc7c",
   "metadata": {
    "ExecuteTime": {
     "end_time": "2024-02-28T17:08:32.878457400Z",
     "start_time": "2024-02-28T17:08:32.871255700Z"
    },
    "collapsed": false,
    "jupyter": {
     "outputs_hidden": false
    }
   },
   "outputs": [
    {
     "data": {
      "text/html": [
       "<div>\n",
       "<style scoped>\n",
       "    .dataframe tbody tr th:only-of-type {\n",
       "        vertical-align: middle;\n",
       "    }\n",
       "\n",
       "    .dataframe tbody tr th {\n",
       "        vertical-align: top;\n",
       "    }\n",
       "\n",
       "    .dataframe thead th {\n",
       "        text-align: right;\n",
       "    }\n",
       "</style>\n",
       "<table border=\"1\" class=\"dataframe\">\n",
       "  <thead>\n",
       "    <tr style=\"text-align: right;\">\n",
       "      <th></th>\n",
       "      <th>Epoch</th>\n",
       "      <th>Weight</th>\n",
       "      <th>Bias</th>\n",
       "      <th>Loss</th>\n",
       "    </tr>\n",
       "  </thead>\n",
       "  <tbody>\n",
       "    <tr>\n",
       "      <th>0</th>\n",
       "      <td>0</td>\n",
       "      <td>0.0</td>\n",
       "      <td>0.0</td>\n",
       "      <td>812.866667</td>\n",
       "    </tr>\n",
       "    <tr>\n",
       "      <th>1</th>\n",
       "      <td>1</td>\n",
       "      <td>0.1</td>\n",
       "      <td>0.0</td>\n",
       "      <td>734.374667</td>\n",
       "    </tr>\n",
       "    <tr>\n",
       "      <th>2</th>\n",
       "      <td>2</td>\n",
       "      <td>0.2</td>\n",
       "      <td>0.0</td>\n",
       "      <td>660.258667</td>\n",
       "    </tr>\n",
       "    <tr>\n",
       "      <th>3</th>\n",
       "      <td>3</td>\n",
       "      <td>0.3</td>\n",
       "      <td>0.0</td>\n",
       "      <td>590.518667</td>\n",
       "    </tr>\n",
       "    <tr>\n",
       "      <th>4</th>\n",
       "      <td>4</td>\n",
       "      <td>0.4</td>\n",
       "      <td>0.0</td>\n",
       "      <td>525.154667</td>\n",
       "    </tr>\n",
       "    <tr>\n",
       "      <th>...</th>\n",
       "      <td>...</td>\n",
       "      <td>...</td>\n",
       "      <td>...</td>\n",
       "      <td>...</td>\n",
       "    </tr>\n",
       "    <tr>\n",
       "      <th>137</th>\n",
       "      <td>137</td>\n",
       "      <td>1.2</td>\n",
       "      <td>11.3</td>\n",
       "      <td>23.802000</td>\n",
       "    </tr>\n",
       "    <tr>\n",
       "      <th>138</th>\n",
       "      <td>138</td>\n",
       "      <td>1.2</td>\n",
       "      <td>11.4</td>\n",
       "      <td>23.738667</td>\n",
       "    </tr>\n",
       "    <tr>\n",
       "      <th>139</th>\n",
       "      <td>139</td>\n",
       "      <td>1.2</td>\n",
       "      <td>11.5</td>\n",
       "      <td>23.695333</td>\n",
       "    </tr>\n",
       "    <tr>\n",
       "      <th>140</th>\n",
       "      <td>140</td>\n",
       "      <td>1.2</td>\n",
       "      <td>11.6</td>\n",
       "      <td>23.672000</td>\n",
       "    </tr>\n",
       "    <tr>\n",
       "      <th>141</th>\n",
       "      <td>141</td>\n",
       "      <td>1.2</td>\n",
       "      <td>11.7</td>\n",
       "      <td>23.668667</td>\n",
       "    </tr>\n",
       "  </tbody>\n",
       "</table>\n",
       "<p>142 rows × 4 columns</p>\n",
       "</div>"
      ],
      "text/plain": [
       "     Epoch  Weight  Bias        Loss\n",
       "0        0     0.0   0.0  812.866667\n",
       "1        1     0.1   0.0  734.374667\n",
       "2        2     0.2   0.0  660.258667\n",
       "3        3     0.3   0.0  590.518667\n",
       "4        4     0.4   0.0  525.154667\n",
       "..     ...     ...   ...         ...\n",
       "137    137     1.2  11.3   23.802000\n",
       "138    138     1.2  11.4   23.738667\n",
       "139    139     1.2  11.5   23.695333\n",
       "140    140     1.2  11.6   23.672000\n",
       "141    141     1.2  11.7   23.668667\n",
       "\n",
       "[142 rows x 4 columns]"
      ]
     },
     "execution_count": 135,
     "metadata": {},
     "output_type": "execute_result"
    }
   ],
   "source": [
    "df"
   ]
  },
  {
   "cell_type": "markdown",
   "id": "3e66a83e9562f66b",
   "metadata": {},
   "source": [
    "#### Changing slope \n",
    "Plot five samples from 1552 epocs(every 388th sample) "
   ]
  },
  {
   "cell_type": "code",
   "execution_count": 99,
   "id": "73e1caee4c6b3734",
   "metadata": {
    "ExecuteTime": {
     "end_time": "2024-02-28T15:55:12.169061100Z",
     "start_time": "2024-02-28T15:55:12.018227700Z"
    },
    "collapsed": false,
    "jupyter": {
     "outputs_hidden": false
    }
   },
   "outputs": [
    {
     "data": {
      "text/plain": [
       "Text(30.0, 45.929999999999794, '4')"
      ]
     },
     "execution_count": 99,
     "metadata": {},
     "output_type": "execute_result"
    },
    {
     "data": {
      "image/png": "[encoded data removed]",
      "text/plain": [
       "<Figure size 640x480 with 1 Axes>"
      ]
     },
     "metadata": {},
     "output_type": "display_data"
    }
   ],
   "source": [
    "X_ = np.linspace(0,30, 10)\n",
    "step = 388 \n",
    "for y_ in range(4):\n",
    "    Y_ = predict(X_, df.iloc[step*y_].Weight, df.iloc[step*y_].Bias)\n",
    "    plt.plot(X_, Y_)\n",
    "    plt.text(X_[-1], Y_[-1], y_)\n",
    "Y_ =  predict(X_, df.iloc[1551].Weight, df.iloc[1551].Bias)  \n",
    "plt.plot(X_, Y_)\n",
    "plt.text(X_[-1], Y_[-1], 4)\n"
   ]
  },
  {
   "cell_type": "code",
   "execution_count": 56,
   "id": "fecf6a7f39298746",
   "metadata": {
    "ExecuteTime": {
     "end_time": "2024-02-28T14:45:02.534347200Z",
     "start_time": "2024-02-28T14:45:02.491308700Z"
    },
    "collapsed": false,
    "jupyter": {
     "outputs_hidden": false
    }
   },
   "outputs": [
    {
     "name": "stdout",
     "output_type": "stream",
     "text": [
      "1.7300000000000013 1.9300000000000015\n"
     ]
    },
    {
     "data": {
      "text/plain": [
       "Epoch     388.00000\n",
       "Weight      1.73000\n",
       "Bias        1.93000\n",
       "Loss       56.55422\n",
       "Name: 388, dtype: float64"
      ]
     },
     "execution_count": 56,
     "metadata": {},
     "output_type": "execute_result"
    }
   ],
   "source": [
    "m = df.iloc[388].Weight\n",
    "c = df.iloc[388].Bias\n"
   ]
  },
  {
   "cell_type": "markdown",
   "id": "e7bb3d56bec67edb",
   "metadata": {},
   "source": [
    "#### Visualise the refinement of model  "
   ]
  },
  {
   "cell_type": "code",
   "execution_count": 78,
   "id": "5d9c71c591ca489b",
   "metadata": {
    "ExecuteTime": {
     "end_time": "2024-02-28T15:09:51.786757700Z",
     "start_time": "2024-02-28T15:09:50.979161700Z"
    },
    "collapsed": false,
    "jupyter": {
     "outputs_hidden": false
    }
   },
   "outputs": [
    {
     "data": {
      "image/png": "[encoded data removed]",
      "text/plain": [
       "<Figure size 2400x400 with 5 Axes>"
      ]
     },
     "metadata": {},
     "output_type": "display_data"
    }
   ],
   "source": [
    "plt.figure(figsize=(24,4))\n",
    "X_ = np.linspace(0,30, 10)\n",
    "step = 388\n",
    "\n",
    "plt.subplot(1,5,1)\n",
    "plt.title(\"Epoc = 1\",fontsize=16)\n",
    "plt.scatter(X,Y)\n",
    "plt.plot(X_,predict(X_, df.iloc[step*0].Weight, df.iloc[step*0].Bias), color='red', linewidth=2)\n",
    "\n",
    "plt.subplot(1,5,2)\n",
    "plt.title(\"Epoc = 2\",fontsize=16)\n",
    "plt.scatter(X,Y)\n",
    "plt.plot(X_,predict(X_, df.iloc[step*1].Weight, df.iloc[step*1].Bias), color='red', linewidth=2)\n",
    "\n",
    "plt.subplot(1,5,3)\n",
    "plt.title(\"Epoc = 3\",fontsize=16)\n",
    "plt.scatter(X,Y)\n",
    "plt.plot(X_,predict(X_, df.iloc[step*2].Weight, df.iloc[step*2].Bias), color='red', linewidth=2)\n",
    "\n",
    "plt.subplot(1,5,4)\n",
    "plt.title(\"Epoc = 4\",fontsize=16)\n",
    "plt.scatter(X,Y)\n",
    "plt.plot(X_,predict(X_, df.iloc[step*3].Weight, df.iloc[step*3].Bias), color='red', linewidth=2)\n",
    "\n",
    "\n",
    "plt.subplot(1,5,5)\n",
    "plt.title(\"Epoc = 5\",fontsize=16)\n",
    "plt.scatter(X,Y)\n",
    "plt.plot(X_,predict(X_, df.iloc[1551].Weight, df.iloc[1551].Bias), color='red', linewidth=2)\n",
    "\n",
    "plt.subplots_adjust(top=0.8);"
   ]
  },
  {
   "cell_type": "code",
   "execution_count": 82,
   "id": "c1a689ca15125cf2",
   "metadata": {
    "ExecuteTime": {
     "end_time": "2024-02-28T15:14:26.170432200Z",
     "start_time": "2024-02-28T15:14:26.117043600Z"
    },
    "collapsed": false,
    "jupyter": {
     "outputs_hidden": false
    }
   },
   "outputs": [
    {
     "data": {
      "text/html": [
       "<div>\n",
       "<style scoped>\n",
       "    .dataframe tbody tr th:only-of-type {\n",
       "        vertical-align: middle;\n",
       "    }\n",
       "\n",
       "    .dataframe tbody tr th {\n",
       "        vertical-align: top;\n",
       "    }\n",
       "\n",
       "    .dataframe thead th {\n",
       "        text-align: right;\n",
       "    }\n",
       "</style>\n",
       "<table border=\"1\" class=\"dataframe\">\n",
       "  <thead>\n",
       "    <tr style=\"text-align: right;\">\n",
       "      <th></th>\n",
       "      <th>Epoch</th>\n",
       "      <th>Weight</th>\n",
       "      <th>Bias</th>\n",
       "      <th>Loss</th>\n",
       "    </tr>\n",
       "  </thead>\n",
       "  <tbody>\n",
       "    <tr>\n",
       "      <th>0</th>\n",
       "      <td>0.0</td>\n",
       "      <td>0.00</td>\n",
       "      <td>0.00</td>\n",
       "      <td>812.866667</td>\n",
       "    </tr>\n",
       "    <tr>\n",
       "      <th>100</th>\n",
       "      <td>100.0</td>\n",
       "      <td>1.00</td>\n",
       "      <td>0.00</td>\n",
       "      <td>224.866667</td>\n",
       "    </tr>\n",
       "    <tr>\n",
       "      <th>200</th>\n",
       "      <td>200.0</td>\n",
       "      <td>1.84</td>\n",
       "      <td>0.16</td>\n",
       "      <td>68.010347</td>\n",
       "    </tr>\n",
       "    <tr>\n",
       "      <th>300</th>\n",
       "      <td>300.0</td>\n",
       "      <td>1.78</td>\n",
       "      <td>1.10</td>\n",
       "      <td>61.714587</td>\n",
       "    </tr>\n",
       "    <tr>\n",
       "      <th>400</th>\n",
       "      <td>400.0</td>\n",
       "      <td>1.73</td>\n",
       "      <td>2.05</td>\n",
       "      <td>55.843020</td>\n",
       "    </tr>\n",
       "    <tr>\n",
       "      <th>500</th>\n",
       "      <td>500.0</td>\n",
       "      <td>1.67</td>\n",
       "      <td>2.99</td>\n",
       "      <td>50.496353</td>\n",
       "    </tr>\n",
       "    <tr>\n",
       "      <th>600</th>\n",
       "      <td>600.0</td>\n",
       "      <td>1.62</td>\n",
       "      <td>3.94</td>\n",
       "      <td>45.581253</td>\n",
       "    </tr>\n",
       "    <tr>\n",
       "      <th>700</th>\n",
       "      <td>700.0</td>\n",
       "      <td>1.56</td>\n",
       "      <td>4.88</td>\n",
       "      <td>41.183680</td>\n",
       "    </tr>\n",
       "    <tr>\n",
       "      <th>800</th>\n",
       "      <td>800.0</td>\n",
       "      <td>1.51</td>\n",
       "      <td>5.83</td>\n",
       "      <td>37.225047</td>\n",
       "    </tr>\n",
       "    <tr>\n",
       "      <th>900</th>\n",
       "      <td>900.0</td>\n",
       "      <td>1.45</td>\n",
       "      <td>6.77</td>\n",
       "      <td>33.776567</td>\n",
       "    </tr>\n",
       "    <tr>\n",
       "      <th>1000</th>\n",
       "      <td>1000.0</td>\n",
       "      <td>1.40</td>\n",
       "      <td>7.72</td>\n",
       "      <td>30.774400</td>\n",
       "    </tr>\n",
       "    <tr>\n",
       "      <th>1100</th>\n",
       "      <td>1100.0</td>\n",
       "      <td>1.34</td>\n",
       "      <td>8.66</td>\n",
       "      <td>28.275013</td>\n",
       "    </tr>\n",
       "    <tr>\n",
       "      <th>1200</th>\n",
       "      <td>1200.0</td>\n",
       "      <td>1.29</td>\n",
       "      <td>9.61</td>\n",
       "      <td>26.229313</td>\n",
       "    </tr>\n",
       "    <tr>\n",
       "      <th>1300</th>\n",
       "      <td>1300.0</td>\n",
       "      <td>1.23</td>\n",
       "      <td>10.55</td>\n",
       "      <td>24.679020</td>\n",
       "    </tr>\n",
       "    <tr>\n",
       "      <th>1400</th>\n",
       "      <td>1400.0</td>\n",
       "      <td>1.18</td>\n",
       "      <td>11.50</td>\n",
       "      <td>23.589787</td>\n",
       "    </tr>\n",
       "    <tr>\n",
       "      <th>1500</th>\n",
       "      <td>1500.0</td>\n",
       "      <td>1.12</td>\n",
       "      <td>12.44</td>\n",
       "      <td>22.988587</td>\n",
       "    </tr>\n",
       "    <tr>\n",
       "      <th>1551</th>\n",
       "      <td>1551.0</td>\n",
       "      <td>1.10</td>\n",
       "      <td>12.93</td>\n",
       "      <td>22.863567</td>\n",
       "    </tr>\n",
       "  </tbody>\n",
       "</table>\n",
       "</div>"
      ],
      "text/plain": [
       "       Epoch  Weight   Bias        Loss\n",
       "0        0.0    0.00   0.00  812.866667\n",
       "100    100.0    1.00   0.00  224.866667\n",
       "200    200.0    1.84   0.16   68.010347\n",
       "300    300.0    1.78   1.10   61.714587\n",
       "400    400.0    1.73   2.05   55.843020\n",
       "500    500.0    1.67   2.99   50.496353\n",
       "600    600.0    1.62   3.94   45.581253\n",
       "700    700.0    1.56   4.88   41.183680\n",
       "800    800.0    1.51   5.83   37.225047\n",
       "900    900.0    1.45   6.77   33.776567\n",
       "1000  1000.0    1.40   7.72   30.774400\n",
       "1100  1100.0    1.34   8.66   28.275013\n",
       "1200  1200.0    1.29   9.61   26.229313\n",
       "1300  1300.0    1.23  10.55   24.679020\n",
       "1400  1400.0    1.18  11.50   23.589787\n",
       "1500  1500.0    1.12  12.44   22.988587\n",
       "1551  1551.0    1.10  12.93   22.863567"
      ]
     },
     "execution_count": 82,
     "metadata": {},
     "output_type": "execute_result"
    }
   ],
   "source": [
    "df[df.index % 100 == 0]._append(df.iloc[1551])  # Selects every 3rd raw starting from 0"
   ]
  },
  {
   "cell_type": "markdown",
   "id": "6dfb676fc2e879cb",
   "metadata": {},
   "source": [
    "#### Using sklearn   "
   ]
  },
  {
   "cell_type": "code",
   "execution_count": 100,
   "id": "45e6e4511fcf0c24",
   "metadata": {
    "ExecuteTime": {
     "end_time": "2024-02-28T16:06:38.847514900Z",
     "start_time": "2024-02-28T16:06:38.136039500Z"
    },
    "collapsed": false,
    "jupyter": {
     "outputs_hidden": false
    }
   },
   "outputs": [],
   "source": [
    "from sklearn.linear_model import LinearRegression\n",
    "regressor = LinearRegression()"
   ]
  },
  {
   "cell_type": "code",
   "execution_count": 102,
   "id": "3973afdd7aba367e",
   "metadata": {
    "ExecuteTime": {
     "end_time": "2024-02-28T16:12:21.585709Z",
     "start_time": "2024-02-28T16:12:21.544011Z"
    },
    "collapsed": false,
    "jupyter": {
     "outputs_hidden": false
    }
   },
   "outputs": [],
   "source": [
    "X1 = X.reshape(-1, 1)\n",
    "model = regressor.fit(X1, Y)"
   ]
  },
  {
   "cell_type": "code",
   "execution_count": 127,
   "id": "ffa56c160ea37755",
   "metadata": {
    "ExecuteTime": {
     "end_time": "2024-02-28T16:19:08.204623200Z",
     "start_time": "2024-02-28T16:19:08.199098100Z"
    },
    "collapsed": false,
    "jupyter": {
     "outputs_hidden": false
    }
   },
   "outputs": [
    {
     "name": "stdout",
     "output_type": "stream",
     "text": [
      "21 Bookings \n",
      "hand-built model: 36 orders\n",
      "sklearn model:    35 orders\n"
     ]
    }
   ],
   "source": [
    "val = randint(5, 50)\n",
    "print(f\"{val} Bookings \\nhand-built model: {int(predict(val, w, b))} orders\")\n",
    "print(f\"sklearn model:    {int(model.predict([[val]])[0])} orders\")"
   ]
  },
  {
   "cell_type": "markdown",
   "id": "fd8ca0270511b844",
   "metadata": {},
   "source": [
    "#### Task  \n",
    "03.01 Ordinary Least Squared Regression.ipynb has used sample weight and BMI for OLS Regression.        \n",
    "Using those sample data, make a hand-built linear regression model (not using sklearn module).     \n",
    "What is the effect of changing learning rate? "
   ]
  },
  {
   "cell_type": "markdown",
   "id": "f5c162cf-e7c9-4b42-a236-c4838d53b2b0",
   "metadata": {
    "jupyter": {
     "outputs_hidden": false
    }
   },
   "source": [
    "##### Note   \n",
    "The implementation here does not exactly use gradient descent, but elaborates the concept.    \n",
    "We will add a small feature to calcuate the gradient descent and simplify the algorithm.  "
   ]
  }
 ],
 "metadata": {
  "kernelspec": {
   "display_name": "Python 3 (ipykernel)",
   "language": "python",
   "name": "python3"
  },
  "language_info": {
   "codemirror_mode": {
    "name": "ipython",
    "version": 3
   },
   "file_extension": ".py",
   "mimetype": "text/x-python",
   "name": "python",
   "nbconvert_exporter": "python",
   "pygments_lexer": "ipython3",
   "version": "3.11.5"
  }
 },
 "nbformat": 4,
 "nbformat_minor": 5
}
