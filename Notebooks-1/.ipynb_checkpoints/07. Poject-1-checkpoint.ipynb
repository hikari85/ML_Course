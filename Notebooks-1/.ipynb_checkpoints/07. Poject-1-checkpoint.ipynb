{
 "cells": [
  {
   "cell_type": "markdown",
   "source": [
    "#### Project"
   ],
   "metadata": {
    "collapsed": false
   },
   "id": "8a26f6ea3801b57d"
  },
  {
   "cell_type": "markdown",
   "source": [
    "CO7: Solve a real-world problem belonging to health/finance by applying machine learning skills\n",
    "\t\t\t\t\t\t\t\t\t\t\t\t\t12 Hours\n",
    "Project selection, project status review-1. Final project submission: source code and report, presentation, and Viva.\n"
   ],
   "metadata": {
    "collapsed": false
   },
   "id": "d7ba4b234901fad7"
  }
 ],
 "metadata": {
  "kernelspec": {
   "display_name": "Python 3",
   "language": "python",
   "name": "python3"
  },
  "language_info": {
   "codemirror_mode": {
    "name": "ipython",
    "version": 2
   },
   "file_extension": ".py",
   "mimetype": "text/x-python",
   "name": "python",
   "nbconvert_exporter": "python",
   "pygments_lexer": "ipython2",
   "version": "2.7.6"
  }
 },
 "nbformat": 4,
 "nbformat_minor": 5
}
