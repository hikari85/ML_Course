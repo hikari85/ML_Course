{
 "cells": [
  {
   "cell_type": "code",
   "execution_count": 1,
   "id": "e2071718-0bbb-469e-afa2-936f22e265e7",
   "metadata": {
    "ExecuteTime": {
     "end_time": "2024-02-07T03:56:27.523316500Z",
     "start_time": "2024-02-07T03:56:27.389414400Z"
    },
    "tags": []
   },
   "outputs": [],
   "source": [
    "import warnings\n",
    "warnings.filterwarnings('ignore')\n",
    "import numpy as np"
   ]
  },
  {
   "cell_type": "markdown",
   "id": "f5f94b298cee290a",
   "metadata": {},
   "source": [
    "#### Pick a student   \n",
    "pick a random student without replacement.  "
   ]
  },
  {
   "cell_type": "code",
   "execution_count": 6,
   "id": "d88a1185ec7f55a2",
   "metadata": {
    "ExecuteTime": {
     "end_time": "2024-02-07T03:56:31.370484700Z",
     "start_time": "2024-02-07T03:56:31.350537100Z"
    },
    "collapsed": false,
    "jupyter": {
     "outputs_hidden": false
    },
    "tags": []
   },
   "outputs": [],
   "source": [
    "import random\n",
    "students = ['Adithi', 'Adithiyaa', 'Aditya', 'Ajay', 'Akshay', 'Alaric', 'Apoorva', 'Chayanika', 'Dharshan', 'Denis', 'Divya', 'Zeba ', 'Janak', 'Khushi', 'Kishor', 'Meghan', 'Mohammed', 'Mourya', 'Musharrat', 'Nandika', 'Phalguni', 'Prabhas', 'Pranav', 'Prasanna', 'Preetish', 'Priyanshu', 'Puneeth', 'Ramya', 'Sahil', 'Shreya', 'Sohail', 'Syeda', 'Vidith', 'Yashwant']; students=['Sahil']\n",
    "random.shuffle(students)"
   ]
  },
  {
   "cell_type": "code",
   "execution_count": null,
   "id": "284c55f4af8f4969",
   "metadata": {
    "ExecuteTime": {
     "end_time": "2024-02-04T05:51:33.214053900Z",
     "start_time": "2024-02-04T05:51:33.085924100Z"
    },
    "collapsed": false,
    "jupyter": {
     "outputs_hidden": false
    },
    "tags": []
   },
   "outputs": [],
   "source": [
    "students.pop()"
   ]
  },
  {
   "cell_type": "markdown",
   "id": "c84206b0-9e1d-4821-913c-8a96222ff7bb",
   "metadata": {},
   "source": [
    "##### Attendance Watch   "
   ]
  },
  {
   "cell_type": "code",
   "execution_count": 2,
   "id": "cd307b9e-6fcf-414b-816a-0f3dff51f86d",
   "metadata": {
    "tags": []
   },
   "outputs": [
    {
     "data": {
      "text/html": [
       "<div>\n",
       "<style scoped>\n",
       "    .dataframe tbody tr th:only-of-type {\n",
       "        vertical-align: middle;\n",
       "    }\n",
       "\n",
       "    .dataframe tbody tr th {\n",
       "        vertical-align: top;\n",
       "    }\n",
       "\n",
       "    .dataframe thead th {\n",
       "        text-align: right;\n",
       "    }\n",
       "</style>\n",
       "<table border=\"1\" class=\"dataframe\">\n",
       "  <thead>\n",
       "    <tr style=\"text-align: right;\">\n",
       "      <th></th>\n",
       "      <th>USN</th>\n",
       "      <th>Name</th>\n",
       "      <th>Total</th>\n",
       "      <th>%</th>\n",
       "    </tr>\n",
       "  </thead>\n",
       "  <tbody>\n",
       "    <tr>\n",
       "      <th>36</th>\n",
       "      <td>1RVU22BSC055</td>\n",
       "      <td>Mohith M</td>\n",
       "      <td>0</td>\n",
       "      <td>0.00</td>\n",
       "    </tr>\n",
       "    <tr>\n",
       "      <th>32</th>\n",
       "      <td>1RVU22BSC103</td>\n",
       "      <td>Syeda Maleka Fatima</td>\n",
       "      <td>2</td>\n",
       "      <td>9.09</td>\n",
       "    </tr>\n",
       "    <tr>\n",
       "      <th>31</th>\n",
       "      <td>1RVU22BSC099</td>\n",
       "      <td>Sohail Ansari</td>\n",
       "      <td>4</td>\n",
       "      <td>18.18</td>\n",
       "    </tr>\n",
       "    <tr>\n",
       "      <th>22</th>\n",
       "      <td>1RVU22BSC071</td>\n",
       "      <td>Pranav Sampat</td>\n",
       "      <td>10</td>\n",
       "      <td>45.45</td>\n",
       "    </tr>\n",
       "    <tr>\n",
       "      <th>33</th>\n",
       "      <td>1RVU22BSC108</td>\n",
       "      <td>Vidith Somanna C</td>\n",
       "      <td>10</td>\n",
       "      <td>45.45</td>\n",
       "    </tr>\n",
       "    <tr>\n",
       "      <th>35</th>\n",
       "      <td>1RVU22BSC045</td>\n",
       "      <td>Krisch Kalwar</td>\n",
       "      <td>10</td>\n",
       "      <td>45.45</td>\n",
       "    </tr>\n",
       "    <tr>\n",
       "      <th>12</th>\n",
       "      <td>1RVU22BSC037</td>\n",
       "      <td>Janak R Kumble</td>\n",
       "      <td>12</td>\n",
       "      <td>54.55</td>\n",
       "    </tr>\n",
       "    <tr>\n",
       "      <th>10</th>\n",
       "      <td>1RVU22BSC028</td>\n",
       "      <td>Divya Jnanakshi</td>\n",
       "      <td>14</td>\n",
       "      <td>63.64</td>\n",
       "    </tr>\n",
       "    <tr>\n",
       "      <th>18</th>\n",
       "      <td>1RVU22BSC058</td>\n",
       "      <td>Musharrat Perveen</td>\n",
       "      <td>14</td>\n",
       "      <td>63.64</td>\n",
       "    </tr>\n",
       "    <tr>\n",
       "      <th>27</th>\n",
       "      <td>1RVU22BSC080</td>\n",
       "      <td>Ramya Raga N</td>\n",
       "      <td>14</td>\n",
       "      <td>63.64</td>\n",
       "    </tr>\n",
       "    <tr>\n",
       "      <th>28</th>\n",
       "      <td>1RVU22BSC085</td>\n",
       "      <td>Sahil Kumar</td>\n",
       "      <td>14</td>\n",
       "      <td>63.64</td>\n",
       "    </tr>\n",
       "    <tr>\n",
       "      <th>8</th>\n",
       "      <td>1RVU22BSC027</td>\n",
       "      <td>Dharshan</td>\n",
       "      <td>16</td>\n",
       "      <td>72.73</td>\n",
       "    </tr>\n",
       "    <tr>\n",
       "      <th>29</th>\n",
       "      <td>1RVU22BSC086</td>\n",
       "      <td>Sai Rajendra Gawand</td>\n",
       "      <td>16</td>\n",
       "      <td>72.73</td>\n",
       "    </tr>\n",
       "  </tbody>\n",
       "</table>\n",
       "</div>"
      ],
      "text/plain": [
       "             USN                  Name  Total      %\n",
       "36  1RVU22BSC055              Mohith M      0   0.00\n",
       "32  1RVU22BSC103  Syeda Maleka Fatima       2   9.09\n",
       "31  1RVU22BSC099        Sohail Ansari       4  18.18\n",
       "22  1RVU22BSC071        Pranav Sampat      10  45.45\n",
       "33  1RVU22BSC108     Vidith Somanna C      10  45.45\n",
       "35  1RVU22BSC045         Krisch Kalwar     10  45.45\n",
       "12  1RVU22BSC037       Janak R Kumble      12  54.55\n",
       "10  1RVU22BSC028       Divya Jnanakshi     14  63.64\n",
       "18  1RVU22BSC058    Musharrat Perveen      14  63.64\n",
       "27  1RVU22BSC080          Ramya Raga N     14  63.64\n",
       "28  1RVU22BSC085          Sahil Kumar      14  63.64\n",
       "8   1RVU22BSC027              Dharshan     16  72.73\n",
       "29  1RVU22BSC086   Sai Rajendra Gawand     16  72.73"
      ]
     },
     "execution_count": 2,
     "metadata": {},
     "output_type": "execute_result"
    }
   ],
   "source": [
    "import pandas as pd\n",
    "\n",
    "df = pd.read_excel('../Scores and Attendance/BSc22-A IML Attendance.xlsx')\n",
    "df['Total'] = df.iloc[:, 3:].sum(axis=1)\n",
    "df['%'] = round(100*df.Total/max(df.Total), 2)\n",
    "df[df['%'] < 80][['USN', 'Name', 'Total', '%']].sort_values('Total')"
   ]
  }
 ],
 "metadata": {
  "kernelspec": {
   "display_name": "Python 3 (ipykernel)",
   "language": "python",
   "name": "python3"
  },
  "language_info": {
   "codemirror_mode": {
    "name": "ipython",
    "version": 3
   },
   "file_extension": ".py",
   "mimetype": "text/x-python",
   "name": "python",
   "nbconvert_exporter": "python",
   "pygments_lexer": "ipython3",
   "version": "3.11.5"
  }
 },
 "nbformat": 4,
 "nbformat_minor": 5
}
