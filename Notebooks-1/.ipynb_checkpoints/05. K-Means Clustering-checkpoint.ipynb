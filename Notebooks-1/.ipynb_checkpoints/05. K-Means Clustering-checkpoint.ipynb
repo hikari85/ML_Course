{
 "cells": [
  {
   "cell_type": "markdown",
   "source": [
    "#### K-Means Clustering   "
   ],
   "metadata": {
    "collapsed": false
   },
   "id": "c2d7e893d18ebe27"
  },
  {
   "cell_type": "markdown",
   "source": [
    "CO5: Identify patterns in a provided dataset using k-means clustering with elbow method and dendrograms\t\t\t\t\t\t\t\t\t\t\t\t3 Hours\n",
    "Objective:  \n",
    "1. K-means clustering, \n",
    "2. elbow method and \n",
    "3. dendrograms\n"
   ],
   "metadata": {
    "collapsed": false
   },
   "id": "6850a831038d463c"
  },
  {
   "cell_type": "markdown",
   "source": [],
   "metadata": {
    "collapsed": false
   },
   "id": "8fb33642a79c4ea"
  }
 ],
 "metadata": {
  "kernelspec": {
   "display_name": "Python 3",
   "language": "python",
   "name": "python3"
  },
  "language_info": {
   "codemirror_mode": {
    "name": "ipython",
    "version": 2
   },
   "file_extension": ".py",
   "mimetype": "text/x-python",
   "name": "python",
   "nbconvert_exporter": "python",
   "pygments_lexer": "ipython2",
   "version": "2.7.6"
  }
 },
 "nbformat": 4,
 "nbformat_minor": 5
}
