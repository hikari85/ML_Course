{
 "cells": [
  {
   "cell_type": "markdown",
   "source": [
    "#### Linear Regression  "
   ],
   "metadata": {
    "collapsed": false
   },
   "id": "ebd7fd32067da1b2"
  },
  {
   "cell_type": "markdown",
   "source": [
    "CO3: Determine the relationship between dependent and independent variables encountered in specific domains using simple linear regression and its error metrics (MSE, MAE, RMSE)\t\t\t6Hours \n",
    "\n",
    "Objective:    \n",
    "1. simple linear regression, \n",
    "2. loss functions, \n",
    "3. gradient descent, \n",
    "4. mean squared error, \n",
    "5. mean absolute error, \n",
    "6. root mean squared error."
   ],
   "metadata": {
    "collapsed": false
   },
   "id": "f17e2c28861eee4b"
  },
  {
   "cell_type": "markdown",
   "source": [
    "**Regression** is a statistical tool to test and quantify relationships between variables. The two most common regressions are linear and logistic regressions.   \n",
    "##### linear regression   \n",
    "is used when the dependent variable is quantitative,   \n",
    "**descrete** values are countable and have a finite number of possibilities, often integers.    \n",
    "**continuous** values are not countable and have an infinite number of possibilities, usually with decimals, or at least decimals are technically possible.\n",
    "\n",
    "##### logistic regression     \n",
    "is used when the dependent variable is qualitative, known as categorical, is not numerical and its values fit into categories.  \n",
    "**nominal**: no ordering is possible or implied in the categories   \n",
    "**ordinal**: an order is implied in the categories.       \n",
    "\n",
    "A **binary variable**, also known as dichotomous, is a special case of qualitative nominal variable when there are only two categories.\n"
   ],
   "metadata": {
    "collapsed": false
   },
   "id": "ed13f14ac79ed415"
  }
 ],
 "metadata": {
  "kernelspec": {
   "display_name": "Python 3",
   "language": "python",
   "name": "python3"
  },
  "language_info": {
   "codemirror_mode": {
    "name": "ipython",
    "version": 2
   },
   "file_extension": ".py",
   "mimetype": "text/x-python",
   "name": "python",
   "nbconvert_exporter": "python",
   "pygments_lexer": "ipython2",
   "version": "2.7.6"
  }
 },
 "nbformat": 4,
 "nbformat_minor": 5
}
