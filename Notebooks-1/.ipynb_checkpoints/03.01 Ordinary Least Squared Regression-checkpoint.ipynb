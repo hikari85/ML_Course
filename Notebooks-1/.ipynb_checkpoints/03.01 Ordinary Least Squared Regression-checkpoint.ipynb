{
 "cells": [
  {
   "cell_type": "markdown",
   "id": "8c631e2a5e0d8a6c",
   "metadata": {},
   "source": [
    "### Ordinary Least Squares Regression   \n",
    "[Refer](https://www.ripublication.com/gjpam17/gjpamv13n11_05.pdf)   \n",
    "\n",
    "##### Line of Best Fit   \n",
    "You have some points, and want to have a line that best fits them,   \n",
    "to have the line as close as possible to all points,     \n",
    "and a similar number of points above and below the line.  "
   ]
  },
  {
   "cell_type": "markdown",
   "id": "de49244ea5ed9bd9",
   "metadata": {},
   "source": [
    "##### The Line   \n",
    "Our aim is to calculate the values m (slope) and b (y-intercept) in the equation of a line:   \n",
    "$$y = mx + b$$   \n",
    "\n",
    "Where:  \n",
    "y = how far up  \n",
    "x = how far along  \n",
    "m = Slope or Gradient (how steep the line is) =  $\\frac{\\Delta{y}}{\\Delta{x}}$ \n",
    "```\n",
    "A slope of a line is  \n",
    "an averge change on the y−axis due to a change on the x−axis.\n",
    "```\n",
    "b = the Y Intercept (where the line crosses the Y axis)    \n",
    "\n",
    "1. For each (x,y) point calculate $x_2$ and $x . y$\n",
    "2. Find Σx, Σy, Σx2 and Σx.y   \n",
    "3. Slope:      \n",
    "$$m = \\frac{N.\\sum(x.y) - \\sum x . \\sum y}{N.\\sum x^2 - (\\sum x)^2}$$    \n",
    "(where N is the number of points)   \n",
    "\n",
    "4. Calculate Intercept b:  \n",
    "$$b = \\frac{\\sum{y} - m.\\sum{x}}{N}$$   \n",
    "5. Assemble the equation of a line $y = mx + b$\n",
    "\n"
   ]
  },
  {
   "cell_type": "markdown",
   "id": "ee9e43da0faabd1d",
   "metadata": {},
   "source": [
    "#### OLS for Weight and BMI   "
   ]
  },
  {
   "cell_type": "code",
   "execution_count": 2,
   "id": "d8c8e45bb02a8835",
   "metadata": {
    "ExecuteTime": {
     "end_time": "2024-02-20T15:49:08.260574100Z",
     "start_time": "2024-02-20T15:49:08.229972500Z"
    },
    "collapsed": false,
    "jupyter": {
     "outputs_hidden": false
    }
   },
   "outputs": [],
   "source": [
    "import pandas as pd\n",
    "import seaborn as sns\n",
    "import matplotlib.pyplot as plt\n",
    "\n",
    "import warnings\n",
    "warnings.filterwarnings(\"ignore\")"
   ]
  },
  {
   "cell_type": "markdown",
   "id": "88071e54d07c1440",
   "metadata": {},
   "source": [
    "#### Small Demo   "
   ]
  },
  {
   "cell_type": "code",
   "execution_count": 3,
   "id": "3afed691e97410b9",
   "metadata": {
    "ExecuteTime": {
     "end_time": "2024-02-20T16:21:04.892807200Z",
     "start_time": "2024-02-20T16:21:04.865875700Z"
    },
    "collapsed": false,
    "jupyter": {
     "outputs_hidden": false
    }
   },
   "outputs": [
    {
     "name": "stdout",
     "output_type": "stream",
     "text": [
      "   x   y\n",
      "0  2   4\n",
      "1  3   5\n",
      "2  5   7\n",
      "3  7  10\n",
      "4  9  15\n"
     ]
    }
   ],
   "source": [
    "data = [[2, 4],\n",
    " [3, 5],\n",
    " [5, 7],\n",
    " [7, 10],\n",
    " [9, 15]]\n",
    "\n",
    "df = pd.DataFrame(data, columns=['study', 'scores'])\n",
    "df.columns = ['x', 'y']\n",
    "print(df)\n"
   ]
  },
  {
   "cell_type": "markdown",
   "id": "f76dfcf37d344f86",
   "metadata": {},
   "source": [
    "1. add columns $x^2$ and xy"
   ]
  },
  {
   "cell_type": "code",
   "execution_count": 4,
   "id": "657c9994075204a8",
   "metadata": {
    "ExecuteTime": {
     "end_time": "2024-02-20T16:24:27.705311700Z",
     "start_time": "2024-02-20T16:24:27.675388400Z"
    },
    "collapsed": false,
    "jupyter": {
     "outputs_hidden": false
    }
   },
   "outputs": [
    {
     "name": "stdout",
     "output_type": "stream",
     "text": [
      "   x   y  x2   xy\n",
      "0  2   4   4    8\n",
      "1  3   5   9   15\n",
      "2  5   7  25   35\n",
      "3  7  10  49   70\n",
      "4  9  15  81  135\n"
     ]
    }
   ],
   "source": [
    "df['x2'] = df.x ** 2 \n",
    "df['xy'] = df.x *  df.y\n",
    "print(df)"
   ]
  },
  {
   "cell_type": "markdown",
   "id": "9061018ca7b0adf9",
   "metadata": {},
   "source": [
    "2. Find Σx, Σy, Σx2 and Σxy)"
   ]
  },
  {
   "cell_type": "code",
   "execution_count": 5,
   "id": "28cc43f778dcd5da",
   "metadata": {
    "ExecuteTime": {
     "end_time": "2024-02-20T16:28:43.661230400Z",
     "start_time": "2024-02-20T16:28:43.630323Z"
    },
    "collapsed": false,
    "jupyter": {
     "outputs_hidden": false
    }
   },
   "outputs": [
    {
     "name": "stdout",
     "output_type": "stream",
     "text": [
      "26 41 168 263 5\n"
     ]
    }
   ],
   "source": [
    "sum_x = df.x.sum()\n",
    "sum_y = df.y.sum()\n",
    "sum_x2 = df.x2.sum()\n",
    "sum_xy = df.xy.sum()\n",
    "N = len(df)\n",
    "print(sum_x, sum_y, sum_x2, sum_xy, N)"
   ]
  },
  {
   "cell_type": "markdown",
   "id": "98b39d4a87525d7d",
   "metadata": {},
   "source": [
    "3. Calculate Slope m:   \n",
    "$$m = \\frac{N.\\sum(x.y) - \\sum x . \\sum y}{N.\\sum x^2 - (\\sum x)^2}$$    \n"
   ]
  },
  {
   "cell_type": "code",
   "execution_count": 6,
   "id": "5ea812ecdf38c1bc",
   "metadata": {
    "ExecuteTime": {
     "end_time": "2024-02-20T16:37:09.905239400Z",
     "start_time": "2024-02-20T16:37:09.877447800Z"
    },
    "collapsed": false,
    "jupyter": {
     "outputs_hidden": false
    }
   },
   "outputs": [
    {
     "data": {
      "text/plain": [
       "1.5182926829268293"
      ]
     },
     "execution_count": 6,
     "metadata": {},
     "output_type": "execute_result"
    }
   ],
   "source": [
    "m = (N*sum_xy - sum_x*sum_y)/(N*sum_x2 - sum_x**2)\n",
    "m"
   ]
  },
  {
   "cell_type": "markdown",
   "id": "db7b73c6da91f16e",
   "metadata": {},
   "source": [
    "4. Calculate Intercept b:  \n",
    "$$b = \\frac{\\sum{y} - m.\\sum{x}}{N}$$   "
   ]
  },
  {
   "cell_type": "code",
   "execution_count": 7,
   "id": "f6185dffac973293",
   "metadata": {
    "ExecuteTime": {
     "end_time": "2024-02-20T16:39:34.106295300Z",
     "start_time": "2024-02-20T16:39:34.074956400Z"
    },
    "collapsed": false,
    "jupyter": {
     "outputs_hidden": false
    }
   },
   "outputs": [
    {
     "data": {
      "text/plain": [
       "0.30487804878048763"
      ]
     },
     "execution_count": 7,
     "metadata": {},
     "output_type": "execute_result"
    }
   ],
   "source": [
    "b = (sum_y - m*sum_x)/N\n",
    "b"
   ]
  },
  {
   "cell_type": "markdown",
   "id": "56c1ef7eb92a2cb7",
   "metadata": {},
   "source": [
    "5. y = m.x + b"
   ]
  },
  {
   "cell_type": "code",
   "execution_count": 8,
   "id": "7e5ec958d6c7e88a",
   "metadata": {
    "ExecuteTime": {
     "end_time": "2024-02-20T16:45:31.284077300Z",
     "start_time": "2024-02-20T16:45:31.252467100Z"
    },
    "collapsed": false,
    "jupyter": {
     "outputs_hidden": false
    }
   },
   "outputs": [
    {
     "data": {
      "text/html": [
       "<div>\n",
       "<style scoped>\n",
       "    .dataframe tbody tr th:only-of-type {\n",
       "        vertical-align: middle;\n",
       "    }\n",
       "\n",
       "    .dataframe tbody tr th {\n",
       "        vertical-align: top;\n",
       "    }\n",
       "\n",
       "    .dataframe thead th {\n",
       "        text-align: right;\n",
       "    }\n",
       "</style>\n",
       "<table border=\"1\" class=\"dataframe\">\n",
       "  <thead>\n",
       "    <tr style=\"text-align: right;\">\n",
       "      <th></th>\n",
       "      <th>x</th>\n",
       "      <th>y</th>\n",
       "      <th>y_pred</th>\n",
       "      <th>err</th>\n",
       "    </tr>\n",
       "  </thead>\n",
       "  <tbody>\n",
       "    <tr>\n",
       "      <th>0</th>\n",
       "      <td>2</td>\n",
       "      <td>4</td>\n",
       "      <td>3.341463</td>\n",
       "      <td>-0.658537</td>\n",
       "    </tr>\n",
       "    <tr>\n",
       "      <th>1</th>\n",
       "      <td>3</td>\n",
       "      <td>5</td>\n",
       "      <td>4.859756</td>\n",
       "      <td>-0.140244</td>\n",
       "    </tr>\n",
       "    <tr>\n",
       "      <th>2</th>\n",
       "      <td>5</td>\n",
       "      <td>7</td>\n",
       "      <td>7.896341</td>\n",
       "      <td>0.896341</td>\n",
       "    </tr>\n",
       "    <tr>\n",
       "      <th>3</th>\n",
       "      <td>7</td>\n",
       "      <td>10</td>\n",
       "      <td>10.932927</td>\n",
       "      <td>0.932927</td>\n",
       "    </tr>\n",
       "    <tr>\n",
       "      <th>4</th>\n",
       "      <td>9</td>\n",
       "      <td>15</td>\n",
       "      <td>13.969512</td>\n",
       "      <td>-1.030488</td>\n",
       "    </tr>\n",
       "  </tbody>\n",
       "</table>\n",
       "</div>"
      ],
      "text/plain": [
       "   x   y     y_pred       err\n",
       "0  2   4   3.341463 -0.658537\n",
       "1  3   5   4.859756 -0.140244\n",
       "2  5   7   7.896341  0.896341\n",
       "3  7  10  10.932927  0.932927\n",
       "4  9  15  13.969512 -1.030488"
      ]
     },
     "execution_count": 8,
     "metadata": {},
     "output_type": "execute_result"
    }
   ],
   "source": [
    "df_ = df[['x', 'y']]\n",
    "df_['y_pred'] = df_.x*m + b\n",
    "df_['err'] = df_.y_pred - df_.y\n",
    "df_"
   ]
  },
  {
   "cell_type": "code",
   "execution_count": 9,
   "id": "be9ed5a6e2482359",
   "metadata": {
    "ExecuteTime": {
     "end_time": "2024-02-20T16:51:05.004635200Z",
     "start_time": "2024-02-20T16:51:04.625987300Z"
    },
    "collapsed": false,
    "jupyter": {
     "outputs_hidden": false
    }
   },
   "outputs": [
    {
     "data": {
      "text/plain": [
       "<matplotlib.collections.PathCollection at 0x1dc145469d0>"
      ]
     },
     "execution_count": 9,
     "metadata": {},
     "output_type": "execute_result"
    },
    {
     "data": {
      "image/png": "[encoded data removed]",
      "text/plain": [
       "<Figure size 640x480 with 1 Axes>"
      ]
     },
     "metadata": {},
     "output_type": "display_data"
    }
   ],
   "source": [
    "plt.plot(df_.x, df_.y_pred);\n",
    "plt.scatter(df_.x, df_.y, c='r')"
   ]
  },
  {
   "cell_type": "markdown",
   "id": "af1b5f009626ec98",
   "metadata": {},
   "source": [
    "If you study for 8 hours, what will be the score? "
   ]
  },
  {
   "cell_type": "code",
   "execution_count": 10,
   "id": "a5baa46a7097bc7d",
   "metadata": {
    "ExecuteTime": {
     "end_time": "2024-02-20T16:54:37.958857900Z",
     "start_time": "2024-02-20T16:54:37.926369900Z"
    },
    "collapsed": false,
    "jupyter": {
     "outputs_hidden": false
    }
   },
   "outputs": [
    {
     "data": {
      "text/plain": [
       "12.45"
      ]
     },
     "execution_count": 10,
     "metadata": {},
     "output_type": "execute_result"
    }
   ],
   "source": [
    "x = 8\n",
    "y = m*x + b\n",
    "round(y,2)"
   ]
  },
  {
   "cell_type": "markdown",
   "id": "c2694d0fde51fdd2",
   "metadata": {},
   "source": [
    "#### OLS for weight and BMI of your class   "
   ]
  },
  {
   "cell_type": "code",
   "execution_count": 11,
   "id": "f3ba30fc835955a0",
   "metadata": {
    "ExecuteTime": {
     "end_time": "2024-02-20T17:06:51.914752Z",
     "start_time": "2024-02-20T17:06:51.845406700Z"
    },
    "collapsed": false,
    "jupyter": {
     "outputs_hidden": false
    }
   },
   "outputs": [
    {
     "data": {
      "text/html": [
       "<div>\n",
       "<style scoped>\n",
       "    .dataframe tbody tr th:only-of-type {\n",
       "        vertical-align: middle;\n",
       "    }\n",
       "\n",
       "    .dataframe tbody tr th {\n",
       "        vertical-align: top;\n",
       "    }\n",
       "\n",
       "    .dataframe thead th {\n",
       "        text-align: right;\n",
       "    }\n",
       "</style>\n",
       "<table border=\"1\" class=\"dataframe\">\n",
       "  <thead>\n",
       "    <tr style=\"text-align: right;\">\n",
       "      <th></th>\n",
       "      <th>x</th>\n",
       "      <th>y</th>\n",
       "    </tr>\n",
       "  </thead>\n",
       "  <tbody>\n",
       "    <tr>\n",
       "      <th>0</th>\n",
       "      <td>50.0</td>\n",
       "      <td>18.590125</td>\n",
       "    </tr>\n",
       "    <tr>\n",
       "      <th>1</th>\n",
       "      <td>49.0</td>\n",
       "      <td>17.156262</td>\n",
       "    </tr>\n",
       "    <tr>\n",
       "      <th>2</th>\n",
       "      <td>59.0</td>\n",
       "      <td>19.487383</td>\n",
       "    </tr>\n",
       "    <tr>\n",
       "      <th>3</th>\n",
       "      <td>63.0</td>\n",
       "      <td>20.571429</td>\n",
       "    </tr>\n",
       "    <tr>\n",
       "      <th>4</th>\n",
       "      <td>50.0</td>\n",
       "      <td>14.609204</td>\n",
       "    </tr>\n",
       "  </tbody>\n",
       "</table>\n",
       "</div>"
      ],
      "text/plain": [
       "      x          y\n",
       "0  50.0  18.590125\n",
       "1  49.0  17.156262\n",
       "2  59.0  19.487383\n",
       "3  63.0  20.571429\n",
       "4  50.0  14.609204"
      ]
     },
     "execution_count": 11,
     "metadata": {},
     "output_type": "execute_result"
    }
   ],
   "source": [
    "df_bsc = pd.read_excel('../Data/BSc22A_Student_Data.xlsx')\n",
    "df_bsc['BMI'] = df_bsc.Weight_Kg/(df_bsc.Height_cm/100)**2\n",
    "df = df_bsc[['Weight_Kg', 'BMI']].dropna()\n",
    "df = df[df.BMI < 30]\n",
    "df.columns = ['x', 'y']\n",
    "df.head()"
   ]
  },
  {
   "cell_type": "markdown",
   "id": "5faa05473ec23c19",
   "metadata": {},
   "source": [
    "Step 1: For each (Wt,BMI) calculate $Wt^2$ and $Wt.BMI$:  \n",
    "  "
   ]
  },
  {
   "cell_type": "code",
   "execution_count": 12,
   "id": "dc071cda910c4065",
   "metadata": {
    "ExecuteTime": {
     "end_time": "2024-02-20T17:06:56.836127700Z",
     "start_time": "2024-02-20T17:06:56.821904Z"
    },
    "collapsed": false,
    "jupyter": {
     "outputs_hidden": false
    }
   },
   "outputs": [
    {
     "name": "stdout",
     "output_type": "stream",
     "text": [
      "      x          y      x2           xy\n",
      "0  50.0  18.590125  2500.0   929.506246\n",
      "1  49.0  17.156262  2401.0   840.656840\n",
      "2  59.0  19.487383  3481.0  1149.755582\n",
      "3  63.0  20.571429  3969.0  1296.000000\n",
      "4  50.0  14.609204  2500.0   730.460190\n"
     ]
    }
   ],
   "source": [
    "df['x2'] = df.x ** 2\n",
    "df['xy'] = df.x *  df.y\n",
    "print(df.head())"
   ]
  },
  {
   "cell_type": "markdown",
   "id": "fd2ad8f2090db2fc",
   "metadata": {},
   "source": [
    "Step 2. Find Σx, Σy, Σ$x^2$ and Σx.y   \n",
    "ΣWt, ΣBMI, ΣWt2 and ΣWtBMI  \n",
    " "
   ]
  },
  {
   "cell_type": "code",
   "execution_count": 13,
   "id": "f60c7b7ff1535b02",
   "metadata": {
    "ExecuteTime": {
     "end_time": "2024-02-20T17:07:01.710001200Z",
     "start_time": "2024-02-20T17:07:01.688077700Z"
    },
    "collapsed": false,
    "jupyter": {
     "outputs_hidden": false
    }
   },
   "outputs": [
    {
     "name": "stdout",
     "output_type": "stream",
     "text": [
      "1978.4 661.5848309892423 121935.76000000001 40272.494862021624 33\n"
     ]
    }
   ],
   "source": [
    "sum_x = df.x.sum()\n",
    "sum_y = df.y.sum()\n",
    "sum_x2 = df.x2.sum()\n",
    "sum_xy = df.xy.sum()\n",
    "N = len(df)\n",
    "print(sum_x, sum_y, sum_x2, sum_xy, N)"
   ]
  },
  {
   "cell_type": "markdown",
   "id": "9d530394e3fe45a1",
   "metadata": {},
   "source": [
    "Step 3: Calculate Slope m:   \n",
    "$$m = \\frac{N Σ(xy) − Σx Σy}{N Σ(x^2) − (Σx)^2}$$"
   ]
  },
  {
   "cell_type": "code",
   "execution_count": 14,
   "id": "2ce0ed6d0ed3e186",
   "metadata": {
    "ExecuteTime": {
     "end_time": "2024-02-20T17:07:05.235802800Z",
     "start_time": "2024-02-20T17:07:05.229329900Z"
    },
    "collapsed": false,
    "jupyter": {
     "outputs_hidden": false
    }
   },
   "outputs": [
    {
     "data": {
      "text/plain": [
       "0.18315505064947074"
      ]
     },
     "execution_count": 14,
     "metadata": {},
     "output_type": "execute_result"
    }
   ],
   "source": [
    "m = (N*sum_xy - sum_x*sum_y)/(N*sum_x2 - sum_x**2)\n",
    "m"
   ]
  },
  {
   "cell_type": "markdown",
   "id": "1502767ccb11e5b2",
   "metadata": {},
   "source": [
    "4. Calculate Intercept b:  \n",
    "$$b = \\frac{\\sum{y} - m.\\sum{x}}{N}$$   "
   ]
  },
  {
   "cell_type": "code",
   "execution_count": 15,
   "id": "254c80149d8ab6dd",
   "metadata": {
    "ExecuteTime": {
     "end_time": "2024-02-20T17:07:09.133218700Z",
     "start_time": "2024-02-20T17:07:09.124507400Z"
    },
    "collapsed": false,
    "jupyter": {
     "outputs_hidden": false
    }
   },
   "outputs": [
    {
     "data": {
      "text/plain": [
       "9.06760238740392"
      ]
     },
     "execution_count": 15,
     "metadata": {},
     "output_type": "execute_result"
    }
   ],
   "source": [
    "b = (sum_y - m*sum_x)/N\n",
    "b"
   ]
  },
  {
   "cell_type": "markdown",
   "id": "d11827cf11fdf4ab",
   "metadata": {},
   "source": [
    "5. y = m.x + b"
   ]
  },
  {
   "cell_type": "code",
   "execution_count": 16,
   "id": "581039584691902",
   "metadata": {
    "ExecuteTime": {
     "end_time": "2024-02-20T17:07:12.058541800Z",
     "start_time": "2024-02-20T17:07:12.040019600Z"
    },
    "collapsed": false,
    "jupyter": {
     "outputs_hidden": false
    }
   },
   "outputs": [
    {
     "data": {
      "text/html": [
       "<div>\n",
       "<style scoped>\n",
       "    .dataframe tbody tr th:only-of-type {\n",
       "        vertical-align: middle;\n",
       "    }\n",
       "\n",
       "    .dataframe tbody tr th {\n",
       "        vertical-align: top;\n",
       "    }\n",
       "\n",
       "    .dataframe thead th {\n",
       "        text-align: right;\n",
       "    }\n",
       "</style>\n",
       "<table border=\"1\" class=\"dataframe\">\n",
       "  <thead>\n",
       "    <tr style=\"text-align: right;\">\n",
       "      <th></th>\n",
       "      <th>x</th>\n",
       "      <th>y</th>\n",
       "      <th>y_pred</th>\n",
       "      <th>err</th>\n",
       "    </tr>\n",
       "  </thead>\n",
       "  <tbody>\n",
       "    <tr>\n",
       "      <th>0</th>\n",
       "      <td>50.0</td>\n",
       "      <td>18.590125</td>\n",
       "      <td>18.225355</td>\n",
       "      <td>-0.364770</td>\n",
       "    </tr>\n",
       "    <tr>\n",
       "      <th>1</th>\n",
       "      <td>49.0</td>\n",
       "      <td>17.156262</td>\n",
       "      <td>18.042200</td>\n",
       "      <td>0.885938</td>\n",
       "    </tr>\n",
       "    <tr>\n",
       "      <th>2</th>\n",
       "      <td>59.0</td>\n",
       "      <td>19.487383</td>\n",
       "      <td>19.873750</td>\n",
       "      <td>0.386368</td>\n",
       "    </tr>\n",
       "    <tr>\n",
       "      <th>3</th>\n",
       "      <td>63.0</td>\n",
       "      <td>20.571429</td>\n",
       "      <td>20.606371</td>\n",
       "      <td>0.034942</td>\n",
       "    </tr>\n",
       "    <tr>\n",
       "      <th>4</th>\n",
       "      <td>50.0</td>\n",
       "      <td>14.609204</td>\n",
       "      <td>18.225355</td>\n",
       "      <td>3.616151</td>\n",
       "    </tr>\n",
       "  </tbody>\n",
       "</table>\n",
       "</div>"
      ],
      "text/plain": [
       "      x          y     y_pred       err\n",
       "0  50.0  18.590125  18.225355 -0.364770\n",
       "1  49.0  17.156262  18.042200  0.885938\n",
       "2  59.0  19.487383  19.873750  0.386368\n",
       "3  63.0  20.571429  20.606371  0.034942\n",
       "4  50.0  14.609204  18.225355  3.616151"
      ]
     },
     "execution_count": 16,
     "metadata": {},
     "output_type": "execute_result"
    }
   ],
   "source": [
    "df_ = df[['x', 'y']]\n",
    "df_['y_pred'] = df_.x*m + b\n",
    "df_['err'] = df_.y_pred - df_.y\n",
    "df_.head()"
   ]
  },
  {
   "cell_type": "code",
   "execution_count": 17,
   "id": "fff102e808273a51",
   "metadata": {
    "ExecuteTime": {
     "end_time": "2024-02-20T17:25:14.782573900Z",
     "start_time": "2024-02-20T17:25:14.570051700Z"
    },
    "collapsed": false,
    "jupyter": {
     "outputs_hidden": false
    }
   },
   "outputs": [
    {
     "data": {
      "image/png": "[encoded data removed]",
      "text/plain": [
       "<Figure size 640x480 with 1 Axes>"
      ]
     },
     "metadata": {},
     "output_type": "display_data"
    }
   ],
   "source": [
    "plt.plot(df_.x, df_.y_pred);\n",
    "plt.scatter(df_.x, df_.y, c='red', alpha=0.5)\n",
    "plt.ylabel('BMI')\n",
    "plt.xlabel('Weight');"
   ]
  },
  {
   "cell_type": "code",
   "execution_count": 18,
   "id": "a1ef009f643253e1",
   "metadata": {
    "ExecuteTime": {
     "end_time": "2024-02-20T17:10:18.745929400Z",
     "start_time": "2024-02-20T17:10:18.713210500Z"
    },
    "collapsed": false,
    "jupyter": {
     "outputs_hidden": false
    }
   },
   "outputs": [
    {
     "data": {
      "text/plain": [
       "20.056905426372165"
      ]
     },
     "execution_count": 18,
     "metadata": {},
     "output_type": "execute_result"
    }
   ],
   "source": [
    "wt = 60\n",
    "bmi = m * wt + b\n",
    "bmi"
   ]
  },
  {
   "cell_type": "markdown",
   "id": "b79e1259c7fcbb4f",
   "metadata": {},
   "source": [
    "#### Using sklearn linear regression   \n",
    "Using weight alone to predict BMI will give a poorer accuracy   \n",
    "because height also is a factor in determining BMI.    "
   ]
  },
  {
   "cell_type": "code",
   "execution_count": 19,
   "id": "3b69d2d4e371e2cd",
   "metadata": {
    "ExecuteTime": {
     "end_time": "2024-02-20T17:15:20.099076500Z",
     "start_time": "2024-02-20T17:15:19.845953800Z"
    },
    "collapsed": false,
    "jupyter": {
     "outputs_hidden": false
    }
   },
   "outputs": [],
   "source": [
    "from sklearn.linear_model import LinearRegression\n",
    "regressor = LinearRegression()"
   ]
  },
  {
   "cell_type": "code",
   "execution_count": 20,
   "id": "3c07d7b514aa12a2",
   "metadata": {
    "ExecuteTime": {
     "end_time": "2024-02-20T17:18:29.468937200Z",
     "start_time": "2024-02-20T17:18:29.435994700Z"
    },
    "collapsed": false,
    "jupyter": {
     "outputs_hidden": false
    }
   },
   "outputs": [],
   "source": [
    "array = df_.values\n",
    "X_train = array[:,0].reshape(-1,1)\n",
    "y_train = array[:,1]"
   ]
  },
  {
   "cell_type": "code",
   "execution_count": 21,
   "id": "33d0beaba09289a8",
   "metadata": {
    "ExecuteTime": {
     "end_time": "2024-02-20T17:23:31.013596400Z",
     "start_time": "2024-02-20T17:23:30.978838500Z"
    },
    "collapsed": false,
    "jupyter": {
     "outputs_hidden": false
    }
   },
   "outputs": [],
   "source": [
    "bmi_model = regressor.fit(X_train, y_train)\n"
   ]
  },
  {
   "cell_type": "code",
   "execution_count": 22,
   "id": "5017c22000ef52f2",
   "metadata": {
    "ExecuteTime": {
     "end_time": "2024-02-20T17:23:35.215665700Z",
     "start_time": "2024-02-20T17:23:35.209016400Z"
    },
    "collapsed": false,
    "jupyter": {
     "outputs_hidden": false
    }
   },
   "outputs": [
    {
     "name": "stdout",
     "output_type": "stream",
     "text": [
      "Score = 0.6492138904872984\n"
     ]
    }
   ],
   "source": [
    "Score = bmi_model.score(X_train, y_train)\n",
    "print(f\"{Score = }\")"
   ]
  },
  {
   "cell_type": "code",
   "execution_count": 23,
   "id": "71f08ec2-0031-4978-8b33-0832d73ed04d",
   "metadata": {
    "tags": []
   },
   "outputs": [
    {
     "name": "stdout",
     "output_type": "stream",
     "text": [
      "9.067602387403932\n",
      "[0.18315505]\n"
     ]
    }
   ],
   "source": [
    "print(bmi_model.intercept_)\n",
    "print(bmi_model.coef_)"
   ]
  },
  {
   "cell_type": "markdown",
   "id": "97cebed8-b76e-4eb2-bbe8-6763b36baab1",
   "metadata": {},
   "source": [
    "#### Simple Linear Regression or OLS Regression   "
   ]
  },
  {
   "cell_type": "markdown",
   "id": "eda99485-03a2-4a7c-b9ea-20b12bd4abda",
   "metadata": {},
   "source": [
    "$\\hat{Y} = f(X) + e$   \n",
    "y = β0 + β1x1 \n",
    "\n",
    "The best prediction of Y in the context of mean squared error, when the value of X is given,   \n",
    "would be the mean of f (X) of the variable Y given the covariable X.  \n",
    "In this case Y is a function of X plus the residual term e.  "
   ]
  },
  {
   "cell_type": "markdown",
   "id": "5b5793f8-228b-4386-813f-088cf1f0fdc1",
   "metadata": {},
   "source": [
    "#### Multiple Linear Regression   \n",
    "\n",
    "y = β0 + β1x1 + β2x2 +···+ βkxk + e(β1,...,βk),   \n",
    "where e(β1,...,βk) denotes the error of this identification.  "
   ]
  }
 ],
 "metadata": {
  "kernelspec": {
   "display_name": "Python 3 (ipykernel)",
   "language": "python",
   "name": "python3"
  },
  "language_info": {
   "codemirror_mode": {
    "name": "ipython",
    "version": 3
   },
   "file_extension": ".py",
   "mimetype": "text/x-python",
   "name": "python",
   "nbconvert_exporter": "python",
   "pygments_lexer": "ipython3",
   "version": "3.11.5"
  }
 },
 "nbformat": 4,
 "nbformat_minor": 5
}
