{
 "cells": [
  {
   "cell_type": "code",
   "execution_count": 18,
   "id": "initial_id",
   "metadata": {
    "collapsed": true,
    "ExecuteTime": {
     "end_time": "2024-02-02T00:41:25.339758100Z",
     "start_time": "2024-02-02T00:41:25.317604100Z"
    }
   },
   "outputs": [],
   "source": [
    "import random \n",
    "students = ['Adithi', 'Adithiyaa', 'Aditya', 'Ajay', 'Akshay', 'Alaric', 'Apoorva', \n",
    "            'Chayanika', 'Dharshan', 'Denis', 'Divya', 'Zeba ', 'Janak', 'Khushi', 'Kishor', \n",
    "            'Meghan', 'Mohammed ', 'Mourya', 'Musharrat', 'Nandika', 'Phalguni', 'Prabhas', \n",
    "            'Pranav', 'Prasanna', 'Preetish', 'Priyanshu', 'Puneeth', 'Ramya', 'Sahil', \n",
    "            'Shreya', 'Sohail', 'Syeda', 'Vidith', 'Yashwant']\n",
    "random.shuffle(students)"
   ]
  },
  {
   "cell_type": "code",
   "execution_count": 27,
   "outputs": [
    {
     "name": "stdout",
     "output_type": "stream",
     "text": [
      "Prasanna\n"
     ]
    }
   ],
   "source": [
    "print(students.pop())"
   ],
   "metadata": {
    "collapsed": false,
    "ExecuteTime": {
     "end_time": "2024-02-02T00:41:46.017754900Z",
     "start_time": "2024-02-02T00:41:46.012071400Z"
    }
   },
   "id": "587f81d41914a4c7"
  }
 ],
 "metadata": {
  "kernelspec": {
   "display_name": "Python 3",
   "language": "python",
   "name": "python3"
  },
  "language_info": {
   "codemirror_mode": {
    "name": "ipython",
    "version": 2
   },
   "file_extension": ".py",
   "mimetype": "text/x-python",
   "name": "python",
   "nbconvert_exporter": "python",
   "pygments_lexer": "ipython2",
   "version": "2.7.6"
  }
 },
 "nbformat": 4,
 "nbformat_minor": 5
}
