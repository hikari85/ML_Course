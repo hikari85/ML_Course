{
 "cells": [
  {
   "cell_type": "markdown",
   "source": [
    "#### Sample   \n",
    "A sample is a single row of data, an instance, an observation, an input vector, or a feature vector.   \n",
    "It contains inputs into the algorithm and an output that is used to compare to the prediction and calculate an error.      \n",
    "A training dataset has many samples.  \n",
    "\n",
    "#### Batch   \n",
    "The batch size is a hyperparameter that defines the number of samples to work through before updating the internal model parameters.  \n",
    "A for-loop iterates over one or more samples and makes predictions. At the end of the batch, the predictions are compared to the expected output variables and an error is calculated. From this error, the update algorithm is used to improve the model, e.g. move down along the error gradient.   \n",
    "A training dataset can be divided into one or more batches.   \n",
    "When all training samples are used to create one batch, the learning algorithm is called batch gradient descent.  \n",
    "When the batch is the size of one sample, the learning algorithm is called stochastic gradient descent.  \n",
    "When the batch size is more than one sample and less than the size of the training dataset, the learning algorithm is called mini-batch gradient descent.   \n",
    "\n",
    "Batch Gradient Descent. Batch Size = Size of Training Set  \n",
    "Stochastic Gradient Descent. Batch Size = 1   \n",
    "Mini-Batch Gradient Descent. 1 < Batch Size < Size of Training Set   \n",
    "In mini-batch gradient descent, popular batch sizes include 32, 64, and 128 samples.  \n",
    "\n",
    "#### Epoch   \n",
    "The number of epochs is a hyperparameter that defines the number times that the learning algorithm will work through the entire training dataset.  \n",
    "One epoch means that each sample in the training dataset has had an opportunity to update the internal model parameters. An epoch is comprised of one or more batches. An epoch that has one batch is called the batch gradient descent learning algorithm   \n",
    "You can think of a for-loop over the number of epochs where each loop proceeds over the training dataset. Within this for-loop is another nested for-loop that iterates over each batch of samples, where one batch has the specified “batch size” number of samples.   \n",
    "The number of epochs is traditionally large, often hundreds or thousands, allowing the learning algorithm to run until the error from the model has been sufficiently minimized.  \n",
    "It is common to create line plots that show epochs along the x-axis as time and the error or skill of the model on the y-axis. These plots are sometimes called learning curves. These plots can help to diagnose whether the model has over learned, under learned, or is suitably fit to the training dataset.\n",
    "\n",
    "#### Difference Between Batch and Epoch   \n",
    "The batch size is a number of samples processed before the model is updated.   \n",
    "The number of epochs is the number of complete passes through the training dataset.   \n",
    "The size of a batch must be more than or equal to one and less than or equal to the number of samples in the training dataset.   \n",
    "The number of epochs can be set to an integer value between one and infinity. You can run the algorithm for as long as you like and even stop it using other criteria besides a fixed number of epochs, such as a change (or lack of change) in model error over time.   \n",
    "They are both integer values and they are both hyperparameters for the learning algorithm, e.g. parameters for the learning process, not internal model parameters found by the learning process.   \n",
    "You must specify the batch size and number of epochs for a learning algorithm.   \n",
    "\n",
    "There are no magic rules for how to configure these parameters. You must try different values and see what works best for your problem.   \n",
    "\n",
    "##### Example   \n",
    "A dataset has 200 samples. You choose a batch size of 5 and 1,000 epochs.   \n",
    "<u>Batch size of 5</u>. The dataset will be divided into 40 batches, each with five samples. The model weights will be updated after each batch of five samples.   \n",
    "One epoch will involve 40 batches or 40 updates to the model.   \n",
    "<u>1,000 epochs</u>. The model will be exposed to or pass through the whole dataset 1,000 times. That is a total of 40,000 batches during the entire training process.   "
   ],
   "metadata": {
    "collapsed": false
   },
   "id": "2198b9de98e2d468"
  }
 ],
 "metadata": {
  "kernelspec": {
   "display_name": "Python 3",
   "language": "python",
   "name": "python3"
  },
  "language_info": {
   "codemirror_mode": {
    "name": "ipython",
    "version": 2
   },
   "file_extension": ".py",
   "mimetype": "text/x-python",
   "name": "python",
   "nbconvert_exporter": "python",
   "pygments_lexer": "ipython2",
   "version": "2.7.6"
  }
 },
 "nbformat": 4,
 "nbformat_minor": 5
}
