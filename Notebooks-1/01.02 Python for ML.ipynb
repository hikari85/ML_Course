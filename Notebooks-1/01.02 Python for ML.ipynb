{
 "cells": [
  {
   "cell_type": "markdown",
   "id": "c86ea0e453dee5f3",
   "metadata": {},
   "source": [
    "#### Python for Machine Learning"
   ]
  },
  {
   "cell_type": "code",
   "execution_count": 3,
   "id": "c2af97399d33632e",
   "metadata": {
    "ExecuteTime": {
     "end_time": "2024-01-13T00:37:53.533367100Z",
     "start_time": "2024-01-13T00:37:52.991219400Z"
    },
    "collapsed": false,
    "jupyter": {
     "outputs_hidden": false
    },
    "tags": []
   },
   "outputs": [],
   "source": [
    "import pandas as pd\n",
    "import warnings\n",
    "warnings.filterwarnings('ignore')"
   ]
  },
  {
   "cell_type": "code",
   "execution_count": 2,
   "id": "initial_id",
   "metadata": {
    "ExecuteTime": {
     "end_time": "2024-01-13T00:40:52.271245400Z",
     "start_time": "2024-01-13T00:40:52.210781900Z"
    },
    "tags": []
   },
   "outputs": [
    {
     "name": "stdout",
     "output_type": "stream",
     "text": [
      "\n",
      "rows: 150; cols: 5\n",
      "\n",
      "species\n",
      "Iris-setosa        50\n",
      "Iris-versicolor    50\n",
      "Iris-virginica     50\n",
      "Name: count, dtype: int64\n",
      "\n",
      "Sample rows:\n"
     ]
    },
    {
     "data": {
      "text/html": [
       "<div>\n",
       "<style scoped>\n",
       "    .dataframe tbody tr th:only-of-type {\n",
       "        vertical-align: middle;\n",
       "    }\n",
       "\n",
       "    .dataframe tbody tr th {\n",
       "        vertical-align: top;\n",
       "    }\n",
       "\n",
       "    .dataframe thead th {\n",
       "        text-align: right;\n",
       "    }\n",
       "</style>\n",
       "<table border=\"1\" class=\"dataframe\">\n",
       "  <thead>\n",
       "    <tr style=\"text-align: right;\">\n",
       "      <th></th>\n",
       "      <th>sepal_length</th>\n",
       "      <th>sepal_width</th>\n",
       "      <th>petal_length</th>\n",
       "      <th>petal_width</th>\n",
       "      <th>species</th>\n",
       "    </tr>\n",
       "  </thead>\n",
       "  <tbody>\n",
       "    <tr>\n",
       "      <th>0</th>\n",
       "      <td>5.1</td>\n",
       "      <td>3.5</td>\n",
       "      <td>1.4</td>\n",
       "      <td>0.2</td>\n",
       "      <td>Iris-setosa</td>\n",
       "    </tr>\n",
       "    <tr>\n",
       "      <th>1</th>\n",
       "      <td>4.9</td>\n",
       "      <td>3.0</td>\n",
       "      <td>1.4</td>\n",
       "      <td>0.2</td>\n",
       "      <td>Iris-setosa</td>\n",
       "    </tr>\n",
       "    <tr>\n",
       "      <th>50</th>\n",
       "      <td>7.0</td>\n",
       "      <td>3.2</td>\n",
       "      <td>4.7</td>\n",
       "      <td>1.4</td>\n",
       "      <td>Iris-versicolor</td>\n",
       "    </tr>\n",
       "    <tr>\n",
       "      <th>51</th>\n",
       "      <td>6.4</td>\n",
       "      <td>3.2</td>\n",
       "      <td>4.5</td>\n",
       "      <td>1.5</td>\n",
       "      <td>Iris-versicolor</td>\n",
       "    </tr>\n",
       "    <tr>\n",
       "      <th>148</th>\n",
       "      <td>6.2</td>\n",
       "      <td>3.4</td>\n",
       "      <td>5.4</td>\n",
       "      <td>2.3</td>\n",
       "      <td>Iris-virginica</td>\n",
       "    </tr>\n",
       "    <tr>\n",
       "      <th>149</th>\n",
       "      <td>5.9</td>\n",
       "      <td>3.0</td>\n",
       "      <td>5.1</td>\n",
       "      <td>1.8</td>\n",
       "      <td>Iris-virginica</td>\n",
       "    </tr>\n",
       "  </tbody>\n",
       "</table>\n",
       "</div>"
      ],
      "text/plain": [
       "     sepal_length  sepal_width  petal_length  petal_width          species\n",
       "0             5.1          3.5           1.4          0.2      Iris-setosa\n",
       "1             4.9          3.0           1.4          0.2      Iris-setosa\n",
       "50            7.0          3.2           4.7          1.4  Iris-versicolor\n",
       "51            6.4          3.2           4.5          1.5  Iris-versicolor\n",
       "148           6.2          3.4           5.4          2.3   Iris-virginica\n",
       "149           5.9          3.0           5.1          1.8   Iris-virginica"
      ]
     },
     "execution_count": 2,
     "metadata": {},
     "output_type": "execute_result"
    }
   ],
   "source": [
    "df = pd.read_csv('../Data/iris_data.csv') \n",
    "print(f\"\\nrows: {df.shape[0]}; cols: {df.shape[1]}\\n\")\n",
    "print(df.species.value_counts())\n",
    "df = df.round(2)\n",
    "df = df[:2]._append(df[50:52])._append(df[-2:])\n",
    "print(\"\\nSample rows:\")\n",
    "df"
   ]
  },
  {
   "cell_type": "code",
   "execution_count": 7,
   "id": "30bd632a95b895b7",
   "metadata": {
    "ExecuteTime": {
     "end_time": "2024-01-13T00:43:30.656276100Z",
     "start_time": "2024-01-13T00:43:30.625214400Z"
    },
    "collapsed": false,
    "jupyter": {
     "outputs_hidden": false
    },
    "tags": []
   },
   "outputs": [
    {
     "name": "stdout",
     "output_type": "stream",
     "text": [
      "Independent Variables    Dependent\n",
      " Feature Set X1 to X4       Target\n"
     ]
    },
    {
     "data": {
      "text/html": [
       "<div>\n",
       "<style scoped>\n",
       "    .dataframe tbody tr th:only-of-type {\n",
       "        vertical-align: middle;\n",
       "    }\n",
       "\n",
       "    .dataframe tbody tr th {\n",
       "        vertical-align: top;\n",
       "    }\n",
       "\n",
       "    .dataframe thead th {\n",
       "        text-align: right;\n",
       "    }\n",
       "</style>\n",
       "<table border=\"1\" class=\"dataframe\">\n",
       "  <thead>\n",
       "    <tr style=\"text-align: right;\">\n",
       "      <th></th>\n",
       "      <th>X1</th>\n",
       "      <th>X2</th>\n",
       "      <th>X3</th>\n",
       "      <th>X4</th>\n",
       "      <th>Y</th>\n",
       "    </tr>\n",
       "  </thead>\n",
       "  <tbody>\n",
       "    <tr>\n",
       "      <th>0</th>\n",
       "      <td>5.1</td>\n",
       "      <td>3.5</td>\n",
       "      <td>1.4</td>\n",
       "      <td>0.2</td>\n",
       "      <td>Iris-setosa</td>\n",
       "    </tr>\n",
       "    <tr>\n",
       "      <th>1</th>\n",
       "      <td>4.9</td>\n",
       "      <td>3.0</td>\n",
       "      <td>1.4</td>\n",
       "      <td>0.2</td>\n",
       "      <td>Iris-setosa</td>\n",
       "    </tr>\n",
       "    <tr>\n",
       "      <th>50</th>\n",
       "      <td>7.0</td>\n",
       "      <td>3.2</td>\n",
       "      <td>4.7</td>\n",
       "      <td>1.4</td>\n",
       "      <td>Iris-versicolor</td>\n",
       "    </tr>\n",
       "    <tr>\n",
       "      <th>51</th>\n",
       "      <td>6.4</td>\n",
       "      <td>3.2</td>\n",
       "      <td>4.5</td>\n",
       "      <td>1.5</td>\n",
       "      <td>Iris-versicolor</td>\n",
       "    </tr>\n",
       "    <tr>\n",
       "      <th>148</th>\n",
       "      <td>6.2</td>\n",
       "      <td>3.4</td>\n",
       "      <td>5.4</td>\n",
       "      <td>2.3</td>\n",
       "      <td>Iris-virginica</td>\n",
       "    </tr>\n",
       "    <tr>\n",
       "      <th>149</th>\n",
       "      <td>5.9</td>\n",
       "      <td>3.0</td>\n",
       "      <td>5.1</td>\n",
       "      <td>1.8</td>\n",
       "      <td>Iris-virginica</td>\n",
       "    </tr>\n",
       "  </tbody>\n",
       "</table>\n",
       "</div>"
      ],
      "text/plain": [
       "      X1   X2   X3   X4                Y\n",
       "0    5.1  3.5  1.4  0.2      Iris-setosa\n",
       "1    4.9  3.0  1.4  0.2      Iris-setosa\n",
       "50   7.0  3.2  4.7  1.4  Iris-versicolor\n",
       "51   6.4  3.2  4.5  1.5  Iris-versicolor\n",
       "148  6.2  3.4  5.4  2.3   Iris-virginica\n",
       "149  5.9  3.0  5.1  1.8   Iris-virginica"
      ]
     },
     "execution_count": 7,
     "metadata": {},
     "output_type": "execute_result"
    }
   ],
   "source": [
    "def highlight_cols(s):\n",
    "    return f'background-color: {color}'\n",
    "\n",
    "df.columns = ['X1', 'X2', 'X3', 'X4', 'Y']\n",
    "\n",
    "color = 'lightgrey'\n",
    "print(\"Independent Variables    Dependent\")\n",
    "print(\" Feature Set X1 to X4       Target\")\n",
    "\n",
    "df.style.applymap(highlight_cols, subset=pd.IndexSlice[:, ['Y']])\n",
    "df"
   ]
  },
  {
   "cell_type": "markdown",
   "id": "53f97e9e11c8b65c",
   "metadata": {},
   "source": [
    "#### Data for Unsupervised Learning   \n",
    "Only features are input. No labels.  "
   ]
  },
  {
   "cell_type": "code",
   "execution_count": 9,
   "id": "92fa56249fbc056f",
   "metadata": {
    "ExecuteTime": {
     "end_time": "2024-01-13T00:45:57.932681300Z",
     "start_time": "2024-01-13T00:45:57.907745300Z"
    },
    "collapsed": false,
    "jupyter": {
     "outputs_hidden": false
    }
   },
   "outputs": [
    {
     "data": {
      "text/html": [
       "<div>\n",
       "<style scoped>\n",
       "    .dataframe tbody tr th:only-of-type {\n",
       "        vertical-align: middle;\n",
       "    }\n",
       "\n",
       "    .dataframe tbody tr th {\n",
       "        vertical-align: top;\n",
       "    }\n",
       "\n",
       "    .dataframe thead th {\n",
       "        text-align: right;\n",
       "    }\n",
       "</style>\n",
       "<table border=\"1\" class=\"dataframe\">\n",
       "  <thead>\n",
       "    <tr style=\"text-align: right;\">\n",
       "      <th></th>\n",
       "      <th>X1</th>\n",
       "      <th>X2</th>\n",
       "      <th>X3</th>\n",
       "      <th>X4</th>\n",
       "    </tr>\n",
       "  </thead>\n",
       "  <tbody>\n",
       "    <tr>\n",
       "      <th>0</th>\n",
       "      <td>5.1</td>\n",
       "      <td>3.5</td>\n",
       "      <td>1.4</td>\n",
       "      <td>0.2</td>\n",
       "    </tr>\n",
       "    <tr>\n",
       "      <th>1</th>\n",
       "      <td>4.9</td>\n",
       "      <td>3.0</td>\n",
       "      <td>1.4</td>\n",
       "      <td>0.2</td>\n",
       "    </tr>\n",
       "    <tr>\n",
       "      <th>50</th>\n",
       "      <td>7.0</td>\n",
       "      <td>3.2</td>\n",
       "      <td>4.7</td>\n",
       "      <td>1.4</td>\n",
       "    </tr>\n",
       "    <tr>\n",
       "      <th>51</th>\n",
       "      <td>6.4</td>\n",
       "      <td>3.2</td>\n",
       "      <td>4.5</td>\n",
       "      <td>1.5</td>\n",
       "    </tr>\n",
       "    <tr>\n",
       "      <th>148</th>\n",
       "      <td>6.2</td>\n",
       "      <td>3.4</td>\n",
       "      <td>5.4</td>\n",
       "      <td>2.3</td>\n",
       "    </tr>\n",
       "    <tr>\n",
       "      <th>149</th>\n",
       "      <td>5.9</td>\n",
       "      <td>3.0</td>\n",
       "      <td>5.1</td>\n",
       "      <td>1.8</td>\n",
       "    </tr>\n",
       "  </tbody>\n",
       "</table>\n",
       "</div>"
      ],
      "text/plain": [
       "      X1   X2   X3   X4\n",
       "0    5.1  3.5  1.4  0.2\n",
       "1    4.9  3.0  1.4  0.2\n",
       "50   7.0  3.2  4.7  1.4\n",
       "51   6.4  3.2  4.5  1.5\n",
       "148  6.2  3.4  5.4  2.3\n",
       "149  5.9  3.0  5.1  1.8"
      ]
     },
     "execution_count": 9,
     "metadata": {},
     "output_type": "execute_result"
    }
   ],
   "source": [
    "df[['X1', 'X2', 'X3', 'X4']]"
   ]
  },
  {
   "cell_type": "markdown",
   "id": "61b5974497908643",
   "metadata": {},
   "source": [
    "#### Python for Machine Learning   \n",
    "- It has a large number of libraries and tools for machine learning.  \n",
    "    Some of the most popular ones are scikit-learn, TensorFlow, Keras, and PyTorch.   \n",
    "    These libraries provide a range of pre-built models and algorithms that can be easily integrated into  machine learning projects.  \n",
    "- Being a general-purpose language, it can be used for a wide range of applications beyond just machine learning.     \n",
    "##### Data pre-processing and feature selection:  \n",
    "Before training a model, it's important to prepare the data.  \n",
    "This includes cleaning, transforming, and normalizing the data to remove inconsistencies   \n",
    "and ensure that it is suitable for the machine learning model.  \n",
    "**Feature selection** involves selecting the most relevant features of the data to use for training the model.  \n",
    "This is important because using all the features can lead to overfitting, which reduces the accuracy of the model.  \n",
    "##### Model selection, training, and evaluation:   \n",
    "The choice of machine learning model depends on the problem being solved and the type of data being used.  \n",
    "The selected model is trained on the data.  \n",
    "During training, the model learns the patterns and relationships in the data that it will use to make predictions on new data.   \n",
    "\n",
    "**Evaluation** process measures the performance of the trained model.  \n",
    "This is done by testing the model on a separate set of data, known as the test set, that was not used during training.   \n",
    "Common metrics used to evaluate the performance of a model include accuracy, precision, recall, and F1-score.  \n",
    "\n",
    "By understanding these fundamental principles of machine learning in Python,  \n",
    "you can start building your own machine learning models to solve real-world problems.  "
   ]
  },
  {
   "cell_type": "markdown",
   "id": "9d0661d47c003a59",
   "metadata": {},
   "source": [
    "##### Python Libraries for Machine Learning  \n",
    "One of the most widely used libraries for machine learning in Python is scikit-learn.  \n",
    "It provides a range of algorithms and tools for supervised and unsupervised learning,  \n",
    "as well as for data pre-processing, model selection, and evaluation.   \n",
    "Other popular Python libraries for machine learning include TensorFlow, PyTorch, Keras, and Theano.  \n",
    "Each of these libraries has its own strengths and weaknesses,   \n",
    "and the choice of library depends on the specific requirements of the machine learning project.   \n",
    "\n",
    "![](../Figures/ML_Tools.PNG)  \n",
    "\n",
    "##### NumPy  \n",
    "1. Fundamental library for numerical computing.  \n",
    "2. Provides efficient data structures for large multi-dimensional arrays and matrices.  \n",
    "3. Offers a wide range of mathematical functions and operations on arrays.  \n",
    "4. Enables seamless integration with other libraries and tools for data manipulation and analysis.   \n",
    "##### Scikit-Learn  \n",
    "1. Offers easy-to-use and efficient implementation of various classification, regression, clustering, and dimensionality reduction techniques.  \n",
    "2. Supports data preprocessing, feature selection, and model evaluation.  \n",
    "3. Integrates well with other Python libraries and frameworks.  \n",
    "##### Keras  \n",
    "1. Built on top of TensorFlow, it simplifies creating and training deep learning models.  \n",
    "2. Has user-friendly API, intuitive interface, and pre-built neural network components.  \n",
    "3. Supports both convolutional and recurrent neural networks.  \n",
    "4. Provides a flexible backend that can run on top of TensorFlow, Theano, or CNTK.  \n"
   ]
  },
  {
   "cell_type": "markdown",
   "id": "a56b70da0ae3a79",
   "metadata": {},
   "source": [
    "##### Machine Learning is Complex   \n",
    "Scientists from the University of Cambridge and Johns Hopkins University have   \n",
    "successfully mapped every neuron and connection within the brain of a fruit fly larva.  \n",
    "The process took 12 years.  \n",
    "The fruit fly's brain is remarkably complex, with 3,016 neurons and 548,000 connections between them.  \n",
    "The scientists identified 93 distinct neurons that varied in shape, function, and neurological connection.   \n",
    "Although fruit flies have vastly different brains from humans, they share a basic biology and genetic foundation,  \n",
    "making the discovery a good starting point for exploring the mysteries of the human brain.  - 13 Mar 2023."
   ]
  },
  {
   "cell_type": "markdown",
   "id": "f318269dd9eeb8d8",
   "metadata": {},
   "source": [
    "##### Real-World Applications of Machine Learning Tools in Python  \n",
    "Python's machine learning tools are widely used in many industries, including finance, healthcare, marketing, and manufacturing.   \n",
    "E.g.,  \n",
    "- in finance, ML is used for fraud detection, credit risk assessment, and algorithmic trading.  \n",
    "- In healthcare, ML is used for disease diagnosis and drug discovery.   \n",
    "- In marketing, ML is used for customer segmentation and personalized recommendations.   \n",
    "- In manufacturing, ML is used for quality control and predictive maintenance.   \n",
    "\n",
    "\"_Oticon has introduced its newest hearing aid device, Oticon More™, the first **hearing aid with an on-board deep neural network**. Oticon More was trained—using 12 million-plus real-life sounds—so that people wearing it can better understand speech and the sounds around them._\""
   ]
  },
  {
   "cell_type": "markdown",
   "id": "b1309609d3006072",
   "metadata": {},
   "source": [
    "#### Data Sets  \n",
    "##### Kaggle   \n",
    "- Many data sets used in published papers on the Internet are from Kaggle.  \n",
    "- Kaggle also has several  pretrained models. \n",
    "\n",
    "\"Pre-trained models are an important part of modern ML workflows, but it’s not always easy to find the best one for your needs. With the launch of Kaggle Models, we’re making thousands of models from Google Research, Deepmind, and other sources more accessible to the ML developer community alongside our ML resource hub of 200k+ public datasets. To showcase how to use Kaggle Models to improve ML projects, we’ll demo how to use an open source model from Kaggle and use it to submit to a competition.\"  \n",
    "\n",
    "<u>Popular Datasets</u>:   \n",
    "Iris, Penguin, Titanic, Tips, Housing Prices, Bicycle Usage, Wine Quality, Breast Cancer,        \n",
    "MNIST (Modified National Institute of Standards and Technology) database   \n",
    "\n",
    "<u>Public Data</u>:   \n",
    "Government, Research Institutes, NGOs, Organisations   "
   ]
  },
  {
   "cell_type": "markdown",
   "id": "7219ea206f9355af",
   "metadata": {},
   "source": [
    "#### [Akin's Laws of Spacecraft Design](https://spacecraft.ssl.umd.edu/akins_laws.html)   \n",
    "#1. Engineering is done with numbers. <u>Analysis without numbers is only an opinion</u>.   \n",
    "#9. Not having all the information you need is never a satisfactory excuse for not starting the analysis.   \n",
    "\n",
    "#21. (Larrabee's Law) Half of everything you hear in a classroom is crap. Education is figuring out which half is which.  \n",
    "#43. You really understand something the third time you see it (or the first time you teach it.)"
   ]
  },
  {
   "cell_type": "markdown",
   "id": "fdbedb58-547d-4208-8e92-7406416e75b4",
   "metadata": {},
   "source": [
    "#### Basics of Scikit-Learn API   \n",
    "\n",
    "1. Choose a class of model by importing the appropriate estimator class from Scikit-Learn.\n",
    "2. Choose model hyperparameters by instantiating this class with desired values.\n",
    "3. Arrange data into a features matrix and target vector following the discussion above.\n",
    "4. Fit the model to your data by calling the fit() method of the model instance.\n",
    "5. Apply the Model to new data:\n",
    "    - For supervised learning, often we predict labels for unknown data using the predict() method.\n",
    "    - For unsupervised learning, we often transform or infer properties of the data using the transform() or predict() method."
   ]
  }
 ],
 "metadata": {
  "kernelspec": {
   "display_name": "Python 3 (ipykernel)",
   "language": "python",
   "name": "python3"
  },
  "language_info": {
   "codemirror_mode": {
    "name": "ipython",
    "version": 3
   },
   "file_extension": ".py",
   "mimetype": "text/x-python",
   "name": "python",
   "nbconvert_exporter": "python",
   "pygments_lexer": "ipython3",
   "version": "3.11.5"
  }
 },
 "nbformat": 4,
 "nbformat_minor": 5
}
