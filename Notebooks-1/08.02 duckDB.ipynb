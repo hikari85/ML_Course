{
 "cells": [
  {
   "cell_type": "markdown",
   "id": "d6161e06-e0d2-4dfc-871d-ef4e12047b0c",
   "metadata": {},
   "source": [
    "#### duckDB in Jan 2024   \n",
    "\n",
    "SQL has established itself as the tool of choice for data transformations in this vast and varied ecosystem, evidenced by being the de-facto language of choice for many data processing platforms.\n",
    "\n",
    "DuckDB is an in-process SQL analytics engine that is rapidly gaining popularity, evidenced by its impressive stats:\n",
    "- 1.7 million downloads per month on PyPI\n",
    "- 13,800 stars on GitHub, reaching the same interest as Postgres in half the time  \n",
    "- In a comparable two-year timeframe, DuckDB experienced the same growth in popularity as Snowflake, as reported by DB-Engines trends.  \n",
    "\n",
    "It is open-source.  \n",
    "\n",
    "##### Key Benefits of DuckDB   \n",
    "1. Ease of Installation. pip installs DuckDB.     \n",
    "2. Low complexity: The absence of a server (DuckDB is just a binary) means there’s no need to deal with credentials, access control lists, firewall configurations, etc.   \n",
    "3. Universal Compatibility: With very few dependencies, DuckDB epitomizes portability — it can even run in your browser.  \n",
    "4. DataFrame Integration: DuckDB's Python library has the ability to query Pandas DataFrames. It acts as a glue between it and any systems it can't directly query, facilitating the transformation step in data processing.  \n",
    "5. Extensions: DuckDB has a flexible extension mechanism, which allows for greater flexibility, especially when reading data directly from JSON and Parquet or directly from S3.   \n",
    "6. Stability and Efficiency: DuckDB can handle workloads beyond memory limits (with some limitations). "
   ]
  },
  {
   "cell_type": "markdown",
   "id": "c7801893-3afe-4ee5-a101-683abba4ea8e",
   "metadata": {},
   "source": [
    "#### SQL syntactic sugar   \n",
    "DuckDB includes new SQL syntax enhancements, such as GROUP BY ALL, SELECT * EXCLUDE, ASOF JOINS, etc.  \n",
    "```\n",
    "-- Group by several fields in ANSI SQL\n",
    "SELECT country, city, region, postal_code, AVG(price) AS avg_price\n",
    "FROM customers\n",
    "-- Non-aggregated fields need to be repeated here\n",
    "GROUP BY country, city, region, postal_code;\n",
    "\n",
    "-- Group by all in DuckDB\n",
    "SELECT country, city, region, postal_code, AVG(price) AS avg_price\n",
    "-- Fields are only listed once; maintaining the code becomes easier\n",
    "GROUP BY ALL;\n",
    "-- Query all but the 'email' field in ANSI SQL\n",
    "SELECT country, city, region, postal_code, address, phone_number\n",
    "  /*, email*/\n",
    "FROM customers;\n",
    "\n",
    "-- Query all but the 'email' field in DuckDB\n",
    "SELECT * EXCLUDE (email) FROM customers;\n",
    "-- Consider joining timestamps that are 'approximately' equal.\n",
    "-- In ANSI SQL, you would generally have to bucket them\n",
    "-- In DuckDB, you can use an ASOF JOIN to achieve the same results,\n",
    "-- more simply and efficiently.\n",
    "SELECT events.id, events.ts, events.val, metadata.details\n",
    "FROM events\n",
    "ASOF JOIN metadata USING(id, ts);\n",
    "```"
   ]
  },
  {
   "cell_type": "markdown",
   "id": "4d0e684a-7da8-435f-b6f5-9838329b4574",
   "metadata": {},
   "source": [
    "Example Pandas integration - [Movie Recommendation System](https://www.kaggle.com/datasets/bandikarthik/movie-recommendation-system)"
   ]
  },
  {
   "cell_type": "raw",
   "id": "843ab323-9b98-4502-a557-6725f6cc8114",
   "metadata": {},
   "source": [
    "# Install dependencies\n",
    "%pip install --quiet duckdb\n",
    "%pip install --quiet jupysql\n",
    "%pip install --quiet duckdb-engine\n",
    "%pip install --quiet pandas\n",
    "%pip install --quiet matplotlib\n",
    "%pip install --quiet psycopg2-binary\n",
    "%pip install --quiet dash\n",
    "%pip install --quiet plotly"
   ]
  },
  {
   "cell_type": "code",
   "execution_count": null,
   "id": "4a91bdd0-c4a4-4858-841c-da2e51848be3",
   "metadata": {},
   "outputs": [],
   "source": [
    "import duckdb\n",
    "import pandas as pd\n",
    "\n",
    "# Load and configure jupysql\n",
    "%load_ext sql\n",
    "%config SqlMagic.autopandas = True\n",
    "%config SqlMagic.feedback = False\n",
    "%config SqlMagic.displaycon = False\n",
    "%config SqlMagic.named_parameters=True\n",
    "\n",
    "# Connect to a local DuckDB instance\n",
    "%sql duckdb:///"
   ]
  },
  {
   "cell_type": "code",
   "execution_count": null,
   "id": "fdc3dc29-f3b2-4b6f-a383-71db299858c5",
   "metadata": {},
   "outputs": [],
   "source": [
    "# Enable DuckDB to query remote files (i.e., S3)\n",
    "%%sql\n",
    "INSTALL httpfs;\n",
    "LOAD httpfs;\n",
    "\n",
    "# Configure S3 access keys\n",
    "SET s3_region = '...';\n",
    "SET s3_access_key_id = '...';\n",
    "SET s3_secret_access_key = '...';\n",
    "\n",
    "# Connect to a remote Postgres database\n",
    "ATTACH 'dbname=DATABASE user=USER host=HOST password=PASSWORD connect_timeout=10' AS postgres (TYPE postgres, READ_ONLY);"
   ]
  },
  {
   "cell_type": "code",
   "execution_count": null,
   "id": "70e7af67-f7dc-4713-aa3b-7f1d70d13c2e",
   "metadata": {},
   "outputs": [],
   "source": [
    "# Execute a query and store it in a dataframe\n",
    "%%sql\n",
    "df << SELECT \n",
    "    t1.movieId,\n",
    "    t1.title,\n",
    "    t1.genres,\n",
    "    t2.userId,\n",
    "    t2.rating,\n",
    "    t3.tag\n",
    "  # query a table in Postgres\n",
    "  FROM postgres.public.movies AS t1\n",
    "  # join with a table from DuckDB\n",
    "  INNER JOIN ratings AS t2 USING (movieId)\n",
    "  # join with a JSON dataset from S3\n",
    "  INNER JOIN 's3://S3-BUCKET/tags.json' AS t3 USING (userId, movieId)"
   ]
  },
  {
   "cell_type": "code",
   "execution_count": null,
   "id": "d4740c81-9f55-4518-9691-0131790f4a77",
   "metadata": {},
   "outputs": [],
   "source": [
    "# And finally, reference the dataframe from another query\n",
    "%%sql\n",
    "by_genres << SELECT genres, COUNT(*) AS cnt \n",
    "             FROM df\n",
    "             GROUP BY ALL\n",
    "             ORDER BY 2 DESC\n",
    "             LIMIT 5;"
   ]
  },
  {
   "cell_type": "code",
   "execution_count": null,
   "id": "aded1909-af8f-4129-b4e8-8e2e3982ca80",
   "metadata": {},
   "outputs": [],
   "source": [
    "# Or plot the transformed dataset\n",
    "import plotly.express as px\n",
    "fig = px.pie(by_genres,\n",
    "             values='cnt',\n",
    "             names='genres',\n",
    "             title='Top 5 movie genres')\n",
    "fig.show()"
   ]
  }
 ],
 "metadata": {
  "kernelspec": {
   "display_name": "Python 3 (ipykernel)",
   "language": "python",
   "name": "python3"
  },
  "language_info": {
   "codemirror_mode": {
    "name": "ipython",
    "version": 3
   },
   "file_extension": ".py",
   "mimetype": "text/x-python",
   "name": "python",
   "nbconvert_exporter": "python",
   "pygments_lexer": "ipython3",
   "version": "3.11.5"
  }
 },
 "nbformat": 4,
 "nbformat_minor": 5
}
