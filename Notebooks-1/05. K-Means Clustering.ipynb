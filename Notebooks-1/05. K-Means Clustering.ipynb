{
 "cells": [
  {
   "cell_type": "markdown",
   "id": "c2d7e893d18ebe27",
   "metadata": {},
   "source": [
    "#### K-Means Clustering   "
   ]
  },
  {
   "cell_type": "markdown",
   "id": "6850a831038d463c",
   "metadata": {},
   "source": [
    "CO5: Identify patterns in a provided dataset using k-means clustering with elbow method and dendrograms\t\t\t\t\t\t\t\t\t\t\t\t3 Hours\n",
    "Objective:  \n",
    "1. K-means clustering, \n",
    "2. elbow method and \n",
    "3. dendrograms\n"
   ]
  },
  {
   "cell_type": "markdown",
   "id": "8fb33642a79c4ea",
   "metadata": {},
   "source": []
  }
 ],
 "metadata": {
  "kernelspec": {
   "display_name": "Python 3 (ipykernel)",
   "language": "python",
   "name": "python3"
  },
  "language_info": {
   "codemirror_mode": {
    "name": "ipython",
    "version": 3
   },
   "file_extension": ".py",
   "mimetype": "text/x-python",
   "name": "python",
   "nbconvert_exporter": "python",
   "pygments_lexer": "ipython3",
   "version": "3.11.5"
  }
 },
 "nbformat": 4,
 "nbformat_minor": 5
}
