{
 "cells": [
  {
   "cell_type": "markdown",
   "source": [
    "#### Conditional, Marginal, and Joint Probabilities   \n",
    "![](../Figures/probability_types.PNG)    \n",
    "\n",
    "##### Joint probability:   \n",
    "It is the probability of two or more events occurring together.   \n",
    "Probability of events A and B occurring together.  \n",
    "Denoted as P(X=a and Y=b)   \n",
    "##### Marginal probability:  \n",
    "The probability of a specific value of one random variable (X), for all outcomes of another random variable (Y).   \n",
    "Probability of an event X=A irrespective of another random variable Y.    \n",
    "Denoted as P(X=a, for all outcomes of Y)    \n",
    "##### Conditional probability:   \n",
    "It is the probability of an event given another event.     \n",
    "Probability of event A given event B.  \n",
    "Denoted as P(X | Y), or P(X given Y)   "
   ],
   "metadata": {
    "collapsed": false
   },
   "id": "84c613eeb55a9f66"
  }
 ],
 "metadata": {
  "kernelspec": {
   "display_name": "Python 3",
   "language": "python",
   "name": "python3"
  },
  "language_info": {
   "codemirror_mode": {
    "name": "ipython",
    "version": 2
   },
   "file_extension": ".py",
   "mimetype": "text/x-python",
   "name": "python",
   "nbconvert_exporter": "python",
   "pygments_lexer": "ipython2",
   "version": "2.7.6"
  }
 },
 "nbformat": 4,
 "nbformat_minor": 5
}
