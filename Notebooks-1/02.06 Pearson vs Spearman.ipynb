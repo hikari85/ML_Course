{
 "cells": [
  {
   "cell_type": "markdown",
   "id": "9a6f69b0-3bdf-4460-a7e7-2438a94c143c",
   "metadata": {},
   "source": [
    "#### Spearman vs Pearson Correlation      \n",
    "##### Sample data   \n",
    "Ordinal categorical feature: t-shirt sizes S, M, L, XL    \n",
    "Continuous feature: weight or collar size.   \n",
    "Spearman produces ranks from encoding and the specific "
   ]
  },
  {
   "cell_type": "code",
   "execution_count": 1,
   "id": "92bc16b4-ff9d-42d8-9179-252ec64deeb9",
   "metadata": {
    "tags": []
   },
   "outputs": [],
   "source": [
    "import pandas as pd\n",
    "from io import StringIO\n"
   ]
  },
  {
   "cell_type": "code",
   "execution_count": 2,
   "id": "1a404d0f-70d2-4427-9296-fa9de29e6900",
   "metadata": {
    "tags": []
   },
   "outputs": [
    {
     "data": {
      "text/html": [
       "<div>\n",
       "<style scoped>\n",
       "    .dataframe tbody tr th:only-of-type {\n",
       "        vertical-align: middle;\n",
       "    }\n",
       "\n",
       "    .dataframe tbody tr th {\n",
       "        vertical-align: top;\n",
       "    }\n",
       "\n",
       "    .dataframe thead th {\n",
       "        text-align: right;\n",
       "    }\n",
       "</style>\n",
       "<table border=\"1\" class=\"dataframe\">\n",
       "  <thead>\n",
       "    <tr style=\"text-align: right;\">\n",
       "      <th></th>\n",
       "      <th>size</th>\n",
       "      <th>encode1</th>\n",
       "      <th>encode2</th>\n",
       "      <th>encode3</th>\n",
       "    </tr>\n",
       "  </thead>\n",
       "  <tbody>\n",
       "    <tr>\n",
       "      <th>0</th>\n",
       "      <td>S</td>\n",
       "      <td>1</td>\n",
       "      <td>1</td>\n",
       "      <td>1.0</td>\n",
       "    </tr>\n",
       "    <tr>\n",
       "      <th>1</th>\n",
       "      <td>M</td>\n",
       "      <td>2</td>\n",
       "      <td>2</td>\n",
       "      <td>1.5</td>\n",
       "    </tr>\n",
       "    <tr>\n",
       "      <th>2</th>\n",
       "      <td>L</td>\n",
       "      <td>3</td>\n",
       "      <td>4</td>\n",
       "      <td>2.5</td>\n",
       "    </tr>\n",
       "    <tr>\n",
       "      <th>3</th>\n",
       "      <td>XL</td>\n",
       "      <td>4</td>\n",
       "      <td>8</td>\n",
       "      <td>4.0</td>\n",
       "    </tr>\n",
       "  </tbody>\n",
       "</table>\n",
       "</div>"
      ],
      "text/plain": [
       "  size  encode1  encode2  encode3\n",
       "0    S        1        1      1.0\n",
       "1    M        2        2      1.5\n",
       "2    L        3        4      2.5\n",
       "3   XL        4        8      4.0"
      ]
     },
     "execution_count": 2,
     "metadata": {},
     "output_type": "execute_result"
    }
   ],
   "source": [
    "shirts = StringIO(\"\"\"size,encode1,encode2,encode3\n",
    "S,1,1,1\n",
    "M,2,2,1.5\n",
    "L,3,4,2.5\n",
    "XL,4,8,4\n",
    "\"\"\")\n",
    "\n",
    "df = pd.read_csv(shirts)\n",
    "df"
   ]
  },
  {
   "cell_type": "code",
   "execution_count": 3,
   "id": "d451d87b-de5f-423a-9ba3-2d60b18bfe39",
   "metadata": {
    "tags": []
   },
   "outputs": [
    {
     "data": {
      "text/html": [
       "<div>\n",
       "<style scoped>\n",
       "    .dataframe tbody tr th:only-of-type {\n",
       "        vertical-align: middle;\n",
       "    }\n",
       "\n",
       "    .dataframe tbody tr th {\n",
       "        vertical-align: top;\n",
       "    }\n",
       "\n",
       "    .dataframe thead th {\n",
       "        text-align: right;\n",
       "    }\n",
       "</style>\n",
       "<table border=\"1\" class=\"dataframe\">\n",
       "  <thead>\n",
       "    <tr style=\"text-align: right;\">\n",
       "      <th></th>\n",
       "      <th>encode1</th>\n",
       "      <th>encode2</th>\n",
       "      <th>encode3</th>\n",
       "    </tr>\n",
       "  </thead>\n",
       "  <tbody>\n",
       "    <tr>\n",
       "      <th>encode1</th>\n",
       "      <td>1.000000</td>\n",
       "      <td>0.959166</td>\n",
       "      <td>0.975900</td>\n",
       "    </tr>\n",
       "    <tr>\n",
       "      <th>encode2</th>\n",
       "      <td>0.959166</td>\n",
       "      <td>1.000000</td>\n",
       "      <td>0.997097</td>\n",
       "    </tr>\n",
       "    <tr>\n",
       "      <th>encode3</th>\n",
       "      <td>0.975900</td>\n",
       "      <td>0.997097</td>\n",
       "      <td>1.000000</td>\n",
       "    </tr>\n",
       "  </tbody>\n",
       "</table>\n",
       "</div>"
      ],
      "text/plain": [
       "          encode1   encode2   encode3\n",
       "encode1  1.000000  0.959166  0.975900\n",
       "encode2  0.959166  1.000000  0.997097\n",
       "encode3  0.975900  0.997097  1.000000"
      ]
     },
     "execution_count": 3,
     "metadata": {},
     "output_type": "execute_result"
    }
   ],
   "source": [
    "df[['encode1','encode2','encode3']].corr(method='pearson')"
   ]
  },
  {
   "cell_type": "code",
   "execution_count": 4,
   "id": "b09fd2c5-365f-4095-9de8-ddfbbd796c92",
   "metadata": {
    "tags": []
   },
   "outputs": [
    {
     "data": {
      "text/html": [
       "<div>\n",
       "<style scoped>\n",
       "    .dataframe tbody tr th:only-of-type {\n",
       "        vertical-align: middle;\n",
       "    }\n",
       "\n",
       "    .dataframe tbody tr th {\n",
       "        vertical-align: top;\n",
       "    }\n",
       "\n",
       "    .dataframe thead th {\n",
       "        text-align: right;\n",
       "    }\n",
       "</style>\n",
       "<table border=\"1\" class=\"dataframe\">\n",
       "  <thead>\n",
       "    <tr style=\"text-align: right;\">\n",
       "      <th></th>\n",
       "      <th>encode1</th>\n",
       "      <th>encode2</th>\n",
       "      <th>encode3</th>\n",
       "    </tr>\n",
       "  </thead>\n",
       "  <tbody>\n",
       "    <tr>\n",
       "      <th>encode1</th>\n",
       "      <td>1.0</td>\n",
       "      <td>1.0</td>\n",
       "      <td>1.0</td>\n",
       "    </tr>\n",
       "    <tr>\n",
       "      <th>encode2</th>\n",
       "      <td>1.0</td>\n",
       "      <td>1.0</td>\n",
       "      <td>1.0</td>\n",
       "    </tr>\n",
       "    <tr>\n",
       "      <th>encode3</th>\n",
       "      <td>1.0</td>\n",
       "      <td>1.0</td>\n",
       "      <td>1.0</td>\n",
       "    </tr>\n",
       "  </tbody>\n",
       "</table>\n",
       "</div>"
      ],
      "text/plain": [
       "         encode1  encode2  encode3\n",
       "encode1      1.0      1.0      1.0\n",
       "encode2      1.0      1.0      1.0\n",
       "encode3      1.0      1.0      1.0"
      ]
     },
     "execution_count": 4,
     "metadata": {},
     "output_type": "execute_result"
    }
   ],
   "source": [
    "df[['encode1','encode2','encode3']].corr(method='spearman')"
   ]
  },
  {
   "cell_type": "markdown",
   "id": "4f9dbfdf-5561-4431-a458-7af9f565035f",
   "metadata": {},
   "source": [
    "Spearman correlation is a better alternative to assess the **monotonicity** between ordinal and continuous features    \n",
    "##### A monotonic function   \n",
    "A function that is either always increasing or always decreasing.  \n",
    "E.g., any linear function y=mx+b that has positive slope (m).  \n",
    "The derivative of this is y' = m is positive so the function is always increasing and therefore monotonically increasing."
   ]
  },
  {
   "cell_type": "markdown",
   "id": "96ed6137-b203-4699-af30-b5870ecce9a2",
   "metadata": {},
   "source": [
    "#### Task   \n",
    "\n",
    "```\n",
    "for encode2 as collar size in [cm, inches]\n",
    "    for encode3 as shoulder size in [cm, inches]\n",
    "        for correlaion in [Pearson, Spearman]\n",
    "            find correlation         \n",
    "```"
   ]
  }
 ],
 "metadata": {
  "kernelspec": {
   "display_name": "Python 3 (ipykernel)",
   "language": "python",
   "name": "python3"
  },
  "language_info": {
   "codemirror_mode": {
    "name": "ipython",
    "version": 3
   },
   "file_extension": ".py",
   "mimetype": "text/x-python",
   "name": "python",
   "nbconvert_exporter": "python",
   "pygments_lexer": "ipython3",
   "version": "3.11.5"
  }
 },
 "nbformat": 4,
 "nbformat_minor": 5
}
