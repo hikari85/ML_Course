{
 "cells": [
  {
   "cell_type": "markdown",
   "id": "aea3540ff27d2ebf",
   "metadata": {},
   "source": [
    "#### Hello ANN   \n",
    "[ref](https://ai.gopubby.com/step-by-step-guide-to-building-an-artificial-neural-network-and-observing-how-overfitting-occurs-84961f96c7e8)  \n",
    "MNIST is one of the benchmark datasets in machine learning and computer vision,    \n",
    "comprising images of handwritten digits from 0 to 9.   \n",
    "\n",
    "MNIST consists of 60,000 training images and 10,000 test images     \n",
    "stored in grayscale and single-channel format with dimensions of 28 x 28 pixels."
   ]
  },
  {
   "cell_type": "code",
   "execution_count": 10,
   "id": "7716fd510c1a186",
   "metadata": {
    "ExecuteTime": {
     "end_time": "2024-04-07T14:17:37.181776500Z",
     "start_time": "2024-04-07T14:17:23.561990100Z"
    },
    "collapsed": false,
    "jupyter": {
     "outputs_hidden": false
    },
    "tags": []
   },
   "outputs": [],
   "source": [
    "import tensorflow as tf\n",
    "import pandas as pd\n",
    "import numpy as np\n",
    "import matplotlib.pyplot as plt\n",
    "from random import randint\n",
    "\n",
    "import warnings\n",
    "warnings.filterwarnings(\"ignore\")"
   ]
  },
  {
   "cell_type": "code",
   "execution_count": 4,
   "id": "1a16a3c3ae933baf",
   "metadata": {
    "ExecuteTime": {
     "end_time": "2024-03-19T03:27:25.616812500Z",
     "start_time": "2024-03-19T03:27:25.381632200Z"
    },
    "collapsed": false,
    "jupyter": {
     "outputs_hidden": false
    },
    "tags": []
   },
   "outputs": [
    {
     "name": "stdout",
     "output_type": "stream",
     "text": [
      "\n",
      "loaded MNIST sample data\n",
      "X_train: (60000, 28, 28), y_train: (60000,)\n",
      "X_test:  (10000, 28, 28), y_test:  (10000,)\n",
      "\n",
      "add channel number to training and testing data\n",
      "X_train: (60000, 28, 28, 1), y_train: (60000,)\n",
      "X_test:  (10000, 28, 28, 1), y_test:  (10000,)\n"
     ]
    }
   ],
   "source": [
    "from tensorflow.keras.datasets import mnist\n",
    "(X_train, y_train) , (X_test, y_test) = mnist.load_data()\n",
    "\n",
    "print(\"\\nloaded MNIST sample data\")\n",
    "print(f\"X_train: {X_train.shape}, y_train: {y_train.shape}\")\n",
    "print(f\"X_test:  {X_test.shape}, y_test:  {y_test.shape}\")\n",
    "\n",
    "# Preprocess the data - add channel counts\n",
    "X_train = X_train.reshape((60000, 28, 28, 1))\n",
    "X_test = X_test.reshape((10000, 28, 28, 1))\n",
    "\n",
    "print(\"\\nadd channel number to training and testing data\")\n",
    "print(f\"X_train: {X_train.shape}, y_train: {y_train.shape}\")\n",
    "print(f\"X_test:  {X_test.shape}, y_test:  {y_test.shape}\")\n",
    "\n",
    "# (print(f\"{(X_test.shape, y_test.shape)}\")"
   ]
  },
  {
   "cell_type": "markdown",
   "id": "2c59a05fa2582d1e",
   "metadata": {},
   "source": [
    "1. Convert data to float32   \n",
    "2. Calculate mean and standard deviation of the training data   \n",
    "3. Apply Z-score normalization to the training data   \n",
    "3. Apply Z-score normalization to the test data using the mean and standard deviation of the training data   \n",
    "\n",
    "<u>Note</u>. Image data is not normally distributed and hence min-max scaler is not suitable.  "
   ]
  },
  {
   "cell_type": "code",
   "execution_count": 5,
   "id": "37354097c847efb3",
   "metadata": {
    "ExecuteTime": {
     "end_time": "2024-03-19T03:35:15.659232900Z",
     "start_time": "2024-03-19T03:35:15.257586900Z"
    },
    "collapsed": false,
    "jupyter": {
     "outputs_hidden": false
    },
    "tags": []
   },
   "outputs": [],
   "source": [
    "# Convert data to float32\n",
    "X_train = X_train.astype(np.float32)\n",
    "X_test = X_test.astype(np.float32)\n",
    "\n",
    "# Calculate mean and standard deviation of the training data\n",
    "mean = np.mean(X_train) # Mean\n",
    "std = np.std(X_train) # Variance\n",
    "\n",
    "# Apply Z-score normalization to the training and test data\n",
    "X_train_normalized = (X_train - mean) / std\n",
    "X_test_normalized = (X_test - mean) / std\n"
   ]
  },
  {
   "cell_type": "code",
   "execution_count": 6,
   "id": "bacd670c8976259f",
   "metadata": {
    "ExecuteTime": {
     "end_time": "2024-03-19T03:41:48.767834300Z",
     "start_time": "2024-03-19T03:41:48.571526800Z"
    },
    "collapsed": false,
    "jupyter": {
     "outputs_hidden": false
    },
    "tags": []
   },
   "outputs": [
    {
     "data": {
      "image/png": "[encoded data removed]",
      "text/plain": [
       "<Figure size 640x480 with 2 Axes>"
      ]
     },
     "metadata": {},
     "output_type": "display_data"
    }
   ],
   "source": [
    "# Display an image from the data along with its label\n",
    "index = randint(0, 59999)\n",
    "plt.imshow(X_train_normalized[index], cmap='gray')  # Display the image\n",
    "plt.colorbar()  # Display the color bar\n",
    "plt.title(f'Label: {y_train[index]}');"
   ]
  },
  {
   "cell_type": "code",
   "execution_count": 22,
   "id": "fa1efb40ad429b5a",
   "metadata": {
    "ExecuteTime": {
     "end_time": "2024-03-19T03:39:33.902767500Z",
     "start_time": "2024-03-19T03:39:33.871656300Z"
    },
    "collapsed": false,
    "jupyter": {
     "outputs_hidden": false
    }
   },
   "outputs": [
    {
     "data": {
      "text/plain": [
       "60000"
      ]
     },
     "execution_count": 22,
     "metadata": {},
     "output_type": "execute_result"
    }
   ],
   "source": [
    "len(y_train) "
   ]
  },
  {
   "cell_type": "markdown",
   "id": "79ec1acf5c309506",
   "metadata": {},
   "source": [
    "#### Modeling  \n",
    "Use CNN Sequential   \n",
    "`tensorflow.keras.layers` is used for adding different layers in CNN,   \n",
    "so we can add network layers using the `model.add()` method.  \n",
    "\n",
    "`Conv2D` to add convolutional layers and `MaxPooling2D` for pooling operations.  \n",
    "\n",
    "The Flatten layer is typically used after convolutional or dropout layers.  \n",
    "Since the output of these layers is multidimensional, Dense layers, which are fully connected, require one-dimensional data as input. The Flatten layer is used to convert the input data into a one-dimensional vector.  \n",
    "\n",
    "Each neuron in Dense layers is connected to all neurons in the previous and subsequent layers and has a weight (W) and a bias, representing the relationship between the input to this layer and the output of the previous layer. Dense layers are commonly used in the final layers of a neural network, which may consist of multiple layers.   \n",
    "\n",
    "The output layer typically uses the Softmax activation function. The output layer has 10 neurons because our problem has 10 classes, the numbers 0–9."
   ]
  },
  {
   "cell_type": "code",
   "execution_count": 8,
   "id": "9cf9fbfeb458456e",
   "metadata": {
    "ExecuteTime": {
     "end_time": "2024-03-19T03:48:10.305443700Z",
     "start_time": "2024-03-19T03:48:10.275520400Z"
    },
    "collapsed": false,
    "jupyter": {
     "outputs_hidden": false
    },
    "tags": []
   },
   "outputs": [],
   "source": [
    "from tensorflow.keras.models import Sequential\n",
    "from tensorflow.keras.layers import Conv2D, MaxPooling2D, Flatten, Dense, Dropout"
   ]
  },
  {
   "cell_type": "markdown",
   "id": "67d23394d279f188",
   "metadata": {},
   "source": [
    "#### Build the model  \n",
    "Choose the model with `model = Sequential()`  \n",
    "Add layers. The first layer indicates the shape of the data 28x28 and single-channel (grayscale).   \n",
    "\n",
    "The (32) in the `Conv2D` layer represents the number of filters used in this convolutional layer, indicating the number of channels in the output feature maps. The (3x3) represents the dimensions of the kernel or filter, which collects information from the images. Since our images are grayscale and quite small, and their edges have zero values, we don’t need much padding.\n",
    "\n",
    "`MaxPooling2D` performs pooling operations on the images.  \n",
    "\n",
    "Different activation functions in various layers serve different purposes. We have two fully connected (FC) or Dense layers. In the first one, we’ve used the ReLU activation function, while in the second layer, which represents the model’s output, we’ve used the softmax activation function, typically applied in the final output layer.\n",
    "\n",
    "We’ve also incorporated dropout with a dropout rate of 0.25, meaning 25% of input features to the layer are randomly dropped during training. Each layer has parameters, and upon completion, we can see the total number of parameters in the network using `model.summary()`. "
   ]
  },
  {
   "cell_type": "code",
   "execution_count": 11,
   "id": "d878487eba52a9eb",
   "metadata": {
    "ExecuteTime": {
     "end_time": "2024-03-19T04:05:01.622894800Z",
     "start_time": "2024-03-19T04:05:01.116863500Z"
    },
    "collapsed": false,
    "jupyter": {
     "outputs_hidden": false
    },
    "tags": []
   },
   "outputs": [
    {
     "name": "stdout",
     "output_type": "stream",
     "text": [
      "Model: \"sequential_1\"\n",
      "_________________________________________________________________\n",
      " Layer (type)                Output Shape              Param #   \n",
      "=================================================================\n",
      " conv2d_3 (Conv2D)           (None, 26, 26, 32)        320       \n",
      "                                                                 \n",
      " max_pooling2d_2 (MaxPoolin  (None, 13, 13, 32)        0         \n",
      " g2D)                                                            \n",
      "                                                                 \n",
      " conv2d_4 (Conv2D)           (None, 11, 11, 64)        18496     \n",
      "                                                                 \n",
      " max_pooling2d_3 (MaxPoolin  (None, 5, 5, 64)          0         \n",
      " g2D)                                                            \n",
      "                                                                 \n",
      " conv2d_5 (Conv2D)           (None, 3, 3, 64)          36928     \n",
      "                                                                 \n",
      " flatten_1 (Flatten)         (None, 576)               0         \n",
      "                                                                 \n",
      " dense_2 (Dense)             (None, 64)                36928     \n",
      "                                                                 \n",
      " dropout_1 (Dropout)         (None, 64)                0         \n",
      "                                                                 \n",
      " dense_3 (Dense)             (None, 10)                650       \n",
      "                                                                 \n",
      "=================================================================\n",
      "Total params: 93322 (364.54 KB)\n",
      "Trainable params: 93322 (364.54 KB)\n",
      "Non-trainable params: 0 (0.00 Byte)\n",
      "_________________________________________________________________\n"
     ]
    }
   ],
   "source": [
    "# Create the model\n",
    "model = Sequential()\n",
    "\n",
    "model.add(Conv2D(32, (3, 3), activation='relu', input_shape=(28, 28, 1)))\n",
    "model.add(MaxPooling2D((2, 2)))\n",
    "model.add(Conv2D(64, (3, 3), activation='relu'))\n",
    "model.add(MaxPooling2D((2, 2)))\n",
    "model.add(Conv2D(64, (3, 3), activation='relu'))\n",
    "model.add(Flatten())\n",
    "model.add(Dense(64, activation='relu'))\n",
    "model.add(Dropout(0.25))\n",
    "model.add(Dense(10, activation='softmax'))\n",
    "\n",
    "# Display model summary\n",
    "model.summary()"
   ]
  },
  {
   "cell_type": "markdown",
   "id": "a2451c8009eb8eb4",
   "metadata": {},
   "source": [
    "#### compile.model   \n",
    "Compile the model to set the loss function, optimizer, and select evaluation metrics.  \n",
    "After constructing the model and its layers with the CNN architecture, the next step is to compile the model using the compile function to set the loss function, optimizer, and select evaluation metrics. In machine learning, the loss function represents the difference between the model’s output and the actual values. In all tasks, whether in the real world or for solving deep learning problems, one of the most important tasks is to minimize the error.\n",
    "\n",
    "The optimizer is responsible for optimizing and updating the model’s weights (W), adjusting them in a way that minimizes the loss function. Optimizers come in various types such as Adam, SGD, and RMSprop, and selecting the right one for your specific task can help improve the model’s performance. As you’ll see, we use Adam in the code below.\n",
    "\n",
    "Then, by selecting appropriate evaluation metrics, namely Metrics, we can evaluate the model’s performance during both training and evaluation stages."
   ]
  },
  {
   "cell_type": "code",
   "execution_count": 12,
   "id": "dffab17124ce9ef7",
   "metadata": {
    "ExecuteTime": {
     "end_time": "2024-03-19T04:10:34.421223200Z",
     "start_time": "2024-03-19T04:10:34.386627200Z"
    },
    "collapsed": false,
    "jupyter": {
     "outputs_hidden": false
    },
    "tags": []
   },
   "outputs": [],
   "source": [
    "from tensorflow.keras.optimizers import Adam\n",
    "from tensorflow.keras.losses import SparseCategoricalCrossentropy\n",
    "\n",
    "model.compile(loss=SparseCategoricalCrossentropy(),\n",
    "              optimizer=Adam(learning_rate=0.001), metrics=['accuracy'])"
   ]
  },
  {
   "cell_type": "markdown",
   "id": "7e7be7aa3f962f8a",
   "metadata": {},
   "source": [
    "\n"
   ]
  },
  {
   "cell_type": "code",
   "execution_count": 13,
   "id": "4ce75122cf980ba8",
   "metadata": {
    "collapsed": false,
    "jupyter": {
     "outputs_hidden": false
    },
    "tags": []
   },
   "outputs": [
    {
     "name": "stdout",
     "output_type": "stream",
     "text": [
      "Epoch 1/50\n",
      "WARNING:tensorflow:From d:\\anaconda3\\Lib\\site-packages\\keras\\src\\utils\\tf_utils.py:492: The name tf.ragged.RaggedTensorValue is deprecated. Please use tf.compat.v1.ragged.RaggedTensorValue instead.\n",
      "\n",
      "WARNING:tensorflow:From d:\\anaconda3\\Lib\\site-packages\\keras\\src\\engine\\base_layer_utils.py:384: The name tf.executing_eagerly_outside_functions is deprecated. Please use tf.compat.v1.executing_eagerly_outside_functions instead.\n",
      "\n",
      "1500/1500 [==============================] - 28s 17ms/step - loss: 0.3980 - accuracy: 0.9049 - val_loss: 0.0815 - val_accuracy: 0.9775\n",
      "Epoch 2/50\n",
      "1500/1500 [==============================] - 23s 15ms/step - loss: 0.0955 - accuracy: 0.9729 - val_loss: 0.0660 - val_accuracy: 0.9833\n",
      "Epoch 3/50\n",
      "1500/1500 [==============================] - 25s 17ms/step - loss: 0.0752 - accuracy: 0.9789 - val_loss: 0.0625 - val_accuracy: 0.9815\n",
      "Epoch 4/50\n",
      "1500/1500 [==============================] - 24s 16ms/step - loss: 0.0582 - accuracy: 0.9835 - val_loss: 0.0642 - val_accuracy: 0.9846\n",
      "Epoch 5/50\n",
      "1500/1500 [==============================] - 31s 21ms/step - loss: 0.0532 - accuracy: 0.9846 - val_loss: 0.0532 - val_accuracy: 0.9870\n",
      "Epoch 6/50\n",
      "1500/1500 [==============================] - 22s 15ms/step - loss: 0.0471 - accuracy: 0.9869 - val_loss: 0.0550 - val_accuracy: 0.9887\n",
      "Epoch 7/50\n",
      "1500/1500 [==============================] - 21s 14ms/step - loss: 0.0452 - accuracy: 0.9872 - val_loss: 0.0528 - val_accuracy: 0.9883\n",
      "Epoch 8/50\n",
      "1500/1500 [==============================] - 20s 14ms/step - loss: 0.0359 - accuracy: 0.9896 - val_loss: 0.0562 - val_accuracy: 0.9876\n",
      "Epoch 9/50\n",
      "1500/1500 [==============================] - 20s 13ms/step - loss: 0.0358 - accuracy: 0.9896 - val_loss: 0.0581 - val_accuracy: 0.9875\n",
      "Epoch 10/50\n",
      "1500/1500 [==============================] - 21s 14ms/step - loss: 0.0328 - accuracy: 0.9907 - val_loss: 0.0686 - val_accuracy: 0.9862\n",
      "Epoch 11/50\n",
      "1500/1500 [==============================] - 22s 15ms/step - loss: 0.0312 - accuracy: 0.9914 - val_loss: 0.0878 - val_accuracy: 0.9838\n",
      "Epoch 12/50\n",
      "1500/1500 [==============================] - 19s 13ms/step - loss: 0.0310 - accuracy: 0.9910 - val_loss: 0.0619 - val_accuracy: 0.9896\n",
      "Epoch 13/50\n",
      "1500/1500 [==============================] - 19s 13ms/step - loss: 0.0268 - accuracy: 0.9927 - val_loss: 0.0714 - val_accuracy: 0.9896\n",
      "Epoch 14/50\n",
      "1500/1500 [==============================] - 21s 14ms/step - loss: 0.0277 - accuracy: 0.9927 - val_loss: 0.0738 - val_accuracy: 0.9883\n",
      "Epoch 15/50\n",
      "1500/1500 [==============================] - 30s 20ms/step - loss: 0.0266 - accuracy: 0.9931 - val_loss: 0.0658 - val_accuracy: 0.9905\n",
      "Epoch 16/50\n",
      "1500/1500 [==============================] - 32s 21ms/step - loss: 0.0292 - accuracy: 0.9925 - val_loss: 0.0717 - val_accuracy: 0.9888\n",
      "Epoch 17/50\n",
      "1500/1500 [==============================] - 27s 18ms/step - loss: 0.0273 - accuracy: 0.9931 - val_loss: 0.0970 - val_accuracy: 0.9880\n",
      "Epoch 18/50\n",
      "1500/1500 [==============================] - 24s 16ms/step - loss: 0.0249 - accuracy: 0.9934 - val_loss: 0.0910 - val_accuracy: 0.9893\n",
      "Epoch 19/50\n",
      "1500/1500 [==============================] - 23s 15ms/step - loss: 0.0258 - accuracy: 0.9938 - val_loss: 0.0813 - val_accuracy: 0.9885\n",
      "Epoch 20/50\n",
      "1500/1500 [==============================] - 22s 15ms/step - loss: 0.0238 - accuracy: 0.9938 - val_loss: 0.1070 - val_accuracy: 0.9884\n",
      "Epoch 21/50\n",
      "1500/1500 [==============================] - 24s 16ms/step - loss: 0.0235 - accuracy: 0.9945 - val_loss: 0.1187 - val_accuracy: 0.9869\n",
      "Epoch 22/50\n",
      "1500/1500 [==============================] - 23s 15ms/step - loss: 0.0242 - accuracy: 0.9943 - val_loss: 0.0887 - val_accuracy: 0.9890\n",
      "Epoch 23/50\n",
      "1500/1500 [==============================] - 22s 15ms/step - loss: 0.0230 - accuracy: 0.9944 - val_loss: 0.0821 - val_accuracy: 0.9891\n",
      "Epoch 24/50\n",
      "1500/1500 [==============================] - 28s 18ms/step - loss: 0.0249 - accuracy: 0.9944 - val_loss: 0.0777 - val_accuracy: 0.9883\n",
      "Epoch 25/50\n",
      "1500/1500 [==============================] - 29s 20ms/step - loss: 0.0234 - accuracy: 0.9943 - val_loss: 0.0914 - val_accuracy: 0.9907\n",
      "Epoch 26/50\n",
      "1500/1500 [==============================] - 25s 17ms/step - loss: 0.0214 - accuracy: 0.9947 - val_loss: 0.0896 - val_accuracy: 0.9887\n",
      "Epoch 27/50\n",
      "1500/1500 [==============================] - 24s 16ms/step - loss: 0.0240 - accuracy: 0.9944 - val_loss: 0.0960 - val_accuracy: 0.9888\n",
      "Epoch 28/50\n",
      "1500/1500 [==============================] - 25s 16ms/step - loss: 0.0212 - accuracy: 0.9952 - val_loss: 0.0860 - val_accuracy: 0.9886\n",
      "Epoch 29/50\n",
      "1500/1500 [==============================] - 24s 16ms/step - loss: 0.0233 - accuracy: 0.9951 - val_loss: 0.1066 - val_accuracy: 0.9886\n",
      "Epoch 30/50\n",
      "1500/1500 [==============================] - 25s 17ms/step - loss: 0.0205 - accuracy: 0.9953 - val_loss: 0.1135 - val_accuracy: 0.9874\n",
      "Epoch 31/50\n",
      "1500/1500 [==============================] - 24s 16ms/step - loss: 0.0236 - accuracy: 0.9946 - val_loss: 0.0957 - val_accuracy: 0.9890\n",
      "Epoch 32/50\n",
      "1500/1500 [==============================] - 24s 16ms/step - loss: 0.0235 - accuracy: 0.9950 - val_loss: 0.1061 - val_accuracy: 0.9893\n",
      "Epoch 33/50\n",
      "1500/1500 [==============================] - 24s 16ms/step - loss: 0.0218 - accuracy: 0.9949 - val_loss: 0.1331 - val_accuracy: 0.9885\n",
      "Epoch 34/50\n",
      "1500/1500 [==============================] - 24s 16ms/step - loss: 0.0268 - accuracy: 0.9951 - val_loss: 0.1387 - val_accuracy: 0.9879\n",
      "Epoch 35/50\n",
      "1500/1500 [==============================] - 24s 16ms/step - loss: 0.0173 - accuracy: 0.9962 - val_loss: 0.1938 - val_accuracy: 0.9887\n",
      "Epoch 36/50\n",
      "1500/1500 [==============================] - 24s 16ms/step - loss: 0.0215 - accuracy: 0.9957 - val_loss: 0.1264 - val_accuracy: 0.9905\n",
      "Epoch 37/50\n",
      "1500/1500 [==============================] - 24s 16ms/step - loss: 0.0190 - accuracy: 0.9962 - val_loss: 0.1384 - val_accuracy: 0.9890\n",
      "Epoch 38/50\n",
      "1500/1500 [==============================] - 25s 17ms/step - loss: 0.0335 - accuracy: 0.9941 - val_loss: 0.1279 - val_accuracy: 0.9868\n",
      "Epoch 39/50\n",
      "1500/1500 [==============================] - 26s 17ms/step - loss: 0.0201 - accuracy: 0.9959 - val_loss: 0.1688 - val_accuracy: 0.9906\n",
      "Epoch 40/50\n",
      "1500/1500 [==============================] - 25s 17ms/step - loss: 0.0187 - accuracy: 0.9966 - val_loss: 0.1486 - val_accuracy: 0.9887\n",
      "Epoch 41/50\n",
      "1500/1500 [==============================] - 25s 17ms/step - loss: 0.0299 - accuracy: 0.9950 - val_loss: 0.1274 - val_accuracy: 0.9901\n",
      "Epoch 42/50\n",
      "1500/1500 [==============================] - 25s 17ms/step - loss: 0.0242 - accuracy: 0.9956 - val_loss: 0.1555 - val_accuracy: 0.9879\n",
      "Epoch 43/50\n",
      "1500/1500 [==============================] - 26s 17ms/step - loss: 0.0249 - accuracy: 0.9955 - val_loss: 0.2041 - val_accuracy: 0.9881\n",
      "Epoch 44/50\n",
      "1500/1500 [==============================] - 24s 16ms/step - loss: 0.0275 - accuracy: 0.9956 - val_loss: 0.1585 - val_accuracy: 0.9885\n",
      "Epoch 45/50\n",
      "1500/1500 [==============================] - 25s 17ms/step - loss: 0.0252 - accuracy: 0.9959 - val_loss: 0.1935 - val_accuracy: 0.9896\n",
      "Epoch 46/50\n",
      "1500/1500 [==============================] - 27s 18ms/step - loss: 0.0260 - accuracy: 0.9954 - val_loss: 0.1400 - val_accuracy: 0.9904\n",
      "Epoch 47/50\n",
      "1500/1500 [==============================] - 26s 17ms/step - loss: 0.0254 - accuracy: 0.9954 - val_loss: 0.2003 - val_accuracy: 0.9864\n",
      "Epoch 48/50\n",
      "1500/1500 [==============================] - 21s 14ms/step - loss: 0.0258 - accuracy: 0.9965 - val_loss: 0.2555 - val_accuracy: 0.9866\n",
      "Epoch 49/50\n",
      "1500/1500 [==============================] - 20s 13ms/step - loss: 0.0249 - accuracy: 0.9955 - val_loss: 0.1855 - val_accuracy: 0.9890\n",
      "Epoch 50/50\n",
      "1500/1500 [==============================] - 20s 14ms/step - loss: 0.0226 - accuracy: 0.9966 - val_loss: 0.3690 - val_accuracy: 0.9770\n"
     ]
    }
   ],
   "source": [
    "history = model.fit(X_train, y_train, epochs=50, batch_size=32, validation_split=0.2)"
   ]
  },
  {
   "cell_type": "code",
   "execution_count": 39,
   "id": "e590cd3c86830dd1",
   "metadata": {
    "ExecuteTime": {
     "end_time": "2024-03-19T04:39:40.218120500Z",
     "start_time": "2024-03-19T04:39:36.979227500Z"
    },
    "collapsed": false,
    "jupyter": {
     "outputs_hidden": false
    }
   },
   "outputs": [
    {
     "name": "stdout",
     "output_type": "stream",
     "text": [
      "313/313 [==============================] - 3s 8ms/step - loss: 0.1373 - accuracy: 0.9886\n",
      "Test accuracy: 0.9886000156402588\n"
     ]
    }
   ],
   "source": [
    "# Evaluate the model\n",
    "test_loss, test_acc = model.evaluate(X_test, y_test)\n",
    "print('Test accuracy:', test_acc)"
   ]
  },
  {
   "cell_type": "markdown",
   "id": "3a754089fc9f5c3b",
   "metadata": {},
   "source": [
    "#### Loss Curve and Accuracy Curve plots   "
   ]
  },
  {
   "cell_type": "code",
   "execution_count": 44,
   "id": "a4c44a4ad2a60063",
   "metadata": {
    "ExecuteTime": {
     "end_time": "2024-03-19T04:48:22.263844700Z",
     "start_time": "2024-03-19T04:48:21.349354Z"
    },
    "collapsed": false,
    "jupyter": {
     "outputs_hidden": false
    }
   },
   "outputs": [
    {
     "data": {
      "image/png": "[encoded data removed]",
      "text/plain": [
       "<Figure size 800x300 with 2 Axes>"
      ]
     },
     "metadata": {},
     "output_type": "display_data"
    }
   ],
   "source": [
    "fig, axs = plt.subplots(1, 2, figsize=(8,3))\n",
    "\n",
    "# Plotting the loss curve\n",
    "axs[0].plot(history.history['loss'], label='Training Loss')\n",
    "axs[0].plot(history.history['val_loss'], label='Validation Loss')\n",
    "axs[0].set_title('Loss Curve')\n",
    "axs[0].set_xlabel('Epochs')\n",
    "axs[0].set_ylabel('Loss')\n",
    "axs[0].legend()\n",
    "\n",
    "# Plotting the accuracy curve\n",
    "axs[1].plot(history.history['accuracy'], label='Training Accuracy')\n",
    "axs[1].plot(history.history['val_accuracy'], label='Validation Accuracy')\n",
    "axs[1].set_title('Accuracy Curve')\n",
    "axs[1].set_xlabel('Epochs')\n",
    "axs[1].set_ylabel('Accuracy')\n",
    "axs[1].legend()\n",
    "\n",
    "plt.tight_layout()"
   ]
  },
  {
   "cell_type": "markdown",
   "id": "31aa830688c13dc4",
   "metadata": {},
   "source": [
    "The model is likely **overfitting**.  \n",
    "Small difference between the training accuracy and validation accuracy, the model hasn’t overfit.  \n",
    "Significant difference, or if the validation accuracy starts decreasing while the training accuracy increases, suspect overfitting.     \n",
    "The accuracy lines should be smoother with fewer fluctuations.  \n",
    "High fluctuations indicate instability in the model’s performance, which could be a sign of overfitting.  \n"
   ]
  },
  {
   "cell_type": "markdown",
   "id": "8bfde906da554c48",
   "metadata": {},
   "source": [
    "#### Hyperparameter tuning.   \n",
    "Test with different values Early Stopping, Dropout, batch_size, learning_rate, and L2 regularization.  "
   ]
  },
  {
   "cell_type": "code",
   "execution_count": null,
   "id": "de9f065cabc96c54",
   "metadata": {
    "collapsed": false,
    "jupyter": {
     "outputs_hidden": false
    }
   },
   "outputs": [],
   "source": [
    "from tensorflow.keras.layers import BatchNormalization\n",
    "from tensorflow.keras.regularizers import l2\n",
    "\n",
    "# Create the model\n",
    "model = Sequential()\n",
    "\n",
    "# Convolutional layers\n",
    "model.add(Conv2D(32, (3, 3), activation='relu', kernel_regularizer=l2(0.01), input_shape=(28, 28, 1)))\n",
    "model.add(MaxPooling2D((2, 2)))  # Max pooling layer\n",
    "\n",
    "# Adding Batch Normalization layer with momentum and epsilon settings\n",
    "model.add(BatchNormalization(momentum=0.9, epsilon=1e-5))\n",
    "\n",
    "model.add(Conv2D(64, (3, 3), activation='relu', kernel_regularizer=l2(0.01)))  # Convolutional layer\n",
    "model.add(MaxPooling2D((2, 2)))  # Max pooling layer\n",
    "model.add(Conv2D(64, (3, 3), activation='relu', kernel_regularizer=l2(0.01)))  # Convolutional layer\n",
    "model.add(Flatten())  # Flatten layer to convert 2D matrix to a vector\n",
    "\n",
    "# Fully connected layers\n",
    "model.add(Dense(64, activation='relu', kernel_regularizer=l2(0.01)))  # Dense (fully connected) layer\n",
    "model.add(Dropout(0.30))  # Dropout layer for regularization\n",
    "model.add(Dense(10, activation='softmax'))  # Output layer with softmax activation for classification\n"
   ]
  },
  {
   "cell_type": "code",
   "execution_count": null,
   "id": "fc569a7da59fe10e",
   "metadata": {
    "collapsed": false,
    "jupyter": {
     "outputs_hidden": false
    }
   },
   "outputs": [],
   "source": [
    "model.summary()  "
   ]
  },
  {
   "cell_type": "markdown",
   "id": "a6e7eb7202edd7d4",
   "metadata": {},
   "source": [
    "Create EarlyStopping and set the patience value to 5.  \n",
    "Callbacks will stop the training process if the validation accuracy does not improve after 5 epochs.  \n",
    "While it’s possible to randomly test the best number of epochs, the preferred method is EarlyStopping.  \n",
    "This technique enables the model to evaluate its performance on a separate set of data, such as validation data, in each epoch."
   ]
  },
  {
   "cell_type": "code",
   "execution_count": 48,
   "id": "5e33c5b58f20055c",
   "metadata": {
    "ExecuteTime": {
     "end_time": "2024-03-19T04:58:14.889460900Z",
     "start_time": "2024-03-19T04:58:14.885463100Z"
    },
    "collapsed": false,
    "jupyter": {
     "outputs_hidden": false
    }
   },
   "outputs": [],
   "source": [
    "from tensorflow.keras.callbacks import EarlyStopping\n",
    "\n",
    "# Creating an EarlyStopping callback object with a patience of 5 epochs\n",
    "es = EarlyStopping(patience=5)"
   ]
  },
  {
   "cell_type": "code",
   "execution_count": null,
   "id": "559c96501caefbcf",
   "metadata": {
    "ExecuteTime": {
     "end_time": "2024-03-19T05:04:42.645058100Z",
     "start_time": "2024-03-19T05:00:10.748366400Z"
    },
    "collapsed": false,
    "jupyter": {
     "outputs_hidden": false
    }
   },
   "outputs": [],
   "source": [
    "model.compile(loss=SparseCategoricalCrossentropy(),\n",
    "              optimizer=Adam(learning_rate=0.001), metrics=['accuracy'])\n",
    "history = model.fit(X_train, y_train, epochs=50, batch_size=32, validation_split=0.2 , callbacks=[es])"
   ]
  },
  {
   "cell_type": "markdown",
   "id": "ae43e6bb596f57cb",
   "metadata": {},
   "source": [
    "#### Hyper Parameter Tuning  \n",
    "To test each model, input the data from the first 4 columns of the table below into their respective sections   \n",
    "and observe the desired outcome.  \n",
    "\n",
    "##### 4 plots of series A   \n",
    "are trained with parameters batch_size = 32 and learning_rate = 0.001,  \n",
    "along with Dropout rates of (0.25, 0.30, 0.40, 0.50). \n",
    "Almost all the plots show a decreasing trend in accuracy and significant fluctuations.   \n",
    "\n",
    "The plots have been cut off in many points.  \n",
    "The interruption of training and evaluation plots indicates a mismatch between training and validation data,  \n",
    "suggesting that the model has been improperly adjusted.  \n",
    "This usually points to issues like overfitting or underfitting.\n",
    "\n",
    "##### overfitting if indicated    \n",
    "If the Training Accuracy is continuously decreasing while the Validation Accuracy starts to increase or remains stable.  \n",
    "##### effective learning   \n",
    "If both training and validation accuracies consistently decrease or remain stable at similar levels.  \n",
    "#####  overfitting   \n",
    "A significant gap between training and validation accuracies.  \n",
    "\n",
    "**We aim** to steadily increase both Training and Validation accuracies or stabilize them at similar levels.\n"
   ]
  },
  {
   "cell_type": "code",
   "execution_count": 14,
   "id": "ab7fdda7673ae6ce",
   "metadata": {
    "ExecuteTime": {
     "end_time": "2024-03-19T10:12:14.378478600Z",
     "start_time": "2024-03-19T10:12:14.268387800Z"
    },
    "collapsed": false,
    "jupyter": {
     "outputs_hidden": false
    },
    "tags": []
   },
   "outputs": [
    {
     "name": "stdout",
     "output_type": "stream",
     "text": [
      "\n",
      "Data for hyperparameter turning and the results\n"
     ]
    },
    {
     "data": {
      "text/html": [
       "<div>\n",
       "<style scoped>\n",
       "    .dataframe tbody tr th:only-of-type {\n",
       "        vertical-align: middle;\n",
       "    }\n",
       "\n",
       "    .dataframe tbody tr th {\n",
       "        vertical-align: top;\n",
       "    }\n",
       "\n",
       "    .dataframe thead th {\n",
       "        text-align: right;\n",
       "    }\n",
       "</style>\n",
       "<table border=\"1\" class=\"dataframe\">\n",
       "  <thead>\n",
       "    <tr style=\"text-align: right;\">\n",
       "      <th></th>\n",
       "      <th>Dropout</th>\n",
       "      <th>batch_size</th>\n",
       "      <th>learning_rate</th>\n",
       "      <th>kernel_regularise=l2</th>\n",
       "      <th>test_accuracy</th>\n",
       "      <th>chart</th>\n",
       "    </tr>\n",
       "  </thead>\n",
       "  <tbody>\n",
       "    <tr>\n",
       "      <th>0</th>\n",
       "      <td>0.25</td>\n",
       "      <td>32</td>\n",
       "      <td>0.001</td>\n",
       "      <td>0.001</td>\n",
       "      <td>0.9857</td>\n",
       "      <td>A1.32</td>\n",
       "    </tr>\n",
       "    <tr>\n",
       "      <th>1</th>\n",
       "      <td>0.25</td>\n",
       "      <td>64</td>\n",
       "      <td>0.010</td>\n",
       "      <td>0.010</td>\n",
       "      <td>0.9757</td>\n",
       "      <td>B1.64</td>\n",
       "    </tr>\n",
       "    <tr>\n",
       "      <th>2</th>\n",
       "      <td>0.30</td>\n",
       "      <td>32</td>\n",
       "      <td>0.001</td>\n",
       "      <td>0.001</td>\n",
       "      <td>0.9883</td>\n",
       "      <td>A2.32</td>\n",
       "    </tr>\n",
       "    <tr>\n",
       "      <th>3</th>\n",
       "      <td>0.30</td>\n",
       "      <td>64</td>\n",
       "      <td>0.010</td>\n",
       "      <td>0.010</td>\n",
       "      <td>0.9582</td>\n",
       "      <td>B2.64</td>\n",
       "    </tr>\n",
       "    <tr>\n",
       "      <th>4</th>\n",
       "      <td>0.30</td>\n",
       "      <td>32</td>\n",
       "      <td>0.010</td>\n",
       "      <td>0.010</td>\n",
       "      <td>0.9853</td>\n",
       "      <td>C32</td>\n",
       "    </tr>\n",
       "    <tr>\n",
       "      <th>5</th>\n",
       "      <td>0.40</td>\n",
       "      <td>32</td>\n",
       "      <td>0.001</td>\n",
       "      <td>0.001</td>\n",
       "      <td>0.9894</td>\n",
       "      <td>A3.32</td>\n",
       "    </tr>\n",
       "    <tr>\n",
       "      <th>6</th>\n",
       "      <td>0.40</td>\n",
       "      <td>64</td>\n",
       "      <td>0.010</td>\n",
       "      <td>0.010</td>\n",
       "      <td>0.9732</td>\n",
       "      <td>B3.64</td>\n",
       "    </tr>\n",
       "    <tr>\n",
       "      <th>7</th>\n",
       "      <td>0.50</td>\n",
       "      <td>32</td>\n",
       "      <td>0.001</td>\n",
       "      <td>0.001</td>\n",
       "      <td>0.9876</td>\n",
       "      <td>A4.32</td>\n",
       "    </tr>\n",
       "    <tr>\n",
       "      <th>8</th>\n",
       "      <td>0.50</td>\n",
       "      <td>64</td>\n",
       "      <td>0.010</td>\n",
       "      <td>0.010</td>\n",
       "      <td>0.9721</td>\n",
       "      <td>B4.64</td>\n",
       "    </tr>\n",
       "    <tr>\n",
       "      <th>9</th>\n",
       "      <td>0.50</td>\n",
       "      <td>32</td>\n",
       "      <td>0.010</td>\n",
       "      <td>0.010</td>\n",
       "      <td>0.9459</td>\n",
       "      <td>C2.32</td>\n",
       "    </tr>\n",
       "  </tbody>\n",
       "</table>\n",
       "</div>"
      ],
      "text/plain": [
       "   Dropout  batch_size  learning_rate  kernel_regularise=l2  test_accuracy  \\\n",
       "0     0.25          32          0.001                 0.001         0.9857   \n",
       "1     0.25          64          0.010                 0.010         0.9757   \n",
       "2     0.30          32          0.001                 0.001         0.9883   \n",
       "3     0.30          64          0.010                 0.010         0.9582   \n",
       "4     0.30          32          0.010                 0.010         0.9853   \n",
       "5     0.40          32          0.001                 0.001         0.9894   \n",
       "6     0.40          64          0.010                 0.010         0.9732   \n",
       "7     0.50          32          0.001                 0.001         0.9876   \n",
       "8     0.50          64          0.010                 0.010         0.9721   \n",
       "9     0.50          32          0.010                 0.010         0.9459   \n",
       "\n",
       "   chart  \n",
       "0  A1.32  \n",
       "1  B1.64  \n",
       "2  A2.32  \n",
       "3  B2.64  \n",
       "4    C32  \n",
       "5  A3.32  \n",
       "6  B3.64  \n",
       "7  A4.32  \n",
       "8  B4.64  \n",
       "9  C2.32  "
      ]
     },
     "execution_count": 14,
     "metadata": {},
     "output_type": "execute_result"
    }
   ],
   "source": [
    "cols = ['Dropout','batch_size','learning_rate','kernel_regularise=l2','test_accuracy','chart']\n",
    "data = [\n",
    "    [0.25,32,0.001,0.001,0.9857,'A1.32'],\n",
    "    [0.25,64,0.01,0.01,0.9757,'B1.64'],\n",
    "    [0.3,32,0.001,0.001,0.9883,'A2.32'],\n",
    "    [0.3,64,0.01,0.01,0.9582,'B2.64'],\n",
    "    [0.3,32,0.01,0.01,0.9853,'C32'],\n",
    "    [0.4,32,0.001,0.001,0.9894,'A3.32'],\n",
    "    [0.4,64,0.01,0.01,0.9732,'B3.64'],\n",
    "    [0.5,32,0.001,0.001,0.9876,'A4.32'],\n",
    "    [0.5,64,0.01,0.01,0.9721,'B4.64'],\n",
    "    [0.5,32,0.01,0.01,0.9459,'C2.32']\n",
    "]\n",
    "\n",
    "print(\"\\nData for hyperparameter turning and the results\")\n",
    "\n",
    "pd.DataFrame(data, columns=cols)"
   ]
  },
  {
   "cell_type": "markdown",
   "id": "579af70d4ee392e9",
   "metadata": {},
   "source": []
  },
  {
   "cell_type": "markdown",
   "id": "f62784045fc3e1e2",
   "metadata": {},
   "source": [
    "#### Series B Plots      \n",
    "The models are trained with batch_size = 64 and learning_rate = 0.01,    \n",
    "but the Dropouts are similar.  \n",
    "Improvements have been made in the learning process, and the fluctuations have reduced.  \n",
    "The consolidation of data and validation on the plots has improved.  \n",
    "Data consolidation refers to the stability or steadiness of the plots during the training epochs.  \n",
    "Temporal consolidation occurs when the plots no longer show significant changes over the epochs.  \n",
    "The loss or accuracy values (if using accuracy plots) no longer change significantly with minor fluctuations during the epochs.  \n",
    "This is model stabilization stage. The model no longer gains new information from the data and reaches a stable and optimal state.  \n",
    "In learning curves, consolidation is usually clearly observable; the lines or curves are less erratic and tend towards a stable point.\n",
    "\n",
    "The convergence of the Training Accuracy and Validation Accuracy plots is much less pronounced.   \n",
    "The models have learned with fewer epochs, indicating an increase in computational speed and model learning rate.  \n",
    "If the plots reach an acceptable accuracy very quickly and no improvement is observed with increasing epochs, it indicates the need for further hyperparameter tuning.  "
   ]
  },
  {
   "cell_type": "markdown",
   "id": "ce2db65e6124263a",
   "metadata": {},
   "source": [
    "#### Series C Plots          \n",
    "L2 = 0.01, lr = 0.01, Dropout values of 0.30 and 0.50, and batch size = 32.  \n",
    "\n",
    "We have compared them with the scenarios where L2 = 0.001. Pay close attention to the plots to fully understand the differences. The first plot corresponds to Dropout = 0.30. Sure, let’s focus on the accuracy graph."
   ]
  },
  {
   "cell_type": "markdown",
   "id": "633e15f582c9eb9f",
   "metadata": {},
   "source": [
    "The second comparison we want to see below is where batch_size=32 and Dropout=0.50, with only different L2 values. We want to compare plots A4.32 with C2.32, where we have chosen a larger L2 value for C2.32. Pay close attention.   \n",
    "\n",
    "When we increased the L2 value, overfitting no longer occurred, and now we’re seeing underfitting. If the L2 regularization value is too high, it may reduce the model’s performance and cause underfitting. Especially in this example where Dropout=0.50, this high L2 value further exacerbated the issue and led to underfitting.   "
   ]
  },
  {
   "cell_type": "markdown",
   "id": "12b1a17eacdeab95",
   "metadata": {},
   "source": [
    "#### Final test   \n",
    "After the Train Phase, it’s time for final testing to evaluate the model’s performance on unseen test data. First, we need to save the model. Since I used colab.research.google for model development, I’ll choose a path for saving the model accordingly. For example:"
   ]
  },
  {
   "cell_type": "code",
   "execution_count": null,
   "id": "7d138bca2d3d6d28",
   "metadata": {
    "collapsed": false,
    "jupyter": {
     "outputs_hidden": false
    }
   },
   "outputs": [],
   "source": [
    "# Define the path to save the model\n",
    "model_path = \"/content/drive/MyDrive/Colab Notebooks/trained_model.h5\"\n",
    "\n",
    "# Save the trained model\n",
    "model.save(model_path)\n",
    "\n",
    "print(\"Model saved at:\", model_path)"
   ]
  },
  {
   "cell_type": "code",
   "execution_count": null,
   "id": "e3ba094005cf7d31",
   "metadata": {
    "collapsed": false,
    "jupyter": {
     "outputs_hidden": false
    }
   },
   "outputs": [],
   "source": [
    "# Load the trained model\n",
    "New_model = tf.keras.models.load_model(\"/content/drive/MyDrive/Colab Notebooks/trained_model.h5\")"
   ]
  },
  {
   "cell_type": "code",
   "execution_count": null,
   "id": "af1dea17ee17306f",
   "metadata": {
    "collapsed": false,
    "jupyter": {
     "outputs_hidden": false
    }
   },
   "outputs": [],
   "source": [
    "predictions = New_model.predict([X_test])\n",
    "print(predictions)"
   ]
  },
  {
   "cell_type": "code",
   "execution_count": null,
   "id": "ef495f2df265897e",
   "metadata": {
    "collapsed": false,
    "jupyter": {
     "outputs_hidden": false
    }
   },
   "outputs": [],
   "source": [
    "print(np.argmax(predictions[1]))"
   ]
  },
  {
   "cell_type": "code",
   "execution_count": null,
   "id": "da0382ab8453309d",
   "metadata": {
    "collapsed": false,
    "jupyter": {
     "outputs_hidden": false
    }
   },
   "outputs": [],
   "source": [
    "plt.imshow(X_test[1])\n",
    "plt.show()"
   ]
  },
  {
   "cell_type": "markdown",
   "id": "e967ed34a690d599",
   "metadata": {},
   "source": [
    "#### Conclusion   \n",
    "We constructed a model using CNN with the MNIST dataset.  \n",
    "We became familiar with the process of building the model and its various stages.  \n",
    "1. The validation accuracy percentage of different models may not differ significantly, but their performance with the test data can vary greatly.  \n",
    "2. By adjusting parameters, we can reduce the time and amount of computations.  \n",
    "3. The number of epochs for learning differs between two different models and the goal of examining and plotting comparative graphs was to understand the importance of hyperparameters and to identify overfitting or underfitting by analyzing different graphs with different parameters.  \n",
    "4. Overfitting may always exist in the model, and addressing this issue can lead to differences in performance.  \n",
    "5. Very important parameters such as L2 regularization and Dropout can greatly affect the performance and accuracy of the model, and even slight changes in each can have very negative or positive consequences.  \n",
    "6. Building a model requires practice and precision.     \n",
    "7. After going through these steps nearly 20 times with different hyperparameter settings and adding or subtracting new patterns, we reached a result close to the desired one mentioned at the end.  "
   ]
  },
  {
   "cell_type": "markdown",
   "id": "c8ad8e635ebf2381",
   "metadata": {},
   "source": [
    "Two main problems in achieving convergence in deep models are gradient explosion and vanishing gradients,   \n",
    "which occur when gradients become very large or very small, respectively.     \n",
    "If the data is not normalised, convergence problems may arise,     \n",
    "resulting in the model converging slowly or not converging at all.  \n",
    "\n",
    "#### Some normalization methods    \n",
    "1. Pixel-wise normalization. Each pixel of the image is normalized based on the mean and variance of similar pixels in the dataset.    \n",
    "2. Local Contrast normalization. Useful for images with local brightness variations, where each region of the image is normalized relative to similar regions in all data.  \n",
    "3. Robust Scaling. Uses the median and interquartile range of the data for scaling, making it robust against outliers.   \n",
    "4. Unit Vector Scaling. Each row of the data is normalized in such a way that the sum of squares of its values equals one.  "
   ]
  }
 ],
 "metadata": {
  "kernelspec": {
   "display_name": "Python 3 (ipykernel)",
   "language": "python",
   "name": "python3"
  },
  "language_info": {
   "codemirror_mode": {
    "name": "ipython",
    "version": 3
   },
   "file_extension": ".py",
   "mimetype": "text/x-python",
   "name": "python",
   "nbconvert_exporter": "python",
   "pygments_lexer": "ipython3",
   "version": "3.11.5"
  }
 },
 "nbformat": 4,
 "nbformat_minor": 5
}
