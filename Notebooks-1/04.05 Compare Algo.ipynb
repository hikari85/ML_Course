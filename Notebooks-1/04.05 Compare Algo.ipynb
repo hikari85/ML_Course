{
 "cells": [
  {
   "cell_type": "markdown",
   "id": "94ff0eea-b6d1-49f6-aab0-1f1419b588e4",
   "metadata": {},
   "source": [
    "### Hello World of Machine Learning - classification of iris flowers  \n",
    "*Dr. Fisher's Iris data set* is a multivariate data set introduced by the British statistician and biologist Ronald Fisher in his 1936 paper.   \n",
    "\n",
    "1. Attributes are numeric.\n",
    "2. Small datset, easily fits into memory.  \n",
    "    - 150 samples\n",
    "    - 3 labels: species of Iris (Iris setosa, Iris virginica and Iris versicolor)\n",
    "    - 4 features: Sepal length, Sepal width, Petal length, Petal Width in cm \n",
    "3. All of the numeric attributes are in the same units and the same scale, not requiring any special scaling or transforms to get started.\n",
    "4. It is a classification problem, an easier type of supervised learning algorithm.\n",
    "5. It is a multi-class classification problem (multi-nominal) that may require some specialized handling.\n"
   ]
  },
  {
   "cell_type": "code",
   "execution_count": 1,
   "id": "caa9a0bd-8379-4a2e-8f11-a6b91cae84b3",
   "metadata": {
    "ExecuteTime": {
     "end_time": "2024-02-10T05:12:52.015237500Z",
     "start_time": "2024-02-10T05:12:51.900916200Z"
    }
   },
   "outputs": [],
   "source": [
    "import pandas as pd\n",
    "from random import randint\n",
    "\n",
    "from sklearn.model_selection import train_test_split  \n",
    "from sklearn.metrics import accuracy_score\n",
    "from sklearn.metrics import classification_report\n",
    "from sklearn.metrics import confusion_matrix\n",
    "\n",
    "import warnings\n",
    "warnings.simplefilter(\"ignore\")"
   ]
  },
  {
   "cell_type": "markdown",
   "id": "f5eb81a4-0590-4daa-ac22-665654447fd6",
   "metadata": {},
   "source": [
    "#### Load dataset"
   ]
  },
  {
   "cell_type": "code",
   "execution_count": 2,
   "id": "e310dc0f-2240-486f-a6eb-7e2897eae4ea",
   "metadata": {
    "ExecuteTime": {
     "end_time": "2024-02-10T05:12:52.098375500Z",
     "start_time": "2024-02-10T05:12:52.058009700Z"
    }
   },
   "outputs": [
    {
     "data": {
      "text/html": [
       "<div>\n",
       "<style scoped>\n",
       "    .dataframe tbody tr th:only-of-type {\n",
       "        vertical-align: middle;\n",
       "    }\n",
       "\n",
       "    .dataframe tbody tr th {\n",
       "        vertical-align: top;\n",
       "    }\n",
       "\n",
       "    .dataframe thead th {\n",
       "        text-align: right;\n",
       "    }\n",
       "</style>\n",
       "<table border=\"1\" class=\"dataframe\">\n",
       "  <thead>\n",
       "    <tr style=\"text-align: right;\">\n",
       "      <th></th>\n",
       "      <th>sepal_length</th>\n",
       "      <th>sepal_width</th>\n",
       "      <th>petal_length</th>\n",
       "      <th>petal_width</th>\n",
       "      <th>species</th>\n",
       "    </tr>\n",
       "  </thead>\n",
       "  <tbody>\n",
       "    <tr>\n",
       "      <th>83</th>\n",
       "      <td>6.0</td>\n",
       "      <td>2.7</td>\n",
       "      <td>5.1</td>\n",
       "      <td>1.6</td>\n",
       "      <td>Iris-versicolor</td>\n",
       "    </tr>\n",
       "    <tr>\n",
       "      <th>93</th>\n",
       "      <td>5.0</td>\n",
       "      <td>2.3</td>\n",
       "      <td>3.3</td>\n",
       "      <td>1.0</td>\n",
       "      <td>Iris-versicolor</td>\n",
       "    </tr>\n",
       "    <tr>\n",
       "      <th>65</th>\n",
       "      <td>6.7</td>\n",
       "      <td>3.1</td>\n",
       "      <td>4.4</td>\n",
       "      <td>1.4</td>\n",
       "      <td>Iris-versicolor</td>\n",
       "    </tr>\n",
       "    <tr>\n",
       "      <th>118</th>\n",
       "      <td>7.7</td>\n",
       "      <td>2.6</td>\n",
       "      <td>6.9</td>\n",
       "      <td>2.3</td>\n",
       "      <td>Iris-virginica</td>\n",
       "    </tr>\n",
       "    <tr>\n",
       "      <th>32</th>\n",
       "      <td>5.2</td>\n",
       "      <td>4.1</td>\n",
       "      <td>1.5</td>\n",
       "      <td>0.1</td>\n",
       "      <td>Iris-setosa</td>\n",
       "    </tr>\n",
       "    <tr>\n",
       "      <th>51</th>\n",
       "      <td>6.4</td>\n",
       "      <td>3.2</td>\n",
       "      <td>4.5</td>\n",
       "      <td>1.5</td>\n",
       "      <td>Iris-versicolor</td>\n",
       "    </tr>\n",
       "  </tbody>\n",
       "</table>\n",
       "</div>"
      ],
      "text/plain": [
       "     sepal_length  sepal_width  petal_length  petal_width          species\n",
       "83            6.0          2.7           5.1          1.6  Iris-versicolor\n",
       "93            5.0          2.3           3.3          1.0  Iris-versicolor\n",
       "65            6.7          3.1           4.4          1.4  Iris-versicolor\n",
       "118           7.7          2.6           6.9          2.3   Iris-virginica\n",
       "32            5.2          4.1           1.5          0.1      Iris-setosa\n",
       "51            6.4          3.2           4.5          1.5  Iris-versicolor"
      ]
     },
     "execution_count": 2,
     "metadata": {},
     "output_type": "execute_result"
    }
   ],
   "source": [
    "# url = \"https://raw.githubusercontent.com/jbrownlee/Datasets/master/iris.csv\"\n",
    "dataset = pd.read_csv('../Data/iris_data.csv')\n",
    "\n",
    "dataset.sample(6)"
   ]
  },
  {
   "cell_type": "markdown",
   "id": "ddd0c7e6-201c-426b-ae09-144013f678eb",
   "metadata": {},
   "source": [
    "#### Make training set  \n",
    "Split the dataset into two,   \n",
    "80% of which we will use to train, evaluate and select among our models,  \n",
    "and 20% that we will hold back as a validation dataset.  \n",
    "sk-learn has a method to split the dataset to tranining and test tests.   "
   ]
  },
  {
   "cell_type": "code",
   "execution_count": 3,
   "id": "636b1543-a0a1-48b1-a1ee-19a308aa04ce",
   "metadata": {
    "ExecuteTime": {
     "end_time": "2024-02-10T05:12:52.113106600Z",
     "start_time": "2024-02-10T05:12:52.076693500Z"
    }
   },
   "outputs": [],
   "source": [
    "array = dataset.values\n",
    "X = array[:,0:4]\n",
    "y = array[:,4]\n",
    "X_train, X_validation, Y_train, Y_validation = train_test_split(X, y, test_size=0.20, random_state=1)"
   ]
  },
  {
   "cell_type": "markdown",
   "id": "2a664175-dd8e-4262-9899-194b3006c53a",
   "metadata": {},
   "source": [
    "The above is equal to the following code   \n",
    "- use sample with frac=1 to shuffle the dataframe\n",
    "- reset the indices since they change after shuffling the dataframe  \n",
    "- select top 120 rows for training and  \n",
    "- bottom 30 rows for testing/validation"
   ]
  },
  {
   "cell_type": "code",
   "execution_count": 4,
   "id": "a785b3e964b48e45",
   "metadata": {
    "ExecuteTime": {
     "end_time": "2024-02-10T05:12:52.251970600Z",
     "start_time": "2024-02-10T05:12:52.123041500Z"
    },
    "collapsed": false,
    "jupyter": {
     "outputs_hidden": false
    }
   },
   "outputs": [],
   "source": [
    "df = pd.read_csv('../Data/iris_data.csv')\n",
    "df = df.sample(frac=1).reset_index(drop=True)\n",
    "\n",
    "df_train = df.head(120)\n",
    "df_test = df.tail(30)\n",
    "\n",
    "X_train_ = df_train.iloc[: , :4].values.tolist()    \n",
    "X_validation_ = df_test.iloc[: , :4].values.tolist()    \n",
    "Y_train_ = df_train.iloc[: , -1:].values.tolist()   \n",
    "Y_validation_ = df_test.iloc[: , -1:].values.tolist()"
   ]
  },
  {
   "cell_type": "code",
   "execution_count": 5,
   "id": "f7678cebf9f99188",
   "metadata": {
    "ExecuteTime": {
     "end_time": "2024-02-10T05:12:52.320699200Z",
     "start_time": "2024-02-10T05:12:52.268906600Z"
    },
    "collapsed": false,
    "jupyter": {
     "outputs_hidden": false
    }
   },
   "outputs": [
    {
     "name": "stdout",
     "output_type": "stream",
     "text": [
      "\n",
      "Train and validation sets using sci-kit learn: 120 30 120 30 \n",
      "Train and validation sets using Python code:   120 30 120 30 "
     ]
    }
   ],
   "source": [
    "print(\"\\nTrain and validation sets using sci-kit learn:\", end = ' ')\n",
    "for sample in [X_train, X_validation, Y_train, Y_validation]:\n",
    "    print(f\"{len(sample)}\", end = ' ')\n",
    "    \n",
    "print(\"\\nTrain and validation sets using Python code:  \", end = ' ')\n",
    "for sample in [X_train_, X_validation_, Y_train_, Y_validation_]:\n",
    "    print(f\"{len(sample)}\", end = ' ')    "
   ]
  },
  {
   "cell_type": "markdown",
   "id": "ba2ec4e3-9d02-4e75-a8f0-59c03ad9d603",
   "metadata": {},
   "source": [
    "#### Build Model   \n",
    "Create a model object  "
   ]
  },
  {
   "cell_type": "code",
   "execution_count": 6,
   "id": "d890e1b4-3567-460a-9031-48d33b1acfa5",
   "metadata": {
    "ExecuteTime": {
     "end_time": "2024-02-10T05:12:52.321814100Z",
     "start_time": "2024-02-10T05:12:52.277709900Z"
    }
   },
   "outputs": [],
   "source": [
    "from sklearn import tree\n",
    "tree_classifier = tree.DecisionTreeClassifier()"
   ]
  },
  {
   "cell_type": "markdown",
   "id": "2381c0a6-8208-4365-99b6-9c19ad138481",
   "metadata": {},
   "source": [
    "#### Train the model  \n",
    "`fit()` method trains the model  \n",
    "The model can now be used to predict target values for new inputs  \n",
    "The model can be saved for later use/distribution    "
   ]
  },
  {
   "cell_type": "markdown",
   "id": "947df9af37ff16e3",
   "metadata": {},
   "source": []
  },
  {
   "cell_type": "code",
   "execution_count": 7,
   "id": "9f32f0e2-a8c9-4f95-b1aa-7a38e60ac1c6",
   "metadata": {
    "ExecuteTime": {
     "end_time": "2024-02-10T05:12:52.332695800Z",
     "start_time": "2024-02-10T05:12:52.286053400Z"
    }
   },
   "outputs": [
    {
     "data": {
      "text/html": [
       "<style>#sk-container-id-1 {color: black;background-color: white;}#sk-container-id-1 pre{padding: 0;}#sk-container-id-1 div.sk-toggleable {background-color: white;}#sk-container-id-1 label.sk-toggleable__label {cursor: pointer;display: block;width: 100%;margin-bottom: 0;padding: 0.3em;box-sizing: border-box;text-align: center;}#sk-container-id-1 label.sk-toggleable__label-arrow:before {content: \"▸\";float: left;margin-right: 0.25em;color: #696969;}#sk-container-id-1 label.sk-toggleable__label-arrow:hover:before {color: black;}#sk-container-id-1 div.sk-estimator:hover label.sk-toggleable__label-arrow:before {color: black;}#sk-container-id-1 div.sk-toggleable__content {max-height: 0;max-width: 0;overflow: hidden;text-align: left;background-color: #f0f8ff;}#sk-container-id-1 div.sk-toggleable__content pre {margin: 0.2em;color: black;border-radius: 0.25em;background-color: #f0f8ff;}#sk-container-id-1 input.sk-toggleable__control:checked~div.sk-toggleable__content {max-height: 200px;max-width: 100%;overflow: auto;}#sk-container-id-1 input.sk-toggleable__control:checked~label.sk-toggleable__label-arrow:before {content: \"▾\";}#sk-container-id-1 div.sk-estimator input.sk-toggleable__control:checked~label.sk-toggleable__label {background-color: #d4ebff;}#sk-container-id-1 div.sk-label input.sk-toggleable__control:checked~label.sk-toggleable__label {background-color: #d4ebff;}#sk-container-id-1 input.sk-hidden--visually {border: 0;clip: rect(1px 1px 1px 1px);clip: rect(1px, 1px, 1px, 1px);height: 1px;margin: -1px;overflow: hidden;padding: 0;position: absolute;width: 1px;}#sk-container-id-1 div.sk-estimator {font-family: monospace;background-color: #f0f8ff;border: 1px dotted black;border-radius: 0.25em;box-sizing: border-box;margin-bottom: 0.5em;}#sk-container-id-1 div.sk-estimator:hover {background-color: #d4ebff;}#sk-container-id-1 div.sk-parallel-item::after {content: \"\";width: 100%;border-bottom: 1px solid gray;flex-grow: 1;}#sk-container-id-1 div.sk-label:hover label.sk-toggleable__label {background-color: #d4ebff;}#sk-container-id-1 div.sk-serial::before {content: \"\";position: absolute;border-left: 1px solid gray;box-sizing: border-box;top: 0;bottom: 0;left: 50%;z-index: 0;}#sk-container-id-1 div.sk-serial {display: flex;flex-direction: column;align-items: center;background-color: white;padding-right: 0.2em;padding-left: 0.2em;position: relative;}#sk-container-id-1 div.sk-item {position: relative;z-index: 1;}#sk-container-id-1 div.sk-parallel {display: flex;align-items: stretch;justify-content: center;background-color: white;position: relative;}#sk-container-id-1 div.sk-item::before, #sk-container-id-1 div.sk-parallel-item::before {content: \"\";position: absolute;border-left: 1px solid gray;box-sizing: border-box;top: 0;bottom: 0;left: 50%;z-index: -1;}#sk-container-id-1 div.sk-parallel-item {display: flex;flex-direction: column;z-index: 1;position: relative;background-color: white;}#sk-container-id-1 div.sk-parallel-item:first-child::after {align-self: flex-end;width: 50%;}#sk-container-id-1 div.sk-parallel-item:last-child::after {align-self: flex-start;width: 50%;}#sk-container-id-1 div.sk-parallel-item:only-child::after {width: 0;}#sk-container-id-1 div.sk-dashed-wrapped {border: 1px dashed gray;margin: 0 0.4em 0.5em 0.4em;box-sizing: border-box;padding-bottom: 0.4em;background-color: white;}#sk-container-id-1 div.sk-label label {font-family: monospace;font-weight: bold;display: inline-block;line-height: 1.2em;}#sk-container-id-1 div.sk-label-container {text-align: center;}#sk-container-id-1 div.sk-container {/* jupyter's `normalize.less` sets `[hidden] { display: none; }` but bootstrap.min.css set `[hidden] { display: none !important; }` so we also need the `!important` here to be able to override the default hidden behavior on the sphinx rendered scikit-learn.org. See: https://github.com/scikit-learn/scikit-learn/issues/21755 */display: inline-block !important;position: relative;}#sk-container-id-1 div.sk-text-repr-fallback {display: none;}</style><div id=\"sk-container-id-1\" class=\"sk-top-container\"><div class=\"sk-text-repr-fallback\"><pre>DecisionTreeClassifier()</pre><b>In a Jupyter environment, please rerun this cell to show the HTML representation or trust the notebook. <br />On GitHub, the HTML representation is unable to render, please try loading this page with nbviewer.org.</b></div><div class=\"sk-container\" hidden><div class=\"sk-item\"><div class=\"sk-estimator sk-toggleable\"><input class=\"sk-toggleable__control sk-hidden--visually\" id=\"sk-estimator-id-1\" type=\"checkbox\" checked><label for=\"sk-estimator-id-1\" class=\"sk-toggleable__label sk-toggleable__label-arrow\">DecisionTreeClassifier</label><div class=\"sk-toggleable__content\"><pre>DecisionTreeClassifier()</pre></div></div></div></div></div>"
      ],
      "text/plain": [
       "DecisionTreeClassifier()"
      ]
     },
     "execution_count": 7,
     "metadata": {},
     "output_type": "execute_result"
    }
   ],
   "source": [
    "tree_classifier.fit(X_train,Y_train)"
   ]
  },
  {
   "cell_type": "markdown",
   "id": "2393c8a3-5248-464a-9430-80d7025c8ce3",
   "metadata": {},
   "source": [
    "#### Make Predictions   \n",
    "Predict target value for random row from test set.     \n",
    "<u>Note</u>: the test was not exposed to the model while training.  "
   ]
  },
  {
   "cell_type": "code",
   "execution_count": 17,
   "id": "cb6f725e-d8f4-469f-94de-47a0eb9bc955",
   "metadata": {
    "ExecuteTime": {
     "end_time": "2024-02-10T05:12:52.361173400Z",
     "start_time": "2024-02-10T05:12:52.338685100Z"
    }
   },
   "outputs": [
    {
     "name": "stdout",
     "output_type": "stream",
     "text": [
      "Sample Data:      [[5.8 2.6 4.0 1.2]]\n",
      "Real Target:      ['Iris-versicolor']\n",
      "Predicted Target: ['Iris-versicolor']\n"
     ]
    }
   ],
   "source": [
    "row = randint(2,30)\n",
    "print(f'Sample Data:      {X_validation[row:row+1]}')\n",
    "print(f'Real Target:      {Y_validation[row:row+1]}')\n",
    "result = tree_classifier.predict(X_validation[row:row+1])\n",
    "print(f'Predicted Target: {result}')"
   ]
  },
  {
   "cell_type": "markdown",
   "id": "ce82cd8a-44bc-4dbf-9722-a2171bb70ed6",
   "metadata": {},
   "source": [
    "#### Check Accuracy   \n",
    "Accuracy is checked by comparing the predictions for each value of X_validation set  \n",
    "with the tagged values (Y_validation) for the X_validation set.  "
   ]
  },
  {
   "cell_type": "code",
   "execution_count": 18,
   "id": "24046930-1034-43df-a8f5-c18a9d9e6d83",
   "metadata": {
    "ExecuteTime": {
     "end_time": "2024-02-10T05:12:52.433824700Z",
     "start_time": "2024-02-10T05:12:52.367119600Z"
    }
   },
   "outputs": [
    {
     "name": "stdout",
     "output_type": "stream",
     "text": [
      "Prediction Accuracy: 0.97\n"
     ]
    }
   ],
   "source": [
    "predictions = tree_classifier.predict(X_validation)\n",
    "print(f\"Prediction Accuracy: {accuracy_score(Y_validation, predictions):.2}\")"
   ]
  },
  {
   "cell_type": "code",
   "execution_count": 19,
   "id": "8ac2635c-da05-4ace-b829-fd1565e19a06",
   "metadata": {
    "ExecuteTime": {
     "end_time": "2024-02-10T05:12:52.482788Z",
     "start_time": "2024-02-10T05:12:52.471725Z"
    }
   },
   "outputs": [
    {
     "name": "stdout",
     "output_type": "stream",
     "text": [
      "Iris-setosa      Iris-setosa      1\n",
      "Iris-versicolor  Iris-versicolor  1\n",
      "Iris-versicolor  Iris-versicolor  1\n",
      "Iris-setosa      Iris-setosa      1\n",
      "Iris-virginica   Iris-virginica   1\n",
      "Iris-versicolor  Iris-versicolor  1\n",
      "Iris-virginica   Iris-virginica   1\n",
      "Iris-setosa      Iris-setosa      1\n",
      "Iris-setosa      Iris-setosa      1\n",
      "Iris-virginica   Iris-virginica   1\n",
      "Iris-versicolor  Iris-versicolor  1\n",
      "Iris-setosa      Iris-setosa      1\n",
      "Iris-virginica   Iris-virginica   1\n",
      "Iris-versicolor  Iris-versicolor  1\n",
      "Iris-versicolor  Iris-versicolor  1\n",
      "Iris-setosa      Iris-setosa      1\n",
      "Iris-versicolor  Iris-versicolor  1\n",
      "Iris-versicolor  Iris-versicolor  1\n",
      "Iris-setosa      Iris-setosa      1\n",
      "Iris-setosa      Iris-setosa      1\n",
      "Iris-versicolor  Iris-versicolor  1\n",
      "Iris-versicolor  Iris-versicolor  1\n",
      "Iris-virginica   Iris-versicolor  0\n",
      "Iris-setosa      Iris-setosa      1\n",
      "Iris-virginica   Iris-virginica   1\n",
      "Iris-versicolor  Iris-versicolor  1\n",
      "Iris-setosa      Iris-setosa      1\n",
      "Iris-setosa      Iris-setosa      1\n",
      "Iris-versicolor  Iris-versicolor  1\n",
      "Iris-virginica   Iris-virginica   1\n"
     ]
    }
   ],
   "source": [
    "results = (zip(predictions, Y_validation))\n",
    "for result in results:\n",
    "    p, t = result[0], result[1]\n",
    "    print(f\"{p:17}{t:17}{1 if p==t else 0}\")"
   ]
  },
  {
   "cell_type": "markdown",
   "id": "5ec0f652-2c13-43e8-b810-14b9ca37cfbc",
   "metadata": {},
   "source": [
    "#### Evaluate predictions"
   ]
  },
  {
   "cell_type": "code",
   "execution_count": 20,
   "id": "57dada19-d448-43c1-acc7-4a0fc5371f6b",
   "metadata": {
    "ExecuteTime": {
     "end_time": "2024-02-10T05:12:52.522138100Z",
     "start_time": "2024-02-10T05:12:52.487779800Z"
    }
   },
   "outputs": [
    {
     "name": "stdout",
     "output_type": "stream",
     "text": [
      "\n",
      "Accuracy Score: 0.97\n",
      "\n",
      "Actual flower types: Counter({'Iris-versicolor': 13, 'Iris-setosa': 11, 'Iris-virginica': 6})\n",
      "\n",
      "Confusion Matrix:\n",
      "            setosa  versicolor  virginica\n",
      "setosa          11           0          0\n",
      "versicolor       0          12          1\n",
      "virginica        0           0          6\n",
      "\n",
      "Classification Report:\n",
      "                 precision    recall  f1-score   support\n",
      "\n",
      "    Iris-setosa       1.00      1.00      1.00        11\n",
      "Iris-versicolor       1.00      0.92      0.96        13\n",
      " Iris-virginica       0.86      1.00      0.92         6\n",
      "\n",
      "       accuracy                           0.97        30\n",
      "      macro avg       0.95      0.97      0.96        30\n",
      "   weighted avg       0.97      0.97      0.97        30\n",
      "\n"
     ]
    }
   ],
   "source": [
    "from collections import Counter\n",
    "\n",
    "print(f\"\\nAccuracy Score: {accuracy_score(Y_validation, predictions):.2}\\n\")\n",
    "print(f\"Actual flower types: {Counter(Y_validation)}\\n\")\n",
    "print(\"Confusion Matrix:\")\n",
    "df = pd.DataFrame(confusion_matrix(Y_validation, predictions), \n",
    "                  index=['setosa','versicolor','virginica'], \n",
    "                  columns=['setosa','versicolor','virginica'])\n",
    "print(df); print()\n",
    "print(\"Classification Report:\")\n",
    "print(classification_report(Y_validation, predictions))"
   ]
  },
  {
   "cell_type": "markdown",
   "id": "e88090f7-22e0-4d21-b11f-ab1ddf23030e",
   "metadata": {},
   "source": [
    "---\n",
    "### Predict with 6 different algorithms:  \n",
    "\n",
    "Logistic Regression (LR)  \n",
    "Linear Discriminant Analysis (LDA)  \n",
    "K-Nearest Neighbors (KNN).  \n",
    "Classification and Regression Trees (CART).  \n",
    "Gaussian Naive Bayes (NB).  \n",
    "Support Vector Machines (SVM).  "
   ]
  },
  {
   "cell_type": "code",
   "execution_count": 22,
   "id": "22aab8a9-4543-4367-8adb-f3869b60d0ff",
   "metadata": {
    "ExecuteTime": {
     "end_time": "2024-02-10T05:12:52.527496800Z",
     "start_time": "2024-02-10T05:12:52.508177300Z"
    }
   },
   "outputs": [],
   "source": [
    "from sklearn.linear_model import LogisticRegression\n",
    "from sklearn.tree import DecisionTreeClassifier\n",
    "from sklearn.neighbors import KNeighborsClassifier\n",
    "from sklearn.discriminant_analysis import LinearDiscriminantAnalysis\n",
    "from sklearn.naive_bayes import GaussianNB\n",
    "from sklearn.svm import SVC  \n",
    "\n",
    "from sklearn.model_selection import cross_val_score\n",
    "from sklearn.model_selection import StratifiedKFold"
   ]
  },
  {
   "cell_type": "raw",
   "id": "6680432e-fefb-445f-88f5-24e631249120",
   "metadata": {
    "ExecuteTime": {
     "end_time": "2024-02-10T05:12:52.761386100Z",
     "start_time": "2024-02-10T05:12:52.533477600Z"
    }
   },
   "source": [
    "# Spot Check Algorithms\n",
    "models = []\n",
    "models.append(('LR', LogisticRegression(solver='liblinear', multi_class='ovr')))\n",
    "models.append(('LDA', LinearDiscriminantAnalysis()))\n",
    "models.append(('KNN', KNeighborsClassifier()))\n",
    "models.append(('CART', DecisionTreeClassifier()))\n",
    "models.append(('NB', GaussianNB()))\n",
    "models.append(('SVM', SVC(gamma='auto')))\n",
    "\n",
    "# evaluate each model in turn\n",
    "results = []\n",
    "names = []\n",
    "print(\"Model  Acuracy  Std\")\n",
    "for name, model in models:\n",
    "    kfold = StratifiedKFold(n_splits=10, random_state=1, shuffle=True)\n",
    "    cv_results = cross_val_score(model, X_train, Y_train, cv=kfold, scoring='accuracy')\n",
    "    results.append(cv_results)\n",
    "    names.append(name)\n",
    " "
   ]
  },
  {
   "cell_type": "code",
   "execution_count": 14,
   "id": "8b3b208c-b660-4411-b894-c4d711b68d1b",
   "metadata": {
    "ExecuteTime": {
     "end_time": "2024-02-10T05:12:53.078736Z",
     "start_time": "2024-02-10T05:12:52.756399200Z"
    },
    "tags": []
   },
   "outputs": [
    {
     "data": {
      "text/plain": [
       "Text(0.5, 1.0, 'Algorithm Comparison')"
      ]
     },
     "execution_count": 14,
     "metadata": {},
     "output_type": "execute_result"
    },
    {
     "data": {
      "image/png": "[encoded data removed]",
      "text/plain": [
       "<Figure size 640x480 with 1 Axes>"
      ]
     },
     "metadata": {},
     "output_type": "display_data"
    }
   ],
   "source": [
    "# Compare Algorithms\n",
    "\n",
    "import matplotlib.pyplot as plt\n",
    "\n",
    "plt.boxplot(results, labels=names)\n",
    "plt.title('Algorithm Comparison')"
   ]
  }
 ],
 "metadata": {
  "kernelspec": {
   "display_name": "Python 3 (ipykernel)",
   "language": "python",
   "name": "python3"
  },
  "language_info": {
   "codemirror_mode": {
    "name": "ipython",
    "version": 3
   },
   "file_extension": ".py",
   "mimetype": "text/x-python",
   "name": "python",
   "nbconvert_exporter": "python",
   "pygments_lexer": "ipython3",
   "version": "3.11.5"
  }
 },
 "nbformat": 4,
 "nbformat_minor": 5
}
