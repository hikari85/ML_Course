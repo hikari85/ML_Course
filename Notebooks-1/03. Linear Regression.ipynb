{
 "cells": [
  {
   "cell_type": "markdown",
   "id": "ebd7fd32067da1b2",
   "metadata": {},
   "source": [
    "#### Linear Regression  "
   ]
  },
  {
   "cell_type": "markdown",
   "id": "f17e2c28861eee4b",
   "metadata": {},
   "source": [
    "CO3: Determine the relationship between dependent and independent variables encountered in specific domains using simple linear regression and its error metrics (MSE, MAE, RMSE)\t\t\t6Hours \n",
    "\n",
    "Objective:    \n",
    "1. simple linear regression, \n",
    "2. loss functions, \n",
    "3. gradient descent, \n",
    "4. mean squared error, \n",
    "5. mean absolute error, \n",
    "6. root mean squared error."
   ]
  },
  {
   "cell_type": "markdown",
   "id": "ed13f14ac79ed415",
   "metadata": {},
   "source": [
    "**Regression** is a statistical tool to test and quantify relationships between variables. The two most common regressions are linear and logistic regressions.   \n",
    "##### linear regression   \n",
    "is used when the dependent variable is quantitative,   \n",
    "**descrete** values are countable and have a finite number of possibilities, often integers.    \n",
    "**continuous** values are not countable and have an infinite number of possibilities, usually with decimals, or at least decimals are technically possible.\n",
    "\n",
    "##### logistic regression     \n",
    "is used when the dependent variable is qualitative, known as categorical, is not numerical and its values fit into categories.  \n",
    "**nominal**: no ordering is possible or implied in the categories   \n",
    "**ordinal**: an order is implied in the categories.       \n",
    "\n",
    "A **binary variable**, also known as dichotomous, is a special case of qualitative nominal variable when there are only two categories.\n"
   ]
  }
 ],
 "metadata": {
  "kernelspec": {
   "display_name": "Python 3 (ipykernel)",
   "language": "python",
   "name": "python3"
  },
  "language_info": {
   "codemirror_mode": {
    "name": "ipython",
    "version": 3
   },
   "file_extension": ".py",
   "mimetype": "text/x-python",
   "name": "python",
   "nbconvert_exporter": "python",
   "pygments_lexer": "ipython3",
   "version": "3.11.5"
  }
 },
 "nbformat": 4,
 "nbformat_minor": 5
}
