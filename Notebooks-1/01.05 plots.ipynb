{
 "cells": [
  {
   "cell_type": "markdown",
   "id": "93ab24d0125a4dc7",
   "metadata": {},
   "source": [
    "#### Visualisation in ML   "
   ]
  },
  {
   "cell_type": "raw",
   "id": "f12f1102b3c12592",
   "metadata": {},
   "source": [
    "pt.RainCloud(x = dx, y = dy, data = df, palette = pal, bw = sigma,   \n",
    "                 width_viol = .6, ax = ax, orient = ort)    \n",
    "https://github.com/pog87/PtitPrince/blob/master/tutorial_python/raincloud_tutorial_python.ipynb                     "
   ]
  },
  {
   "cell_type": "code",
   "execution_count": 1,
   "id": "5e94a301dac58e35",
   "metadata": {
    "ExecuteTime": {
     "end_time": "2024-02-17T00:28:17.192414100Z",
     "start_time": "2024-02-17T00:28:17.185238Z"
    },
    "collapsed": false,
    "jupyter": {
     "outputs_hidden": false
    }
   },
   "outputs": [],
   "source": [
    "import pandas as pd\n",
    "import ptitprince as pt\n",
    "import matplotlib.pyplot as plt\n",
    "import seaborn as sns\n",
    "import os"
   ]
  },
  {
   "cell_type": "markdown",
   "id": "ef6e3bcb484caa0",
   "metadata": {},
   "source": [
    "**When we generate summary statistic,  \n",
    "we lose some essential information**.   \n",
    "\n",
    "![](../Figures/box_plot may misguide.png)  \n"
   ]
  },
  {
   "cell_type": "markdown",
   "id": "ebe0cf54286ccf8c",
   "metadata": {},
   "source": [
    "![](../Figures/misleading correlatins.png)"
   ]
  },
  {
   "cell_type": "code",
   "execution_count": 2,
   "id": "662539eef796e655",
   "metadata": {
    "ExecuteTime": {
     "end_time": "2024-02-17T00:21:01.755853700Z",
     "start_time": "2024-02-17T00:20:58.213645200Z"
    },
    "collapsed": false,
    "jupyter": {
     "outputs_hidden": false
    }
   },
   "outputs": [],
   "source": []
  },
  {
   "cell_type": "code",
   "execution_count": 2,
   "id": "47f112dc1cdd677c",
   "metadata": {
    "ExecuteTime": {
     "end_time": "2024-02-17T00:29:07.730109800Z",
     "start_time": "2024-02-17T00:29:07.296286700Z"
    },
    "collapsed": false,
    "jupyter": {
     "outputs_hidden": false
    }
   },
   "outputs": [],
   "source": [
    "xls = pd.ExcelFile(\"../Data/Seven Schools.xlsx\")"
   ]
  },
  {
   "cell_type": "code",
   "execution_count": 4,
   "id": "579416707c6fe678",
   "metadata": {
    "ExecuteTime": {
     "end_time": "2024-02-17T00:32:04.931962900Z",
     "start_time": "2024-02-17T00:32:04.881718200Z"
    },
    "collapsed": false,
    "jupyter": {
     "outputs_hidden": false
    }
   },
   "outputs": [],
   "source": [
    "df = pd.read_excel('../Data/Height_Weight_Sample.xlsx')"
   ]
  },
  {
   "cell_type": "code",
   "execution_count": 5,
   "id": "cf215dd1b38521cf",
   "metadata": {
    "ExecuteTime": {
     "end_time": "2024-02-17T00:33:58.522890400Z",
     "start_time": "2024-02-17T00:33:58.494342100Z"
    },
    "collapsed": false,
    "jupyter": {
     "outputs_hidden": false
    }
   },
   "outputs": [
    {
     "data": {
      "text/html": [
       "<div>\n",
       "<style scoped>\n",
       "    .dataframe tbody tr th:only-of-type {\n",
       "        vertical-align: middle;\n",
       "    }\n",
       "\n",
       "    .dataframe tbody tr th {\n",
       "        vertical-align: top;\n",
       "    }\n",
       "\n",
       "    .dataframe thead th {\n",
       "        text-align: right;\n",
       "    }\n",
       "</style>\n",
       "<table border=\"1\" class=\"dataframe\">\n",
       "  <thead>\n",
       "    <tr style=\"text-align: right;\">\n",
       "      <th></th>\n",
       "      <th>Height_cm</th>\n",
       "      <th>Weight_Kg</th>\n",
       "      <th>Shoe_Size</th>\n",
       "      <th>Sex</th>\n",
       "    </tr>\n",
       "  </thead>\n",
       "  <tbody>\n",
       "    <tr>\n",
       "      <th>0</th>\n",
       "      <td>171</td>\n",
       "      <td>59</td>\n",
       "      <td>8</td>\n",
       "      <td>F</td>\n",
       "    </tr>\n",
       "    <tr>\n",
       "      <th>1</th>\n",
       "      <td>171</td>\n",
       "      <td>51</td>\n",
       "      <td>8</td>\n",
       "      <td>M</td>\n",
       "    </tr>\n",
       "    <tr>\n",
       "      <th>2</th>\n",
       "      <td>181</td>\n",
       "      <td>79</td>\n",
       "      <td>9</td>\n",
       "      <td>M</td>\n",
       "    </tr>\n",
       "    <tr>\n",
       "      <th>3</th>\n",
       "      <td>180</td>\n",
       "      <td>63</td>\n",
       "      <td>10</td>\n",
       "      <td>M</td>\n",
       "    </tr>\n",
       "    <tr>\n",
       "      <th>4</th>\n",
       "      <td>180</td>\n",
       "      <td>75</td>\n",
       "      <td>10</td>\n",
       "      <td>M</td>\n",
       "    </tr>\n",
       "  </tbody>\n",
       "</table>\n",
       "</div>"
      ],
      "text/plain": [
       "   Height_cm  Weight_Kg  Shoe_Size Sex\n",
       "0        171         59          8   F\n",
       "1        171         51          8   M\n",
       "2        181         79          9   M\n",
       "3        180         63         10   M\n",
       "4        180         75         10   M"
      ]
     },
     "execution_count": 5,
     "metadata": {},
     "output_type": "execute_result"
    }
   ],
   "source": [
    "df.head()"
   ]
  },
  {
   "cell_type": "code",
   "execution_count": 9,
   "id": "745722e12fa6acf0",
   "metadata": {
    "ExecuteTime": {
     "end_time": "2024-02-17T00:37:15.472899Z",
     "start_time": "2024-02-17T00:37:15.445387800Z"
    },
    "collapsed": false,
    "jupyter": {
     "outputs_hidden": false
    }
   },
   "outputs": [
    {
     "ename": "TypeError",
     "evalue": "RainCloud() got multiple values for argument 'x'",
     "output_type": "error",
     "traceback": [
      "\u001b[1;31m---------------------------------------------------------------------------\u001b[0m",
      "\u001b[1;31mTypeError\u001b[0m                                 Traceback (most recent call last)",
      "Cell \u001b[1;32mIn[9], line 1\u001b[0m\n\u001b[1;32m----> 1\u001b[0m pt\u001b[38;5;241m.\u001b[39mRainCloud(df, x\u001b[38;5;241m=\u001b[39m\u001b[38;5;124m'\u001b[39m\u001b[38;5;124mWeight_cm\u001b[39m\u001b[38;5;124m'\u001b[39m)\n",
      "\u001b[1;31mTypeError\u001b[0m: RainCloud() got multiple values for argument 'x'"
     ]
    }
   ],
   "source": [
    "pt.RainCloud(df, x='Weight_cm');"
   ]
  }
 ],
 "metadata": {
  "kernelspec": {
   "display_name": "Python 3 (ipykernel)",
   "language": "python",
   "name": "python3"
  },
  "language_info": {
   "codemirror_mode": {
    "name": "ipython",
    "version": 3
   },
   "file_extension": ".py",
   "mimetype": "text/x-python",
   "name": "python",
   "nbconvert_exporter": "python",
   "pygments_lexer": "ipython3",
   "version": "3.11.5"
  }
 },
 "nbformat": 4,
 "nbformat_minor": 5
}
