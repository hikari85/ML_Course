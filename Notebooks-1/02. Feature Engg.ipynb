{
 "cells": [
  {
   "cell_type": "markdown",
   "id": "a79eb59907e91ccc",
   "metadata": {},
   "source": [
    "#### Feature Engineering  "
   ]
  },
  {
   "cell_type": "markdown",
   "id": "c14d1804992425c9",
   "metadata": {},
   "source": [
    "CO2: Categorical encoding, scaling, feature engineering, train test split after handling null values, duplicates and outliers\t\t\t\t\t\t\t\t\t\t6 Hours\n",
    "Objective:  \n",
    "1. Data preprocessing  \n",
    "    - handling missing data,  \n",
    "    - scaling and normalization,  \n",
    "    - dealing with outliers, \n",
    "    - encoding categorical variables. \n",
    "2. Terminology: feature, sample, training set, validation set, test set, feature engineering. \n"
   ]
  },
  {
   "cell_type": "markdown",
   "id": "014708b7-89a2-44d0-95d8-6c5ed3168908",
   "metadata": {},
   "source": [
    "#### Outliers  \n",
    "Outliers are individuals that are very different from the majority of the population.  \n",
    "Traditionally, there is a certain mistrust in outliers,  \n",
    "this is why ad-hoc measures such as removing them from the dataset are often adopted.  \n",
    "\n",
    "With real data, sometimes, they are even more important than other observations.  \n",
    "High-paying customers: you don’t want to discard them, but want to treat them with extra care.   \n",
    "\n",
    "Is an ML model more likely to make mistakes when making predictions on outliers?"
   ]
  }
 ],
 "metadata": {
  "kernelspec": {
   "display_name": "Python 3 (ipykernel)",
   "language": "python",
   "name": "python3"
  },
  "language_info": {
   "codemirror_mode": {
    "name": "ipython",
    "version": 3
   },
   "file_extension": ".py",
   "mimetype": "text/x-python",
   "name": "python",
   "nbconvert_exporter": "python",
   "pygments_lexer": "ipython3",
   "version": "3.11.5"
  }
 },
 "nbformat": 4,
 "nbformat_minor": 5
}
