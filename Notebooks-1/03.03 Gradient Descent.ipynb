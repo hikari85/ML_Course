{
 "cells": [
  {
   "cell_type": "markdown",
   "id": "145b56724adde8d9",
   "metadata": {},
   "source": [
    "#### Gradient Descent   "
   ]
  },
  {
   "cell_type": "code",
   "execution_count": 1,
   "id": "4d1bf51bd2e76ccb",
   "metadata": {
    "ExecuteTime": {
     "end_time": "2024-03-03T05:01:35.012836700Z",
     "start_time": "2024-03-03T05:01:34.988366900Z"
    },
    "collapsed": false,
    "jupyter": {
     "outputs_hidden": false
    },
    "tags": []
   },
   "outputs": [],
   "source": [
    "import pandas as pd\n",
    "import numpy as np\n",
    "import matplotlib.pyplot as plt\n",
    "import seaborn as sns\n",
    "\n",
    "sns.set()"
   ]
  },
  {
   "cell_type": "code",
   "execution_count": 4,
   "id": "6ba842ea15c25f42",
   "metadata": {
    "ExecuteTime": {
     "end_time": "2024-03-03T05:02:10.447382700Z",
     "start_time": "2024-03-03T05:02:10.408698400Z"
    },
    "collapsed": false,
    "jupyter": {
     "outputs_hidden": false
    },
    "tags": []
   },
   "outputs": [],
   "source": [
    "array = pd.read_csv(\"../Data/pizzaSale.csv\").values\n",
    "X = array[:,0]\n",
    "Y = array[:,1]"
   ]
  },
  {
   "cell_type": "markdown",
   "id": "d40aa5f04355c05a",
   "metadata": {},
   "source": [
    "##### Plot the loss on a dataset with a single input variable.   \n"
   ]
  },
  {
   "cell_type": "code",
   "execution_count": 5,
   "id": "bfd6cdf912106b81",
   "metadata": {
    "ExecuteTime": {
     "end_time": "2024-03-03T05:07:21.080817500Z",
     "start_time": "2024-03-03T05:07:20.877439600Z"
    },
    "collapsed": false,
    "jupyter": {
     "outputs_hidden": false
    },
    "tags": []
   },
   "outputs": [
    {
     "data": {
      "image/png": "[encoded data removed]",
      "text/plain": [
       "<Figure size 400x300 with 1 Axes>"
      ]
     },
     "metadata": {},
     "output_type": "display_data"
    }
   ],
   "source": [
    "def predict(X, w, b):\n",
    "    return X * w + b\n",
    "\n",
    "def loss(X, Y, w, b):\n",
    "    return np.average((predict(X, w, b) - Y) ** 2)\n",
    "\n",
    "# Compute losses for w ranging from -1 to 4\n",
    "weights = np.linspace(-1.0, 4.0, 200)\n",
    "losses = [loss(X, Y, w, 0) for w in weights]\n",
    "\n",
    "plt.figure(figsize=(4,3))\n",
    "# Plot weights and losses\n",
    "plt.axis([-1, 4, 0, 1000])\n",
    "plt.xticks(fontsize=10)\n",
    "plt.yticks(fontsize=10)\n",
    "plt.xlabel(\"Weight\", fontsize=16)\n",
    "plt.ylabel(\"Loss\", fontsize=16)\n",
    "plt.plot(weights, losses, color=\"black\")\n",
    "\n",
    "# Put a cyan cross on the minimum loss\n",
    "min_index = np.argmin(losses)\n",
    "plt.plot(weights[min_index], losses[min_index], \"cX\", markersize=10);"
   ]
  },
  {
   "cell_type": "markdown",
   "id": "ef85820eaf09ec33",
   "metadata": {},
   "source": [
    "#### Gradient Discent (GD)   \n",
    "If bias $b$ = 0, the only variable in the loss function is weight $w$   \n",
    "If weight $w$ = 0, the only variable in the loss function is bias $b$   \n",
    "\n",
    "Loss (MSE)  $L = \\frac{\\sum((wx_i + b) - y_i)^2}{N} = \\frac{\\sum(\\hat{y} - y)^2}{N}$\n",
    "\n",
    "Parital derivative of loss function is similar to loss function.   \n",
    "Split a two variable problem to two one variable problems.   \n",
    "\n",
    "For weight:   \n",
    "- Each element of the sum is multiplied by $x$,    \n",
    "- the error is not squared,        \n",
    "- and the result is multiplied by 2   \n",
    "    if $f(x) = x^2$, the derivative using the Power Rule: $f'(x) = 2x$   \n",
    "\n",
    "$$\\frac{\\delta{y}}{\\delta{w}} = 2.\\frac{\\sum x_i((wx_i + b) - y_i)}{N}$$\n",
    "\n",
    "For bias:   \n",
    "- elements of the sum are **not** multiplied by any value,    \n",
    "- the error is not squared,        \n",
    "- and the result is multiplied by 2 \n",
    "\n",
    "\n",
    "$$\\frac{\\delta{y}}{\\delta{b}} = 2.\\frac{\\sum ((wx_i + b) - y_i)}{N}$$\n"
   ]
  },
  {
   "cell_type": "markdown",
   "id": "2320bf81364a3c72",
   "metadata": {},
   "source": [
    "##### Gradient descent without bias    \n",
    "works with one input-variable    "
   ]
  },
  {
   "cell_type": "code",
   "execution_count": 6,
   "id": "147b526e88591ac9",
   "metadata": {
    "ExecuteTime": {
     "end_time": "2024-03-03T08:14:20.092431700Z",
     "start_time": "2024-03-03T08:14:20.053994700Z"
    },
    "collapsed": false,
    "jupyter": {
     "outputs_hidden": false
    },
    "tags": []
   },
   "outputs": [],
   "source": [
    "def gradient_(X, Y, w):\n",
    "    return 2 * np.average(X * (predict(X, w, 0) - Y))"
   ]
  },
  {
   "cell_type": "markdown",
   "id": "3b005f41bc9d0846",
   "metadata": {},
   "source": [
    "#### GD without bias   "
   ]
  },
  {
   "cell_type": "code",
   "execution_count": 8,
   "id": "c7383f7743e42128",
   "metadata": {
    "ExecuteTime": {
     "end_time": "2024-03-03T10:07:18.241232600Z",
     "start_time": "2024-03-03T10:07:18.219972Z"
    },
    "collapsed": false,
    "jupyter": {
     "outputs_hidden": false
    },
    "tags": []
   },
   "outputs": [],
   "source": [
    "def train_w(X, Y, iterations, lr):\n",
    "    data = [] # gather result of each iteration to visualise later  \n",
    "    \n",
    "    w, b = 0, 0\n",
    "    for i in range(iterations):\n",
    "        # print(\"Iteration %4d => Loss: %.10f\" % (i, loss(X, Y, w, 0)))\n",
    "        current_loss = loss(X, Y, w, b)\n",
    "        data.append(([i, w, 0, current_loss]))\n",
    "        w -= gradient_(X, Y, w) * lr\n",
    "    return w, b, pd.DataFrame(data, columns=['Epoch', 'Weight', 'Bias', 'Loss'])"
   ]
  },
  {
   "cell_type": "code",
   "execution_count": 9,
   "id": "43090c66ad9fa4ed",
   "metadata": {
    "ExecuteTime": {
     "end_time": "2024-03-03T10:08:10.085764100Z",
     "start_time": "2024-03-03T10:08:10.037374400Z"
    },
    "collapsed": false,
    "jupyter": {
     "outputs_hidden": false
    },
    "tags": []
   },
   "outputs": [
    {
     "name": "stdout",
     "output_type": "stream",
     "text": [
      "Weight 1.843691830708558\n"
     ]
    }
   ],
   "source": [
    "\n",
    "# w, b, df  = train(X, Y, iterations=1000, lr=0.001)\n",
    "w, b, df_w = train_w(X, Y, iterations=25, lr=0.001)\n",
    "print(f\"Weight {w}\")"
   ]
  },
  {
   "cell_type": "code",
   "execution_count": 10,
   "id": "96dcefcf375a2f38",
   "metadata": {
    "ExecuteTime": {
     "end_time": "2024-03-03T10:08:19.178544900Z",
     "start_time": "2024-03-03T10:08:19.113170100Z"
    },
    "collapsed": false,
    "jupyter": {
     "outputs_hidden": false
    },
    "tags": []
   },
   "outputs": [
    {
     "data": {
      "text/html": [
       "<div>\n",
       "<style scoped>\n",
       "    .dataframe tbody tr th:only-of-type {\n",
       "        vertical-align: middle;\n",
       "    }\n",
       "\n",
       "    .dataframe tbody tr th {\n",
       "        vertical-align: top;\n",
       "    }\n",
       "\n",
       "    .dataframe thead th {\n",
       "        text-align: right;\n",
       "    }\n",
       "</style>\n",
       "<table border=\"1\" class=\"dataframe\">\n",
       "  <thead>\n",
       "    <tr style=\"text-align: right;\">\n",
       "      <th></th>\n",
       "      <th>Epoch</th>\n",
       "      <th>Weight</th>\n",
       "      <th>Bias</th>\n",
       "      <th>Loss</th>\n",
       "    </tr>\n",
       "  </thead>\n",
       "  <tbody>\n",
       "    <tr>\n",
       "      <th>0</th>\n",
       "      <td>0</td>\n",
       "      <td>0.000000</td>\n",
       "      <td>0</td>\n",
       "      <td>812.866667</td>\n",
       "    </tr>\n",
       "    <tr>\n",
       "      <th>1</th>\n",
       "      <td>1</td>\n",
       "      <td>0.806800</td>\n",
       "      <td>0</td>\n",
       "      <td>304.363088</td>\n",
       "    </tr>\n",
       "    <tr>\n",
       "      <th>2</th>\n",
       "      <td>2</td>\n",
       "      <td>1.260544</td>\n",
       "      <td>0</td>\n",
       "      <td>143.526579</td>\n",
       "    </tr>\n",
       "    <tr>\n",
       "      <th>3</th>\n",
       "      <td>3</td>\n",
       "      <td>1.515730</td>\n",
       "      <td>0</td>\n",
       "      <td>92.654995</td>\n",
       "    </tr>\n",
       "    <tr>\n",
       "      <th>4</th>\n",
       "      <td>4</td>\n",
       "      <td>1.659247</td>\n",
       "      <td>0</td>\n",
       "      <td>76.564630</td>\n",
       "    </tr>\n",
       "    <tr>\n",
       "      <th>5</th>\n",
       "      <td>5</td>\n",
       "      <td>1.739960</td>\n",
       "      <td>0</td>\n",
       "      <td>71.475348</td>\n",
       "    </tr>\n",
       "    <tr>\n",
       "      <th>6</th>\n",
       "      <td>6</td>\n",
       "      <td>1.785354</td>\n",
       "      <td>0</td>\n",
       "      <td>69.865640</td>\n",
       "    </tr>\n",
       "    <tr>\n",
       "      <th>7</th>\n",
       "      <td>7</td>\n",
       "      <td>1.810883</td>\n",
       "      <td>0</td>\n",
       "      <td>69.356500</td>\n",
       "    </tr>\n",
       "    <tr>\n",
       "      <th>8</th>\n",
       "      <td>8</td>\n",
       "      <td>1.825241</td>\n",
       "      <td>0</td>\n",
       "      <td>69.195462</td>\n",
       "    </tr>\n",
       "    <tr>\n",
       "      <th>9</th>\n",
       "      <td>9</td>\n",
       "      <td>1.833315</td>\n",
       "      <td>0</td>\n",
       "      <td>69.144526</td>\n",
       "    </tr>\n",
       "    <tr>\n",
       "      <th>10</th>\n",
       "      <td>10</td>\n",
       "      <td>1.837857</td>\n",
       "      <td>0</td>\n",
       "      <td>69.128416</td>\n",
       "    </tr>\n",
       "    <tr>\n",
       "      <th>11</th>\n",
       "      <td>11</td>\n",
       "      <td>1.840411</td>\n",
       "      <td>0</td>\n",
       "      <td>69.123320</td>\n",
       "    </tr>\n",
       "    <tr>\n",
       "      <th>12</th>\n",
       "      <td>12</td>\n",
       "      <td>1.841847</td>\n",
       "      <td>0</td>\n",
       "      <td>69.121708</td>\n",
       "    </tr>\n",
       "    <tr>\n",
       "      <th>13</th>\n",
       "      <td>13</td>\n",
       "      <td>1.842655</td>\n",
       "      <td>0</td>\n",
       "      <td>69.121199</td>\n",
       "    </tr>\n",
       "    <tr>\n",
       "      <th>14</th>\n",
       "      <td>14</td>\n",
       "      <td>1.843109</td>\n",
       "      <td>0</td>\n",
       "      <td>69.121037</td>\n",
       "    </tr>\n",
       "    <tr>\n",
       "      <th>15</th>\n",
       "      <td>15</td>\n",
       "      <td>1.843364</td>\n",
       "      <td>0</td>\n",
       "      <td>69.120986</td>\n",
       "    </tr>\n",
       "    <tr>\n",
       "      <th>16</th>\n",
       "      <td>16</td>\n",
       "      <td>1.843508</td>\n",
       "      <td>0</td>\n",
       "      <td>69.120970</td>\n",
       "    </tr>\n",
       "    <tr>\n",
       "      <th>17</th>\n",
       "      <td>17</td>\n",
       "      <td>1.843589</td>\n",
       "      <td>0</td>\n",
       "      <td>69.120965</td>\n",
       "    </tr>\n",
       "    <tr>\n",
       "      <th>18</th>\n",
       "      <td>18</td>\n",
       "      <td>1.843634</td>\n",
       "      <td>0</td>\n",
       "      <td>69.120964</td>\n",
       "    </tr>\n",
       "    <tr>\n",
       "      <th>19</th>\n",
       "      <td>19</td>\n",
       "      <td>1.843660</td>\n",
       "      <td>0</td>\n",
       "      <td>69.120963</td>\n",
       "    </tr>\n",
       "    <tr>\n",
       "      <th>20</th>\n",
       "      <td>20</td>\n",
       "      <td>1.843674</td>\n",
       "      <td>0</td>\n",
       "      <td>69.120963</td>\n",
       "    </tr>\n",
       "    <tr>\n",
       "      <th>21</th>\n",
       "      <td>21</td>\n",
       "      <td>1.843682</td>\n",
       "      <td>0</td>\n",
       "      <td>69.120963</td>\n",
       "    </tr>\n",
       "    <tr>\n",
       "      <th>22</th>\n",
       "      <td>22</td>\n",
       "      <td>1.843687</td>\n",
       "      <td>0</td>\n",
       "      <td>69.120963</td>\n",
       "    </tr>\n",
       "    <tr>\n",
       "      <th>23</th>\n",
       "      <td>23</td>\n",
       "      <td>1.843690</td>\n",
       "      <td>0</td>\n",
       "      <td>69.120963</td>\n",
       "    </tr>\n",
       "    <tr>\n",
       "      <th>24</th>\n",
       "      <td>24</td>\n",
       "      <td>1.843691</td>\n",
       "      <td>0</td>\n",
       "      <td>69.120963</td>\n",
       "    </tr>\n",
       "  </tbody>\n",
       "</table>\n",
       "</div>"
      ],
      "text/plain": [
       "    Epoch    Weight  Bias        Loss\n",
       "0       0  0.000000     0  812.866667\n",
       "1       1  0.806800     0  304.363088\n",
       "2       2  1.260544     0  143.526579\n",
       "3       3  1.515730     0   92.654995\n",
       "4       4  1.659247     0   76.564630\n",
       "5       5  1.739960     0   71.475348\n",
       "6       6  1.785354     0   69.865640\n",
       "7       7  1.810883     0   69.356500\n",
       "8       8  1.825241     0   69.195462\n",
       "9       9  1.833315     0   69.144526\n",
       "10     10  1.837857     0   69.128416\n",
       "11     11  1.840411     0   69.123320\n",
       "12     12  1.841847     0   69.121708\n",
       "13     13  1.842655     0   69.121199\n",
       "14     14  1.843109     0   69.121037\n",
       "15     15  1.843364     0   69.120986\n",
       "16     16  1.843508     0   69.120970\n",
       "17     17  1.843589     0   69.120965\n",
       "18     18  1.843634     0   69.120964\n",
       "19     19  1.843660     0   69.120963\n",
       "20     20  1.843674     0   69.120963\n",
       "21     21  1.843682     0   69.120963\n",
       "22     22  1.843687     0   69.120963\n",
       "23     23  1.843690     0   69.120963\n",
       "24     24  1.843691     0   69.120963"
      ]
     },
     "execution_count": 10,
     "metadata": {},
     "output_type": "execute_result"
    }
   ],
   "source": [
    "df_w"
   ]
  },
  {
   "cell_type": "markdown",
   "id": "3d29fb7710e566e8",
   "metadata": {},
   "source": [
    "#### Observe   \n",
    "In the dataframe, no change in loss after 20 iterations!  \n",
    "The plot below shows the line for $\\hat{y}$ with a bias.    "
   ]
  },
  {
   "cell_type": "code",
   "execution_count": 11,
   "id": "a6e42c2e064d069f",
   "metadata": {
    "ExecuteTime": {
     "end_time": "2024-03-03T10:09:19.841011200Z",
     "start_time": "2024-03-03T10:09:19.226613900Z"
    },
    "collapsed": false,
    "jupyter": {
     "outputs_hidden": false
    },
    "tags": []
   },
   "outputs": [
    {
     "data": {
      "image/png": "[encoded data removed]",
      "text/plain": [
       "<Figure size 800x300 with 2 Axes>"
      ]
     },
     "metadata": {},
     "output_type": "display_data"
    }
   ],
   "source": [
    "plt.figure(figsize=(8,3))\n",
    "X_ = np.linspace(0,30, 10)\n",
    "\n",
    "plt.subplot(1,2,1)\n",
    "plt.title(\"Before Training\",fontsize=16)\n",
    "plt.scatter(X,Y, alpha=0.5)\n",
    "plt.plot(X_,predict(X_, df_w.iloc[0].Weight, df_w.iloc[0].Bias), color='black', linewidth=2)\n",
    "\n",
    "plt.subplot(1,2,2)\n",
    "plt.title(\"After Training\",fontsize=16)\n",
    "plt.scatter(X,Y, alpha=0.5)\n",
    "plt.plot(X_,predict(X_, df_w.iloc[-1].Weight, df_w.iloc[0].Bias), color='black') #, linewidth=2)\n",
    "\n",
    "plt.subplots_adjust(top=0.8);"
   ]
  },
  {
   "cell_type": "markdown",
   "id": "7f1f6942eb7dcd98",
   "metadata": {},
   "source": [
    "#### Redefine `gradient()` to return gradients for weight and bias    "
   ]
  },
  {
   "cell_type": "code",
   "execution_count": 12,
   "id": "679021b838aa21f2",
   "metadata": {
    "ExecuteTime": {
     "end_time": "2024-03-03T08:23:31.469820300Z",
     "start_time": "2024-03-03T08:23:31.427927600Z"
    },
    "collapsed": false,
    "jupyter": {
     "outputs_hidden": false
    },
    "tags": []
   },
   "outputs": [],
   "source": [
    "def gradient(X, Y, w, b):\n",
    "    w_gradient =  2 * np.average(X * (predict(X, w, b) - Y))\n",
    "    b_gradient =  2 * np.average(predict(X, w, b) - Y)\n",
    "    return(w_gradient, b_gradient) \n",
    "    "
   ]
  },
  {
   "cell_type": "markdown",
   "id": "4a522b61b2c4fad8",
   "metadata": {},
   "source": [
    "#### redefine train method   "
   ]
  },
  {
   "cell_type": "code",
   "execution_count": 13,
   "id": "a48cfadfab98a894",
   "metadata": {
    "ExecuteTime": {
     "end_time": "2024-03-03T08:29:34.365092900Z",
     "start_time": "2024-03-03T08:29:34.322132200Z"
    },
    "collapsed": false,
    "jupyter": {
     "outputs_hidden": false
    },
    "tags": []
   },
   "outputs": [],
   "source": [
    "def train(X, Y, iterations, lr):\n",
    "    data = []\n",
    "    w = b = 0\n",
    "    for i in range(iterations):\n",
    "        current_loss = loss(X, Y, w, b)\n",
    "        data.append(([i, w, b, current_loss]))\n",
    "        w_gradient, b_gradient = gradient(X, Y, w, b)\n",
    "        w -= w_gradient * lr\n",
    "        b -= b_gradient * lr\n",
    "    return w, b, pd.DataFrame(data, columns=['Epoch', 'Weight', 'Bias', 'Loss'])"
   ]
  },
  {
   "cell_type": "code",
   "execution_count": 14,
   "id": "ae5f38c1e7edf3a4",
   "metadata": {
    "ExecuteTime": {
     "end_time": "2024-03-03T08:33:30.968368900Z",
     "start_time": "2024-03-03T08:33:30.287132500Z"
    },
    "collapsed": false,
    "jupyter": {
     "outputs_hidden": false
    },
    "tags": []
   },
   "outputs": [
    {
     "name": "stdout",
     "output_type": "stream",
     "text": [
      "Weight 1.0848258524488616; Bias 13.108507160092502\n"
     ]
    }
   ],
   "source": [
    "w, b, df_  = train(X, Y, iterations=10000, lr=0.001)\n",
    "print(f\"Weight {w}; Bias {b}\")"
   ]
  },
  {
   "cell_type": "code",
   "execution_count": 15,
   "id": "60fc0a6d3da6074b",
   "metadata": {
    "ExecuteTime": {
     "end_time": "2024-03-03T08:33:35.402496Z",
     "start_time": "2024-03-03T08:33:35.386534300Z"
    },
    "collapsed": false,
    "jupyter": {
     "outputs_hidden": false
    },
    "tags": []
   },
   "outputs": [
    {
     "data": {
      "text/html": [
       "<div>\n",
       "<style scoped>\n",
       "    .dataframe tbody tr th:only-of-type {\n",
       "        vertical-align: middle;\n",
       "    }\n",
       "\n",
       "    .dataframe tbody tr th {\n",
       "        vertical-align: top;\n",
       "    }\n",
       "\n",
       "    .dataframe thead th {\n",
       "        text-align: right;\n",
       "    }\n",
       "</style>\n",
       "<table border=\"1\" class=\"dataframe\">\n",
       "  <thead>\n",
       "    <tr style=\"text-align: right;\">\n",
       "      <th></th>\n",
       "      <th>Epoch</th>\n",
       "      <th>Weight</th>\n",
       "      <th>Bias</th>\n",
       "      <th>Loss</th>\n",
       "    </tr>\n",
       "  </thead>\n",
       "  <tbody>\n",
       "    <tr>\n",
       "      <th>9995</th>\n",
       "      <td>9995</td>\n",
       "      <td>1.084836</td>\n",
       "      <td>13.108337</td>\n",
       "      <td>22.843838</td>\n",
       "    </tr>\n",
       "    <tr>\n",
       "      <th>9996</th>\n",
       "      <td>9996</td>\n",
       "      <td>1.084834</td>\n",
       "      <td>13.108371</td>\n",
       "      <td>22.843836</td>\n",
       "    </tr>\n",
       "    <tr>\n",
       "      <th>9997</th>\n",
       "      <td>9997</td>\n",
       "      <td>1.084832</td>\n",
       "      <td>13.108405</td>\n",
       "      <td>22.843835</td>\n",
       "    </tr>\n",
       "    <tr>\n",
       "      <th>9998</th>\n",
       "      <td>9998</td>\n",
       "      <td>1.084830</td>\n",
       "      <td>13.108439</td>\n",
       "      <td>22.843834</td>\n",
       "    </tr>\n",
       "    <tr>\n",
       "      <th>9999</th>\n",
       "      <td>9999</td>\n",
       "      <td>1.084828</td>\n",
       "      <td>13.108473</td>\n",
       "      <td>22.843833</td>\n",
       "    </tr>\n",
       "  </tbody>\n",
       "</table>\n",
       "</div>"
      ],
      "text/plain": [
       "      Epoch    Weight       Bias       Loss\n",
       "9995   9995  1.084836  13.108337  22.843838\n",
       "9996   9996  1.084834  13.108371  22.843836\n",
       "9997   9997  1.084832  13.108405  22.843835\n",
       "9998   9998  1.084830  13.108439  22.843834\n",
       "9999   9999  1.084828  13.108473  22.843833"
      ]
     },
     "execution_count": 15,
     "metadata": {},
     "output_type": "execute_result"
    }
   ],
   "source": [
    "df_.tail()"
   ]
  },
  {
   "cell_type": "markdown",
   "id": "8e5e9562f8ff9986",
   "metadata": {},
   "source": []
  },
  {
   "cell_type": "code",
   "execution_count": 16,
   "id": "567e694279a23213",
   "metadata": {
    "ExecuteTime": {
     "end_time": "2024-03-03T10:11:26.067401400Z",
     "start_time": "2024-03-03T10:11:25.460790Z"
    },
    "collapsed": false,
    "jupyter": {
     "outputs_hidden": false
    },
    "tags": []
   },
   "outputs": [
    {
     "data": {
      "image/png": "[encoded data removed]",
      "text/plain": [
       "<Figure size 800x300 with 2 Axes>"
      ]
     },
     "metadata": {},
     "output_type": "display_data"
    }
   ],
   "source": [
    "plt.figure(figsize=(8,3))\n",
    "X_ = np.linspace(0,30, 10)\n",
    "\n",
    "plt.subplot(1,2,1)\n",
    "plt.title(\"Training only with Weight\",fontsize=14)\n",
    "plt.scatter(X,Y, color= 'brown', alpha=0.5)\n",
    "plt.ylim(0)\n",
    "\n",
    "plt.plot(X_,predict(X_, df_w.iloc[-1].Weight, df_w.iloc[0].Bias), color='black')\n",
    "\n",
    "plt.subplot(1,2,2)\n",
    "plt.title(\"Training with Weight and Bias\",fontsize=14)\n",
    "plt.scatter(X,Y, color= 'brown', alpha=0.5)\n",
    "plt.ylim(0)\n",
    "plt.plot(X_,predict(X_, df_.iloc[-1].Weight, df_.iloc[-1].Bias), color='black') \n",
    "\n",
    "plt.subplots_adjust(top=0.8);"
   ]
  },
  {
   "cell_type": "markdown",
   "id": "454b9c74c1ae6d12",
   "metadata": {},
   "source": [
    "#### Effect of training only with bias  "
   ]
  },
  {
   "cell_type": "code",
   "execution_count": 17,
   "id": "78f8d579652cfae1",
   "metadata": {
    "ExecuteTime": {
     "end_time": "2024-03-03T10:09:58.091601100Z",
     "start_time": "2024-03-03T10:09:58.082493700Z"
    },
    "collapsed": false,
    "jupyter": {
     "outputs_hidden": false
    },
    "tags": []
   },
   "outputs": [],
   "source": [
    "def train_b(X, Y, iterations, lr):\n",
    "    data = []\n",
    "    w = b = 0\n",
    "    for i in range(iterations):\n",
    "        current_loss = loss(X, Y, w, b)\n",
    "        data.append(([i, w, b, current_loss]))\n",
    "        w_gradient, b_gradient = gradient(X, Y, w, b)\n",
    "        w -= w_gradient * lr\n",
    "        b -= b_gradient * lr\n",
    "    return w, b, pd.DataFrame(data, columns=['Epoch', 'Weight', 'Bias', 'Loss'])"
   ]
  },
  {
   "cell_type": "code",
   "execution_count": 18,
   "id": "cd96512e9eeea022",
   "metadata": {
    "ExecuteTime": {
     "end_time": "2024-03-03T10:12:30.379022300Z",
     "start_time": "2024-03-03T10:12:29.480816200Z"
    },
    "collapsed": false,
    "jupyter": {
     "outputs_hidden": false
    },
    "tags": []
   },
   "outputs": [
    {
     "name": "stdout",
     "output_type": "stream",
     "text": [
      "Weight 1.0848258524488616; Bias 13.108507160092502\n"
     ]
    }
   ],
   "source": [
    "w, b, df_b  = train_b(X, Y, iterations=10000, lr=0.001)\n",
    "print(f\"Weight {w}; Bias {b}\")"
   ]
  },
  {
   "cell_type": "markdown",
   "id": "d76db9ebbc3e5323",
   "metadata": {},
   "source": [
    "#### Compare the three training results   "
   ]
  },
  {
   "cell_type": "code",
   "execution_count": 19,
   "id": "bffa447dc6514bc4",
   "metadata": {
    "ExecuteTime": {
     "end_time": "2024-03-03T10:41:49.199835600Z",
     "start_time": "2024-03-03T10:41:48.944440600Z"
    },
    "collapsed": false,
    "jupyter": {
     "outputs_hidden": false
    },
    "tags": []
   },
   "outputs": [
    {
     "data": {
      "image/png": "[encoded data removed]",
      "text/plain": [
       "<Figure size 400x300 with 1 Axes>"
      ]
     },
     "metadata": {},
     "output_type": "display_data"
    }
   ],
   "source": [
    "plt.figure(figsize=(4,3))\n",
    "X_ = np.linspace(0,30, 10)\n",
    "\n",
    "plt.title(\"\\nTraining with Weight, Bias, Weight & Bias\\n\",fontsize=12)\n",
    "plt.scatter(X,Y,  alpha=0.5)\n",
    "plt.ylim(0,60)\n",
    "plt.xlim(0,40)\n",
    "plt.ylabel(\"Pizza Sales\")\n",
    "plt.xlabel(\"Reservations\")\n",
    "\n",
    "p1 = predict(X_, df_b.iloc[-1].Weight, df_b.iloc[0].Bias)\n",
    "p2 = predict(X_, df_.iloc[-1].Weight, df_.iloc[-1].Bias)\n",
    "p3 = predict(X_, df_w.iloc[-1].Weight, df_w.iloc[0].Bias)\n",
    "p_val = list(zip([p1, p2, p3], ['bias', 'bias & wt', 'weight'])) \n",
    "\n",
    "for prediction in p_val: \n",
    "    plt.plot(X_, prediction[0])\n",
    "    plt.text(X_[-1] + 1, prediction[0][-1], prediction[1]) "
   ]
  }
 ],
 "metadata": {
  "kernelspec": {
   "display_name": "Python 3 (ipykernel)",
   "language": "python",
   "name": "python3"
  },
  "language_info": {
   "codemirror_mode": {
    "name": "ipython",
    "version": 3
   },
   "file_extension": ".py",
   "mimetype": "text/x-python",
   "name": "python",
   "nbconvert_exporter": "python",
   "pygments_lexer": "ipython3",
   "version": "3.11.5"
  }
 },
 "nbformat": 4,
 "nbformat_minor": 5
}
