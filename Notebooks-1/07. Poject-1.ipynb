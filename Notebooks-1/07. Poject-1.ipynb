{
 "cells": [
  {
   "cell_type": "markdown",
   "id": "8a26f6ea3801b57d",
   "metadata": {},
   "source": [
    "#### Project"
   ]
  },
  {
   "cell_type": "markdown",
   "id": "d7ba4b234901fad7",
   "metadata": {},
   "source": [
    "CO7: Solve a real-world problem belonging to health/finance by applying machine learning skills\n",
    "\t\t\t\t\t\t\t\t\t\t\t\t\t12 Hours\n",
    "Project selection, project status review-1. Final project submission: source code and report, presentation, and Viva.\n"
   ]
  }
 ],
 "metadata": {
  "kernelspec": {
   "display_name": "Python 3 (ipykernel)",
   "language": "python",
   "name": "python3"
  },
  "language_info": {
   "codemirror_mode": {
    "name": "ipython",
    "version": 3
   },
   "file_extension": ".py",
   "mimetype": "text/x-python",
   "name": "python",
   "nbconvert_exporter": "python",
   "pygments_lexer": "ipython3",
   "version": "3.11.5"
  }
 },
 "nbformat": 4,
 "nbformat_minor": 5
}
